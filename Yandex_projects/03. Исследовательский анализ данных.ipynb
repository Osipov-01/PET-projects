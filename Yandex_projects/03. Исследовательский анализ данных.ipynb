{
 "cells": [
  {
   "cell_type": "markdown",
   "metadata": {},
   "source": [
    "Привет, Иван!\n",
    "\n",
    "Меня зовут Вячеслав Погорелый, и я буду проводить ревью твоего проекта. \n",
    "\n",
    "Предлагаю перейти на \"ты\", если не против)\n",
    "\n",
    "Но если это не удобно - дай знать, и мы перейдем на \"вы\". Моя главная задача — не находить сделанные тобою ошибки, а передать свой опыт и помочь тебе стать аналитиком данных.\n",
    "\n",
    "Я отметил комментарии и замечания разным цветом далее по тексту markdown:\n",
    "\n",
    "---    \n",
    "<div class=\"alert alert-block alert-danger\">\n",
    "    \n",
    "### Ошибка\n",
    "    \n",
    "Критическое замечание, которые следует исправить.\n",
    "</div> \n",
    "    \n",
    "---\n",
    "    \n",
    "<div class=\"alert alert-block alert-warning\">\n",
    "    \n",
    "### Совет\n",
    "    \n",
    "Замечание\\совет на будущее.\n",
    "</div>\n",
    "    \n",
    "---\n",
    "    \n",
    "<div class=\"alert alert-block alert-success\">\n",
    "    \n",
    "### Успех\n",
    "    \n",
    "Когда всё сделано правильно.\n",
    "</div>\n",
    "    \n",
    "    \n",
    "    \n",
    "Будет здорово, если для ответов ты выберешь любой **<font color=\"maroon\">читабельный и заметный цвет</font>**, так мне будет проще все проверить.\n",
    "\n",
    "\n",
    "При доработке проекта попрошу тебя сохранить и не видоизменять заметки ревьюера, это осложняет повторную проверку."
   ]
  },
  {
   "cell_type": "markdown",
   "metadata": {},
   "source": [
    "<div class=\"alert alert-block alert-info\">\n",
    " \n",
    "# Итоговый Комментарий ревьюера ver.2 \n",
    "    \n",
    "#### Успех\n",
    "    \n",
    "Спасибо тебе за исправления замечаний. Вот сейчас уже почти идеально, но все же одно замечание осталось. Необходимо доработать итоговый вывод. Уверен, ты быстро справишься."
   ]
  },
  {
   "cell_type": "markdown",
   "metadata": {},
   "source": [
    "<div class=\"alert alert-block alert-success\">\n",
    " \n",
    "# Итоговый Комментарий ревьюера ver.3 \n",
    "    \n",
    "#### Успех\n",
    "    \n",
    "Спасибо тебе за доработку проекта. Вот теперь я его принимаю и желаю тебе успехов в дальгешей учебе. Ты точно справишься, я уверен."
   ]
  },
  {
   "cell_type": "markdown",
   "metadata": {},
   "source": [
    "# Исследование объявлений о продаже квартир\n",
    "\n",
    "В вашем распоряжении данные сервиса Яндекс.Недвижимость — архив объявлений о продаже квартир в Санкт-Петербурге и соседних населённых пунктов за несколько лет. Нужно научиться определять рыночную стоимость объектов недвижимости. Ваша задача — установить параметры. Это позволит построить автоматизированную систему: она отследит аномалии и мошенническую деятельность. \n",
    "\n",
    "По каждой квартире на продажу доступны два вида данных. Первые вписаны пользователем, вторые — получены автоматически на основе картографических данных. Например, расстояние до центра, аэропорта, ближайшего парка и водоёма. "
   ]
  },
  {
   "cell_type": "markdown",
   "metadata": {},
   "source": [
    "### Откройте файл с данными и изучите общую информацию. "
   ]
  },
  {
   "cell_type": "code",
   "execution_count": 23,
   "metadata": {},
   "outputs": [],
   "source": [
    "#Открываем файл, считываем оттуда данные и сохраняем в переменную data\n",
    "import pandas as pd\n",
    "data = pd.read_csv('/datasets/real_estate_data.csv')\n"
   ]
  },
  {
   "cell_type": "code",
   "execution_count": 24,
   "metadata": {},
   "outputs": [
    {
     "name": "stdout",
     "output_type": "stream",
     "text": [
      "<class 'pandas.core.frame.DataFrame'>\n",
      "RangeIndex: 23699 entries, 0 to 23698\n",
      "Data columns (total 1 columns):\n",
      " #   Column                                                                                                                                                                                                                                                                                           Non-Null Count  Dtype \n",
      "---  ------                                                                                                                                                                                                                                                                                           --------------  ----- \n",
      " 0   total_images\tlast_price\ttotal_area\tfirst_day_exposition\trooms\tceiling_height\tfloors_total\tliving_area\tfloor\tis_apartment\tstudio\topen_plan\tkitchen_area\tbalcony\tlocality_name\tairports_nearest\tcityCenters_nearest\tparks_around3000\tparks_nearest\tponds_around3000\tponds_nearest\tdays_exposition  23699 non-null  object\n",
      "dtypes: object(1)\n",
      "memory usage: 185.3+ KB\n",
      "None\n",
      "\n",
      "  total_images\\tlast_price\\ttotal_area\\tfirst_day_exposition\\trooms\\tceiling_height\\tfloors_total\\tliving_area\\tfloor\\tis_apartment\\tstudio\\topen_plan\\tkitchen_area\\tbalcony\\tlocality_name\\tairports_nearest\\tcityCenters_nearest\\tparks_around3000\\tparks_nearest\\tponds_around3000\\tponds_nearest\\tdays_exposition\n",
      "0  20\\t13000000.0\\t108.0\\t2019-03-07T00:00:00\\t3\\...                                                                                                                                                                                                                                                                  \n",
      "1  7\\t3350000.0\\t40.4\\t2018-12-04T00:00:00\\t1\\t\\t...                                                                                                                                                                                                                                                                  \n",
      "2  10\\t5196000.0\\t56.0\\t2015-08-20T00:00:00\\t2\\t\\...                                                                                                                                                                                                                                                                  \n",
      "3  0\\t64900000.0\\t159.0\\t2015-07-24T00:00:00\\t3\\t...                                                                                                                                                                                                                                                                  \n",
      "4  2\\t10000000.0\\t100.0\\t2018-06-19T00:00:00\\t2\\t...                                                                                                                                                                                                                                                                  \n"
     ]
    }
   ],
   "source": [
    "#Выясняем, что из себя представляют данные\n",
    "print(data.info())\n",
    "print('')\n",
    "print(data.head())"
   ]
  },
  {
   "cell_type": "markdown",
   "metadata": {},
   "source": [
    "**Как оказалось данные здесь сырые, отделены они вместо запятой другим символом - '\\t'**"
   ]
  },
  {
   "cell_type": "code",
   "execution_count": 25,
   "metadata": {},
   "outputs": [
    {
     "name": "stdout",
     "output_type": "stream",
     "text": [
      "   total_images  last_price  total_area first_day_exposition  rooms  \\\n",
      "0            20  13000000.0       108.0  2019-03-07T00:00:00      3   \n",
      "1             7   3350000.0        40.4  2018-12-04T00:00:00      1   \n",
      "2            10   5196000.0        56.0  2015-08-20T00:00:00      2   \n",
      "3             0  64900000.0       159.0  2015-07-24T00:00:00      3   \n",
      "4             2  10000000.0       100.0  2018-06-19T00:00:00      2   \n",
      "\n",
      "   ceiling_height  floors_total  living_area  floor is_apartment  ...  \\\n",
      "0            2.70          16.0         51.0      8          NaN  ...   \n",
      "1             NaN          11.0         18.6      1          NaN  ...   \n",
      "2             NaN           5.0         34.3      4          NaN  ...   \n",
      "3             NaN          14.0          NaN      9          NaN  ...   \n",
      "4            3.03          14.0         32.0     13          NaN  ...   \n",
      "\n",
      "   kitchen_area  balcony    locality_name  airports_nearest  \\\n",
      "0          25.0      NaN  Санкт-Петербург           18863.0   \n",
      "1          11.0      2.0   посёлок Шушары           12817.0   \n",
      "2           8.3      0.0  Санкт-Петербург           21741.0   \n",
      "3           NaN      0.0  Санкт-Петербург           28098.0   \n",
      "4          41.0      NaN  Санкт-Петербург           31856.0   \n",
      "\n",
      "  cityCenters_nearest  parks_around3000  parks_nearest  ponds_around3000  \\\n",
      "0             16028.0               1.0          482.0               2.0   \n",
      "1             18603.0               0.0            NaN               0.0   \n",
      "2             13933.0               1.0           90.0               2.0   \n",
      "3              6800.0               2.0           84.0               3.0   \n",
      "4              8098.0               2.0          112.0               1.0   \n",
      "\n",
      "   ponds_nearest  days_exposition  \n",
      "0          755.0              NaN  \n",
      "1            NaN             81.0  \n",
      "2          574.0            558.0  \n",
      "3          234.0            424.0  \n",
      "4           48.0            121.0  \n",
      "\n",
      "[5 rows x 22 columns]\n"
     ]
    }
   ],
   "source": [
    "#в качестве разделителя данных выберем '\\t' и добавим во входной параметр read_csv\n",
    "#выведем, что в результате изменений вышло\n",
    "data = pd.read_csv('/datasets/real_estate_data.csv', sep='\\t')\n",
    "print(data.head())"
   ]
  },
  {
   "cell_type": "markdown",
   "metadata": {},
   "source": [
    "<div class=\"alert alert-block alert-success\">\n",
    " \n",
    "### Комментарий ревьюера\n",
    "    \n",
    "#### Успех\n",
    "    \n",
    "Библиотеки импортирваны и проект сохранен в переменную. Здорово. "
   ]
  },
  {
   "cell_type": "code",
   "execution_count": 26,
   "metadata": {},
   "outputs": [
    {
     "data": {
      "text/plain": [
       "<function matplotlib.pyplot.show(close=None, block=None)>"
      ]
     },
     "execution_count": 26,
     "metadata": {},
     "output_type": "execute_result"
    },
    {
     "data": {
      "image/png": "[encoded data removed]",
      "text/plain": [
       "<Figure size 1080x1440 with 20 Axes>"
      ]
     },
     "metadata": {
      "needs_background": "light"
     },
     "output_type": "display_data"
    }
   ],
   "source": [
    "#Строим общую гистограмму для всех данных\n",
    "import matplotlib.pyplot as plt \n",
    "data.hist(figsize=(15,20))\n",
    "plt.show"
   ]
  },
  {
   "cell_type": "markdown",
   "metadata": {},
   "source": [
    "В данном разделе былы прочитаны данные с файла, где разделитель был между столбцами не ',', а '\\t' \\\n",
    "Затем были построены гистограммы исходных данных."
   ]
  },
  {
   "cell_type": "markdown",
   "metadata": {},
   "source": [
    "<div class=\"alert alert-block alert-warning\">\n",
    " \n",
    "### Комментарий ревьюера\n",
    "    \n",
    "#### Совет\n",
    "    \n",
    "Чтобы убрать текстовые предупреждения перед графиками, используй plt.show() "
   ]
  },
  {
   "cell_type": "markdown",
   "metadata": {},
   "source": [
    "<div class=\"alert alert-block alert-danger\">\n",
    " \n",
    "### Комментарий ревьюера\n",
    "    \n",
    "#### Ошибка\n",
    "    \n",
    "Тут надо бы добавить небольшой промежуточный вывод. В нем обычно пишут то, что заметили в ходе знакомства с данными. "
   ]
  },
  {
   "cell_type": "markdown",
   "metadata": {},
   "source": [
    "<div class=\"alert alert-block alert-success\">\n",
    " \n",
    "# Комментарий ревьюера ver.2 \n",
    "    \n",
    "#### Успех\n",
    "    \n",
    "Так намного лучше. "
   ]
  },
  {
   "cell_type": "markdown",
   "metadata": {},
   "source": [
    "### Предобработка данных"
   ]
  },
  {
   "cell_type": "code",
   "execution_count": 27,
   "metadata": {},
   "outputs": [
    {
     "data": {
      "text/plain": [
       "total_images                0\n",
       "last_price                  0\n",
       "total_area                  0\n",
       "first_day_exposition        0\n",
       "rooms                       0\n",
       "ceiling_height           9195\n",
       "floors_total               86\n",
       "living_area              1903\n",
       "floor                       0\n",
       "is_apartment            20924\n",
       "studio                      0\n",
       "open_plan                   0\n",
       "kitchen_area             2278\n",
       "balcony                 11519\n",
       "locality_name              49\n",
       "airports_nearest         5542\n",
       "cityCenters_nearest      5519\n",
       "parks_around3000         5518\n",
       "parks_nearest           15620\n",
       "ponds_around3000         5518\n",
       "ponds_nearest           14589\n",
       "days_exposition          3181\n",
       "dtype: int64"
      ]
     },
     "execution_count": 27,
     "metadata": {},
     "output_type": "execute_result"
    }
   ],
   "source": [
    "#Определим, в каких столбцах есть пропуски\n",
    "data.isnull().sum()"
   ]
  },
  {
   "cell_type": "code",
   "execution_count": 28,
   "metadata": {},
   "outputs": [],
   "source": [
    "#Заполним старую версию данных для дальнейшего сравнения их с обработанными\n",
    "old_data = data\n",
    "\n",
    "# Заполним пропуски там, где это возможно\n",
    "data['ceiling_height'] = data['ceiling_height'].fillna(data['ceiling_height'].median()) #Высота потолков\n",
    "data['living_area'] = data['living_area'].fillna(data['living_area'].median()) #Жилая площадь\n",
    "data['kitchen_area'] = data['kitchen_area'].fillna(data['kitchen_area'].median()) #Площадь кухни\n",
    "data['days_exposition'] = data['days_exposition'].fillna(data['days_exposition'].median()) #Количество балконов\n",
    "data['airports_nearest'] = data['airports_nearest'].fillna(data['airports_nearest'].median()) #расстояние до ближайшего аэропорта в метрах (м)\n",
    "data['cityCenters_nearest'] = data['cityCenters_nearest'].fillna(data['cityCenters_nearest'].median()) #расстояние до центра города (м)\n",
    "data['parks_nearest'] = data['parks_nearest'].fillna(data['parks_nearest'].median()) #расстояние до ближайшего парка (м)\n",
    "data['ponds_nearest'] = data['ponds_nearest'].fillna(data['ponds_nearest'].median()) #расстояние до ближайшего водоёма (м)\n",
    "\n",
    "data['is_apartment'] = data['is_apartment'].fillna(value=False) #Апартаменты\n",
    "\n",
    "data['balcony'] = data['balcony'].fillna(0) #Количество балконов\n",
    "data['parks_around3000'] = data['parks_around3000'].fillna(0) #число парков в радиусе 3 км\n",
    "data['ponds_around3000'] = data['ponds_around3000'].fillna(0) #число водоёмов в радиусе 3 км\n",
    "\n",
    "\n",
    "# Удаляем записи, где отсутствует название нас. пункта, этажность\n",
    "data.dropna(subset=['floors_total'], inplace=True)\n",
    "data.dropna(subset=['locality_name'], inplace=True)\n",
    "data = data.reset_index(drop=True)"
   ]
  },
  {
   "cell_type": "markdown",
   "metadata": {},
   "source": [
    "В столбцах 'ceiling_height', 'living_area', 'kitchen_area', 'days_exposition', 'airports_nearest', 'cityCenters_nearest', 'parks_nearest', 'ponds_nearest' пропуски заполнялись медианным значением, т.к. эти столбцы точно должно быть заполнены ненулевыми значениями, а медианные значения не сильно исказят данные.\\\n",
    "\\\n",
    "В столбце 'is_apartment' пропуск значений, вероятно, связан с тем, что квартира не является апартаментом. \\\n",
    "\\\n",
    "В столбцах 'balcony', 'parks_around3000', 'ponds_around3000' указывается число определенных объектов, поэтому, возможно, данные не заполнялись, там где нет объектов, т.е. их число равно 0. \\\n",
    "\\\n",
    "В данном случае удалялись строки, в столбцах которых, а именно в 'floors_total', 'locality_name' отсутствовали значения, т.к. невозможно определить, что за дом: 5-этажный или 60-этажный или населенный пункт: из-за слишком разных расстояний до центра, парка, водоёма, аэропорта; очень большая разница."
   ]
  },
  {
   "cell_type": "markdown",
   "metadata": {},
   "source": [
    "<div class=\"alert alert-block alert-danger\">\n",
    " \n",
    "### Комментарий ревьюера\n",
    "    \n",
    "#### Ошибка\n",
    "    \n",
    "В целом, все достаточно неплохо, правда надо дать пояснения почему ты решаешь обработать пропуски именно так? "
   ]
  },
  {
   "cell_type": "markdown",
   "metadata": {},
   "source": [
    "<div class=\"alert alert-block alert-success\">\n",
    " \n",
    "# Комментарий ревьюера ver.2 \n",
    "    \n",
    "#### Успех\n",
    "    \n",
    "Здорово теперь. "
   ]
  },
  {
   "cell_type": "code",
   "execution_count": 29,
   "metadata": {},
   "outputs": [
    {
     "data": {
      "text/plain": [
       "total_images            0\n",
       "last_price              0\n",
       "total_area              0\n",
       "first_day_exposition    0\n",
       "rooms                   0\n",
       "ceiling_height          0\n",
       "floors_total            0\n",
       "living_area             0\n",
       "floor                   0\n",
       "is_apartment            0\n",
       "studio                  0\n",
       "open_plan               0\n",
       "kitchen_area            0\n",
       "balcony                 0\n",
       "locality_name           0\n",
       "airports_nearest        0\n",
       "cityCenters_nearest     0\n",
       "parks_around3000        0\n",
       "parks_nearest           0\n",
       "ponds_around3000        0\n",
       "ponds_nearest           0\n",
       "days_exposition         0\n",
       "dtype: int64"
      ]
     },
     "execution_count": 29,
     "metadata": {},
     "output_type": "execute_result"
    }
   ],
   "source": [
    "#Определим, в каких столбцах есть пропуски после заполнения\n",
    "data.isnull().sum()"
   ]
  },
  {
   "cell_type": "markdown",
   "metadata": {},
   "source": [
    "**Возможные причины пропусков в данных: человеческий фактор (пропустили данные), неправильно преобразовались данные при их записи/считывании или, возможно, что в столбцах с численным типом значения равны 0, поэтому ничего не вписывали туда**"
   ]
  },
  {
   "cell_type": "markdown",
   "metadata": {},
   "source": [
    "<div class=\"alert alert-block alert-success\">\n",
    " \n",
    "### Комментарий ревьюера\n",
    "    \n",
    "#### Успех\n",
    "    \n",
    "Логично, соглашусь. "
   ]
  },
  {
   "cell_type": "code",
   "execution_count": 31,
   "metadata": {},
   "outputs": [
    {
     "name": "stdout",
     "output_type": "stream",
     "text": [
      "total_images              int64\n",
      "last_price              float64\n",
      "total_area              float64\n",
      "first_day_exposition     object\n",
      "rooms                     int64\n",
      "ceiling_height          float64\n",
      "floors_total            float64\n",
      "living_area             float64\n",
      "floor                     int64\n",
      "is_apartment               bool\n",
      "studio                     bool\n",
      "open_plan                  bool\n",
      "kitchen_area            float64\n",
      "balcony                 float64\n",
      "locality_name            object\n",
      "airports_nearest        float64\n",
      "cityCenters_nearest     float64\n",
      "parks_around3000        float64\n",
      "parks_nearest           float64\n",
      "ponds_around3000        float64\n",
      "ponds_nearest           float64\n",
      "days_exposition         float64\n",
      "dtype: object\n"
     ]
    }
   ],
   "source": [
    "# Определим типы столбцов\n",
    "print(data.dtypes)"
   ]
  },
  {
   "cell_type": "markdown",
   "metadata": {},
   "source": [
    "По приведенным данным, можно заметить, что в столбце 'first_day_exposition' хранятся данные даты публикации объявления, но данный столбец имеет тип данных 'object'"
   ]
  },
  {
   "cell_type": "code",
   "execution_count": 32,
   "metadata": {},
   "outputs": [
    {
     "name": "stdout",
     "output_type": "stream",
     "text": [
      "   total_images  last_price  total_area first_day_exposition  rooms  \\\n",
      "0            20  13000000.0       108.0           2019-03-07      3   \n",
      "1             7   3350000.0        40.4           2018-12-04      1   \n",
      "2            10   5196000.0        56.0           2015-08-20      2   \n",
      "3             0  64900000.0       159.0           2015-07-24      3   \n",
      "4             2  10000000.0       100.0           2018-06-19      2   \n",
      "\n",
      "   ceiling_height  floors_total  living_area  floor  is_apartment  ...  \\\n",
      "0            2.70          16.0         51.0      8         False  ...   \n",
      "1            2.65          11.0         18.6      1         False  ...   \n",
      "2            2.65           5.0         34.3      4         False  ...   \n",
      "3            2.65          14.0         30.0      9         False  ...   \n",
      "4            3.03          14.0         32.0     13         False  ...   \n",
      "\n",
      "   kitchen_area  balcony    locality_name  airports_nearest  \\\n",
      "0          25.0      0.0  Санкт-Петербург           18863.0   \n",
      "1          11.0      2.0   посёлок Шушары           12817.0   \n",
      "2           8.3      0.0  Санкт-Петербург           21741.0   \n",
      "3           9.1      0.0  Санкт-Петербург           28098.0   \n",
      "4          41.0      0.0  Санкт-Петербург           31856.0   \n",
      "\n",
      "  cityCenters_nearest  parks_around3000  parks_nearest  ponds_around3000  \\\n",
      "0             16028.0               1.0          482.0               2.0   \n",
      "1             18603.0               0.0          455.0               0.0   \n",
      "2             13933.0               1.0           90.0               2.0   \n",
      "3              6800.0               2.0           84.0               3.0   \n",
      "4              8098.0               2.0          112.0               1.0   \n",
      "\n",
      "   ponds_nearest  days_exposition  \n",
      "0          755.0             95.0  \n",
      "1          502.0             81.0  \n",
      "2          574.0            558.0  \n",
      "3          234.0            424.0  \n",
      "4           48.0            121.0  \n",
      "\n",
      "[5 rows x 22 columns]\n"
     ]
    }
   ],
   "source": [
    "# Преобразуем этот столбец в datetime\n",
    "data['first_day_exposition'] = pd.to_datetime(\n",
    "    data['first_day_exposition'], format = '%Y-%m-%dT%H:%M:%S'\n",
    ")\n",
    "# Выведем первые 5 строк данных, что в итоге получилось\n",
    "print(data.head())\n"
   ]
  },
  {
   "cell_type": "markdown",
   "metadata": {},
   "source": [
    "<div class=\"alert alert-block alert-success\">\n",
    " \n",
    "### Комментарий ревьюера\n",
    "    \n",
    "#### Успех\n",
    "    \n",
    "Здесь ты верно переводишь в формат данных. "
   ]
  },
  {
   "cell_type": "markdown",
   "metadata": {},
   "source": [
    "Столбец 'first_day_exposition' хранятся данные даты публикации объявления, поэтому и преобразовали его в тип даты и времени 'datetime'"
   ]
  },
  {
   "cell_type": "code",
   "execution_count": 33,
   "metadata": {},
   "outputs": [
    {
     "name": "stdout",
     "output_type": "stream",
     "text": [
      "['Санкт-Петербург' 'посёлок Шушары' 'городской посёлок Янино-1'\n",
      " 'посёлок Парголово' 'посёлок Мурино' 'Ломоносов' 'Сертолово' 'Петергоф'\n",
      " 'Пушкин' 'деревня Кудрово' 'Коммунар' 'Колпино'\n",
      " 'поселок городского типа Красный Бор' 'Гатчина' 'поселок Мурино'\n",
      " 'деревня Фёдоровское' 'Выборг' 'Кронштадт' 'Кировск'\n",
      " 'деревня Новое Девяткино' 'посёлок Металлострой'\n",
      " 'посёлок городского типа Лебяжье' 'посёлок городского типа Сиверский'\n",
      " 'поселок Молодцово' 'поселок городского типа Кузьмоловский'\n",
      " 'садовое товарищество Новая Ропша' 'Павловск' 'деревня Пикколово'\n",
      " 'Всеволожск' 'Волхов' 'Кингисепп' 'Приозерск' 'Сестрорецк'\n",
      " 'деревня Куттузи' 'посёлок Аннино' 'поселок городского типа Ефимовский'\n",
      " 'посёлок Плодовое' 'деревня Заклинье' 'поселок Торковичи'\n",
      " 'поселок Первомайское' 'Красное Село' 'посёлок Понтонный' 'Сясьстрой'\n",
      " 'деревня Старая' 'деревня Лесколово' 'посёлок Новый Свет' 'Сланцы'\n",
      " 'село Путилово' 'Ивангород' 'Мурино' 'Шлиссельбург' 'Никольское'\n",
      " 'Зеленогорск' 'Сосновый Бор' 'поселок Новый Свет' 'деревня Оржицы'\n",
      " 'деревня Кальтино' 'Кудрово' 'поселок Романовка' 'посёлок Бугры'\n",
      " 'поселок Бугры' 'поселок городского типа Рощино' 'Кириши' 'Луга'\n",
      " 'Волосово' 'Отрадное' 'село Павлово' 'поселок Оредеж' 'село Копорье'\n",
      " 'посёлок городского типа Красный Бор' 'посёлок Молодёжное' 'Тихвин'\n",
      " 'посёлок Победа' 'деревня Нурма' 'поселок городского типа Синявино'\n",
      " 'Тосно' 'посёлок городского типа Кузьмоловский' 'посёлок Стрельна'\n",
      " 'Бокситогорск' 'посёлок Александровская' 'деревня Лопухинка' 'Пикалёво'\n",
      " 'поселок Терволово' 'поселок городского типа Советский' 'Подпорожье'\n",
      " 'посёлок Петровское' 'посёлок городского типа Токсово' 'поселок Сельцо'\n",
      " 'посёлок городского типа Вырица' 'деревня Кипень' 'деревня Келози'\n",
      " 'деревня Вартемяги' 'посёлок Тельмана' 'поселок Севастьяново'\n",
      " 'городской поселок Большая Ижора' 'городской посёлок Павлово'\n",
      " 'деревня Агалатово' 'посёлок Новогорелово'\n",
      " 'городской посёлок Лесогорский' 'деревня Лаголово' 'поселок Цвелодубово'\n",
      " 'поселок городского типа Рахья' 'поселок городского типа Вырица'\n",
      " 'деревня Белогорка' 'поселок Заводской' 'городской посёлок Новоселье'\n",
      " 'деревня Большие Колпаны' 'деревня Горбунки' 'деревня Батово'\n",
      " 'деревня Заневка' 'деревня Иссад' 'Приморск'\n",
      " 'городской посёлок Фёдоровское' 'деревня Мистолово' 'Новая Ладога'\n",
      " 'поселок Зимитицы' 'поселок Барышево' 'деревня Разметелево'\n",
      " 'поселок городского типа имени Свердлова' 'деревня Пеники'\n",
      " 'поселок Рябово' 'деревня Пудомяги' 'поселок станции Корнево'\n",
      " 'деревня Низино' 'деревня Бегуницы' 'посёлок Поляны'\n",
      " 'городской посёлок Мга' 'поселок Елизаветино'\n",
      " 'посёлок городского типа Кузнечное' 'деревня Колтуши'\n",
      " 'поселок Запорожское' 'посёлок городского типа Рощино'\n",
      " 'деревня Гостилицы' 'деревня Малое Карлино' 'посёлок Мичуринское'\n",
      " 'посёлок городского типа имени Морозова' 'посёлок Песочный'\n",
      " 'посёлок Сосново' 'деревня Аро' 'поселок Ильичёво'\n",
      " 'посёлок городского типа Тайцы' 'деревня Малое Верево' 'деревня Извара'\n",
      " 'поселок станции Вещево' 'село Паша' 'деревня Калитино'\n",
      " 'посёлок городского типа Ульяновка' 'деревня Чудской Бор'\n",
      " 'поселок городского типа Дубровка' 'деревня Мины' 'поселок Войсковицы'\n",
      " 'посёлок городского типа имени Свердлова' 'деревня Коркино'\n",
      " 'посёлок Ропша' 'поселок городского типа Приладожский' 'посёлок Щеглово'\n",
      " 'посёлок Гаврилово' 'Лодейное Поле' 'деревня Рабитицы'\n",
      " 'поселок городского типа Никольский' 'деревня Кузьмолово'\n",
      " 'деревня Малые Колпаны' 'поселок Тельмана' 'посёлок Петро-Славянка'\n",
      " 'городской посёлок Назия' 'посёлок Репино' 'посёлок Ильичёво'\n",
      " 'поселок Углово' 'поселок Старая Малукса' 'садовое товарищество Рахья'\n",
      " 'поселок Аннино' 'поселок Победа' 'деревня Меньково'\n",
      " 'деревня Старые Бегуницы' 'посёлок Сапёрный' 'поселок Семрино'\n",
      " 'поселок Гаврилово' 'поселок Глажево' 'поселок Кобринское'\n",
      " 'деревня Гарболово' 'деревня Юкки' 'поселок станции Приветнинское'\n",
      " 'деревня Мануйлово' 'деревня Пчева' 'поселок Поляны' 'поселок Цвылёво'\n",
      " 'поселок Мельниково' 'посёлок Пудость' 'посёлок Усть-Луга' 'Светогорск'\n",
      " 'Любань' 'поселок Селезнёво' 'поселок городского типа Рябово'\n",
      " 'Каменногорск' 'деревня Кривко' 'поселок Глебычево' 'деревня Парицы'\n",
      " 'поселок Жилпосёлок' 'посёлок городского типа Мга'\n",
      " 'городской поселок Янино-1' 'посёлок Войскорово' 'село Никольское'\n",
      " 'посёлок Терволово' 'поселок Стеклянный' 'посёлок городского типа Важины'\n",
      " 'посёлок Мыза-Ивановка' 'село Русско-Высоцкое'\n",
      " 'поселок городского типа Лебяжье' 'поселок городского типа Форносово'\n",
      " 'село Старая Ладога' 'поселок Житково' 'городской посёлок Виллози'\n",
      " 'деревня Лампово' 'деревня Шпаньково' 'деревня Лаврики' 'посёлок Сумино'\n",
      " 'посёлок Возрождение' 'деревня Старосиверская' 'посёлок Кикерино'\n",
      " 'поселок Возрождение' 'деревня Старое Хинколово' 'посёлок Пригородный'\n",
      " 'посёлок Торфяное' 'городской посёлок Будогощь' 'поселок Суходолье'\n",
      " 'поселок Красная Долина' 'деревня Хапо-Ое'\n",
      " 'поселок городского типа Дружная Горка' 'поселок Лисий Нос'\n",
      " 'деревня Яльгелево' 'посёлок Стеклянный' 'село Рождествено'\n",
      " 'деревня Старополье' 'посёлок Левашово' 'деревня Сяськелево'\n",
      " 'деревня Камышовка'\n",
      " 'садоводческое некоммерческое товарищество Лесная Поляна'\n",
      " 'деревня Хязельки' 'поселок Жилгородок' 'посёлок городского типа Павлово'\n",
      " 'деревня Ялгино' 'поселок Новый Учхоз' 'городской посёлок Рощино'\n",
      " 'поселок Гончарово' 'поселок Почап' 'посёлок Сапёрное'\n",
      " 'посёлок Платформа 69-й километр' 'поселок Каложицы' 'деревня Фалилеево'\n",
      " 'деревня Пельгора' 'поселок городского типа Лесогорский'\n",
      " 'деревня Торошковичи' 'посёлок Белоостров' 'посёлок Алексеевка'\n",
      " 'поселок Серебрянский' 'поселок Лукаши' 'поселок Петровское'\n",
      " 'деревня Щеглово' 'поселок Мичуринское' 'деревня Тарасово'\n",
      " 'поселок Кингисеппский' 'посёлок при железнодорожной станции Вещево'\n",
      " 'поселок Ушаки' 'деревня Котлы' 'деревня Сижно' 'деревня Торосово'\n",
      " 'посёлок Форт Красная Горка' 'деревня Новолисино'\n",
      " 'посёлок станции Громово' 'деревня Глинка' 'посёлок Мельниково'\n",
      " 'поселок городского типа Назия' 'деревня Старая Пустошь'\n",
      " 'поселок Коммунары' 'поселок Починок'\n",
      " 'посёлок городского типа Вознесенье' 'деревня Разбегаево'\n",
      " 'посёлок городского типа Рябово' 'поселок Гладкое'\n",
      " 'посёлок при железнодорожной станции Приветнинское' 'поселок Тёсово-4'\n",
      " 'посёлок Жилгородок' 'деревня Бор' 'посёлок Коробицыно'\n",
      " 'деревня Большая Вруда' 'деревня Курковицы' 'посёлок Лисий Нос'\n",
      " 'городской посёлок Советский' 'посёлок Кобралово' 'деревня Суоранда'\n",
      " 'поселок Кобралово' 'поселок городского типа Кондратьево'\n",
      " 'коттеджный поселок Счастье' 'поселок Любань' 'деревня Реброво'\n",
      " 'деревня Зимитицы' 'деревня Тойворово' 'поселок Семиозерье'\n",
      " 'поселок Лесное' 'поселок Совхозный' 'поселок Усть-Луга'\n",
      " 'посёлок Ленинское' 'посёлок Суйда' 'посёлок городского типа Форносово'\n",
      " 'деревня Нижние Осельки' 'посёлок станции Свирь' 'поселок Перово'\n",
      " 'Высоцк' 'поселок Гарболово' 'село Шум' 'поселок Котельский'\n",
      " 'поселок станции Лужайка' 'деревня Большая Пустомержа'\n",
      " 'поселок Красносельское' 'деревня Вахнова Кара' 'деревня Пижма'\n",
      " 'коттеджный поселок Кивеннапа Север' 'поселок Коробицыно'\n",
      " 'поселок Ромашки' 'посёлок Перово' 'деревня Каськово' 'деревня Куровицы'\n",
      " 'посёлок Плоское' 'поселок Сумино'\n",
      " 'поселок городского типа Большая Ижора' 'поселок Кирпичное'\n",
      " 'деревня Ям-Тесово' 'деревня Раздолье' 'деревня Терпилицы'\n",
      " 'поселок городского типа Токсово' 'посёлок Шугозеро' 'деревня Ваганово'\n",
      " 'поселок Пушное' 'садовое товарищество Садко' 'посёлок Усть-Ижора'\n",
      " 'деревня Выскатка' 'городской посёлок Свирьстрой' 'поселок Громово'\n",
      " 'деревня Кисельня' 'посёлок Старая Малукса' 'деревня Трубников Бор'\n",
      " 'поселок Калитино' 'посёлок Высокоключевой'\n",
      " 'садовое товарищество Приладожский' 'посёлок Пансионат Зелёный Бор'\n",
      " 'деревня Ненимяки' 'поселок Пансионат Зелёный Бор' 'деревня Снегирёвка'\n",
      " 'деревня Рапполово' 'деревня Пустынка' 'поселок Рабитицы'\n",
      " 'деревня Большой Сабск' 'деревня Русско' 'деревня Лупполово'\n",
      " 'деревня Большое Рейзино' 'деревня Малая Романовка' 'поселок Дружноселье'\n",
      " 'поселок Пчевжа' 'поселок Володарское' 'деревня Нижняя'\n",
      " 'коттеджный посёлок Лесное' 'деревня Тихковицы' 'деревня Борисова Грива'\n",
      " 'посёлок Дзержинского']\n"
     ]
    }
   ],
   "source": [
    "# Выведем уникальные значения столбца 'locality_name'\n",
    "print(data['locality_name'].unique())"
   ]
  },
  {
   "cell_type": "code",
   "execution_count": 34,
   "metadata": {},
   "outputs": [],
   "source": [
    "#Напишем функцию для выделения только названий населенных пунктов\n",
    "def locality_name(row):\n",
    "    locality_name = row['locality_name']\n",
    "    for i in range(len(locality_name)):\n",
    "        if locality_name[i].isupper():\n",
    "            locality_name = locality_name[i:]\n",
    "            break\n",
    "    return locality_name\n",
    "    "
   ]
  },
  {
   "cell_type": "code",
   "execution_count": 35,
   "metadata": {},
   "outputs": [
    {
     "name": "stdout",
     "output_type": "stream",
     "text": [
      "['Санкт-Петербург' 'Шушары' 'Янино-1' 'Парголово' 'Мурино' 'Ломоносов'\n",
      " 'Сертолово' 'Петергоф' 'Пушкин' 'Кудрово' 'Коммунар' 'Колпино'\n",
      " 'Красный Бор' 'Гатчина' 'Фёдоровское' 'Выборг' 'Кронштадт' 'Кировск'\n",
      " 'Новое Девяткино' 'Металлострой' 'Лебяжье' 'Сиверский' 'Молодцово'\n",
      " 'Кузьмоловский' 'Новая Ропша' 'Павловск' 'Пикколово' 'Всеволожск'\n",
      " 'Волхов' 'Кингисепп' 'Приозерск' 'Сестрорецк' 'Куттузи' 'Аннино'\n",
      " 'Ефимовский' 'Плодовое' 'Заклинье' 'Торковичи' 'Первомайское'\n",
      " 'Красное Село' 'Понтонный' 'Сясьстрой' 'Старая' 'Лесколово' 'Новый Свет'\n",
      " 'Сланцы' 'Путилово' 'Ивангород' 'Шлиссельбург' 'Никольское' 'Зеленогорск'\n",
      " 'Сосновый Бор' 'Оржицы' 'Кальтино' 'Романовка' 'Бугры' 'Рощино' 'Кириши'\n",
      " 'Луга' 'Волосово' 'Отрадное' 'Павлово' 'Оредеж' 'Копорье' 'Молодёжное'\n",
      " 'Тихвин' 'Победа' 'Нурма' 'Синявино' 'Тосно' 'Стрельна' 'Бокситогорск'\n",
      " 'Александровская' 'Лопухинка' 'Пикалёво' 'Терволово' 'Советский'\n",
      " 'Подпорожье' 'Петровское' 'Токсово' 'Сельцо' 'Вырица' 'Кипень' 'Келози'\n",
      " 'Вартемяги' 'Тельмана' 'Севастьяново' 'Большая Ижора' 'Агалатово'\n",
      " 'Новогорелово' 'Лесогорский' 'Лаголово' 'Цвелодубово' 'Рахья' 'Белогорка'\n",
      " 'Заводской' 'Новоселье' 'Большие Колпаны' 'Горбунки' 'Батово' 'Заневка'\n",
      " 'Иссад' 'Приморск' 'Мистолово' 'Новая Ладога' 'Зимитицы' 'Барышево'\n",
      " 'Разметелево' 'Свердлова' 'Пеники' 'Рябово' 'Пудомяги' 'Корнево' 'Низино'\n",
      " 'Бегуницы' 'Поляны' 'Мга' 'Елизаветино' 'Кузнечное' 'Колтуши'\n",
      " 'Запорожское' 'Гостилицы' 'Малое Карлино' 'Мичуринское' 'Морозова'\n",
      " 'Песочный' 'Сосново' 'Аро' 'Ильичёво' 'Тайцы' 'Малое Верево' 'Извара'\n",
      " 'Вещево' 'Паша' 'Калитино' 'Ульяновка' 'Чудской Бор' 'Дубровка' 'Мины'\n",
      " 'Войсковицы' 'Коркино' 'Ропша' 'Приладожский' 'Щеглово' 'Гаврилово'\n",
      " 'Лодейное Поле' 'Рабитицы' 'Никольский' 'Кузьмолово' 'Малые Колпаны'\n",
      " 'Петро-Славянка' 'Назия' 'Репино' 'Углово' 'Старая Малукса' 'Меньково'\n",
      " 'Старые Бегуницы' 'Сапёрный' 'Семрино' 'Глажево' 'Кобринское' 'Гарболово'\n",
      " 'Юкки' 'Приветнинское' 'Мануйлово' 'Пчева' 'Цвылёво' 'Мельниково'\n",
      " 'Пудость' 'Усть-Луга' 'Светогорск' 'Любань' 'Селезнёво' 'Каменногорск'\n",
      " 'Кривко' 'Глебычево' 'Парицы' 'Жилпосёлок' 'Войскорово' 'Стеклянный'\n",
      " 'Важины' 'Мыза-Ивановка' 'Русско-Высоцкое' 'Форносово' 'Старая Ладога'\n",
      " 'Житково' 'Виллози' 'Лампово' 'Шпаньково' 'Лаврики' 'Сумино'\n",
      " 'Возрождение' 'Старосиверская' 'Кикерино' 'Старое Хинколово'\n",
      " 'Пригородный' 'Торфяное' 'Будогощь' 'Суходолье' 'Красная Долина'\n",
      " 'Хапо-Ое' 'Дружная Горка' 'Лисий Нос' 'Яльгелево' 'Рождествено'\n",
      " 'Старополье' 'Левашово' 'Сяськелево' 'Камышовка' 'Лесная Поляна'\n",
      " 'Хязельки' 'Жилгородок' 'Ялгино' 'Новый Учхоз' 'Гончарово' 'Почап'\n",
      " 'Сапёрное' 'Платформа 69-й километр' 'Каложицы' 'Фалилеево' 'Пельгора'\n",
      " 'Торошковичи' 'Белоостров' 'Алексеевка' 'Серебрянский' 'Лукаши'\n",
      " 'Тарасово' 'Кингисеппский' 'Ушаки' 'Котлы' 'Сижно' 'Торосово'\n",
      " 'Форт Красная Горка' 'Новолисино' 'Громово' 'Глинка' 'Старая Пустошь'\n",
      " 'Коммунары' 'Починок' 'Вознесенье' 'Разбегаево' 'Гладкое' 'Тёсово-4'\n",
      " 'Бор' 'Коробицыно' 'Большая Вруда' 'Курковицы' 'Кобралово' 'Суоранда'\n",
      " 'Кондратьево' 'Счастье' 'Реброво' 'Тойворово' 'Семиозерье' 'Лесное'\n",
      " 'Совхозный' 'Ленинское' 'Суйда' 'Нижние Осельки' 'Свирь' 'Перово'\n",
      " 'Высоцк' 'Шум' 'Котельский' 'Лужайка' 'Большая Пустомержа'\n",
      " 'Красносельское' 'Вахнова Кара' 'Пижма' 'Кивеннапа Север' 'Ромашки'\n",
      " 'Каськово' 'Куровицы' 'Плоское' 'Кирпичное' 'Ям-Тесово' 'Раздолье'\n",
      " 'Терпилицы' 'Шугозеро' 'Ваганово' 'Пушное' 'Садко' 'Усть-Ижора'\n",
      " 'Выскатка' 'Свирьстрой' 'Кисельня' 'Трубников Бор' 'Высокоключевой'\n",
      " 'Пансионат Зелёный Бор' 'Ненимяки' 'Снегирёвка' 'Рапполово' 'Пустынка'\n",
      " 'Большой Сабск' 'Русско' 'Лупполово' 'Большое Рейзино' 'Малая Романовка'\n",
      " 'Дружноселье' 'Пчевжа' 'Володарское' 'Нижняя' 'Тихковицы'\n",
      " 'Борисова Грива' 'Дзержинского']\n"
     ]
    }
   ],
   "source": [
    "# Создадим новый столбец с отображением названий населенных пунктов\n",
    "data['locality_name_new'] = data.apply(locality_name, axis=1)\n",
    "# Выведем получившийся столбец\n",
    "print(data['locality_name_new'].unique())"
   ]
  },
  {
   "cell_type": "markdown",
   "metadata": {},
   "source": [
    "<div class=\"alert alert-block alert-success\">\n",
    " \n",
    "### Комментарий ревьюера\n",
    "    \n",
    "#### Успех\n",
    "    \n",
    "Достаточно хорошо получилось и без лишнего. "
   ]
  },
  {
   "cell_type": "code",
   "execution_count": 36,
   "metadata": {},
   "outputs": [
    {
     "data": {
      "text/html": [
       "<div>\n",
       "<style scoped>\n",
       "    .dataframe tbody tr th:only-of-type {\n",
       "        vertical-align: middle;\n",
       "    }\n",
       "\n",
       "    .dataframe tbody tr th {\n",
       "        vertical-align: top;\n",
       "    }\n",
       "\n",
       "    .dataframe thead th {\n",
       "        text-align: right;\n",
       "    }\n",
       "</style>\n",
       "<table border=\"1\" class=\"dataframe\">\n",
       "  <thead>\n",
       "    <tr style=\"text-align: right;\">\n",
       "      <th></th>\n",
       "      <th>total_images</th>\n",
       "      <th>last_price</th>\n",
       "      <th>total_area</th>\n",
       "      <th>rooms</th>\n",
       "      <th>ceiling_height</th>\n",
       "      <th>floors_total</th>\n",
       "      <th>living_area</th>\n",
       "      <th>floor</th>\n",
       "      <th>kitchen_area</th>\n",
       "      <th>balcony</th>\n",
       "      <th>airports_nearest</th>\n",
       "      <th>cityCenters_nearest</th>\n",
       "      <th>parks_around3000</th>\n",
       "      <th>parks_nearest</th>\n",
       "      <th>ponds_around3000</th>\n",
       "      <th>ponds_nearest</th>\n",
       "      <th>days_exposition</th>\n",
       "    </tr>\n",
       "  </thead>\n",
       "  <tbody>\n",
       "    <tr>\n",
       "      <th>count</th>\n",
       "      <td>23565.000000</td>\n",
       "      <td>2.356500e+04</td>\n",
       "      <td>23565.000000</td>\n",
       "      <td>23565.000000</td>\n",
       "      <td>23565.000000</td>\n",
       "      <td>23565.000000</td>\n",
       "      <td>23565.000000</td>\n",
       "      <td>23565.000000</td>\n",
       "      <td>23565.000000</td>\n",
       "      <td>23565.000000</td>\n",
       "      <td>23565.000000</td>\n",
       "      <td>23565.000000</td>\n",
       "      <td>23565.000000</td>\n",
       "      <td>23565.000000</td>\n",
       "      <td>23565.000000</td>\n",
       "      <td>23565.000000</td>\n",
       "      <td>23565.000000</td>\n",
       "    </tr>\n",
       "    <tr>\n",
       "      <th>mean</th>\n",
       "      <td>9.878421</td>\n",
       "      <td>6.540058e+06</td>\n",
       "      <td>60.322824</td>\n",
       "      <td>2.070656</td>\n",
       "      <td>2.724530</td>\n",
       "      <td>10.675875</td>\n",
       "      <td>34.102255</td>\n",
       "      <td>5.878124</td>\n",
       "      <td>10.423234</td>\n",
       "      <td>0.593677</td>\n",
       "      <td>28311.588924</td>\n",
       "      <td>13937.236898</td>\n",
       "      <td>0.468831</td>\n",
       "      <td>467.124379</td>\n",
       "      <td>0.589900</td>\n",
       "      <td>508.246213</td>\n",
       "      <td>169.203692</td>\n",
       "    </tr>\n",
       "    <tr>\n",
       "      <th>std</th>\n",
       "      <td>5.681156</td>\n",
       "      <td>1.091093e+07</td>\n",
       "      <td>35.657060</td>\n",
       "      <td>1.078591</td>\n",
       "      <td>0.991026</td>\n",
       "      <td>6.594823</td>\n",
       "      <td>21.189133</td>\n",
       "      <td>4.871485</td>\n",
       "      <td>5.631746</td>\n",
       "      <td>0.960660</td>\n",
       "      <td>11087.842878</td>\n",
       "      <td>7555.425451</td>\n",
       "      <td>0.748403</td>\n",
       "      <td>200.095655</td>\n",
       "      <td>0.883966</td>\n",
       "      <td>172.329055</td>\n",
       "      <td>206.497729</td>\n",
       "    </tr>\n",
       "    <tr>\n",
       "      <th>min</th>\n",
       "      <td>0.000000</td>\n",
       "      <td>1.219000e+04</td>\n",
       "      <td>12.000000</td>\n",
       "      <td>0.000000</td>\n",
       "      <td>1.000000</td>\n",
       "      <td>1.000000</td>\n",
       "      <td>2.000000</td>\n",
       "      <td>1.000000</td>\n",
       "      <td>1.300000</td>\n",
       "      <td>0.000000</td>\n",
       "      <td>0.000000</td>\n",
       "      <td>181.000000</td>\n",
       "      <td>0.000000</td>\n",
       "      <td>1.000000</td>\n",
       "      <td>0.000000</td>\n",
       "      <td>13.000000</td>\n",
       "      <td>1.000000</td>\n",
       "    </tr>\n",
       "    <tr>\n",
       "      <th>25%</th>\n",
       "      <td>6.000000</td>\n",
       "      <td>3.400000e+06</td>\n",
       "      <td>40.000000</td>\n",
       "      <td>1.000000</td>\n",
       "      <td>2.600000</td>\n",
       "      <td>5.000000</td>\n",
       "      <td>19.000000</td>\n",
       "      <td>2.000000</td>\n",
       "      <td>7.300000</td>\n",
       "      <td>0.000000</td>\n",
       "      <td>21166.000000</td>\n",
       "      <td>10935.000000</td>\n",
       "      <td>0.000000</td>\n",
       "      <td>455.000000</td>\n",
       "      <td>0.000000</td>\n",
       "      <td>502.000000</td>\n",
       "      <td>45.000000</td>\n",
       "    </tr>\n",
       "    <tr>\n",
       "      <th>50%</th>\n",
       "      <td>9.000000</td>\n",
       "      <td>4.646000e+06</td>\n",
       "      <td>52.000000</td>\n",
       "      <td>2.000000</td>\n",
       "      <td>2.650000</td>\n",
       "      <td>9.000000</td>\n",
       "      <td>30.000000</td>\n",
       "      <td>4.000000</td>\n",
       "      <td>9.100000</td>\n",
       "      <td>0.000000</td>\n",
       "      <td>26726.000000</td>\n",
       "      <td>13098.500000</td>\n",
       "      <td>0.000000</td>\n",
       "      <td>455.000000</td>\n",
       "      <td>0.000000</td>\n",
       "      <td>502.000000</td>\n",
       "      <td>95.000000</td>\n",
       "    </tr>\n",
       "    <tr>\n",
       "      <th>75%</th>\n",
       "      <td>14.000000</td>\n",
       "      <td>6.790000e+06</td>\n",
       "      <td>69.700000</td>\n",
       "      <td>3.000000</td>\n",
       "      <td>2.700000</td>\n",
       "      <td>16.000000</td>\n",
       "      <td>41.100000</td>\n",
       "      <td>8.000000</td>\n",
       "      <td>11.410000</td>\n",
       "      <td>1.000000</td>\n",
       "      <td>34324.000000</td>\n",
       "      <td>15237.000000</td>\n",
       "      <td>1.000000</td>\n",
       "      <td>455.000000</td>\n",
       "      <td>1.000000</td>\n",
       "      <td>502.000000</td>\n",
       "      <td>198.000000</td>\n",
       "    </tr>\n",
       "    <tr>\n",
       "      <th>max</th>\n",
       "      <td>50.000000</td>\n",
       "      <td>7.630000e+08</td>\n",
       "      <td>900.000000</td>\n",
       "      <td>19.000000</td>\n",
       "      <td>100.000000</td>\n",
       "      <td>60.000000</td>\n",
       "      <td>409.700000</td>\n",
       "      <td>33.000000</td>\n",
       "      <td>112.000000</td>\n",
       "      <td>5.000000</td>\n",
       "      <td>84869.000000</td>\n",
       "      <td>65968.000000</td>\n",
       "      <td>3.000000</td>\n",
       "      <td>3190.000000</td>\n",
       "      <td>3.000000</td>\n",
       "      <td>1344.000000</td>\n",
       "      <td>1580.000000</td>\n",
       "    </tr>\n",
       "  </tbody>\n",
       "</table>\n",
       "</div>"
      ],
      "text/plain": [
       "       total_images    last_price    total_area         rooms  ceiling_height  \\\n",
       "count  23565.000000  2.356500e+04  23565.000000  23565.000000    23565.000000   \n",
       "mean       9.878421  6.540058e+06     60.322824      2.070656        2.724530   \n",
       "std        5.681156  1.091093e+07     35.657060      1.078591        0.991026   \n",
       "min        0.000000  1.219000e+04     12.000000      0.000000        1.000000   \n",
       "25%        6.000000  3.400000e+06     40.000000      1.000000        2.600000   \n",
       "50%        9.000000  4.646000e+06     52.000000      2.000000        2.650000   \n",
       "75%       14.000000  6.790000e+06     69.700000      3.000000        2.700000   \n",
       "max       50.000000  7.630000e+08    900.000000     19.000000      100.000000   \n",
       "\n",
       "       floors_total   living_area         floor  kitchen_area       balcony  \\\n",
       "count  23565.000000  23565.000000  23565.000000  23565.000000  23565.000000   \n",
       "mean      10.675875     34.102255      5.878124     10.423234      0.593677   \n",
       "std        6.594823     21.189133      4.871485      5.631746      0.960660   \n",
       "min        1.000000      2.000000      1.000000      1.300000      0.000000   \n",
       "25%        5.000000     19.000000      2.000000      7.300000      0.000000   \n",
       "50%        9.000000     30.000000      4.000000      9.100000      0.000000   \n",
       "75%       16.000000     41.100000      8.000000     11.410000      1.000000   \n",
       "max       60.000000    409.700000     33.000000    112.000000      5.000000   \n",
       "\n",
       "       airports_nearest  cityCenters_nearest  parks_around3000  parks_nearest  \\\n",
       "count      23565.000000         23565.000000      23565.000000   23565.000000   \n",
       "mean       28311.588924         13937.236898          0.468831     467.124379   \n",
       "std        11087.842878          7555.425451          0.748403     200.095655   \n",
       "min            0.000000           181.000000          0.000000       1.000000   \n",
       "25%        21166.000000         10935.000000          0.000000     455.000000   \n",
       "50%        26726.000000         13098.500000          0.000000     455.000000   \n",
       "75%        34324.000000         15237.000000          1.000000     455.000000   \n",
       "max        84869.000000         65968.000000          3.000000    3190.000000   \n",
       "\n",
       "       ponds_around3000  ponds_nearest  days_exposition  \n",
       "count      23565.000000   23565.000000     23565.000000  \n",
       "mean           0.589900     508.246213       169.203692  \n",
       "std            0.883966     172.329055       206.497729  \n",
       "min            0.000000      13.000000         1.000000  \n",
       "25%            0.000000     502.000000        45.000000  \n",
       "50%            0.000000     502.000000        95.000000  \n",
       "75%            1.000000     502.000000       198.000000  \n",
       "max            3.000000    1344.000000      1580.000000  "
      ]
     },
     "execution_count": 36,
     "metadata": {},
     "output_type": "execute_result"
    }
   ],
   "source": [
    "data.describe()"
   ]
  },
  {
   "cell_type": "markdown",
   "metadata": {},
   "source": [
    "<div class=\"alert alert-block alert-warning\">\n",
    " \n",
    "### Комментарий ревьюера\n",
    "    \n",
    "#### Совет\n",
    "    \n",
    "Для вывода результата необязательно использовать команду print(). Поскольку это последняя и единственная строчка в ячейке кода, то результат сработает и без нее. "
   ]
  },
  {
   "cell_type": "markdown",
   "metadata": {},
   "source": [
    "В приведенных данных обнаружены аномалии.\\\n",
    "Исправим аномалии."
   ]
  },
  {
   "cell_type": "code",
   "execution_count": 46,
   "metadata": {},
   "outputs": [],
   "source": [
    "old_data = data #запомним старые данные для сравнения сырых и обработанных данных\n",
    "\n",
    "# data = data.query('last_price <= 30000000') #цена на момент снятия с публикации\n",
    "data = data.query('days_exposition <= 365') #сколько дней было размещено объявление\n",
    "data = data.query('total_area <= 300') #общая площадь квартиры в квадратных метрах\n",
    "data = data.query('rooms < 7') #количество комнат\n",
    "data = data.query('(ceiling_height > 2) & (ceiling_height < 4)') #высота потолка\n",
    "data = data.query('balcony < 3') #количество балконов\n",
    "# data = data.query('ponds_nearest != 502') #расстояние до ближайшего водоёма\n",
    "# data = data.query('parks_nearest != 455') #расстояние до ближайшего парка"
   ]
  },
  {
   "cell_type": "code",
   "execution_count": 45,
   "metadata": {},
   "outputs": [],
   "source": [
    "data = old_data"
   ]
  },
  {
   "cell_type": "code",
   "execution_count": 47,
   "metadata": {},
   "outputs": [
    {
     "name": "stdout",
     "output_type": "stream",
     "text": [
      "<class 'pandas.core.frame.DataFrame'>\n",
      "RangeIndex: 23565 entries, 0 to 23564\n",
      "Data columns (total 23 columns):\n",
      " #   Column                Non-Null Count  Dtype         \n",
      "---  ------                --------------  -----         \n",
      " 0   total_images          23565 non-null  int64         \n",
      " 1   last_price            23565 non-null  float64       \n",
      " 2   total_area            23565 non-null  float64       \n",
      " 3   first_day_exposition  23565 non-null  datetime64[ns]\n",
      " 4   rooms                 23565 non-null  int64         \n",
      " 5   ceiling_height        23565 non-null  float64       \n",
      " 6   floors_total          23565 non-null  float64       \n",
      " 7   living_area           23565 non-null  float64       \n",
      " 8   floor                 23565 non-null  int64         \n",
      " 9   is_apartment          23565 non-null  bool          \n",
      " 10  studio                23565 non-null  bool          \n",
      " 11  open_plan             23565 non-null  bool          \n",
      " 12  kitchen_area          23565 non-null  float64       \n",
      " 13  balcony               23565 non-null  float64       \n",
      " 14  locality_name         23565 non-null  object        \n",
      " 15  airports_nearest      23565 non-null  float64       \n",
      " 16  cityCenters_nearest   23565 non-null  float64       \n",
      " 17  parks_around3000      23565 non-null  float64       \n",
      " 18  parks_nearest         23565 non-null  float64       \n",
      " 19  ponds_around3000      23565 non-null  float64       \n",
      " 20  ponds_nearest         23565 non-null  float64       \n",
      " 21  days_exposition       23565 non-null  float64       \n",
      " 22  locality_name_new     23565 non-null  object        \n",
      "dtypes: bool(3), datetime64[ns](1), float64(14), int64(3), object(2)\n",
      "memory usage: 3.7+ MB\n"
     ]
    },
    {
     "data": {
      "text/plain": [
       "None"
      ]
     },
     "metadata": {},
     "output_type": "display_data"
    },
    {
     "name": "stdout",
     "output_type": "stream",
     "text": [
      "\n",
      "<class 'pandas.core.frame.DataFrame'>\n",
      "Int64Index: 19840 entries, 0 to 23564\n",
      "Data columns (total 23 columns):\n",
      " #   Column                Non-Null Count  Dtype         \n",
      "---  ------                --------------  -----         \n",
      " 0   total_images          19840 non-null  int64         \n",
      " 1   last_price            19840 non-null  float64       \n",
      " 2   total_area            19840 non-null  float64       \n",
      " 3   first_day_exposition  19840 non-null  datetime64[ns]\n",
      " 4   rooms                 19840 non-null  int64         \n",
      " 5   ceiling_height        19840 non-null  float64       \n",
      " 6   floors_total          19840 non-null  float64       \n",
      " 7   living_area           19840 non-null  float64       \n",
      " 8   floor                 19840 non-null  int64         \n",
      " 9   is_apartment          19840 non-null  bool          \n",
      " 10  studio                19840 non-null  bool          \n",
      " 11  open_plan             19840 non-null  bool          \n",
      " 12  kitchen_area          19840 non-null  float64       \n",
      " 13  balcony               19840 non-null  float64       \n",
      " 14  locality_name         19840 non-null  object        \n",
      " 15  airports_nearest      19840 non-null  float64       \n",
      " 16  cityCenters_nearest   19840 non-null  float64       \n",
      " 17  parks_around3000      19840 non-null  float64       \n",
      " 18  parks_nearest         19840 non-null  float64       \n",
      " 19  ponds_around3000      19840 non-null  float64       \n",
      " 20  ponds_nearest         19840 non-null  float64       \n",
      " 21  days_exposition       19840 non-null  float64       \n",
      " 22  locality_name_new     19840 non-null  object        \n",
      "dtypes: bool(3), datetime64[ns](1), float64(14), int64(3), object(2)\n",
      "memory usage: 3.2+ MB\n"
     ]
    },
    {
     "data": {
      "text/plain": [
       "None"
      ]
     },
     "metadata": {},
     "output_type": "display_data"
    }
   ],
   "source": [
    "display(old_data.info())\n",
    "print('')\n",
    "display(data.info())"
   ]
  },
  {
   "cell_type": "markdown",
   "metadata": {},
   "source": [
    "<div class=\"alert alert-block alert-danger\">\n",
    " \n",
    "### Комментарий ревьюера\n",
    "    \n",
    "#### Ошибка\n",
    "    \n",
    "А вот тут похвалить не могу. Таким образом у тебя осталось 10% данных от изначальных и результат нашего исследования исказится. Так делать нельзя. Мы наоборот должны, если удалять, то не более 10% от первоначальных данных. "
   ]
  },
  {
   "cell_type": "markdown",
   "metadata": {},
   "source": [
    "<div class=\"alert alert-block alert-success\">\n",
    " \n",
    "# Комментарий ревьюера ver.2 \n",
    "    \n",
    "#### Успех\n",
    "    \n",
    "Теперь здорово. С такими данными можно работать. "
   ]
  },
  {
   "cell_type": "code",
   "execution_count": 48,
   "metadata": {},
   "outputs": [
    {
     "data": {
      "text/html": [
       "<div>\n",
       "<style scoped>\n",
       "    .dataframe tbody tr th:only-of-type {\n",
       "        vertical-align: middle;\n",
       "    }\n",
       "\n",
       "    .dataframe tbody tr th {\n",
       "        vertical-align: top;\n",
       "    }\n",
       "\n",
       "    .dataframe thead th {\n",
       "        text-align: right;\n",
       "    }\n",
       "</style>\n",
       "<table border=\"1\" class=\"dataframe\">\n",
       "  <thead>\n",
       "    <tr style=\"text-align: right;\">\n",
       "      <th></th>\n",
       "      <th>total_images</th>\n",
       "      <th>last_price</th>\n",
       "      <th>total_area</th>\n",
       "      <th>rooms</th>\n",
       "      <th>ceiling_height</th>\n",
       "      <th>floors_total</th>\n",
       "      <th>living_area</th>\n",
       "      <th>floor</th>\n",
       "      <th>kitchen_area</th>\n",
       "      <th>balcony</th>\n",
       "      <th>airports_nearest</th>\n",
       "      <th>cityCenters_nearest</th>\n",
       "      <th>parks_around3000</th>\n",
       "      <th>parks_nearest</th>\n",
       "      <th>ponds_around3000</th>\n",
       "      <th>ponds_nearest</th>\n",
       "      <th>days_exposition</th>\n",
       "    </tr>\n",
       "  </thead>\n",
       "  <tbody>\n",
       "    <tr>\n",
       "      <th>count</th>\n",
       "      <td>19840.000000</td>\n",
       "      <td>1.984000e+04</td>\n",
       "      <td>19840.000000</td>\n",
       "      <td>19840.000000</td>\n",
       "      <td>19840.000000</td>\n",
       "      <td>19840.000000</td>\n",
       "      <td>19840.000000</td>\n",
       "      <td>19840.000000</td>\n",
       "      <td>19840.000000</td>\n",
       "      <td>19840.000000</td>\n",
       "      <td>19840.000000</td>\n",
       "      <td>19840.000000</td>\n",
       "      <td>19840.000000</td>\n",
       "      <td>19840.000000</td>\n",
       "      <td>19840.000000</td>\n",
       "      <td>19840.000000</td>\n",
       "      <td>19840.000000</td>\n",
       "    </tr>\n",
       "    <tr>\n",
       "      <th>mean</th>\n",
       "      <td>9.937298</td>\n",
       "      <td>5.963897e+06</td>\n",
       "      <td>57.302308</td>\n",
       "      <td>1.999042</td>\n",
       "      <td>2.683877</td>\n",
       "      <td>10.749446</td>\n",
       "      <td>32.489580</td>\n",
       "      <td>5.892692</td>\n",
       "      <td>10.139169</td>\n",
       "      <td>0.509224</td>\n",
       "      <td>28357.598740</td>\n",
       "      <td>14094.905746</td>\n",
       "      <td>0.451966</td>\n",
       "      <td>466.613206</td>\n",
       "      <td>0.566986</td>\n",
       "      <td>511.382661</td>\n",
       "      <td>102.890474</td>\n",
       "    </tr>\n",
       "    <tr>\n",
       "      <th>std</th>\n",
       "      <td>5.661148</td>\n",
       "      <td>7.077359e+06</td>\n",
       "      <td>27.765297</td>\n",
       "      <td>0.981891</td>\n",
       "      <td>0.188295</td>\n",
       "      <td>6.613850</td>\n",
       "      <td>17.252797</td>\n",
       "      <td>4.869757</td>\n",
       "      <td>5.047199</td>\n",
       "      <td>0.758317</td>\n",
       "      <td>11190.780693</td>\n",
       "      <td>7440.033185</td>\n",
       "      <td>0.733651</td>\n",
       "      <td>195.188056</td>\n",
       "      <td>0.862869</td>\n",
       "      <td>170.149850</td>\n",
       "      <td>82.310794</td>\n",
       "    </tr>\n",
       "    <tr>\n",
       "      <th>min</th>\n",
       "      <td>0.000000</td>\n",
       "      <td>1.219000e+04</td>\n",
       "      <td>12.000000</td>\n",
       "      <td>0.000000</td>\n",
       "      <td>2.200000</td>\n",
       "      <td>1.000000</td>\n",
       "      <td>2.000000</td>\n",
       "      <td>1.000000</td>\n",
       "      <td>1.300000</td>\n",
       "      <td>0.000000</td>\n",
       "      <td>0.000000</td>\n",
       "      <td>181.000000</td>\n",
       "      <td>0.000000</td>\n",
       "      <td>1.000000</td>\n",
       "      <td>0.000000</td>\n",
       "      <td>13.000000</td>\n",
       "      <td>1.000000</td>\n",
       "    </tr>\n",
       "    <tr>\n",
       "      <th>25%</th>\n",
       "      <td>6.000000</td>\n",
       "      <td>3.399000e+06</td>\n",
       "      <td>39.400000</td>\n",
       "      <td>1.000000</td>\n",
       "      <td>2.600000</td>\n",
       "      <td>5.000000</td>\n",
       "      <td>19.000000</td>\n",
       "      <td>2.000000</td>\n",
       "      <td>7.200000</td>\n",
       "      <td>0.000000</td>\n",
       "      <td>20928.250000</td>\n",
       "      <td>11222.000000</td>\n",
       "      <td>0.000000</td>\n",
       "      <td>455.000000</td>\n",
       "      <td>0.000000</td>\n",
       "      <td>502.000000</td>\n",
       "      <td>45.000000</td>\n",
       "    </tr>\n",
       "    <tr>\n",
       "      <th>50%</th>\n",
       "      <td>10.000000</td>\n",
       "      <td>4.500000e+06</td>\n",
       "      <td>50.370000</td>\n",
       "      <td>2.000000</td>\n",
       "      <td>2.650000</td>\n",
       "      <td>9.000000</td>\n",
       "      <td>30.000000</td>\n",
       "      <td>4.000000</td>\n",
       "      <td>9.100000</td>\n",
       "      <td>0.000000</td>\n",
       "      <td>26726.000000</td>\n",
       "      <td>13098.500000</td>\n",
       "      <td>0.000000</td>\n",
       "      <td>455.000000</td>\n",
       "      <td>0.000000</td>\n",
       "      <td>502.000000</td>\n",
       "      <td>95.000000</td>\n",
       "    </tr>\n",
       "    <tr>\n",
       "      <th>75%</th>\n",
       "      <td>14.000000</td>\n",
       "      <td>6.500000e+06</td>\n",
       "      <td>67.000000</td>\n",
       "      <td>3.000000</td>\n",
       "      <td>2.700000</td>\n",
       "      <td>16.000000</td>\n",
       "      <td>39.900000</td>\n",
       "      <td>8.000000</td>\n",
       "      <td>11.000000</td>\n",
       "      <td>1.000000</td>\n",
       "      <td>34564.750000</td>\n",
       "      <td>15353.250000</td>\n",
       "      <td>1.000000</td>\n",
       "      <td>455.000000</td>\n",
       "      <td>1.000000</td>\n",
       "      <td>502.000000</td>\n",
       "      <td>134.000000</td>\n",
       "    </tr>\n",
       "    <tr>\n",
       "      <th>max</th>\n",
       "      <td>50.000000</td>\n",
       "      <td>3.300000e+08</td>\n",
       "      <td>300.000000</td>\n",
       "      <td>6.000000</td>\n",
       "      <td>3.980000</td>\n",
       "      <td>60.000000</td>\n",
       "      <td>250.000000</td>\n",
       "      <td>33.000000</td>\n",
       "      <td>100.700000</td>\n",
       "      <td>2.000000</td>\n",
       "      <td>84853.000000</td>\n",
       "      <td>65952.000000</td>\n",
       "      <td>3.000000</td>\n",
       "      <td>3190.000000</td>\n",
       "      <td>3.000000</td>\n",
       "      <td>1344.000000</td>\n",
       "      <td>364.000000</td>\n",
       "    </tr>\n",
       "  </tbody>\n",
       "</table>\n",
       "</div>"
      ],
      "text/plain": [
       "       total_images    last_price    total_area         rooms  ceiling_height  \\\n",
       "count  19840.000000  1.984000e+04  19840.000000  19840.000000    19840.000000   \n",
       "mean       9.937298  5.963897e+06     57.302308      1.999042        2.683877   \n",
       "std        5.661148  7.077359e+06     27.765297      0.981891        0.188295   \n",
       "min        0.000000  1.219000e+04     12.000000      0.000000        2.200000   \n",
       "25%        6.000000  3.399000e+06     39.400000      1.000000        2.600000   \n",
       "50%       10.000000  4.500000e+06     50.370000      2.000000        2.650000   \n",
       "75%       14.000000  6.500000e+06     67.000000      3.000000        2.700000   \n",
       "max       50.000000  3.300000e+08    300.000000      6.000000        3.980000   \n",
       "\n",
       "       floors_total   living_area         floor  kitchen_area       balcony  \\\n",
       "count  19840.000000  19840.000000  19840.000000  19840.000000  19840.000000   \n",
       "mean      10.749446     32.489580      5.892692     10.139169      0.509224   \n",
       "std        6.613850     17.252797      4.869757      5.047199      0.758317   \n",
       "min        1.000000      2.000000      1.000000      1.300000      0.000000   \n",
       "25%        5.000000     19.000000      2.000000      7.200000      0.000000   \n",
       "50%        9.000000     30.000000      4.000000      9.100000      0.000000   \n",
       "75%       16.000000     39.900000      8.000000     11.000000      1.000000   \n",
       "max       60.000000    250.000000     33.000000    100.700000      2.000000   \n",
       "\n",
       "       airports_nearest  cityCenters_nearest  parks_around3000  parks_nearest  \\\n",
       "count      19840.000000         19840.000000      19840.000000   19840.000000   \n",
       "mean       28357.598740         14094.905746          0.451966     466.613206   \n",
       "std        11190.780693          7440.033185          0.733651     195.188056   \n",
       "min            0.000000           181.000000          0.000000       1.000000   \n",
       "25%        20928.250000         11222.000000          0.000000     455.000000   \n",
       "50%        26726.000000         13098.500000          0.000000     455.000000   \n",
       "75%        34564.750000         15353.250000          1.000000     455.000000   \n",
       "max        84853.000000         65952.000000          3.000000    3190.000000   \n",
       "\n",
       "       ponds_around3000  ponds_nearest  days_exposition  \n",
       "count      19840.000000   19840.000000     19840.000000  \n",
       "mean           0.566986     511.382661       102.890474  \n",
       "std            0.862869     170.149850        82.310794  \n",
       "min            0.000000      13.000000         1.000000  \n",
       "25%            0.000000     502.000000        45.000000  \n",
       "50%            0.000000     502.000000        95.000000  \n",
       "75%            1.000000     502.000000       134.000000  \n",
       "max            3.000000    1344.000000       364.000000  "
      ]
     },
     "execution_count": 48,
     "metadata": {},
     "output_type": "execute_result"
    }
   ],
   "source": [
    "# Проверим, что в итоге вышло\n",
    "data = data.reset_index(drop=True)\n",
    "data.describe()"
   ]
  },
  {
   "cell_type": "markdown",
   "metadata": {},
   "source": [
    "### Посчитайте и добавьте в таблицу новые столбцы"
   ]
  },
  {
   "cell_type": "code",
   "execution_count": 49,
   "metadata": {},
   "outputs": [
    {
     "data": {
      "text/html": [
       "<div>\n",
       "<style scoped>\n",
       "    .dataframe tbody tr th:only-of-type {\n",
       "        vertical-align: middle;\n",
       "    }\n",
       "\n",
       "    .dataframe tbody tr th {\n",
       "        vertical-align: top;\n",
       "    }\n",
       "\n",
       "    .dataframe thead th {\n",
       "        text-align: right;\n",
       "    }\n",
       "</style>\n",
       "<table border=\"1\" class=\"dataframe\">\n",
       "  <thead>\n",
       "    <tr style=\"text-align: right;\">\n",
       "      <th></th>\n",
       "      <th>total_images</th>\n",
       "      <th>last_price</th>\n",
       "      <th>total_area</th>\n",
       "      <th>first_day_exposition</th>\n",
       "      <th>rooms</th>\n",
       "      <th>ceiling_height</th>\n",
       "      <th>floors_total</th>\n",
       "      <th>living_area</th>\n",
       "      <th>floor</th>\n",
       "      <th>is_apartment</th>\n",
       "      <th>...</th>\n",
       "      <th>balcony</th>\n",
       "      <th>locality_name</th>\n",
       "      <th>airports_nearest</th>\n",
       "      <th>cityCenters_nearest</th>\n",
       "      <th>parks_around3000</th>\n",
       "      <th>parks_nearest</th>\n",
       "      <th>ponds_around3000</th>\n",
       "      <th>ponds_nearest</th>\n",
       "      <th>days_exposition</th>\n",
       "      <th>locality_name_new</th>\n",
       "    </tr>\n",
       "  </thead>\n",
       "  <tbody>\n",
       "    <tr>\n",
       "      <th>0</th>\n",
       "      <td>20</td>\n",
       "      <td>13000000.0</td>\n",
       "      <td>108.0</td>\n",
       "      <td>2019-03-07</td>\n",
       "      <td>3</td>\n",
       "      <td>2.70</td>\n",
       "      <td>16.0</td>\n",
       "      <td>51.0</td>\n",
       "      <td>8</td>\n",
       "      <td>False</td>\n",
       "      <td>...</td>\n",
       "      <td>0.0</td>\n",
       "      <td>Санкт-Петербург</td>\n",
       "      <td>18863.0</td>\n",
       "      <td>16028.0</td>\n",
       "      <td>1.0</td>\n",
       "      <td>482.0</td>\n",
       "      <td>2.0</td>\n",
       "      <td>755.0</td>\n",
       "      <td>95.0</td>\n",
       "      <td>Санкт-Петербург</td>\n",
       "    </tr>\n",
       "    <tr>\n",
       "      <th>1</th>\n",
       "      <td>7</td>\n",
       "      <td>3350000.0</td>\n",
       "      <td>40.4</td>\n",
       "      <td>2018-12-04</td>\n",
       "      <td>1</td>\n",
       "      <td>2.65</td>\n",
       "      <td>11.0</td>\n",
       "      <td>18.6</td>\n",
       "      <td>1</td>\n",
       "      <td>False</td>\n",
       "      <td>...</td>\n",
       "      <td>2.0</td>\n",
       "      <td>посёлок Шушары</td>\n",
       "      <td>12817.0</td>\n",
       "      <td>18603.0</td>\n",
       "      <td>0.0</td>\n",
       "      <td>455.0</td>\n",
       "      <td>0.0</td>\n",
       "      <td>502.0</td>\n",
       "      <td>81.0</td>\n",
       "      <td>Шушары</td>\n",
       "    </tr>\n",
       "    <tr>\n",
       "      <th>2</th>\n",
       "      <td>2</td>\n",
       "      <td>10000000.0</td>\n",
       "      <td>100.0</td>\n",
       "      <td>2018-06-19</td>\n",
       "      <td>2</td>\n",
       "      <td>3.03</td>\n",
       "      <td>14.0</td>\n",
       "      <td>32.0</td>\n",
       "      <td>13</td>\n",
       "      <td>False</td>\n",
       "      <td>...</td>\n",
       "      <td>0.0</td>\n",
       "      <td>Санкт-Петербург</td>\n",
       "      <td>31856.0</td>\n",
       "      <td>8098.0</td>\n",
       "      <td>2.0</td>\n",
       "      <td>112.0</td>\n",
       "      <td>1.0</td>\n",
       "      <td>48.0</td>\n",
       "      <td>121.0</td>\n",
       "      <td>Санкт-Петербург</td>\n",
       "    </tr>\n",
       "    <tr>\n",
       "      <th>3</th>\n",
       "      <td>10</td>\n",
       "      <td>2890000.0</td>\n",
       "      <td>30.4</td>\n",
       "      <td>2018-09-10</td>\n",
       "      <td>1</td>\n",
       "      <td>2.65</td>\n",
       "      <td>12.0</td>\n",
       "      <td>14.4</td>\n",
       "      <td>5</td>\n",
       "      <td>False</td>\n",
       "      <td>...</td>\n",
       "      <td>0.0</td>\n",
       "      <td>городской посёлок Янино-1</td>\n",
       "      <td>26726.0</td>\n",
       "      <td>13098.5</td>\n",
       "      <td>0.0</td>\n",
       "      <td>455.0</td>\n",
       "      <td>0.0</td>\n",
       "      <td>502.0</td>\n",
       "      <td>55.0</td>\n",
       "      <td>Янино-1</td>\n",
       "    </tr>\n",
       "    <tr>\n",
       "      <th>4</th>\n",
       "      <td>6</td>\n",
       "      <td>3700000.0</td>\n",
       "      <td>37.3</td>\n",
       "      <td>2017-11-02</td>\n",
       "      <td>1</td>\n",
       "      <td>2.65</td>\n",
       "      <td>26.0</td>\n",
       "      <td>10.6</td>\n",
       "      <td>6</td>\n",
       "      <td>False</td>\n",
       "      <td>...</td>\n",
       "      <td>1.0</td>\n",
       "      <td>посёлок Парголово</td>\n",
       "      <td>52996.0</td>\n",
       "      <td>19143.0</td>\n",
       "      <td>0.0</td>\n",
       "      <td>455.0</td>\n",
       "      <td>0.0</td>\n",
       "      <td>502.0</td>\n",
       "      <td>155.0</td>\n",
       "      <td>Парголово</td>\n",
       "    </tr>\n",
       "  </tbody>\n",
       "</table>\n",
       "<p>5 rows × 23 columns</p>\n",
       "</div>"
      ],
      "text/plain": [
       "   total_images  last_price  total_area first_day_exposition  rooms  \\\n",
       "0            20  13000000.0       108.0           2019-03-07      3   \n",
       "1             7   3350000.0        40.4           2018-12-04      1   \n",
       "2             2  10000000.0       100.0           2018-06-19      2   \n",
       "3            10   2890000.0        30.4           2018-09-10      1   \n",
       "4             6   3700000.0        37.3           2017-11-02      1   \n",
       "\n",
       "   ceiling_height  floors_total  living_area  floor  is_apartment  ...  \\\n",
       "0            2.70          16.0         51.0      8         False  ...   \n",
       "1            2.65          11.0         18.6      1         False  ...   \n",
       "2            3.03          14.0         32.0     13         False  ...   \n",
       "3            2.65          12.0         14.4      5         False  ...   \n",
       "4            2.65          26.0         10.6      6         False  ...   \n",
       "\n",
       "   balcony              locality_name  airports_nearest  cityCenters_nearest  \\\n",
       "0      0.0            Санкт-Петербург           18863.0              16028.0   \n",
       "1      2.0             посёлок Шушары           12817.0              18603.0   \n",
       "2      0.0            Санкт-Петербург           31856.0               8098.0   \n",
       "3      0.0  городской посёлок Янино-1           26726.0              13098.5   \n",
       "4      1.0          посёлок Парголово           52996.0              19143.0   \n",
       "\n",
       "  parks_around3000  parks_nearest  ponds_around3000  ponds_nearest  \\\n",
       "0              1.0          482.0               2.0          755.0   \n",
       "1              0.0          455.0               0.0          502.0   \n",
       "2              2.0          112.0               1.0           48.0   \n",
       "3              0.0          455.0               0.0          502.0   \n",
       "4              0.0          455.0               0.0          502.0   \n",
       "\n",
       "   days_exposition  locality_name_new  \n",
       "0             95.0    Санкт-Петербург  \n",
       "1             81.0             Шушары  \n",
       "2            121.0    Санкт-Петербург  \n",
       "3             55.0            Янино-1  \n",
       "4            155.0          Парголово  \n",
       "\n",
       "[5 rows x 23 columns]"
      ]
     },
     "execution_count": 49,
     "metadata": {},
     "output_type": "execute_result"
    }
   ],
   "source": [
    "# Для добавления новых столбцов выведем срез данных, чтобы понять, как добавлять столбцы: что из чего следует\n",
    "data.head()"
   ]
  },
  {
   "cell_type": "code",
   "execution_count": 50,
   "metadata": {},
   "outputs": [],
   "source": [
    "#Напишем функцию для типа этажа квартиры\n",
    "def type_floor(row):\n",
    "    if row['floor'] == 1:\n",
    "        return 'первый'\n",
    "    elif row['floor'] == row['floors_total']:\n",
    "        return 'последний'\n",
    "    else:\n",
    "        return 'другой'"
   ]
  },
  {
   "cell_type": "markdown",
   "metadata": {},
   "source": [
    "<div class=\"alert alert-block alert-success\">\n",
    " \n",
    "### Комментарий ревьюера\n",
    "    \n",
    "#### Успех\n",
    "    \n",
    "Простая, удобная и понятная функция. "
   ]
  },
  {
   "cell_type": "code",
   "execution_count": 51,
   "metadata": {},
   "outputs": [],
   "source": [
    "#Напишем функцию для типа этажа квартиры\n",
    "def cityCentres_nearest_tokm(row):\n",
    "    return round(row['cityCenters_nearest']/1000)"
   ]
  },
  {
   "cell_type": "code",
   "execution_count": 52,
   "metadata": {},
   "outputs": [],
   "source": [
    "# новый столбец - цена одного квадратного метра\n",
    "data['price_for_square_metr'] = data['last_price']/data['total_area']\n",
    "# новый столбец - день недели публикации объявления (0 — понедельник, 1 — вторник и так далее)\n",
    "data['weekday_exposition'] = data['first_day_exposition'].dt.dayofweek\n",
    "# новый столбец - месяц публикации объявления\n",
    "data['month_exposition'] = data['first_day_exposition'].dt.month\n",
    "# новый столбец - год публикации объявления\n",
    "data['year_exposition'] = data['first_day_exposition'].dt.year\n",
    "# новый столбец - тип этажа квартиры (значения — «‎первый», «последний», «другой»)\n",
    "data['type_floor'] = data.apply(type_floor, axis=1)\n",
    "# новый столбец - расстояние до центра города в километрах (переведите из м в км и округлите до целых значений)\n",
    "data['cityCentres_nearest_tokm'] = data.apply(cityCentres_nearest_tokm, axis=1)"
   ]
  },
  {
   "cell_type": "markdown",
   "metadata": {},
   "source": [
    "<div class=\"alert alert-block alert-success\">\n",
    " \n",
    "### Комментарий ревьюера\n",
    "    \n",
    "#### Успех\n",
    "    \n",
    "Здесь прям отлично справился. "
   ]
  },
  {
   "cell_type": "markdown",
   "metadata": {},
   "source": [
    "### Проведите исследовательский анализ данных"
   ]
  },
  {
   "cell_type": "code",
   "execution_count": 53,
   "metadata": {},
   "outputs": [
    {
     "data": {
      "image/png": "[encoded data removed]",
      "text/plain": [
       "<Figure size 1080x1440 with 25 Axes>"
      ]
     },
     "metadata": {
      "needs_background": "light"
     },
     "output_type": "display_data"
    }
   ],
   "source": [
    "#Строим общую гистограмму для всех данных\n",
    "import matplotlib.pyplot as plt \n",
    "data.hist(figsize=(15,20))\n",
    "plt.show()"
   ]
  },
  {
   "cell_type": "markdown",
   "metadata": {},
   "source": [
    "<div class=\"alert alert-block alert-warning\">\n",
    " \n",
    "### Комментарий ревьюера\n",
    "    \n",
    "#### Совет\n",
    "    \n",
    "Хотелось бы более конкретизированных выводов. "
   ]
  },
  {
   "cell_type": "markdown",
   "metadata": {},
   "source": [
    "Судя по данным гистограммам, можно сделать выводы по основным характеристикам: чаще всего встречаются однокомнатные квартиры на первом этаже с высотой потолка 2.6 м, в 17 км от центра населённого пункта, без балконов, в 20 км от аэропорта"
   ]
  },
  {
   "cell_type": "code",
   "execution_count": 73,
   "metadata": {},
   "outputs": [
    {
     "data": {
      "text/plain": [
       "<AxesSubplot:>"
      ]
     },
     "execution_count": 73,
     "metadata": {},
     "output_type": "execute_result"
    },
    {
     "data": {
      "image/png": "[encoded data removed]",
      "text/plain": [
       "<Figure size 432x288 with 1 Axes>"
      ]
     },
     "metadata": {
      "needs_background": "light"
     },
     "output_type": "display_data"
    }
   ],
   "source": [
    "# Построим гистограмму по столбцу 'days_exposition', т.е. сколько дней было размещено объявление\n",
    "data['days_exposition'].hist()"
   ]
  },
  {
   "cell_type": "markdown",
   "metadata": {},
   "source": [
    "<div class=\"alert alert-block alert-danger\">\n",
    " \n",
    "### Комментарий ревьюера\n",
    "    \n",
    "#### Ошибка\n",
    "    \n",
    "Вот тут у тебя по графику есть выбивающиеся значения. Надо рассмотреть их подробнее и пояснить, из-за чего они могли появиться. "
   ]
  },
  {
   "cell_type": "markdown",
   "metadata": {},
   "source": [
    "В основном, объявление о продаже висело до 100 дней."
   ]
  },
  {
   "cell_type": "markdown",
   "metadata": {},
   "source": [
    "Выбивающиеся значения в основном связаны с тем, что квартиры продаются 2-3 месяца, так как их стоимость выгодна как для риелторов,"
   ]
  },
  {
   "cell_type": "markdown",
   "metadata": {},
   "source": [
    "<div class=\"alert alert-block alert-warning\">\n",
    " \n",
    "# Комментарий ревьюера ver.2 \n",
    "    \n",
    "#### Совет\n",
    "    \n",
    "В это время система убирает с показа бесплатные объявления. "
   ]
  },
  {
   "cell_type": "code",
   "execution_count": 61,
   "metadata": {},
   "outputs": [
    {
     "data": {
      "text/plain": [
       "count    19840.000000\n",
       "mean       102.890474\n",
       "std         82.310794\n",
       "min          1.000000\n",
       "25%         45.000000\n",
       "50%         95.000000\n",
       "75%        134.000000\n",
       "max        364.000000\n",
       "Name: days_exposition, dtype: float64"
      ]
     },
     "execution_count": 61,
     "metadata": {},
     "output_type": "execute_result"
    }
   ],
   "source": [
    "data['days_exposition'].describe()"
   ]
  },
  {
   "cell_type": "markdown",
   "metadata": {},
   "source": [
    "В представленных данных можно заметить, что продажа квартир минимально занимала 1 день и считается она необычайно долгой, если занимает больше полугода."
   ]
  },
  {
   "cell_type": "markdown",
   "metadata": {},
   "source": [
    "Выясним, какие факторы больше всего влияют на общую (полную) стоимость объекта. \\\n",
    "Построим графики, которые покажут зависимость цены от общей площади, жилой площади, площади кухни, количества комнат, этажа, на котором расположена квартира (первый, последний, другой), даты размещения (день недели, месяц, год). Для подготовки данных перед визуализацией используем сводные таблицы."
   ]
  },
  {
   "cell_type": "code",
   "execution_count": 62,
   "metadata": {},
   "outputs": [
    {
     "data": {
      "text/html": [
       "<div>\n",
       "<style scoped>\n",
       "    .dataframe tbody tr th:only-of-type {\n",
       "        vertical-align: middle;\n",
       "    }\n",
       "\n",
       "    .dataframe tbody tr th {\n",
       "        vertical-align: top;\n",
       "    }\n",
       "\n",
       "    .dataframe thead th {\n",
       "        text-align: right;\n",
       "    }\n",
       "</style>\n",
       "<table border=\"1\" class=\"dataframe\">\n",
       "  <thead>\n",
       "    <tr style=\"text-align: right;\">\n",
       "      <th></th>\n",
       "      <th></th>\n",
       "      <th></th>\n",
       "      <th></th>\n",
       "      <th></th>\n",
       "      <th></th>\n",
       "      <th></th>\n",
       "      <th></th>\n",
       "      <th>last_price</th>\n",
       "    </tr>\n",
       "    <tr>\n",
       "      <th>total_area</th>\n",
       "      <th>living_area</th>\n",
       "      <th>kitchen_area</th>\n",
       "      <th>rooms</th>\n",
       "      <th>type_floor</th>\n",
       "      <th>year_exposition</th>\n",
       "      <th>month_exposition</th>\n",
       "      <th>weekday_exposition</th>\n",
       "      <th></th>\n",
       "    </tr>\n",
       "  </thead>\n",
       "  <tbody>\n",
       "    <tr>\n",
       "      <th>12.0</th>\n",
       "      <th>10.0</th>\n",
       "      <th>9.1</th>\n",
       "      <th>1</th>\n",
       "      <th>другой</th>\n",
       "      <th>2017</th>\n",
       "      <th>7</th>\n",
       "      <th>2</th>\n",
       "      <td>2400000</td>\n",
       "    </tr>\n",
       "    <tr>\n",
       "      <th rowspan=\"2\" valign=\"top\">13.0</th>\n",
       "      <th>10.0</th>\n",
       "      <th>9.1</th>\n",
       "      <th>1</th>\n",
       "      <th>другой</th>\n",
       "      <th>2018</th>\n",
       "      <th>7</th>\n",
       "      <th>2</th>\n",
       "      <td>3800000</td>\n",
       "    </tr>\n",
       "    <tr>\n",
       "      <th>30.0</th>\n",
       "      <th>9.1</th>\n",
       "      <th>1</th>\n",
       "      <th>другой</th>\n",
       "      <th>2019</th>\n",
       "      <th>3</th>\n",
       "      <th>0</th>\n",
       "      <td>1850000</td>\n",
       "    </tr>\n",
       "    <tr>\n",
       "      <th>13.2</th>\n",
       "      <th>30.0</th>\n",
       "      <th>9.1</th>\n",
       "      <th>1</th>\n",
       "      <th>первый</th>\n",
       "      <th>2018</th>\n",
       "      <th>12</th>\n",
       "      <th>0</th>\n",
       "      <td>1686000</td>\n",
       "    </tr>\n",
       "    <tr>\n",
       "      <th>14.0</th>\n",
       "      <th>11.0</th>\n",
       "      <th>2.0</th>\n",
       "      <th>1</th>\n",
       "      <th>первый</th>\n",
       "      <th>2018</th>\n",
       "      <th>7</th>\n",
       "      <th>6</th>\n",
       "      <td>1190000</td>\n",
       "    </tr>\n",
       "    <tr>\n",
       "      <th>...</th>\n",
       "      <th>...</th>\n",
       "      <th>...</th>\n",
       "      <th>...</th>\n",
       "      <th>...</th>\n",
       "      <th>...</th>\n",
       "      <th>...</th>\n",
       "      <th>...</th>\n",
       "      <td>...</td>\n",
       "    </tr>\n",
       "    <tr>\n",
       "      <th rowspan=\"2\" valign=\"top\">293.6</th>\n",
       "      <th>139.4</th>\n",
       "      <th>21.0</th>\n",
       "      <th>6</th>\n",
       "      <th>последний</th>\n",
       "      <th>2019</th>\n",
       "      <th>3</th>\n",
       "      <th>3</th>\n",
       "      <td>39000000</td>\n",
       "    </tr>\n",
       "    <tr>\n",
       "      <th>250.0</th>\n",
       "      <th>35.0</th>\n",
       "      <th>4</th>\n",
       "      <th>другой</th>\n",
       "      <th>2017</th>\n",
       "      <th>11</th>\n",
       "      <th>4</th>\n",
       "      <td>83000000</td>\n",
       "    </tr>\n",
       "    <tr>\n",
       "      <th>295.0</th>\n",
       "      <th>30.0</th>\n",
       "      <th>9.1</th>\n",
       "      <th>4</th>\n",
       "      <th>другой</th>\n",
       "      <th>2017</th>\n",
       "      <th>12</th>\n",
       "      <th>5</th>\n",
       "      <td>35000000</td>\n",
       "    </tr>\n",
       "    <tr>\n",
       "      <th>297.5</th>\n",
       "      <th>181.8</th>\n",
       "      <th>21.9</th>\n",
       "      <th>6</th>\n",
       "      <th>другой</th>\n",
       "      <th>2018</th>\n",
       "      <th>9</th>\n",
       "      <th>6</th>\n",
       "      <td>30750000</td>\n",
       "    </tr>\n",
       "    <tr>\n",
       "      <th>300.0</th>\n",
       "      <th>170.0</th>\n",
       "      <th>20.0</th>\n",
       "      <th>6</th>\n",
       "      <th>последний</th>\n",
       "      <th>2019</th>\n",
       "      <th>3</th>\n",
       "      <th>3</th>\n",
       "      <td>54000000</td>\n",
       "    </tr>\n",
       "  </tbody>\n",
       "</table>\n",
       "<p>19786 rows × 1 columns</p>\n",
       "</div>"
      ],
      "text/plain": [
       "                                                                                                          last_price\n",
       "total_area living_area kitchen_area rooms type_floor year_exposition month_exposition weekday_exposition            \n",
       "12.0       10.0        9.1          1     другой     2017            7                2                      2400000\n",
       "13.0       10.0        9.1          1     другой     2018            7                2                      3800000\n",
       "           30.0        9.1          1     другой     2019            3                0                      1850000\n",
       "13.2       30.0        9.1          1     первый     2018            12               0                      1686000\n",
       "14.0       11.0        2.0          1     первый     2018            7                6                      1190000\n",
       "...                                                                                                              ...\n",
       "293.6      139.4       21.0         6     последний  2019            3                3                     39000000\n",
       "           250.0       35.0         4     другой     2017            11               4                     83000000\n",
       "295.0      30.0        9.1          4     другой     2017            12               5                     35000000\n",
       "297.5      181.8       21.9         6     другой     2018            9                6                     30750000\n",
       "300.0      170.0       20.0         6     последний  2019            3                3                     54000000\n",
       "\n",
       "[19786 rows x 1 columns]"
      ]
     },
     "execution_count": 62,
     "metadata": {},
     "output_type": "execute_result"
    }
   ],
   "source": [
    "import numpy as np\n",
    "table = pd.pivot_table(data, values='last_price', index=['total_area', 'living_area', 'kitchen_area', 'rooms', 'type_floor', 'year_exposition', 'month_exposition', 'weekday_exposition'],\n",
    "                     aggfunc=np.sum, fill_value=0)\n",
    "table"
   ]
  },
  {
   "cell_type": "code",
   "execution_count": 72,
   "metadata": {},
   "outputs": [
    {
     "data": {
      "image/png": "[encoded data removed]",
      "text/plain": [
       "<Figure size 432x288 with 1 Axes>"
      ]
     },
     "metadata": {
      "needs_background": "light"
     },
     "output_type": "display_data"
    },
    {
     "data": {
      "image/png": "[encoded data removed]",
      "text/plain": [
       "<Figure size 432x288 with 1 Axes>"
      ]
     },
     "metadata": {
      "needs_background": "light"
     },
     "output_type": "display_data"
    },
    {
     "data": {
      "image/png": "[encoded data removed]",
      "text/plain": [
       "<Figure size 432x288 with 1 Axes>"
      ]
     },
     "metadata": {
      "needs_background": "light"
     },
     "output_type": "display_data"
    },
    {
     "data": {
      "image/png": "[encoded data removed]",
      "text/plain": [
       "<Figure size 432x288 with 1 Axes>"
      ]
     },
     "metadata": {
      "needs_background": "light"
     },
     "output_type": "display_data"
    },
    {
     "data": {
      "image/png": "[encoded data removed]",
      "text/plain": [
       "<Figure size 432x288 with 1 Axes>"
      ]
     },
     "metadata": {
      "needs_background": "light"
     },
     "output_type": "display_data"
    },
    {
     "data": {
      "image/png": "[encoded data removed]",
      "text/plain": [
       "<Figure size 432x288 with 1 Axes>"
      ]
     },
     "metadata": {
      "needs_background": "light"
     },
     "output_type": "display_data"
    },
    {
     "data": {
      "image/png": "[encoded data removed]",
      "text/plain": [
       "<Figure size 432x288 with 1 Axes>"
      ]
     },
     "metadata": {
      "needs_background": "light"
     },
     "output_type": "display_data"
    },
    {
     "data": {
      "image/png": "[encoded data removed]",
      "text/plain": [
       "<Figure size 432x288 with 1 Axes>"
      ]
     },
     "metadata": {
      "needs_background": "light"
     },
     "output_type": "display_data"
    }
   ],
   "source": [
    "import matplotlib.pyplot as plt\n",
    "plt.scatter(data=data, x='total_area', y='last_price')\n",
    "plt.show()\n",
    "plt.scatter(data=data, x='living_area', y='last_price')\n",
    "plt.show()\n",
    "plt.scatter(data=data, x='kitchen_area', y='last_price')\n",
    "plt.show()\n",
    "pd.pivot_table(data, values='last_price', index='rooms').plot()\n",
    "pd.pivot_table(data, values='last_price', index='type_floor').plot()\n",
    "pd.pivot_table(data, values='last_price', index='year_exposition').plot()\n",
    "pd.pivot_table(data, values='last_price', index='month_exposition').plot()\n",
    "pd.pivot_table(data, values='last_price', index='weekday_exposition').plot()\n",
    "plt.show()"
   ]
  },
  {
   "cell_type": "markdown",
   "metadata": {},
   "source": [
    "<div class=\"alert alert-block alert-warning\">\n",
    " \n",
    "### Комментарий ревьюера\n",
    "    \n",
    "#### Совет\n",
    "    \n",
    "Для показа зависимости на первых трех графиках лучше подойдем метод scatter."
   ]
  },
  {
   "cell_type": "markdown",
   "metadata": {},
   "source": [
    "По данным графикам можно сделать вывод:\n",
    "* чем больше площадь квартиры и количества комнат, тем выше цена квартиры\n",
    "* объявления о дорогих квартирах были размещены в 2015 и 2019 годах, по месяцам - в июле и декабре, по дням недели - по пятницам"
   ]
  },
  {
   "cell_type": "code",
   "execution_count": 57,
   "metadata": {},
   "outputs": [
    {
     "name": "stdout",
     "output_type": "stream",
     "text": [
      "locality_name_new\n",
      "Санкт-Петербург    13091\n",
      "Мурино               512\n",
      "Кудрово              412\n",
      "Шушары               386\n",
      "Всеволожск           327\n",
      "Пушкин               309\n",
      "Колпино              294\n",
      "Парголово            287\n",
      "Гатчина              250\n",
      "Выборг               203\n",
      "Name: last_price, dtype: int64\n",
      "['Санкт-Петербург', 'Мурино', 'Кудрово', 'Шушары', 'Всеволожск', 'Пушкин', 'Колпино', 'Парголово', 'Гатчина', 'Выборг']\n"
     ]
    }
   ],
   "source": [
    "data_groupby_locality = data.groupby('locality_name_new')['last_price'].count().sort_values(ascending=False).head(10)\n",
    "print(data_groupby_locality)\n",
    "print(data_groupby_locality.index.values.tolist())"
   ]
  },
  {
   "cell_type": "code",
   "execution_count": 58,
   "metadata": {
    "scrolled": true
   },
   "outputs": [
    {
     "name": "stdout",
     "output_type": "stream",
     "text": [
      "locality_name_new\n",
      "Санкт-Петербург    113348.404275\n",
      "Пушкин             101914.365363\n",
      "Кудрово             95666.064847\n",
      "Парголово           89882.359413\n",
      "Мурино              86477.711333\n",
      "Шушары              79081.729059\n",
      "Колпино             74996.673614\n",
      "Гатчина             69213.953052\n",
      "Всеволожск          69160.320983\n",
      "Выборг              58516.059784\n",
      "Name: price_for_square_metr, dtype: float64\n",
      "\n",
      "Населенный пункт с самой низкой стоимостью кв.м.: 7386    Санкт-Петербург\n",
      "Name: locality_name_new, dtype: object\n",
      "\n",
      "Населенный пункт с самой высокой стоимостью кв.м.: 1173    Санкт-Петербург\n",
      "Name: locality_name_new, dtype: object\n",
      "\n"
     ]
    }
   ],
   "source": [
    "top10_locality = data_groupby_locality.index.values.tolist()\n",
    "#средняя цена одного квадратного метра в 10 населённых пунктах с наибольшим числом объявлений.\n",
    "new_data = data.query('locality_name_new in @top10_locality')\n",
    "print(new_data.groupby('locality_name_new')['price_for_square_metr'].mean().sort_values(ascending=False))\n",
    "print('')\n",
    "print('Населенный пункт с самой низкой стоимостью кв.м.:', data[data['price_for_square_metr'] == data['price_for_square_metr'].min()]['locality_name_new'])\n",
    "print('')\n",
    "print('Населенный пункт с самой высокой стоимостью кв.м.:', data[data['price_for_square_metr'] == data['price_for_square_metr'].max()]['locality_name_new'])\n",
    "print('')\n",
    "# filter = data['locality_name_new'] in top10_locality\n",
    "# print(filter)"
   ]
  },
  {
   "cell_type": "markdown",
   "metadata": {},
   "source": [
    "<div class=\"alert alert-block alert-success\">\n",
    " \n",
    "### Комментарий ревьюера\n",
    "    \n",
    "#### Успех\n",
    "    \n",
    "Рейтинг топ-10 получен. "
   ]
  },
  {
   "cell_type": "markdown",
   "metadata": {},
   "source": [
    "Посчитана средняя цена одного квадратного метра в 10 населённых пунктах с наибольшим числом объявлений. А также выделен населённый пункт с самой высокой и низкой стоимостью квадратного метра: им оказался Санкт-Петербург \\ (min price = 17391.304347826088) \\ (max price = 292307.6923076923)"
   ]
  },
  {
   "cell_type": "markdown",
   "metadata": {},
   "source": [
    "**Не совсем понял, что имелось в виду:** Ранее вы посчитали расстояние до центра в километрах. Теперь выделите квартиры в Санкт-Петербурге с помощью столбца locality_name и вычислите среднюю цену каждого километра. Опишите, как стоимость объектов зависит от расстояния до центра города."
   ]
  },
  {
   "cell_type": "markdown",
   "metadata": {},
   "source": [
    "Выведем график, который показывает как цена за целый км меняется с расстоянием в Санкт-Петербурге."
   ]
  },
  {
   "cell_type": "code",
   "execution_count": 85,
   "metadata": {
    "scrolled": true
   },
   "outputs": [
    {
     "data": {
      "image/png": "[encoded data removed]",
      "text/plain": [
       "<Figure size 432x288 with 1 Axes>"
      ]
     },
     "metadata": {
      "needs_background": "light"
     },
     "output_type": "display_data"
    }
   ],
   "source": [
    "#Добавим новый столбец в данные - расстояние от центра нас. пункта (в целых километрах)\n",
    "data['cityCenters_nearest_km'] = data['cityCenters_nearest']//1000\n",
    "import matplotlib.pyplot as plt\n",
    "pd.pivot_table(data.query('locality_name_new == \"Санкт-Петербург\"'), values='last_price', index='cityCenters_nearest_km').plot()\n",
    "plt.show()"
   ]
  },
  {
   "cell_type": "markdown",
   "metadata": {},
   "source": [
    "График показывает, что с отдалением от центра города стоимость квартиры снижается."
   ]
  },
  {
   "cell_type": "markdown",
   "metadata": {},
   "source": [
    "<div class=\"alert alert-block alert-danger\">\n",
    " \n",
    "### Комментарий ревьюера\n",
    "    \n",
    "#### Ошибка\n",
    "    \n",
    "Тебе здесь надо вывести график, который показывает как цена за целый км меняется с расстоянием,  Для этого нужно сгруппировать значения по стоимости за целый Км и визуализировать это."
   ]
  },
  {
   "cell_type": "markdown",
   "metadata": {},
   "source": [
    "<div class=\"alert alert-block alert-danger\">\n",
    " \n",
    "### Комментарий ревьюера\n",
    "    \n",
    "#### Ошибка\n",
    "    \n",
    "Тут еще нужен итоговый вывод. "
   ]
  },
  {
   "cell_type": "markdown",
   "metadata": {},
   "source": [
    "<div class=\"alert alert-block alert-success\">\n",
    " \n",
    "### Итоговый комментарий ревьюера\n",
    "    \n",
    "#### Успех\n",
    "    \n",
    "Спасибо тебе за проделанную работу. У тебя, определенно, есть хорошая база, при помощи который ты здорово справился с работой. Отдельно хочу похвалить за работу с заменой пропусков. Особого внимания заслуживает раздел по проверке Предобработке данных.\n",
    "    \n",
    "Но в работе есть замечания, которые надо будет поправить: \n",
    "    \n",
    "* Добавить промежуточный и итоговый вывод в проект.\n",
    "* Объяснить логику замены пропусков.\n",
    "* Оставить в проекте больше данных и переделать дальнейшие выводы.\n",
    "* Найти и пояснить выбивающиеся значения на графике по дням в продаже.\n",
    "* Построить график зависимости расстояния от центра. \n",
    "  \n",
    "    \n",
    "А еще, я оставил в работе рекомендации. Надеюсь, они тебе помогут в дальнейшем.\n",
    "    \n",
    "Буду ждать проект после доработок. Удачи. \n",
    "</div "
   ]
  },
  {
   "cell_type": "markdown",
   "metadata": {},
   "source": [
    "### Общий вывод"
   ]
  },
  {
   "cell_type": "markdown",
   "metadata": {},
   "source": []
  },
  {
   "cell_type": "markdown",
   "metadata": {},
   "source": [
    "**Итоговый вывод:** В данном проекте были считаны данные объявлений о продаже квартиры, где были пропущены данные, которые вскоре были заполнены. Дубликаты названий населённых пунктов были заменены простой функцией с добавлением нового столбца 'locality_name_new', где были убраны такие слова, как 'деревня', 'посёлок', 'поселок', 'посёлок городского типа' и т.д. Также в данных были обнаружены аномалии, которые потом при анализе данных уже не учитывались. Затем были построены графики зависимости стоимости квартир от других величин (кол-ва комнат, этажа, площади, расстояния от центра населенного пункта и т.д.), на основе которых были сделаны выводы."
   ]
  },
  {
   "cell_type": "markdown",
   "metadata": {},
   "source": [
    "**Итоговый вывод *(ver.2)*:** В данном проекте были считаны сведения объявлений о продаже квартиры, где были пропущены данные, присутствовали выбивающиеся значения, которые не позволяли корректно анализировать информацию, были обнаружены дубликаты названий одного и того же населённого пункта, но по-разному отражены, например: 'посёлок Бугры' и 'поселок Бугры' и т.д., также был один столбец данных был записан в некорректном формате.\\\n",
    "\\\n",
    "В столбцах 'ceiling_height', 'living_area', 'kitchen_area', 'days_exposition', 'airports_nearest', 'cityCenters_nearest', 'parks_nearest', 'ponds_nearest' пропуски заполнялись медианным значением.\\\n",
    "В столбце 'is_apartment' пропуск - булевым значением False.\\\n",
    "В столбцах 'balcony', 'parks_around3000', 'ponds_around3000' - значением 0.\\\n",
    "Строки с пустыми значениями в столбцах 'floors_total', 'locality_name' удалялись. \\\n",
    "\\\n",
    "Аномальные значения исправлялсь так, что при дальнейшем анализе данных учитывались квартиры с площадью меньше 300 кв.м., длительностью размещения объявления меньше года, количества комнат меньше 7, числом балконов не больше 2, а также с высотой потолков больше 2 м и меньше 4 м.\n",
    "\\\n",
    "Дубликаты названий населённых пунктов были заменены простой функцией с добавлением нового столбца 'locality_name_new', где были исключены такие слова, как 'деревня', 'посёлок', 'поселок', 'посёлок городского типа' и т.д. \\\n",
    "\\\n",
    "Столбец с датой был в общем формате для всех видов данных (число, текст, дата) - object; с помощью функции pd.to_datetime() данный столбец был преобразован в формат даты.\\\n",
    "\\\n",
    "Затем были построены графики зависимости стоимости квартир от других величин (кол-ва комнат, этажа, площади, расстояния от центра населенного пункта и т.д.), на основе которых были сделаны выводы, как изменяется цена.\\\n",
    "\\\n",
    "Для минимизации пропусков, аномалий данных, информации в некорректном виде следует ввести перечень инструкций при заполнении сведений определёнными значениями сотрудниками Яндекс.Недвижимость."
   ]
  },
  {
   "cell_type": "markdown",
   "metadata": {},
   "source": [
    "<div class=\"alert alert-block alert-success\">\n",
    " \n",
    "# Комментарий ревьюера ver.2 \n",
    "    \n",
    "#### Успех\n",
    "    \n",
    "А сейчас другое дело. Отлично получилось описать результат. "
   ]
  },
  {
   "cell_type": "markdown",
   "metadata": {},
   "source": [
    "<div class=\"alert alert-block alert-danger\">\n",
    " \n",
    "# Комментарий ревьюера ver.2 \n",
    "    \n",
    "#### Ошибка\n",
    "    \n",
    "А вот тут хотелось бы более развернутый итоговый вывод. В нем пишут все то, что заметили в ходе исследования. То есть, мы должны описать все полезные инсайты и дать свои рекомендации. У тебя еще много пропусков данных. Что необходимо сделать, чтобы минимизировать их в дальнешем?"
   ]
  },
  {
   "cell_type": "markdown",
   "metadata": {},
   "source": [
    "**Чек-лист готовности проекта**\n",
    "\n",
    "Поставьте 'x' в выполненных пунктах. Далее нажмите Shift+Enter."
   ]
  },
  {
   "cell_type": "markdown",
   "metadata": {},
   "source": [
    "- [x]  открыт файл\n",
    "- [x]  файлы изучены (выведены первые строки, метод `info()`, гистограммы и т.д.)\n",
    "- [x]  определены пропущенные значения\n",
    "- [x]  заполнены пропущенные значения там, где это возможно\n",
    "- [x]  есть пояснение, какие пропущенные значения обнаружены\n",
    "- [x]  изменены типы данных\n",
    "- [x]  есть пояснение, в каких столбцах изменены типы и почему\n",
    "- [x]  устранены неявные дубликаты в названиях населённых пунктов\n",
    "- [x]  устранены редкие и выбивающиеся значения (аномалии) во всех столбцах\n",
    "- [x]  посчитано и добавлено в таблицу: цена одного квадратного метра\n",
    "- [x]  посчитано и добавлено в таблицу: день публикации объявления (0 - понедельник, 1 - вторник и т.д.)\n",
    "- [x]  посчитано и добавлено в таблицу: месяц публикации объявления\n",
    "- [x]  посчитано и добавлено в таблицу: год публикации объявления\n",
    "- [x]  посчитано и добавлено в таблицу: тип этажа квартиры (значения — «первый», «последний», «другой»)\n",
    "- [x]  посчитано и добавлено в таблицу: расстояние в км до центра города\n",
    "- [x]  изучены и описаны следующие параметры:\n",
    "        - общая площадь;\n",
    "        - жилая площадь;\n",
    "        - площадь кухни;\n",
    "        - цена объекта;\n",
    "        - количество комнат;\n",
    "        - высота потолков;\n",
    "        - этаж квартиры;\n",
    "        - тип этажа квартиры («первый», «последний», «другой»);\n",
    "        - общее количество этажей в доме;\n",
    "        - расстояние до центра города в метрах;\n",
    "        - расстояние до ближайшего аэропорта;\n",
    "        - расстояние до ближайшего парка;\n",
    "        - день и месяц публикации объявления\n",
    "- [x]  построены гистограммы для каждого параметра\n",
    "- [x]  выполнено задание: \"Изучите, как быстро продавались квартиры (столбец days_exposition). Этот параметр показывает, сколько дней «висело» каждое объявление.\n",
    "    - Постройте гистограмму.\n",
    "    - Посчитайте среднее и медиану.\n",
    "    - В ячейке типа markdown опишите, сколько обычно занимает продажа. Какие продажи можно считать быстрыми, а какие — необычно долгими?\"\n",
    "- [x]  выполнено задание: \"Какие факторы больше всего влияют на общую (полную) стоимость объекта? Постройте графики, которые покажут зависимость цены от указанных ниже параметров. Для подготовки данных перед визуализацией вы можете использовать сводные таблицы.\"\n",
    "        - общей площади;\n",
    "        - жилой площади;\n",
    "        - площади кухни;\n",
    "        - количество комнат;\n",
    "        - типа этажа, на котором расположена квартира (первый, последний, другой);\n",
    "        - даты размещения (день недели, месяц, год);\n",
    "- [x]  выполнено задание: \"Посчитайте среднюю цену одного квадратного метра в 10 населённых пунктах с наибольшим числом объявлений. Выделите населённые пункты с самой высокой и низкой стоимостью квадратного метра. Эти данные можно найти по имени в столбце `locality_name`.\"\n",
    "- [x]  выполнено задание: \"Ранее вы посчитали расстояние до центра в километрах. Теперь выделите квартиры в Санкт-Петербурге с помощью столбца `locality_name` и вычислите среднюю цену каждого километра. Опишите, как стоимость объектов зависит от расстояния до центра города.\"\n",
    "- [x]  в каждом этапе есть промежуточные выводы\n",
    "- [x]  есть общий вывод"
   ]
  }
 ],
 "metadata": {
  "ExecuteTimeLog": [
   {
    "duration": 549,
    "start_time": "2022-12-18T09:55:03.915Z"
   },
   {
    "duration": 94,
    "start_time": "2022-12-18T09:55:39.218Z"
   },
   {
    "duration": 93,
    "start_time": "2022-12-18T09:57:31.697Z"
   },
   {
    "duration": 85,
    "start_time": "2022-12-18T09:57:39.428Z"
   },
   {
    "duration": 12,
    "start_time": "2022-12-18T09:57:42.259Z"
   },
   {
    "duration": 105,
    "start_time": "2022-12-18T10:09:18.258Z"
   },
   {
    "duration": 96,
    "start_time": "2022-12-18T10:11:30.447Z"
   },
   {
    "duration": 2303,
    "start_time": "2022-12-18T10:13:15.894Z"
   },
   {
    "duration": 27,
    "start_time": "2022-12-18T10:14:12.565Z"
   },
   {
    "duration": 10,
    "start_time": "2022-12-18T10:14:24.435Z"
   },
   {
    "duration": 13,
    "start_time": "2022-12-18T10:14:41.146Z"
   },
   {
    "duration": 16,
    "start_time": "2022-12-18T10:14:54.301Z"
   },
   {
    "duration": 25,
    "start_time": "2022-12-18T10:23:25.193Z"
   },
   {
    "duration": 12,
    "start_time": "2022-12-18T10:23:35.181Z"
   },
   {
    "duration": 11,
    "start_time": "2022-12-18T10:24:41.934Z"
   },
   {
    "duration": 9,
    "start_time": "2022-12-18T10:24:56.516Z"
   },
   {
    "duration": 4,
    "start_time": "2022-12-18T10:58:12.717Z"
   },
   {
    "duration": 5,
    "start_time": "2022-12-18T10:58:38.408Z"
   },
   {
    "duration": 6,
    "start_time": "2022-12-18T11:14:27.445Z"
   },
   {
    "duration": 64,
    "start_time": "2022-12-21T11:25:42.595Z"
   },
   {
    "duration": 770,
    "start_time": "2022-12-21T11:25:48.092Z"
   },
   {
    "duration": 17,
    "start_time": "2022-12-21T11:25:50.197Z"
   },
   {
    "duration": 111,
    "start_time": "2022-12-21T11:25:53.063Z"
   },
   {
    "duration": 2580,
    "start_time": "2022-12-21T11:25:56.949Z"
   },
   {
    "duration": 12,
    "start_time": "2022-12-21T11:26:05.190Z"
   },
   {
    "duration": 63,
    "start_time": "2022-12-21T11:26:54.367Z"
   },
   {
    "duration": 5,
    "start_time": "2022-12-21T11:27:10.889Z"
   },
   {
    "duration": 12,
    "start_time": "2022-12-21T11:34:31.822Z"
   },
   {
    "duration": 10,
    "start_time": "2022-12-21T11:35:05.992Z"
   },
   {
    "duration": 9,
    "start_time": "2022-12-21T11:35:26.006Z"
   },
   {
    "duration": 10,
    "start_time": "2022-12-21T11:35:29.994Z"
   },
   {
    "duration": 8,
    "start_time": "2022-12-21T11:35:42.825Z"
   },
   {
    "duration": 11,
    "start_time": "2022-12-21T11:35:44.793Z"
   },
   {
    "duration": 11,
    "start_time": "2022-12-21T11:37:01.637Z"
   },
   {
    "duration": 22,
    "start_time": "2022-12-21T11:50:26.843Z"
   },
   {
    "duration": 6,
    "start_time": "2022-12-21T11:57:20.821Z"
   },
   {
    "duration": 3,
    "start_time": "2022-12-21T13:06:17.676Z"
   },
   {
    "duration": 11,
    "start_time": "2022-12-21T13:09:48.178Z"
   },
   {
    "duration": 11,
    "start_time": "2022-12-21T13:09:56.019Z"
   },
   {
    "duration": 5,
    "start_time": "2022-12-21T13:09:59.598Z"
   },
   {
    "duration": 26,
    "start_time": "2022-12-21T13:10:03.768Z"
   },
   {
    "duration": 7,
    "start_time": "2022-12-21T13:10:09.911Z"
   },
   {
    "duration": 3,
    "start_time": "2022-12-21T13:10:13.161Z"
   },
   {
    "duration": 236,
    "start_time": "2022-12-21T13:10:18.690Z"
   },
   {
    "duration": 5,
    "start_time": "2022-12-21T13:12:03.328Z"
   },
   {
    "duration": 698,
    "start_time": "2022-12-29T09:24:19.944Z"
   },
   {
    "duration": 17,
    "start_time": "2022-12-29T09:24:23.376Z"
   },
   {
    "duration": 107,
    "start_time": "2022-12-29T09:24:27.536Z"
   },
   {
    "duration": 2738,
    "start_time": "2022-12-29T09:24:32.662Z"
   },
   {
    "duration": 9,
    "start_time": "2022-12-29T09:24:39.966Z"
   },
   {
    "duration": 12,
    "start_time": "2022-12-29T09:24:45.078Z"
   },
   {
    "duration": 9,
    "start_time": "2022-12-29T09:24:47.551Z"
   },
   {
    "duration": 6,
    "start_time": "2022-12-29T09:24:54.560Z"
   },
   {
    "duration": 20,
    "start_time": "2022-12-29T09:24:59.008Z"
   },
   {
    "duration": 6,
    "start_time": "2022-12-29T09:25:02.247Z"
   },
   {
    "duration": 5,
    "start_time": "2022-12-29T09:25:04.937Z"
   },
   {
    "duration": 233,
    "start_time": "2022-12-29T09:25:09.851Z"
   },
   {
    "duration": 8,
    "start_time": "2022-12-29T09:25:16.384Z"
   },
   {
    "duration": 5,
    "start_time": "2022-12-29T09:27:43.653Z"
   },
   {
    "duration": 710,
    "start_time": "2023-01-06T11:57:54.693Z"
   },
   {
    "duration": 17,
    "start_time": "2023-01-06T11:57:56.706Z"
   },
   {
    "duration": 122,
    "start_time": "2023-01-06T11:58:00.346Z"
   },
   {
    "duration": 2636,
    "start_time": "2023-01-06T11:58:03.192Z"
   },
   {
    "duration": 11,
    "start_time": "2023-01-06T11:58:09.424Z"
   },
   {
    "duration": 12,
    "start_time": "2023-01-06T11:58:11.878Z"
   },
   {
    "duration": 12,
    "start_time": "2023-01-06T11:58:13.984Z"
   },
   {
    "duration": 5,
    "start_time": "2023-01-06T11:58:18.865Z"
   },
   {
    "duration": 20,
    "start_time": "2023-01-06T11:58:22.277Z"
   },
   {
    "duration": 5,
    "start_time": "2023-01-06T11:58:25.272Z"
   },
   {
    "duration": 3,
    "start_time": "2023-01-06T11:58:27.655Z"
   },
   {
    "duration": 236,
    "start_time": "2023-01-06T11:58:30.071Z"
   },
   {
    "duration": 6,
    "start_time": "2023-01-06T11:58:35.328Z"
   },
   {
    "duration": 7,
    "start_time": "2023-01-06T12:12:04.665Z"
   },
   {
    "duration": 4,
    "start_time": "2023-01-06T12:12:18.687Z"
   },
   {
    "duration": 6,
    "start_time": "2023-01-06T12:12:45.468Z"
   },
   {
    "duration": 4,
    "start_time": "2023-01-06T12:12:48.845Z"
   },
   {
    "duration": 26,
    "start_time": "2023-01-06T12:23:31.479Z"
   },
   {
    "duration": 653,
    "start_time": "2023-01-06T17:33:05.268Z"
   },
   {
    "duration": 15,
    "start_time": "2023-01-06T17:33:06.940Z"
   },
   {
    "duration": 108,
    "start_time": "2023-01-06T17:33:08.868Z"
   },
   {
    "duration": 2173,
    "start_time": "2023-01-06T17:33:11.779Z"
   },
   {
    "duration": 10,
    "start_time": "2023-01-06T17:33:14.411Z"
   },
   {
    "duration": 11,
    "start_time": "2023-01-06T17:33:17.383Z"
   },
   {
    "duration": 9,
    "start_time": "2023-01-06T17:33:18.970Z"
   },
   {
    "duration": 5,
    "start_time": "2023-01-06T17:33:22.601Z"
   },
   {
    "duration": 17,
    "start_time": "2023-01-06T17:33:25.700Z"
   },
   {
    "duration": 6,
    "start_time": "2023-01-06T17:33:28.667Z"
   },
   {
    "duration": 3,
    "start_time": "2023-01-06T17:33:31.221Z"
   },
   {
    "duration": 218,
    "start_time": "2023-01-06T17:33:33.123Z"
   },
   {
    "duration": 5,
    "start_time": "2023-01-06T17:33:36.520Z"
   },
   {
    "duration": 7,
    "start_time": "2023-01-06T17:33:39.634Z"
   },
   {
    "duration": 4,
    "start_time": "2023-01-06T17:33:42.085Z"
   },
   {
    "duration": 23,
    "start_time": "2023-01-06T17:33:47.647Z"
   },
   {
    "duration": 3,
    "start_time": "2023-01-06T17:45:24.147Z"
   },
   {
    "duration": 3,
    "start_time": "2023-01-06T17:45:41.859Z"
   },
   {
    "duration": 3,
    "start_time": "2023-01-06T17:53:35.544Z"
   },
   {
    "duration": 1006,
    "start_time": "2023-01-06T17:54:31.024Z"
   },
   {
    "duration": 4,
    "start_time": "2023-01-06T17:55:22.878Z"
   },
   {
    "duration": 3,
    "start_time": "2023-01-06T17:55:24.976Z"
   },
   {
    "duration": 1376,
    "start_time": "2023-01-06T17:55:29.103Z"
   },
   {
    "duration": 5,
    "start_time": "2023-01-06T17:55:55.319Z"
   },
   {
    "duration": 3,
    "start_time": "2023-01-06T17:55:56.725Z"
   },
   {
    "duration": 447,
    "start_time": "2023-01-06T17:55:59.160Z"
   },
   {
    "duration": 80,
    "start_time": "2023-01-06T18:03:10.440Z"
   },
   {
    "duration": 14,
    "start_time": "2023-01-06T18:03:12.000Z"
   },
   {
    "duration": 101,
    "start_time": "2023-01-06T18:03:14.247Z"
   },
   {
    "duration": 1721,
    "start_time": "2023-01-06T18:03:16.238Z"
   },
   {
    "duration": 10,
    "start_time": "2023-01-06T18:03:21.069Z"
   },
   {
    "duration": 18,
    "start_time": "2023-01-06T18:03:24.365Z"
   },
   {
    "duration": 13,
    "start_time": "2023-01-06T18:03:26.576Z"
   },
   {
    "duration": 5,
    "start_time": "2023-01-06T18:03:29.275Z"
   },
   {
    "duration": 19,
    "start_time": "2023-01-06T18:03:31.608Z"
   },
   {
    "duration": 5,
    "start_time": "2023-01-06T18:03:34.251Z"
   },
   {
    "duration": 3,
    "start_time": "2023-01-06T18:03:36.781Z"
   },
   {
    "duration": 6,
    "start_time": "2023-01-06T18:03:40.205Z"
   },
   {
    "duration": 8,
    "start_time": "2023-01-06T18:03:42.239Z"
   },
   {
    "duration": 4,
    "start_time": "2023-01-06T18:03:43.686Z"
   },
   {
    "duration": 24,
    "start_time": "2023-01-06T18:03:45.616Z"
   },
   {
    "duration": 2,
    "start_time": "2023-01-06T18:03:48.054Z"
   },
   {
    "duration": 3,
    "start_time": "2023-01-06T18:03:49.729Z"
   },
   {
    "duration": 602,
    "start_time": "2023-01-06T18:04:00.881Z"
   },
   {
    "duration": 2555,
    "start_time": "2023-01-06T18:05:01.221Z"
   },
   {
    "duration": 535,
    "start_time": "2023-01-07T13:16:03.042Z"
   },
   {
    "duration": 16,
    "start_time": "2023-01-07T13:16:05.378Z"
   },
   {
    "duration": 101,
    "start_time": "2023-01-07T13:16:09.368Z"
   },
   {
    "duration": 2601,
    "start_time": "2023-01-07T13:16:27.504Z"
   },
   {
    "duration": 10,
    "start_time": "2023-01-07T13:16:33.645Z"
   },
   {
    "duration": 19,
    "start_time": "2023-01-07T13:16:37.694Z"
   },
   {
    "duration": 13,
    "start_time": "2023-01-07T13:16:39.391Z"
   },
   {
    "duration": 6,
    "start_time": "2023-01-07T13:16:42.086Z"
   },
   {
    "duration": 22,
    "start_time": "2023-01-07T13:16:44.865Z"
   },
   {
    "duration": 6,
    "start_time": "2023-01-07T13:16:48.332Z"
   },
   {
    "duration": 3,
    "start_time": "2023-01-07T13:16:50.871Z"
   },
   {
    "duration": 241,
    "start_time": "2023-01-07T13:16:54.647Z"
   },
   {
    "duration": 7,
    "start_time": "2023-01-07T13:16:58.485Z"
   },
   {
    "duration": 8,
    "start_time": "2023-01-07T13:17:00.710Z"
   },
   {
    "duration": 4,
    "start_time": "2023-01-07T13:17:03.070Z"
   },
   {
    "duration": 26,
    "start_time": "2023-01-07T13:17:05.864Z"
   },
   {
    "duration": 3,
    "start_time": "2023-01-07T13:17:18.912Z"
   },
   {
    "duration": 3,
    "start_time": "2023-01-07T13:17:23.326Z"
   },
   {
    "duration": 605,
    "start_time": "2023-01-07T13:17:25.525Z"
   },
   {
    "duration": 2976,
    "start_time": "2023-01-07T13:17:29.761Z"
   },
   {
    "duration": 138,
    "start_time": "2023-01-07T16:14:12.998Z"
   },
   {
    "duration": 9,
    "start_time": "2023-01-07T16:17:44.326Z"
   },
   {
    "duration": 9,
    "start_time": "2023-01-07T16:19:14.432Z"
   },
   {
    "duration": 10,
    "start_time": "2023-01-07T16:19:23.151Z"
   },
   {
    "duration": 11,
    "start_time": "2023-01-07T16:19:32.243Z"
   },
   {
    "duration": 9,
    "start_time": "2023-01-07T16:19:52.052Z"
   },
   {
    "duration": 78,
    "start_time": "2023-01-07T16:29:27.081Z"
   },
   {
    "duration": 65,
    "start_time": "2023-01-07T17:28:25.038Z"
   },
   {
    "duration": 7,
    "start_time": "2023-01-07T17:39:15.256Z"
   },
   {
    "duration": 76,
    "start_time": "2023-01-07T17:39:20.889Z"
   },
   {
    "duration": 14,
    "start_time": "2023-01-07T17:39:22.892Z"
   },
   {
    "duration": 96,
    "start_time": "2023-01-07T17:39:25.703Z"
   },
   {
    "duration": 1900,
    "start_time": "2023-01-07T17:39:29.159Z"
   },
   {
    "duration": 9,
    "start_time": "2023-01-07T17:39:33.823Z"
   },
   {
    "duration": 18,
    "start_time": "2023-01-07T17:39:35.967Z"
   },
   {
    "duration": 9,
    "start_time": "2023-01-07T17:39:37.727Z"
   },
   {
    "duration": 4,
    "start_time": "2023-01-07T17:39:40.715Z"
   },
   {
    "duration": 21,
    "start_time": "2023-01-07T17:39:43.646Z"
   },
   {
    "duration": 6,
    "start_time": "2023-01-07T17:39:47.047Z"
   },
   {
    "duration": 3,
    "start_time": "2023-01-07T17:39:49.553Z"
   },
   {
    "duration": 5,
    "start_time": "2023-01-07T17:39:52.255Z"
   },
   {
    "duration": 6,
    "start_time": "2023-01-07T17:39:54.365Z"
   },
   {
    "duration": 4,
    "start_time": "2023-01-07T17:40:00.529Z"
   },
   {
    "duration": 58,
    "start_time": "2023-01-07T17:40:04.384Z"
   },
   {
    "duration": 7,
    "start_time": "2023-01-07T17:40:12.751Z"
   },
   {
    "duration": 29,
    "start_time": "2023-01-07T17:40:18.487Z"
   },
   {
    "duration": 3,
    "start_time": "2023-01-07T17:40:20.905Z"
   },
   {
    "duration": 3,
    "start_time": "2023-01-07T17:40:22.975Z"
   },
   {
    "duration": 542,
    "start_time": "2023-01-07T17:40:24.536Z"
   },
   {
    "duration": 2420,
    "start_time": "2023-01-07T17:40:29.289Z"
   },
   {
    "duration": 121,
    "start_time": "2023-01-07T17:40:44.143Z"
   },
   {
    "duration": 8,
    "start_time": "2023-01-07T17:41:07.879Z"
   },
   {
    "duration": 70,
    "start_time": "2023-01-07T18:45:58.642Z"
   },
   {
    "duration": 25,
    "start_time": "2023-01-07T18:46:56.803Z"
   },
   {
    "duration": 15,
    "start_time": "2023-01-07T18:47:02.434Z"
   },
   {
    "duration": 17,
    "start_time": "2023-01-07T18:48:03.978Z"
   },
   {
    "duration": 185,
    "start_time": "2023-01-07T18:48:17.081Z"
   },
   {
    "duration": 131,
    "start_time": "2023-01-07T18:53:31.266Z"
   },
   {
    "duration": 135,
    "start_time": "2023-01-07T20:40:39.737Z"
   },
   {
    "duration": 253,
    "start_time": "2023-01-07T21:20:30.001Z"
   },
   {
    "duration": 66,
    "start_time": "2023-01-07T21:30:42.245Z"
   },
   {
    "duration": 26,
    "start_time": "2023-01-07T21:35:31.536Z"
   },
   {
    "duration": 84,
    "start_time": "2023-01-07T21:35:34.263Z"
   },
   {
    "duration": 14,
    "start_time": "2023-01-07T21:35:37.362Z"
   },
   {
    "duration": 95,
    "start_time": "2023-01-07T21:35:39.894Z"
   },
   {
    "duration": 1931,
    "start_time": "2023-01-07T21:35:43.902Z"
   },
   {
    "duration": 10,
    "start_time": "2023-01-07T21:35:50.125Z"
   },
   {
    "duration": 25,
    "start_time": "2023-01-07T21:35:52.109Z"
   },
   {
    "duration": 9,
    "start_time": "2023-01-07T21:35:53.694Z"
   },
   {
    "duration": 6,
    "start_time": "2023-01-07T21:35:59.124Z"
   },
   {
    "duration": 19,
    "start_time": "2023-01-07T21:36:01.869Z"
   },
   {
    "duration": 5,
    "start_time": "2023-01-07T21:36:04.869Z"
   },
   {
    "duration": 3,
    "start_time": "2023-01-07T21:36:07.232Z"
   },
   {
    "duration": 234,
    "start_time": "2023-01-07T21:36:08.896Z"
   },
   {
    "duration": 6,
    "start_time": "2023-01-07T21:36:12.501Z"
   },
   {
    "duration": 6,
    "start_time": "2023-01-07T21:36:15.158Z"
   },
   {
    "duration": 4,
    "start_time": "2023-01-07T21:36:18.046Z"
   },
   {
    "duration": 8,
    "start_time": "2023-01-07T21:36:26.192Z"
   },
   {
    "duration": 36,
    "start_time": "2023-01-07T21:36:28.895Z"
   },
   {
    "duration": 3,
    "start_time": "2023-01-07T21:36:31.757Z"
   },
   {
    "duration": 4,
    "start_time": "2023-01-07T21:36:33.411Z"
   },
   {
    "duration": 566,
    "start_time": "2023-01-07T21:36:35.395Z"
   },
   {
    "duration": 2494,
    "start_time": "2023-01-07T21:36:38.995Z"
   },
   {
    "duration": 129,
    "start_time": "2023-01-07T21:36:45.261Z"
   },
   {
    "duration": 11,
    "start_time": "2023-01-07T21:36:48.699Z"
   },
   {
    "duration": 44,
    "start_time": "2023-01-07T21:36:51.533Z"
   },
   {
    "duration": 242,
    "start_time": "2023-01-07T21:36:53.994Z"
   },
   {
    "duration": 0,
    "start_time": "2023-01-07T21:39:16.687Z"
   },
   {
    "duration": 0,
    "start_time": "2023-01-07T21:39:16.688Z"
   },
   {
    "duration": 145,
    "start_time": "2023-01-07T21:39:20.213Z"
   },
   {
    "duration": 221,
    "start_time": "2023-01-07T21:39:26.269Z"
   },
   {
    "duration": 527,
    "start_time": "2023-01-07T21:40:03.399Z"
   },
   {
    "duration": 493,
    "start_time": "2023-01-07T21:40:27.419Z"
   },
   {
    "duration": 8399,
    "start_time": "2023-01-07T21:40:57.581Z"
   },
   {
    "duration": 331347,
    "start_time": "2023-01-07T21:41:08.629Z"
   },
   {
    "duration": 161,
    "start_time": "2023-01-07T22:13:06.922Z"
   },
   {
    "duration": 553,
    "start_time": "2023-01-08T09:03:47.173Z"
   },
   {
    "duration": 19,
    "start_time": "2023-01-08T09:03:49.349Z"
   },
   {
    "duration": 119,
    "start_time": "2023-01-08T09:03:52.003Z"
   },
   {
    "duration": 2547,
    "start_time": "2023-01-08T09:03:54.997Z"
   },
   {
    "duration": 13,
    "start_time": "2023-01-08T09:04:01.962Z"
   },
   {
    "duration": 23,
    "start_time": "2023-01-08T09:04:04.105Z"
   },
   {
    "duration": 10,
    "start_time": "2023-01-08T09:04:06.714Z"
   },
   {
    "duration": 4,
    "start_time": "2023-01-08T09:04:09.639Z"
   },
   {
    "duration": 21,
    "start_time": "2023-01-08T09:04:12.146Z"
   },
   {
    "duration": 6,
    "start_time": "2023-01-08T09:04:15.448Z"
   },
   {
    "duration": 4,
    "start_time": "2023-01-08T09:04:18.234Z"
   },
   {
    "duration": 282,
    "start_time": "2023-01-08T09:04:27.104Z"
   },
   {
    "duration": 5,
    "start_time": "2023-01-08T09:04:31.498Z"
   },
   {
    "duration": 7,
    "start_time": "2023-01-08T09:04:33.661Z"
   },
   {
    "duration": 4,
    "start_time": "2023-01-08T09:04:35.746Z"
   },
   {
    "duration": 64,
    "start_time": "2023-01-08T09:04:43.508Z"
   },
   {
    "duration": 8,
    "start_time": "2023-01-08T09:04:46.740Z"
   },
   {
    "duration": 43,
    "start_time": "2023-01-08T09:04:49.054Z"
   },
   {
    "duration": 2,
    "start_time": "2023-01-08T09:04:51.307Z"
   },
   {
    "duration": 2,
    "start_time": "2023-01-08T09:04:53.495Z"
   },
   {
    "duration": 639,
    "start_time": "2023-01-08T09:04:55.768Z"
   },
   {
    "duration": 2666,
    "start_time": "2023-01-08T09:04:58.348Z"
   },
   {
    "duration": 124,
    "start_time": "2023-01-08T09:05:05.346Z"
   },
   {
    "duration": 11,
    "start_time": "2023-01-08T09:05:08.499Z"
   },
   {
    "duration": 51,
    "start_time": "2023-01-08T09:05:11.515Z"
   },
   {
    "duration": 229,
    "start_time": "2023-01-08T09:05:20.511Z"
   },
   {
    "duration": 490,
    "start_time": "2023-01-08T09:05:36.338Z"
   },
   {
    "duration": 10,
    "start_time": "2023-01-08T09:37:28.164Z"
   },
   {
    "duration": 678,
    "start_time": "2023-01-08T09:44:18.228Z"
   },
   {
    "duration": 447,
    "start_time": "2023-01-08T09:44:33.795Z"
   },
   {
    "duration": 141,
    "start_time": "2023-01-08T09:45:34.326Z"
   },
   {
    "duration": 557,
    "start_time": "2023-01-08T09:45:59.270Z"
   },
   {
    "duration": 520,
    "start_time": "2023-01-08T09:46:22.877Z"
   },
   {
    "duration": 1480,
    "start_time": "2023-01-08T10:00:39.132Z"
   },
   {
    "duration": 2843,
    "start_time": "2023-01-08T10:06:20.605Z"
   },
   {
    "duration": 137,
    "start_time": "2023-01-08T10:19:55.303Z"
   },
   {
    "duration": 163,
    "start_time": "2023-01-08T10:20:46.531Z"
   },
   {
    "duration": 319,
    "start_time": "2023-01-08T10:23:01.867Z"
   },
   {
    "duration": 290,
    "start_time": "2023-01-08T10:24:11.680Z"
   },
   {
    "duration": 290,
    "start_time": "2023-01-08T10:25:03.647Z"
   },
   {
    "duration": 74,
    "start_time": "2023-01-08T10:48:26.116Z"
   },
   {
    "duration": 14,
    "start_time": "2023-01-08T10:48:27.807Z"
   },
   {
    "duration": 92,
    "start_time": "2023-01-08T10:48:31.198Z"
   },
   {
    "duration": 2037,
    "start_time": "2023-01-08T10:48:33.878Z"
   },
   {
    "duration": 9,
    "start_time": "2023-01-08T10:48:39.796Z"
   },
   {
    "duration": 20,
    "start_time": "2023-01-08T10:48:45.669Z"
   },
   {
    "duration": 8,
    "start_time": "2023-01-08T10:48:48.413Z"
   },
   {
    "duration": 4,
    "start_time": "2023-01-08T10:49:11.228Z"
   },
   {
    "duration": 79,
    "start_time": "2023-01-08T11:00:26.012Z"
   },
   {
    "duration": 14,
    "start_time": "2023-01-08T11:00:27.748Z"
   },
   {
    "duration": 93,
    "start_time": "2023-01-08T11:00:30.206Z"
   },
   {
    "duration": 1920,
    "start_time": "2023-01-08T11:00:32.525Z"
   },
   {
    "duration": 9,
    "start_time": "2023-01-08T11:00:37.123Z"
   },
   {
    "duration": 36,
    "start_time": "2023-01-08T11:00:39.867Z"
   },
   {
    "duration": 32,
    "start_time": "2023-01-08T11:00:55.640Z"
   },
   {
    "duration": 7,
    "start_time": "2023-01-08T11:00:57.693Z"
   },
   {
    "duration": 4,
    "start_time": "2023-01-08T11:01:04.451Z"
   },
   {
    "duration": 22,
    "start_time": "2023-01-08T11:01:08.060Z"
   },
   {
    "duration": 4,
    "start_time": "2023-01-08T11:01:11.333Z"
   },
   {
    "duration": 4,
    "start_time": "2023-01-08T11:01:13.494Z"
   },
   {
    "duration": 36,
    "start_time": "2023-01-08T11:01:14.893Z"
   },
   {
    "duration": 5,
    "start_time": "2023-01-08T11:01:19.056Z"
   },
   {
    "duration": 7,
    "start_time": "2023-01-08T11:01:23.656Z"
   },
   {
    "duration": 4,
    "start_time": "2023-01-08T11:01:26.428Z"
   },
   {
    "duration": 48,
    "start_time": "2023-01-08T11:01:30.854Z"
   },
   {
    "duration": 88,
    "start_time": "2023-01-08T11:06:31.925Z"
   },
   {
    "duration": 15,
    "start_time": "2023-01-08T11:06:33.330Z"
   },
   {
    "duration": 101,
    "start_time": "2023-01-08T11:06:36.139Z"
   },
   {
    "duration": 2129,
    "start_time": "2023-01-08T11:06:38.868Z"
   },
   {
    "duration": 13,
    "start_time": "2023-01-08T11:06:41.789Z"
   },
   {
    "duration": 41,
    "start_time": "2023-01-08T11:06:45.076Z"
   },
   {
    "duration": 8,
    "start_time": "2023-01-08T11:06:46.599Z"
   },
   {
    "duration": 5,
    "start_time": "2023-01-08T11:06:49.319Z"
   },
   {
    "duration": 23,
    "start_time": "2023-01-08T11:06:51.804Z"
   },
   {
    "duration": 22,
    "start_time": "2023-01-08T11:07:26.138Z"
   },
   {
    "duration": 96,
    "start_time": "2023-01-08T11:08:40.530Z"
   },
   {
    "duration": 16,
    "start_time": "2023-01-08T11:08:41.979Z"
   },
   {
    "duration": 109,
    "start_time": "2023-01-08T11:08:44.465Z"
   },
   {
    "duration": 16,
    "start_time": "2023-01-08T11:08:48.179Z"
   },
   {
    "duration": 33,
    "start_time": "2023-01-08T11:08:50.734Z"
   },
   {
    "duration": 32,
    "start_time": "2023-01-08T11:09:29.799Z"
   },
   {
    "duration": 7,
    "start_time": "2023-01-08T11:09:32.409Z"
   },
   {
    "duration": 5,
    "start_time": "2023-01-08T11:09:35.597Z"
   },
   {
    "duration": 16,
    "start_time": "2023-01-08T11:09:37.931Z"
   },
   {
    "duration": 6,
    "start_time": "2023-01-08T11:09:42.321Z"
   },
   {
    "duration": 4,
    "start_time": "2023-01-08T11:09:44.964Z"
   },
   {
    "duration": 31,
    "start_time": "2023-01-08T11:09:48.234Z"
   },
   {
    "duration": 56,
    "start_time": "2023-01-08T11:09:51.002Z"
   },
   {
    "duration": 97,
    "start_time": "2023-01-08T11:11:26.898Z"
   },
   {
    "duration": 15,
    "start_time": "2023-01-08T11:11:28.437Z"
   },
   {
    "duration": 106,
    "start_time": "2023-01-08T11:11:31.202Z"
   },
   {
    "duration": 13,
    "start_time": "2023-01-08T11:11:34.228Z"
   },
   {
    "duration": 31,
    "start_time": "2023-01-08T11:11:36.701Z"
   },
   {
    "duration": 9,
    "start_time": "2023-01-08T11:11:40.329Z"
   },
   {
    "duration": 6,
    "start_time": "2023-01-08T11:11:42.801Z"
   },
   {
    "duration": 28,
    "start_time": "2023-01-08T11:11:45.339Z"
   },
   {
    "duration": 6,
    "start_time": "2023-01-08T11:11:48.043Z"
   },
   {
    "duration": 5,
    "start_time": "2023-01-08T11:11:50.801Z"
   },
   {
    "duration": 62,
    "start_time": "2023-01-08T11:11:54.457Z"
   },
   {
    "duration": 28,
    "start_time": "2023-01-08T13:50:50.155Z"
   },
   {
    "duration": 58,
    "start_time": "2023-01-08T13:51:43.593Z"
   },
   {
    "duration": 31,
    "start_time": "2023-01-08T13:56:17.891Z"
   },
   {
    "duration": 3,
    "start_time": "2023-01-08T13:56:20.647Z"
   },
   {
    "duration": 3,
    "start_time": "2023-01-08T13:56:22.160Z"
   },
   {
    "duration": 595,
    "start_time": "2023-01-08T13:56:25.722Z"
   },
   {
    "duration": 2455,
    "start_time": "2023-01-08T13:56:27.512Z"
   },
   {
    "duration": 142,
    "start_time": "2023-01-08T13:56:48.874Z"
   },
   {
    "duration": 9,
    "start_time": "2023-01-08T13:56:53.310Z"
   },
   {
    "duration": 42,
    "start_time": "2023-01-08T13:57:20.958Z"
   },
   {
    "duration": 261,
    "start_time": "2023-01-08T13:57:27.033Z"
   },
   {
    "duration": 15,
    "start_time": "2023-01-08T14:51:13.835Z"
   },
   {
    "duration": 1250,
    "start_time": "2023-01-08T14:51:44.789Z"
   },
   {
    "duration": 143,
    "start_time": "2023-01-08T14:52:11.621Z"
   },
   {
    "duration": 270,
    "start_time": "2023-01-08T14:52:55.011Z"
   },
   {
    "duration": 1027,
    "start_time": "2023-01-08T14:53:44.683Z"
   },
   {
    "duration": 1178,
    "start_time": "2023-01-08T14:59:06.162Z"
   },
   {
    "duration": 907,
    "start_time": "2023-01-08T15:00:10.386Z"
   },
   {
    "duration": 86,
    "start_time": "2023-01-08T15:06:16.751Z"
   },
   {
    "duration": 18,
    "start_time": "2023-01-08T15:06:18.703Z"
   },
   {
    "duration": 102,
    "start_time": "2023-01-08T15:06:21.985Z"
   },
   {
    "duration": 1787,
    "start_time": "2023-01-08T15:06:27.129Z"
   },
   {
    "duration": 10,
    "start_time": "2023-01-08T15:06:31.716Z"
   },
   {
    "duration": 31,
    "start_time": "2023-01-08T15:06:35.143Z"
   },
   {
    "duration": 8,
    "start_time": "2023-01-08T15:06:41.782Z"
   },
   {
    "duration": 7,
    "start_time": "2023-01-08T15:06:43.943Z"
   },
   {
    "duration": 19,
    "start_time": "2023-01-08T15:06:47.320Z"
   },
   {
    "duration": 5,
    "start_time": "2023-01-08T15:06:55.047Z"
   },
   {
    "duration": 3,
    "start_time": "2023-01-08T15:06:58.593Z"
   },
   {
    "duration": 492,
    "start_time": "2023-01-08T15:07:03.118Z"
   },
   {
    "duration": 55,
    "start_time": "2023-01-08T15:07:07.367Z"
   },
   {
    "duration": 35,
    "start_time": "2023-01-08T15:08:40.392Z"
   },
   {
    "duration": 24,
    "start_time": "2023-01-08T15:08:46.587Z"
   },
   {
    "duration": 42,
    "start_time": "2023-01-08T15:08:55.430Z"
   },
   {
    "duration": 28,
    "start_time": "2023-01-08T15:09:00.884Z"
   },
   {
    "duration": 3,
    "start_time": "2023-01-08T15:09:05.888Z"
   },
   {
    "duration": 3,
    "start_time": "2023-01-08T15:09:08.118Z"
   },
   {
    "duration": 69,
    "start_time": "2023-01-08T15:09:10.559Z"
   },
   {
    "duration": 2334,
    "start_time": "2023-01-08T15:09:12.599Z"
   },
   {
    "duration": 127,
    "start_time": "2023-01-08T15:10:36.988Z"
   },
   {
    "duration": 8,
    "start_time": "2023-01-08T15:10:47.359Z"
   },
   {
    "duration": 31,
    "start_time": "2023-01-08T15:10:59.086Z"
   },
   {
    "duration": 859,
    "start_time": "2023-01-08T15:11:08.947Z"
   },
   {
    "duration": 136,
    "start_time": "2023-01-08T15:12:11.855Z"
   },
   {
    "duration": 896,
    "start_time": "2023-01-08T15:13:12.414Z"
   },
   {
    "duration": 1538,
    "start_time": "2023-01-08T15:14:06.119Z"
   },
   {
    "duration": 1300,
    "start_time": "2023-01-08T15:16:52.480Z"
   },
   {
    "duration": 1211,
    "start_time": "2023-01-08T15:17:11.800Z"
   },
   {
    "duration": 1129,
    "start_time": "2023-01-08T15:19:48.484Z"
   },
   {
    "duration": 6,
    "start_time": "2023-01-08T16:02:21.108Z"
   },
   {
    "duration": 13,
    "start_time": "2023-01-08T16:04:51.664Z"
   },
   {
    "duration": 15,
    "start_time": "2023-01-08T16:06:12.296Z"
   },
   {
    "duration": 5,
    "start_time": "2023-01-08T16:06:25.024Z"
   },
   {
    "duration": 6,
    "start_time": "2023-01-08T16:06:39.632Z"
   },
   {
    "duration": 6,
    "start_time": "2023-01-08T16:06:56.032Z"
   },
   {
    "duration": 7,
    "start_time": "2023-01-08T16:09:16.903Z"
   },
   {
    "duration": 12,
    "start_time": "2023-01-08T16:17:20.808Z"
   },
   {
    "duration": 12,
    "start_time": "2023-01-08T16:17:26.842Z"
   },
   {
    "duration": 8,
    "start_time": "2023-01-08T16:20:16.264Z"
   },
   {
    "duration": 7,
    "start_time": "2023-01-08T16:20:26.418Z"
   },
   {
    "duration": 11,
    "start_time": "2023-01-08T16:25:12.538Z"
   },
   {
    "duration": 4,
    "start_time": "2023-01-08T16:27:10.030Z"
   },
   {
    "duration": 31,
    "start_time": "2023-01-08T16:29:00.254Z"
   },
   {
    "duration": 11,
    "start_time": "2023-01-08T16:33:01.580Z"
   },
   {
    "duration": 11,
    "start_time": "2023-01-08T16:33:31.871Z"
   },
   {
    "duration": 13,
    "start_time": "2023-01-08T16:33:43.594Z"
   },
   {
    "duration": 1084,
    "start_time": "2023-01-08T16:35:36.083Z"
   },
   {
    "duration": 14,
    "start_time": "2023-01-08T16:35:56.078Z"
   },
   {
    "duration": 13,
    "start_time": "2023-01-08T16:36:15.635Z"
   },
   {
    "duration": 14,
    "start_time": "2023-01-08T16:38:05.558Z"
   },
   {
    "duration": 14,
    "start_time": "2023-01-08T16:38:21.856Z"
   },
   {
    "duration": 14,
    "start_time": "2023-01-08T16:38:29.344Z"
   },
   {
    "duration": 20,
    "start_time": "2023-01-08T16:38:51.301Z"
   },
   {
    "duration": 15,
    "start_time": "2023-01-08T16:40:34.995Z"
   },
   {
    "duration": 17,
    "start_time": "2023-01-08T16:42:30.964Z"
   },
   {
    "duration": 14,
    "start_time": "2023-01-08T16:43:36.659Z"
   },
   {
    "duration": 16,
    "start_time": "2023-01-08T16:44:19.068Z"
   },
   {
    "duration": 87,
    "start_time": "2023-01-08T17:52:38.550Z"
   },
   {
    "duration": 702,
    "start_time": "2023-01-09T10:42:47.356Z"
   },
   {
    "duration": 16,
    "start_time": "2023-01-09T10:42:48.060Z"
   },
   {
    "duration": 87,
    "start_time": "2023-01-09T10:42:48.078Z"
   },
   {
    "duration": 2256,
    "start_time": "2023-01-09T10:42:48.167Z"
   },
   {
    "duration": 9,
    "start_time": "2023-01-09T10:42:50.425Z"
   },
   {
    "duration": 35,
    "start_time": "2023-01-09T10:42:50.436Z"
   },
   {
    "duration": 7,
    "start_time": "2023-01-09T10:42:50.473Z"
   },
   {
    "duration": 8,
    "start_time": "2023-01-09T10:42:50.481Z"
   },
   {
    "duration": 20,
    "start_time": "2023-01-09T10:42:50.491Z"
   },
   {
    "duration": 5,
    "start_time": "2023-01-09T10:42:50.513Z"
   },
   {
    "duration": 4,
    "start_time": "2023-01-09T10:42:50.520Z"
   },
   {
    "duration": 242,
    "start_time": "2023-01-09T10:42:50.525Z"
   },
   {
    "duration": 57,
    "start_time": "2023-01-09T10:42:50.768Z"
   },
   {
    "duration": 33,
    "start_time": "2023-01-09T10:42:55.720Z"
   },
   {
    "duration": 13,
    "start_time": "2023-01-09T10:43:06.259Z"
   },
   {
    "duration": 1022,
    "start_time": "2023-01-10T11:04:45.711Z"
   },
   {
    "duration": 17,
    "start_time": "2023-01-10T11:04:48.245Z"
   },
   {
    "duration": 104,
    "start_time": "2023-01-10T11:04:50.691Z"
   },
   {
    "duration": 2689,
    "start_time": "2023-01-10T11:06:06.767Z"
   },
   {
    "duration": 80,
    "start_time": "2023-01-10T11:44:32.567Z"
   },
   {
    "duration": 36,
    "start_time": "2023-01-10T11:48:10.233Z"
   },
   {
    "duration": 27,
    "start_time": "2023-01-10T11:48:12.277Z"
   },
   {
    "duration": 85,
    "start_time": "2023-01-10T11:48:52.407Z"
   },
   {
    "duration": 15,
    "start_time": "2023-01-10T11:48:54.469Z"
   },
   {
    "duration": 107,
    "start_time": "2023-01-10T11:48:57.560Z"
   },
   {
    "duration": 2187,
    "start_time": "2023-01-10T11:49:00.255Z"
   },
   {
    "duration": 10,
    "start_time": "2023-01-10T11:49:06.514Z"
   },
   {
    "duration": 29,
    "start_time": "2023-01-10T11:52:49.479Z"
   },
   {
    "duration": 9,
    "start_time": "2023-01-10T11:52:52.231Z"
   },
   {
    "duration": 78,
    "start_time": "2023-01-10T12:38:32.629Z"
   },
   {
    "duration": 17,
    "start_time": "2023-01-10T12:38:34.229Z"
   },
   {
    "duration": 109,
    "start_time": "2023-01-10T12:38:35.941Z"
   },
   {
    "duration": 2112,
    "start_time": "2023-01-10T12:38:39.318Z"
   },
   {
    "duration": 10,
    "start_time": "2023-01-10T12:38:46.487Z"
   },
   {
    "duration": 33,
    "start_time": "2023-01-10T12:38:51.410Z"
   },
   {
    "duration": 10,
    "start_time": "2023-01-10T12:38:54.742Z"
   },
   {
    "duration": 25,
    "start_time": "2023-01-10T12:40:43.336Z"
   },
   {
    "duration": 115,
    "start_time": "2023-01-10T12:41:56.437Z"
   },
   {
    "duration": 21,
    "start_time": "2023-01-10T12:41:58.469Z"
   },
   {
    "duration": 117,
    "start_time": "2023-01-10T12:42:01.850Z"
   },
   {
    "duration": 2061,
    "start_time": "2023-01-10T12:42:06.038Z"
   },
   {
    "duration": 11,
    "start_time": "2023-01-10T12:42:13.878Z"
   },
   {
    "duration": 216,
    "start_time": "2023-01-10T12:42:17.382Z"
   },
   {
    "duration": 9,
    "start_time": "2023-01-10T12:42:23.749Z"
   },
   {
    "duration": 24,
    "start_time": "2023-01-10T12:42:26.597Z"
   },
   {
    "duration": 5,
    "start_time": "2023-01-10T12:48:34.022Z"
   },
   {
    "duration": 33,
    "start_time": "2023-01-10T12:48:37.238Z"
   },
   {
    "duration": 9,
    "start_time": "2023-01-10T12:48:43.572Z"
   },
   {
    "duration": 5,
    "start_time": "2023-01-10T12:48:55.445Z"
   },
   {
    "duration": 255,
    "start_time": "2023-01-10T12:49:03.837Z"
   },
   {
    "duration": 83,
    "start_time": "2023-01-10T12:49:57.503Z"
   },
   {
    "duration": 38,
    "start_time": "2023-01-10T12:50:27.972Z"
   },
   {
    "duration": 39,
    "start_time": "2023-01-10T12:50:40.074Z"
   },
   {
    "duration": 3,
    "start_time": "2023-01-10T12:59:35.294Z"
   },
   {
    "duration": 50,
    "start_time": "2023-01-10T13:01:36.029Z"
   },
   {
    "duration": 39,
    "start_time": "2023-01-10T13:01:38.616Z"
   },
   {
    "duration": 4,
    "start_time": "2023-01-10T13:02:28.088Z"
   },
   {
    "duration": 40,
    "start_time": "2023-01-10T13:02:31.062Z"
   },
   {
    "duration": 29,
    "start_time": "2023-01-10T13:02:33.657Z"
   },
   {
    "duration": 4,
    "start_time": "2023-01-10T13:03:21.948Z"
   },
   {
    "duration": 35,
    "start_time": "2023-01-10T13:03:24.308Z"
   },
   {
    "duration": 38,
    "start_time": "2023-01-10T13:03:26.085Z"
   },
   {
    "duration": 87,
    "start_time": "2023-01-10T13:03:50.009Z"
   },
   {
    "duration": 29,
    "start_time": "2023-01-10T13:05:12.839Z"
   },
   {
    "duration": 4,
    "start_time": "2023-01-10T13:05:15.691Z"
   },
   {
    "duration": 5,
    "start_time": "2023-01-10T13:05:18.778Z"
   },
   {
    "duration": 472,
    "start_time": "2023-01-10T13:05:20.282Z"
   },
   {
    "duration": 2834,
    "start_time": "2023-01-10T13:06:01.500Z"
   },
   {
    "duration": 11,
    "start_time": "2023-01-10T13:06:39.612Z"
   },
   {
    "duration": 49,
    "start_time": "2023-01-10T13:06:43.036Z"
   },
   {
    "duration": 1308,
    "start_time": "2023-01-10T13:06:52.026Z"
   },
   {
    "duration": 9,
    "start_time": "2023-01-10T13:07:11.613Z"
   },
   {
    "duration": 26,
    "start_time": "2023-01-10T13:07:15.673Z"
   },
   {
    "duration": 12,
    "start_time": "2023-01-10T14:28:01.832Z"
   },
   {
    "duration": 152,
    "start_time": "2023-01-10T14:28:07.571Z"
   },
   {
    "duration": 12,
    "start_time": "2023-01-10T14:28:10.321Z"
   },
   {
    "duration": 52,
    "start_time": "2023-01-10T14:28:13.372Z"
   },
   {
    "duration": 86,
    "start_time": "2023-01-10T14:28:22.837Z"
   },
   {
    "duration": 14,
    "start_time": "2023-01-10T14:28:45.496Z"
   },
   {
    "duration": 1271,
    "start_time": "2023-01-10T14:29:22.109Z"
   },
   {
    "duration": 12,
    "start_time": "2023-01-10T14:30:51.921Z"
   },
   {
    "duration": 1570,
    "start_time": "2023-01-10T14:31:00.166Z"
   },
   {
    "duration": 1587,
    "start_time": "2023-01-10T14:32:08.577Z"
   },
   {
    "duration": 147,
    "start_time": "2023-01-10T14:33:24.769Z"
   },
   {
    "duration": 119,
    "start_time": "2023-01-10T14:35:12.240Z"
   },
   {
    "duration": 1943,
    "start_time": "2023-01-10T14:35:24.197Z"
   },
   {
    "duration": 1329,
    "start_time": "2023-01-10T14:41:10.680Z"
   },
   {
    "duration": 158,
    "start_time": "2023-01-10T14:41:21.771Z"
   },
   {
    "duration": 10,
    "start_time": "2023-01-10T14:57:26.524Z"
   },
   {
    "duration": 14,
    "start_time": "2023-01-10T14:57:40.108Z"
   },
   {
    "duration": 21,
    "start_time": "2023-01-10T14:57:48.966Z"
   },
   {
    "duration": 12,
    "start_time": "2023-01-10T15:07:40.251Z"
   },
   {
    "duration": 14,
    "start_time": "2023-01-10T15:07:53.596Z"
   },
   {
    "duration": 21,
    "start_time": "2023-01-10T15:09:41.875Z"
   },
   {
    "duration": 19,
    "start_time": "2023-01-10T15:10:10.466Z"
   },
   {
    "duration": 18,
    "start_time": "2023-01-10T15:10:52.650Z"
   },
   {
    "duration": 242,
    "start_time": "2023-01-10T15:13:03.948Z"
   },
   {
    "duration": 36,
    "start_time": "2023-01-10T15:14:04.112Z"
   },
   {
    "duration": 19,
    "start_time": "2023-01-10T15:14:20.177Z"
   },
   {
    "duration": 151,
    "start_time": "2023-01-10T15:15:22.664Z"
   }
  ],
  "kernelspec": {
   "display_name": "Python 3 (ipykernel)",
   "language": "python",
   "name": "python3"
  },
  "language_info": {
   "codemirror_mode": {
    "name": "ipython",
    "version": 3
   },
   "file_extension": ".py",
   "mimetype": "text/x-python",
   "name": "python",
   "nbconvert_exporter": "python",
   "pygments_lexer": "ipython3",
   "version": "3.10.7"
  },
  "toc": {
   "base_numbering": 1,
   "nav_menu": {},
   "number_sections": true,
   "sideBar": true,
   "skip_h1_title": true,
   "title_cell": "Table of Contents",
   "title_sidebar": "Contents",
   "toc_cell": false,
   "toc_position": {},
   "toc_section_display": true,
   "toc_window_display": false
  }
 },
 "nbformat": 4,
 "nbformat_minor": 4
}
