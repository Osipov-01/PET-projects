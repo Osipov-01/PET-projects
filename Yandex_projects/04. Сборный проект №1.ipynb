{
 "cells": [
  {
   "cell_type": "markdown",
   "metadata": {},
   "source": [
    "«Дедлайн - 21 января, специальность (DA/DS/DA+/DS+), и номер когорты не помню, набор проходил в сентябре, в конце октября начался курс, куратор - Зиборев Никита, он приболел, его сейчас замещает Динара Ха»"
   ]
  },
  {
   "cell_type": "markdown",
   "metadata": {},
   "source": [
    "**Привет, Иван!** 👋\n",
    "\n",
    "Меня зовут Артем Пиляй. Я буду проверять твой проект. В рамках корпоративной этики мы общаемся на «ты». Но если лучше на «Вы», то нужно обозначить это сразу.\n",
    " \n",
    "В тетрадке есть комментарии к проекту, они будут в отдельных ячейках Markdown.\n",
    " \n",
    "<div class=\"alert alert-danger\">\n",
    "\n",
    "**Артём:** ✋ Такой комментарий **нужно исправить** обязательно, он критически влияет на удачное выполнение проекта.\n",
    "\n",
    "</div>\n",
    "\n",
    "<div class=\"alert alert-warning\">\n",
    "\n",
    "**Артём:** 👉 Если таких комментариев в проекте **не больше трех**, то проект будет принят. Но есть два исключения, при которых я приму проект с любым количеством таких комментариев:\n",
    "    \n",
    "* если у тебя дедлайн, тогда оставь в начале 👆 проекта комментарий «Дедлайн, специальность (DA/DS/DA+/DS+), и номер когорты»;\n",
    "* если ты считаешь, что для успешного трудоустройства и для успешной работы в команде тебе это не нужно, тогда оставь в начале проекта комментарий «Не нужно».\n",
    "</div>\n",
    "\n",
    "<div class=\"alert alert-success\">\n",
    "\n",
    "**Артём:** 👍 А это **самый главный комментарий**, значит все сделано хорошо. 😉\n",
    "\n",
    "</div>\n",
    "\n",
    "<div class=\"alert alert-info\">\n",
    "\n",
    "**Артём:** ✍️ В таких комментариях я оставляю подсказки как сделать **твой проект ещё лучше**.\n",
    "\n",
    "</div>\n",
    "\n",
    "---\n",
    "\n",
    "**Распространенные ошибки**\n",
    "\n",
    "<div class=\"alert alert-danger\">\n",
    "\n",
    "**Артём:** ✋ Не перемещай и не удаляй мои комментарии. Лучше, чтобы твои ответы на мои комментарии шли по очереди, как сообщения в мессенджере. Это ускорит проверку.\n",
    "    \n",
    "</div>\n",
    "\n",
    "<div class=\"alert alert-danger\">\n",
    "\n",
    "**Артём:** ✋ Проверь проект на работоспособность перед отправкой на проверку. Это важный навык, который тебе пригодится как на собеседовании, при выполнении тестового задания, так и перед совещанием у руководства компании. Помни, ревьеры не вносят изменения в код, даже если это путь к датасету или ячейка в неверном формате (code/mardown).  \n",
    "    \n",
    "</div>\n",
    "\n",
    "<div class=\"alert alert-info\">\n",
    "\n",
    "**Артём:** ✍️ Кстати, смотри как можно сделать, чтобы датасет грузился и локально, и в JupyterHub:\n",
    "\n",
    "```py\n",
    "try:\n",
    "    df = pd.read_csv('C:/Users/Student/Desktop/dataset.csv')\n",
    "except:\n",
    "    df = pd.read_csv('/datasets/dataset.csv')\n",
    "```\n",
    "    \n",
    "Используя эту конструкцию в будущих проектах, ты будешь спокойно отправлять проект на проверку зная, что он будет работать.\n",
    "    \n",
    "</div>\n",
    "\n",
    "<div class=\"alert alert-danger\">\n",
    "\n",
    "**Артём:** ✋ Проект должен быть структурирован. Где названия разделов и подразделов будут записаны в ячейках Markdown.\n",
    "    \n",
    "</div>\n",
    "\n",
    "<div class=\"alert alert-danger\">\n",
    "\n",
    "**Артём:** ✋ Если с твоим проектом будет знакомиться другой человек, например рекрутер или старший дата специалист, в нем должны быть описаны поставленные задачи, содержание датасета, промежуточные и финальные выводы. Как правило, заказчик читает только финальный вывод, поэтому важно добавить информацию о проведенном исследовании, применить форматирование текста, в общем, сделать красиво, чтобы было понятно, что проведено настоящее исследование и выводу можно верить. \n",
    "\n",
    "</div>  \n",
    "\n",
    "<div class=\"alert alert-warning\">\n",
    "    \n",
    "**Артём:** 👉 Длинный код и комментарии нужно переносить на новую строку. Согласись, коллеги не оценят, если им придется тратить время на пролистывание ячеек. Согласно международному стандарту [PEP8](https://www.python.org/dev/peps/pep-0008/) длина строки не должна превышать 79 символов.\n",
    "Вот как можно перенести код на новую строку:\n",
    "\n",
    "```py\n",
    "# Переносить можно код внутри скобки\n",
    "example = (2 *\n",
    "           2)\n",
    "```\n",
    "Конечно, я не считаю сколько символов в строке, главное, чтобы код или комментарий не ушел за пределы ячейки (зависит от разрешения экрана). Если ушел, то это желтый комментарий для каждой нечитаемой ячейки.\n",
    "    \n",
    "</div>\n",
    "\n",
    "<div class=\"alert alert-warning\">\n",
    "    \n",
    "**Артём:** 👉 Тимлид, старший дата специалист или ревьюер ценят твое и своё время, подсвечивай свои комментарии в ячейках Markdown. Шаблон я тебе оставил ниже. Подробнее про синтаксис Markdown, с примерами, можно почитать [здесь](https://paulradzkov.com/2014/markdown_cheatsheet/?).\n",
    "    \n",
    "</div>\n",
    "\n",
    "<div class=\"alert alert-success\">\n",
    "\n",
    "**Артём:** 👍 Буду рад, если воспользуешься моими советами. Они тебе помогут при трудоустройстве и при работе в команде. Если в ходе проведения исследования возникнут вопросы, не стесняйся задавай. 🙂\n",
    "</div>\n",
    "\n",
    "<div class=\"alert alert-info\">\n",
    "\n",
    "**Артём:** 🏁 [Итоги ревью здесь](#results)\n",
    "</div>\n",
    "\n",
    "\n",
    "**Поехали!** 🚀 👨‍🚀"
   ]
  },
  {
   "cell_type": "markdown",
   "metadata": {},
   "source": [
    "<div style=\"border:solid green 2px; padding: 20px\">\n",
    "\n",
    "**Имя:** Это шаблон для тебя. Такой комментарий можно быстро найти."
   ]
  },
  {
   "cell_type": "markdown",
   "metadata": {
    "id": "sIfNaMOxgFyK"
   },
   "source": [
    "## Исследование данных о российском кинопрокате\n",
    "\n"
   ]
  },
  {
   "cell_type": "markdown",
   "metadata": {},
   "source": [
    "<a id=\"cell_0\"></a> \n",
    "<div class=\"alert alert-danger\">\n",
    "\n",
    "**Артём:** ✋ Добавь еще описание столбцов датасета, чтобы человек, который будет знакомится с твоим портфолио понимал, что ты исследуешь.\n",
    "    \n",
    "Пример форматирования:\n",
    "\n",
    "- `first_column` — содержание столбца 1;\n",
    "- `second_column` — содержание столбца 2;\n",
    "\n",
    "</div>"
   ]
  },
  {
   "cell_type": "markdown",
   "metadata": {},
   "source": [
    "**Описание данных**  \n",
    "Таблица mkrf_movies содержит информацию из реестра прокатных удостоверений. У одного фильма может быть несколько прокатных удостоверений. \n",
    "* `title` — название фильма;\n",
    "* `puNumber` — номер прокатного удостоверения;\n",
    "* `show_start_date` — дата премьеры фильма;\n",
    "* `type` — тип фильма;\n",
    "* `film_studio` — студия-производитель;\n",
    "* `production_country` — страна-производитель;\n",
    "* `director` — режиссёр;\n",
    "* `producer` — продюсер;\n",
    "* `age_restriction` — возрастная категория;\n",
    "* `refundable_support` — объём возвратных средств государственной поддержки;\n",
    "* `nonrefundable_support` — объём невозвратных средств государственной поддержки;\n",
    "* `financing_source` — источник государственного финансирования;\n",
    "* `budget` — общий бюджет фильма;\n",
    "* `ratings` — рейтинг фильма на КиноПоиске;\n",
    "* `genres` — жанр фильма.\n",
    "\\\n",
    "\\\n",
    "Столбец budget уже включает в себя полный объём государственной поддержки. Данные в этом столбце указаны только для тех фильмов, которые получили государственную поддержку. \\\n",
    "\\\n",
    "Таблица mkrf_shows содержит сведения о показах фильмов в российских кинотеатрах.\n",
    "* `puNumber` — номер прокатного удостоверения;\n",
    "* `box_office` — сборы в рублях."
   ]
  },
  {
   "cell_type": "markdown",
   "metadata": {},
   "source": [
    "<div class=\"alert alert-success\">\n",
    "\n",
    "**Артём:** 👍 Отлично.\n",
    "\n",
    "</div>"
   ]
  },
  {
   "cell_type": "markdown",
   "metadata": {
    "id": "3bSlkCsbgFyL"
   },
   "source": [
    "### Шаг 1. Откройте файлы с данными и объедините их в один датафрейм. \n",
    "\n",
    "Объедините данные таким образом, чтобы все объекты из датасета `mkrf_movies` обязательно вошли в получившийся датафрейм. \n",
    "\n",
    "<div id=\"accordion\">\n",
    "    <div class=\"card\">\n",
    "        <div class=\"card-header\" id=\"headingThree\">\n",
    "            <button class=\"btn btn-link collapsed\" data-toggle=\"collapse\" data-target=\"#collapseHint_0\" aria-expanded=\"false\" aria-controls=\"collapseHint_0\">Подсказка</button>\n",
    "        </div>\n",
    "        <div id=\"collapseHint_0\" class=\"collapse\" aria-labelledby=\"headingThree\" data-parent=\"#accordion\">\n",
    "            <div class=\"card-body\">\n",
    "Обратите внимание на тип данных столбца, по которому будете соединять датафреймы. Тип данных этих столбцов должен быть одинаковым в обоих датафреймах.\n",
    "            </div>\n",
    "        </div>\n",
    "    </div>\n",
    "</div>"
   ]
  },
  {
   "cell_type": "code",
   "execution_count": 1,
   "metadata": {
    "id": "dw87FlzMgFyM"
   },
   "outputs": [],
   "source": [
    "import pandas as pd\n",
    "import random as rd #импорт библиотеки случайных чисел\n",
    "import matplotlib.pyplot as plt #отображение графиков\n",
    "#читаем 2 датасета\n",
    "mkrf_movies = pd.read_csv('/datasets/mkrf_movies.csv')\n",
    "mkrf_shows = pd.read_csv('/datasets/mkrf_shows.csv')"
   ]
  },
  {
   "cell_type": "markdown",
   "metadata": {},
   "source": [
    "<div class=\"alert alert-danger\">\n",
    "\n",
    "**Артём:** ✋ К сожалению, не смог ознакомиться с твоим проектом до конца, ошибка в коде 🙁\n",
    "\n",
    "Пожалуйста, перед отправкой на проверку запусти проект в JupyterHub ⏩ и посмотри, что бы он отработал до конца, чтобы тебе не терять время.\n",
    "    \n",
    "Представь, что ты работаешь в крупной фирме, допустим ты сделала проект дома, а на совещании у руководства проект не работает. Согласись будет странно звучать если ты будешь объяснять генеральному директору, что дома работает, а здесь нет. Работоспособность проекта – это ответственность того, кто его разрабатывал.\n",
    "    \n",
    "В Практикуме для этого работают Наставники и Преподаватели, они всегда готовы помочь.\n",
    "\n",
    "Жду рабочую версию проекта. 🙂\n",
    "\n",
    "</div>"
   ]
  },
  {
   "cell_type": "markdown",
   "metadata": {},
   "source": [
    "<a id=\"cell_2\"></a>\n",
    "<div class=\"alert alert-danger\">\n",
    "\n",
    "**Артём:** ✋ Загруженные датафреймы нужно изучить. Для этого достаточно воспользоваться методами `head` или `info`.\n",
    "\n",
    "</div>"
   ]
  },
  {
   "cell_type": "markdown",
   "metadata": {},
   "source": [
    "<div class=\"alert alert-success\">\n",
    "\n",
    "**Артём:** 👍👍 Хорошо.\n",
    "\n",
    "</div>"
   ]
  },
  {
   "cell_type": "markdown",
   "metadata": {},
   "source": [
    "Изучим полученные датафреймы."
   ]
  },
  {
   "cell_type": "code",
   "execution_count": 2,
   "metadata": {},
   "outputs": [
    {
     "name": "stdout",
     "output_type": "stream",
     "text": [
      "<class 'pandas.core.frame.DataFrame'>\n",
      "RangeIndex: 7486 entries, 0 to 7485\n",
      "Data columns (total 15 columns):\n",
      " #   Column                 Non-Null Count  Dtype  \n",
      "---  ------                 --------------  -----  \n",
      " 0   title                  7486 non-null   object \n",
      " 1   puNumber               7486 non-null   object \n",
      " 2   show_start_date        7486 non-null   object \n",
      " 3   type                   7486 non-null   object \n",
      " 4   film_studio            7468 non-null   object \n",
      " 5   production_country     7484 non-null   object \n",
      " 6   director               7477 non-null   object \n",
      " 7   producer               6918 non-null   object \n",
      " 8   age_restriction        7486 non-null   object \n",
      " 9   refundable_support     332 non-null    float64\n",
      " 10  nonrefundable_support  332 non-null    float64\n",
      " 11  budget                 332 non-null    float64\n",
      " 12  financing_source       332 non-null    object \n",
      " 13  ratings                6519 non-null   object \n",
      " 14  genres                 6510 non-null   object \n",
      "dtypes: float64(3), object(12)\n",
      "memory usage: 877.4+ KB\n"
     ]
    },
    {
     "data": {
      "text/plain": [
       "None"
      ]
     },
     "metadata": {},
     "output_type": "display_data"
    },
    {
     "name": "stdout",
     "output_type": "stream",
     "text": [
      "<class 'pandas.core.frame.DataFrame'>\n",
      "RangeIndex: 3158 entries, 0 to 3157\n",
      "Data columns (total 2 columns):\n",
      " #   Column      Non-Null Count  Dtype  \n",
      "---  ------      --------------  -----  \n",
      " 0   puNumber    3158 non-null   int64  \n",
      " 1   box_office  3158 non-null   float64\n",
      "dtypes: float64(1), int64(1)\n",
      "memory usage: 49.5 KB\n"
     ]
    },
    {
     "data": {
      "text/plain": [
       "None"
      ]
     },
     "metadata": {},
     "output_type": "display_data"
    },
    {
     "data": {
      "text/html": [
       "<div>\n",
       "<style scoped>\n",
       "    .dataframe tbody tr th:only-of-type {\n",
       "        vertical-align: middle;\n",
       "    }\n",
       "\n",
       "    .dataframe tbody tr th {\n",
       "        vertical-align: top;\n",
       "    }\n",
       "\n",
       "    .dataframe thead th {\n",
       "        text-align: right;\n",
       "    }\n",
       "</style>\n",
       "<table border=\"1\" class=\"dataframe\">\n",
       "  <thead>\n",
       "    <tr style=\"text-align: right;\">\n",
       "      <th></th>\n",
       "      <th>title</th>\n",
       "      <th>puNumber</th>\n",
       "      <th>show_start_date</th>\n",
       "      <th>type</th>\n",
       "      <th>film_studio</th>\n",
       "      <th>production_country</th>\n",
       "      <th>director</th>\n",
       "      <th>producer</th>\n",
       "      <th>age_restriction</th>\n",
       "      <th>refundable_support</th>\n",
       "      <th>nonrefundable_support</th>\n",
       "      <th>budget</th>\n",
       "      <th>financing_source</th>\n",
       "      <th>ratings</th>\n",
       "      <th>genres</th>\n",
       "    </tr>\n",
       "  </thead>\n",
       "  <tbody>\n",
       "    <tr>\n",
       "      <th>0</th>\n",
       "      <td>Открытый простор</td>\n",
       "      <td>221048915</td>\n",
       "      <td>2015-11-27T12:00:00.000Z</td>\n",
       "      <td>Художественный</td>\n",
       "      <td>Тачстоун Пикчерз, Кобальт Пикчерз, Бикон Пикче...</td>\n",
       "      <td>США</td>\n",
       "      <td>Кевин Костнер</td>\n",
       "      <td>Дэвид Валдес, Кевин Костнер, Джейк Эбертс</td>\n",
       "      <td>«18+» - запрещено для детей</td>\n",
       "      <td>NaN</td>\n",
       "      <td>NaN</td>\n",
       "      <td>NaN</td>\n",
       "      <td>NaN</td>\n",
       "      <td>7.2</td>\n",
       "      <td>боевик,драма,мелодрама</td>\n",
       "    </tr>\n",
       "    <tr>\n",
       "      <th>1</th>\n",
       "      <td>Особо важное задание</td>\n",
       "      <td>111013716</td>\n",
       "      <td>2016-09-13T12:00:00.000Z</td>\n",
       "      <td>Художественный</td>\n",
       "      <td>Киностудия \"Мосфильм\"</td>\n",
       "      <td>СССР</td>\n",
       "      <td>Е.Матвеев</td>\n",
       "      <td>NaN</td>\n",
       "      <td>«6+» - для детей старше 6 лет</td>\n",
       "      <td>NaN</td>\n",
       "      <td>NaN</td>\n",
       "      <td>NaN</td>\n",
       "      <td>NaN</td>\n",
       "      <td>6.6</td>\n",
       "      <td>драма,военный</td>\n",
       "    </tr>\n",
       "    <tr>\n",
       "      <th>2</th>\n",
       "      <td>Особо опасен</td>\n",
       "      <td>221038416</td>\n",
       "      <td>2016-10-10T12:00:00.000Z</td>\n",
       "      <td>Художественный</td>\n",
       "      <td>Юниверсал Пикчерз, Кикстарт Продакшнз, Марк Пл...</td>\n",
       "      <td>США</td>\n",
       "      <td>Тимур Бекмамбетов</td>\n",
       "      <td>Джим Лемли, Джейсон Нетер, Марк Е.Платт, Яйн Смит</td>\n",
       "      <td>«18+» - запрещено для детей</td>\n",
       "      <td>NaN</td>\n",
       "      <td>NaN</td>\n",
       "      <td>NaN</td>\n",
       "      <td>NaN</td>\n",
       "      <td>6.8</td>\n",
       "      <td>фантастика,боевик,триллер</td>\n",
       "    </tr>\n",
       "    <tr>\n",
       "      <th>3</th>\n",
       "      <td>Особо опасен</td>\n",
       "      <td>221026916</td>\n",
       "      <td>2016-06-10T12:00:00.000Z</td>\n",
       "      <td>Художественный</td>\n",
       "      <td>Юниверсал Пикчерз, Кикстарт Продакшнз, Марк Пл...</td>\n",
       "      <td>США</td>\n",
       "      <td>Тимур Бекмамбетов</td>\n",
       "      <td>Джим Лемли, Джейсон Нетер, Марк Е.Платт, Яйн Смит</td>\n",
       "      <td>«18+» - запрещено для детей</td>\n",
       "      <td>NaN</td>\n",
       "      <td>NaN</td>\n",
       "      <td>NaN</td>\n",
       "      <td>NaN</td>\n",
       "      <td>6.8</td>\n",
       "      <td>фантастика,боевик,триллер</td>\n",
       "    </tr>\n",
       "    <tr>\n",
       "      <th>4</th>\n",
       "      <td>Особо опасен</td>\n",
       "      <td>221030815</td>\n",
       "      <td>2015-07-29T12:00:00.000Z</td>\n",
       "      <td>Художественный</td>\n",
       "      <td>Юниверсал Пикчерз, Кикстарт Продакшнз, Марк Пл...</td>\n",
       "      <td>США</td>\n",
       "      <td>Тимур Бекмамбетов</td>\n",
       "      <td>Джим Лемли, Джейсон Нетер, Марк Е.Платт, Яйн Смит</td>\n",
       "      <td>«18+» - запрещено для детей</td>\n",
       "      <td>NaN</td>\n",
       "      <td>NaN</td>\n",
       "      <td>NaN</td>\n",
       "      <td>NaN</td>\n",
       "      <td>6.8</td>\n",
       "      <td>фантастика,боевик,триллер</td>\n",
       "    </tr>\n",
       "  </tbody>\n",
       "</table>\n",
       "</div>"
      ],
      "text/plain": [
       "                  title   puNumber           show_start_date            type  \\\n",
       "0      Открытый простор  221048915  2015-11-27T12:00:00.000Z  Художественный   \n",
       "1  Особо важное задание  111013716  2016-09-13T12:00:00.000Z  Художественный   \n",
       "2          Особо опасен  221038416  2016-10-10T12:00:00.000Z  Художественный   \n",
       "3          Особо опасен  221026916  2016-06-10T12:00:00.000Z  Художественный   \n",
       "4          Особо опасен  221030815  2015-07-29T12:00:00.000Z  Художественный   \n",
       "\n",
       "                                         film_studio production_country  \\\n",
       "0  Тачстоун Пикчерз, Кобальт Пикчерз, Бикон Пикче...                США   \n",
       "1                              Киностудия \"Мосфильм\"               СССР   \n",
       "2  Юниверсал Пикчерз, Кикстарт Продакшнз, Марк Пл...                США   \n",
       "3  Юниверсал Пикчерз, Кикстарт Продакшнз, Марк Пл...                США   \n",
       "4  Юниверсал Пикчерз, Кикстарт Продакшнз, Марк Пл...                США   \n",
       "\n",
       "            director                                           producer  \\\n",
       "0      Кевин Костнер          Дэвид Валдес, Кевин Костнер, Джейк Эбертс   \n",
       "1          Е.Матвеев                                                NaN   \n",
       "2  Тимур Бекмамбетов  Джим Лемли, Джейсон Нетер, Марк Е.Платт, Яйн Смит   \n",
       "3  Тимур Бекмамбетов  Джим Лемли, Джейсон Нетер, Марк Е.Платт, Яйн Смит   \n",
       "4  Тимур Бекмамбетов  Джим Лемли, Джейсон Нетер, Марк Е.Платт, Яйн Смит   \n",
       "\n",
       "                 age_restriction  refundable_support  nonrefundable_support  \\\n",
       "0    «18+» - запрещено для детей                 NaN                    NaN   \n",
       "1  «6+» - для детей старше 6 лет                 NaN                    NaN   \n",
       "2    «18+» - запрещено для детей                 NaN                    NaN   \n",
       "3    «18+» - запрещено для детей                 NaN                    NaN   \n",
       "4    «18+» - запрещено для детей                 NaN                    NaN   \n",
       "\n",
       "   budget financing_source ratings                     genres  \n",
       "0     NaN              NaN     7.2     боевик,драма,мелодрама  \n",
       "1     NaN              NaN     6.6              драма,военный  \n",
       "2     NaN              NaN     6.8  фантастика,боевик,триллер  \n",
       "3     NaN              NaN     6.8  фантастика,боевик,триллер  \n",
       "4     NaN              NaN     6.8  фантастика,боевик,триллер  "
      ]
     },
     "metadata": {},
     "output_type": "display_data"
    },
    {
     "data": {
      "text/html": [
       "<div>\n",
       "<style scoped>\n",
       "    .dataframe tbody tr th:only-of-type {\n",
       "        vertical-align: middle;\n",
       "    }\n",
       "\n",
       "    .dataframe tbody tr th {\n",
       "        vertical-align: top;\n",
       "    }\n",
       "\n",
       "    .dataframe thead th {\n",
       "        text-align: right;\n",
       "    }\n",
       "</style>\n",
       "<table border=\"1\" class=\"dataframe\">\n",
       "  <thead>\n",
       "    <tr style=\"text-align: right;\">\n",
       "      <th></th>\n",
       "      <th>puNumber</th>\n",
       "      <th>box_office</th>\n",
       "    </tr>\n",
       "  </thead>\n",
       "  <tbody>\n",
       "    <tr>\n",
       "      <th>0</th>\n",
       "      <td>111000113</td>\n",
       "      <td>2.450000e+03</td>\n",
       "    </tr>\n",
       "    <tr>\n",
       "      <th>1</th>\n",
       "      <td>111000115</td>\n",
       "      <td>6.104000e+04</td>\n",
       "    </tr>\n",
       "    <tr>\n",
       "      <th>2</th>\n",
       "      <td>111000116</td>\n",
       "      <td>1.530300e+08</td>\n",
       "    </tr>\n",
       "    <tr>\n",
       "      <th>3</th>\n",
       "      <td>111000117</td>\n",
       "      <td>1.226096e+07</td>\n",
       "    </tr>\n",
       "    <tr>\n",
       "      <th>4</th>\n",
       "      <td>111000118</td>\n",
       "      <td>1.636841e+08</td>\n",
       "    </tr>\n",
       "  </tbody>\n",
       "</table>\n",
       "</div>"
      ],
      "text/plain": [
       "    puNumber    box_office\n",
       "0  111000113  2.450000e+03\n",
       "1  111000115  6.104000e+04\n",
       "2  111000116  1.530300e+08\n",
       "3  111000117  1.226096e+07\n",
       "4  111000118  1.636841e+08"
      ]
     },
     "metadata": {},
     "output_type": "display_data"
    }
   ],
   "source": [
    "display(mkrf_movies.info())\n",
    "display(mkrf_shows.info())\n",
    "display(mkrf_movies.head())\n",
    "display(mkrf_shows.head())"
   ]
  },
  {
   "cell_type": "markdown",
   "metadata": {},
   "source": [
    "Проверим типы данных всех столбцов из двух таблиц."
   ]
  },
  {
   "cell_type": "code",
   "execution_count": 3,
   "metadata": {},
   "outputs": [
    {
     "data": {
      "text/plain": [
       "title                     object\n",
       "puNumber                  object\n",
       "show_start_date           object\n",
       "type                      object\n",
       "film_studio               object\n",
       "production_country        object\n",
       "director                  object\n",
       "producer                  object\n",
       "age_restriction           object\n",
       "refundable_support       float64\n",
       "nonrefundable_support    float64\n",
       "budget                   float64\n",
       "financing_source          object\n",
       "ratings                   object\n",
       "genres                    object\n",
       "dtype: object"
      ]
     },
     "metadata": {},
     "output_type": "display_data"
    },
    {
     "data": {
      "text/plain": [
       "puNumber        int64\n",
       "box_office    float64\n",
       "dtype: object"
      ]
     },
     "metadata": {},
     "output_type": "display_data"
    }
   ],
   "source": [
    "display(mkrf_movies.dtypes)\n",
    "display(mkrf_shows.dtypes)"
   ]
  },
  {
   "cell_type": "markdown",
   "metadata": {},
   "source": [
    "Видим, что в двух таблицах у колонок с одним и тем же названием 'puNumber' разные типы данных: object и int64, хотя их содержимое то же самое. Следовательно, нужно преобразовать так, чтобы у конкретных колонок был одинаковый формат."
   ]
  },
  {
   "cell_type": "code",
   "execution_count": 4,
   "metadata": {},
   "outputs": [],
   "source": [
    "# Преобразование столбцов в формат str, \n",
    "# т.к. номер прокатного удостоверения никак в дальнейшем не связан с математическими операциями\n",
    "mkrf_shows['puNumber'] = mkrf_shows['puNumber'].astype('str')\n",
    "mkrf_movies['puNumber'] = mkrf_movies['puNumber'].astype('str')"
   ]
  },
  {
   "cell_type": "markdown",
   "metadata": {},
   "source": [
    "<div class=\"alert alert-success\">\n",
    "\n",
    "**Артём:** 👍 Хорошо.\n",
    "\n",
    "</div>"
   ]
  },
  {
   "cell_type": "markdown",
   "metadata": {},
   "source": [
    "Приступаем к объединению данных после всех необходимых преобразований в двух таблицах по колонке 'puNumber', а также выведем размер таблицы mkrf_movies перед объединением и после для проверки, что данные не потерялись."
   ]
  },
  {
   "cell_type": "code",
   "execution_count": 5,
   "metadata": {},
   "outputs": [
    {
     "name": "stdout",
     "output_type": "stream",
     "text": [
      "Размер таблицы до объединения: (7486, 15)\n",
      "Размер таблицы после объединения: (7486, 16)\n"
     ]
    }
   ],
   "source": [
    "# Объединение двух данных в один - mkrf_movies\n",
    "print('Размер таблицы до объединения:', mkrf_movies.shape)\n",
    "mkrf_movies = mkrf_movies.merge(mkrf_shows, on='puNumber', how='left')\n",
    "print('Размер таблицы после объединения:', mkrf_movies.shape)"
   ]
  },
  {
   "cell_type": "markdown",
   "metadata": {},
   "source": [
    "Проверка показала, что объединение данных прошло без потерь."
   ]
  },
  {
   "cell_type": "markdown",
   "metadata": {},
   "source": [
    "<a id=\"cell_1\"></a>\n",
    "<div class=\"alert alert-danger\">\n",
    "\n",
    "**Артём:** ✋ В задании требуется провести объединение без потери данных. Но, поскольку даже минимальное исследование данных не было проведено - ты никак не сможешь проверить, были ли данные потеряны.\n",
    "    \n",
    "</div>"
   ]
  },
  {
   "cell_type": "markdown",
   "metadata": {},
   "source": [
    "<div class=\"alert alert-success\">\n",
    "\n",
    "**Артём:** 👍👍 Отлично.\n",
    "\n",
    "</div>"
   ]
  },
  {
   "cell_type": "markdown",
   "metadata": {
    "id": "KLDGpPG0gFyM"
   },
   "source": [
    "### Шаг 2. Предобработка данных"
   ]
  },
  {
   "cell_type": "markdown",
   "metadata": {
    "id": "ssWwKXsxgFyO"
   },
   "source": [
    "#### Шаг 2.1. Проверьте типы данных\n",
    "\n",
    "- Проверьте типы данных в датафрейме и преобразуйте их там, где это необходимо."
   ]
  },
  {
   "cell_type": "markdown",
   "metadata": {},
   "source": [
    "Выведем срез данных и типы всех столбцов полученного датафрейма, чтобы потом преобразовать их в необходимый формат"
   ]
  },
  {
   "cell_type": "code",
   "execution_count": 6,
   "metadata": {
    "id": "kVGSplJOgFyO",
    "scrolled": true
   },
   "outputs": [
    {
     "data": {
      "text/html": [
       "<div>\n",
       "<style scoped>\n",
       "    .dataframe tbody tr th:only-of-type {\n",
       "        vertical-align: middle;\n",
       "    }\n",
       "\n",
       "    .dataframe tbody tr th {\n",
       "        vertical-align: top;\n",
       "    }\n",
       "\n",
       "    .dataframe thead th {\n",
       "        text-align: right;\n",
       "    }\n",
       "</style>\n",
       "<table border=\"1\" class=\"dataframe\">\n",
       "  <thead>\n",
       "    <tr style=\"text-align: right;\">\n",
       "      <th></th>\n",
       "      <th>title</th>\n",
       "      <th>puNumber</th>\n",
       "      <th>show_start_date</th>\n",
       "      <th>type</th>\n",
       "      <th>film_studio</th>\n",
       "      <th>production_country</th>\n",
       "      <th>director</th>\n",
       "      <th>producer</th>\n",
       "      <th>age_restriction</th>\n",
       "      <th>refundable_support</th>\n",
       "      <th>nonrefundable_support</th>\n",
       "      <th>budget</th>\n",
       "      <th>financing_source</th>\n",
       "      <th>ratings</th>\n",
       "      <th>genres</th>\n",
       "      <th>box_office</th>\n",
       "    </tr>\n",
       "  </thead>\n",
       "  <tbody>\n",
       "    <tr>\n",
       "      <th>0</th>\n",
       "      <td>Открытый простор</td>\n",
       "      <td>221048915</td>\n",
       "      <td>2015-11-27T12:00:00.000Z</td>\n",
       "      <td>Художественный</td>\n",
       "      <td>Тачстоун Пикчерз, Кобальт Пикчерз, Бикон Пикче...</td>\n",
       "      <td>США</td>\n",
       "      <td>Кевин Костнер</td>\n",
       "      <td>Дэвид Валдес, Кевин Костнер, Джейк Эбертс</td>\n",
       "      <td>«18+» - запрещено для детей</td>\n",
       "      <td>NaN</td>\n",
       "      <td>NaN</td>\n",
       "      <td>NaN</td>\n",
       "      <td>NaN</td>\n",
       "      <td>7.2</td>\n",
       "      <td>боевик,драма,мелодрама</td>\n",
       "      <td>NaN</td>\n",
       "    </tr>\n",
       "    <tr>\n",
       "      <th>1</th>\n",
       "      <td>Особо важное задание</td>\n",
       "      <td>111013716</td>\n",
       "      <td>2016-09-13T12:00:00.000Z</td>\n",
       "      <td>Художественный</td>\n",
       "      <td>Киностудия \"Мосфильм\"</td>\n",
       "      <td>СССР</td>\n",
       "      <td>Е.Матвеев</td>\n",
       "      <td>NaN</td>\n",
       "      <td>«6+» - для детей старше 6 лет</td>\n",
       "      <td>NaN</td>\n",
       "      <td>NaN</td>\n",
       "      <td>NaN</td>\n",
       "      <td>NaN</td>\n",
       "      <td>6.6</td>\n",
       "      <td>драма,военный</td>\n",
       "      <td>NaN</td>\n",
       "    </tr>\n",
       "    <tr>\n",
       "      <th>2</th>\n",
       "      <td>Особо опасен</td>\n",
       "      <td>221038416</td>\n",
       "      <td>2016-10-10T12:00:00.000Z</td>\n",
       "      <td>Художественный</td>\n",
       "      <td>Юниверсал Пикчерз, Кикстарт Продакшнз, Марк Пл...</td>\n",
       "      <td>США</td>\n",
       "      <td>Тимур Бекмамбетов</td>\n",
       "      <td>Джим Лемли, Джейсон Нетер, Марк Е.Платт, Яйн Смит</td>\n",
       "      <td>«18+» - запрещено для детей</td>\n",
       "      <td>NaN</td>\n",
       "      <td>NaN</td>\n",
       "      <td>NaN</td>\n",
       "      <td>NaN</td>\n",
       "      <td>6.8</td>\n",
       "      <td>фантастика,боевик,триллер</td>\n",
       "      <td>NaN</td>\n",
       "    </tr>\n",
       "    <tr>\n",
       "      <th>3</th>\n",
       "      <td>Особо опасен</td>\n",
       "      <td>221026916</td>\n",
       "      <td>2016-06-10T12:00:00.000Z</td>\n",
       "      <td>Художественный</td>\n",
       "      <td>Юниверсал Пикчерз, Кикстарт Продакшнз, Марк Пл...</td>\n",
       "      <td>США</td>\n",
       "      <td>Тимур Бекмамбетов</td>\n",
       "      <td>Джим Лемли, Джейсон Нетер, Марк Е.Платт, Яйн Смит</td>\n",
       "      <td>«18+» - запрещено для детей</td>\n",
       "      <td>NaN</td>\n",
       "      <td>NaN</td>\n",
       "      <td>NaN</td>\n",
       "      <td>NaN</td>\n",
       "      <td>6.8</td>\n",
       "      <td>фантастика,боевик,триллер</td>\n",
       "      <td>NaN</td>\n",
       "    </tr>\n",
       "    <tr>\n",
       "      <th>4</th>\n",
       "      <td>Особо опасен</td>\n",
       "      <td>221030815</td>\n",
       "      <td>2015-07-29T12:00:00.000Z</td>\n",
       "      <td>Художественный</td>\n",
       "      <td>Юниверсал Пикчерз, Кикстарт Продакшнз, Марк Пл...</td>\n",
       "      <td>США</td>\n",
       "      <td>Тимур Бекмамбетов</td>\n",
       "      <td>Джим Лемли, Джейсон Нетер, Марк Е.Платт, Яйн Смит</td>\n",
       "      <td>«18+» - запрещено для детей</td>\n",
       "      <td>NaN</td>\n",
       "      <td>NaN</td>\n",
       "      <td>NaN</td>\n",
       "      <td>NaN</td>\n",
       "      <td>6.8</td>\n",
       "      <td>фантастика,боевик,триллер</td>\n",
       "      <td>NaN</td>\n",
       "    </tr>\n",
       "  </tbody>\n",
       "</table>\n",
       "</div>"
      ],
      "text/plain": [
       "                  title   puNumber           show_start_date            type  \\\n",
       "0      Открытый простор  221048915  2015-11-27T12:00:00.000Z  Художественный   \n",
       "1  Особо важное задание  111013716  2016-09-13T12:00:00.000Z  Художественный   \n",
       "2          Особо опасен  221038416  2016-10-10T12:00:00.000Z  Художественный   \n",
       "3          Особо опасен  221026916  2016-06-10T12:00:00.000Z  Художественный   \n",
       "4          Особо опасен  221030815  2015-07-29T12:00:00.000Z  Художественный   \n",
       "\n",
       "                                         film_studio production_country  \\\n",
       "0  Тачстоун Пикчерз, Кобальт Пикчерз, Бикон Пикче...                США   \n",
       "1                              Киностудия \"Мосфильм\"               СССР   \n",
       "2  Юниверсал Пикчерз, Кикстарт Продакшнз, Марк Пл...                США   \n",
       "3  Юниверсал Пикчерз, Кикстарт Продакшнз, Марк Пл...                США   \n",
       "4  Юниверсал Пикчерз, Кикстарт Продакшнз, Марк Пл...                США   \n",
       "\n",
       "            director                                           producer  \\\n",
       "0      Кевин Костнер          Дэвид Валдес, Кевин Костнер, Джейк Эбертс   \n",
       "1          Е.Матвеев                                                NaN   \n",
       "2  Тимур Бекмамбетов  Джим Лемли, Джейсон Нетер, Марк Е.Платт, Яйн Смит   \n",
       "3  Тимур Бекмамбетов  Джим Лемли, Джейсон Нетер, Марк Е.Платт, Яйн Смит   \n",
       "4  Тимур Бекмамбетов  Джим Лемли, Джейсон Нетер, Марк Е.Платт, Яйн Смит   \n",
       "\n",
       "                 age_restriction  refundable_support  nonrefundable_support  \\\n",
       "0    «18+» - запрещено для детей                 NaN                    NaN   \n",
       "1  «6+» - для детей старше 6 лет                 NaN                    NaN   \n",
       "2    «18+» - запрещено для детей                 NaN                    NaN   \n",
       "3    «18+» - запрещено для детей                 NaN                    NaN   \n",
       "4    «18+» - запрещено для детей                 NaN                    NaN   \n",
       "\n",
       "   budget financing_source ratings                     genres  box_office  \n",
       "0     NaN              NaN     7.2     боевик,драма,мелодрама         NaN  \n",
       "1     NaN              NaN     6.6              драма,военный         NaN  \n",
       "2     NaN              NaN     6.8  фантастика,боевик,триллер         NaN  \n",
       "3     NaN              NaN     6.8  фантастика,боевик,триллер         NaN  \n",
       "4     NaN              NaN     6.8  фантастика,боевик,триллер         NaN  "
      ]
     },
     "metadata": {},
     "output_type": "display_data"
    },
    {
     "data": {
      "text/plain": [
       "title                     object\n",
       "puNumber                  object\n",
       "show_start_date           object\n",
       "type                      object\n",
       "film_studio               object\n",
       "production_country        object\n",
       "director                  object\n",
       "producer                  object\n",
       "age_restriction           object\n",
       "refundable_support       float64\n",
       "nonrefundable_support    float64\n",
       "budget                   float64\n",
       "financing_source          object\n",
       "ratings                   object\n",
       "genres                    object\n",
       "box_office               float64\n",
       "dtype: object"
      ]
     },
     "metadata": {},
     "output_type": "display_data"
    }
   ],
   "source": [
    "display(mkrf_movies.head())\n",
    "display(mkrf_movies.dtypes)"
   ]
  },
  {
   "cell_type": "markdown",
   "metadata": {},
   "source": [
    "Можем заметить, что два столбца имеют некорректный формат. Их следует преобразовать в следующие форматы: \n",
    "* столбец 'show_start_date' - из формата object в datetime;\n",
    "* столбец 'ratings' - из object в float64;"
   ]
  },
  {
   "cell_type": "markdown",
   "metadata": {},
   "source": [
    "<div class=\"alert alert-success\">\n",
    "\n",
    "**Артём:** 👍 Верно.\n",
    "\n",
    "</div>"
   ]
  },
  {
   "cell_type": "markdown",
   "metadata": {},
   "source": [
    "Также в первом столбце есть лишние символы '.000Z', которые будут мешать в преобразовании сведений о дате премьеры фильма.  \n",
    "Напишем функцию, которая будет удалять эти символы, с целью отображения столбца без данных символов"
   ]
  },
  {
   "cell_type": "markdown",
   "metadata": {},
   "source": [
    "<div class=\"alert alert-success\">\n",
    "\n",
    "**Артём:** 👍 Молодец.\n",
    "\n",
    "</div>"
   ]
  },
  {
   "cell_type": "code",
   "execution_count": 7,
   "metadata": {},
   "outputs": [],
   "source": [
    "def show_start_date(row):\n",
    "    show_start_date = row['show_start_date']\n",
    "    show_start_date = show_start_date[:-5]\n",
    "    return show_start_date"
   ]
  },
  {
   "cell_type": "markdown",
   "metadata": {},
   "source": [
    "Отображаем столбец в нужном формате."
   ]
  },
  {
   "cell_type": "code",
   "execution_count": 8,
   "metadata": {},
   "outputs": [],
   "source": [
    "mkrf_movies['show_start_date'] = mkrf_movies.apply(show_start_date, axis=1)"
   ]
  },
  {
   "cell_type": "markdown",
   "metadata": {},
   "source": [
    "Преобразовываем столбцы 'short_start_date', 'ratings' в необходимые форматы, т.к. первый столбец должен иметь формат даты, а не текстовый, второй столбец меняем текстовый вид данных на численный. "
   ]
  },
  {
   "cell_type": "code",
   "execution_count": 9,
   "metadata": {},
   "outputs": [],
   "source": [
    "mkrf_movies['show_start_date'] = pd.to_datetime(mkrf_movies['show_start_date'], format='%Y-%m-%dT%H:%M:%S')\n",
    "mkrf_movies['ratings'] = pd.to_numeric(mkrf_movies['ratings'], errors='coerce')"
   ]
  },
  {
   "cell_type": "markdown",
   "metadata": {},
   "source": [
    "<div class=\"alert alert-success\">\n",
    "\n",
    "**Артём:** 👍 Верно.\n",
    "\n",
    "</div>"
   ]
  },
  {
   "cell_type": "markdown",
   "metadata": {},
   "source": [
    "<a id=\"cell_1\"></a>\n",
    "<div class=\"alert alert-danger\">\n",
    "\n",
    "**Артём:** ✋ Сделай проверку.\n",
    "    \n",
    "</div>"
   ]
  },
  {
   "cell_type": "markdown",
   "metadata": {},
   "source": [
    "<div class=\"alert alert-success\">\n",
    "\n",
    "**Артём:** 👍👍 Принято.\n",
    "\n",
    "</div>"
   ]
  },
  {
   "cell_type": "markdown",
   "metadata": {},
   "source": [
    "Проведём проверку преобразованных данных, для этого можем вывести типы двух данных столбцов."
   ]
  },
  {
   "cell_type": "code",
   "execution_count": 10,
   "metadata": {},
   "outputs": [
    {
     "data": {
      "text/plain": [
       "ratings                   float64\n",
       "show_start_date    datetime64[ns]\n",
       "dtype: object"
      ]
     },
     "execution_count": 10,
     "metadata": {},
     "output_type": "execute_result"
    }
   ],
   "source": [
    "mkrf_movies[['ratings','show_start_date']].dtypes"
   ]
  },
  {
   "cell_type": "markdown",
   "metadata": {},
   "source": [
    "Данные двух стобцов в верном формате для дальнейшего анализа данных."
   ]
  },
  {
   "cell_type": "markdown",
   "metadata": {
    "id": "i0MOLbF-gFyP"
   },
   "source": [
    "#### Шаг 2.2. Изучите пропуски в датафрейме\n",
    "\n",
    "- Объясните, почему заполнили пропуски определённым образом или почему не стали этого делать."
   ]
  },
  {
   "cell_type": "markdown",
   "metadata": {},
   "source": [
    "Выведем всю информацию о размере датафрейма и пропусках в нём."
   ]
  },
  {
   "cell_type": "code",
   "execution_count": 11,
   "metadata": {
    "id": "8MJD_lkngFyP",
    "scrolled": true
   },
   "outputs": [
    {
     "data": {
      "text/plain": [
       "title                       0\n",
       "puNumber                    0\n",
       "show_start_date             0\n",
       "type                        0\n",
       "film_studio                18\n",
       "production_country          2\n",
       "director                    9\n",
       "producer                  568\n",
       "age_restriction             0\n",
       "refundable_support       7154\n",
       "nonrefundable_support    7154\n",
       "budget                   7154\n",
       "financing_source         7154\n",
       "ratings                   996\n",
       "genres                    976\n",
       "box_office               4328\n",
       "dtype: int64"
      ]
     },
     "metadata": {},
     "output_type": "display_data"
    },
    {
     "data": {
      "text/plain": [
       "(7486, 16)"
      ]
     },
     "metadata": {},
     "output_type": "display_data"
    }
   ],
   "source": [
    "display(mkrf_movies.isnull().sum())\n",
    "display(mkrf_movies.shape)"
   ]
  },
  {
   "cell_type": "markdown",
   "metadata": {},
   "source": [
    "Видим, что в нескольких стобцах есть пропуски. Заполним так, где это возможно, или удалим строки, помня о правиле, что для дальнейшего корректного анализа может быть удалено не более 10% данных. "
   ]
  },
  {
   "cell_type": "markdown",
   "metadata": {},
   "source": [
    "Столбец 'film_studio' отвечает за студию-производитель. В нём есть пропуски, но заполнить этот столбец определённым значением не представляется возможным, тем более пропусков всего в 18 строках из 7486, следовательно, можем удалить строки.  \n",
    "  \n",
    "Со столбцами 'production_country', 'director', 'producer' можем поступить аналогичным образом, т.к. количество пропусков, соответственно, 2, 9, 568.\n",
    "\n",
    "В столбцах 'refundable_support', 'nonrefundable_support', 'financing_source', 'budget' пропуск значений, возможно, объясняется тем, что фильмы частные, таким образом, первые два стобца можем заполнить значением - -1, столбец 'financing_source' - 'частный', а столбец 'budget' - -1, чтобы не исказить другие данные.\n",
    "\n",
    "Такой же трюк, как и со столбцом 'budget', можно проделать со столбцами 'ratings', 'box_office'.\n",
    "  \n",
    "Для столбца 'genres' можно выбрать значение - 'другое', скорее всего, с этим связан пропуск.\n",
    "\n",
    "Столбец 'box_office' заполним -1, так как мы не можем утверждать, что значения были 0ми, а значит есть высокая вероятность исказить итоговые данные. "
   ]
  },
  {
   "cell_type": "markdown",
   "metadata": {},
   "source": [
    "Приступим к заполнению столбцов."
   ]
  },
  {
   "cell_type": "markdown",
   "metadata": {},
   "source": [
    "<div class=\"alert alert-warning\">\n",
    "    \n",
    "**Артём:** 👉 Библиотеки лучше импортировать в начале проекта.\n",
    "</div>"
   ]
  },
  {
   "cell_type": "markdown",
   "metadata": {},
   "source": [
    "<div class=\"alert alert-success\">\n",
    "\n",
    "**Артём:** 👍👍 Верно.\n",
    "\n",
    "</div>"
   ]
  },
  {
   "cell_type": "code",
   "execution_count": 12,
   "metadata": {},
   "outputs": [],
   "source": [
    "# Удаление строк с пустыми записями в данных столбцах\n",
    "mkrf_movies.dropna(subset=['film_studio'], inplace=True) #студия-производитель\n",
    "mkrf_movies.dropna(subset=['production_country'], inplace=True) #страна-производитель\n",
    "mkrf_movies.dropna(subset=['director'], inplace=True) #режиссёр\n",
    "mkrf_movies.dropna(subset=['producer'], inplace=True) #продюсер\n",
    "mkrf_movies = mkrf_movies.reset_index(drop=True)\n",
    "\n",
    "#Заполнение столбцов с фильмами без гос.поддержки\n",
    "\n",
    "#объём возвратных средств государственной поддержки\n",
    "mkrf_movies['refundable_support'] = mkrf_movies['refundable_support'].fillna(-1) \n",
    "#объём невозвратных средств государственной поддержки\n",
    "mkrf_movies['nonrefundable_support'] = mkrf_movies['nonrefundable_support'].fillna(-1) \n",
    "#источник государственного финансирования\n",
    "mkrf_movies['financing_source'] = mkrf_movies['financing_source'].fillna('Частный') \n",
    "#mkrf_movies['budget'] = mkrf_movies['budget'].fillna(rd.randint(1000000,100000000)) #общий бюджет фильма\n",
    "\n",
    "#Заполнение столбцов значениями -1\n",
    "mkrf_movies['ratings'] = mkrf_movies['ratings'].fillna(-1) #рейтинг фильма на КиноПоиске\n",
    "mkrf_movies['box_office'] = mkrf_movies['box_office'].fillna(-1) #сборы в рублях\n",
    "\n",
    "#Заполнение столбца жанра фильма значением - 'другое'\n",
    "mkrf_movies['genres'] = mkrf_movies['genres'].fillna('другое') #жанр фильма"
   ]
  },
  {
   "cell_type": "markdown",
   "metadata": {},
   "source": [
    "<div class=\"alert alert-info\">\n",
    "\n",
    "**Артём:** ✍️ Аргумент `inplace` не всегда работает корректно, лучше вместо него использовать присваивание.\n",
    "\n",
    "</div>"
   ]
  },
  {
   "cell_type": "markdown",
   "metadata": {},
   "source": [
    "<a id=\"cell_1\"></a>\n",
    "<div class=\"alert alert-danger\">\n",
    "\n",
    "**Артём:** ✋ Когда комментарий или код уходят за границу ячейки их крайне неудобно читать. Это стилистическая ошибка.\n",
    "    \n",
    "\n",
    "</div>"
   ]
  },
  {
   "cell_type": "markdown",
   "metadata": {},
   "source": [
    "<div class=\"alert alert-success\">\n",
    "\n",
    "**Артём:** 👍👍 Спасибо.\n",
    "\n",
    "</div>"
   ]
  },
  {
   "cell_type": "markdown",
   "metadata": {},
   "source": [
    "<a id=\"cell_1\"></a>\n",
    "<div class=\"alert alert-danger\">\n",
    "\n",
    "**Артём:** ✋ Важно проверить сколько данных ты удалил. Смотри, 10% это нормально, но если в одном 10% + в другом 10% = это уже 20%.\n",
    "    \n",
    "</div>"
   ]
  },
  {
   "cell_type": "markdown",
   "metadata": {},
   "source": [
    "<div class=\"alert alert-warning\">\n",
    "\n",
    "<b>Артём: 👉</b> Лучше сделать заглушку не 0, а аномальную, например -1, так как мы не можем утверждать, что значения были 0ми, а значит есть высокая вероятность исказить итоговые данные.\n",
    "    \n",
    "\n",
    "</div>"
   ]
  },
  {
   "cell_type": "markdown",
   "metadata": {},
   "source": [
    "<a id=\"cell_27\"></a>\n",
    "<div class=\"alert alert-danger\">\n",
    "\n",
    "**Артём:** ✋ Так нельзя заполнять пропущенные значения. Фактически мы не можем предугадать мнения критиков.\n",
    "\n",
    "</div>"
   ]
  },
  {
   "cell_type": "markdown",
   "metadata": {},
   "source": [
    "<div class=\"alert alert-success\">\n",
    "\n",
    "**Артём:** 👍👍 Принято.\n",
    "\n",
    "</div>"
   ]
  },
  {
   "cell_type": "markdown",
   "metadata": {},
   "source": [
    "<div class=\"alert alert-success\">\n",
    "\n",
    "**Артём:** 👍 С жанром согласен.\n",
    "\n",
    "</div>"
   ]
  },
  {
   "cell_type": "markdown",
   "metadata": {},
   "source": [
    "Есть одна особенность: при заполнении столбца 'budget' значением -1, это значение повторится столько раз, сколько раз пропущены значения в столбце, так как функция для генерации числа вызывается только один раз.  \n",
    "Следовательно, нужно написать функцию, которая будет выдавать разные значения от 1000000 до 100000000 столько раз, сколько раз пропущены значения в столбце, на основе которой заполнятся пропуски."
   ]
  },
  {
   "cell_type": "code",
   "execution_count": 13,
   "metadata": {},
   "outputs": [],
   "source": [
    "def fill_budget(row):\n",
    "    budget = row['budget']\n",
    "    if budget is None:\n",
    "        budget = -1\n",
    "    elif budget != budget:                          #это условие соблюдается при значении nan\n",
    "        budget = -1\n",
    "    return budget"
   ]
  },
  {
   "cell_type": "code",
   "execution_count": 14,
   "metadata": {},
   "outputs": [],
   "source": [
    "mkrf_movies['budget'] = mkrf_movies.apply(fill_budget, axis=1)"
   ]
  },
  {
   "cell_type": "markdown",
   "metadata": {},
   "source": [
    "Ещё раз проверим датафрейм на наличие пропусков и сколько осталось данных для анализа."
   ]
  },
  {
   "cell_type": "code",
   "execution_count": 15,
   "metadata": {},
   "outputs": [
    {
     "data": {
      "text/plain": [
       "title                    0\n",
       "puNumber                 0\n",
       "show_start_date          0\n",
       "type                     0\n",
       "film_studio              0\n",
       "production_country       0\n",
       "director                 0\n",
       "producer                 0\n",
       "age_restriction          0\n",
       "refundable_support       0\n",
       "nonrefundable_support    0\n",
       "budget                   0\n",
       "financing_source         0\n",
       "ratings                  0\n",
       "genres                   0\n",
       "box_office               0\n",
       "dtype: int64"
      ]
     },
     "metadata": {},
     "output_type": "display_data"
    },
    {
     "data": {
      "text/plain": [
       "(6895, 16)"
      ]
     },
     "metadata": {},
     "output_type": "display_data"
    }
   ],
   "source": [
    "display(mkrf_movies.isnull().sum())\n",
    "display(mkrf_movies.shape)"
   ]
  },
  {
   "cell_type": "markdown",
   "metadata": {},
   "source": [
    "<div class=\"alert alert-warning\">\n",
    "\n",
    "<b>Артём: 👉</b> Подскажу, заполнить пропущенные значения - это не самоцель, лучше оставить пустыми, чем значениями, которые исказят данные.\n",
    "    \n",
    "\n",
    "</div>"
   ]
  },
  {
   "cell_type": "markdown",
   "metadata": {
    "id": "4c6k1t9ygFyQ"
   },
   "source": [
    "#### Шаг 2.3. Изучите дубликаты в датафрейме\n",
    "- Проверьте, есть ли в данных дубликаты. Опишите причины, которые могли повлиять на появление дублей."
   ]
  },
  {
   "cell_type": "markdown",
   "metadata": {},
   "source": [
    "Сделаем поиск явных дубликатов."
   ]
  },
  {
   "cell_type": "code",
   "execution_count": 16,
   "metadata": {},
   "outputs": [
    {
     "data": {
      "text/plain": [
       "0"
      ]
     },
     "execution_count": 16,
     "metadata": {},
     "output_type": "execute_result"
    }
   ],
   "source": [
    "mkrf_movies.duplicated().sum()"
   ]
  },
  {
   "cell_type": "markdown",
   "metadata": {},
   "source": [
    "Как видим, их нет. Займёмся поиском уже неявных."
   ]
  },
  {
   "cell_type": "markdown",
   "metadata": {},
   "source": [
    "<div class=\"alert alert-success\">\n",
    "\n",
    "**Артём:** 👍 Верно.\n",
    "\n",
    "</div>"
   ]
  },
  {
   "cell_type": "markdown",
   "metadata": {},
   "source": [
    "Дубликаты могут быть во всех столбцах, где данные связаны со строчным типом.  \n",
    "Выведем уникальные значения выбранных столбцов."
   ]
  },
  {
   "cell_type": "markdown",
   "metadata": {},
   "source": [
    "<div class=\"alert alert-success\">\n",
    "\n",
    "**Артём:** 👍 Согласен.\n",
    "\n",
    "</div>"
   ]
  },
  {
   "cell_type": "code",
   "execution_count": 17,
   "metadata": {},
   "outputs": [
    {
     "data": {
      "text/plain": [
       "array(['Открытый простор', 'Особо опасен', 'Любовь и сигареты', ...,\n",
       "       'Щенячий патруль: Скорей спешим на помощь!',\n",
       "       'Машины песенки. Серия \"Испанские мотивы\"',\n",
       "       'Машины песенки. Серия \"Когда цветут кактусы\"'], dtype=object)"
      ]
     },
     "execution_count": 17,
     "metadata": {},
     "output_type": "execute_result"
    }
   ],
   "source": [
    "mkrf_movies['title'].unique()"
   ]
  },
  {
   "cell_type": "code",
   "execution_count": 18,
   "metadata": {},
   "outputs": [
    {
     "data": {
      "text/plain": [
       "array(['221048915', '221038416', '221026916', ..., '124010819',\n",
       "       '124010619', '124010719'], dtype=object)"
      ]
     },
     "execution_count": 18,
     "metadata": {},
     "output_type": "execute_result"
    }
   ],
   "source": [
    "mkrf_movies['puNumber'].unique()"
   ]
  },
  {
   "cell_type": "code",
   "execution_count": 19,
   "metadata": {
    "id": "aKck8RIdgFyQ"
   },
   "outputs": [
    {
     "data": {
      "text/plain": [
       "array(['Художественный', 'Анимационный', 'Прочие', 'Документальный',\n",
       "       'Научно-популярный', ' Художественный', ' Анимационный',\n",
       "       'Музыкально-развлекательный'], dtype=object)"
      ]
     },
     "execution_count": 19,
     "metadata": {},
     "output_type": "execute_result"
    }
   ],
   "source": [
    "mkrf_movies['type'].unique()"
   ]
  },
  {
   "cell_type": "code",
   "execution_count": 20,
   "metadata": {},
   "outputs": [
    {
     "data": {
      "text/plain": [
       "array(['Тачстоун Пикчерз, Кобальт Пикчерз, Бикон Пикчерз, Тиг Продакшнз',\n",
       "       'Юниверсал Пикчерз, Кикстарт Продакшнз, Марк Платт Продакшнз, Рилейтивити Медиа, Спайгласс Интертейнмент, Стилкин Филмз, Топ Кау Продакшнз',\n",
       "       'Юнайтед Артистс, Грин Стрит Филмз, Айкон Интертейнмент Интернэшнл',\n",
       "       ...,\n",
       "       'Дэниел Гродник Продакшнз, Вандерфилм Медиа Корпорэйшн, Импринт Интертейнмент, Вор Хорс Интертейнмент, Пимиента ',\n",
       "       'Никелодеон Анимейшн Студиос, Спин Мастер',\n",
       "       'Анимаккорд Лтд., ООО Студия \"АНИМАККОРД\"'], dtype=object)"
      ]
     },
     "execution_count": 20,
     "metadata": {},
     "output_type": "execute_result"
    }
   ],
   "source": [
    "mkrf_movies['film_studio'].unique()"
   ]
  },
  {
   "cell_type": "code",
   "execution_count": 21,
   "metadata": {
    "scrolled": true
   },
   "outputs": [
    {
     "data": {
      "text/plain": [
       "array(['США', 'Франция', 'Германия-Великобритания',\n",
       "       'Великобритания - Италия', 'США - Франция - Турция',\n",
       "       'Новая Зеландия', 'Канада - Франция - Испания', 'США-Германия',\n",
       "       'США - Великобритания', 'Великобритания', 'США - Германия',\n",
       "       'Франция - Мексика - США', 'Германия',\n",
       "       'Великобритания-США-Германия-КНР', 'Гонконг, КНР', 'США - Франция',\n",
       "       'США - Япония - Франция - Великобритания',\n",
       "       'Гонконг - Сингапур - Таиланд - Великобритания', 'США-Канада',\n",
       "       'Франция - США', 'Ирландия-Великобритания-Германия',\n",
       "       'США-Австралия', 'США-Франция-Великобритания-Австрия',\n",
       "       'США - Бельгия', 'США - Ирландия - Великобритания',\n",
       "       'Люксембург - Нидерланды - Испания - Великобритания - США - Италия',\n",
       "       'Великобритания - Франция - США', 'Новая Зеландия - США',\n",
       "       'США - Великобритания - Чехия',\n",
       "       'Канада - Франция - Великобритания', 'Ирландия',\n",
       "       'Великобритания - Германия - США',\n",
       "       'США - Франция - Великобритания', 'Франция - Испания',\n",
       "       'Канада-Франция', 'Германия - Италия - США',\n",
       "       'Аргентина - Бразилия', 'Дания - Швейцария - Бельгия - Франция',\n",
       "       'США - Испания', 'Германия - США',\n",
       "       'Франция - Австрия - Германия - Италия - США', 'Австрия',\n",
       "       'США - Канада - Германия', 'США - Канада', 'Россия - Казахстан',\n",
       "       'Гонконг', 'Италия', 'США - ОАЭ', 'Россия', 'Великобритания - США',\n",
       "       'США - Франция - Испания - Великобритания',\n",
       "       'Великобритания - Франция', 'США-Италия-Испания-Аргентина',\n",
       "       'Франция-Великобритания', 'КНР - Гонконг',\n",
       "       'Франция - Италия - Швейцария', 'США - Новая Зеландия',\n",
       "       'Франция - Бельгия', 'Япония', 'КНР',\n",
       "       'Германия - Великобритания - Австрия',\n",
       "       'Великобритания - Израиль - Франция - Япония - США', 'Швеция',\n",
       "       'Испания', 'Дания', 'Франция - Бельгия - Люксембург',\n",
       "       'США - Индия - ОАЭ',\n",
       "       'Германия-Канада-Великобритания-Швейцария-Франция',\n",
       "       'Мексика - Чили', 'Аргентина', 'Бразилия', 'Чили', 'Австралия',\n",
       "       'Португалия - Франция', 'США - ЮАР', 'Исландия-Ирландия-Германия',\n",
       "       'США-Индонезия', 'Южная Корея', 'Мексика - Испания - Дания - США',\n",
       "       'Великобритания-США', 'Франция - Италия', 'США-Франция',\n",
       "       'США - Венгрия - Великобритания', 'Бельгия-Франция-Италия',\n",
       "       'Чехия - Германия', 'Германия - Франция', 'США-Нидерланды',\n",
       "       'Великобритания - Германия', 'США-Франция-Испания',\n",
       "       'Италия - Франция', 'Канада', 'Швеция-Франция-Дания',\n",
       "       'Германия-Франция-Польша', 'Франция-Великобритания - Германия',\n",
       "       'США - Бразилия - Франция - Австралия - Великобритания - Германия',\n",
       "       'Германия-Австрия', 'Германия-Италия- Шри-Ланка',\n",
       "       'Великобритания - Испания',\n",
       "       'США - Великобритания - Канада - Швеция',\n",
       "       'Босния и Герцеговина - Франция - Великобритания - Германия - Словения - Бельгия - Сербия',\n",
       "       'Великобритания - Франция - Италия - США', 'Франция-Бельгия',\n",
       "       'США-ОАЭ', 'Испания - Франция', 'США-Великобритания', 'США-ЮАР',\n",
       "       'Великобритания-Австралия - США',\n",
       "       'Норвегия - Швеция - Дания - Германия', 'Норвегия', 'Швейцария',\n",
       "       'Греция - Германия - Франция', 'Норвения', 'Южная Корея - США',\n",
       "       'Чили - Франция - США', 'Австрия - Германия - Франция',\n",
       "       'Швеция - Дания', 'Великобритания - Франция - Бельгия - Италия',\n",
       "       'Франция - Германия', 'Грузия - Франция - Люксембург',\n",
       "       'США - Франция - Великобритания - Бразилия ', 'США - КНР',\n",
       "       'США - Германия - Гонконг - Сингапур',\n",
       "       'Финляндия - Австрия - Россия', 'Испания - Куба',\n",
       "       'Великобритания - ЮАР', 'Великобритания - Ирландия', 'Израиль',\n",
       "       'Бразилия - Германия - Порртугалия - Франция ',\n",
       "       'Франция - Канада - Бельгия', 'Франция-Испания',\n",
       "       'Испания - Канада - Япония', 'Швеция-Куба',\n",
       "       'США-Великобритания-Ирландия', 'Гонконг - КНР', 'Нидерланды',\n",
       "       'Испания - Канада', 'Япония-Великобритания',\n",
       "       'Великобритания - Норвегия - Дания - Германия',\n",
       "       'Финляндия - Франция - Германия',\n",
       "       'Мексика - Франция - Нидерланды - Германия', 'США - Индия',\n",
       "       'США-Великобритания-Индия', 'США-Канада-Бельгия', 'Италия ',\n",
       "       'Турция', 'Сербия - Словения - Хорватия - Черногория - Македония',\n",
       "       'Киргизия', 'Германия - Нидерланды - Беларусь - Россия - Латвия',\n",
       "       'Индия', 'Нидерланды - Россия - Германия',\n",
       "       'Великобритания - Нидерланды - Франция - Хорватия',\n",
       "       'Канада - Южная Корея',\n",
       "       'Великобритания - Польша - КНР - Индия - Норвегия',\n",
       "       'Япония - Франция - США - Южная Корея - Турция',\n",
       "       'Мексика - Аргентина - Великобритания', 'Израиль - Франция',\n",
       "       'Польша - Португалия - Франция - Великобритания',\n",
       "       'Австралия - США', 'США - Великобритания ',\n",
       "       'Франция - Люксембург - Бельгия', 'Армения',\n",
       "       'Бельгия - Люксембург - Франция - Швейцария',\n",
       "       'США - Великобритания - Канада', 'Норвегия - Швеция',\n",
       "       'Канада - Франция', 'КНР - Гонконг - США', 'Украина',\n",
       "       'США - Сингапур - Малайзия - Индонезия', 'Германия - Россия',\n",
       "       'Япония - Канада', 'Финляндия - Дания - Германия - Ирландия',\n",
       "       'Франция - Люксембург - Германия - Бельгия - Швейцария - Великобритания ',\n",
       "       'Канада - США', 'США-Италия-Испания', 'США-Испания',\n",
       "       'США - Швейцария - Франция', 'Испания - США - Колумбия',\n",
       "       'Канада-ЮАР', 'Германия - Финляндия - Австралия', 'Дания - Швеция',\n",
       "       'Бельгия', 'Германия - Франция - Австрия', 'Франция-Индия', 'ЮАР',\n",
       "       'Франция-Перу', 'Франция - Канада', 'Республика Беларусь',\n",
       "       'Великобритания - Австрия - Франция - США',\n",
       "       'Австрия-Германия-Франция', 'США-Россия', 'Германия-США',\n",
       "       'США - Южная Корея', 'Канада - КНР',\n",
       "       'Дания - Швеция - Италия - Франция - Германия',\n",
       "       'Франция-Италия-Испания-Венгрия', 'Франция - Германия - Бельгия',\n",
       "       'Франция-Великобритания-Чехия', 'Румыния - Франция - Бельгия',\n",
       "       'Болгария - Франция - Изриль',\n",
       "       'Израиль - Германия - Польша - Бельгия - Франция - Люксембург',\n",
       "       'Россия, Германия, Франция, Бельгия', 'Франция - Португалия',\n",
       "       'Великобритания - Пуэрто-Рико', 'Россия, Республика Беларусь',\n",
       "       'Франция - Австрия', 'Бельгия-Нидерланды',\n",
       "       'Великобритания - США - Индия', 'США - Великобритания - Австралия',\n",
       "       'Канада - Франция - США - ОАЭ - Великобритания',\n",
       "       'США - Австралия - Франция',\n",
       "       'Дания-Франция-Бельгия-Германия-Великобритания',\n",
       "       'Испания - Аргентина', 'Исландия - Финляндия',\n",
       "       'Россия-Польша-Голландия-Словакия', 'Дания - Германия - Швеция',\n",
       "       'Южная Корея - США - Канада', 'Таиланд', 'США-Мальта',\n",
       "       'США -Германия',\n",
       "       'Великобритания - Германия - Франция - Кипр - США', 'Мексика',\n",
       "       'США - Великобритания - Ирландия', 'США - Украина',\n",
       "       'США - Финляндия - Испания - Великобритания - Франция',\n",
       "       'Австралия-Великобритания', 'Франция-Канада',\n",
       "       'Ирландия - Финляндия - Бельгия - Великобритания - США - Швейцария',\n",
       "       'Малайзия - США', 'Германия - Италия',\n",
       "       'США - Франция - Бельгия - Италия', 'Франция - Ирландия - Швеция',\n",
       "       'Азербайджан-Россия', 'Великобритания - Италия - Швейцария',\n",
       "       'США - Германия - Великобритания',\n",
       "       'Германия - Бельгия - США -Франция', 'США-Китай', 'Чили - Испания',\n",
       "       'Франция - Швейцария', 'Канада - Испания',\n",
       "       'США - Румыния - Великобритания', 'США - Япония',\n",
       "       'США - Россия - Франция', 'Франция-США', 'Парагвай',\n",
       "       'Германия - Канада', 'США - Канада - Великобритания',\n",
       "       'Финляндия - Канада', 'Уругвай-Мексика-Германия ', 'США - Чили',\n",
       "       'Германия - Аргентина - Нидерланды - Чили',\n",
       "       'США - Канада - Индонезия', 'Армения - Казахстан', 'Финляндия',\n",
       "       'Испания - Италия - Франция',\n",
       "       'Великобритания - Франция - Швеция - Бельгия', 'Иран',\n",
       "       'Мексика - Эквадор - Канада - США - Франция - Малайзия - Италия - Аргентина - Германия - Индия  ',\n",
       "       'Франция - Бенльгия', 'Индия - Великобритания',\n",
       "       'Япония - Великобритания - Франция',\n",
       "       'Испания - Уругвай - Аргентина',\n",
       "       'Франция - Италия - Бельгия - Люксембург',\n",
       "       'Франция - Украина - Грузия - Армения',\n",
       "       'Сербия - Германия - Венгрия', 'Франция-Польша', 'Франция ',\n",
       "       'Румыния-США', 'Россия-Азербайджан',\n",
       "       'США - Нидерланды - Бельгия - Венгрия - Греция - Канада',\n",
       "       'Германия - Франция - Люксембург', 'США - Россия',\n",
       "       'Великобритания - США - Франция', 'США - Австралия - Дания',\n",
       "       'Бельгия-Франция', 'США-Мексика',\n",
       "       'Норвегия - Азербайджан - Россия - Колумбия - Великобритания - Венгрия - Румыния - Франция - Грузия',\n",
       "       'СЩА', 'Бразилия - Испания', 'Россия, Франция, Латвия',\n",
       "       'Нидерланды - США - Германия - Канада - Франция - Ирландия - Великобритания',\n",
       "       'Уругвай - Колумбия', 'США - Испания - Болгария',\n",
       "       'Армения - Германия', 'США - Великобритания- Франция - Швеция',\n",
       "       'США - Мексика', 'Австралия-Турция-США', 'Швеция - Германия',\n",
       "       'Польша - Италия - Россия', 'Франция - Бразилия',\n",
       "       'США - Канада - КНР', 'Бельгия - Германия - Люксембург',\n",
       "       'США - Австралия', 'Бразилия - США',\n",
       "       'США - Великобритания - Канада - КНР', 'Франция - Чили',\n",
       "       'Франция - США - Великобритания - Колумбия - Бельгия - Россия',\n",
       "       'Дания - Великобритания - ЮАР', 'Россия-США-Канада-Люксембург',\n",
       "       'Россия - Республика Кипр', 'Германия - США - Швеция - Франция',\n",
       "       'Великобритания-Германия-Канада-ЮАР', 'Ирландия, Канада',\n",
       "       'Япония - Великобритания - Швейцария - Ирландия - Дания - Франция - Польша - Австралия - Канада  ',\n",
       "       'Великобритания, Канада', 'Бельгия - США',\n",
       "       'Великобритания - США - Россия', 'Россия-Украина',\n",
       "       'Германия - США - Великобритания - Израиль', 'Канада - Германия',\n",
       "       'США- Ю.Корея',\n",
       "       'Великобритания - Франция - Республика Кипр - Швейцария - США - Сербия',\n",
       "       'Испания - Аргентина - Индия - США',\n",
       "       'Норвегия - Исландия - США - Великобритания ',\n",
       "       'Турция - Германя - Франция', 'Германия - Великобритания',\n",
       "       'Австралия - Германия', 'Мексика - Испания',\n",
       "       'Великобритания - США - Германия - Бельгия',\n",
       "       'США - Чехия - Франция', 'Россия - Италия', 'Франция-Россия',\n",
       "       'Норвегия - Дания - Швеция', 'Франция - Швейцария - Германия',\n",
       "       'Грузия - Украина', 'Россия - Эстония - Финляндия - Беларусь',\n",
       "       'США - Франция - ЮАР', 'Великобритания - США - Швейцария',\n",
       "       'Канада-США', 'Мексика - Нидерланды - Германия - Франция',\n",
       "       'США - Испания - Франция', 'США - Великобритания - КНР',\n",
       "       'США-Франция-Канада',\n",
       "       'Япония, Великобритания, Австрия, Германия, Ю.Корея',\n",
       "       'Великобритания - Ирландия - США', 'Бельгия - Италия - Франция ',\n",
       "       'Швейцария-Германия-ЮАР', 'Великобритания - США - Германия',\n",
       "       'Германия - Исландия', 'Испания - США', 'Хорватия',\n",
       "       'Финляндия - Исландия - Швеция',\n",
       "       'Канада - США - Германия - Франция',\n",
       "       'США - Великобритания - Испания', 'Ирландия-Великобритания',\n",
       "       'Аргентина - Испания', 'Австрия - Германия',\n",
       "       'Германия - Швейцария - Франция - Южная Корея - США',\n",
       "       'Украина - Нидерланды', 'Венгрия - Германия - Швеция',\n",
       "       'Германия - Франция -  Польша - Турция - Канада - Италия - Россия ',\n",
       "       'Россия-Кипр', 'Россия, Грузия, Испания',\n",
       "       'Великобритания - Нидерланды - Германия - Франция - Бельгия - Австрия ',\n",
       "       'Испания - Великобритания - Франция',\n",
       "       'Дания - Норвегия - Великобритания',\n",
       "       'Бельгия - Франция - Люксембург',\n",
       "       'Италия - Франция - Швейцария - Великобритания',\n",
       "       'Франция - Бельгия - Великобритания - Испания - Германия - США',\n",
       "       'Швейцария - Израиль - Франция - Великобритания',\n",
       "       'Великобритания - США - Канада - Нидерланды - Франция',\n",
       "       'Россия, Италия', 'Россия, Украина, Республика Беларусь, Литва',\n",
       "       'Финляндия - Великобритания - Германия', 'Россия, Украина, Польша',\n",
       "       'Франция - Италия - Бельгия - КНР',\n",
       "       'Германия - Бельгия - Люксембург - Ирландия', 'КНР - Сингапур',\n",
       "       'Франция - Бельгия - Великобритания - США - Нидерланды - Канада',\n",
       "       'США - Россия - Польша - Германия - Пуэрто Рико',\n",
       "       'Франция - Бельгия - Канада', 'США ', 'Мексика - США',\n",
       "       'США - Гонконг - КНР ', 'Греция - Россия',\n",
       "       'Ирландия - Дания - Бельгия - Люксембург - Франция',\n",
       "       'Эстония - Россия',\n",
       "       'Великобритания - Исландия - Испания - Швейцария - США',\n",
       "       'Австралия - Великобритания - Бельгия - Индия',\n",
       "       'Швеция - Германия - Франция - Норвегия',\n",
       "       'Нидерланды - Бельгия - Германия - Ирландия',\n",
       "       'Нидерланды - Великобритания - Бельгия',\n",
       "       'США - Колумбия - Испания', 'Франция-Испания-Бельгия-Панама',\n",
       "       'США-Великобритания-Чехия-Румыния',\n",
       "       'Аргентина - Уругвай - Россия - Германия - Франция - Нидерланды',\n",
       "       'Швеция - Франция - Норвегия - Дания',\n",
       "       'Италия-Франция-Великобритания', 'Великобритания, Франция',\n",
       "       'Австралия, США', 'Венесуэла', 'Южная Корея - КНР',\n",
       "       'Аргентина - Мексика - Бразилия - Франция - США', 'Швеция - США',\n",
       "       'Франция - Германия - Турция - Катар', 'Франция-Китай',\n",
       "       'Россия, Германия, Великобритания',\n",
       "       'Великобритания - Италия - Испания', 'Италия - Россия',\n",
       "       'Япония - КНР - Южная Корея', 'Россия, Германия',\n",
       "       'Россия-Ирландия', 'Македония - Франция - Великобритания',\n",
       "       'Франция - Бразилия - Италия', 'Россия-США', 'Армения-Россия',\n",
       "       'Россия, Румыния', 'Франция -  Бельгия', 'Грузия-Франция',\n",
       "       'ЮАР - США', 'Великобритания-США-Франция',\n",
       "       'Великобритания - США - Германия - Канада - Австралия',\n",
       "       'США-Ирландия', 'Россия, Республика Кипр',\n",
       "       'Германия - Люксембург - Франция', 'Россия-Франция',\n",
       "       'США - Нидерланды - Финляндия - Великобритания - Италия',\n",
       "       'Республика Кипр', 'Венгрия', 'Франция - США - Норвегия - Дания',\n",
       "       'Германия - Австрия - Ирландия', 'США - Финляндия',\n",
       "       'Италия-Великобритания', 'Россия, Испания',\n",
       "       'США - Великобритания - Болгария', 'Великобритания - Люксембург',\n",
       "       'Индия - США', 'США - Канада - Россия - Франция - Чили - Ирландия',\n",
       "       'Грузия-Россия',\n",
       "       'Дания - Австрия - Ирландия - Финляндия - Норвегия - Швеция - Нидерланды',\n",
       "       'США-КНР', 'Австралия - Ирландия', 'Великобритания - Канада',\n",
       "       'Италия - Аргентина - Словения ',\n",
       "       'Испания - Франция - Нидерланды - Германия - Бельгия - Великобритания - Канада',\n",
       "       'Франция - Чехия - Бельгия',\n",
       "       'Великобритания - Франция - Германия - США',\n",
       "       'Ирландия - Великобритания - Франция - США - Германия - Нидерланды',\n",
       "       'США - Канада - Япония - КНР', 'Италия-Франция',\n",
       "       'США - Великобритания - Исландия', 'Великобритания-Франция',\n",
       "       'Франция - Германия - Нидерланды', 'Иран ',\n",
       "       'Франция - Германия - Швеция - США - Чехия - Словакия - Великобритания - Нидерланды',\n",
       "       'Франция - Канада - Н.Зеландия - США - Нидерланды - Германия - Швеция - Россия',\n",
       "       'Турция - США',\n",
       "       'Великобритания - США - Канада - Бельгия - Нидерланды - Австрия - Германия',\n",
       "       'Израиль - Франция - Германия - Палестина - США - Австрия - Великобритания',\n",
       "       'Аргентина - Франция - Испания', 'СССР, Россия',\n",
       "       'Великобритания - Франция - Италия - Индия - Дания - КНР - Бангладеш - Камбоджа - Гаити - Уганда',\n",
       "       'Италия - Франция - Швейцария',\n",
       "       'Ирландия - Великобритания - Канада', 'Перу', 'США - Норвегия',\n",
       "       'Испания-Канада', 'Китай-Гонконг', 'США - Германия - КНР',\n",
       "       'Великобритания - Новая Зеландия',\n",
       "       'Франция - Дания - Швеция - КНР',\n",
       "       'США - Великобритания - Германия - Бельгия - Дания',\n",
       "       'США - Франция - Канада - Германия - Австралия - Индия',\n",
       "       'Австралия-Ирландия', 'США - Китай',\n",
       "       'Великобритания - Франция - Австрия - Швеция',\n",
       "       'Россия, Таджикистан', 'Нидерланды - Бельгия - Болгария',\n",
       "       'Великобритания - Канада - США', 'Франция - Бельгия - Испания',\n",
       "       'Китай-Гонконг-США', 'Франция - Великобритания', 'США - Вьетнам',\n",
       "       'США - Германия - Франция', 'Германия - Франция - Бельгия',\n",
       "       'США - Италия',\n",
       "       'Германия - Дания - Испания - Швеция - Канада - Эстония - Франция',\n",
       "       'Княжество Андорра - Украина', 'Германия - Люксембург - Бельгия',\n",
       "       'Великобритания - Россия - Украина - США',\n",
       "       'Германия - Бельгия - Люксембург - Норвегия',\n",
       "       'США - Австралия - Новая Зеландия - Великобритания',\n",
       "       'США - Франция - Канада - Великобритания', 'Испания-Колумбия',\n",
       "       'Великобритания - Чехия - Франция', 'Россия, Украина', 'Исландия',\n",
       "       'Великобритания - Франция - Венгрия',\n",
       "       'Россия, Франция, Германия, Бельгия', 'Франция - Македония',\n",
       "       'Нидерланды - Франция - Германия - Бельгия - Швеция - Великобритания',\n",
       "       'Испания - США - Великобритания - Канада', 'Германия - Австрия',\n",
       "       'Республика Казахстан',\n",
       "       'Франция - Испания - Дания - Венгрия - Швейцария', 'Франция-КНР',\n",
       "       'США - Пуэрто-Рико - Франция ', 'Мексика - Тайвань - США',\n",
       "       'Великобритания - Испания - Непал - Индия - Венгрия - Гонконг - Германия - Дания - Бахрейн',\n",
       "       'Великобритания - Аргентина - США - Франция - Россия - Испания',\n",
       "       'КНР - США', 'Италия - США', 'Финляндия - Швеция - Германия',\n",
       "       'Канада- Испания', 'Франция - Бельгия - Чехия',\n",
       "       'Франция-Бельгия-Канада', 'Франция - Германия - США',\n",
       "       'США - Дания', 'Индия - КНР', 'Чехия-Великобритания-США',\n",
       "       'США-ФРГ-Россия', 'Ирландия-Нидерланды-Франция-США-Великобритания',\n",
       "       'Россия, Грузия, Хорватия, Испания',\n",
       "       'Финляндия - Швеция - Норвегия', 'Сербия - Великобритания - США',\n",
       "       'США - Великобритания - Франция - Гонконг', 'Швейцария - Франция',\n",
       "       'Швейцария - Великобритания', 'ОАЭ - США',\n",
       "       'США - Франция - Германия - Канада - Австралия ',\n",
       "       'Германия - Австралия', 'Иран, Франция',\n",
       "       'США - Великобритания - Новая Зеландия', 'США-Колумбия',\n",
       "       'США-Франция-Ирландия', 'Великобритания - Франция - Бельгия',\n",
       "       'США - Великобритания - Япония', 'США - Франция - Германия',\n",
       "       'Польша - Ирландия', 'Ирландия - Великобритания - Франция - США',\n",
       "       'США - Бельгия - Великобритания',\n",
       "       'Испания - Франция - США - Великобритания - Бельгия',\n",
       "       'Франция - Дания - США', 'США - Гонконг', 'Бразилия - К;анада',\n",
       "       'Франция-Германия', 'США - Колумбия',\n",
       "       'США - Ирландия - Великобритания - Франция', 'Чехия',\n",
       "       'Великобритания - США - Канада', 'Польша - Франция', 'Индонезия',\n",
       "       'Канада - США - Нидерланды - Великобритания - Аргентина',\n",
       "       'Великобритания - Дания', 'Франция - Бельгия - Япония',\n",
       "       'Россия,  Испания', 'Франция -Бельгия',\n",
       "       'США - Канада - Германия - Франция', 'США-Канада-Франция',\n",
       "       'Россия - Германия', 'Россия-Италия', 'Китай - Гонконг',\n",
       "       'Германия-Австрия-Франция-Италия', 'США-Япония',\n",
       "       'США - Германия - Канада', 'Испания-Мексика',\n",
       "       'США - Япония - Канада - Великобритания - Германия - Франция',\n",
       "       'США -Великобритания - Австралия', 'Россия-Украина-Германия',\n",
       "       'Израиль - Франция - Великобритания - Германия',\n",
       "       'Россия - Болгария', 'США-Индия',\n",
       "       'Германия-Канада-Франция-Бельгия', 'СССР', 'Грузия',\n",
       "       'Франция - Монако', 'Франция-Испания-Швейцария',\n",
       "       'Австрия-Франция-Германия', 'Румыния',\n",
       "       'США-Великобритания-Франция', 'Канада-Великобритания',\n",
       "       'Канада-Бразилия-Япония', 'Германия - Дания - Норвегия',\n",
       "       'Дания - Германия', 'СССР - Италия',\n",
       "       'СССР - ГДР - Польша - Италия',\n",
       "       'США - Испания - Франция - Великобритания', 'Китай',\n",
       "       'Мексика-Аргентина',\n",
       "       'Германия - Великобритания - Италия - Испания',\n",
       "       'Франция-Германия-Великобритания', 'Россия - Германия - Швейцария',\n",
       "       'Голландия', 'Швейцария-Франция', 'Россия-Белоруссия',\n",
       "       'Франция - Испания - Тайвань', 'США-Южная Корея-Новая Зеландия',\n",
       "       'Великобритания-Венгрия', 'Россия-Германия',\n",
       "       'Великобритания-Франция-Германия', 'Франция-Германия-Италия',\n",
       "       'Швеция-Финляндия-Франция-Норвегия', 'Франция-Италия',\n",
       "       'Германия-Израиль', 'Швеция - Германия - Дания - Норвегия',\n",
       "       'США-Бельгия', 'Франция-Гонконг-Ирландия', 'Эстония',\n",
       "       'Литва-Россия-Украина', 'Германия - Италия - Франция',\n",
       "       'Бельгия - Франция', 'Россия-Казахстан', 'Испания - Мальта',\n",
       "       'Франция-Россия-Румыния-Италия-Бельгия', 'Россия - Польша',\n",
       "       'Испания - Мексика', 'США-Аргентина', 'Великобритания ',\n",
       "       'Израиль-США-Франция', 'США - Новая Зеландия - Япония',\n",
       "       'Франция - Чехия - Великобритания', 'Россия-Польша',\n",
       "       'Германия-Франция-Великобритания', 'США-Германия-Канада',\n",
       "       'США-Гонконг-Китай', 'США - Великобритания - Германия',\n",
       "       'США-Канада-Австралия', 'Япония-США-Франция',\n",
       "       'Франция-Испания-Германия', 'США - Хорватия - Босния-Герцеговина',\n",
       "       'Великобритания - Чехия - Франция - Италия',\n",
       "       'США - Германия - Нидерланды', 'Германия - Франция - Канада',\n",
       "       'Великобритания - Франция - Италия', 'Россия - США',\n",
       "       'Франция - Италия - Иран', 'Россия - Азербайджан', 'Греция',\n",
       "       'Дания - США', 'США-Великобритания-Новая Зеландия',\n",
       "       'США-Германия-Австралия', 'США-Канада-Италия',\n",
       "       'США - Япония - Германия', 'Австралия-США',\n",
       "       'Франция - Великобритания - Багамские острова - США',\n",
       "       'Швейцария - Люксембург', 'Швейцария - Австрия',\n",
       "       'Германия - Швейцария', 'Дания-Швеция-Франция-Германия', 'Польша',\n",
       "       'Швейцария-Австрия', 'Бразилия - Канада - США',\n",
       "       'Нидерланды - Россия', 'Португалия', 'Франция-Аргентина',\n",
       "       'Швеция-Франция', 'Франция-Украина', 'Германия-Украина-Нидерланды',\n",
       "       'Италия-Швейцария', 'США-Германия-Великобритания',\n",
       "       'Латвия - Россия', 'Германия-Франция-Великобритания-США',\n",
       "       'Канада - Италия', 'США - Объединенные Арабские Эмираты',\n",
       "       'США-Венгрия', 'Малайзия', 'Россия - Германия - Украина',\n",
       "       'США - Австралия - Мексика', 'Литва - Венгрия', 'Германия - Китай',\n",
       "       'Казахстан', 'Республика Корея',\n",
       "       'США - Германия - Франция - Великобритания - Канада ',\n",
       "       'Бельгия - Германия - Люксембург - Франция', 'Франция - Греция',\n",
       "       'Италия - Канада', 'США - Великобритания - Франция',\n",
       "       'США-Италия-Греция', 'Германия - США - Великобритания - Ирландия',\n",
       "       'Великобритания - Франция - Германия',\n",
       "       'Германия - Нидерланды - ЮАР',\n",
       "       'США-Япония-Германия-Великобритания-Нидерланды',\n",
       "       'США-Япония-Германия-Великобритания',\n",
       "       'Германия - Франция - Польша',\n",
       "       'Таиланд-Великобритания-Франция-Германия-Испания-Нидерланды',\n",
       "       'Германия-Италия-Швейцария',\n",
       "       'Дания - Швеция - Великобритания - Франция - Германия - Нидерланды - Норвегия - Финляндия',\n",
       "       'Франция - Великобритания - Нидерланды - Люксембург',\n",
       "       'Нидерланды-Великобритания-Франция-Италия-Япония',\n",
       "       'Финляндия-Дания-Германия-Ирландия', 'Испания-Аргентина',\n",
       "       'Великобритания - Нидерланды - Франция - США', 'Канада - Мексика',\n",
       "       'США, Франция', 'Канада-Южная Корея-США',\n",
       "       'Великобритания - Франция - Бельгия - США', 'КНР - Канада - США',\n",
       "       'Италия - Франция - Германия',\n",
       "       'Швеция - Германия - Франция - Дания', 'Франция - США - Бельгия',\n",
       "       'Украина - Германия - Латвия - Эстония', 'Австрия - Люксембург',\n",
       "       'Великобритания - КНР', 'Монголия', 'Франция - Дания',\n",
       "       'Швеция - Дания - Финляндия',\n",
       "       'Сингапур - Великобритания - Индонезия - Канада - США',\n",
       "       'США - Германия - Япония', 'Таиланд - США', 'Франция - Нидерланды',\n",
       "       'Великобритания - Румыния', 'Корея', 'США - Мальта',\n",
       "       'Великобритания - Германия - Нидерланды - Дания',\n",
       "       'Франция - Германия - Литва - Нидерланды - Россия',\n",
       "       'США - ЮАР - Гонконг', 'Австралия - Колумбия',\n",
       "       'Великобритания - Польша', 'США - Великобритания - Швеция',\n",
       "       'Франция - Швеция - Дания - Норвегия', 'Болгария - США',\n",
       "       'Бельгия - Нидерланды - Франция', 'Финляндия - Германия',\n",
       "       'Болгария', 'Грузия - Россия - Украина - Хорватия - Германия',\n",
       "       'Франция - Люксембург', 'Франция - Германия - Австрия',\n",
       "       'Норвегия - США', 'Германия-Швеция', 'Франция - Германия - Италия',\n",
       "       'Франция-Германия-Австрия', 'КНР-США',\n",
       "       'Великобритания - Ирландия - США ',\n",
       "       'Дания - Латвия - Россия - США', 'Финляндия - Польша',\n",
       "       'Германия - Бельгия', 'Германия - США - Франция - Испания',\n",
       "       'Бельгия-Германия-Канада-Франция-США-Великобритания',\n",
       "       'Нидерланды - Бельгия - Люксембург', 'Канада-Германия',\n",
       "       'Люксембург - Бельгия - Франция', 'США-Великобритания-Австралия',\n",
       "       'Великобритания, Новая Зеландия', 'Бельгия, Великобритания, США',\n",
       "       'Великобритания, Австралия', 'Исландия, Бельгия',\n",
       "       'Испания - Швейцария - Великобритания - Германия - Новая Зеландия - Нидерланды - Канада',\n",
       "       'Франция, Бельгия', 'Великобритания, США', 'Киргизия-Россия',\n",
       "       'Германия, США', 'Великобритания, США, Испания',\n",
       "       'Италия - Швейцария - Германия', 'Россия, Армения',\n",
       "       'Франция, Германия', 'Китай, Канада, США', 'Германия, Австралия',\n",
       "       'КНР, США', 'США, Великобритания, Люксембург',\n",
       "       'Испания, Ирландия, Бельгия, Франция',\n",
       "       'Великобритания - Гонконг - Венгрия - США - Ирландия',\n",
       "       'США - Пуэрто Рико', 'Аргентина - Испания - Уругвай',\n",
       "       'Израиль - Германия - Франция - Швейцария',\n",
       "       'Великобритания - Мексика - США', 'Испания - Болгария - США',\n",
       "       'Россия-Словакия-Чехия',\n",
       "       'Швейцария - КНР - США - Россия - Республика Корея - Великобритания',\n",
       "       'Россия, Нидерланды, Финляндия',\n",
       "       'Испания - Бельгия - Франция - Португалия - Великобритания',\n",
       "       'Бразилия - Португалия - Франция', 'Швеция - Норвегия',\n",
       "       'Франция - Польша - Бельгия', 'CША', 'Китай, США',\n",
       "       'Италия, Франция, Германия', 'Германия - Австрия - Франция',\n",
       "       'Чехия - Словакия - Хорватия', 'Россия, Польша, Финляндия',\n",
       "       'Россия, Латвия, Чешская Республика',\n",
       "       'Франция - Великобритания - Камбоджа - США - КНР',\n",
       "       'Чехия - Испания - США', 'Германия - Люксембург - Дания',\n",
       "       'Великобритания - Испания - Германия', 'Дания - Исландия',\n",
       "       'Германия, Франция, Великобритания',\n",
       "       'Великобритания - Испания - Италия - Латвия - Франция - Эстония',\n",
       "       'Дания, Швеция, Великобритания, Франция, Германия, Норвегия, Финляндия, Нидерланды, Италия',\n",
       "       'Польша - Франция - Великобритания',\n",
       "       'Дания, Норвегия, Венгрия, Чехия',\n",
       "       'Дания - Франция - Германия - Швеция',\n",
       "       'Великобритания, Швеция, США',\n",
       "       'Канада, Франция, Италия, Швейцария, США', 'США, Индия',\n",
       "       'США - Великобритания - Германия - - Швеция - Канада',\n",
       "       'Италия, Франция', 'Республика Беларусь, Германия, США, Россия',\n",
       "       'Италия-Швейцария-Франция-Германия ',\n",
       "       'Россия - Франция - Великобритания - Латвия', 'Россия-Беларусь',\n",
       "       'Франция - Испания - Румыния - США - Бельгия', 'Италия-США',\n",
       "       'Индия - Мексика', 'Россия, Австрия', 'Франция - Россия',\n",
       "       'Ирландия - Великобритания - США',\n",
       "       'Швейцария, Великобритания, Франция, США, Ирландия',\n",
       "       'Мексика, Франция, Германия, Дания, Швеция', 'Нидерланды, Бельгия',\n",
       "       'Швеция, Норвегия, Финляндия, Франция', 'Испания, Франция, Италия',\n",
       "       'Испания-Франция-Греция-Индия-США-Россия-Великобритания',\n",
       "       'Великобритания - Япония - США',\n",
       "       'Дания, Канада, Норвегия, Австралия, США', 'Аргентина, Испания',\n",
       "       'Россия, Германия, Казахстан, Польша, Китай',\n",
       "       'Португалия, Франция, Польша, США', 'США - Канада - Аргентина',\n",
       "       'Ливан-США', 'США, Великобритания', 'Япония - США',\n",
       "       'США, Гонконг ',\n",
       "       'Франция - Россия - Швейцария - Румыния - Венгрия',\n",
       "       'Аргентина-Испания', 'Россия, Сербия', 'США - Болгария - Мексика',\n",
       "       'США - Великобритания - Швейцария - Франция',\n",
       "       'Таиланд - КНР - США',\n",
       "       'Великобритания, Нидерланды, Польша, Швейцария, Франция',\n",
       "       'Ирландия - США',\n",
       "       'Германия - Франция - Великобритания - Польша - США',\n",
       "       'Великобритания-Франция-Италия', 'США - Австралия - Индия',\n",
       "       'Франция - КНР', 'Великобритания - Израиль',\n",
       "       'Великобритания - Норвегия - Кения - Хорватия',\n",
       "       'США - Бразилия - Великобритания - Канада', 'Германия, Бельгия',\n",
       "       'Австралия, Канада', 'США, Великобритания, Франция',\n",
       "       'Кения, Германия', 'Нидерланды, Бельгия, Люксембург', 'Колумбия',\n",
       "       'Латвия - Франция', 'Ирландия, Великобритания',\n",
       "       'Франция - Израиль - Германия', 'Швеция, Франция, Великобритания',\n",
       "       'Бельгия - Люксембург', 'Германия - Бельгия - Великобритания',\n",
       "       'Германия, Франция', 'США, Япония',\n",
       "       'США, Великобритания, Ирландия, Люксембург', 'Республика Армения',\n",
       "       'США, Франция, Япония', 'Япония, США', 'Канада, США',\n",
       "       'Республика Кипр - Россия',\n",
       "       'Дания - Франция - Италия - Бельгия - Нидерланды',\n",
       "       'Россия - Грузия', 'Италия, Германия', 'Норвегия, Швеция, Дания',\n",
       "       'Республика Кипр, Россия', 'КНР, Индия, Гонконг, США',\n",
       "       'Израиль, Украина', 'США, Россия', 'США - КНР - Индия - Ю.Корея',\n",
       "       'США - Швеция', 'Франция, Канада', 'Россия-Китай',\n",
       "       'Канада, Великобритания', 'США, Германия',\n",
       "       'Канада, США, Каймановы острова',\n",
       "       'Бразилия, Уругвай, Дания, Норвегия, Чили, Швеция',\n",
       "       'Пуэрто-Рико, Великобритания, США',\n",
       "       'Уругвай - Аргентина - Испания', 'США - Канада - Франция - Индия',\n",
       "       'Великобритания - Россия - КНР', 'Франция, Новая Зеландия',\n",
       "       'Франция, Люксембург, Бельгия', 'Канада, США, Норвегия',\n",
       "       'Италия, Испания', 'Испания - Германия - Нидерланды',\n",
       "       'Бразилия - США - КНР ', 'Великобритания, Германия, Дания, США',\n",
       "       '2019', 'Италия - Фрация - Бразилия - Германия',\n",
       "       'Норвегия - Швеция - Россия', 'Великобритания, Япония, США',\n",
       "       'Сша, Канада', 'Бельгия, Канада',\n",
       "       'Великобритания - Австралия - США', 'США, Канада', 'КНР - США ',\n",
       "       'Франция - Финляндия', 'Колумбия - США',\n",
       "       'Великобритания, Франция, Бельгия', 'Норвегия - Нидерланды',\n",
       "       'Великобритания, Канада, США', 'Япония, Великобритания',\n",
       "       'Италия - Бельгия - Франция', 'Россия, Бельгия, Финляндия',\n",
       "       'США, Украина', 'Франция, Норвегия',\n",
       "       'Великобритания, Южная Корея, Канада, США, Индия, Китай, Япония',\n",
       "       'Канада - Норвегия', 'Республика Кипр-Россия', 'Германия, Россия',\n",
       "       'Австрия, Великобритания, Германия', 'Франция - Сенегал - Бельгия',\n",
       "       'Франция, Бельгия, Люксембург', 'Финляндия, Латвия', 'Пакистан',\n",
       "       'Германия, Франция, США', 'Германия - Великобритания - США',\n",
       "       'КНР - Франция', 'Дания, Норвегия, Швеция, Исландия',\n",
       "       'Республика Кипр, США, Россия', 'Новая Зеландия - КНР',\n",
       "       'Дания - Канада - Швеция - Франция - Германия - Великобритания - США'],\n",
       "      dtype=object)"
      ]
     },
     "execution_count": 21,
     "metadata": {},
     "output_type": "execute_result"
    }
   ],
   "source": [
    "mkrf_movies['production_country'].unique()"
   ]
  },
  {
   "cell_type": "code",
   "execution_count": 22,
   "metadata": {},
   "outputs": [
    {
     "data": {
      "text/plain": [
       "array(['Кевин Костнер', 'Тимур Бекмамбетов', 'Джон Туртурро', ...,\n",
       "       'Ник Пауэлл', 'А.Беляев', 'И.Трусов'], dtype=object)"
      ]
     },
     "execution_count": 22,
     "metadata": {},
     "output_type": "execute_result"
    }
   ],
   "source": [
    "mkrf_movies['director'].unique()"
   ]
  },
  {
   "cell_type": "code",
   "execution_count": 23,
   "metadata": {},
   "outputs": [
    {
     "data": {
      "text/plain": [
       "array(['Дэвид Валдес, Кевин Костнер, Джейк Эбертс',\n",
       "       'Джим Лемли, Джейсон Нетер, Марк Е.Платт, Яйн Смит',\n",
       "       'Джон Пенотти, Джон Туртурро', ..., 'Поппи Бегум, Ник Пойнц',\n",
       "       'Джефф Боулер, Дэниэл Гродник, Луильо Руис, Брэт Саксон, Кирк Шоу',\n",
       "       'Дженнифер Додж'], dtype=object)"
      ]
     },
     "execution_count": 23,
     "metadata": {},
     "output_type": "execute_result"
    }
   ],
   "source": [
    "mkrf_movies['producer'].unique()"
   ]
  },
  {
   "cell_type": "code",
   "execution_count": 24,
   "metadata": {},
   "outputs": [
    {
     "data": {
      "text/plain": [
       "array(['«18+» - запрещено для детей', '«16+» - для детей старше 16 лет',\n",
       "       '«12+» - для детей старше 12 лет',\n",
       "       '«0+» - для любой зрительской аудитории',\n",
       "       '«6+» - для детей старше 6 лет'], dtype=object)"
      ]
     },
     "execution_count": 24,
     "metadata": {},
     "output_type": "execute_result"
    }
   ],
   "source": [
    "mkrf_movies['age_restriction'].unique()"
   ]
  },
  {
   "cell_type": "code",
   "execution_count": 25,
   "metadata": {},
   "outputs": [
    {
     "data": {
      "text/plain": [
       "array(['Частный', 'Министерство культуры', 'Фонд кино',\n",
       "       'Министерство культуры, Фонд кино'], dtype=object)"
      ]
     },
     "execution_count": 25,
     "metadata": {},
     "output_type": "execute_result"
    }
   ],
   "source": [
    "mkrf_movies['financing_source'].unique()"
   ]
  },
  {
   "cell_type": "code",
   "execution_count": 26,
   "metadata": {},
   "outputs": [
    {
     "data": {
      "text/plain": [
       "array(['боевик,драма,мелодрама', 'фантастика,боевик,триллер',\n",
       "       'мюзикл,мелодрама,комедия', 'комедия,криминал',\n",
       "       'боевик,триллер,детектив', 'драма,спорт',\n",
       "       'триллер,драма,мелодрама', 'комедия,мелодрама',\n",
       "       'драма,мелодрама,семейный', 'боевик,драма,криминал',\n",
       "       'ужасы,фантастика,комедия', 'мультфильм,фантастика,фэнтези',\n",
       "       'триллер,драма,криминал', 'драма,мелодрама,биография',\n",
       "       'драма,комедия,военный', 'фантастика,драма,детектив',\n",
       "       'мелодрама,комедия', 'драма,мелодрама,комедия', 'другое',\n",
       "       'боевик,триллер,драма', 'боевик,комедия,криминал',\n",
       "       'комедия,мелодрама,драма', 'мультфильм,фэнтези,комедия',\n",
       "       'драма,мелодрама,военный', 'мультфильм,приключения,семейный',\n",
       "       'мультфильм,драма,комедия', 'драма,мелодрама', 'триллер,криминал',\n",
       "       'военный,биография,драма', 'драма,семейный,биография',\n",
       "       'фэнтези,приключения,семейный', 'драма,криминал,биография',\n",
       "       'боевик,история,драма', 'драма,биография,история',\n",
       "       'ужасы,триллер,драма', 'драма,криминал,спорт',\n",
       "       'документальный,короткометражка', 'триллер,драма', 'ужасы,триллер',\n",
       "       'драма', 'драма,мелодрама,детектив', 'фэнтези,мелодрама,драма',\n",
       "       'фэнтези,драма,мелодрама', 'драма,комедия',\n",
       "       'мультфильм,короткометражка,ужасы', 'фантастика,триллер,драма',\n",
       "       'фэнтези,мелодрама,комедия', 'ужасы,фантастика,боевик',\n",
       "       'боевик,триллер,приключения', 'комедия', 'драма,музыка',\n",
       "       'драма,биография', 'триллер,драма,приключения',\n",
       "       'триллер,драма,детектив', 'драма,криминал',\n",
       "       'триллер,детектив,драма', 'боевик,триллер,мелодрама',\n",
       "       'драма,комедия,приключения', 'фэнтези,комедия,приключения',\n",
       "       'драма,вестерн', 'триллер,криминал,детектив', 'ужасы',\n",
       "       'боевик,комедия,приключения', 'мультфильм,фэнтези,боевик',\n",
       "       'боевик,фэнтези,драма', 'фэнтези,боевик,комедия', 'документальный',\n",
       "       'боевик,триллер,комедия', 'мелодрама,комедия,криминал',\n",
       "       'драма,детектив', 'мюзикл,ужасы,триллер', 'детектив,триллер,ужасы',\n",
       "       'боевик,триллер,криминал', 'ужасы,фэнтези',\n",
       "       'ужасы,фэнтези,триллер', 'мультфильм,драма',\n",
       "       'ужасы,боевик,фантастика', 'фантастика,боевик',\n",
       "       'мелодрама,комедия,приключения', 'триллер,детектив',\n",
       "       'мюзикл,мелодрама,фэнтези', 'триллер,комедия,криминал',\n",
       "       'ужасы,триллер,детектив', 'боевик,драма,приключения',\n",
       "       'боевик,приключения,триллер', 'триллер,драма,военный',\n",
       "       'комедия,семейный,музыка', 'фантастика,триллер,криминал',\n",
       "       'ужасы,фантастика,триллер', 'фантастика,драма,мелодрама',\n",
       "       'фэнтези,драма,детектив', 'боевик,триллер', 'боевик,драма,история',\n",
       "       'мультфильм,мюзикл,фэнтези', 'для взрослых,драма,мелодрама',\n",
       "       'мультфильм,боевик,детектив', 'фантастика,мелодрама,боевик',\n",
       "       'ужасы,фантастика,детектив', 'фантастика,боевик,приключения',\n",
       "       'аниме,мультфильм,фэнтези', 'мелодрама,комедия,спорт',\n",
       "       'комедия,боевик,приключения', 'документальный,приключения',\n",
       "       'драма,комедия,криминал', 'мультфильм,короткометражка,детский',\n",
       "       'фэнтези,драма', 'комедия,приключения', 'ужасы,драма',\n",
       "       'ужасы,фэнтези,боевик', 'мультфильм,фэнтези,детский',\n",
       "       'мюзикл,боевик,драма', 'семейный,комедия,драма', 'концерт,музыка',\n",
       "       'фэнтези,боевик,драма', 'драма,комедия,музыка',\n",
       "       'фантастика,фэнтези,боевик', 'драма,военный',\n",
       "       'фэнтези,комедия,семейный', 'фэнтези,драма,комедия',\n",
       "       'мультфильм,мюзикл,драма', 'триллер', 'боевик,драма',\n",
       "       'комедия,семейный', 'боевик,криминал,триллер',\n",
       "       'мультфильм,приключения,драма', 'мелодрама,музыка',\n",
       "       'боевик,драма,военный', 'мультфильм,семейный',\n",
       "       'мультфильм,комедия,приключения', 'мультфильм,комедия,семейный',\n",
       "       'фантастика,драма', 'фэнтези,боевик,приключения',\n",
       "       'мультфильм,приключения', 'драма,военный,история',\n",
       "       'драма,мелодрама,история', 'история', 'драма,приключения,военный',\n",
       "       'документальный,короткометражка,семейный',\n",
       "       'мелодрама,история,триллер', 'ужасы,детектив',\n",
       "       'мюзикл,комедия,приключения', 'драма,спорт,биография',\n",
       "       'фантастика,боевик,комедия', 'фантастика,приключения,детектив',\n",
       "       'короткометражка,драма,военный', 'мюзикл,драма,мелодрама',\n",
       "       'драма,военный,биография', 'драма,мультфильм',\n",
       "       'приключения,семейный', 'детектив', 'триллер,приключения',\n",
       "       'аниме,мультфильм,боевик', 'драма,комедия,биография',\n",
       "       'драма,комедия,спорт', 'боевик,мелодрама,комедия',\n",
       "       'семейный,комедия', 'фэнтези,боевик,триллер',\n",
       "       'документальный,фэнтези,семейный', 'фантастика,фэнтези,драма',\n",
       "       'ужасы,комедия,фэнтези', 'документальный,биография,музыка',\n",
       "       'фантастика,боевик,фэнтези', 'ужасы,боевик,триллер',\n",
       "       'комедия,криминал,семейный', 'приключения,драма',\n",
       "       'криминал,драма,триллер', 'драма,детектив,криминал', 'мелодрама',\n",
       "       'фэнтези,приключения,комедия', 'комедия,спорт',\n",
       "       'мюзикл,фэнтези,мелодрама', 'мультфильм,фэнтези,приключения',\n",
       "       'фантастика,фэнтези,приключения', 'фэнтези',\n",
       "       'фэнтези,приключения,боевик', 'фантастика,боевик,драма',\n",
       "       'криминал,драма', 'криминал,триллер,драма',\n",
       "       'документальный,музыка', 'приключения',\n",
       "       'драма,мелодрама,приключения', 'детский,комедия',\n",
       "       'фантастика,драма,боевик', 'концерт,музыка,документальный',\n",
       "       'ужасы,комедия,приключения', 'драма,мелодрама,криминал',\n",
       "       'ужасы,фантастика,фэнтези', 'боевик,приключения', 'боевик,комедия',\n",
       "       'мультфильм,фантастика,комедия', 'триллер,ужасы',\n",
       "       'мультфильм,мюзикл,комедия', 'мелодрама,фэнтези,триллер',\n",
       "       'детский,приключения,комедия', 'комедия,детектив',\n",
       "       'аниме,мультфильм,мелодрама', 'документальный,драма,семейный',\n",
       "       'документальный,биография,история', 'военный,боевик,драма',\n",
       "       'ужасы,комедия', 'комедия,драма', 'комедия,приключения,семейный',\n",
       "       'приключения,биография,история', 'детский,приключения,семейный',\n",
       "       'спорт,драма,биография', 'аниме,мультфильм,ужасы',\n",
       "       'фантастика,боевик,криминал', 'мюзикл,драма',\n",
       "       'драма,криминал,детектив', 'мелодрама,драма',\n",
       "       'аниме,мультфильм,драма', 'драма,история',\n",
       "       'драма,триллер,приключения', 'триллер,криминал,драма',\n",
       "       'фэнтези,комедия,драма', 'мультфильм,комедия',\n",
       "       'драма,комедия,история', 'комедия,биография,история',\n",
       "       'мультфильм,фантастика,приключения', 'аниме,мультфильм,фантастика',\n",
       "       'документальный,драма', 'мультфильм,фэнтези,семейный',\n",
       "       'мультфильм,боевик,комедия', 'комедия,криминал,спорт',\n",
       "       'документальный,мюзикл', 'мелодрама,комедия,музыка', 'биография',\n",
       "       'триллер,криминал,комедия', 'фантастика,драма,комедия',\n",
       "       'комедия,драма,мелодрама', 'фантастика,приключения,боевик',\n",
       "       'мультфильм,фэнтези,драма', 'триллер,комедия',\n",
       "       'драма,приключения,биография', 'фантастика,комедия',\n",
       "       'мелодрама,драма,комедия', 'боевик,криминал',\n",
       "       'драма,криминал,боевик', 'мультфильм,мюзикл,детский',\n",
       "       'драма,фэнтези', 'документальный,семейный',\n",
       "       'фэнтези,драма,приключения', 'ужасы,комедия,фантастика',\n",
       "       'драма,мелодрама,музыка', 'фэнтези,драма,семейный',\n",
       "       'триллер,мелодрама,драма', 'вестерн,боевик,драма',\n",
       "       'мультфильм,короткометражка,комедия', 'триллер,драма,история',\n",
       "       'ужасы,фантастика', 'мультфильм,короткометражка,мелодрама',\n",
       "       'ужасы,мелодрама,комедия', 'фэнтези,приключения',\n",
       "       'фантастика,триллер', 'ужасы,боевик,фэнтези',\n",
       "       'мультфильм,комедия,детский', 'триллер,драма,биография',\n",
       "       'мультфильм,ужасы,фэнтези', 'мультфильм,ужасы,фантастика',\n",
       "       'ужасы,боевик,комедия', 'драма,боевик', 'драма,биография,спорт',\n",
       "       'мультфильм', 'мелодрама,комедия,драма',\n",
       "       'приключения,фантастика,семейный', 'комедия,криминал,детектив',\n",
       "       'ужасы,триллер,комедия', 'криминал,комедия,триллер',\n",
       "       'семейный,приключения,комедия', 'мультфильм,драма,приключения',\n",
       "       'ужасы,драма,детектив', 'драма,приключения,фэнтези',\n",
       "       'фантастика,мультфильм,драма', 'драма,триллер,детектив', 'детский',\n",
       "       'триллер,боевик,криминал', 'драма,фантастика',\n",
       "       'комедия,драма,семейный', 'боевик,драма,комедия', 'комедия,ужасы',\n",
       "       'драма,фантастика,триллер', 'фантастика,драма,триллер',\n",
       "       'история,спорт,драма', 'документальный,биография',\n",
       "       'биография,история', 'спорт,драма', 'боевик,фэнтези',\n",
       "       'мультфильм,фэнтези', 'документальный,комедия,история',\n",
       "       'фантастика,комедия,приключения', 'криминал,комедия,боевик',\n",
       "       'фэнтези,приключения,драма', 'музыка,концерт',\n",
       "       'триллер,драма,боевик', 'комедия,криминал,боевик',\n",
       "       'комедия,фантастика,боевик', 'вестерн,приключения,боевик',\n",
       "       'аниме,мультфильм,комедия', 'детектив,криминал,триллер',\n",
       "       'мультфильм,комедия,криминал', 'комедия,приключения,детектив',\n",
       "       'мелодрама,фантастика,драма', 'драма,комедия,семейный',\n",
       "       'приключения,фантастика', 'триллер,детектив,ужасы',\n",
       "       'комедия,приключения,фэнтези', 'фэнтези,триллер,драма',\n",
       "       'мелодрама,приключения,боевик', 'детектив,триллер,криминал',\n",
       "       'фэнтези,семейный,мелодрама', 'военный,драма',\n",
       "       'документальный,приключения,семейный', 'криминал,комедия,драма',\n",
       "       'комедия,фантастика', 'история,биография,драма',\n",
       "       'мелодрама,драма,музыка', 'боевик,мелодрама', 'военный',\n",
       "       'комедия,криминал,триллер', 'детектив,триллер,боевик',\n",
       "       'комедия,боевик,криминал', 'комедия,вестерн',\n",
       "       'детский,мелодрама,семейный', 'короткометражка,мультфильм',\n",
       "       'комедия,фэнтези', 'фантастика,драма,ужасы', 'триллер,драма,ужасы',\n",
       "       'драма,фэнтези,история', 'комедия,драма,короткометражка',\n",
       "       'семейный', 'комедия,криминал,драма', 'комедия,фэнтези,ужасы',\n",
       "       'фэнтези,триллер,приключения', 'триллер,ужасы,драма',\n",
       "       'мелодрама,драма,фэнтези', 'фантастика,приключения,драма',\n",
       "       'боевик,детектив', 'военный,драма,боевик',\n",
       "       'комедия,мелодрама,фэнтези', 'вестерн,криминал,триллер',\n",
       "       'драма,история,триллер', 'мультфильм,фантастика,боевик',\n",
       "       'детектив,драма,криминал', 'приключения,история,драма',\n",
       "       'мультфильм,семейный,детский', 'биография,драма,история',\n",
       "       'триллер,криминал,боевик', 'история,мелодрама',\n",
       "       'приключения,боевик', 'приключения,детский',\n",
       "       'музыка,приключения,концерт', 'военный,драма,комедия',\n",
       "       'фэнтези,боевик,военный', 'фантастика,детектив,боевик',\n",
       "       'мультфильм,фэнтези,история', 'биография,мелодрама,драма',\n",
       "       'драма,биография,музыка', 'документальный,биография,спорт',\n",
       "       'фантастика,комедия,детектив', 'музыка,концерт,документальный',\n",
       "       'триллер,боевик,приключения', 'драма,семейный',\n",
       "       'триллер,драма,комедия', 'детектив,криминал',\n",
       "       'мультфильм,приключения,фэнтези', 'комедия,музыка',\n",
       "       'мелодрама,комедия,ужасы', 'драма,криминал,фантастика',\n",
       "       'фэнтези,драма,биография', 'документальный,военный,история',\n",
       "       'фантастика', 'детектив,фантастика,криминал',\n",
       "       'триллер,драма,фантастика', 'ужасы,комедия,боевик',\n",
       "       'триллер,боевик', 'фильм-нуар,триллер,детектив',\n",
       "       'ужасы,триллер,мелодрама', 'военный,драма,история',\n",
       "       'драма,спорт,история', 'документальный,драма,история',\n",
       "       'триллер,мелодрама,детектив', 'детский,семейный',\n",
       "       'мюзикл,семейный,драма', 'биография,военный,драма',\n",
       "       'мультфильм,детский', 'боевик,криминал,драма',\n",
       "       'детектив,фэнтези,триллер', 'драма,боевик,приключения',\n",
       "       'драма,мелодрама,фэнтези', 'детектив,история,драма',\n",
       "       'фэнтези,боевик,ужасы', 'ужасы,фэнтези,мелодрама',\n",
       "       'ужасы,приключения', 'боевик,фантастика',\n",
       "       'ужасы,мелодрама,детектив', 'мелодрама,приключения',\n",
       "       'фантастика,триллер,приключения', 'приключения,боевик,триллер',\n",
       "       'детектив,ужасы,криминал', 'семейный,фэнтези',\n",
       "       'фантастика,драма,приключения', 'криминал',\n",
       "       'приключения,семейный,драма', 'история,драма,боевик',\n",
       "       'мультфильм,приключения,комедия', 'криминал,драма,комедия',\n",
       "       'ужасы,комедия,драма', 'комедия,семейный,приключения',\n",
       "       'мюзикл,фэнтези,драма', 'драма,вестерн,боевик',\n",
       "       'драма,история,детектив', 'фэнтези,семейный',\n",
       "       'мультфильм,приключения,фантастика', 'комедия,триллер',\n",
       "       'мультфильм,приключения,детектив', 'драма,триллер',\n",
       "       'ужасы,триллер,криминал', 'документальный,криминал,военный',\n",
       "       'ужасы,фэнтези,драма', 'фэнтези,комедия', 'ужасы,фэнтези,комедия',\n",
       "       'комедия,музыка,драма', 'мультфильм,приключения,военный',\n",
       "       'мюзикл,фэнтези,комедия', 'боевик,фантастика,приключения',\n",
       "       'триллер,ужасы,криминал', 'ужасы,фантастика,драма',\n",
       "       'фантастика,приключения,семейный', 'короткометражка,музыка',\n",
       "       'мелодрама,детектив,комедия', 'документальный,триллер,биография',\n",
       "       'боевик,фантастика,триллер', 'драма,криминал,приключения',\n",
       "       'спорт,драма,комедия', 'фэнтези,мелодрама,приключения',\n",
       "       'триллер,детектив,криминал', 'мелодрама,криминал',\n",
       "       'мультфильм,семейный,спорт', 'комедия,фэнтези,мелодрама',\n",
       "       'драма,спорт,комедия', 'история,драма,мелодрама',\n",
       "       'драма,боевик,криминал', 'драма,комедия,триллер',\n",
       "       'аниме,мультфильм', 'документальный,ужасы',\n",
       "       'мультфильм,короткометражка', 'драма,история,военный',\n",
       "       'мультфильм,короткометражка,фэнтези', 'комедия,военный,музыка',\n",
       "       'биография,история,драма', 'ужасы,драма,мелодрама',\n",
       "       'драма,комедия,детектив', 'комедия,семейный,фантастика',\n",
       "       'мультфильм,семейный,комедия', 'боевик', 'история,детектив',\n",
       "       'приключения,мелодрама,детектив', 'мюзикл,комедия,мелодрама',\n",
       "       'драма,фантастика,ужасы', 'мультфильм,ужасы,комедия',\n",
       "       'для взрослых,драма,комедия', 'ужасы,комедия,музыка',\n",
       "       'комедия,история,драма', 'семейный,детектив,детский',\n",
       "       'короткометражка,драма', 'документальный,новости,драма',\n",
       "       'триллер,мелодрама', 'ужасы,драма,вестерн',\n",
       "       'мюзикл,фэнтези,семейный', 'вестерн,драма,триллер',\n",
       "       'приключения,вестерн,боевик', 'семейный,комедия,музыка',\n",
       "       'боевик,драма,вестерн', 'фантастика,мелодрама',\n",
       "       'комедия,криминал,биография', 'семейный,мультфильм,комедия',\n",
       "       'комедия,драма,криминал', 'фантастика,боевик,военный',\n",
       "       'приключения,биография,драма', 'приключения,триллер,биография',\n",
       "       'криминал,боевик,триллер', 'боевик,вестерн,приключения',\n",
       "       'история,драма', 'фантастика,фэнтези,комедия',\n",
       "       'мультфильм,детский,комедия', 'мелодрама,комедия,триллер',\n",
       "       'документальный,боевик,приключения', 'драма,приключения',\n",
       "       'мелодрама,военный,драма', 'триллер,фэнтези',\n",
       "       'драма,триллер,биография', 'фэнтези,боевик,семейный',\n",
       "       'фантастика,триллер,комедия', 'документальный,фэнтези',\n",
       "       'комедия,мультфильм,фантастика', 'криминал,биография,комедия',\n",
       "       'биография,спорт,драма', 'мультфильм,семейный,драма',\n",
       "       'документальный,фэнтези,драма', 'комедия,боевик,фантастика',\n",
       "       'семейный,приключения,военный', 'триллер,ужасы,детектив',\n",
       "       'фэнтези,боевик', 'короткометражка', 'мелодрама,триллер,история',\n",
       "       'документальный,история', 'мультфильм,приключения,детский',\n",
       "       'драма,комедия,мультфильм', 'военный,детектив',\n",
       "       'семейный,приключения,документальный', 'детский,фэнтези',\n",
       "       'документальный,комедия', 'комедия,биография', 'криминал,комедия',\n",
       "       'спорт,мелодрама,криминал', 'фантастика,комедия,боевик',\n",
       "       'боевик,приключения,детектив', 'детектив,триллер,драма',\n",
       "       'документальный,фантастика', 'мелодрама,комедия,семейный',\n",
       "       'мультфильм,мелодрама,комедия', 'комедия,криминал,приключения',\n",
       "       'драма,спорт,семейный', 'фантастика,мелодрама,фэнтези',\n",
       "       'мюзикл,комедия,музыка', 'фантастика,триллер,мелодрама',\n",
       "       'приключения,комедия,фэнтези', 'фэнтези,боевик,детектив',\n",
       "       'фэнтези,боевик,мелодрама', 'комедия,военный',\n",
       "       'драма,спорт,боевик', 'мультфильм,боевик,триллер',\n",
       "       'мелодрама,семейный', 'фантастика,боевик,детектив',\n",
       "       'драма,приключения,история', 'документальный,драма,музыка',\n",
       "       'фантастика,триллер,боевик', 'фэнтези,боевик,вестерн',\n",
       "       'драма,комедия,мелодрама', 'ужасы,фэнтези,приключения',\n",
       "       'триллер,фэнтези,драма', 'мультфильм,мюзикл,мелодрама',\n",
       "       'ужасы,триллер,фантастика', 'триллер,мелодрама,комедия',\n",
       "       'фантастика,триллер,детектив', 'ужасы,комедия,семейный',\n",
       "       'приключения,история', 'комедия,приключения,музыка',\n",
       "       'документальный,комедия,криминал', 'мелодрама,детектив',\n",
       "       'детский,приключения,фантастика', 'короткометражка,боевик,драма',\n",
       "       'боевик,комедия,семейный', 'фантастика,боевик,мелодрама',\n",
       "       'фэнтези,триллер,мелодрама', 'драма,детектив,история',\n",
       "       'боевик,криминал,детектив', 'мультфильм,фэнтези,мелодрама',\n",
       "       'мелодрама,драма,боевик', 'драма,вестерн,приключения',\n",
       "       'драма,приключения,мелодрама', 'фэнтези,боевик,криминал',\n",
       "       'фантастика,комедия,семейный', 'детский,фэнтези,приключения',\n",
       "       'ужасы,боевик', 'фантастика,мелодрама,комедия',\n",
       "       'семейный,спорт,боевик', 'триллер,биография,драма',\n",
       "       'ужасы,драма,комедия', 'мультфильм,фэнтези,триллер', 'мюзикл',\n",
       "       'боевик,спорт,драма', 'комедия,приключения,вестерн',\n",
       "       'мелодрама,биография', 'документальный,ужасы,боевик',\n",
       "       'фантастика,боевик,семейный', 'военный,история',\n",
       "       'ужасы,боевик,криминал', 'детектив,триллер',\n",
       "       'драма,семейный,комедия', 'драма,детектив,приключения',\n",
       "       'драма,криминал,история', 'приключения,триллер',\n",
       "       'боевик,драма,биография', 'ужасы,драма,триллер',\n",
       "       'драма,приключения,триллер', 'комедия,фэнтези,приключения',\n",
       "       'фантастика,боевик,ужасы', 'драма,комедия,фантастика',\n",
       "       'детектив,криминал,драма', 'боевик,триллер,фэнтези',\n",
       "       'приключения,детектив,семейный', 'ужасы,комедия,криминал',\n",
       "       'мультфильм,биография,драма', 'история,боевик,фэнтези',\n",
       "       'детектив,криминал,боевик', 'приключения,фэнтези',\n",
       "       'драма,биография,мюзикл', 'комедия,семейный,фэнтези',\n",
       "       'детектив,драма,триллер', 'боевик,приключения,семейный',\n",
       "       'биография,спорт,комедия', 'фантастика,приключения,военный',\n",
       "       'документальный,драма,биография', 'детектив,приключения,драма',\n",
       "       'аниме,мультфильм,приключения', 'семейный,приключения',\n",
       "       'ужасы,фэнтези,детектив', 'семейный,документальный',\n",
       "       'драма,приключения,семейный', 'приключения,история,военный',\n",
       "       'фэнтези,мелодрама', 'фэнтези,триллер,детектив',\n",
       "       'документальный,спорт,биография', 'комедия,триллер,драма',\n",
       "       'драма,ужасы', 'биография,музыка,драма', 'фэнтези,ужасы',\n",
       "       'детектив,мелодрама,фэнтези', 'боевик,военный,история',\n",
       "       'биография,драма,криминал', 'триллер,мелодрама,криминал',\n",
       "       'мюзикл,мелодрама', 'семейный,мелодрама', 'мюзикл,комедия',\n",
       "       'биография,драма', 'военный,история,драма',\n",
       "       'фантастика,детектив,фэнтези', 'детектив,приключения,триллер',\n",
       "       'фантастика,приключения', 'мультфильм,короткометражка,мюзикл',\n",
       "       'мультфильм,детский,семейный', 'драма,комедия,вестерн',\n",
       "       'документальный,драма,комедия', 'комедия,приключения,криминал',\n",
       "       'документальный,семейный,музыка', 'мелодрама,музыка,драма',\n",
       "       'мультфильм,семейный,фэнтези', 'детектив,фантастика,триллер',\n",
       "       'драма,мелодрама,триллер', 'биография,драма,военный',\n",
       "       'приключения,фантастика,драма', 'детектив,фильм-нуар,комедия',\n",
       "       'документальный,спорт', 'триллер,фантастика,драма',\n",
       "       'биография,документальный', 'ужасы,фантастика,мелодрама',\n",
       "       'детектив,комедия', 'история,биография,военный',\n",
       "       'криминал,мелодрама', 'драма,криминал,вестерн',\n",
       "       'мелодрама,семейный,приключения', 'криминал,детектив',\n",
       "       'триллер,ужасы,мелодрама', 'фэнтези,драма,фильм-нуар',\n",
       "       'детектив,мелодрама', 'комедия,драма,биография',\n",
       "       'драма,военный,боевик', 'драма,комедия,ужасы',\n",
       "       'фантастика,драма,криминал', 'документальный,музыка,биография',\n",
       "       'мультфильм,боевик,приключения', 'мультфильм,мелодрама,драма',\n",
       "       'боевик,военный,драма', 'фэнтези,семейный,приключения',\n",
       "       'детский,мультфильм,приключения', 'семейный,фэнтези,комедия',\n",
       "       'фэнтези,ужасы,триллер', 'ужасы,триллер,приключения',\n",
       "       'драма,боевик,история', 'фэнтези,комедия,детектив',\n",
       "       'история,приключения', 'аниме,мультфильм,короткометражка',\n",
       "       'драма,военный,триллер', 'биография,криминал,триллер',\n",
       "       'фантастика,фэнтези,детектив', 'вестерн,биография,драма',\n",
       "       'биография,музыка,мюзикл', 'мелодрама,история',\n",
       "       'драма,история,биография', 'приключения,драма,фантастика',\n",
       "       'комедия,фэнтези,криминал', 'биография,спорт,история',\n",
       "       'драма,криминал,семейный', 'детектив,боевик,история',\n",
       "       'ужасы,комедия,детектив', 'триллер,приключения,драма',\n",
       "       'фэнтези,комедия,криминал', 'триллер,криминал,приключения',\n",
       "       'документальный,музыка,концерт', 'комедия,детектив,приключения',\n",
       "       'фэнтези,драма,ужасы', 'ужасы,драма,военный', 'реальное ТВ',\n",
       "       'аниме,мультфильм,детектив', 'приключения,фэнтези,семейный',\n",
       "       'драма,биография,комедия', 'триллер,комедия,ужасы',\n",
       "       'музыка,мелодрама,фэнтези', 'мультфильм,история',\n",
       "       'биография,криминал,драма', 'комедия,мелодрама,фантастика',\n",
       "       'криминал,боевик,комедия', 'история,криминал',\n",
       "       'детектив,комедия,драма', 'триллер,фантастика,боевик',\n",
       "       'криминал,боевик', 'комедия,драма,военный',\n",
       "       'драма,триллер,криминал', 'мультфильм,мелодрама,приключения',\n",
       "       'фантастика,фэнтези,триллер', 'короткометражка,драма,триллер',\n",
       "       'военный,боевик,история', 'боевик,драма,триллер',\n",
       "       'документальный,военный,драма', 'драма,криминал,фильм-нуар',\n",
       "       'мультфильм,детский,приключения', 'мелодрама,история,драма',\n",
       "       'комедия,фантастика,мелодрама'], dtype=object)"
      ]
     },
     "execution_count": 26,
     "metadata": {},
     "output_type": "execute_result"
    }
   ],
   "source": [
    "mkrf_movies['genres'].unique()"
   ]
  },
  {
   "cell_type": "markdown",
   "metadata": {},
   "source": [
    "В результате увидели, что дубликаты содержатся в столбцах 'type', 'production_country'. Также насторожило, что в столбце 'film_studio' есть данные с лишним пробелом на конце, соответственно, и там могут дубликаты. Исходя из этого, в столбцах 'type' и 'film_studio' нужно удалить лишние пробелы, а в столбце 'production_country' вдобавок ещё заменить тире на запятую."
   ]
  },
  {
   "cell_type": "markdown",
   "metadata": {},
   "source": [
    "<div class=\"alert alert-warning\">\n",
    "    \n",
    "**Артём:** 👉 Как ты думаешь, в каком столбце должны быть уникальные значения?\n",
    "    \n",
    "</div>"
   ]
  },
  {
   "cell_type": "markdown",
   "metadata": {},
   "source": [
    "**Иван:** думаю, что в столбце 'puNumber' должны быть уникальные значения."
   ]
  },
  {
   "cell_type": "markdown",
   "metadata": {},
   "source": [
    "<div class=\"alert alert-success\">\n",
    "\n",
    "**Артём:** 👍👍 Верно.\n",
    "\n",
    "</div>"
   ]
  },
  {
   "cell_type": "markdown",
   "metadata": {},
   "source": [
    "Сначала удалим пробелы в столбцах в начале и конце строки."
   ]
  },
  {
   "cell_type": "markdown",
   "metadata": {},
   "source": [
    "<div class=\"alert alert-success\">\n",
    "\n",
    "**Артём:** 👍 Правильно.\n",
    "\n",
    "</div>"
   ]
  },
  {
   "cell_type": "code",
   "execution_count": 27,
   "metadata": {},
   "outputs": [],
   "source": [
    "mkrf_movies['type'] = mkrf_movies['type'].str.strip()\n",
    "mkrf_movies['film_studio'] = mkrf_movies['film_studio'].str.strip()\n",
    "mkrf_movies['production_country'] = mkrf_movies['production_country'].str.strip()"
   ]
  },
  {
   "cell_type": "markdown",
   "metadata": {},
   "source": [
    "Таким образом, мы разобрались с указанными выше первым и третьим столбцами. Осталось обработать 'production_country': в данном случае удалить все пробелы и заменить тире на запятую. Напишем для этого столбца функция, которая сделает манипуляции, а также с помощью которой преобразуется сам столбец. "
   ]
  },
  {
   "cell_type": "code",
   "execution_count": 28,
   "metadata": {},
   "outputs": [],
   "source": [
    "def production_country(row):\n",
    "    production_country = row['production_country']\n",
    "    production_country = production_country.replace(' -', '-')\n",
    "    production_country = production_country.replace('- ', '-')\n",
    "    production_country = production_country.replace('--', '-')\n",
    "    production_country = production_country.replace('-', ', ')\n",
    "    production_country = production_country.replace(',,', ', ')\n",
    "    production_country = production_country.replace(',', ', ')  \n",
    "    production_country = production_country.replace(',  ', ', ')\n",
    "    production_country = production_country.replace('К;анада', 'Канада')\n",
    "    production_country = production_country.replace('Пуэрто,Рико', 'Пуэрто Рико')\n",
    "    production_country = production_country.replace('Н.Зеландия', 'Новая Зеландия')\n",
    "    production_country = production_country.replace('Белоруссия', 'Беларусь')\n",
    "    production_country = production_country.replace('Республика Беларусь', 'Беларусь')\n",
    "    production_country = production_country.replace('Республика Казахстан', 'Казахстан')\n",
    "    production_country = production_country.replace('Чешская Республика', 'Чехия')\n",
    "    production_country = production_country.replace('Ю.Корея', 'Южная Корея')\n",
    "    production_country = production_country.replace('Сша', 'США')\n",
    "#     production_country = production_country.lower()\n",
    "    if production_country == '2019':\n",
    "        return None\n",
    "    return production_country"
   ]
  },
  {
   "cell_type": "code",
   "execution_count": 29,
   "metadata": {},
   "outputs": [],
   "source": [
    "mkrf_movies['production_country'] = mkrf_movies.apply(production_country, axis=1)\n",
    "mkrf_movies.dropna(subset=['production_country'], inplace=True)\n",
    "mkrf_movies = mkrf_movies.reset_index(drop=True)"
   ]
  },
  {
   "cell_type": "markdown",
   "metadata": {},
   "source": [
    "Теперь снова проверим выбранные столбцы с помощью функции unique."
   ]
  },
  {
   "cell_type": "code",
   "execution_count": 30,
   "metadata": {},
   "outputs": [
    {
     "data": {
      "text/plain": [
       "array(['Художественный', 'Анимационный', 'Прочие', 'Документальный',\n",
       "       'Научно-популярный', 'Музыкально-развлекательный'], dtype=object)"
      ]
     },
     "execution_count": 30,
     "metadata": {},
     "output_type": "execute_result"
    }
   ],
   "source": [
    "mkrf_movies['type'].unique()"
   ]
  },
  {
   "cell_type": "code",
   "execution_count": 31,
   "metadata": {},
   "outputs": [
    {
     "data": {
      "text/plain": [
       "array(['США', 'Франция', 'Германия, Великобритания',\n",
       "       'Великобритания, Италия', 'США, Франция, Турция', 'Новая Зеландия',\n",
       "       'Канада, Франция, Испания', 'США, Германия', 'США, Великобритания',\n",
       "       'Великобритания', 'Франция, Мексика, США', 'Германия',\n",
       "       'Великобритания, США, Германия, КНР', 'Гонконг, КНР',\n",
       "       'США, Франция', 'США, Япония, Франция, Великобритания',\n",
       "       'Гонконг, Сингапур, Таиланд, Великобритания', 'США, Канада',\n",
       "       'Франция, США', 'Ирландия, Великобритания, Германия',\n",
       "       'США, Австралия', 'США, Франция, Великобритания, Австрия',\n",
       "       'США, Бельгия', 'США, Ирландия, Великобритания',\n",
       "       'Люксембург, Нидерланды, Испания, Великобритания, США, Италия',\n",
       "       'Великобритания, Франция, США', 'Новая Зеландия, США',\n",
       "       'США, Великобритания, Чехия', 'Канада, Франция, Великобритания',\n",
       "       'Ирландия', 'Великобритания, Германия, США',\n",
       "       'США, Франция, Великобритания', 'Франция, Испания',\n",
       "       'Канада, Франция', 'Германия, Италия, США', 'Аргентина, Бразилия',\n",
       "       'Дания, Швейцария, Бельгия, Франция', 'США, Испания',\n",
       "       'Германия, США', 'Франция, Австрия, Германия, Италия, США',\n",
       "       'Австрия', 'США, Канада, Германия', 'Россия, Казахстан', 'Гонконг',\n",
       "       'Италия', 'США, ОАЭ', 'Россия', 'Великобритания, США',\n",
       "       'США, Франция, Испания, Великобритания', 'Великобритания, Франция',\n",
       "       'США, Италия, Испания, Аргентина', 'Франция, Великобритания',\n",
       "       'КНР, Гонконг', 'Франция, Италия, Швейцария',\n",
       "       'США, Новая Зеландия', 'Франция, Бельгия', 'Япония', 'КНР',\n",
       "       'Германия, Великобритания, Австрия',\n",
       "       'Великобритания, Израиль, Франция, Япония, США', 'Швеция',\n",
       "       'Испания', 'Дания', 'Франция, Бельгия, Люксембург',\n",
       "       'США, Индия, ОАЭ',\n",
       "       'Германия, Канада, Великобритания, Швейцария, Франция',\n",
       "       'Мексика, Чили', 'Аргентина', 'Бразилия', 'Чили', 'Австралия',\n",
       "       'Португалия, Франция', 'США, ЮАР', 'Исландия, Ирландия, Германия',\n",
       "       'США, Индонезия', 'Южная Корея', 'Мексика, Испания, Дания, США',\n",
       "       'Франция, Италия', 'США, Венгрия, Великобритания',\n",
       "       'Бельгия, Франция, Италия', 'Чехия, Германия', 'Германия, Франция',\n",
       "       'США, Нидерланды', 'Великобритания, Германия',\n",
       "       'США, Франция, Испания', 'Италия, Франция', 'Канада',\n",
       "       'Швеция, Франция, Дания', 'Германия, Франция, Польша',\n",
       "       'Франция, Великобритания, Германия',\n",
       "       'США, Бразилия, Франция, Австралия, Великобритания, Германия',\n",
       "       'Германия, Австрия', 'Германия, Италия, Шри, Ланка',\n",
       "       'Великобритания, Испания', 'США, Великобритания, Канада, Швеция',\n",
       "       'Босния и Герцеговина, Франция, Великобритания, Германия, Словения, Бельгия, Сербия',\n",
       "       'Великобритания, Франция, Италия, США', 'Испания, Франция',\n",
       "       'Великобритания, Австралия, США',\n",
       "       'Норвегия, Швеция, Дания, Германия', 'Норвегия', 'Швейцария',\n",
       "       'Греция, Германия, Франция', 'Норвения', 'Южная Корея, США',\n",
       "       'Чили, Франция, США', 'Австрия, Германия, Франция',\n",
       "       'Швеция, Дания', 'Великобритания, Франция, Бельгия, Италия',\n",
       "       'Франция, Германия', 'Грузия, Франция, Люксембург',\n",
       "       'США, Франция, Великобритания, Бразилия', 'США, КНР',\n",
       "       'США, Германия, Гонконг, Сингапур', 'Финляндия, Австрия, Россия',\n",
       "       'Испания, Куба', 'Великобритания, ЮАР', 'Великобритания, Ирландия',\n",
       "       'Израиль', 'Бразилия, Германия, Порртугалия, Франция',\n",
       "       'Франция, Канада, Бельгия', 'Испания, Канада, Япония',\n",
       "       'Швеция, Куба', 'США, Великобритания, Ирландия', 'Нидерланды',\n",
       "       'Испания, Канада', 'Япония, Великобритания',\n",
       "       'Великобритания, Норвегия, Дания, Германия',\n",
       "       'Финляндия, Франция, Германия',\n",
       "       'Мексика, Франция, Нидерланды, Германия', 'США, Индия',\n",
       "       'США, Великобритания, Индия', 'США, Канада, Бельгия', 'Турция',\n",
       "       'Сербия, Словения, Хорватия, Черногория, Македония', 'Киргизия',\n",
       "       'Германия, Нидерланды, Беларусь, Россия, Латвия', 'Индия',\n",
       "       'Нидерланды, Россия, Германия',\n",
       "       'Великобритания, Нидерланды, Франция, Хорватия',\n",
       "       'Канада, Южная Корея',\n",
       "       'Великобритания, Польша, КНР, Индия, Норвегия',\n",
       "       'Япония, Франция, США, Южная Корея, Турция',\n",
       "       'Мексика, Аргентина, Великобритания', 'Израиль, Франция',\n",
       "       'Польша, Португалия, Франция, Великобритания', 'Австралия, США',\n",
       "       'Франция, Люксембург, Бельгия', 'Армения',\n",
       "       'Бельгия, Люксембург, Франция, Швейцария',\n",
       "       'США, Великобритания, Канада', 'Норвегия, Швеция',\n",
       "       'КНР, Гонконг, США', 'Украина',\n",
       "       'США, Сингапур, Малайзия, Индонезия', 'Германия, Россия',\n",
       "       'Япония, Канада', 'Финляндия, Дания, Германия, Ирландия',\n",
       "       'Франция, Люксембург, Германия, Бельгия, Швейцария, Великобритания',\n",
       "       'Канада, США', 'США, Италия, Испания', 'США, Швейцария, Франция',\n",
       "       'Испания, США, Колумбия', 'Канада, ЮАР',\n",
       "       'Германия, Финляндия, Австралия', 'Дания, Швеция', 'Бельгия',\n",
       "       'Германия, Франция, Австрия', 'Франция, Индия', 'ЮАР',\n",
       "       'Франция, Перу', 'Франция, Канада', 'Беларусь',\n",
       "       'Великобритания, Австрия, Франция, США', 'США, Россия',\n",
       "       'США, Южная Корея', 'Канада, КНР',\n",
       "       'Дания, Швеция, Италия, Франция, Германия',\n",
       "       'Франция, Италия, Испания, Венгрия', 'Франция, Германия, Бельгия',\n",
       "       'Франция, Великобритания, Чехия', 'Румыния, Франция, Бельгия',\n",
       "       'Болгария, Франция, Изриль',\n",
       "       'Израиль, Германия, Польша, Бельгия, Франция, Люксембург',\n",
       "       'Россия, Германия, Франция, Бельгия', 'Франция, Португалия',\n",
       "       'Великобритания, Пуэрто, Рико', 'Россия, Беларусь',\n",
       "       'Франция, Австрия', 'Бельгия, Нидерланды',\n",
       "       'Великобритания, США, Индия', 'США, Великобритания, Австралия',\n",
       "       'Канада, Франция, США, ОАЭ, Великобритания',\n",
       "       'США, Австралия, Франция',\n",
       "       'Дания, Франция, Бельгия, Германия, Великобритания',\n",
       "       'Испания, Аргентина', 'Исландия, Финляндия',\n",
       "       'Россия, Польша, Голландия, Словакия', 'Дания, Германия, Швеция',\n",
       "       'Южная Корея, США, Канада', 'Таиланд', 'США, Мальта',\n",
       "       'Великобритания, Германия, Франция, Кипр, США', 'Мексика',\n",
       "       'США, Украина', 'США, Финляндия, Испания, Великобритания, Франция',\n",
       "       'Австралия, Великобритания',\n",
       "       'Ирландия, Финляндия, Бельгия, Великобритания, США, Швейцария',\n",
       "       'Малайзия, США', 'Германия, Италия',\n",
       "       'США, Франция, Бельгия, Италия', 'Франция, Ирландия, Швеция',\n",
       "       'Азербайджан, Россия', 'Великобритания, Италия, Швейцария',\n",
       "       'США, Германия, Великобритания', 'Германия, Бельгия, США, Франция',\n",
       "       'США, Китай', 'Чили, Испания', 'Франция, Швейцария',\n",
       "       'Канада, Испания', 'США, Румыния, Великобритания', 'США, Япония',\n",
       "       'США, Россия, Франция', 'Парагвай', 'Германия, Канада',\n",
       "       'США, Канада, Великобритания', 'Финляндия, Канада',\n",
       "       'Уругвай, Мексика, Германия', 'США, Чили',\n",
       "       'Германия, Аргентина, Нидерланды, Чили', 'США, Канада, Индонезия',\n",
       "       'Армения, Казахстан', 'Финляндия', 'Испания, Италия, Франция',\n",
       "       'Великобритания, Франция, Швеция, Бельгия', 'Иран',\n",
       "       'Мексика, Эквадор, Канада, США, Франция, Малайзия, Италия, Аргентина, Германия, Индия',\n",
       "       'Франция, Бенльгия', 'Индия, Великобритания',\n",
       "       'Япония, Великобритания, Франция', 'Испания, Уругвай, Аргентина',\n",
       "       'Франция, Италия, Бельгия, Люксембург',\n",
       "       'Франция, Украина, Грузия, Армения', 'Сербия, Германия, Венгрия',\n",
       "       'Франция, Польша', 'Румыния, США', 'Россия, Азербайджан',\n",
       "       'США, Нидерланды, Бельгия, Венгрия, Греция, Канада',\n",
       "       'Германия, Франция, Люксембург', 'Великобритания, США, Франция',\n",
       "       'США, Австралия, Дания', 'Бельгия, Франция', 'США, Мексика',\n",
       "       'Норвегия, Азербайджан, Россия, Колумбия, Великобритания, Венгрия, Румыния, Франция, Грузия',\n",
       "       'СЩА', 'Бразилия, Испания', 'Россия, Франция, Латвия',\n",
       "       'Нидерланды, США, Германия, Канада, Франция, Ирландия, Великобритания',\n",
       "       'Уругвай, Колумбия', 'США, Испания, Болгария', 'Армения, Германия',\n",
       "       'США, Великобритания, Франция, Швеция', 'Австралия, Турция, США',\n",
       "       'Швеция, Германия', 'Польша, Италия, Россия', 'Франция, Бразилия',\n",
       "       'США, Канада, КНР', 'Бельгия, Германия, Люксембург',\n",
       "       'Бразилия, США', 'США, Великобритания, Канада, КНР',\n",
       "       'Франция, Чили',\n",
       "       'Франция, США, Великобритания, Колумбия, Бельгия, Россия',\n",
       "       'Дания, Великобритания, ЮАР', 'Россия, США, Канада, Люксембург',\n",
       "       'Россия, Республика Кипр', 'Германия, США, Швеция, Франция',\n",
       "       'Великобритания, Германия, Канада, ЮАР', 'Ирландия, Канада',\n",
       "       'Япония, Великобритания, Швейцария, Ирландия, Дания, Франция, Польша, Австралия, Канада',\n",
       "       'Великобритания, Канада', 'Бельгия, США',\n",
       "       'Великобритания, США, Россия', 'Россия, Украина',\n",
       "       'Германия, США, Великобритания, Израиль', 'Канада, Германия',\n",
       "       'Великобритания, Франция, Республика Кипр, Швейцария, США, Сербия',\n",
       "       'Испания, Аргентина, Индия, США',\n",
       "       'Норвегия, Исландия, США, Великобритания',\n",
       "       'Турция, Германя, Франция', 'Австралия, Германия',\n",
       "       'Мексика, Испания', 'Великобритания, США, Германия, Бельгия',\n",
       "       'США, Чехия, Франция', 'Россия, Италия', 'Франция, Россия',\n",
       "       'Норвегия, Дания, Швеция', 'Франция, Швейцария, Германия',\n",
       "       'Грузия, Украина', 'Россия, Эстония, Финляндия, Беларусь',\n",
       "       'США, Франция, ЮАР', 'Великобритания, США, Швейцария',\n",
       "       'Мексика, Нидерланды, Германия, Франция', 'США, Испания, Франция',\n",
       "       'США, Великобритания, КНР', 'США, Франция, Канада',\n",
       "       'Япония, Великобритания, Австрия, Германия, Южная Корея',\n",
       "       'Великобритания, Ирландия, США', 'Бельгия, Италия, Франция',\n",
       "       'Швейцария, Германия, ЮАР', 'Великобритания, США, Германия',\n",
       "       'Германия, Исландия', 'Испания, США', 'Хорватия',\n",
       "       'Финляндия, Исландия, Швеция', 'Канада, США, Германия, Франция',\n",
       "       'США, Великобритания, Испания', 'Ирландия, Великобритания',\n",
       "       'Аргентина, Испания', 'Австрия, Германия',\n",
       "       'Германия, Швейцария, Франция, Южная Корея, США',\n",
       "       'Украина, Нидерланды', 'Венгрия, Германия, Швеция',\n",
       "       'Германия, Франция,  Польша, Турция, Канада, Италия, Россия',\n",
       "       'Россия, Кипр', 'Россия, Грузия, Испания',\n",
       "       'Великобритания, Нидерланды, Германия, Франция, Бельгия, Австрия',\n",
       "       'Испания, Великобритания, Франция',\n",
       "       'Дания, Норвегия, Великобритания', 'Бельгия, Франция, Люксембург',\n",
       "       'Италия, Франция, Швейцария, Великобритания',\n",
       "       'Франция, Бельгия, Великобритания, Испания, Германия, США',\n",
       "       'Швейцария, Израиль, Франция, Великобритания',\n",
       "       'Великобритания, США, Канада, Нидерланды, Франция',\n",
       "       'Россия, Украина, Беларусь, Литва',\n",
       "       'Финляндия, Великобритания, Германия', 'Россия, Украина, Польша',\n",
       "       'Франция, Италия, Бельгия, КНР',\n",
       "       'Германия, Бельгия, Люксембург, Ирландия', 'КНР, Сингапур',\n",
       "       'Франция, Бельгия, Великобритания, США, Нидерланды, Канада',\n",
       "       'США, Россия, Польша, Германия, Пуэрто Рико',\n",
       "       'Франция, Бельгия, Канада', 'Мексика, США', 'США, Гонконг, КНР',\n",
       "       'Греция, Россия', 'Ирландия, Дания, Бельгия, Люксембург, Франция',\n",
       "       'Эстония, Россия',\n",
       "       'Великобритания, Исландия, Испания, Швейцария, США',\n",
       "       'Австралия, Великобритания, Бельгия, Индия',\n",
       "       'Швеция, Германия, Франция, Норвегия',\n",
       "       'Нидерланды, Бельгия, Германия, Ирландия',\n",
       "       'Нидерланды, Великобритания, Бельгия', 'США, Колумбия, Испания',\n",
       "       'Франция, Испания, Бельгия, Панама',\n",
       "       'США, Великобритания, Чехия, Румыния',\n",
       "       'Аргентина, Уругвай, Россия, Германия, Франция, Нидерланды',\n",
       "       'Швеция, Франция, Норвегия, Дания',\n",
       "       'Италия, Франция, Великобритания', 'Венесуэла', 'Южная Корея, КНР',\n",
       "       'Аргентина, Мексика, Бразилия, Франция, США', 'Швеция, США',\n",
       "       'Франция, Германия, Турция, Катар', 'Франция, Китай',\n",
       "       'Россия, Германия, Великобритания',\n",
       "       'Великобритания, Италия, Испания', 'Италия, Россия',\n",
       "       'Япония, КНР, Южная Корея', 'Россия, Германия', 'Россия, Ирландия',\n",
       "       'Македония, Франция, Великобритания', 'Франция, Бразилия, Италия',\n",
       "       'Россия, США', 'Армения, Россия', 'Россия, Румыния',\n",
       "       'Франция,  Бельгия', 'Грузия, Франция', 'ЮАР, США',\n",
       "       'Великобритания, США, Германия, Канада, Австралия',\n",
       "       'США, Ирландия', 'Германия, Люксембург, Франция',\n",
       "       'Россия, Франция',\n",
       "       'США, Нидерланды, Финляндия, Великобритания, Италия',\n",
       "       'Республика Кипр', 'Венгрия', 'Франция, США, Норвегия, Дания',\n",
       "       'Германия, Австрия, Ирландия', 'США, Финляндия',\n",
       "       'Италия, Великобритания', 'Россия, Испания',\n",
       "       'США, Великобритания, Болгария', 'Великобритания, Люксембург',\n",
       "       'Индия, США', 'США, Канада, Россия, Франция, Чили, Ирландия',\n",
       "       'Грузия, Россия',\n",
       "       'Дания, Австрия, Ирландия, Финляндия, Норвегия, Швеция, Нидерланды',\n",
       "       'Австралия, Ирландия', 'Италия, Аргентина, Словения',\n",
       "       'Испания, Франция, Нидерланды, Германия, Бельгия, Великобритания, Канада',\n",
       "       'Франция, Чехия, Бельгия',\n",
       "       'Великобритания, Франция, Германия, США',\n",
       "       'Ирландия, Великобритания, Франция, США, Германия, Нидерланды',\n",
       "       'США, Канада, Япония, КНР', 'США, Великобритания, Исландия',\n",
       "       'Франция, Германия, Нидерланды',\n",
       "       'Франция, Германия, Швеция, США, Чехия, Словакия, Великобритания, Нидерланды',\n",
       "       'Франция, Канада, Новая Зеландия, США, Нидерланды, Германия, Швеция, Россия',\n",
       "       'Турция, США',\n",
       "       'Великобритания, США, Канада, Бельгия, Нидерланды, Австрия, Германия',\n",
       "       'Израиль, Франция, Германия, Палестина, США, Австрия, Великобритания',\n",
       "       'Аргентина, Франция, Испания', 'СССР, Россия',\n",
       "       'Великобритания, Франция, Италия, Индия, Дания, КНР, Бангладеш, Камбоджа, Гаити, Уганда',\n",
       "       'Италия, Франция, Швейцария', 'Ирландия, Великобритания, Канада',\n",
       "       'Перу', 'США, Норвегия', 'Китай, Гонконг', 'США, Германия, КНР',\n",
       "       'Великобритания, Новая Зеландия', 'Франция, Дания, Швеция, КНР',\n",
       "       'США, Великобритания, Германия, Бельгия, Дания',\n",
       "       'США, Франция, Канада, Германия, Австралия, Индия',\n",
       "       'Великобритания, Франция, Австрия, Швеция', 'Россия, Таджикистан',\n",
       "       'Нидерланды, Бельгия, Болгария', 'Великобритания, Канада, США',\n",
       "       'Франция, Бельгия, Испания', 'Китай, Гонконг, США', 'США, Вьетнам',\n",
       "       'США, Германия, Франция', 'Германия, Франция, Бельгия',\n",
       "       'США, Италия',\n",
       "       'Германия, Дания, Испания, Швеция, Канада, Эстония, Франция',\n",
       "       'Княжество Андорра, Украина', 'Германия, Люксембург, Бельгия',\n",
       "       'Великобритания, Россия, Украина, США',\n",
       "       'Германия, Бельгия, Люксембург, Норвегия',\n",
       "       'США, Австралия, Новая Зеландия, Великобритания',\n",
       "       'США, Франция, Канада, Великобритания', 'Испания, Колумбия',\n",
       "       'Великобритания, Чехия, Франция', 'Исландия',\n",
       "       'Великобритания, Франция, Венгрия',\n",
       "       'Россия, Франция, Германия, Бельгия', 'Франция, Македония',\n",
       "       'Нидерланды, Франция, Германия, Бельгия, Швеция, Великобритания',\n",
       "       'Испания, США, Великобритания, Канада', 'Казахстан',\n",
       "       'Франция, Испания, Дания, Венгрия, Швейцария', 'Франция, КНР',\n",
       "       'США, Пуэрто, Рико, Франция', 'Мексика, Тайвань, США',\n",
       "       'Великобритания, Испания, Непал, Индия, Венгрия, Гонконг, Германия, Дания, Бахрейн',\n",
       "       'Великобритания, Аргентина, США, Франция, Россия, Испания',\n",
       "       'КНР, США', 'Италия, США', 'Финляндия, Швеция, Германия',\n",
       "       'Франция, Бельгия, Чехия', 'Франция, Германия, США', 'США, Дания',\n",
       "       'Индия, КНР', 'Чехия, Великобритания, США', 'США, ФРГ, Россия',\n",
       "       'Ирландия, Нидерланды, Франция, США, Великобритания',\n",
       "       'Россия, Грузия, Хорватия, Испания', 'Финляндия, Швеция, Норвегия',\n",
       "       'Сербия, Великобритания, США',\n",
       "       'США, Великобритания, Франция, Гонконг', 'Швейцария, Франция',\n",
       "       'Швейцария, Великобритания', 'ОАЭ, США',\n",
       "       'США, Франция, Германия, Канада, Австралия', 'Германия, Австралия',\n",
       "       'Иран, Франция', 'США, Великобритания, Новая Зеландия',\n",
       "       'США, Колумбия', 'США, Франция, Ирландия',\n",
       "       'Великобритания, Франция, Бельгия', 'США, Великобритания, Япония',\n",
       "       'США, Франция, Германия', 'Польша, Ирландия',\n",
       "       'Ирландия, Великобритания, Франция, США',\n",
       "       'США, Бельгия, Великобритания',\n",
       "       'Испания, Франция, США, Великобритания, Бельгия',\n",
       "       'Франция, Дания, США', 'США, Гонконг', 'Бразилия, Канада',\n",
       "       'США, Ирландия, Великобритания, Франция', 'Чехия',\n",
       "       'Великобритания, США, Канада', 'Польша, Франция', 'Индонезия',\n",
       "       'Канада, США, Нидерланды, Великобритания, Аргентина',\n",
       "       'Великобритания, Дания', 'Франция, Бельгия, Япония',\n",
       "       'Россия,  Испания', 'США, Канада, Германия, Франция',\n",
       "       'США, Канада, Франция', 'Германия, Австрия, Франция, Италия',\n",
       "       'США, Германия, Канада', 'Испания, Мексика',\n",
       "       'США, Япония, Канада, Великобритания, Германия, Франция',\n",
       "       'Россия, Украина, Германия',\n",
       "       'Израиль, Франция, Великобритания, Германия', 'Россия, Болгария',\n",
       "       'Германия, Канада, Франция, Бельгия', 'СССР', 'Грузия',\n",
       "       'Франция, Монако', 'Франция, Испания, Швейцария',\n",
       "       'Австрия, Франция, Германия', 'Румыния',\n",
       "       'США, Великобритания, Франция', 'Канада, Великобритания',\n",
       "       'Канада, Бразилия, Япония', 'Германия, Дания, Норвегия',\n",
       "       'Дания, Германия', 'СССР, Италия', 'СССР, ГДР, Польша, Италия',\n",
       "       'США, Испания, Франция, Великобритания', 'Китай',\n",
       "       'Мексика, Аргентина', 'Германия, Великобритания, Италия, Испания',\n",
       "       'Франция, Германия, Великобритания', 'Россия, Германия, Швейцария',\n",
       "       'Голландия', 'Франция, Испания, Тайвань',\n",
       "       'США, Южная Корея, Новая Зеландия', 'Великобритания, Венгрия',\n",
       "       'Великобритания, Франция, Германия', 'Франция, Германия, Италия',\n",
       "       'Швеция, Финляндия, Франция, Норвегия', 'Германия, Израиль',\n",
       "       'Швеция, Германия, Дания, Норвегия', 'Франция, Гонконг, Ирландия',\n",
       "       'Эстония', 'Литва, Россия, Украина', 'Германия, Италия, Франция',\n",
       "       'Испания, Мальта', 'Франция, Россия, Румыния, Италия, Бельгия',\n",
       "       'Россия, Польша', 'США, Аргентина', 'Израиль, США, Франция',\n",
       "       'США, Новая Зеландия, Япония', 'Франция, Чехия, Великобритания',\n",
       "       'Германия, Франция, Великобритания', 'США, Гонконг, Китай',\n",
       "       'США, Великобритания, Германия', 'США, Канада, Австралия',\n",
       "       'Япония, США, Франция', 'Франция, Испания, Германия',\n",
       "       'США, Хорватия, Босния, Герцеговина',\n",
       "       'Великобритания, Чехия, Франция, Италия',\n",
       "       'США, Германия, Нидерланды', 'Германия, Франция, Канада',\n",
       "       'Великобритания, Франция, Италия', 'Франция, Италия, Иран',\n",
       "       'Греция', 'Дания, США', 'США, Германия, Австралия',\n",
       "       'США, Канада, Италия', 'США, Япония, Германия',\n",
       "       'Франция, Великобритания, Багамские острова, США',\n",
       "       'Швейцария, Люксембург', 'Швейцария, Австрия',\n",
       "       'Германия, Швейцария', 'Дания, Швеция, Франция, Германия',\n",
       "       'Польша', 'Бразилия, Канада, США', 'Нидерланды, Россия',\n",
       "       'Португалия', 'Франция, Аргентина', 'Швеция, Франция',\n",
       "       'Франция, Украина', 'Германия, Украина, Нидерланды',\n",
       "       'Италия, Швейцария', 'Латвия, Россия',\n",
       "       'Германия, Франция, Великобритания, США', 'Канада, Италия',\n",
       "       'США, Объединенные Арабские Эмираты', 'США, Венгрия', 'Малайзия',\n",
       "       'Россия, Германия, Украина', 'США, Австралия, Мексика',\n",
       "       'Литва, Венгрия', 'Германия, Китай', 'Республика Корея',\n",
       "       'США, Германия, Франция, Великобритания, Канада',\n",
       "       'Бельгия, Германия, Люксембург, Франция', 'Франция, Греция',\n",
       "       'Италия, Канада', 'США, Италия, Греция',\n",
       "       'Германия, США, Великобритания, Ирландия',\n",
       "       'Германия, Нидерланды, ЮАР',\n",
       "       'США, Япония, Германия, Великобритания, Нидерланды',\n",
       "       'США, Япония, Германия, Великобритания',\n",
       "       'Таиланд, Великобритания, Франция, Германия, Испания, Нидерланды',\n",
       "       'Германия, Италия, Швейцария',\n",
       "       'Дания, Швеция, Великобритания, Франция, Германия, Нидерланды, Норвегия, Финляндия',\n",
       "       'Франция, Великобритания, Нидерланды, Люксембург',\n",
       "       'Нидерланды, Великобритания, Франция, Италия, Япония',\n",
       "       'Великобритания, Нидерланды, Франция, США', 'Канада, Мексика',\n",
       "       'Канада, Южная Корея, США',\n",
       "       'Великобритания, Франция, Бельгия, США', 'КНР, Канада, США',\n",
       "       'Италия, Франция, Германия', 'Швеция, Германия, Франция, Дания',\n",
       "       'Франция, США, Бельгия', 'Украина, Германия, Латвия, Эстония',\n",
       "       'Австрия, Люксембург', 'Великобритания, КНР', 'Монголия',\n",
       "       'Франция, Дания', 'Швеция, Дания, Финляндия',\n",
       "       'Сингапур, Великобритания, Индонезия, Канада, США',\n",
       "       'США, Германия, Япония', 'Таиланд, США', 'Франция, Нидерланды',\n",
       "       'Великобритания, Румыния', 'Корея',\n",
       "       'Великобритания, Германия, Нидерланды, Дания',\n",
       "       'Франция, Германия, Литва, Нидерланды, Россия',\n",
       "       'США, ЮАР, Гонконг', 'Австралия, Колумбия',\n",
       "       'Великобритания, Польша', 'США, Великобритания, Швеция',\n",
       "       'Франция, Швеция, Дания, Норвегия', 'Болгария, США',\n",
       "       'Бельгия, Нидерланды, Франция', 'Финляндия, Германия', 'Болгария',\n",
       "       'Грузия, Россия, Украина, Хорватия, Германия',\n",
       "       'Франция, Люксембург', 'Франция, Германия, Австрия',\n",
       "       'Норвегия, США', 'Германия, Швеция', 'Дания, Латвия, Россия, США',\n",
       "       'Финляндия, Польша', 'Германия, Бельгия',\n",
       "       'Германия, США, Франция, Испания',\n",
       "       'Бельгия, Германия, Канада, Франция, США, Великобритания',\n",
       "       'Нидерланды, Бельгия, Люксембург', 'Люксембург, Бельгия, Франция',\n",
       "       'Бельгия, Великобритания, США', 'Великобритания, Австралия',\n",
       "       'Исландия, Бельгия',\n",
       "       'Испания, Швейцария, Великобритания, Германия, Новая Зеландия, Нидерланды, Канада',\n",
       "       'Киргизия, Россия', 'Великобритания, США, Испания',\n",
       "       'Италия, Швейцария, Германия', 'Россия, Армения',\n",
       "       'Китай, Канада, США', 'США, Великобритания, Люксембург',\n",
       "       'Испания, Ирландия, Бельгия, Франция',\n",
       "       'Великобритания, Гонконг, Венгрия, США, Ирландия',\n",
       "       'США, Пуэрто Рико', 'Аргентина, Испания, Уругвай',\n",
       "       'Израиль, Германия, Франция, Швейцария',\n",
       "       'Великобритания, Мексика, США', 'Испания, Болгария, США',\n",
       "       'Россия, Словакия, Чехия',\n",
       "       'Швейцария, КНР, США, Россия, Республика Корея, Великобритания',\n",
       "       'Россия, Нидерланды, Финляндия',\n",
       "       'Испания, Бельгия, Франция, Португалия, Великобритания',\n",
       "       'Бразилия, Португалия, Франция', 'Швеция, Норвегия',\n",
       "       'Франция, Польша, Бельгия', 'CША', 'Китай, США',\n",
       "       'Германия, Австрия, Франция', 'Чехия, Словакия, Хорватия',\n",
       "       'Россия, Польша, Финляндия', 'Россия, Латвия, Чехия',\n",
       "       'Франция, Великобритания, Камбоджа, США, КНР',\n",
       "       'Чехия, Испания, США', 'Германия, Люксембург, Дания',\n",
       "       'Великобритания, Испания, Германия', 'Дания, Исландия',\n",
       "       'Великобритания, Испания, Италия, Латвия, Франция, Эстония',\n",
       "       'Дания, Швеция, Великобритания, Франция, Германия, Норвегия, Финляндия, Нидерланды, Италия',\n",
       "       'Польша, Франция, Великобритания',\n",
       "       'Дания, Норвегия, Венгрия, Чехия',\n",
       "       'Дания, Франция, Германия, Швеция', 'Великобритания, Швеция, США',\n",
       "       'Канада, Франция, Италия, Швейцария, США',\n",
       "       'США, Великобритания, Германия, Швеция, Канада',\n",
       "       'Беларусь, Германия, США, Россия',\n",
       "       'Италия, Швейцария, Франция, Германия',\n",
       "       'Россия, Франция, Великобритания, Латвия',\n",
       "       'Франция, Испания, Румыния, США, Бельгия', 'Индия, Мексика',\n",
       "       'Россия, Австрия', 'Ирландия, Великобритания, США',\n",
       "       'Швейцария, Великобритания, Франция, США, Ирландия',\n",
       "       'Мексика, Франция, Германия, Дания, Швеция', 'Нидерланды, Бельгия',\n",
       "       'Швеция, Норвегия, Финляндия, Франция', 'Испания, Франция, Италия',\n",
       "       'Испания, Франция, Греция, Индия, США, Россия, Великобритания',\n",
       "       'Великобритания, Япония, США',\n",
       "       'Дания, Канада, Норвегия, Австралия, США',\n",
       "       'Россия, Германия, Казахстан, Польша, Китай',\n",
       "       'Португалия, Франция, Польша, США', 'США, Канада, Аргентина',\n",
       "       'Ливан, США', 'Япония, США',\n",
       "       'Франция, Россия, Швейцария, Румыния, Венгрия', 'Россия, Сербия',\n",
       "       'США, Болгария, Мексика',\n",
       "       'США, Великобритания, Швейцария, Франция', 'Таиланд, КНР, США',\n",
       "       'Великобритания, Нидерланды, Польша, Швейцария, Франция',\n",
       "       'Ирландия, США', 'Германия, Франция, Великобритания, Польша, США',\n",
       "       'США, Австралия, Индия', 'Великобритания, Израиль',\n",
       "       'Великобритания, Норвегия, Кения, Хорватия',\n",
       "       'США, Бразилия, Великобритания, Канада', 'Австралия, Канада',\n",
       "       'Кения, Германия', 'Колумбия', 'Латвия, Франция',\n",
       "       'Франция, Израиль, Германия', 'Швеция, Франция, Великобритания',\n",
       "       'Бельгия, Люксембург', 'Германия, Бельгия, Великобритания',\n",
       "       'США, Великобритания, Ирландия, Люксембург', 'Республика Армения',\n",
       "       'США, Франция, Япония', 'Республика Кипр, Россия',\n",
       "       'Дания, Франция, Италия, Бельгия, Нидерланды', 'Россия, Грузия',\n",
       "       'Италия, Германия', 'Норвегия, Швеция, Дания',\n",
       "       'КНР, Индия, Гонконг, США', 'Израиль, Украина',\n",
       "       'США, КНР, Индия, Южная Корея', 'США, Швеция', 'Россия, Китай',\n",
       "       'Канада, США, Каймановы острова',\n",
       "       'Бразилия, Уругвай, Дания, Норвегия, Чили, Швеция',\n",
       "       'Пуэрто, Рико, Великобритания, США', 'Уругвай, Аргентина, Испания',\n",
       "       'США, Канада, Франция, Индия', 'Великобритания, Россия, КНР',\n",
       "       'Франция, Новая Зеландия', 'Канада, США, Норвегия',\n",
       "       'Италия, Испания', 'Испания, Германия, Нидерланды',\n",
       "       'Бразилия, США, КНР', 'Великобритания, Германия, Дания, США',\n",
       "       'Италия, Фрация, Бразилия, Германия', 'Норвегия, Швеция, Россия',\n",
       "       'Бельгия, Канада', 'Франция, Финляндия', 'Колумбия, США',\n",
       "       'Норвегия, Нидерланды', 'Италия, Бельгия, Франция',\n",
       "       'Россия, Бельгия, Финляндия', 'Франция, Норвегия',\n",
       "       'Великобритания, Южная Корея, Канада, США, Индия, Китай, Япония',\n",
       "       'Канада, Норвегия', 'Австрия, Великобритания, Германия',\n",
       "       'Франция, Сенегал, Бельгия', 'Финляндия, Латвия', 'Пакистан',\n",
       "       'Германия, Франция, США', 'Германия, Великобритания, США',\n",
       "       'КНР, Франция', 'Дания, Норвегия, Швеция, Исландия',\n",
       "       'Республика Кипр, США, Россия', 'Новая Зеландия, КНР',\n",
       "       'Дания, Канада, Швеция, Франция, Германия, Великобритания, США'],\n",
       "      dtype=object)"
      ]
     },
     "execution_count": 31,
     "metadata": {},
     "output_type": "execute_result"
    }
   ],
   "source": [
    "mkrf_movies['production_country'].unique()"
   ]
  },
  {
   "cell_type": "code",
   "execution_count": 32,
   "metadata": {},
   "outputs": [
    {
     "data": {
      "text/plain": [
       "array(['Тачстоун Пикчерз, Кобальт Пикчерз, Бикон Пикчерз, Тиг Продакшнз',\n",
       "       'Юниверсал Пикчерз, Кикстарт Продакшнз, Марк Платт Продакшнз, Рилейтивити Медиа, Спайгласс Интертейнмент, Стилкин Филмз, Топ Кау Продакшнз',\n",
       "       'Юнайтед Артистс, Грин Стрит Филмз, Айкон Интертейнмент Интернэшнл',\n",
       "       ...,\n",
       "       'Дэниел Гродник Продакшнз, Вандерфилм Медиа Корпорэйшн, Импринт Интертейнмент, Вор Хорс Интертейнмент, Пимиента',\n",
       "       'Никелодеон Анимейшн Студиос, Спин Мастер',\n",
       "       'Анимаккорд Лтд., ООО Студия \"АНИМАККОРД\"'], dtype=object)"
      ]
     },
     "execution_count": 32,
     "metadata": {},
     "output_type": "execute_result"
    }
   ],
   "source": [
    "mkrf_movies['film_studio'].unique()"
   ]
  },
  {
   "cell_type": "markdown",
   "metadata": {},
   "source": [
    "<div class=\"alert alert-success\">\n",
    "\n",
    "**Артём:** 👍 Молодец.\n",
    "\n",
    "</div>"
   ]
  },
  {
   "cell_type": "markdown",
   "metadata": {
    "id": "52fOPrEBgFyQ"
   },
   "source": [
    "#### Шаг 2.4. Изучите категориальные значения\n",
    "\n",
    "- Посмотрите, какая общая проблема встречается почти во всех категориальных столбцах;\n",
    "- Исправьте проблемные значения в поле `type`.\n",
    "\n",
    "<div id=\"accordion\">\n",
    "    <div class=\"card\">\n",
    "        <div class=\"card-header\" id=\"headingThree\">\n",
    "            <button class=\"btn btn-link collapsed\" data-toggle=\"collapse\" data-target=\"#collapseHint_1\" aria-expanded=\"false\" aria-controls=\"collapseHint_1\">Подсказка</button>\n",
    "        </div>\n",
    "        <div id=\"collapseHint_1\" class=\"collapse\" aria-labelledby=\"headingThree\" data-parent=\"#accordion\">\n",
    "            <div class=\"card-body\">\n",
    "В поле <code>type</code> есть несколько значений, у которых появился пробел в начале строки. Самый простой способ их «починить» -- использовать метод <a href=\"https://pandas.pydata.org/docs/reference/api/pandas.Series.str.strip.html#pandas.Series.str.strip\">.str.strip</a>. Этот метод удаляет все пробелы, которые встречаются в начале и в конце строки. Применяют его таким образом:<br>\n",
    "<code>df['type'].str.strip()</code>\n",
    "            </div>\n",
    "        </div>\n",
    "    </div>\n",
    "</div>"
   ]
  },
  {
   "cell_type": "markdown",
   "metadata": {
    "id": "PnXKIVdFgFyR"
   },
   "source": [
    "Как видим, этот шаг был сделан в предыдущем пункте при удалении дубликатов с помощью метода strip."
   ]
  },
  {
   "cell_type": "markdown",
   "metadata": {
    "id": "XFSN5lrEgFyR"
   },
   "source": [
    "#### Шаг 2.5. Проверьте количественные значения\n",
    "\n",
    "- Проверьте, обнаружились ли в таких столбцах подозрительные данные. Как с такими данными лучше поступить?\n",
    "\n",
    "<div id=\"accordion\">\n",
    "    <div class=\"card\">\n",
    "        <div class=\"card-header\" id=\"headingThree\">\n",
    "            <button class=\"btn btn-link collapsed\" data-toggle=\"collapse\" data-target=\"#collapseHint_budget\" aria-expanded=\"false\" aria-controls=\"collapseHint_budget\">Подсказка</button>\n",
    "        </div>\n",
    "        <div id=\"collapseHint_budget\" class=\"collapse\" aria-labelledby=\"headingThree\" data-parent=\"#accordion\">\n",
    "            <div class=\"card-body\">\n",
    "Обратите внимание на описание столбца <code>budget</code>. Как этот столбец соотносится с двумя другими: <code>refundable_support</code> и <code>nonrefundable_support</code>?\n",
    "            </div>\n",
    "        </div>\n",
    "    </div>\n",
    "</div>"
   ]
  },
  {
   "cell_type": "markdown",
   "metadata": {
    "id": "YbzClBxagFyS"
   },
   "source": [
    "Для этого случая можно применить к датафрейму функцию describe с группировкой по столбцу 'financing_source'."
   ]
  },
  {
   "cell_type": "code",
   "execution_count": 33,
   "metadata": {},
   "outputs": [
    {
     "data": {
      "text/html": [
       "<div>\n",
       "<style scoped>\n",
       "    .dataframe tbody tr th:only-of-type {\n",
       "        vertical-align: middle;\n",
       "    }\n",
       "\n",
       "    .dataframe tbody tr th {\n",
       "        vertical-align: top;\n",
       "    }\n",
       "\n",
       "    .dataframe thead th {\n",
       "        text-align: right;\n",
       "    }\n",
       "</style>\n",
       "<table border=\"1\" class=\"dataframe\">\n",
       "  <thead>\n",
       "    <tr style=\"text-align: right;\">\n",
       "      <th></th>\n",
       "      <th>count</th>\n",
       "      <th>mean</th>\n",
       "      <th>std</th>\n",
       "      <th>min</th>\n",
       "      <th>25%</th>\n",
       "      <th>50%</th>\n",
       "      <th>75%</th>\n",
       "      <th>max</th>\n",
       "    </tr>\n",
       "    <tr>\n",
       "      <th>financing_source</th>\n",
       "      <th></th>\n",
       "      <th></th>\n",
       "      <th></th>\n",
       "      <th></th>\n",
       "      <th></th>\n",
       "      <th></th>\n",
       "      <th></th>\n",
       "      <th></th>\n",
       "    </tr>\n",
       "  </thead>\n",
       "  <tbody>\n",
       "    <tr>\n",
       "      <th>Министерство культуры</th>\n",
       "      <td>152.0</td>\n",
       "      <td>0.000000e+00</td>\n",
       "      <td>0.000000e+00</td>\n",
       "      <td>0.0</td>\n",
       "      <td>0.0</td>\n",
       "      <td>0.0</td>\n",
       "      <td>0.0</td>\n",
       "      <td>0.0</td>\n",
       "    </tr>\n",
       "    <tr>\n",
       "      <th>Министерство культуры, Фонд кино</th>\n",
       "      <td>22.0</td>\n",
       "      <td>1.479545e+07</td>\n",
       "      <td>2.364643e+07</td>\n",
       "      <td>0.0</td>\n",
       "      <td>0.0</td>\n",
       "      <td>8173440.5</td>\n",
       "      <td>20000000.0</td>\n",
       "      <td>110000000.0</td>\n",
       "    </tr>\n",
       "    <tr>\n",
       "      <th>Фонд кино</th>\n",
       "      <td>143.0</td>\n",
       "      <td>2.394056e+07</td>\n",
       "      <td>3.135572e+07</td>\n",
       "      <td>0.0</td>\n",
       "      <td>0.0</td>\n",
       "      <td>15000000.0</td>\n",
       "      <td>37000000.0</td>\n",
       "      <td>180000000.0</td>\n",
       "    </tr>\n",
       "    <tr>\n",
       "      <th>Частный</th>\n",
       "      <td>2722.0</td>\n",
       "      <td>-1.000000e+00</td>\n",
       "      <td>0.000000e+00</td>\n",
       "      <td>-1.0</td>\n",
       "      <td>-1.0</td>\n",
       "      <td>-1.0</td>\n",
       "      <td>-1.0</td>\n",
       "      <td>-1.0</td>\n",
       "    </tr>\n",
       "  </tbody>\n",
       "</table>\n",
       "</div>"
      ],
      "text/plain": [
       "                                   count          mean           std  min  \\\n",
       "financing_source                                                            \n",
       "Министерство культуры              152.0  0.000000e+00  0.000000e+00  0.0   \n",
       "Министерство культуры, Фонд кино    22.0  1.479545e+07  2.364643e+07  0.0   \n",
       "Фонд кино                          143.0  2.394056e+07  3.135572e+07  0.0   \n",
       "Частный                           2722.0 -1.000000e+00  0.000000e+00 -1.0   \n",
       "\n",
       "                                  25%         50%         75%          max  \n",
       "financing_source                                                            \n",
       "Министерство культуры             0.0         0.0         0.0          0.0  \n",
       "Министерство культуры, Фонд кино  0.0   8173440.5  20000000.0  110000000.0  \n",
       "Фонд кино                         0.0  15000000.0  37000000.0  180000000.0  \n",
       "Частный                          -1.0        -1.0        -1.0         -1.0  "
      ]
     },
     "metadata": {},
     "output_type": "display_data"
    },
    {
     "data": {
      "text/html": [
       "<div>\n",
       "<style scoped>\n",
       "    .dataframe tbody tr th:only-of-type {\n",
       "        vertical-align: middle;\n",
       "    }\n",
       "\n",
       "    .dataframe tbody tr th {\n",
       "        vertical-align: top;\n",
       "    }\n",
       "\n",
       "    .dataframe thead th {\n",
       "        text-align: right;\n",
       "    }\n",
       "</style>\n",
       "<table border=\"1\" class=\"dataframe\">\n",
       "  <thead>\n",
       "    <tr style=\"text-align: right;\">\n",
       "      <th></th>\n",
       "      <th>count</th>\n",
       "      <th>mean</th>\n",
       "      <th>std</th>\n",
       "      <th>min</th>\n",
       "      <th>25%</th>\n",
       "      <th>50%</th>\n",
       "      <th>75%</th>\n",
       "      <th>max</th>\n",
       "    </tr>\n",
       "    <tr>\n",
       "      <th>financing_source</th>\n",
       "      <th></th>\n",
       "      <th></th>\n",
       "      <th></th>\n",
       "      <th></th>\n",
       "      <th></th>\n",
       "      <th></th>\n",
       "      <th></th>\n",
       "      <th></th>\n",
       "    </tr>\n",
       "  </thead>\n",
       "  <tbody>\n",
       "    <tr>\n",
       "      <th>Министерство культуры</th>\n",
       "      <td>152.0</td>\n",
       "      <td>2.991540e+07</td>\n",
       "      <td>1.028960e+07</td>\n",
       "      <td>4700000.0</td>\n",
       "      <td>25000000.0</td>\n",
       "      <td>28500000.0</td>\n",
       "      <td>35000000.0</td>\n",
       "      <td>70000000.0</td>\n",
       "    </tr>\n",
       "    <tr>\n",
       "      <th>Министерство культуры, Фонд кино</th>\n",
       "      <td>22.0</td>\n",
       "      <td>3.908779e+07</td>\n",
       "      <td>2.720170e+07</td>\n",
       "      <td>5300000.0</td>\n",
       "      <td>25050000.0</td>\n",
       "      <td>30000000.0</td>\n",
       "      <td>43750000.0</td>\n",
       "      <td>133000000.0</td>\n",
       "    </tr>\n",
       "    <tr>\n",
       "      <th>Фонд кино</th>\n",
       "      <td>143.0</td>\n",
       "      <td>6.996571e+07</td>\n",
       "      <td>7.980061e+07</td>\n",
       "      <td>0.0</td>\n",
       "      <td>25000000.0</td>\n",
       "      <td>40000000.0</td>\n",
       "      <td>77500000.0</td>\n",
       "      <td>400000000.0</td>\n",
       "    </tr>\n",
       "    <tr>\n",
       "      <th>Частный</th>\n",
       "      <td>2722.0</td>\n",
       "      <td>-1.000000e+00</td>\n",
       "      <td>0.000000e+00</td>\n",
       "      <td>-1.0</td>\n",
       "      <td>-1.0</td>\n",
       "      <td>-1.0</td>\n",
       "      <td>-1.0</td>\n",
       "      <td>-1.0</td>\n",
       "    </tr>\n",
       "  </tbody>\n",
       "</table>\n",
       "</div>"
      ],
      "text/plain": [
       "                                   count          mean           std  \\\n",
       "financing_source                                                       \n",
       "Министерство культуры              152.0  2.991540e+07  1.028960e+07   \n",
       "Министерство культуры, Фонд кино    22.0  3.908779e+07  2.720170e+07   \n",
       "Фонд кино                          143.0  6.996571e+07  7.980061e+07   \n",
       "Частный                           2722.0 -1.000000e+00  0.000000e+00   \n",
       "\n",
       "                                        min         25%         50%  \\\n",
       "financing_source                                                      \n",
       "Министерство культуры             4700000.0  25000000.0  28500000.0   \n",
       "Министерство культуры, Фонд кино  5300000.0  25050000.0  30000000.0   \n",
       "Фонд кино                               0.0  25000000.0  40000000.0   \n",
       "Частный                                -1.0        -1.0        -1.0   \n",
       "\n",
       "                                         75%          max  \n",
       "financing_source                                           \n",
       "Министерство культуры             35000000.0   70000000.0  \n",
       "Министерство культуры, Фонд кино  43750000.0  133000000.0  \n",
       "Фонд кино                         77500000.0  400000000.0  \n",
       "Частный                                 -1.0         -1.0  "
      ]
     },
     "metadata": {},
     "output_type": "display_data"
    },
    {
     "data": {
      "text/html": [
       "<div>\n",
       "<style scoped>\n",
       "    .dataframe tbody tr th:only-of-type {\n",
       "        vertical-align: middle;\n",
       "    }\n",
       "\n",
       "    .dataframe tbody tr th {\n",
       "        vertical-align: top;\n",
       "    }\n",
       "\n",
       "    .dataframe thead th {\n",
       "        text-align: right;\n",
       "    }\n",
       "</style>\n",
       "<table border=\"1\" class=\"dataframe\">\n",
       "  <thead>\n",
       "    <tr style=\"text-align: right;\">\n",
       "      <th></th>\n",
       "      <th>count</th>\n",
       "      <th>mean</th>\n",
       "      <th>std</th>\n",
       "      <th>min</th>\n",
       "      <th>25%</th>\n",
       "      <th>50%</th>\n",
       "      <th>75%</th>\n",
       "      <th>max</th>\n",
       "    </tr>\n",
       "    <tr>\n",
       "      <th>financing_source</th>\n",
       "      <th></th>\n",
       "      <th></th>\n",
       "      <th></th>\n",
       "      <th></th>\n",
       "      <th></th>\n",
       "      <th></th>\n",
       "      <th></th>\n",
       "      <th></th>\n",
       "    </tr>\n",
       "  </thead>\n",
       "  <tbody>\n",
       "    <tr>\n",
       "      <th>Министерство культуры</th>\n",
       "      <td>152.0</td>\n",
       "      <td>7.177140e+07</td>\n",
       "      <td>7.741613e+07</td>\n",
       "      <td>0.0</td>\n",
       "      <td>38500000.00</td>\n",
       "      <td>49175962.0</td>\n",
       "      <td>7.955892e+07</td>\n",
       "      <td>7.799420e+08</td>\n",
       "    </tr>\n",
       "    <tr>\n",
       "      <th>Министерство культуры, Фонд кино</th>\n",
       "      <td>22.0</td>\n",
       "      <td>1.193777e+08</td>\n",
       "      <td>1.010516e+08</td>\n",
       "      <td>0.0</td>\n",
       "      <td>58449024.75</td>\n",
       "      <td>72543287.0</td>\n",
       "      <td>1.615893e+08</td>\n",
       "      <td>4.364372e+08</td>\n",
       "    </tr>\n",
       "    <tr>\n",
       "      <th>Фонд кино</th>\n",
       "      <td>143.0</td>\n",
       "      <td>1.876225e+08</td>\n",
       "      <td>2.504408e+08</td>\n",
       "      <td>0.0</td>\n",
       "      <td>62022323.00</td>\n",
       "      <td>120000000.0</td>\n",
       "      <td>2.134863e+08</td>\n",
       "      <td>2.305074e+09</td>\n",
       "    </tr>\n",
       "    <tr>\n",
       "      <th>Частный</th>\n",
       "      <td>2722.0</td>\n",
       "      <td>-1.000000e+00</td>\n",
       "      <td>0.000000e+00</td>\n",
       "      <td>-1.0</td>\n",
       "      <td>-1.00</td>\n",
       "      <td>-1.0</td>\n",
       "      <td>-1.000000e+00</td>\n",
       "      <td>-1.000000e+00</td>\n",
       "    </tr>\n",
       "  </tbody>\n",
       "</table>\n",
       "</div>"
      ],
      "text/plain": [
       "                                   count          mean           std  min  \\\n",
       "financing_source                                                            \n",
       "Министерство культуры              152.0  7.177140e+07  7.741613e+07  0.0   \n",
       "Министерство культуры, Фонд кино    22.0  1.193777e+08  1.010516e+08  0.0   \n",
       "Фонд кино                          143.0  1.876225e+08  2.504408e+08  0.0   \n",
       "Частный                           2722.0 -1.000000e+00  0.000000e+00 -1.0   \n",
       "\n",
       "                                          25%          50%           75%  \\\n",
       "financing_source                                                           \n",
       "Министерство культуры             38500000.00   49175962.0  7.955892e+07   \n",
       "Министерство культуры, Фонд кино  58449024.75   72543287.0  1.615893e+08   \n",
       "Фонд кино                         62022323.00  120000000.0  2.134863e+08   \n",
       "Частный                                 -1.00         -1.0 -1.000000e+00   \n",
       "\n",
       "                                           max  \n",
       "financing_source                                \n",
       "Министерство культуры             7.799420e+08  \n",
       "Министерство культуры, Фонд кино  4.364372e+08  \n",
       "Фонд кино                         2.305074e+09  \n",
       "Частный                          -1.000000e+00  "
      ]
     },
     "metadata": {},
     "output_type": "display_data"
    },
    {
     "data": {
      "text/html": [
       "<div>\n",
       "<style scoped>\n",
       "    .dataframe tbody tr th:only-of-type {\n",
       "        vertical-align: middle;\n",
       "    }\n",
       "\n",
       "    .dataframe tbody tr th {\n",
       "        vertical-align: top;\n",
       "    }\n",
       "\n",
       "    .dataframe thead th {\n",
       "        text-align: right;\n",
       "    }\n",
       "</style>\n",
       "<table border=\"1\" class=\"dataframe\">\n",
       "  <thead>\n",
       "    <tr style=\"text-align: right;\">\n",
       "      <th></th>\n",
       "      <th>count</th>\n",
       "      <th>mean</th>\n",
       "      <th>std</th>\n",
       "      <th>min</th>\n",
       "      <th>25%</th>\n",
       "      <th>50%</th>\n",
       "      <th>75%</th>\n",
       "      <th>max</th>\n",
       "    </tr>\n",
       "    <tr>\n",
       "      <th>financing_source</th>\n",
       "      <th></th>\n",
       "      <th></th>\n",
       "      <th></th>\n",
       "      <th></th>\n",
       "      <th></th>\n",
       "      <th></th>\n",
       "      <th></th>\n",
       "      <th></th>\n",
       "    </tr>\n",
       "  </thead>\n",
       "  <tbody>\n",
       "    <tr>\n",
       "      <th>Министерство культуры</th>\n",
       "      <td>152.0</td>\n",
       "      <td>5.544737</td>\n",
       "      <td>2.129446</td>\n",
       "      <td>-1.0</td>\n",
       "      <td>5.300</td>\n",
       "      <td>6.2</td>\n",
       "      <td>6.700</td>\n",
       "      <td>8.1</td>\n",
       "    </tr>\n",
       "    <tr>\n",
       "      <th>Министерство культуры, Фонд кино</th>\n",
       "      <td>22.0</td>\n",
       "      <td>6.100000</td>\n",
       "      <td>1.778978</td>\n",
       "      <td>-1.0</td>\n",
       "      <td>5.775</td>\n",
       "      <td>6.5</td>\n",
       "      <td>6.975</td>\n",
       "      <td>8.0</td>\n",
       "    </tr>\n",
       "    <tr>\n",
       "      <th>Фонд кино</th>\n",
       "      <td>143.0</td>\n",
       "      <td>5.617483</td>\n",
       "      <td>1.692041</td>\n",
       "      <td>-1.0</td>\n",
       "      <td>5.000</td>\n",
       "      <td>5.9</td>\n",
       "      <td>6.600</td>\n",
       "      <td>8.5</td>\n",
       "    </tr>\n",
       "    <tr>\n",
       "      <th>Частный</th>\n",
       "      <td>2722.0</td>\n",
       "      <td>5.662491</td>\n",
       "      <td>2.290703</td>\n",
       "      <td>-1.0</td>\n",
       "      <td>5.400</td>\n",
       "      <td>6.2</td>\n",
       "      <td>7.000</td>\n",
       "      <td>9.2</td>\n",
       "    </tr>\n",
       "  </tbody>\n",
       "</table>\n",
       "</div>"
      ],
      "text/plain": [
       "                                   count      mean       std  min    25%  50%  \\\n",
       "financing_source                                                                \n",
       "Министерство культуры              152.0  5.544737  2.129446 -1.0  5.300  6.2   \n",
       "Министерство культуры, Фонд кино    22.0  6.100000  1.778978 -1.0  5.775  6.5   \n",
       "Фонд кино                          143.0  5.617483  1.692041 -1.0  5.000  5.9   \n",
       "Частный                           2722.0  5.662491  2.290703 -1.0  5.400  6.2   \n",
       "\n",
       "                                    75%  max  \n",
       "financing_source                              \n",
       "Министерство культуры             6.700  8.1  \n",
       "Министерство культуры, Фонд кино  6.975  8.0  \n",
       "Фонд кино                         6.600  8.5  \n",
       "Частный                           7.000  9.2  "
      ]
     },
     "metadata": {},
     "output_type": "display_data"
    },
    {
     "data": {
      "text/html": [
       "<div>\n",
       "<style scoped>\n",
       "    .dataframe tbody tr th:only-of-type {\n",
       "        vertical-align: middle;\n",
       "    }\n",
       "\n",
       "    .dataframe tbody tr th {\n",
       "        vertical-align: top;\n",
       "    }\n",
       "\n",
       "    .dataframe thead th {\n",
       "        text-align: right;\n",
       "    }\n",
       "</style>\n",
       "<table border=\"1\" class=\"dataframe\">\n",
       "  <thead>\n",
       "    <tr style=\"text-align: right;\">\n",
       "      <th></th>\n",
       "      <th>count</th>\n",
       "      <th>mean</th>\n",
       "      <th>std</th>\n",
       "      <th>min</th>\n",
       "      <th>25%</th>\n",
       "      <th>50%</th>\n",
       "      <th>75%</th>\n",
       "      <th>max</th>\n",
       "    </tr>\n",
       "    <tr>\n",
       "      <th>financing_source</th>\n",
       "      <th></th>\n",
       "      <th></th>\n",
       "      <th></th>\n",
       "      <th></th>\n",
       "      <th></th>\n",
       "      <th></th>\n",
       "      <th></th>\n",
       "      <th></th>\n",
       "    </tr>\n",
       "  </thead>\n",
       "  <tbody>\n",
       "    <tr>\n",
       "      <th>Министерство культуры</th>\n",
       "      <td>152.0</td>\n",
       "      <td>3.501328e+07</td>\n",
       "      <td>9.347318e+07</td>\n",
       "      <td>1550.0</td>\n",
       "      <td>3.700880e+05</td>\n",
       "      <td>1.830820e+06</td>\n",
       "      <td>1.514988e+07</td>\n",
       "      <td>6.334623e+08</td>\n",
       "    </tr>\n",
       "    <tr>\n",
       "      <th>Министерство культуры, Фонд кино</th>\n",
       "      <td>22.0</td>\n",
       "      <td>3.660629e+07</td>\n",
       "      <td>9.605489e+07</td>\n",
       "      <td>6000.0</td>\n",
       "      <td>6.328811e+05</td>\n",
       "      <td>9.201590e+06</td>\n",
       "      <td>2.586006e+07</td>\n",
       "      <td>4.518122e+08</td>\n",
       "    </tr>\n",
       "    <tr>\n",
       "      <th>Фонд кино</th>\n",
       "      <td>143.0</td>\n",
       "      <td>2.499090e+08</td>\n",
       "      <td>4.626631e+08</td>\n",
       "      <td>9000.0</td>\n",
       "      <td>2.062534e+07</td>\n",
       "      <td>8.540542e+07</td>\n",
       "      <td>2.662893e+08</td>\n",
       "      <td>3.073569e+09</td>\n",
       "    </tr>\n",
       "    <tr>\n",
       "      <th>Частный</th>\n",
       "      <td>2722.0</td>\n",
       "      <td>7.320025e+07</td>\n",
       "      <td>2.309595e+08</td>\n",
       "      <td>0.0</td>\n",
       "      <td>8.673825e+04</td>\n",
       "      <td>2.266095e+06</td>\n",
       "      <td>2.136310e+07</td>\n",
       "      <td>2.576614e+09</td>\n",
       "    </tr>\n",
       "  </tbody>\n",
       "</table>\n",
       "</div>"
      ],
      "text/plain": [
       "                                   count          mean           std     min  \\\n",
       "financing_source                                                               \n",
       "Министерство культуры              152.0  3.501328e+07  9.347318e+07  1550.0   \n",
       "Министерство культуры, Фонд кино    22.0  3.660629e+07  9.605489e+07  6000.0   \n",
       "Фонд кино                          143.0  2.499090e+08  4.626631e+08  9000.0   \n",
       "Частный                           2722.0  7.320025e+07  2.309595e+08     0.0   \n",
       "\n",
       "                                           25%           50%           75%  \\\n",
       "financing_source                                                             \n",
       "Министерство культуры             3.700880e+05  1.830820e+06  1.514988e+07   \n",
       "Министерство культуры, Фонд кино  6.328811e+05  9.201590e+06  2.586006e+07   \n",
       "Фонд кино                         2.062534e+07  8.540542e+07  2.662893e+08   \n",
       "Частный                           8.673825e+04  2.266095e+06  2.136310e+07   \n",
       "\n",
       "                                           max  \n",
       "financing_source                                \n",
       "Министерство культуры             6.334623e+08  \n",
       "Министерство культуры, Фонд кино  4.518122e+08  \n",
       "Фонд кино                         3.073569e+09  \n",
       "Частный                           2.576614e+09  "
      ]
     },
     "metadata": {},
     "output_type": "display_data"
    }
   ],
   "source": [
    "display(mkrf_movies.query('box_office != -1').groupby('financing_source')['refundable_support'].describe())\n",
    "display(mkrf_movies.query('box_office != -1').groupby('financing_source')['nonrefundable_support'].describe())\n",
    "display(mkrf_movies.query('box_office != -1').groupby('financing_source')['budget'].describe())\n",
    "display(mkrf_movies.query('box_office != -1').groupby('financing_source')['ratings'].describe())\n",
    "display(mkrf_movies.query('box_office != -1').groupby('financing_source')['box_office'].describe())"
   ]
  },
  {
   "cell_type": "markdown",
   "metadata": {},
   "source": [
    "<div class=\"alert alert-info\">\n",
    "\n",
    "**Артём:** ✍️ Избавиться от экспоненты можно так:\n",
    "    \n",
    "```py\n",
    "pd.options.display.float_format = '{:,.1f}'.format\n",
    "```    \n",
    "\n",
    "</div>"
   ]
  },
  {
   "cell_type": "markdown",
   "metadata": {},
   "source": [
    "Можно заметить, что в столбце 'refundable_support' с источником финансирования 'Министерство культуры, Фонд кино' и 'Фонд кино'\n",
    "среднее значение сильно отличается от медианного, возможно, это связано с тем, что выборка до 25% также равна 0, а такое не может быть, так как это связано с государственным финансирование. \n",
    "\n",
    "В столбце 'nonrefundable_support' с источником финансирования 'Министерство культуры, Фонд кино' и 'Фонд кино'\n",
    "среднее значение сильно отличается от медианного, возможно, это связано с тем, что во втором случае минимальное значение равно 0, а также приписан в обоих случаях лишний ноль на конце.\n",
    "\n",
    "В столбце 'budget' с источником финансирования 'Министерство культуры, Фонд кино', 'Фонд кино', 'Министерство культуры' - аналогичная проблема, что и в предыдущем столбце.\n",
    "\n",
    "В столбце 'ratings' выбивающие значения не обнаружены.\n",
    "\n",
    "В столбце 'box_office' со всеми источниками финансирования - похожая проблема, что и в столбцах 'nonrefundable_support', 'budget'."
   ]
  },
  {
   "cell_type": "markdown",
   "metadata": {},
   "source": [
    "Напишем функции для каждого столбца для устранения аномалий, а затем отредактируем столбцы, используя функцию apply и функции для каждого отдельного столбца."
   ]
  },
  {
   "cell_type": "code",
   "execution_count": 34,
   "metadata": {},
   "outputs": [],
   "source": [
    "# Устранение аномалий\n",
    "def refundable_support(row):\n",
    "    refundable_support = row['refundable_support']\n",
    "    financing_source = row['financing_source']\n",
    "    if financing_source == 'Министерство культуры, Фонд кино':\n",
    "#         if refundable_support == 0:\n",
    "#             refundable_support = rd.randint(1000000,8173440)\n",
    "        if refundable_support >= 100000000:\n",
    "            refundable_support /= 10\n",
    "    elif financing_source == 'Фонд кино':\n",
    "#         if refundable_support == 0:\n",
    "#             refundable_support = rd.randint(1000000,15000000)\n",
    "        if refundable_support >= 100000000:\n",
    "            refundable_support /= 10\n",
    "    return refundable_support"
   ]
  },
  {
   "cell_type": "code",
   "execution_count": 35,
   "metadata": {},
   "outputs": [],
   "source": [
    "# Устранение аномалий\n",
    "def nonrefundable_support(row):\n",
    "    nonrefundable_support = row['nonrefundable_support']\n",
    "    financing_source = row['financing_source']\n",
    "    if financing_source == 'Министерство культуры, Фонд кино':\n",
    "        if nonrefundable_support >= 100000000:\n",
    "            nonrefundable_support /= 10\n",
    "    elif financing_source == 'Фонд кино':\n",
    "#         if nonrefundable_support == 0:\n",
    "#             nonrefundable_support = rd.randint(1000000,25000000)\n",
    "        if nonrefundable_support >= 100000000:\n",
    "            nonrefundable_support /= 10\n",
    "    return nonrefundable_support"
   ]
  },
  {
   "cell_type": "code",
   "execution_count": 36,
   "metadata": {},
   "outputs": [],
   "source": [
    "# Устранение аномалий\n",
    "def budget(row):\n",
    "    budget = row['budget']\n",
    "    financing_source = row['financing_source']\n",
    "    if financing_source == 'Министерство культуры':\n",
    "#         if budget == 0:\n",
    "#             budget = rd.randint(1000000,38500000)\n",
    "        if budget >= 100000000:\n",
    "            budget /= 10\n",
    "    elif financing_source == 'Министерство культуры, Фонд кино':\n",
    "#         if budget == 0:\n",
    "#             budget = rd.randint(1000000,58449024)\n",
    "        if budget >= 100000000:\n",
    "            budget /= 10\n",
    "    elif financing_source == 'Фонд кино':\n",
    "#         if budget == 0:\n",
    "#             budget = rd.randint(1000000,62044646)\n",
    "        if budget >= 100000000:\n",
    "            budget /= 10\n",
    "    return budget"
   ]
  },
  {
   "cell_type": "code",
   "execution_count": 37,
   "metadata": {},
   "outputs": [],
   "source": [
    "# Устранение аномалий\n",
    "def box_office(row):\n",
    "    box_office = row['box_office']\n",
    "    financing_source = row['financing_source']\n",
    "    if financing_source == 'Министерство культуры':\n",
    "        if box_office >= 100000000:\n",
    "            box_office /= 100\n",
    "    elif financing_source == 'Министерство культуры, Фонд кино':\n",
    "        if box_office >= 100000000:\n",
    "            box_office /= 100\n",
    "    elif financing_source == 'Фонд кино':\n",
    "        if box_office >= 1000000000:\n",
    "            box_office /= 100\n",
    "    elif financing_source == 'Частный':\n",
    "#         if box_office == 0:\n",
    "#             box_office = rd.randint(1000,2591609)\n",
    "        if box_office >= 1000000000:\n",
    "            box_office /= 1000\n",
    "        elif box_office >= 100000000:\n",
    "            box_office /= 100   \n",
    "    return box_office"
   ]
  },
  {
   "cell_type": "code",
   "execution_count": 38,
   "metadata": {},
   "outputs": [],
   "source": [
    "mkrf_movies['refundable_support'] = mkrf_movies.apply(refundable_support, axis=1)\n",
    "mkrf_movies['nonrefundable_support'] = mkrf_movies.apply(nonrefundable_support, axis=1)\n",
    "mkrf_movies['budget'] = mkrf_movies.apply(budget, axis=1)\n",
    "mkrf_movies['box_office'] = mkrf_movies.apply(box_office, axis=1)"
   ]
  },
  {
   "cell_type": "markdown",
   "metadata": {},
   "source": [
    "<a id=\"cell_\"></a>\n",
    "<div class=\"alert alert-danger\">\n",
    "\n",
    "**Артём:** ✋ Ты искажаешь данные.\n",
    "    \n",
    "</div>"
   ]
  },
  {
   "cell_type": "markdown",
   "metadata": {},
   "source": [
    "**Иван:** не совсем понял, как я искажаю данные, т.к. я подбирал значения на основе полученных данных с помощью функции describe. Весьма вероятно, имелись в виду нулевые значения, которые пока закомментировал, потому что до конца не уверен, что это нужно удалить?\n",
    "\n",
    "Увидел, что у меня слишком много значений -1."
   ]
  },
  {
   "cell_type": "markdown",
   "metadata": {},
   "source": [
    "<div class=\"alert alert-success\">\n",
    "\n",
    "**Артём:** 👍👍 Заполнить все - это не самоцель.\n",
    "\n",
    "</div>"
   ]
  },
  {
   "cell_type": "markdown",
   "metadata": {},
   "source": [
    "Ещё раз проверим данные, сгруппированные по столбцу 'financing_source'."
   ]
  },
  {
   "cell_type": "code",
   "execution_count": 39,
   "metadata": {},
   "outputs": [
    {
     "data": {
      "text/html": [
       "<div>\n",
       "<style scoped>\n",
       "    .dataframe tbody tr th:only-of-type {\n",
       "        vertical-align: middle;\n",
       "    }\n",
       "\n",
       "    .dataframe tbody tr th {\n",
       "        vertical-align: top;\n",
       "    }\n",
       "\n",
       "    .dataframe thead th {\n",
       "        text-align: right;\n",
       "    }\n",
       "</style>\n",
       "<table border=\"1\" class=\"dataframe\">\n",
       "  <thead>\n",
       "    <tr style=\"text-align: right;\">\n",
       "      <th></th>\n",
       "      <th>count</th>\n",
       "      <th>mean</th>\n",
       "      <th>std</th>\n",
       "      <th>min</th>\n",
       "      <th>25%</th>\n",
       "      <th>50%</th>\n",
       "      <th>75%</th>\n",
       "      <th>max</th>\n",
       "    </tr>\n",
       "    <tr>\n",
       "      <th>financing_source</th>\n",
       "      <th></th>\n",
       "      <th></th>\n",
       "      <th></th>\n",
       "      <th></th>\n",
       "      <th></th>\n",
       "      <th></th>\n",
       "      <th></th>\n",
       "      <th></th>\n",
       "    </tr>\n",
       "  </thead>\n",
       "  <tbody>\n",
       "    <tr>\n",
       "      <th>Министерство культуры</th>\n",
       "      <td>152.0</td>\n",
       "      <td>0.000000e+00</td>\n",
       "      <td>0.000000e+00</td>\n",
       "      <td>0.0</td>\n",
       "      <td>0.0</td>\n",
       "      <td>0.0</td>\n",
       "      <td>0.0</td>\n",
       "      <td>0.0</td>\n",
       "    </tr>\n",
       "    <tr>\n",
       "      <th>Министерство культуры, Фонд кино</th>\n",
       "      <td>22.0</td>\n",
       "      <td>1.029545e+07</td>\n",
       "      <td>1.034459e+07</td>\n",
       "      <td>0.0</td>\n",
       "      <td>0.0</td>\n",
       "      <td>8173440.5</td>\n",
       "      <td>19250000.0</td>\n",
       "      <td>30000000.0</td>\n",
       "    </tr>\n",
       "    <tr>\n",
       "      <th>Фонд кино</th>\n",
       "      <td>143.0</td>\n",
       "      <td>1.793007e+07</td>\n",
       "      <td>1.996067e+07</td>\n",
       "      <td>0.0</td>\n",
       "      <td>0.0</td>\n",
       "      <td>10000000.0</td>\n",
       "      <td>29500000.0</td>\n",
       "      <td>80000000.0</td>\n",
       "    </tr>\n",
       "    <tr>\n",
       "      <th>Частный</th>\n",
       "      <td>2722.0</td>\n",
       "      <td>-1.000000e+00</td>\n",
       "      <td>0.000000e+00</td>\n",
       "      <td>-1.0</td>\n",
       "      <td>-1.0</td>\n",
       "      <td>-1.0</td>\n",
       "      <td>-1.0</td>\n",
       "      <td>-1.0</td>\n",
       "    </tr>\n",
       "  </tbody>\n",
       "</table>\n",
       "</div>"
      ],
      "text/plain": [
       "                                   count          mean           std  min  \\\n",
       "financing_source                                                            \n",
       "Министерство культуры              152.0  0.000000e+00  0.000000e+00  0.0   \n",
       "Министерство культуры, Фонд кино    22.0  1.029545e+07  1.034459e+07  0.0   \n",
       "Фонд кино                          143.0  1.793007e+07  1.996067e+07  0.0   \n",
       "Частный                           2722.0 -1.000000e+00  0.000000e+00 -1.0   \n",
       "\n",
       "                                  25%         50%         75%         max  \n",
       "financing_source                                                           \n",
       "Министерство культуры             0.0         0.0         0.0         0.0  \n",
       "Министерство культуры, Фонд кино  0.0   8173440.5  19250000.0  30000000.0  \n",
       "Фонд кино                         0.0  10000000.0  29500000.0  80000000.0  \n",
       "Частный                          -1.0        -1.0        -1.0        -1.0  "
      ]
     },
     "metadata": {},
     "output_type": "display_data"
    },
    {
     "data": {
      "text/html": [
       "<div>\n",
       "<style scoped>\n",
       "    .dataframe tbody tr th:only-of-type {\n",
       "        vertical-align: middle;\n",
       "    }\n",
       "\n",
       "    .dataframe tbody tr th {\n",
       "        vertical-align: top;\n",
       "    }\n",
       "\n",
       "    .dataframe thead th {\n",
       "        text-align: right;\n",
       "    }\n",
       "</style>\n",
       "<table border=\"1\" class=\"dataframe\">\n",
       "  <thead>\n",
       "    <tr style=\"text-align: right;\">\n",
       "      <th></th>\n",
       "      <th>count</th>\n",
       "      <th>mean</th>\n",
       "      <th>std</th>\n",
       "      <th>min</th>\n",
       "      <th>25%</th>\n",
       "      <th>50%</th>\n",
       "      <th>75%</th>\n",
       "      <th>max</th>\n",
       "    </tr>\n",
       "    <tr>\n",
       "      <th>financing_source</th>\n",
       "      <th></th>\n",
       "      <th></th>\n",
       "      <th></th>\n",
       "      <th></th>\n",
       "      <th></th>\n",
       "      <th></th>\n",
       "      <th></th>\n",
       "      <th></th>\n",
       "    </tr>\n",
       "  </thead>\n",
       "  <tbody>\n",
       "    <tr>\n",
       "      <th>Министерство культуры</th>\n",
       "      <td>152.0</td>\n",
       "      <td>2.991540e+07</td>\n",
       "      <td>1.028960e+07</td>\n",
       "      <td>4700000.0</td>\n",
       "      <td>25000000.0</td>\n",
       "      <td>28500000.0</td>\n",
       "      <td>35000000.0</td>\n",
       "      <td>70000000.0</td>\n",
       "    </tr>\n",
       "    <tr>\n",
       "      <th>Министерство культуры, Фонд кино</th>\n",
       "      <td>22.0</td>\n",
       "      <td>3.364688e+07</td>\n",
       "      <td>1.790559e+07</td>\n",
       "      <td>5300000.0</td>\n",
       "      <td>25000000.0</td>\n",
       "      <td>29000000.0</td>\n",
       "      <td>38750000.0</td>\n",
       "      <td>90000000.0</td>\n",
       "    </tr>\n",
       "    <tr>\n",
       "      <th>Фонд кино</th>\n",
       "      <td>143.0</td>\n",
       "      <td>3.164382e+07</td>\n",
       "      <td>2.035313e+07</td>\n",
       "      <td>0.0</td>\n",
       "      <td>20000000.0</td>\n",
       "      <td>30000000.0</td>\n",
       "      <td>40000000.0</td>\n",
       "      <td>97000000.0</td>\n",
       "    </tr>\n",
       "    <tr>\n",
       "      <th>Частный</th>\n",
       "      <td>2722.0</td>\n",
       "      <td>-1.000000e+00</td>\n",
       "      <td>0.000000e+00</td>\n",
       "      <td>-1.0</td>\n",
       "      <td>-1.0</td>\n",
       "      <td>-1.0</td>\n",
       "      <td>-1.0</td>\n",
       "      <td>-1.0</td>\n",
       "    </tr>\n",
       "  </tbody>\n",
       "</table>\n",
       "</div>"
      ],
      "text/plain": [
       "                                   count          mean           std  \\\n",
       "financing_source                                                       \n",
       "Министерство культуры              152.0  2.991540e+07  1.028960e+07   \n",
       "Министерство культуры, Фонд кино    22.0  3.364688e+07  1.790559e+07   \n",
       "Фонд кино                          143.0  3.164382e+07  2.035313e+07   \n",
       "Частный                           2722.0 -1.000000e+00  0.000000e+00   \n",
       "\n",
       "                                        min         25%         50%  \\\n",
       "financing_source                                                      \n",
       "Министерство культуры             4700000.0  25000000.0  28500000.0   \n",
       "Министерство культуры, Фонд кино  5300000.0  25000000.0  29000000.0   \n",
       "Фонд кино                               0.0  20000000.0  30000000.0   \n",
       "Частный                                -1.0        -1.0        -1.0   \n",
       "\n",
       "                                         75%         max  \n",
       "financing_source                                          \n",
       "Министерство культуры             35000000.0  70000000.0  \n",
       "Министерство культуры, Фонд кино  38750000.0  90000000.0  \n",
       "Фонд кино                         40000000.0  97000000.0  \n",
       "Частный                                 -1.0        -1.0  "
      ]
     },
     "metadata": {},
     "output_type": "display_data"
    },
    {
     "data": {
      "text/html": [
       "<div>\n",
       "<style scoped>\n",
       "    .dataframe tbody tr th:only-of-type {\n",
       "        vertical-align: middle;\n",
       "    }\n",
       "\n",
       "    .dataframe tbody tr th {\n",
       "        vertical-align: top;\n",
       "    }\n",
       "\n",
       "    .dataframe thead th {\n",
       "        text-align: right;\n",
       "    }\n",
       "</style>\n",
       "<table border=\"1\" class=\"dataframe\">\n",
       "  <thead>\n",
       "    <tr style=\"text-align: right;\">\n",
       "      <th></th>\n",
       "      <th>count</th>\n",
       "      <th>mean</th>\n",
       "      <th>std</th>\n",
       "      <th>min</th>\n",
       "      <th>25%</th>\n",
       "      <th>50%</th>\n",
       "      <th>75%</th>\n",
       "      <th>max</th>\n",
       "    </tr>\n",
       "    <tr>\n",
       "      <th>financing_source</th>\n",
       "      <th></th>\n",
       "      <th></th>\n",
       "      <th></th>\n",
       "      <th></th>\n",
       "      <th></th>\n",
       "      <th></th>\n",
       "      <th></th>\n",
       "      <th></th>\n",
       "    </tr>\n",
       "  </thead>\n",
       "  <tbody>\n",
       "    <tr>\n",
       "      <th>Министерство культуры</th>\n",
       "      <td>152.0</td>\n",
       "      <td>4.358402e+07</td>\n",
       "      <td>2.066643e+07</td>\n",
       "      <td>0.0</td>\n",
       "      <td>3.594413e+07</td>\n",
       "      <td>40140061.0</td>\n",
       "      <td>54399291.50</td>\n",
       "      <td>95065546.0</td>\n",
       "    </tr>\n",
       "    <tr>\n",
       "      <th>Министерство культуры, Фонд кино</th>\n",
       "      <td>22.0</td>\n",
       "      <td>4.547983e+07</td>\n",
       "      <td>2.510718e+07</td>\n",
       "      <td>0.0</td>\n",
       "      <td>2.232012e+07</td>\n",
       "      <td>47850987.0</td>\n",
       "      <td>67160454.50</td>\n",
       "      <td>86210067.0</td>\n",
       "    </tr>\n",
       "    <tr>\n",
       "      <th>Фонд кино</th>\n",
       "      <td>143.0</td>\n",
       "      <td>3.910596e+07</td>\n",
       "      <td>3.216731e+07</td>\n",
       "      <td>0.0</td>\n",
       "      <td>1.613152e+07</td>\n",
       "      <td>31305313.0</td>\n",
       "      <td>59478344.55</td>\n",
       "      <td>230507430.3</td>\n",
       "    </tr>\n",
       "    <tr>\n",
       "      <th>Частный</th>\n",
       "      <td>2722.0</td>\n",
       "      <td>-1.000000e+00</td>\n",
       "      <td>0.000000e+00</td>\n",
       "      <td>-1.0</td>\n",
       "      <td>-1.000000e+00</td>\n",
       "      <td>-1.0</td>\n",
       "      <td>-1.00</td>\n",
       "      <td>-1.0</td>\n",
       "    </tr>\n",
       "  </tbody>\n",
       "</table>\n",
       "</div>"
      ],
      "text/plain": [
       "                                   count          mean           std  min  \\\n",
       "financing_source                                                            \n",
       "Министерство культуры              152.0  4.358402e+07  2.066643e+07  0.0   \n",
       "Министерство культуры, Фонд кино    22.0  4.547983e+07  2.510718e+07  0.0   \n",
       "Фонд кино                          143.0  3.910596e+07  3.216731e+07  0.0   \n",
       "Частный                           2722.0 -1.000000e+00  0.000000e+00 -1.0   \n",
       "\n",
       "                                           25%         50%          75%  \\\n",
       "financing_source                                                          \n",
       "Министерство культуры             3.594413e+07  40140061.0  54399291.50   \n",
       "Министерство культуры, Фонд кино  2.232012e+07  47850987.0  67160454.50   \n",
       "Фонд кино                         1.613152e+07  31305313.0  59478344.55   \n",
       "Частный                          -1.000000e+00        -1.0        -1.00   \n",
       "\n",
       "                                          max  \n",
       "financing_source                               \n",
       "Министерство культуры              95065546.0  \n",
       "Министерство культуры, Фонд кино   86210067.0  \n",
       "Фонд кино                         230507430.3  \n",
       "Частный                                  -1.0  "
      ]
     },
     "metadata": {},
     "output_type": "display_data"
    },
    {
     "data": {
      "text/html": [
       "<div>\n",
       "<style scoped>\n",
       "    .dataframe tbody tr th:only-of-type {\n",
       "        vertical-align: middle;\n",
       "    }\n",
       "\n",
       "    .dataframe tbody tr th {\n",
       "        vertical-align: top;\n",
       "    }\n",
       "\n",
       "    .dataframe thead th {\n",
       "        text-align: right;\n",
       "    }\n",
       "</style>\n",
       "<table border=\"1\" class=\"dataframe\">\n",
       "  <thead>\n",
       "    <tr style=\"text-align: right;\">\n",
       "      <th></th>\n",
       "      <th>count</th>\n",
       "      <th>mean</th>\n",
       "      <th>std</th>\n",
       "      <th>min</th>\n",
       "      <th>25%</th>\n",
       "      <th>50%</th>\n",
       "      <th>75%</th>\n",
       "      <th>max</th>\n",
       "    </tr>\n",
       "    <tr>\n",
       "      <th>financing_source</th>\n",
       "      <th></th>\n",
       "      <th></th>\n",
       "      <th></th>\n",
       "      <th></th>\n",
       "      <th></th>\n",
       "      <th></th>\n",
       "      <th></th>\n",
       "      <th></th>\n",
       "    </tr>\n",
       "  </thead>\n",
       "  <tbody>\n",
       "    <tr>\n",
       "      <th>Министерство культуры</th>\n",
       "      <td>152.0</td>\n",
       "      <td>8.039819e+06</td>\n",
       "      <td>1.778187e+07</td>\n",
       "      <td>1550.0</td>\n",
       "      <td>3.700880e+05</td>\n",
       "      <td>1.401993e+06</td>\n",
       "      <td>5.587360e+06</td>\n",
       "      <td>9.763735e+07</td>\n",
       "    </tr>\n",
       "    <tr>\n",
       "      <th>Министерство культуры, Фонд кино</th>\n",
       "      <td>22.0</td>\n",
       "      <td>1.627474e+07</td>\n",
       "      <td>2.516316e+07</td>\n",
       "      <td>6000.0</td>\n",
       "      <td>6.328811e+05</td>\n",
       "      <td>6.689938e+06</td>\n",
       "      <td>1.202882e+07</td>\n",
       "      <td>8.812004e+07</td>\n",
       "    </tr>\n",
       "    <tr>\n",
       "      <th>Фонд кино</th>\n",
       "      <td>143.0</td>\n",
       "      <td>1.552958e+08</td>\n",
       "      <td>1.998830e+08</td>\n",
       "      <td>9000.0</td>\n",
       "      <td>1.890396e+07</td>\n",
       "      <td>7.079095e+07</td>\n",
       "      <td>2.003654e+08</td>\n",
       "      <td>8.554511e+08</td>\n",
       "    </tr>\n",
       "    <tr>\n",
       "      <th>Частный</th>\n",
       "      <td>2722.0</td>\n",
       "      <td>8.437123e+06</td>\n",
       "      <td>1.701800e+07</td>\n",
       "      <td>0.0</td>\n",
       "      <td>8.673825e+04</td>\n",
       "      <td>1.636845e+06</td>\n",
       "      <td>6.342581e+06</td>\n",
       "      <td>9.953023e+07</td>\n",
       "    </tr>\n",
       "  </tbody>\n",
       "</table>\n",
       "</div>"
      ],
      "text/plain": [
       "                                   count          mean           std     min  \\\n",
       "financing_source                                                               \n",
       "Министерство культуры              152.0  8.039819e+06  1.778187e+07  1550.0   \n",
       "Министерство культуры, Фонд кино    22.0  1.627474e+07  2.516316e+07  6000.0   \n",
       "Фонд кино                          143.0  1.552958e+08  1.998830e+08  9000.0   \n",
       "Частный                           2722.0  8.437123e+06  1.701800e+07     0.0   \n",
       "\n",
       "                                           25%           50%           75%  \\\n",
       "financing_source                                                             \n",
       "Министерство культуры             3.700880e+05  1.401993e+06  5.587360e+06   \n",
       "Министерство культуры, Фонд кино  6.328811e+05  6.689938e+06  1.202882e+07   \n",
       "Фонд кино                         1.890396e+07  7.079095e+07  2.003654e+08   \n",
       "Частный                           8.673825e+04  1.636845e+06  6.342581e+06   \n",
       "\n",
       "                                           max  \n",
       "financing_source                                \n",
       "Министерство культуры             9.763735e+07  \n",
       "Министерство культуры, Фонд кино  8.812004e+07  \n",
       "Фонд кино                         8.554511e+08  \n",
       "Частный                           9.953023e+07  "
      ]
     },
     "metadata": {},
     "output_type": "display_data"
    }
   ],
   "source": [
    "display(mkrf_movies.query('box_office != -1').groupby('financing_source')['refundable_support'].describe())\n",
    "display(mkrf_movies.query('box_office != -1').groupby('financing_source')['nonrefundable_support'].describe())\n",
    "display(mkrf_movies.query('box_office != -1').groupby('financing_source')['budget'].describe())\n",
    "display(mkrf_movies.query('box_office != -1').groupby('financing_source')['box_office'].describe())"
   ]
  },
  {
   "cell_type": "markdown",
   "metadata": {},
   "source": [
    "Аномалии убрали, теперь осталось соблюсти ещё условие: budget >= refundable_support + nonrefundable_support.  "
   ]
  },
  {
   "cell_type": "markdown",
   "metadata": {},
   "source": [
    "<a id=\"cell_\"></a>\n",
    "<div class=\"alert alert-danger\">\n",
    "\n",
    "**Артём:** ✋ Посмотри сколько этих значений. И не искажай данные.\n",
    "    \n",
    "</div>"
   ]
  },
  {
   "cell_type": "markdown",
   "metadata": {},
   "source": [
    "Для это выведем кол-во строк, где budget < refundable_support + nonrefundable_support."
   ]
  },
  {
   "cell_type": "code",
   "execution_count": 40,
   "metadata": {},
   "outputs": [
    {
     "data": {
      "text/plain": [
       "108"
      ]
     },
     "execution_count": 40,
     "metadata": {},
     "output_type": "execute_result"
    }
   ],
   "source": [
    "mkrf_movies.query('budget < refundable_support + nonrefundable_support')['title'].count()"
   ]
  },
  {
   "cell_type": "markdown",
   "metadata": {},
   "source": [
    "Для этого создадим функцию, которая поможет подкорректировать бюджет фильма, с помощью которой исправим данные столбца общего бюджета."
   ]
  },
  {
   "cell_type": "code",
   "execution_count": 41,
   "metadata": {},
   "outputs": [],
   "source": [
    "def edit_budget(row):\n",
    "    refundable_support = row['refundable_support']\n",
    "    nonrefundable_support = row['nonrefundable_support']\n",
    "    budget = row['budget']\n",
    "    if budget < refundable_support + nonrefundable_support:\n",
    "        budget = refundable_support + nonrefundable_support\n",
    "    return budget"
   ]
  },
  {
   "cell_type": "code",
   "execution_count": 42,
   "metadata": {},
   "outputs": [],
   "source": [
    "mkrf_movies['budget'] = mkrf_movies.apply(edit_budget, axis=1)"
   ]
  },
  {
   "cell_type": "markdown",
   "metadata": {},
   "source": [
    "Проверим работу написанной функции и снова выведем кол-во строк, где budget < refundable_support + nonrefundable_support."
   ]
  },
  {
   "cell_type": "code",
   "execution_count": 43,
   "metadata": {},
   "outputs": [
    {
     "data": {
      "text/plain": [
       "0"
      ]
     },
     "execution_count": 43,
     "metadata": {},
     "output_type": "execute_result"
    }
   ],
   "source": [
    "mkrf_movies.query('budget < refundable_support + nonrefundable_support')['title'].count()"
   ]
  },
  {
   "cell_type": "markdown",
   "metadata": {},
   "source": [
    "Снова проверим данные только 3 последних разобранных столбцов."
   ]
  },
  {
   "cell_type": "code",
   "execution_count": 44,
   "metadata": {},
   "outputs": [
    {
     "data": {
      "text/html": [
       "<div>\n",
       "<style scoped>\n",
       "    .dataframe tbody tr th:only-of-type {\n",
       "        vertical-align: middle;\n",
       "    }\n",
       "\n",
       "    .dataframe tbody tr th {\n",
       "        vertical-align: top;\n",
       "    }\n",
       "\n",
       "    .dataframe thead th {\n",
       "        text-align: right;\n",
       "    }\n",
       "</style>\n",
       "<table border=\"1\" class=\"dataframe\">\n",
       "  <thead>\n",
       "    <tr style=\"text-align: right;\">\n",
       "      <th></th>\n",
       "      <th>count</th>\n",
       "      <th>mean</th>\n",
       "      <th>std</th>\n",
       "      <th>min</th>\n",
       "      <th>25%</th>\n",
       "      <th>50%</th>\n",
       "      <th>75%</th>\n",
       "      <th>max</th>\n",
       "    </tr>\n",
       "    <tr>\n",
       "      <th>financing_source</th>\n",
       "      <th></th>\n",
       "      <th></th>\n",
       "      <th></th>\n",
       "      <th></th>\n",
       "      <th></th>\n",
       "      <th></th>\n",
       "      <th></th>\n",
       "      <th></th>\n",
       "    </tr>\n",
       "  </thead>\n",
       "  <tbody>\n",
       "    <tr>\n",
       "      <th>Министерство культуры</th>\n",
       "      <td>152.0</td>\n",
       "      <td>0.000000e+00</td>\n",
       "      <td>0.000000e+00</td>\n",
       "      <td>0.0</td>\n",
       "      <td>0.0</td>\n",
       "      <td>0.0</td>\n",
       "      <td>0.0</td>\n",
       "      <td>0.0</td>\n",
       "    </tr>\n",
       "    <tr>\n",
       "      <th>Министерство культуры, Фонд кино</th>\n",
       "      <td>22.0</td>\n",
       "      <td>1.029545e+07</td>\n",
       "      <td>1.034459e+07</td>\n",
       "      <td>0.0</td>\n",
       "      <td>0.0</td>\n",
       "      <td>8173440.5</td>\n",
       "      <td>19250000.0</td>\n",
       "      <td>30000000.0</td>\n",
       "    </tr>\n",
       "    <tr>\n",
       "      <th>Фонд кино</th>\n",
       "      <td>143.0</td>\n",
       "      <td>1.793007e+07</td>\n",
       "      <td>1.996067e+07</td>\n",
       "      <td>0.0</td>\n",
       "      <td>0.0</td>\n",
       "      <td>10000000.0</td>\n",
       "      <td>29500000.0</td>\n",
       "      <td>80000000.0</td>\n",
       "    </tr>\n",
       "    <tr>\n",
       "      <th>Частный</th>\n",
       "      <td>2722.0</td>\n",
       "      <td>-1.000000e+00</td>\n",
       "      <td>0.000000e+00</td>\n",
       "      <td>-1.0</td>\n",
       "      <td>-1.0</td>\n",
       "      <td>-1.0</td>\n",
       "      <td>-1.0</td>\n",
       "      <td>-1.0</td>\n",
       "    </tr>\n",
       "  </tbody>\n",
       "</table>\n",
       "</div>"
      ],
      "text/plain": [
       "                                   count          mean           std  min  \\\n",
       "financing_source                                                            \n",
       "Министерство культуры              152.0  0.000000e+00  0.000000e+00  0.0   \n",
       "Министерство культуры, Фонд кино    22.0  1.029545e+07  1.034459e+07  0.0   \n",
       "Фонд кино                          143.0  1.793007e+07  1.996067e+07  0.0   \n",
       "Частный                           2722.0 -1.000000e+00  0.000000e+00 -1.0   \n",
       "\n",
       "                                  25%         50%         75%         max  \n",
       "financing_source                                                           \n",
       "Министерство культуры             0.0         0.0         0.0         0.0  \n",
       "Министерство культуры, Фонд кино  0.0   8173440.5  19250000.0  30000000.0  \n",
       "Фонд кино                         0.0  10000000.0  29500000.0  80000000.0  \n",
       "Частный                          -1.0        -1.0        -1.0        -1.0  "
      ]
     },
     "metadata": {},
     "output_type": "display_data"
    },
    {
     "data": {
      "text/html": [
       "<div>\n",
       "<style scoped>\n",
       "    .dataframe tbody tr th:only-of-type {\n",
       "        vertical-align: middle;\n",
       "    }\n",
       "\n",
       "    .dataframe tbody tr th {\n",
       "        vertical-align: top;\n",
       "    }\n",
       "\n",
       "    .dataframe thead th {\n",
       "        text-align: right;\n",
       "    }\n",
       "</style>\n",
       "<table border=\"1\" class=\"dataframe\">\n",
       "  <thead>\n",
       "    <tr style=\"text-align: right;\">\n",
       "      <th></th>\n",
       "      <th>count</th>\n",
       "      <th>mean</th>\n",
       "      <th>std</th>\n",
       "      <th>min</th>\n",
       "      <th>25%</th>\n",
       "      <th>50%</th>\n",
       "      <th>75%</th>\n",
       "      <th>max</th>\n",
       "    </tr>\n",
       "    <tr>\n",
       "      <th>financing_source</th>\n",
       "      <th></th>\n",
       "      <th></th>\n",
       "      <th></th>\n",
       "      <th></th>\n",
       "      <th></th>\n",
       "      <th></th>\n",
       "      <th></th>\n",
       "      <th></th>\n",
       "    </tr>\n",
       "  </thead>\n",
       "  <tbody>\n",
       "    <tr>\n",
       "      <th>Министерство культуры</th>\n",
       "      <td>152.0</td>\n",
       "      <td>2.991540e+07</td>\n",
       "      <td>1.028960e+07</td>\n",
       "      <td>4700000.0</td>\n",
       "      <td>25000000.0</td>\n",
       "      <td>28500000.0</td>\n",
       "      <td>35000000.0</td>\n",
       "      <td>70000000.0</td>\n",
       "    </tr>\n",
       "    <tr>\n",
       "      <th>Министерство культуры, Фонд кино</th>\n",
       "      <td>22.0</td>\n",
       "      <td>3.364688e+07</td>\n",
       "      <td>1.790559e+07</td>\n",
       "      <td>5300000.0</td>\n",
       "      <td>25000000.0</td>\n",
       "      <td>29000000.0</td>\n",
       "      <td>38750000.0</td>\n",
       "      <td>90000000.0</td>\n",
       "    </tr>\n",
       "    <tr>\n",
       "      <th>Фонд кино</th>\n",
       "      <td>143.0</td>\n",
       "      <td>3.164382e+07</td>\n",
       "      <td>2.035313e+07</td>\n",
       "      <td>0.0</td>\n",
       "      <td>20000000.0</td>\n",
       "      <td>30000000.0</td>\n",
       "      <td>40000000.0</td>\n",
       "      <td>97000000.0</td>\n",
       "    </tr>\n",
       "    <tr>\n",
       "      <th>Частный</th>\n",
       "      <td>2722.0</td>\n",
       "      <td>-1.000000e+00</td>\n",
       "      <td>0.000000e+00</td>\n",
       "      <td>-1.0</td>\n",
       "      <td>-1.0</td>\n",
       "      <td>-1.0</td>\n",
       "      <td>-1.0</td>\n",
       "      <td>-1.0</td>\n",
       "    </tr>\n",
       "  </tbody>\n",
       "</table>\n",
       "</div>"
      ],
      "text/plain": [
       "                                   count          mean           std  \\\n",
       "financing_source                                                       \n",
       "Министерство культуры              152.0  2.991540e+07  1.028960e+07   \n",
       "Министерство культуры, Фонд кино    22.0  3.364688e+07  1.790559e+07   \n",
       "Фонд кино                          143.0  3.164382e+07  2.035313e+07   \n",
       "Частный                           2722.0 -1.000000e+00  0.000000e+00   \n",
       "\n",
       "                                        min         25%         50%  \\\n",
       "financing_source                                                      \n",
       "Министерство культуры             4700000.0  25000000.0  28500000.0   \n",
       "Министерство культуры, Фонд кино  5300000.0  25000000.0  29000000.0   \n",
       "Фонд кино                               0.0  20000000.0  30000000.0   \n",
       "Частный                                -1.0        -1.0        -1.0   \n",
       "\n",
       "                                         75%         max  \n",
       "financing_source                                          \n",
       "Министерство культуры             35000000.0  70000000.0  \n",
       "Министерство культуры, Фонд кино  38750000.0  90000000.0  \n",
       "Фонд кино                         40000000.0  97000000.0  \n",
       "Частный                                 -1.0        -1.0  "
      ]
     },
     "metadata": {},
     "output_type": "display_data"
    },
    {
     "data": {
      "text/html": [
       "<div>\n",
       "<style scoped>\n",
       "    .dataframe tbody tr th:only-of-type {\n",
       "        vertical-align: middle;\n",
       "    }\n",
       "\n",
       "    .dataframe tbody tr th {\n",
       "        vertical-align: top;\n",
       "    }\n",
       "\n",
       "    .dataframe thead th {\n",
       "        text-align: right;\n",
       "    }\n",
       "</style>\n",
       "<table border=\"1\" class=\"dataframe\">\n",
       "  <thead>\n",
       "    <tr style=\"text-align: right;\">\n",
       "      <th></th>\n",
       "      <th>count</th>\n",
       "      <th>mean</th>\n",
       "      <th>std</th>\n",
       "      <th>min</th>\n",
       "      <th>25%</th>\n",
       "      <th>50%</th>\n",
       "      <th>75%</th>\n",
       "      <th>max</th>\n",
       "    </tr>\n",
       "    <tr>\n",
       "      <th>financing_source</th>\n",
       "      <th></th>\n",
       "      <th></th>\n",
       "      <th></th>\n",
       "      <th></th>\n",
       "      <th></th>\n",
       "      <th></th>\n",
       "      <th></th>\n",
       "      <th></th>\n",
       "    </tr>\n",
       "  </thead>\n",
       "  <tbody>\n",
       "    <tr>\n",
       "      <th>Министерство культуры</th>\n",
       "      <td>152.0</td>\n",
       "      <td>4.779503e+07</td>\n",
       "      <td>1.713316e+07</td>\n",
       "      <td>6000000.0</td>\n",
       "      <td>37760310.5</td>\n",
       "      <td>42126254.5</td>\n",
       "      <td>57316868.0</td>\n",
       "      <td>95065546.0</td>\n",
       "    </tr>\n",
       "    <tr>\n",
       "      <th>Министерство культуры, Фонд кино</th>\n",
       "      <td>22.0</td>\n",
       "      <td>5.754982e+07</td>\n",
       "      <td>1.833430e+07</td>\n",
       "      <td>23000000.0</td>\n",
       "      <td>46667110.0</td>\n",
       "      <td>58819598.5</td>\n",
       "      <td>69622651.5</td>\n",
       "      <td>90000000.0</td>\n",
       "    </tr>\n",
       "    <tr>\n",
       "      <th>Фонд кино</th>\n",
       "      <td>143.0</td>\n",
       "      <td>6.380701e+07</td>\n",
       "      <td>2.804685e+07</td>\n",
       "      <td>13896946.5</td>\n",
       "      <td>47148441.5</td>\n",
       "      <td>61011407.0</td>\n",
       "      <td>78554356.0</td>\n",
       "      <td>230507430.3</td>\n",
       "    </tr>\n",
       "    <tr>\n",
       "      <th>Частный</th>\n",
       "      <td>2722.0</td>\n",
       "      <td>-1.000000e+00</td>\n",
       "      <td>0.000000e+00</td>\n",
       "      <td>-1.0</td>\n",
       "      <td>-1.0</td>\n",
       "      <td>-1.0</td>\n",
       "      <td>-1.0</td>\n",
       "      <td>-1.0</td>\n",
       "    </tr>\n",
       "  </tbody>\n",
       "</table>\n",
       "</div>"
      ],
      "text/plain": [
       "                                   count          mean           std  \\\n",
       "financing_source                                                       \n",
       "Министерство культуры              152.0  4.779503e+07  1.713316e+07   \n",
       "Министерство культуры, Фонд кино    22.0  5.754982e+07  1.833430e+07   \n",
       "Фонд кино                          143.0  6.380701e+07  2.804685e+07   \n",
       "Частный                           2722.0 -1.000000e+00  0.000000e+00   \n",
       "\n",
       "                                         min         25%         50%  \\\n",
       "financing_source                                                       \n",
       "Министерство культуры              6000000.0  37760310.5  42126254.5   \n",
       "Министерство культуры, Фонд кино  23000000.0  46667110.0  58819598.5   \n",
       "Фонд кино                         13896946.5  47148441.5  61011407.0   \n",
       "Частный                                 -1.0        -1.0        -1.0   \n",
       "\n",
       "                                         75%          max  \n",
       "financing_source                                           \n",
       "Министерство культуры             57316868.0   95065546.0  \n",
       "Министерство культуры, Фонд кино  69622651.5   90000000.0  \n",
       "Фонд кино                         78554356.0  230507430.3  \n",
       "Частный                                 -1.0         -1.0  "
      ]
     },
     "metadata": {},
     "output_type": "display_data"
    }
   ],
   "source": [
    "display(mkrf_movies.query('box_office != -1').groupby('financing_source')['refundable_support'].describe())\n",
    "display(mkrf_movies.query('box_office != -1').groupby('financing_source')['nonrefundable_support'].describe())\n",
    "display(mkrf_movies.query('box_office != -1').groupby('financing_source')['budget'].describe())"
   ]
  },
  {
   "cell_type": "markdown",
   "metadata": {},
   "source": [
    "Данные показали, что +- всё в порядке."
   ]
  },
  {
   "cell_type": "markdown",
   "metadata": {
    "id": "Eu6oWp2CgFyS"
   },
   "source": [
    "#### Шаг 2.6. Добавьте новые столбцы\n",
    "\n",
    "\n",
    "\n"
   ]
  },
  {
   "cell_type": "markdown",
   "metadata": {
    "id": "7GgW-UpAgFyS"
   },
   "source": [
    "- Создайте столбец с информацией о годе проката. Выделите год из даты премьеры фильма."
   ]
  },
  {
   "cell_type": "code",
   "execution_count": 45,
   "metadata": {
    "id": "I-yd1DkWgFyT"
   },
   "outputs": [],
   "source": [
    "mkrf_movies['show_start_date_year'] = mkrf_movies['show_start_date'].dt.year"
   ]
  },
  {
   "cell_type": "markdown",
   "metadata": {},
   "source": [
    "<div class=\"alert alert-success\">\n",
    "\n",
    "**Артём:** 👍 Отлично.\n",
    "\n",
    "</div>"
   ]
  },
  {
   "cell_type": "markdown",
   "metadata": {
    "id": "nFTDLDYOgFyT"
   },
   "source": [
    "- Создайте два столбца: с именем и фамилией главного режиссёра и основным жанром фильма. В столбцы войдут первые значения из списка режиссёров и жанров соответственно.\n",
    "\n",
    "<div id=\"accordion\">\n",
    "    <div class=\"card\">\n",
    "        <div class=\"card-header\" id=\"headingThree\">\n",
    "            <button class=\"btn btn-link collapsed\" data-toggle=\"collapse\" data-target=\"#collapseHint_2\" aria-expanded=\"false\" aria-controls=\"collapseHint_2\">Подсказка</button>\n",
    "        </div>\n",
    "        <div id=\"collapseHint_2\" class=\"collapse\" aria-labelledby=\"headingThree\" data-parent=\"#accordion\">\n",
    "            <div class=\"card-body\">\n",
    "Чтобы создать такие столбцы, лучше всего использовать собственную функцию. Эту функцию можно применить к двум столбцам сразу. \n",
    "            </div>\n",
    "        </div>\n",
    "    </div>\n",
    "</div>"
   ]
  },
  {
   "cell_type": "markdown",
   "metadata": {},
   "source": [
    "Создадим функцию для создания новых столбцов, которую впоследствии и будем вызывать."
   ]
  },
  {
   "cell_type": "code",
   "execution_count": 46,
   "metadata": {},
   "outputs": [],
   "source": [
    "def add_main(mkrf_movies, columns):\n",
    "    for column in columns:\n",
    "        mkrf_movies[f'main_{column}'] = mkrf_movies[column].dropna().apply(lambda x: x.split(',')[0])\n",
    "    return mkrf_movies"
   ]
  },
  {
   "cell_type": "code",
   "execution_count": 47,
   "metadata": {},
   "outputs": [],
   "source": [
    "mkrf_movies = add_main(mkrf_movies, ['director', 'genres'])"
   ]
  },
  {
   "cell_type": "markdown",
   "metadata": {},
   "source": [
    "Выведем верхние 5 строк данных для проверки появления новых столбцов."
   ]
  },
  {
   "cell_type": "code",
   "execution_count": 48,
   "metadata": {
    "scrolled": true
   },
   "outputs": [
    {
     "data": {
      "text/html": [
       "<div>\n",
       "<style scoped>\n",
       "    .dataframe tbody tr th:only-of-type {\n",
       "        vertical-align: middle;\n",
       "    }\n",
       "\n",
       "    .dataframe tbody tr th {\n",
       "        vertical-align: top;\n",
       "    }\n",
       "\n",
       "    .dataframe thead th {\n",
       "        text-align: right;\n",
       "    }\n",
       "</style>\n",
       "<table border=\"1\" class=\"dataframe\">\n",
       "  <thead>\n",
       "    <tr style=\"text-align: right;\">\n",
       "      <th></th>\n",
       "      <th>title</th>\n",
       "      <th>puNumber</th>\n",
       "      <th>show_start_date</th>\n",
       "      <th>type</th>\n",
       "      <th>film_studio</th>\n",
       "      <th>production_country</th>\n",
       "      <th>director</th>\n",
       "      <th>producer</th>\n",
       "      <th>age_restriction</th>\n",
       "      <th>refundable_support</th>\n",
       "      <th>nonrefundable_support</th>\n",
       "      <th>budget</th>\n",
       "      <th>financing_source</th>\n",
       "      <th>ratings</th>\n",
       "      <th>genres</th>\n",
       "      <th>box_office</th>\n",
       "      <th>show_start_date_year</th>\n",
       "      <th>main_director</th>\n",
       "      <th>main_genres</th>\n",
       "    </tr>\n",
       "  </thead>\n",
       "  <tbody>\n",
       "    <tr>\n",
       "      <th>0</th>\n",
       "      <td>Открытый простор</td>\n",
       "      <td>221048915</td>\n",
       "      <td>2015-11-27 12:00:00</td>\n",
       "      <td>Художественный</td>\n",
       "      <td>Тачстоун Пикчерз, Кобальт Пикчерз, Бикон Пикче...</td>\n",
       "      <td>США</td>\n",
       "      <td>Кевин Костнер</td>\n",
       "      <td>Дэвид Валдес, Кевин Костнер, Джейк Эбертс</td>\n",
       "      <td>«18+» - запрещено для детей</td>\n",
       "      <td>-1.0</td>\n",
       "      <td>-1.0</td>\n",
       "      <td>-1.0</td>\n",
       "      <td>Частный</td>\n",
       "      <td>7.2</td>\n",
       "      <td>боевик,драма,мелодрама</td>\n",
       "      <td>-1.0</td>\n",
       "      <td>2015</td>\n",
       "      <td>Кевин Костнер</td>\n",
       "      <td>боевик</td>\n",
       "    </tr>\n",
       "    <tr>\n",
       "      <th>1</th>\n",
       "      <td>Особо опасен</td>\n",
       "      <td>221038416</td>\n",
       "      <td>2016-10-10 12:00:00</td>\n",
       "      <td>Художественный</td>\n",
       "      <td>Юниверсал Пикчерз, Кикстарт Продакшнз, Марк Пл...</td>\n",
       "      <td>США</td>\n",
       "      <td>Тимур Бекмамбетов</td>\n",
       "      <td>Джим Лемли, Джейсон Нетер, Марк Е.Платт, Яйн Смит</td>\n",
       "      <td>«18+» - запрещено для детей</td>\n",
       "      <td>-1.0</td>\n",
       "      <td>-1.0</td>\n",
       "      <td>-1.0</td>\n",
       "      <td>Частный</td>\n",
       "      <td>6.8</td>\n",
       "      <td>фантастика,боевик,триллер</td>\n",
       "      <td>-1.0</td>\n",
       "      <td>2016</td>\n",
       "      <td>Тимур Бекмамбетов</td>\n",
       "      <td>фантастика</td>\n",
       "    </tr>\n",
       "    <tr>\n",
       "      <th>2</th>\n",
       "      <td>Особо опасен</td>\n",
       "      <td>221026916</td>\n",
       "      <td>2016-06-10 12:00:00</td>\n",
       "      <td>Художественный</td>\n",
       "      <td>Юниверсал Пикчерз, Кикстарт Продакшнз, Марк Пл...</td>\n",
       "      <td>США</td>\n",
       "      <td>Тимур Бекмамбетов</td>\n",
       "      <td>Джим Лемли, Джейсон Нетер, Марк Е.Платт, Яйн Смит</td>\n",
       "      <td>«18+» - запрещено для детей</td>\n",
       "      <td>-1.0</td>\n",
       "      <td>-1.0</td>\n",
       "      <td>-1.0</td>\n",
       "      <td>Частный</td>\n",
       "      <td>6.8</td>\n",
       "      <td>фантастика,боевик,триллер</td>\n",
       "      <td>-1.0</td>\n",
       "      <td>2016</td>\n",
       "      <td>Тимур Бекмамбетов</td>\n",
       "      <td>фантастика</td>\n",
       "    </tr>\n",
       "    <tr>\n",
       "      <th>3</th>\n",
       "      <td>Особо опасен</td>\n",
       "      <td>221030815</td>\n",
       "      <td>2015-07-29 12:00:00</td>\n",
       "      <td>Художественный</td>\n",
       "      <td>Юниверсал Пикчерз, Кикстарт Продакшнз, Марк Пл...</td>\n",
       "      <td>США</td>\n",
       "      <td>Тимур Бекмамбетов</td>\n",
       "      <td>Джим Лемли, Джейсон Нетер, Марк Е.Платт, Яйн Смит</td>\n",
       "      <td>«18+» - запрещено для детей</td>\n",
       "      <td>-1.0</td>\n",
       "      <td>-1.0</td>\n",
       "      <td>-1.0</td>\n",
       "      <td>Частный</td>\n",
       "      <td>6.8</td>\n",
       "      <td>фантастика,боевик,триллер</td>\n",
       "      <td>-1.0</td>\n",
       "      <td>2015</td>\n",
       "      <td>Тимур Бекмамбетов</td>\n",
       "      <td>фантастика</td>\n",
       "    </tr>\n",
       "    <tr>\n",
       "      <th>4</th>\n",
       "      <td>Любовь и сигареты</td>\n",
       "      <td>221074614</td>\n",
       "      <td>2014-12-29 12:00:00</td>\n",
       "      <td>Художественный</td>\n",
       "      <td>Юнайтед Артистс, Грин Стрит Филмз, Айкон Интер...</td>\n",
       "      <td>США</td>\n",
       "      <td>Джон Туртурро</td>\n",
       "      <td>Джон Пенотти, Джон Туртурро</td>\n",
       "      <td>«18+» - запрещено для детей</td>\n",
       "      <td>-1.0</td>\n",
       "      <td>-1.0</td>\n",
       "      <td>-1.0</td>\n",
       "      <td>Частный</td>\n",
       "      <td>6.6</td>\n",
       "      <td>мюзикл,мелодрама,комедия</td>\n",
       "      <td>-1.0</td>\n",
       "      <td>2014</td>\n",
       "      <td>Джон Туртурро</td>\n",
       "      <td>мюзикл</td>\n",
       "    </tr>\n",
       "  </tbody>\n",
       "</table>\n",
       "</div>"
      ],
      "text/plain": [
       "               title   puNumber     show_start_date            type  \\\n",
       "0   Открытый простор  221048915 2015-11-27 12:00:00  Художественный   \n",
       "1       Особо опасен  221038416 2016-10-10 12:00:00  Художественный   \n",
       "2       Особо опасен  221026916 2016-06-10 12:00:00  Художественный   \n",
       "3       Особо опасен  221030815 2015-07-29 12:00:00  Художественный   \n",
       "4  Любовь и сигареты  221074614 2014-12-29 12:00:00  Художественный   \n",
       "\n",
       "                                         film_studio production_country  \\\n",
       "0  Тачстоун Пикчерз, Кобальт Пикчерз, Бикон Пикче...                США   \n",
       "1  Юниверсал Пикчерз, Кикстарт Продакшнз, Марк Пл...                США   \n",
       "2  Юниверсал Пикчерз, Кикстарт Продакшнз, Марк Пл...                США   \n",
       "3  Юниверсал Пикчерз, Кикстарт Продакшнз, Марк Пл...                США   \n",
       "4  Юнайтед Артистс, Грин Стрит Филмз, Айкон Интер...                США   \n",
       "\n",
       "            director                                           producer  \\\n",
       "0      Кевин Костнер          Дэвид Валдес, Кевин Костнер, Джейк Эбертс   \n",
       "1  Тимур Бекмамбетов  Джим Лемли, Джейсон Нетер, Марк Е.Платт, Яйн Смит   \n",
       "2  Тимур Бекмамбетов  Джим Лемли, Джейсон Нетер, Марк Е.Платт, Яйн Смит   \n",
       "3  Тимур Бекмамбетов  Джим Лемли, Джейсон Нетер, Марк Е.Платт, Яйн Смит   \n",
       "4      Джон Туртурро                        Джон Пенотти, Джон Туртурро   \n",
       "\n",
       "               age_restriction  refundable_support  nonrefundable_support  \\\n",
       "0  «18+» - запрещено для детей                -1.0                   -1.0   \n",
       "1  «18+» - запрещено для детей                -1.0                   -1.0   \n",
       "2  «18+» - запрещено для детей                -1.0                   -1.0   \n",
       "3  «18+» - запрещено для детей                -1.0                   -1.0   \n",
       "4  «18+» - запрещено для детей                -1.0                   -1.0   \n",
       "\n",
       "   budget financing_source  ratings                     genres  box_office  \\\n",
       "0    -1.0          Частный      7.2     боевик,драма,мелодрама        -1.0   \n",
       "1    -1.0          Частный      6.8  фантастика,боевик,триллер        -1.0   \n",
       "2    -1.0          Частный      6.8  фантастика,боевик,триллер        -1.0   \n",
       "3    -1.0          Частный      6.8  фантастика,боевик,триллер        -1.0   \n",
       "4    -1.0          Частный      6.6   мюзикл,мелодрама,комедия        -1.0   \n",
       "\n",
       "   show_start_date_year      main_director main_genres  \n",
       "0                  2015      Кевин Костнер      боевик  \n",
       "1                  2016  Тимур Бекмамбетов  фантастика  \n",
       "2                  2016  Тимур Бекмамбетов  фантастика  \n",
       "3                  2015  Тимур Бекмамбетов  фантастика  \n",
       "4                  2014      Джон Туртурро      мюзикл  "
      ]
     },
     "metadata": {},
     "output_type": "display_data"
    }
   ],
   "source": [
    "display(mkrf_movies.head())"
   ]
  },
  {
   "cell_type": "markdown",
   "metadata": {},
   "source": [
    "<div class=\"alert alert-success\">\n",
    "\n",
    "**Артём:** 👍 Молодец.\n",
    "\n",
    "</div>"
   ]
  },
  {
   "cell_type": "markdown",
   "metadata": {
    "id": "1FsCXHwdgFyU"
   },
   "source": [
    "- Посчитайте, какую долю от общего бюджета фильма составляет государственная поддержка."
   ]
  },
  {
   "cell_type": "code",
   "execution_count": 49,
   "metadata": {},
   "outputs": [],
   "source": [
    "def support_ratio(row):\n",
    "    budget = row['budget']\n",
    "    refundable_support = row['refundable_support']\n",
    "    nonrefundable_support = row['nonrefundable_support']\n",
    "    if (refundable_support == -1) | (nonrefundable_support == -1):\n",
    "        support_ratio = -1\n",
    "    else:\n",
    "        support_ratio = (refundable_support + nonrefundable_support)/budget\n",
    "    return support_ratio"
   ]
  },
  {
   "cell_type": "code",
   "execution_count": 50,
   "metadata": {},
   "outputs": [
    {
     "name": "stdout",
     "output_type": "stream",
     "text": [
      "0.7139731900752416\n"
     ]
    },
    {
     "data": {
      "text/plain": [
       "show_start_date_year\n",
       "2013    0.473197\n",
       "2014    0.637946\n",
       "2015    0.697689\n",
       "2016    0.719174\n",
       "2017    0.708742\n",
       "2018    0.760838\n",
       "2019    0.719117\n",
       "Name: support_ratio, dtype: float64"
      ]
     },
     "metadata": {},
     "output_type": "display_data"
    }
   ],
   "source": [
    "mkrf_movies['support_ratio'] = mkrf_movies.apply(support_ratio, axis=1)\n",
    "print(mkrf_movies.query('support_ratio != -1')['support_ratio'].mean())\n",
    "display(mkrf_movies.query('support_ratio != -1').groupby('show_start_date_year')['support_ratio'].mean())"
   ]
  },
  {
   "cell_type": "markdown",
   "metadata": {},
   "source": [
    "Государственная поддержка от общего бюджета фильма составляет 71,4%."
   ]
  },
  {
   "cell_type": "markdown",
   "metadata": {},
   "source": [
    "<a id=\"cell_\"></a>\n",
    "<div class=\"alert alert-danger\">\n",
    "\n",
    "**Артём:** ✋ Выведи среднюю долю по всему столбцу.\n",
    "    \n",
    "</div>"
   ]
  },
  {
   "cell_type": "markdown",
   "metadata": {
    "id": "6t4EukPLgFyV"
   },
   "source": [
    "### Шаг 3. Проведите исследовательский анализ данных\n"
   ]
  },
  {
   "cell_type": "markdown",
   "metadata": {},
   "source": [
    "<a id=\"cell_\"></a>\n",
    "<div class=\"alert alert-danger\">\n",
    "\n",
    "**Артём:** ✋ Шаг 3 и Шаг 4 важно смотреть на корректных данных. \n",
    "    \n",
    "</div>"
   ]
  },
  {
   "cell_type": "markdown",
   "metadata": {},
   "source": [
    "**Иван:** эти шаги пока я не редактировал. Посмотри, пожалуйста, "
   ]
  },
  {
   "cell_type": "markdown",
   "metadata": {},
   "source": [
    "<div class=\"alert alert-success\">\n",
    "\n",
    "**Артём:** 👍👍 Смотрю.\n",
    "\n",
    "</div>"
   ]
  },
  {
   "cell_type": "markdown",
   "metadata": {
    "id": "vAH8WCzugFyV"
   },
   "source": [
    "- Посмотрите, сколько фильмов выходило в прокат каждый год. Обратите внимание, что данные о прокате в кинотеатрах известны не для всех фильмов. Посчитайте, какую долю составляют фильмы с указанной информацией о прокате в кинотеатрах."
   ]
  },
  {
   "cell_type": "markdown",
   "metadata": {},
   "source": [
    "Для этого сгруппируем данные по году выхода в прокат и посчитаем количество, а также попробуем это визуализировать."
   ]
  },
  {
   "cell_type": "code",
   "execution_count": 51,
   "metadata": {
    "id": "ABeV47y7gFyW"
   },
   "outputs": [
    {
     "data": {
      "text/plain": [
       "show_start_date_year\n",
       "2010    103\n",
       "2011    107\n",
       "2012    125\n",
       "2013    154\n",
       "2014    242\n",
       "2015    450\n",
       "2016    517\n",
       "2017    356\n",
       "2018    468\n",
       "2019    517\n",
       "Name: title, dtype: int64"
      ]
     },
     "metadata": {},
     "output_type": "display_data"
    },
    {
     "data": {
      "image/png": "[encoded data removed]",
      "text/plain": [
       "<Figure size 432x288 with 1 Axes>"
      ]
     },
     "metadata": {
      "needs_background": "light"
     },
     "output_type": "display_data"
    }
   ],
   "source": [
    "display(mkrf_movies.query('box_office != -1').groupby('show_start_date_year')['title'].count())\n",
    "mkrf_movies.query('box_office != -1').groupby('show_start_date_year')['title'].count().plot(style='-o', grid=True)\n",
    "plt.show()"
   ]
  },
  {
   "cell_type": "markdown",
   "metadata": {},
   "source": [
    "<a id=\"cell_\"></a>\n",
    "<div class=\"alert alert-danger\">\n",
    "\n",
    "**Артём:** ✋✋ Так ты же не заглушку удалил, а нулевые значения. Здесь и дальше.\n",
    "    \n",
    "</div>"
   ]
  },
  {
   "cell_type": "markdown",
   "metadata": {},
   "source": [
    "<div class=\"alert alert-success\">\n",
    "\n",
    "**Артём:** 👍👍👍 Хорошо.\n",
    "\n",
    "</div>"
   ]
  },
  {
   "cell_type": "markdown",
   "metadata": {},
   "source": [
    "По приведённым сведениям: \n",
    "* пик выхода фильмов в прокат в период 2010-2019 гг. пришёлся на 2016 и 2019 года\n",
    "* с 2010 по 2016 год наблюдается тенденция на увеличение кол-ва выхода фильмов в прокат.\n",
    "* в 2017 году образовался резкий спад до отметки в 356\n",
    "* в 2018-2019 гг. снова появилась положительная динамика в прокате фильмов, возможно, это связано с цифровизацией всего мира"
   ]
  },
  {
   "cell_type": "markdown",
   "metadata": {
    "id": "BEOdcIrIgFyW"
   },
   "source": [
    "- Изучите, как менялась динамика проката по годам. В каком году сумма сборов была минимальной? А максимальной?"
   ]
  },
  {
   "cell_type": "code",
   "execution_count": 52,
   "metadata": {
    "id": "tfEhofYvgFyX"
   },
   "outputs": [
    {
     "data": {
      "text/plain": [
       "show_start_date_year\n",
       "2010        2,425,499.0\n",
       "2011       14,095,925.0\n",
       "2012        6,894,293.0\n",
       "2013       29,539,565.2\n",
       "2014    1,678,321,911.0\n",
       "2015    8,921,592,088.5\n",
       "2016    7,406,165,887.9\n",
       "2017   10,179,272,935.5\n",
       "2018    9,554,264,192.1\n",
       "2019    8,960,666,496.3\n",
       "Name: box_office, dtype: float64"
      ]
     },
     "metadata": {},
     "output_type": "display_data"
    },
    {
     "data": {
      "image/png": "[encoded data removed]",
      "text/plain": [
       "<Figure size 864x576 with 1 Axes>"
      ]
     },
     "metadata": {
      "needs_background": "light"
     },
     "output_type": "display_data"
    }
   ],
   "source": [
    "pd.options.display.float_format = '{:,.1f}'.format\n",
    "display(mkrf_movies.query('box_office != -1').groupby('show_start_date_year')['box_office'].sum())\n",
    "(mkrf_movies.query('box_office != -1').groupby('show_start_date_year')['box_office']\n",
    " .sum().plot(style='-o', grid=True, figsize=(12,8)))\n",
    "plt.show()"
   ]
  },
  {
   "cell_type": "markdown",
   "metadata": {},
   "source": [
    "По приведённым можем сделать вывод: в 2010-2015 гг. наблюдалось повышение сборов с 2 425 499.0 руб. до 8 921 592 088.5 руб., причём в 2015 году по сравнению с 2014 произошёл резкий скачок в сборах, возможно, это связано, что открывались новые кинотеатры, случился кризис 2014-15, в 2016 году слегка упал до уровня 7 406 165 887.9 руб., а в 2017 году кассовые сборы дошли до своего пика - 10 179 272 935.5 руб., затем кассовые сборы уменьшались."
   ]
  },
  {
   "cell_type": "markdown",
   "metadata": {},
   "source": [
    "<div class=\"alert alert-success\">\n",
    "\n",
    "**Артём:** 👍👍👍 Верно.\n",
    "\n",
    "</div>"
   ]
  },
  {
   "cell_type": "markdown",
   "metadata": {},
   "source": [
    "Также выявлено:\n",
    "   * минимальная сумма сборов была в 2010 году, она составила 2 425 499.0 руб.\n",
    "   * максимальная сумма сборов - в 2017 году, составила 10 179 272 935.5 руб."
   ]
  },
  {
   "cell_type": "markdown",
   "metadata": {
    "id": "G-7qS-N-gFyY"
   },
   "source": [
    "- С помощью сводной таблицы посчитайте среднюю и медианную сумму сборов для каждого года."
   ]
  },
  {
   "cell_type": "code",
   "execution_count": 53,
   "metadata": {
    "id": "jmp-rgg9gFyY"
   },
   "outputs": [
    {
     "data": {
      "text/html": [
       "<div>\n",
       "<style scoped>\n",
       "    .dataframe tbody tr th:only-of-type {\n",
       "        vertical-align: middle;\n",
       "    }\n",
       "\n",
       "    .dataframe tbody tr th {\n",
       "        vertical-align: top;\n",
       "    }\n",
       "\n",
       "    .dataframe thead tr th {\n",
       "        text-align: left;\n",
       "    }\n",
       "\n",
       "    .dataframe thead tr:last-of-type th {\n",
       "        text-align: right;\n",
       "    }\n",
       "</style>\n",
       "<table border=\"1\" class=\"dataframe\">\n",
       "  <thead>\n",
       "    <tr>\n",
       "      <th></th>\n",
       "      <th>mean</th>\n",
       "      <th>median</th>\n",
       "    </tr>\n",
       "    <tr>\n",
       "      <th></th>\n",
       "      <th>box_office</th>\n",
       "      <th>box_office</th>\n",
       "    </tr>\n",
       "    <tr>\n",
       "      <th>show_start_date_year</th>\n",
       "      <th></th>\n",
       "      <th></th>\n",
       "    </tr>\n",
       "  </thead>\n",
       "  <tbody>\n",
       "    <tr>\n",
       "      <th>2010</th>\n",
       "      <td>23,548.5</td>\n",
       "      <td>1,700.0</td>\n",
       "    </tr>\n",
       "    <tr>\n",
       "      <th>2011</th>\n",
       "      <td>131,737.6</td>\n",
       "      <td>3,000.0</td>\n",
       "    </tr>\n",
       "    <tr>\n",
       "      <th>2012</th>\n",
       "      <td>55,154.3</td>\n",
       "      <td>5,560.0</td>\n",
       "    </tr>\n",
       "    <tr>\n",
       "      <th>2013</th>\n",
       "      <td>191,815.4</td>\n",
       "      <td>4,717.5</td>\n",
       "    </tr>\n",
       "    <tr>\n",
       "      <th>2014</th>\n",
       "      <td>6,935,214.5</td>\n",
       "      <td>69,120.0</td>\n",
       "    </tr>\n",
       "    <tr>\n",
       "      <th>2015</th>\n",
       "      <td>19,825,760.2</td>\n",
       "      <td>3,019,896.7</td>\n",
       "    </tr>\n",
       "    <tr>\n",
       "      <th>2016</th>\n",
       "      <td>14,325,272.5</td>\n",
       "      <td>2,353,213.5</td>\n",
       "    </tr>\n",
       "    <tr>\n",
       "      <th>2017</th>\n",
       "      <td>28,593,463.3</td>\n",
       "      <td>5,292,783.0</td>\n",
       "    </tr>\n",
       "    <tr>\n",
       "      <th>2018</th>\n",
       "      <td>20,415,094.4</td>\n",
       "      <td>4,535,602.2</td>\n",
       "    </tr>\n",
       "    <tr>\n",
       "      <th>2019</th>\n",
       "      <td>17,332,043.5</td>\n",
       "      <td>3,008,230.0</td>\n",
       "    </tr>\n",
       "  </tbody>\n",
       "</table>\n",
       "</div>"
      ],
      "text/plain": [
       "                             mean      median\n",
       "                       box_office  box_office\n",
       "show_start_date_year                         \n",
       "2010                     23,548.5     1,700.0\n",
       "2011                    131,737.6     3,000.0\n",
       "2012                     55,154.3     5,560.0\n",
       "2013                    191,815.4     4,717.5\n",
       "2014                  6,935,214.5    69,120.0\n",
       "2015                 19,825,760.2 3,019,896.7\n",
       "2016                 14,325,272.5 2,353,213.5\n",
       "2017                 28,593,463.3 5,292,783.0\n",
       "2018                 20,415,094.4 4,535,602.2\n",
       "2019                 17,332,043.5 3,008,230.0"
      ]
     },
     "metadata": {},
     "output_type": "display_data"
    },
    {
     "data": {
      "image/png": "[encoded data removed]",
      "text/plain": [
       "<Figure size 432x288 with 1 Axes>"
      ]
     },
     "metadata": {
      "needs_background": "light"
     },
     "output_type": "display_data"
    }
   ],
   "source": [
    "import numpy as np\n",
    "table = mkrf_movies.query('box_office != -1').pivot_table(values='box_office', index='show_start_date_year', aggfunc=[np.mean, np.median])\n",
    "display(table)\n",
    "table.plot(style='-o', grid=True)\n",
    "plt.show()"
   ]
  },
  {
   "cell_type": "markdown",
   "metadata": {},
   "source": [
    "Возможно, начиная с 2014 года, большая разница между средней и медианной суммой сборов связана с инфляцией, хотя поведение обоих функции одинаковое, но с разной амплитудой отклоняется."
   ]
  },
  {
   "cell_type": "markdown",
   "metadata": {},
   "source": [
    "<div class=\"alert alert-success\">\n",
    "\n",
    "**Артём:** 👍👍👍 Хорошо.\n",
    "\n",
    "</div>"
   ]
  },
  {
   "cell_type": "markdown",
   "metadata": {
    "id": "Ok89WFwJgFyZ"
   },
   "source": [
    "- Определите, влияет ли возрастное ограничение аудитории («6+», «12+», «16+», «18+» и т. д.) на сборы фильма в прокате в период с 2015 по 2019 год? Фильмы с каким возрастным ограничением собрали больше всего денег в прокате? Меняется ли картина в зависимости от года? Если да, предположите, с чем это может быть связано."
   ]
  },
  {
   "cell_type": "code",
   "execution_count": 54,
   "metadata": {
    "id": "jsSbEqfjgFya"
   },
   "outputs": [
    {
     "data": {
      "text/html": [
       "<div>\n",
       "<style scoped>\n",
       "    .dataframe tbody tr th:only-of-type {\n",
       "        vertical-align: middle;\n",
       "    }\n",
       "\n",
       "    .dataframe tbody tr th {\n",
       "        vertical-align: top;\n",
       "    }\n",
       "\n",
       "    .dataframe thead tr th {\n",
       "        text-align: left;\n",
       "    }\n",
       "\n",
       "    .dataframe thead tr:last-of-type th {\n",
       "        text-align: right;\n",
       "    }\n",
       "</style>\n",
       "<table border=\"1\" class=\"dataframe\">\n",
       "  <thead>\n",
       "    <tr>\n",
       "      <th></th>\n",
       "      <th colspan=\"5\" halign=\"left\">sum</th>\n",
       "    </tr>\n",
       "    <tr>\n",
       "      <th>age_restriction</th>\n",
       "      <th>«0+» - для любой зрительской аудитории</th>\n",
       "      <th>«12+» - для детей старше 12 лет</th>\n",
       "      <th>«16+» - для детей старше 16 лет</th>\n",
       "      <th>«18+» - запрещено для детей</th>\n",
       "      <th>«6+» - для детей старше 6 лет</th>\n",
       "    </tr>\n",
       "    <tr>\n",
       "      <th>show_start_date_year</th>\n",
       "      <th></th>\n",
       "      <th></th>\n",
       "      <th></th>\n",
       "      <th></th>\n",
       "      <th></th>\n",
       "    </tr>\n",
       "  </thead>\n",
       "  <tbody>\n",
       "    <tr>\n",
       "      <th>2015</th>\n",
       "      <td>222,609,740.2</td>\n",
       "      <td>1,376,324,979.8</td>\n",
       "      <td>3,143,735,756.7</td>\n",
       "      <td>1,601,531,196.6</td>\n",
       "      <td>2,577,390,415.3</td>\n",
       "    </tr>\n",
       "    <tr>\n",
       "      <th>2016</th>\n",
       "      <td>150,030,881.7</td>\n",
       "      <td>1,802,565,080.3</td>\n",
       "      <td>2,720,305,471.5</td>\n",
       "      <td>1,696,702,222.4</td>\n",
       "      <td>1,036,562,232.0</td>\n",
       "    </tr>\n",
       "    <tr>\n",
       "      <th>2017</th>\n",
       "      <td>229,598,930.0</td>\n",
       "      <td>2,529,886,704.6</td>\n",
       "      <td>2,199,898,040.2</td>\n",
       "      <td>1,883,880,852.2</td>\n",
       "      <td>3,336,008,408.5</td>\n",
       "    </tr>\n",
       "    <tr>\n",
       "      <th>2018</th>\n",
       "      <td>32,449,002.1</td>\n",
       "      <td>1,994,955,109.5</td>\n",
       "      <td>2,733,789,077.2</td>\n",
       "      <td>2,255,294,649.4</td>\n",
       "      <td>2,537,776,354.0</td>\n",
       "    </tr>\n",
       "    <tr>\n",
       "      <th>2019</th>\n",
       "      <td>17,746,066.8</td>\n",
       "      <td>1,888,726,099.0</td>\n",
       "      <td>2,299,461,071.9</td>\n",
       "      <td>2,420,324,518.8</td>\n",
       "      <td>2,334,408,739.7</td>\n",
       "    </tr>\n",
       "  </tbody>\n",
       "</table>\n",
       "</div>"
      ],
      "text/plain": [
       "                                                        sum  \\\n",
       "age_restriction      «0+» - для любой зрительской аудитории   \n",
       "show_start_date_year                                          \n",
       "2015                                          222,609,740.2   \n",
       "2016                                          150,030,881.7   \n",
       "2017                                          229,598,930.0   \n",
       "2018                                           32,449,002.1   \n",
       "2019                                           17,746,066.8   \n",
       "\n",
       "                                                      \\\n",
       "age_restriction      «12+» - для детей старше 12 лет   \n",
       "show_start_date_year                                   \n",
       "2015                                 1,376,324,979.8   \n",
       "2016                                 1,802,565,080.3   \n",
       "2017                                 2,529,886,704.6   \n",
       "2018                                 1,994,955,109.5   \n",
       "2019                                 1,888,726,099.0   \n",
       "\n",
       "                                                      \\\n",
       "age_restriction      «16+» - для детей старше 16 лет   \n",
       "show_start_date_year                                   \n",
       "2015                                 3,143,735,756.7   \n",
       "2016                                 2,720,305,471.5   \n",
       "2017                                 2,199,898,040.2   \n",
       "2018                                 2,733,789,077.2   \n",
       "2019                                 2,299,461,071.9   \n",
       "\n",
       "                                                                                \n",
       "age_restriction      «18+» - запрещено для детей «6+» - для детей старше 6 лет  \n",
       "show_start_date_year                                                            \n",
       "2015                             1,601,531,196.6               2,577,390,415.3  \n",
       "2016                             1,696,702,222.4               1,036,562,232.0  \n",
       "2017                             1,883,880,852.2               3,336,008,408.5  \n",
       "2018                             2,255,294,649.4               2,537,776,354.0  \n",
       "2019                             2,420,324,518.8               2,334,408,739.7  "
      ]
     },
     "metadata": {},
     "output_type": "display_data"
    },
    {
     "data": {
      "image/png": "[encoded data removed]",
      "text/plain": [
       "<Figure size 864x576 with 1 Axes>"
      ]
     },
     "metadata": {
      "needs_background": "light"
     },
     "output_type": "display_data"
    }
   ],
   "source": [
    "table = ( mkrf_movies.query('show_start_date_year >= 2015 and box_office != -1')\n",
    " .pivot_table(values='box_office', index='show_start_date_year', columns='age_restriction', aggfunc=[np.sum])\n",
    ")\n",
    "display(table)\n",
    "table.plot(style='-o', grid=True, figsize = (12,8))\n",
    "plt.show()"
   ]
  },
  {
   "cell_type": "markdown",
   "metadata": {},
   "source": [
    "На фильмы с возрастной категорией 0+ меньше всего приходится сборов. Самыми кассовыми cуммарно за 2015-2019гг. являются фильмы с пометкой 16+. При этом неуклонно растет спрос на фильмы, которые запрещены для детей; так на эти фильмы в 2019 пришёлся самый большой кассовый сбор."
   ]
  },
  {
   "cell_type": "markdown",
   "metadata": {},
   "source": [
    "<div class=\"alert alert-success\">\n",
    "\n",
    "**Артём:** 👍👍👍 Принято.\n",
    "\n",
    "</div>"
   ]
  },
  {
   "cell_type": "markdown",
   "metadata": {
    "id": "l_Kg6Ku4gFya"
   },
   "source": [
    "### Шаг 4. Исследуйте фильмы, которые получили государственную поддержку\n",
    "\n",
    "На этом этапе нет конкретных инструкций и заданий — поищите интересные закономерности в данных. Посмотрите, сколько выделяют средств на поддержку кино. Проверьте, хорошо ли окупаются такие фильмы, какой у них рейтинг."
   ]
  },
  {
   "cell_type": "markdown",
   "metadata": {
    "id": "W9QKpjUdgFyb"
   },
   "source": [
    "Для удобства создадим новый датафрейм, чтобы не затрагивать старый."
   ]
  },
  {
   "cell_type": "code",
   "execution_count": 55,
   "metadata": {},
   "outputs": [
    {
     "name": "stderr",
     "output_type": "stream",
     "text": [
      "/tmp/ipykernel_543/3582031523.py:3: SettingWithCopyWarning: \n",
      "A value is trying to be set on a copy of a slice from a DataFrame.\n",
      "Try using .loc[row_indexer,col_indexer] = value instead\n",
      "\n",
      "See the caveats in the documentation: https://pandas.pydata.org/pandas-docs/stable/user_guide/indexing.html#returning-a-view-versus-a-copy\n",
      "  mkrf_movies_support['profit'] = mkrf_movies_support['box_office'] - mkrf_movies_support['budget']\n",
      "/tmp/ipykernel_543/3582031523.py:5: SettingWithCopyWarning: \n",
      "A value is trying to be set on a copy of a slice from a DataFrame.\n",
      "Try using .loc[row_indexer,col_indexer] = value instead\n",
      "\n",
      "See the caveats in the documentation: https://pandas.pydata.org/pandas-docs/stable/user_guide/indexing.html#returning-a-view-versus-a-copy\n",
      "  mkrf_movies_support['relational_profit'] = mkrf_movies_support['box_office']/mkrf_movies_support['budget'] - 1\n",
      "/tmp/ipykernel_543/3582031523.py:7: SettingWithCopyWarning: \n",
      "A value is trying to be set on a copy of a slice from a DataFrame.\n",
      "Try using .loc[row_indexer,col_indexer] = value instead\n",
      "\n",
      "See the caveats in the documentation: https://pandas.pydata.org/pandas-docs/stable/user_guide/indexing.html#returning-a-view-versus-a-copy\n",
      "  mkrf_movies_support['balance'] = mkrf_movies_support['box_office'] - mkrf_movies_support['refundable_support']\n",
      "/tmp/ipykernel_543/3582031523.py:9: SettingWithCopyWarning: \n",
      "A value is trying to be set on a copy of a slice from a DataFrame.\n",
      "Try using .loc[row_indexer,col_indexer] = value instead\n",
      "\n",
      "See the caveats in the documentation: https://pandas.pydata.org/pandas-docs/stable/user_guide/indexing.html#returning-a-view-versus-a-copy\n",
      "  mkrf_movies_support['sum_support'] = mkrf_movies_support['refundable_support'] + mkrf_movies_support['nonrefundable_support']\n",
      "/tmp/ipykernel_543/3582031523.py:12: SettingWithCopyWarning: \n",
      "A value is trying to be set on a copy of a slice from a DataFrame.\n",
      "Try using .loc[row_indexer,col_indexer] = value instead\n",
      "\n",
      "See the caveats in the documentation: https://pandas.pydata.org/pandas-docs/stable/user_guide/indexing.html#returning-a-view-versus-a-copy\n",
      "  mkrf_movies_support['fraction_support'] = mkrf_movies_support['sum_support']/mkrf_movies_support['budget']\n"
     ]
    }
   ],
   "source": [
    "mkrf_movies_support = mkrf_movies.query('financing_source != \"Частный\"')\n",
    "#Столбец - (абсолютная) оккупаемость фильма\n",
    "mkrf_movies_support['profit'] = mkrf_movies_support['box_office'] - mkrf_movies_support['budget']\n",
    "#Столбец - (относительная) оккупаемость фильма\n",
    "mkrf_movies_support['relational_profit'] = mkrf_movies_support['box_office']/mkrf_movies_support['budget'] - 1\n",
    "#Столбец - возможный долг перед государством, т.е. баланс\n",
    "mkrf_movies_support['balance'] = mkrf_movies_support['box_office'] - mkrf_movies_support['refundable_support']\n",
    "#Столбец - общая гос. поддержка\n",
    "mkrf_movies_support['sum_support'] = mkrf_movies_support['refundable_support'] + mkrf_movies_support['nonrefundable_support']\n",
    "\n",
    "#Столбец - доля гос.поддержки фильма\n",
    "mkrf_movies_support['fraction_support'] = mkrf_movies_support['sum_support']/mkrf_movies_support['budget']"
   ]
  },
  {
   "cell_type": "markdown",
   "metadata": {},
   "source": [
    "<div class=\"alert alert-info\">\n",
    "\n",
    "**Артём:** ✍️ Копию датафрейма лучше сделать так, чтобы не изменить первоначальный датафрейм. Для этого в конце пишем `.copy()`:\n",
    "\n",
    "```py\n",
    "df_2 = df.loc[df['column'] >= value].copy()\n",
    "```\n",
    "\n",
    "</div>"
   ]
  },
  {
   "cell_type": "markdown",
   "metadata": {},
   "source": [
    "Выведем рейтинг фильмов по выделенной на них гос.поддержки."
   ]
  },
  {
   "cell_type": "code",
   "execution_count": 56,
   "metadata": {},
   "outputs": [
    {
     "data": {
      "text/html": [
       "<div>\n",
       "<style scoped>\n",
       "    .dataframe tbody tr th:only-of-type {\n",
       "        vertical-align: middle;\n",
       "    }\n",
       "\n",
       "    .dataframe tbody tr th {\n",
       "        vertical-align: top;\n",
       "    }\n",
       "\n",
       "    .dataframe thead th {\n",
       "        text-align: right;\n",
       "    }\n",
       "</style>\n",
       "<table border=\"1\" class=\"dataframe\">\n",
       "  <thead>\n",
       "    <tr style=\"text-align: right;\">\n",
       "      <th></th>\n",
       "      <th>index</th>\n",
       "      <th>title</th>\n",
       "      <th>balance</th>\n",
       "      <th>profit</th>\n",
       "      <th>relational_profit</th>\n",
       "      <th>sum_support</th>\n",
       "    </tr>\n",
       "  </thead>\n",
       "  <tbody>\n",
       "    <tr>\n",
       "      <th>0</th>\n",
       "      <td>3245</td>\n",
       "      <td>Молот</td>\n",
       "      <td>32,710,161.5</td>\n",
       "      <td>-42,289,838.5</td>\n",
       "      <td>-0.3</td>\n",
       "      <td>130,000,000.0</td>\n",
       "    </tr>\n",
       "    <tr>\n",
       "      <th>1</th>\n",
       "      <td>6861</td>\n",
       "      <td>Фиксики против кработов</td>\n",
       "      <td>307,590,521.7</td>\n",
       "      <td>267,590,521.7</td>\n",
       "      <td>2.2</td>\n",
       "      <td>120,000,000.0</td>\n",
       "    </tr>\n",
       "    <tr>\n",
       "      <th>2</th>\n",
       "      <td>6040</td>\n",
       "      <td>Волки и Овцы: Ход Свиньей</td>\n",
       "      <td>48,195,236.2</td>\n",
       "      <td>-11,804,763.8</td>\n",
       "      <td>-0.1</td>\n",
       "      <td>120,000,000.0</td>\n",
       "    </tr>\n",
       "    <tr>\n",
       "      <th>3</th>\n",
       "      <td>6006</td>\n",
       "      <td>Снежная Королева: Зазеркалье</td>\n",
       "      <td>125,318,326.0</td>\n",
       "      <td>65,318,326.0</td>\n",
       "      <td>0.5</td>\n",
       "      <td>120,000,000.0</td>\n",
       "    </tr>\n",
       "    <tr>\n",
       "      <th>4</th>\n",
       "      <td>5779</td>\n",
       "      <td>СУПЕРБОБРОВЫ. НАРОДНЫЕ МСТИТЕЛИ</td>\n",
       "      <td>144,731,757.6</td>\n",
       "      <td>64,731,757.6</td>\n",
       "      <td>0.5</td>\n",
       "      <td>120,000,000.0</td>\n",
       "    </tr>\n",
       "    <tr>\n",
       "      <th>5</th>\n",
       "      <td>6543</td>\n",
       "      <td>Тайна Печати Дракона</td>\n",
       "      <td>315,597,059.6</td>\n",
       "      <td>103,089,629.3</td>\n",
       "      <td>0.4</td>\n",
       "      <td>108,000,000.0</td>\n",
       "    </tr>\n",
       "    <tr>\n",
       "      <th>6</th>\n",
       "      <td>5419</td>\n",
       "      <td>Вечная жизнь Александра Христофорова</td>\n",
       "      <td>1,293,657.4</td>\n",
       "      <td>-83,706,342.6</td>\n",
       "      <td>-0.8</td>\n",
       "      <td>105,000,000.0</td>\n",
       "    </tr>\n",
       "    <tr>\n",
       "      <th>7</th>\n",
       "      <td>6886</td>\n",
       "      <td>(Не)идеальный мужчина</td>\n",
       "      <td>-40,000,001.0</td>\n",
       "      <td>-100,000,001.0</td>\n",
       "      <td>-1.0</td>\n",
       "      <td>100,000,000.0</td>\n",
       "    </tr>\n",
       "    <tr>\n",
       "      <th>8</th>\n",
       "      <td>5953</td>\n",
       "      <td>Ёлки Последние</td>\n",
       "      <td>626,507,030.3</td>\n",
       "      <td>601,507,030.3</td>\n",
       "      <td>6.0</td>\n",
       "      <td>100,000,000.0</td>\n",
       "    </tr>\n",
       "    <tr>\n",
       "      <th>9</th>\n",
       "      <td>5110</td>\n",
       "      <td>Ёлки Новые</td>\n",
       "      <td>805,451,052.0</td>\n",
       "      <td>755,451,052.0</td>\n",
       "      <td>7.6</td>\n",
       "      <td>100,000,000.0</td>\n",
       "    </tr>\n",
       "  </tbody>\n",
       "</table>\n",
       "</div>"
      ],
      "text/plain": [
       "   index                                 title       balance         profit  \\\n",
       "0   3245                                 Молот  32,710,161.5  -42,289,838.5   \n",
       "1   6861               Фиксики против кработов 307,590,521.7  267,590,521.7   \n",
       "2   6040             Волки и Овцы: Ход Свиньей  48,195,236.2  -11,804,763.8   \n",
       "3   6006          Снежная Королева: Зазеркалье 125,318,326.0   65,318,326.0   \n",
       "4   5779       СУПЕРБОБРОВЫ. НАРОДНЫЕ МСТИТЕЛИ 144,731,757.6   64,731,757.6   \n",
       "5   6543                  Тайна Печати Дракона 315,597,059.6  103,089,629.3   \n",
       "6   5419  Вечная жизнь Александра Христофорова   1,293,657.4  -83,706,342.6   \n",
       "7   6886                 (Не)идеальный мужчина -40,000,001.0 -100,000,001.0   \n",
       "8   5953                        Ёлки Последние 626,507,030.3  601,507,030.3   \n",
       "9   5110                            Ёлки Новые 805,451,052.0  755,451,052.0   \n",
       "\n",
       "   relational_profit   sum_support  \n",
       "0               -0.3 130,000,000.0  \n",
       "1                2.2 120,000,000.0  \n",
       "2               -0.1 120,000,000.0  \n",
       "3                0.5 120,000,000.0  \n",
       "4                0.5 120,000,000.0  \n",
       "5                0.4 108,000,000.0  \n",
       "6               -0.8 105,000,000.0  \n",
       "7               -1.0 100,000,000.0  \n",
       "8                6.0 100,000,000.0  \n",
       "9                7.6 100,000,000.0  "
      ]
     },
     "metadata": {},
     "output_type": "display_data"
    }
   ],
   "source": [
    "mkrf_movies_support = mkrf_movies_support.sort_values(by='sum_support', ascending=False)\n",
    "display(mkrf_movies_support[['title','balance','profit','relational_profit','sum_support']].head(10).reset_index())"
   ]
  },
  {
   "cell_type": "markdown",
   "metadata": {},
   "source": [
    "Замечаем, что \"Молот\" является фильмом с самой большой гос.поддержкой, при этом он убыточный, но без долгов перед государством. Видим, что \"Фиксики против кработов\" - самый удачный фильм, поддержанный государством. Также бросается в глаза фильм \"(Не)идеальный мужчина\" из-за того, что убыток численно равен гос.поддержке, возможно, это связано с тем, что фильм не вышел в прокат."
   ]
  },
  {
   "cell_type": "markdown",
   "metadata": {},
   "source": [
    "Проверим этот фильм."
   ]
  },
  {
   "cell_type": "code",
   "execution_count": 57,
   "metadata": {},
   "outputs": [
    {
     "data": {
      "text/html": [
       "<div>\n",
       "<style scoped>\n",
       "    .dataframe tbody tr th:only-of-type {\n",
       "        vertical-align: middle;\n",
       "    }\n",
       "\n",
       "    .dataframe tbody tr th {\n",
       "        vertical-align: top;\n",
       "    }\n",
       "\n",
       "    .dataframe thead th {\n",
       "        text-align: right;\n",
       "    }\n",
       "</style>\n",
       "<table border=\"1\" class=\"dataframe\">\n",
       "  <thead>\n",
       "    <tr style=\"text-align: right;\">\n",
       "      <th></th>\n",
       "      <th>title</th>\n",
       "      <th>puNumber</th>\n",
       "      <th>show_start_date</th>\n",
       "      <th>type</th>\n",
       "      <th>film_studio</th>\n",
       "      <th>production_country</th>\n",
       "      <th>director</th>\n",
       "      <th>producer</th>\n",
       "      <th>age_restriction</th>\n",
       "      <th>refundable_support</th>\n",
       "      <th>...</th>\n",
       "      <th>box_office</th>\n",
       "      <th>show_start_date_year</th>\n",
       "      <th>main_director</th>\n",
       "      <th>main_genres</th>\n",
       "      <th>support_ratio</th>\n",
       "      <th>profit</th>\n",
       "      <th>relational_profit</th>\n",
       "      <th>balance</th>\n",
       "      <th>sum_support</th>\n",
       "      <th>fraction_support</th>\n",
       "    </tr>\n",
       "  </thead>\n",
       "  <tbody>\n",
       "    <tr>\n",
       "      <th>6886</th>\n",
       "      <td>(Не)идеальный мужчина</td>\n",
       "      <td>111023119</td>\n",
       "      <td>2019-12-24 12:00:00</td>\n",
       "      <td>Художественный</td>\n",
       "      <td>ООО \"Нон-Стоп Продакшн\"</td>\n",
       "      <td>Россия</td>\n",
       "      <td>М.Бальчюнас (псевдоним М.Вайсберг)</td>\n",
       "      <td>С.Мелькумов, А.Роднянский, М.Вайсберг, Р.Минас...</td>\n",
       "      <td>«12+» - для детей старше 12 лет</td>\n",
       "      <td>40,000,000.0</td>\n",
       "      <td>...</td>\n",
       "      <td>-1.0</td>\n",
       "      <td>2019</td>\n",
       "      <td>М.Бальчюнас (псевдоним М.Вайсберг)</td>\n",
       "      <td>комедия</td>\n",
       "      <td>1.0</td>\n",
       "      <td>-100,000,001.0</td>\n",
       "      <td>-1.0</td>\n",
       "      <td>-40,000,001.0</td>\n",
       "      <td>100,000,000.0</td>\n",
       "      <td>1.0</td>\n",
       "    </tr>\n",
       "  </tbody>\n",
       "</table>\n",
       "<p>1 rows × 25 columns</p>\n",
       "</div>"
      ],
      "text/plain": [
       "                      title   puNumber     show_start_date            type  \\\n",
       "6886  (Не)идеальный мужчина  111023119 2019-12-24 12:00:00  Художественный   \n",
       "\n",
       "                  film_studio production_country  \\\n",
       "6886  ООО \"Нон-Стоп Продакшн\"             Россия   \n",
       "\n",
       "                                director  \\\n",
       "6886  М.Бальчюнас (псевдоним М.Вайсберг)   \n",
       "\n",
       "                                               producer  \\\n",
       "6886  С.Мелькумов, А.Роднянский, М.Вайсберг, Р.Минас...   \n",
       "\n",
       "                      age_restriction  refundable_support  ...  box_office  \\\n",
       "6886  «12+» - для детей старше 12 лет        40,000,000.0  ...        -1.0   \n",
       "\n",
       "      show_start_date_year                       main_director  main_genres  \\\n",
       "6886                  2019  М.Бальчюнас (псевдоним М.Вайсберг)      комедия   \n",
       "\n",
       "     support_ratio         profit  relational_profit       balance  \\\n",
       "6886           1.0 -100,000,001.0               -1.0 -40,000,001.0   \n",
       "\n",
       "       sum_support  fraction_support  \n",
       "6886 100,000,000.0               1.0  \n",
       "\n",
       "[1 rows x 25 columns]"
      ]
     },
     "metadata": {},
     "output_type": "display_data"
    }
   ],
   "source": [
    "display(mkrf_movies_support.query('title == \"(Не)идеальный мужчина\"'))"
   ]
  },
  {
   "cell_type": "markdown",
   "metadata": {},
   "source": [
    "Да, так и есть, кассовые сборы равны 0. (столбец - \"box_office\")."
   ]
  },
  {
   "cell_type": "markdown",
   "metadata": {},
   "source": [
    "<div class=\"alert alert-success\">\n",
    "\n",
    "**Артём:** 👍👍👍 Хорошо.\n",
    "\n",
    "</div>"
   ]
  },
  {
   "cell_type": "markdown",
   "metadata": {},
   "source": [
    "Теперь составим рейтинг окупаемости всех фильмов с гос.поддержкой по абсолютным и относительным показателям."
   ]
  },
  {
   "cell_type": "code",
   "execution_count": 58,
   "metadata": {
    "scrolled": true
   },
   "outputs": [
    {
     "data": {
      "text/html": [
       "<div>\n",
       "<style scoped>\n",
       "    .dataframe tbody tr th:only-of-type {\n",
       "        vertical-align: middle;\n",
       "    }\n",
       "\n",
       "    .dataframe tbody tr th {\n",
       "        vertical-align: top;\n",
       "    }\n",
       "\n",
       "    .dataframe thead th {\n",
       "        text-align: right;\n",
       "    }\n",
       "</style>\n",
       "<table border=\"1\" class=\"dataframe\">\n",
       "  <thead>\n",
       "    <tr style=\"text-align: right;\">\n",
       "      <th></th>\n",
       "      <th>index</th>\n",
       "      <th>title</th>\n",
       "      <th>profit</th>\n",
       "    </tr>\n",
       "  </thead>\n",
       "  <tbody>\n",
       "    <tr>\n",
       "      <th>0</th>\n",
       "      <td>5292</td>\n",
       "      <td>Тренер</td>\n",
       "      <td>781,508,891.3</td>\n",
       "    </tr>\n",
       "    <tr>\n",
       "      <th>1</th>\n",
       "      <td>5110</td>\n",
       "      <td>Ёлки Новые</td>\n",
       "      <td>755,451,052.0</td>\n",
       "    </tr>\n",
       "    <tr>\n",
       "      <th>2</th>\n",
       "      <td>5128</td>\n",
       "      <td>Три богатыря и принцесса Египта</td>\n",
       "      <td>709,226,773.0</td>\n",
       "    </tr>\n",
       "    <tr>\n",
       "      <th>3</th>\n",
       "      <td>5001</td>\n",
       "      <td>Салют-7</td>\n",
       "      <td>703,306,381.3</td>\n",
       "    </tr>\n",
       "    <tr>\n",
       "      <th>4</th>\n",
       "      <td>2693</td>\n",
       "      <td>Иван Царевич и Серый Волк 3</td>\n",
       "      <td>664,928,216.0</td>\n",
       "    </tr>\n",
       "    <tr>\n",
       "      <th>5</th>\n",
       "      <td>2299</td>\n",
       "      <td>Самый Лучший День</td>\n",
       "      <td>620,029,061.4</td>\n",
       "    </tr>\n",
       "    <tr>\n",
       "      <th>6</th>\n",
       "      <td>6872</td>\n",
       "      <td>Союз спасения</td>\n",
       "      <td>619,703,185.5</td>\n",
       "    </tr>\n",
       "    <tr>\n",
       "      <th>7</th>\n",
       "      <td>5953</td>\n",
       "      <td>Ёлки Последние</td>\n",
       "      <td>601,507,030.3</td>\n",
       "    </tr>\n",
       "    <tr>\n",
       "      <th>8</th>\n",
       "      <td>5923</td>\n",
       "      <td>Три богатыря и наследница престола</td>\n",
       "      <td>558,818,782.8</td>\n",
       "    </tr>\n",
       "    <tr>\n",
       "      <th>9</th>\n",
       "      <td>5068</td>\n",
       "      <td>Легенда о Коловрате</td>\n",
       "      <td>540,403,792.1</td>\n",
       "    </tr>\n",
       "  </tbody>\n",
       "</table>\n",
       "</div>"
      ],
      "text/plain": [
       "   index                               title        profit\n",
       "0   5292                              Тренер 781,508,891.3\n",
       "1   5110                          Ёлки Новые 755,451,052.0\n",
       "2   5128     Три богатыря и принцесса Египта 709,226,773.0\n",
       "3   5001                             Салют-7 703,306,381.3\n",
       "4   2693         Иван Царевич и Серый Волк 3 664,928,216.0\n",
       "5   2299                   Самый Лучший День 620,029,061.4\n",
       "6   6872                       Союз спасения 619,703,185.5\n",
       "7   5953                      Ёлки Последние 601,507,030.3\n",
       "8   5923  Три богатыря и наследница престола 558,818,782.8\n",
       "9   5068                 Легенда о Коловрате 540,403,792.1"
      ]
     },
     "metadata": {},
     "output_type": "display_data"
    },
    {
     "data": {
      "text/html": [
       "<div>\n",
       "<style scoped>\n",
       "    .dataframe tbody tr th:only-of-type {\n",
       "        vertical-align: middle;\n",
       "    }\n",
       "\n",
       "    .dataframe tbody tr th {\n",
       "        vertical-align: top;\n",
       "    }\n",
       "\n",
       "    .dataframe thead th {\n",
       "        text-align: right;\n",
       "    }\n",
       "</style>\n",
       "<table border=\"1\" class=\"dataframe\">\n",
       "  <thead>\n",
       "    <tr style=\"text-align: right;\">\n",
       "      <th></th>\n",
       "      <th>index</th>\n",
       "      <th>title</th>\n",
       "      <th>relational_profit</th>\n",
       "    </tr>\n",
       "  </thead>\n",
       "  <tbody>\n",
       "    <tr>\n",
       "      <th>0</th>\n",
       "      <td>5923</td>\n",
       "      <td>Три богатыря и наследница престола</td>\n",
       "      <td>30.1</td>\n",
       "    </tr>\n",
       "    <tr>\n",
       "      <th>1</th>\n",
       "      <td>6874</td>\n",
       "      <td>Иван Царевич и Серый Волк 4</td>\n",
       "      <td>25.4</td>\n",
       "    </tr>\n",
       "    <tr>\n",
       "      <th>2</th>\n",
       "      <td>5292</td>\n",
       "      <td>Тренер</td>\n",
       "      <td>20.0</td>\n",
       "    </tr>\n",
       "    <tr>\n",
       "      <th>3</th>\n",
       "      <td>2693</td>\n",
       "      <td>Иван Царевич и Серый Волк 3</td>\n",
       "      <td>16.6</td>\n",
       "    </tr>\n",
       "    <tr>\n",
       "      <th>4</th>\n",
       "      <td>6290</td>\n",
       "      <td>Миллиард</td>\n",
       "      <td>16.0</td>\n",
       "    </tr>\n",
       "    <tr>\n",
       "      <th>5</th>\n",
       "      <td>5001</td>\n",
       "      <td>Салют-7</td>\n",
       "      <td>14.2</td>\n",
       "    </tr>\n",
       "    <tr>\n",
       "      <th>6</th>\n",
       "      <td>5128</td>\n",
       "      <td>Три богатыря и принцесса Египта</td>\n",
       "      <td>14.2</td>\n",
       "    </tr>\n",
       "    <tr>\n",
       "      <th>7</th>\n",
       "      <td>3172</td>\n",
       "      <td>Ёлки 5</td>\n",
       "      <td>13.3</td>\n",
       "    </tr>\n",
       "    <tr>\n",
       "      <th>8</th>\n",
       "      <td>5068</td>\n",
       "      <td>Легенда о Коловрате</td>\n",
       "      <td>10.8</td>\n",
       "    </tr>\n",
       "    <tr>\n",
       "      <th>9</th>\n",
       "      <td>2299</td>\n",
       "      <td>Самый Лучший День</td>\n",
       "      <td>9.8</td>\n",
       "    </tr>\n",
       "  </tbody>\n",
       "</table>\n",
       "</div>"
      ],
      "text/plain": [
       "   index                               title  relational_profit\n",
       "0   5923  Три богатыря и наследница престола               30.1\n",
       "1   6874         Иван Царевич и Серый Волк 4               25.4\n",
       "2   5292                              Тренер               20.0\n",
       "3   2693         Иван Царевич и Серый Волк 3               16.6\n",
       "4   6290                            Миллиард               16.0\n",
       "5   5001                             Салют-7               14.2\n",
       "6   5128     Три богатыря и принцесса Египта               14.2\n",
       "7   3172                              Ёлки 5               13.3\n",
       "8   5068                 Легенда о Коловрате               10.8\n",
       "9   2299                   Самый Лучший День                9.8"
      ]
     },
     "metadata": {},
     "output_type": "display_data"
    },
    {
     "data": {
      "image/png": "[encoded data removed]",
      "text/plain": [
       "<Figure size 720x432 with 1 Axes>"
      ]
     },
     "metadata": {
      "needs_background": "light"
     },
     "output_type": "display_data"
    },
    {
     "data": {
      "image/png": "[encoded data removed]",
      "text/plain": [
       "<Figure size 720x432 with 1 Axes>"
      ]
     },
     "metadata": {
      "needs_background": "light"
     },
     "output_type": "display_data"
    }
   ],
   "source": [
    "mkrf_movies_support = mkrf_movies_support.sort_values(by='profit', ascending=False)\n",
    "display(mkrf_movies_support[['title','profit']].head(10).reset_index())\n",
    "mkrf_movies_support = mkrf_movies_support.sort_values(by='relational_profit', ascending=False)\n",
    "display(mkrf_movies_support[['title','relational_profit']].head(10).reset_index())\n",
    "\n",
    "mkrf_movies_support = mkrf_movies_support.sort_values(by='profit', ascending=False)\n",
    "(mkrf_movies_support[['title','profit']].head(10).reset_index()\n",
    " .plot(title = 'Рейтинг окупаемости фильмов по абсолютным показателям', x='title', y='profit', kind='bar',\n",
    "       grid=True, figsize=(10,6)))\n",
    "plt.show()\n",
    "mkrf_movies_support = mkrf_movies_support.sort_values(by='relational_profit', ascending=False)\n",
    "(mkrf_movies_support[['title','relational_profit']].head(10).reset_index()\n",
    " .plot(title = 'Рейтинг окупаемости фильмов по относительным показателям', x='title', y='relational_profit', \n",
    "       kind='bar', grid=True, figsize=(10,6)))\n",
    "plt.show()"
   ]
  },
  {
   "cell_type": "markdown",
   "metadata": {},
   "source": [
    "В итоге получаем, что лучше всего окупаются фильмы \"Тренер\", \"Ёлки Новые\", \"Три богатыря и принцесса Египта\" по абсолютным показателям, по относительным (т.е. в сравнении сборов с фильма и его бюджета) выходят фильмы \"Три богатыря и наследница престола\", \"Иван Царевич и Серый Волк 4\", \"Тренер\". Следовательно, можем предварительно сделать вывод: более удачный фильм с точки зрения окупаемости - \"Тренер\"."
   ]
  },
  {
   "cell_type": "markdown",
   "metadata": {},
   "source": [
    "<div class=\"alert alert-success\">\n",
    "\n",
    "**Артём:** 👍👍👍 Интересно.\n",
    "\n",
    "</div>"
   ]
  },
  {
   "cell_type": "markdown",
   "metadata": {},
   "source": [
    "Перейдем к сортировке фильмов по рейтингу, составленному на КиноПоиске. Выведем топ-10 таких фильмов."
   ]
  },
  {
   "cell_type": "code",
   "execution_count": 59,
   "metadata": {
    "scrolled": true
   },
   "outputs": [
    {
     "data": {
      "text/html": [
       "<div>\n",
       "<style scoped>\n",
       "    .dataframe tbody tr th:only-of-type {\n",
       "        vertical-align: middle;\n",
       "    }\n",
       "\n",
       "    .dataframe tbody tr th {\n",
       "        vertical-align: top;\n",
       "    }\n",
       "\n",
       "    .dataframe thead th {\n",
       "        text-align: right;\n",
       "    }\n",
       "</style>\n",
       "<table border=\"1\" class=\"dataframe\">\n",
       "  <thead>\n",
       "    <tr style=\"text-align: right;\">\n",
       "      <th></th>\n",
       "      <th>index</th>\n",
       "      <th>title</th>\n",
       "      <th>balance</th>\n",
       "      <th>profit</th>\n",
       "      <th>relational_profit</th>\n",
       "      <th>ratings</th>\n",
       "    </tr>\n",
       "  </thead>\n",
       "  <tbody>\n",
       "    <tr>\n",
       "      <th>0</th>\n",
       "      <td>3189</td>\n",
       "      <td>БОЛЬШОЙ</td>\n",
       "      <td>218,578,204.0</td>\n",
       "      <td>196,578,204.0</td>\n",
       "      <td>6.1</td>\n",
       "      <td>8.5</td>\n",
       "    </tr>\n",
       "    <tr>\n",
       "      <th>1</th>\n",
       "      <td>6290</td>\n",
       "      <td>Миллиард</td>\n",
       "      <td>408,646,665.7</td>\n",
       "      <td>384,642,535.0</td>\n",
       "      <td>16.0</td>\n",
       "      <td>8.2</td>\n",
       "    </tr>\n",
       "    <tr>\n",
       "      <th>2</th>\n",
       "      <td>1041</td>\n",
       "      <td>Пока еще жива</td>\n",
       "      <td>365,353.6</td>\n",
       "      <td>-79,046,546.4</td>\n",
       "      <td>-1.0</td>\n",
       "      <td>8.1</td>\n",
       "    </tr>\n",
       "    <tr>\n",
       "      <th>3</th>\n",
       "      <td>6606</td>\n",
       "      <td>Байкал - Сердце мира 3D</td>\n",
       "      <td>-1.0</td>\n",
       "      <td>-33,000,001.0</td>\n",
       "      <td>-1.0</td>\n",
       "      <td>8.0</td>\n",
       "    </tr>\n",
       "    <tr>\n",
       "      <th>4</th>\n",
       "      <td>3341</td>\n",
       "      <td>Мотылёк.</td>\n",
       "      <td>-6,936,823.0</td>\n",
       "      <td>-62,759,942.0</td>\n",
       "      <td>-1.0</td>\n",
       "      <td>8.0</td>\n",
       "    </tr>\n",
       "    <tr>\n",
       "      <th>5</th>\n",
       "      <td>2103</td>\n",
       "      <td>Однажды._</td>\n",
       "      <td>12,748,398.3</td>\n",
       "      <td>-84,251,601.7</td>\n",
       "      <td>-0.9</td>\n",
       "      <td>7.9</td>\n",
       "    </tr>\n",
       "    <tr>\n",
       "      <th>6</th>\n",
       "      <td>6674</td>\n",
       "      <td>Герой</td>\n",
       "      <td>152,871,342.0</td>\n",
       "      <td>142,871,342.0</td>\n",
       "      <td>4.8</td>\n",
       "      <td>7.9</td>\n",
       "    </tr>\n",
       "    <tr>\n",
       "      <th>7</th>\n",
       "      <td>2093</td>\n",
       "      <td>Воин (2015)</td>\n",
       "      <td>186,572,438.4</td>\n",
       "      <td>116,572,438.4</td>\n",
       "      <td>1.5</td>\n",
       "      <td>7.8</td>\n",
       "    </tr>\n",
       "    <tr>\n",
       "      <th>8</th>\n",
       "      <td>6742</td>\n",
       "      <td>Успех</td>\n",
       "      <td>-1,818,782.0</td>\n",
       "      <td>-71,818,782.0</td>\n",
       "      <td>-1.0</td>\n",
       "      <td>7.8</td>\n",
       "    </tr>\n",
       "    <tr>\n",
       "      <th>9</th>\n",
       "      <td>3219</td>\n",
       "      <td>Простая история .</td>\n",
       "      <td>58,720.0</td>\n",
       "      <td>-63,941,280.0</td>\n",
       "      <td>-1.0</td>\n",
       "      <td>7.8</td>\n",
       "    </tr>\n",
       "  </tbody>\n",
       "</table>\n",
       "</div>"
      ],
      "text/plain": [
       "   index                    title       balance        profit  \\\n",
       "0   3189                  БОЛЬШОЙ 218,578,204.0 196,578,204.0   \n",
       "1   6290                 Миллиард 408,646,665.7 384,642,535.0   \n",
       "2   1041            Пока еще жива     365,353.6 -79,046,546.4   \n",
       "3   6606  Байкал - Сердце мира 3D          -1.0 -33,000,001.0   \n",
       "4   3341                 Мотылёк.  -6,936,823.0 -62,759,942.0   \n",
       "5   2103                Однажды._  12,748,398.3 -84,251,601.7   \n",
       "6   6674                    Герой 152,871,342.0 142,871,342.0   \n",
       "7   2093              Воин (2015) 186,572,438.4 116,572,438.4   \n",
       "8   6742                    Успех  -1,818,782.0 -71,818,782.0   \n",
       "9   3219        Простая история .      58,720.0 -63,941,280.0   \n",
       "\n",
       "   relational_profit  ratings  \n",
       "0                6.1      8.5  \n",
       "1               16.0      8.2  \n",
       "2               -1.0      8.1  \n",
       "3               -1.0      8.0  \n",
       "4               -1.0      8.0  \n",
       "5               -0.9      7.9  \n",
       "6                4.8      7.9  \n",
       "7                1.5      7.8  \n",
       "8               -1.0      7.8  \n",
       "9               -1.0      7.8  "
      ]
     },
     "metadata": {},
     "output_type": "display_data"
    },
    {
     "data": {
      "image/png": "[encoded data removed]",
      "text/plain": [
       "<Figure size 720x432 with 1 Axes>"
      ]
     },
     "metadata": {
      "needs_background": "light"
     },
     "output_type": "display_data"
    }
   ],
   "source": [
    "mkrf_movies_support = mkrf_movies_support.sort_values(by='ratings', ascending=False)\n",
    "display(mkrf_movies_support[['title','balance','profit','relational_profit','ratings']].head(10).reset_index())\n",
    "\n",
    "(mkrf_movies_support[['title','ratings']].head(10).reset_index()\n",
    " .plot(title = 'Рейтинг фильмов', x='title', y='ratings', kind='bar',\n",
    "       grid=True, figsize=(10,6)))\n",
    "plt.show()"
   ]
  },
  {
   "cell_type": "markdown",
   "metadata": {},
   "source": [
    "Видим, что в топ-3 вышли фильмы \"БОЛЬШОЙ\", \"Миллиард\", \"Пока еще жива\". При этом 3-й фильм является убыточным."
   ]
  },
  {
   "cell_type": "markdown",
   "metadata": {},
   "source": [
    "Можем выяснить среднюю и медианную долю гос.поддержки фильмов за период 2010-2019 гг., чтобы понять, как обстоят дела с финансами. Для этого построим таблицы и график."
   ]
  },
  {
   "cell_type": "code",
   "execution_count": 60,
   "metadata": {
    "scrolled": true
   },
   "outputs": [
    {
     "data": {
      "text/html": [
       "<div>\n",
       "<style scoped>\n",
       "    .dataframe tbody tr th:only-of-type {\n",
       "        vertical-align: middle;\n",
       "    }\n",
       "\n",
       "    .dataframe tbody tr th {\n",
       "        vertical-align: top;\n",
       "    }\n",
       "\n",
       "    .dataframe thead tr th {\n",
       "        text-align: left;\n",
       "    }\n",
       "\n",
       "    .dataframe thead tr:last-of-type th {\n",
       "        text-align: right;\n",
       "    }\n",
       "</style>\n",
       "<table border=\"1\" class=\"dataframe\">\n",
       "  <thead>\n",
       "    <tr>\n",
       "      <th></th>\n",
       "      <th>mean</th>\n",
       "      <th>median</th>\n",
       "    </tr>\n",
       "    <tr>\n",
       "      <th></th>\n",
       "      <th>fraction_support</th>\n",
       "      <th>fraction_support</th>\n",
       "    </tr>\n",
       "    <tr>\n",
       "      <th>show_start_date_year</th>\n",
       "      <th></th>\n",
       "      <th></th>\n",
       "    </tr>\n",
       "  </thead>\n",
       "  <tbody>\n",
       "    <tr>\n",
       "      <th>2013</th>\n",
       "      <td>0.5</td>\n",
       "      <td>0.5</td>\n",
       "    </tr>\n",
       "    <tr>\n",
       "      <th>2014</th>\n",
       "      <td>0.6</td>\n",
       "      <td>0.7</td>\n",
       "    </tr>\n",
       "    <tr>\n",
       "      <th>2015</th>\n",
       "      <td>0.7</td>\n",
       "      <td>0.7</td>\n",
       "    </tr>\n",
       "    <tr>\n",
       "      <th>2016</th>\n",
       "      <td>0.7</td>\n",
       "      <td>0.7</td>\n",
       "    </tr>\n",
       "    <tr>\n",
       "      <th>2017</th>\n",
       "      <td>0.7</td>\n",
       "      <td>0.6</td>\n",
       "    </tr>\n",
       "    <tr>\n",
       "      <th>2018</th>\n",
       "      <td>0.8</td>\n",
       "      <td>0.7</td>\n",
       "    </tr>\n",
       "    <tr>\n",
       "      <th>2019</th>\n",
       "      <td>0.7</td>\n",
       "      <td>0.7</td>\n",
       "    </tr>\n",
       "  </tbody>\n",
       "</table>\n",
       "</div>"
      ],
      "text/plain": [
       "                                 mean           median\n",
       "                     fraction_support fraction_support\n",
       "show_start_date_year                                  \n",
       "2013                              0.5              0.5\n",
       "2014                              0.6              0.7\n",
       "2015                              0.7              0.7\n",
       "2016                              0.7              0.7\n",
       "2017                              0.7              0.6\n",
       "2018                              0.8              0.7\n",
       "2019                              0.7              0.7"
      ]
     },
     "metadata": {},
     "output_type": "display_data"
    },
    {
     "data": {
      "image/png": "[encoded data removed]",
      "text/plain": [
       "<Figure size 864x576 with 1 Axes>"
      ]
     },
     "metadata": {
      "needs_background": "light"
     },
     "output_type": "display_data"
    }
   ],
   "source": [
    "table = (mkrf_movies_support.pivot_table(values='fraction_support', index='show_start_date_year', aggfunc=[np.mean, np.median]))\n",
    "display(table)\n",
    "(table\n",
    " .plot(style='-o', grid=True, title='среднюю и медианную долю гос.поддержки фильмов за период 2010-2019 гг.', \n",
    "      figsize=(12,8)))\n",
    "plt.show()"
   ]
  },
  {
   "cell_type": "markdown",
   "metadata": {},
   "source": [
    "Данный график даёт понять, что до 2013 года фильмы не пользовались гос.поддержкой, с 2014 года наблюдается тренд к повышению доли гос.поддержки фильма, так в 2018 году этот показатель достиг отметки больше 75% по среднему значению и больше 65% по медианному."
   ]
  },
  {
   "cell_type": "markdown",
   "metadata": {},
   "source": [
    "<div class=\"alert alert-success\">\n",
    "\n",
    "**Артём:** 👍👍👍 Тоже интересно.\n",
    "\n",
    "</div>"
   ]
  },
  {
   "cell_type": "markdown",
   "metadata": {
    "id": "V2gYwMcPgFyd"
   },
   "source": [
    "### Шаг 5. Напишите общий вывод"
   ]
  },
  {
   "cell_type": "markdown",
   "metadata": {},
   "source": [
    "**Итоговый вывод:** В данном проекте был изучен рынок российского кинопроката, где были пропущены данные, присутствовали выбивающиеся значения, которые не позволяли корректно анализировать информацию, были обнаружены дубликаты названий одной и той же страны, но по-разному отражены, например: 'Чехия' и 'Чешская республика' и т.д., также был один столбец данных был записан в некорректном формате.\\\n",
    "\\\n",
    "В столбце 'ratings' пропуски заполнялись медианным значением.\\\n",
    "В столбцах 'financing_source', 'genres' - значениями 'частный','другое', соответственно.\\\n",
    "В столбцах 'refundable_support', 'nonrefundable_support', 'box_office' - значением 0.\\\n",
    "Строки с пустыми значениями в столбцах 'film_studio', 'production_country', 'director', 'producer' удалялись. \\\n",
    "\\\n",
    "Аномальные значения исправлялись так, что при дальнейшем анализе данных учитывались фильмы с гос.поддержкой (возвратной и невозвратной), бюджетом, кассовым сбором меньше 100 000 000 руб.\n",
    "\\\n",
    "Дубликаты названий стран-производителей были заменены простой функцией, которая убирала ненужные пробелы, заменяла знаки препинания на нужные символы. Дубликаты также пришлось в столбцах, связанных с типом фильма и студии-производителем фильма, применив функцию strip, которая удалила пробелы в начале и конце строк.\\\n",
    "\\\n",
    "Затем был проведен анализ данных, где обнаружено, пик выхода фильмов в прокат в период 2010-2019 гг. пришёлся на 2010 год, Также выявлено: минимальная сумма сборов была в 2013 году, она составила 528 238 800 руб.; максимальная сумма сборов - в 2017 году, составила 10 340 300 000 руб. При этом неуклонно растет спрос на фильмы, которые запрещены для детей.\\\n",
    "\\\n",
    "Также сортировались фильмы с гос. поддержкой, где анализировались данные: сколько выделяют средств на поддержку кино, как хорошо окупаются такие фильмы, какой у них рейтинг. Были получены выводы: фильм \"Тренер\" - самый успешный; высокий рейтинг фильма на КиноПоиске или самая большая гос.поддержка фильма вовсе не означает, что фильм окупаемый.; с каждым годом растёт гос.поддежрка фильма."
   ]
  },
  {
   "cell_type": "markdown",
   "metadata": {},
   "source": [
    "**Итоговый вывод *(ver. 2)*:** В данном проекте был изучен рынок российского кинопроката, где были пропущены данные, присутствовали выбивающиеся значения, которые не позволяли корректно анализировать информацию, были обнаружены дубликаты названий одной и той же страны, но по-разному отражены, например: 'Чехия' и 'Чешская республика' и т.д., также был один столбец данных был записан в некорректном формате.\\\n",
    "\\\n",
    "В столбцах 'refundable_support', 'nonrefundable_support', 'box_office', 'ratings' пропуски заполнялись значением -1.\\\n",
    "В столбцах 'financing_source', 'genres' - значениями 'частный','другое', соответственно.\\\n",
    "Строки с пустыми значениями в столбцах 'film_studio', 'production_country', 'director', 'producer' удалялись. \\\n",
    "\\\n",
    "Аномальные значения исправлялись так, что при дальнейшем анализе данных учитывались фильмы с гос.поддержкой (возвратной и невозвратной), бюджетом, кассовым сбором меньше 100 000 000 руб.\n",
    "\\\n",
    "Дубликаты названий стран-производителей были заменены простой функцией, которая убирала ненужные пробелы, заменяла знаки препинания на нужные символы. Дубликаты также пришлось в столбцах, связанных с типом фильма и студии-производителем фильма, применив функцию strip, которая удалила пробелы в начале и конце строк.\\\n",
    "\\\n",
    "Затем был проведен анализ данных, где обнаружено, пик выхода фильмов в прокат в период 2010-2019 гг. пришёлся на 2016 и 2019 года, Также выявлено: минимальная сумма сборов была в 2013 году, она составила 2 425 499.0 руб.; максимальная сумма сборов - в 2017 году, составила 10 179 272 935.5 руб. При этом неуклонно растет спрос на фильмы, которые запрещены для детей.\\\n",
    "\\\n",
    "Также сортировались фильмы с гос. поддержкой, где анализировались данные: сколько выделяют средств на поддержку кино, как хорошо окупаются такие фильмы, какой у них рейтинг. Были получены выводы: фильм \"Тренер\" - самый успешный; высокий рейтинг фильма на КиноПоиске или самая большая гос.поддержка фильма вовсе не означает, что фильм окупаемый.; с каждым годом растёт гос.поддежрка фильма."
   ]
  },
  {
   "cell_type": "markdown",
   "metadata": {},
   "source": [
    "<div class=\"alert alert-success\">\n",
    "\n",
    "**Артём:** 👍👍👍 Хороший структурированный вывод.\n",
    "\n",
    "</div>"
   ]
  },
  {
   "cell_type": "markdown",
   "metadata": {
    "id": "AYRg3dzXgFye"
   },
   "source": [
    "## 🏁 Итоги ревью\n",
    "<a id=\"results\"></a>"
   ]
  },
  {
   "cell_type": "markdown",
   "metadata": {},
   "source": [
    "<div class=\"alert alert-danger\">\n",
    "\n",
    "**Артём:** ✋ К сожалению, не смог ознакомиться с твоим проектом до конца, ошибка в коде 🙁\n",
    "\n",
    "Пожалуйста, перед отправкой на проверку запусти проект в JupyterHub ⏩ и посмотри, что бы он отработал до конца, чтобы тебе не терять время.\n",
    "    \n",
    "Представь, что ты работаешь в крупной фирме, допустим ты сделала проект дома, а на совещании у руководства проект не работает. Согласись будет странно звучать если ты будешь объяснять генеральному директору, что дома работает, а здесь нет. Работоспособность проекта – это ответственность того, кто его разрабатывал.\n",
    "    \n",
    "В Практикуме для этого работают Наставники и Преподаватели, они всегда готовы помочь.\n",
    "\n",
    "Жду рабочую версию проекта. 🙂\n",
    "\n",
    "</div>"
   ]
  },
  {
   "cell_type": "markdown",
   "metadata": {},
   "source": [
    "<div class=\"alert alert-danger\">\n",
    "\n",
    "**Артём:** ✋ Иван, про дедлайн понял. Внеси корретировки и отправляй, я сразу проверю. Добавил твой проект в избранные.\n",
    "    \n",
    "</div>"
   ]
  },
  {
   "cell_type": "markdown",
   "metadata": {},
   "source": [
    "<div class=\"alert alert-danger\">\n",
    "\n",
    "**Артём:** ✋✋ Иван, удяляй заглушку и отправляй на проверку.\n",
    "    \n",
    "</div>"
   ]
  },
  {
   "cell_type": "markdown",
   "metadata": {},
   "source": [
    "**Иван:** в 3 и 4 пунктах заглушка особо не"
   ]
  },
  {
   "cell_type": "markdown",
   "metadata": {},
   "source": [
    "<div class=\"alert alert-success\">\n",
    "\n",
    "**Артём:** 👍👍👍 ???\n",
    "</div>"
   ]
  },
  {
   "cell_type": "markdown",
   "metadata": {},
   "source": [
    "<div class=\"alert alert-success\">\n",
    "\n",
    "**Артём:** ✌️ Иван, спасибо за работу и внесенные корректировки! Критических замечаний нет.\n",
    "\n",
    "Поздравляю, **проект принят!** 🥳 🎉 Ты молодец!\n",
    "\n",
    "\n",
    "Желаю тебе успехов в дальнейшем обучении. 😉\n",
    "\n",
    "</div>"
   ]
  },
  {
   "cell_type": "code",
   "execution_count": null,
   "metadata": {},
   "outputs": [],
   "source": []
  }
 ],
 "metadata": {
  "ExecuteTimeLog": [
   {
    "duration": 537,
    "start_time": "2021-07-07T10:12:08.634Z"
   },
   {
    "duration": 206,
    "start_time": "2021-07-07T10:12:30.191Z"
   },
   {
    "duration": 227,
    "start_time": "2021-07-07T10:12:33.078Z"
   },
   {
    "duration": 153,
    "start_time": "2021-07-07T10:13:42.146Z"
   },
   {
    "duration": 233,
    "start_time": "2021-07-07T10:30:09.252Z"
   },
   {
    "duration": 19,
    "start_time": "2021-07-07T10:30:15.577Z"
   },
   {
    "duration": 18,
    "start_time": "2021-07-07T10:30:57.348Z"
   },
   {
    "duration": 19,
    "start_time": "2021-07-07T10:31:17.452Z"
   },
   {
    "duration": 21,
    "start_time": "2021-07-07T10:31:32.227Z"
   },
   {
    "duration": 27,
    "start_time": "2021-07-07T10:32:06.588Z"
   },
   {
    "duration": 23,
    "start_time": "2021-07-07T10:32:43.645Z"
   },
   {
    "duration": 24,
    "start_time": "2021-07-07T10:33:06.948Z"
   },
   {
    "duration": 7,
    "start_time": "2021-07-07T10:33:28.558Z"
   },
   {
    "duration": 23,
    "start_time": "2021-07-07T10:33:43.761Z"
   },
   {
    "duration": 28,
    "start_time": "2021-07-07T10:34:13.466Z"
   },
   {
    "duration": 23,
    "start_time": "2021-07-07T10:35:56.187Z"
   },
   {
    "duration": 6,
    "start_time": "2021-07-07T10:36:48.182Z"
   },
   {
    "duration": 14,
    "start_time": "2021-07-07T10:37:49.641Z"
   },
   {
    "duration": 6,
    "start_time": "2021-07-07T10:38:06.694Z"
   },
   {
    "duration": 6,
    "start_time": "2021-07-07T10:38:13.493Z"
   },
   {
    "duration": 19,
    "start_time": "2021-07-07T10:38:44.056Z"
   },
   {
    "duration": 186,
    "start_time": "2021-07-07T10:48:35.618Z"
   },
   {
    "duration": 24,
    "start_time": "2021-07-07T10:48:51.498Z"
   },
   {
    "duration": 20,
    "start_time": "2021-07-07T10:48:59.415Z"
   },
   {
    "duration": 20,
    "start_time": "2021-07-07T10:53:02.195Z"
   },
   {
    "duration": 188,
    "start_time": "2021-07-07T10:54:40.486Z"
   },
   {
    "duration": 115,
    "start_time": "2021-07-07T10:54:52.552Z"
   },
   {
    "duration": 214,
    "start_time": "2021-07-07T10:54:56.354Z"
   },
   {
    "duration": 47,
    "start_time": "2021-07-07T10:54:58.282Z"
   },
   {
    "duration": 217,
    "start_time": "2021-07-07T10:59:16.075Z"
   },
   {
    "duration": 51,
    "start_time": "2021-07-07T10:59:16.243Z"
   },
   {
    "duration": 578,
    "start_time": "2021-07-07T10:59:18.774Z"
   },
   {
    "duration": 161,
    "start_time": "2021-07-07T10:59:21.238Z"
   },
   {
    "duration": 59,
    "start_time": "2021-07-07T10:59:21.453Z"
   },
   {
    "duration": 3,
    "start_time": "2021-07-07T11:02:10.786Z"
   },
   {
    "duration": 13,
    "start_time": "2021-07-07T11:07:07.722Z"
   },
   {
    "duration": 26,
    "start_time": "2021-07-07T11:07:17.958Z"
   },
   {
    "duration": 22,
    "start_time": "2021-07-07T11:08:17.939Z"
   },
   {
    "duration": 212,
    "start_time": "2021-07-07T11:08:19.665Z"
   },
   {
    "duration": 21,
    "start_time": "2021-07-07T11:08:29.945Z"
   },
   {
    "duration": 31,
    "start_time": "2021-07-07T11:08:38.899Z"
   },
   {
    "duration": 23,
    "start_time": "2021-07-07T11:08:54.527Z"
   },
   {
    "duration": 8,
    "start_time": "2021-07-07T11:18:55.974Z"
   },
   {
    "duration": 7,
    "start_time": "2021-07-07T11:19:03.639Z"
   },
   {
    "duration": 7,
    "start_time": "2021-07-07T11:19:06.444Z"
   },
   {
    "duration": 578,
    "start_time": "2021-07-07T12:09:59.576Z"
   },
   {
    "duration": 195,
    "start_time": "2021-07-07T12:10:00.156Z"
   },
   {
    "duration": 115,
    "start_time": "2021-07-07T12:10:00.353Z"
   },
   {
    "duration": 3,
    "start_time": "2021-07-07T12:10:00.470Z"
   },
   {
    "duration": 32,
    "start_time": "2021-07-07T12:10:00.474Z"
   },
   {
    "duration": 23,
    "start_time": "2021-07-07T12:10:00.508Z"
   },
   {
    "duration": 19,
    "start_time": "2021-07-07T12:10:00.533Z"
   },
   {
    "duration": 44,
    "start_time": "2021-07-07T12:10:00.553Z"
   },
   {
    "duration": 7,
    "start_time": "2021-07-07T12:10:00.600Z"
   },
   {
    "duration": 7,
    "start_time": "2021-07-07T12:19:45.761Z"
   },
   {
    "duration": 21,
    "start_time": "2021-07-07T12:21:35.482Z"
   },
   {
    "duration": 21,
    "start_time": "2021-07-07T12:29:23.569Z"
   },
   {
    "duration": 525,
    "start_time": "2021-07-07T12:29:44.542Z"
   },
   {
    "duration": 214,
    "start_time": "2021-07-07T12:29:45.069Z"
   },
   {
    "duration": 92,
    "start_time": "2021-07-07T12:29:45.285Z"
   },
   {
    "duration": 3,
    "start_time": "2021-07-07T12:29:45.379Z"
   },
   {
    "duration": 28,
    "start_time": "2021-07-07T12:29:45.384Z"
   },
   {
    "duration": 23,
    "start_time": "2021-07-07T12:29:45.413Z"
   },
   {
    "duration": 21,
    "start_time": "2021-07-07T12:29:45.437Z"
   },
   {
    "duration": 41,
    "start_time": "2021-07-07T12:29:45.460Z"
   },
   {
    "duration": 7,
    "start_time": "2021-07-07T12:29:45.502Z"
   },
   {
    "duration": 20,
    "start_time": "2021-07-07T12:29:45.511Z"
   },
   {
    "duration": 12,
    "start_time": "2021-07-07T12:34:02.800Z"
   },
   {
    "duration": 7,
    "start_time": "2021-07-07T12:35:10.479Z"
   },
   {
    "duration": 8,
    "start_time": "2021-07-07T12:35:22.440Z"
   },
   {
    "duration": 6,
    "start_time": "2021-07-07T12:35:35.649Z"
   },
   {
    "duration": 6,
    "start_time": "2021-07-07T12:35:43.107Z"
   },
   {
    "duration": 22,
    "start_time": "2021-07-07T12:38:03.029Z"
   },
   {
    "duration": 10,
    "start_time": "2021-07-07T12:38:06.592Z"
   },
   {
    "duration": 563,
    "start_time": "2021-07-07T12:38:46.493Z"
   },
   {
    "duration": 265,
    "start_time": "2021-07-07T12:38:47.058Z"
   },
   {
    "duration": 94,
    "start_time": "2021-07-07T12:38:47.325Z"
   },
   {
    "duration": 3,
    "start_time": "2021-07-07T12:38:47.422Z"
   },
   {
    "duration": 30,
    "start_time": "2021-07-07T12:38:47.427Z"
   },
   {
    "duration": 16,
    "start_time": "2021-07-07T12:38:53.305Z"
   },
   {
    "duration": 10,
    "start_time": "2021-07-07T12:38:53.499Z"
   },
   {
    "duration": 8,
    "start_time": "2021-07-07T12:39:48.161Z"
   },
   {
    "duration": 27,
    "start_time": "2021-07-07T12:41:17.629Z"
   },
   {
    "duration": 17,
    "start_time": "2021-07-07T12:41:17.867Z"
   },
   {
    "duration": 21,
    "start_time": "2021-07-07T12:41:19.310Z"
   },
   {
    "duration": 7,
    "start_time": "2021-07-07T12:41:19.544Z"
   },
   {
    "duration": 20,
    "start_time": "2021-07-07T12:41:20.504Z"
   },
   {
    "duration": 554,
    "start_time": "2021-07-07T12:56:23.696Z"
   },
   {
    "duration": 200,
    "start_time": "2021-07-07T12:56:25.234Z"
   },
   {
    "duration": 119,
    "start_time": "2021-07-07T12:56:25.480Z"
   },
   {
    "duration": 4,
    "start_time": "2021-07-07T12:56:25.762Z"
   },
   {
    "duration": 26,
    "start_time": "2021-07-07T12:56:27.172Z"
   },
   {
    "duration": 12,
    "start_time": "2021-07-07T12:56:29.051Z"
   },
   {
    "duration": 10,
    "start_time": "2021-07-07T12:56:29.291Z"
   },
   {
    "duration": 8,
    "start_time": "2021-07-07T12:56:29.623Z"
   },
   {
    "duration": 28,
    "start_time": "2021-07-07T12:56:32.137Z"
   },
   {
    "duration": 19,
    "start_time": "2021-07-07T12:56:39.785Z"
   },
   {
    "duration": 20,
    "start_time": "2021-07-07T12:56:44.297Z"
   },
   {
    "duration": 7,
    "start_time": "2021-07-07T12:56:45.392Z"
   },
   {
    "duration": 23,
    "start_time": "2021-07-07T12:56:46.615Z"
   },
   {
    "duration": 4,
    "start_time": "2021-07-07T12:57:06.625Z"
   },
   {
    "duration": 32,
    "start_time": "2021-07-07T12:57:36.690Z"
   },
   {
    "duration": 18,
    "start_time": "2021-07-07T12:58:00.149Z"
   },
   {
    "duration": 15,
    "start_time": "2021-07-07T12:59:16.793Z"
   },
   {
    "duration": 7,
    "start_time": "2021-07-07T13:19:22.624Z"
   },
   {
    "duration": 6,
    "start_time": "2021-07-07T14:17:33.527Z"
   },
   {
    "duration": 9,
    "start_time": "2021-07-07T14:17:48.409Z"
   },
   {
    "duration": 8,
    "start_time": "2021-07-07T14:20:13.060Z"
   },
   {
    "duration": 8,
    "start_time": "2021-07-07T14:20:37.957Z"
   },
   {
    "duration": 8,
    "start_time": "2021-07-07T14:20:47.470Z"
   },
   {
    "duration": 9,
    "start_time": "2021-07-07T14:20:54.503Z"
   },
   {
    "duration": 10,
    "start_time": "2021-07-07T14:28:57.763Z"
   },
   {
    "duration": 3,
    "start_time": "2021-07-07T14:30:23.377Z"
   },
   {
    "duration": 3,
    "start_time": "2021-07-07T14:30:36.489Z"
   },
   {
    "duration": 103,
    "start_time": "2021-07-07T14:30:52.351Z"
   },
   {
    "duration": 8,
    "start_time": "2021-07-07T14:30:54.763Z"
   },
   {
    "duration": 8,
    "start_time": "2021-07-07T14:31:29.301Z"
   },
   {
    "duration": 13,
    "start_time": "2021-07-07T14:31:44.516Z"
   },
   {
    "duration": 7,
    "start_time": "2021-07-07T14:33:10.972Z"
   },
   {
    "duration": 11,
    "start_time": "2021-07-07T14:33:27.780Z"
   },
   {
    "duration": 8,
    "start_time": "2021-07-07T14:34:44.588Z"
   },
   {
    "duration": 57,
    "start_time": "2021-07-07T14:35:59.042Z"
   },
   {
    "duration": 3,
    "start_time": "2021-07-07T14:36:28.168Z"
   },
   {
    "duration": 5,
    "start_time": "2021-07-07T14:36:46.254Z"
   },
   {
    "duration": 4,
    "start_time": "2021-07-07T14:36:52.714Z"
   },
   {
    "duration": 3,
    "start_time": "2021-07-07T14:36:56.612Z"
   },
   {
    "duration": 4,
    "start_time": "2021-07-07T14:36:57.049Z"
   },
   {
    "duration": 3,
    "start_time": "2021-07-07T14:39:21.214Z"
   },
   {
    "duration": 7,
    "start_time": "2021-07-07T14:39:52.406Z"
   },
   {
    "duration": 11,
    "start_time": "2021-07-07T14:39:58.576Z"
   },
   {
    "duration": 9,
    "start_time": "2021-07-07T14:40:26.301Z"
   },
   {
    "duration": 10,
    "start_time": "2021-07-07T14:40:31.704Z"
   },
   {
    "duration": 11,
    "start_time": "2021-07-07T14:40:36.249Z"
   },
   {
    "duration": 10,
    "start_time": "2021-07-07T14:40:39.783Z"
   },
   {
    "duration": 9,
    "start_time": "2021-07-07T14:40:48.558Z"
   },
   {
    "duration": 10,
    "start_time": "2021-07-07T14:40:57.143Z"
   },
   {
    "duration": 9,
    "start_time": "2021-07-07T14:41:06.074Z"
   },
   {
    "duration": 4324,
    "start_time": "2021-07-07T14:41:22.004Z"
   },
   {
    "duration": 11,
    "start_time": "2021-07-07T14:41:33.392Z"
   },
   {
    "duration": 9,
    "start_time": "2021-07-07T14:41:39.288Z"
   },
   {
    "duration": 569,
    "start_time": "2021-07-07T14:42:14.387Z"
   },
   {
    "duration": 197,
    "start_time": "2021-07-07T14:42:14.959Z"
   },
   {
    "duration": 84,
    "start_time": "2021-07-07T14:42:16.052Z"
   },
   {
    "duration": 4,
    "start_time": "2021-07-07T14:42:16.900Z"
   },
   {
    "duration": 27,
    "start_time": "2021-07-07T14:42:19.898Z"
   },
   {
    "duration": 12,
    "start_time": "2021-07-07T14:42:21.577Z"
   },
   {
    "duration": 9,
    "start_time": "2021-07-07T14:42:21.813Z"
   },
   {
    "duration": 9,
    "start_time": "2021-07-07T14:42:22.569Z"
   },
   {
    "duration": 29,
    "start_time": "2021-07-07T14:42:25.837Z"
   },
   {
    "duration": 20,
    "start_time": "2021-07-07T14:42:27.003Z"
   },
   {
    "duration": 21,
    "start_time": "2021-07-07T14:42:28.767Z"
   },
   {
    "duration": 7,
    "start_time": "2021-07-07T14:42:29.838Z"
   },
   {
    "duration": 4,
    "start_time": "2021-07-07T14:43:25.493Z"
   },
   {
    "duration": 7,
    "start_time": "2021-07-07T14:43:26.573Z"
   },
   {
    "duration": 10,
    "start_time": "2021-07-07T14:43:31.639Z"
   },
   {
    "duration": 9,
    "start_time": "2021-07-07T14:43:32.046Z"
   },
   {
    "duration": 10,
    "start_time": "2021-07-07T14:43:33.301Z"
   },
   {
    "duration": 12,
    "start_time": "2021-07-07T14:43:33.658Z"
   },
   {
    "duration": 8,
    "start_time": "2021-07-07T14:43:34.552Z"
   },
   {
    "duration": 9,
    "start_time": "2021-07-07T14:43:35.058Z"
   },
   {
    "duration": 12,
    "start_time": "2021-07-07T14:43:35.914Z"
   },
   {
    "duration": 17,
    "start_time": "2021-07-07T14:45:34.368Z"
   },
   {
    "duration": 512,
    "start_time": "2021-07-07T14:51:58.236Z"
   },
   {
    "duration": 223,
    "start_time": "2021-07-07T14:51:58.750Z"
   },
   {
    "duration": 93,
    "start_time": "2021-07-07T14:51:58.977Z"
   },
   {
    "duration": 4,
    "start_time": "2021-07-07T14:51:59.071Z"
   },
   {
    "duration": 37,
    "start_time": "2021-07-07T14:51:59.077Z"
   },
   {
    "duration": 18,
    "start_time": "2021-07-07T14:51:59.116Z"
   },
   {
    "duration": 10,
    "start_time": "2021-07-07T14:51:59.137Z"
   },
   {
    "duration": 8,
    "start_time": "2021-07-07T14:51:59.149Z"
   },
   {
    "duration": 54,
    "start_time": "2021-07-07T14:51:59.158Z"
   },
   {
    "duration": 18,
    "start_time": "2021-07-07T14:51:59.213Z"
   },
   {
    "duration": 22,
    "start_time": "2021-07-07T14:51:59.232Z"
   },
   {
    "duration": 36,
    "start_time": "2021-07-07T14:51:59.255Z"
   },
   {
    "duration": 7,
    "start_time": "2021-07-07T14:51:59.293Z"
   },
   {
    "duration": 10,
    "start_time": "2021-07-07T14:51:59.302Z"
   },
   {
    "duration": 9,
    "start_time": "2021-07-07T14:51:59.313Z"
   },
   {
    "duration": 11,
    "start_time": "2021-07-07T14:51:59.324Z"
   },
   {
    "duration": 8,
    "start_time": "2021-07-07T14:51:59.337Z"
   },
   {
    "duration": 46,
    "start_time": "2021-07-07T14:51:59.347Z"
   },
   {
    "duration": 22,
    "start_time": "2021-07-07T14:51:59.395Z"
   },
   {
    "duration": 24,
    "start_time": "2021-07-07T14:57:32.911Z"
   },
   {
    "duration": 7,
    "start_time": "2021-07-07T14:58:22.070Z"
   },
   {
    "duration": 4,
    "start_time": "2021-07-07T14:59:11.239Z"
   },
   {
    "duration": 25,
    "start_time": "2021-07-07T15:07:22.208Z"
   },
   {
    "duration": 16,
    "start_time": "2021-07-07T15:08:25.560Z"
   },
   {
    "duration": 15,
    "start_time": "2021-07-07T15:08:40.647Z"
   },
   {
    "duration": 14,
    "start_time": "2021-07-07T15:08:46.669Z"
   },
   {
    "duration": 533,
    "start_time": "2021-07-07T15:18:07.440Z"
   },
   {
    "duration": 173,
    "start_time": "2021-07-07T15:18:07.974Z"
   },
   {
    "duration": 84,
    "start_time": "2021-07-07T15:18:08.149Z"
   },
   {
    "duration": 3,
    "start_time": "2021-07-07T15:18:08.235Z"
   },
   {
    "duration": 30,
    "start_time": "2021-07-07T15:18:08.240Z"
   },
   {
    "duration": 22,
    "start_time": "2021-07-07T15:18:08.272Z"
   },
   {
    "duration": 11,
    "start_time": "2021-07-07T15:18:08.295Z"
   },
   {
    "duration": 11,
    "start_time": "2021-07-07T15:18:08.309Z"
   },
   {
    "duration": 40,
    "start_time": "2021-07-07T15:18:08.322Z"
   },
   {
    "duration": 42,
    "start_time": "2021-07-07T15:18:08.364Z"
   },
   {
    "duration": 22,
    "start_time": "2021-07-07T15:18:08.408Z"
   },
   {
    "duration": 5,
    "start_time": "2021-07-07T15:18:08.432Z"
   },
   {
    "duration": 13,
    "start_time": "2021-07-07T15:18:08.439Z"
   },
   {
    "duration": 9,
    "start_time": "2021-07-07T15:18:08.454Z"
   },
   {
    "duration": 32,
    "start_time": "2021-07-07T15:18:08.465Z"
   },
   {
    "duration": 10,
    "start_time": "2021-07-07T15:18:08.501Z"
   },
   {
    "duration": 7,
    "start_time": "2021-07-07T15:18:08.513Z"
   },
   {
    "duration": 11,
    "start_time": "2021-07-07T15:18:08.521Z"
   },
   {
    "duration": 17,
    "start_time": "2021-07-07T15:18:08.534Z"
   },
   {
    "duration": 44,
    "start_time": "2021-07-07T15:18:08.553Z"
   },
   {
    "duration": 22,
    "start_time": "2021-07-07T15:18:08.599Z"
   },
   {
    "duration": 61,
    "start_time": "2021-07-07T15:18:08.622Z"
   },
   {
    "duration": 7,
    "start_time": "2021-07-07T15:18:39.457Z"
   },
   {
    "duration": 5,
    "start_time": "2021-07-07T16:05:17.020Z"
   },
   {
    "duration": 5,
    "start_time": "2021-07-07T16:51:28.794Z"
   },
   {
    "duration": 546,
    "start_time": "2021-07-07T16:52:26.306Z"
   },
   {
    "duration": 203,
    "start_time": "2021-07-07T16:52:27.523Z"
   },
   {
    "duration": 85,
    "start_time": "2021-07-07T16:52:27.736Z"
   },
   {
    "duration": 4,
    "start_time": "2021-07-07T16:52:27.899Z"
   },
   {
    "duration": 25,
    "start_time": "2021-07-07T16:52:28.674Z"
   },
   {
    "duration": 8,
    "start_time": "2021-07-07T16:52:32.956Z"
   },
   {
    "duration": 18,
    "start_time": "2021-07-07T16:52:35.616Z"
   },
   {
    "duration": 6,
    "start_time": "2021-07-07T16:52:36.913Z"
   },
   {
    "duration": 11,
    "start_time": "2021-07-07T16:52:40.258Z"
   },
   {
    "duration": 10,
    "start_time": "2021-07-07T16:52:46.251Z"
   },
   {
    "duration": 8,
    "start_time": "2021-07-07T16:52:47.182Z"
   },
   {
    "duration": 27,
    "start_time": "2021-07-07T16:53:20.391Z"
   },
   {
    "duration": 20,
    "start_time": "2021-07-07T16:53:22.022Z"
   },
   {
    "duration": 23,
    "start_time": "2021-07-07T16:53:23.690Z"
   },
   {
    "duration": 8,
    "start_time": "2021-07-07T16:53:24.261Z"
   },
   {
    "duration": 4,
    "start_time": "2021-07-07T16:53:38.733Z"
   },
   {
    "duration": 7,
    "start_time": "2021-07-07T16:53:40.445Z"
   },
   {
    "duration": 11,
    "start_time": "2021-07-07T16:53:41.348Z"
   },
   {
    "duration": 13,
    "start_time": "2021-07-07T16:53:45.250Z"
   },
   {
    "duration": 12,
    "start_time": "2021-07-07T16:53:45.467Z"
   },
   {
    "duration": 4,
    "start_time": "2021-07-07T16:55:32.704Z"
   },
   {
    "duration": 12,
    "start_time": "2021-07-07T16:55:49.012Z"
   },
   {
    "duration": 18,
    "start_time": "2021-07-07T16:55:49.547Z"
   },
   {
    "duration": 611,
    "start_time": "2021-07-07T16:58:35.156Z"
   },
   {
    "duration": 200,
    "start_time": "2021-07-07T16:58:35.770Z"
   },
   {
    "duration": 86,
    "start_time": "2021-07-07T16:58:35.972Z"
   },
   {
    "duration": 3,
    "start_time": "2021-07-07T16:58:36.060Z"
   },
   {
    "duration": 27,
    "start_time": "2021-07-07T16:58:36.065Z"
   },
   {
    "duration": 8,
    "start_time": "2021-07-07T16:58:36.094Z"
   },
   {
    "duration": 17,
    "start_time": "2021-07-07T16:58:36.103Z"
   },
   {
    "duration": 5,
    "start_time": "2021-07-07T16:58:36.123Z"
   },
   {
    "duration": 11,
    "start_time": "2021-07-07T16:58:36.130Z"
   },
   {
    "duration": 7,
    "start_time": "2021-07-07T16:58:36.143Z"
   },
   {
    "duration": 37,
    "start_time": "2021-07-07T16:58:36.152Z"
   },
   {
    "duration": 27,
    "start_time": "2021-07-07T16:58:36.191Z"
   },
   {
    "duration": 19,
    "start_time": "2021-07-07T16:58:36.219Z"
   },
   {
    "duration": 49,
    "start_time": "2021-07-07T16:58:36.240Z"
   },
   {
    "duration": 6,
    "start_time": "2021-07-07T16:58:36.291Z"
   },
   {
    "duration": 3,
    "start_time": "2021-07-07T16:58:36.299Z"
   },
   {
    "duration": 13,
    "start_time": "2021-07-07T16:58:36.304Z"
   },
   {
    "duration": 10,
    "start_time": "2021-07-07T16:58:36.319Z"
   },
   {
    "duration": 10,
    "start_time": "2021-07-07T16:58:36.331Z"
   },
   {
    "duration": 44,
    "start_time": "2021-07-07T16:58:36.343Z"
   },
   {
    "duration": 4,
    "start_time": "2021-07-07T16:58:36.388Z"
   },
   {
    "duration": 13,
    "start_time": "2021-07-07T16:58:36.394Z"
   },
   {
    "duration": 16,
    "start_time": "2021-07-07T16:58:36.410Z"
   },
   {
    "duration": 8,
    "start_time": "2021-07-07T17:02:31.629Z"
   },
   {
    "duration": 8,
    "start_time": "2021-07-07T17:02:34.308Z"
   },
   {
    "duration": 6,
    "start_time": "2021-07-07T17:05:13.483Z"
   },
   {
    "duration": 17,
    "start_time": "2021-07-07T17:05:20.606Z"
   },
   {
    "duration": 7,
    "start_time": "2021-07-07T17:05:34.638Z"
   },
   {
    "duration": 3,
    "start_time": "2021-07-07T17:06:31.883Z"
   },
   {
    "duration": 570,
    "start_time": "2021-07-07T17:06:37.165Z"
   },
   {
    "duration": 174,
    "start_time": "2021-07-07T17:06:37.737Z"
   },
   {
    "duration": 47,
    "start_time": "2021-07-07T17:06:37.913Z"
   },
   {
    "duration": 3,
    "start_time": "2021-07-07T17:06:37.962Z"
   },
   {
    "duration": 27,
    "start_time": "2021-07-07T17:06:37.967Z"
   },
   {
    "duration": 7,
    "start_time": "2021-07-07T17:06:37.996Z"
   },
   {
    "duration": 16,
    "start_time": "2021-07-07T17:06:38.005Z"
   },
   {
    "duration": 6,
    "start_time": "2021-07-07T17:06:38.024Z"
   },
   {
    "duration": 12,
    "start_time": "2021-07-07T17:06:38.031Z"
   },
   {
    "duration": 41,
    "start_time": "2021-07-07T17:06:38.045Z"
   },
   {
    "duration": 8,
    "start_time": "2021-07-07T17:06:38.088Z"
   },
   {
    "duration": 26,
    "start_time": "2021-07-07T17:06:38.098Z"
   },
   {
    "duration": 17,
    "start_time": "2021-07-07T17:06:38.126Z"
   },
   {
    "duration": 43,
    "start_time": "2021-07-07T17:06:38.144Z"
   },
   {
    "duration": 6,
    "start_time": "2021-07-07T17:06:38.188Z"
   },
   {
    "duration": 5,
    "start_time": "2021-07-07T17:06:38.195Z"
   },
   {
    "duration": 9,
    "start_time": "2021-07-07T17:06:38.201Z"
   },
   {
    "duration": 12,
    "start_time": "2021-07-07T17:06:38.212Z"
   },
   {
    "duration": 11,
    "start_time": "2021-07-07T17:06:38.226Z"
   },
   {
    "duration": 47,
    "start_time": "2021-07-07T17:06:38.239Z"
   },
   {
    "duration": 4,
    "start_time": "2021-07-07T17:06:38.288Z"
   },
   {
    "duration": 13,
    "start_time": "2021-07-07T17:06:38.293Z"
   },
   {
    "duration": 5,
    "start_time": "2021-07-07T17:06:38.309Z"
   },
   {
    "duration": 18,
    "start_time": "2021-07-07T17:06:38.325Z"
   },
   {
    "duration": 20,
    "start_time": "2021-07-07T17:07:02.805Z"
   },
   {
    "duration": 19,
    "start_time": "2021-07-07T17:07:08.527Z"
   },
   {
    "duration": 19,
    "start_time": "2021-07-07T17:07:12.758Z"
   },
   {
    "duration": 22,
    "start_time": "2021-07-07T17:07:17.497Z"
   },
   {
    "duration": 19,
    "start_time": "2021-07-07T17:07:19.645Z"
   },
   {
    "duration": 10,
    "start_time": "2021-07-07T17:07:34.239Z"
   },
   {
    "duration": 17,
    "start_time": "2021-07-07T17:07:54.144Z"
   },
   {
    "duration": 14,
    "start_time": "2021-07-07T17:08:14.357Z"
   },
   {
    "duration": 616,
    "start_time": "2021-07-07T17:08:45.254Z"
   },
   {
    "duration": 178,
    "start_time": "2021-07-07T17:08:45.872Z"
   },
   {
    "duration": 60,
    "start_time": "2021-07-07T17:08:46.054Z"
   },
   {
    "duration": 3,
    "start_time": "2021-07-07T17:08:46.116Z"
   },
   {
    "duration": 26,
    "start_time": "2021-07-07T17:08:46.121Z"
   },
   {
    "duration": 7,
    "start_time": "2021-07-07T17:08:46.149Z"
   },
   {
    "duration": 17,
    "start_time": "2021-07-07T17:08:46.158Z"
   },
   {
    "duration": 14,
    "start_time": "2021-07-07T17:08:46.176Z"
   },
   {
    "duration": 17,
    "start_time": "2021-07-07T17:08:46.193Z"
   },
   {
    "duration": 9,
    "start_time": "2021-07-07T17:08:46.211Z"
   },
   {
    "duration": 21,
    "start_time": "2021-07-07T17:08:46.221Z"
   },
   {
    "duration": 49,
    "start_time": "2021-07-07T17:08:46.244Z"
   },
   {
    "duration": 24,
    "start_time": "2021-07-07T17:08:46.295Z"
   },
   {
    "duration": 22,
    "start_time": "2021-07-07T17:08:46.321Z"
   },
   {
    "duration": 6,
    "start_time": "2021-07-07T17:08:46.345Z"
   },
   {
    "duration": 5,
    "start_time": "2021-07-07T17:08:46.353Z"
   },
   {
    "duration": 13,
    "start_time": "2021-07-07T17:08:46.386Z"
   },
   {
    "duration": 12,
    "start_time": "2021-07-07T17:08:46.402Z"
   },
   {
    "duration": 10,
    "start_time": "2021-07-07T17:08:46.415Z"
   },
   {
    "duration": 7,
    "start_time": "2021-07-07T17:08:46.427Z"
   },
   {
    "duration": 8,
    "start_time": "2021-07-07T17:08:46.435Z"
   },
   {
    "duration": 68,
    "start_time": "2021-07-07T17:08:46.446Z"
   },
   {
    "duration": 13,
    "start_time": "2021-07-07T17:08:46.516Z"
   },
   {
    "duration": 78,
    "start_time": "2021-07-07T17:08:46.530Z"
   },
   {
    "duration": 40,
    "start_time": "2021-07-07T17:09:08.185Z"
   },
   {
    "duration": 16,
    "start_time": "2021-07-07T17:09:19.324Z"
   },
   {
    "duration": 21,
    "start_time": "2021-07-07T17:09:23.290Z"
   },
   {
    "duration": 13,
    "start_time": "2021-07-07T17:09:54.812Z"
   },
   {
    "duration": 13,
    "start_time": "2021-07-07T17:10:02.039Z"
   },
   {
    "duration": 10,
    "start_time": "2021-07-07T17:10:29.632Z"
   },
   {
    "duration": 13,
    "start_time": "2021-07-07T17:10:52.372Z"
   },
   {
    "duration": 13,
    "start_time": "2021-07-07T17:11:17.270Z"
   },
   {
    "duration": 13,
    "start_time": "2021-07-07T17:14:59.284Z"
   },
   {
    "duration": 547,
    "start_time": "2021-07-07T17:18:52.403Z"
   },
   {
    "duration": 163,
    "start_time": "2021-07-07T17:18:52.952Z"
   },
   {
    "duration": 44,
    "start_time": "2021-07-07T17:18:53.117Z"
   },
   {
    "duration": 3,
    "start_time": "2021-07-07T17:18:53.162Z"
   },
   {
    "duration": 26,
    "start_time": "2021-07-07T17:18:53.167Z"
   },
   {
    "duration": 6,
    "start_time": "2021-07-07T17:18:53.195Z"
   },
   {
    "duration": 15,
    "start_time": "2021-07-07T17:18:53.203Z"
   },
   {
    "duration": 5,
    "start_time": "2021-07-07T17:18:53.220Z"
   },
   {
    "duration": 11,
    "start_time": "2021-07-07T17:18:53.228Z"
   },
   {
    "duration": 9,
    "start_time": "2021-07-07T17:18:53.241Z"
   },
   {
    "duration": 41,
    "start_time": "2021-07-07T17:18:53.252Z"
   },
   {
    "duration": 33,
    "start_time": "2021-07-07T17:18:53.295Z"
   },
   {
    "duration": 19,
    "start_time": "2021-07-07T17:18:53.330Z"
   },
   {
    "duration": 49,
    "start_time": "2021-07-07T17:18:53.350Z"
   },
   {
    "duration": 5,
    "start_time": "2021-07-07T17:18:53.401Z"
   },
   {
    "duration": 5,
    "start_time": "2021-07-07T17:18:53.408Z"
   },
   {
    "duration": 11,
    "start_time": "2021-07-07T17:18:53.414Z"
   },
   {
    "duration": 9,
    "start_time": "2021-07-07T17:18:53.427Z"
   },
   {
    "duration": 10,
    "start_time": "2021-07-07T17:18:53.437Z"
   },
   {
    "duration": 39,
    "start_time": "2021-07-07T17:18:53.448Z"
   },
   {
    "duration": 26,
    "start_time": "2021-07-07T17:18:55.799Z"
   },
   {
    "duration": 598,
    "start_time": "2021-07-07T17:20:17.862Z"
   },
   {
    "duration": 161,
    "start_time": "2021-07-07T17:20:18.462Z"
   },
   {
    "duration": 45,
    "start_time": "2021-07-07T17:20:18.626Z"
   },
   {
    "duration": 4,
    "start_time": "2021-07-07T17:20:18.673Z"
   },
   {
    "duration": 38,
    "start_time": "2021-07-07T17:20:26.877Z"
   },
   {
    "duration": 7,
    "start_time": "2021-07-07T17:20:37.405Z"
   },
   {
    "duration": 19,
    "start_time": "2021-07-07T17:20:51.534Z"
   },
   {
    "duration": 5,
    "start_time": "2021-07-07T17:20:57.228Z"
   },
   {
    "duration": 7,
    "start_time": "2021-07-07T17:21:08.235Z"
   },
   {
    "duration": 19,
    "start_time": "2021-07-07T17:21:42.158Z"
   },
   {
    "duration": 14,
    "start_time": "2021-07-07T17:21:50.225Z"
   },
   {
    "duration": 22,
    "start_time": "2021-07-07T17:22:54.104Z"
   },
   {
    "duration": 5,
    "start_time": "2021-07-07T17:22:56.371Z"
   },
   {
    "duration": 14,
    "start_time": "2021-07-07T17:22:58.316Z"
   },
   {
    "duration": 5,
    "start_time": "2021-07-07T17:22:58.493Z"
   },
   {
    "duration": 35,
    "start_time": "2021-07-07T17:22:59.666Z"
   },
   {
    "duration": 6,
    "start_time": "2021-07-07T17:23:02.410Z"
   },
   {
    "duration": 611,
    "start_time": "2021-07-07T17:24:59.664Z"
   },
   {
    "duration": 178,
    "start_time": "2021-07-07T17:25:01.945Z"
   },
   {
    "duration": 47,
    "start_time": "2021-07-07T17:25:02.125Z"
   },
   {
    "duration": 2,
    "start_time": "2021-07-07T17:25:07.903Z"
   },
   {
    "duration": 254,
    "start_time": "2021-07-07T17:25:08.232Z"
   },
   {
    "duration": 182,
    "start_time": "2021-07-07T17:25:08.671Z"
   },
   {
    "duration": 6,
    "start_time": "2021-07-07T17:25:13.104Z"
   },
   {
    "duration": 36,
    "start_time": "2021-07-07T17:25:13.662Z"
   },
   {
    "duration": 7,
    "start_time": "2021-07-07T17:25:14.528Z"
   },
   {
    "duration": 24,
    "start_time": "2021-07-07T17:25:27.982Z"
   },
   {
    "duration": 3,
    "start_time": "2021-07-07T17:25:48.982Z"
   },
   {
    "duration": 165,
    "start_time": "2021-07-07T17:25:48.987Z"
   },
   {
    "duration": 50,
    "start_time": "2021-07-07T17:25:49.154Z"
   },
   {
    "duration": 4,
    "start_time": "2021-07-07T17:25:49.206Z"
   },
   {
    "duration": 26,
    "start_time": "2021-07-07T17:25:49.212Z"
   },
   {
    "duration": 7,
    "start_time": "2021-07-07T17:25:49.240Z"
   },
   {
    "duration": 16,
    "start_time": "2021-07-07T17:25:49.249Z"
   },
   {
    "duration": 22,
    "start_time": "2021-07-07T17:25:49.266Z"
   },
   {
    "duration": 16,
    "start_time": "2021-07-07T17:25:49.291Z"
   },
   {
    "duration": 9,
    "start_time": "2021-07-07T17:25:49.309Z"
   },
   {
    "duration": 7,
    "start_time": "2021-07-07T17:25:49.319Z"
   },
   {
    "duration": 28,
    "start_time": "2021-07-07T17:25:49.328Z"
   },
   {
    "duration": 44,
    "start_time": "2021-07-07T17:25:49.357Z"
   },
   {
    "duration": 22,
    "start_time": "2021-07-07T17:25:49.403Z"
   },
   {
    "duration": 7,
    "start_time": "2021-07-07T17:25:49.427Z"
   },
   {
    "duration": 3,
    "start_time": "2021-07-07T17:25:49.436Z"
   },
   {
    "duration": 44,
    "start_time": "2021-07-07T17:25:49.441Z"
   },
   {
    "duration": 12,
    "start_time": "2021-07-07T17:25:49.488Z"
   },
   {
    "duration": 13,
    "start_time": "2021-07-07T17:25:49.502Z"
   },
   {
    "duration": 10,
    "start_time": "2021-07-07T17:25:49.516Z"
   },
   {
    "duration": 62,
    "start_time": "2021-07-07T17:25:49.527Z"
   },
   {
    "duration": 26,
    "start_time": "2021-07-07T17:26:51.809Z"
   },
   {
    "duration": 26,
    "start_time": "2021-07-07T17:26:55.759Z"
   },
   {
    "duration": 26,
    "start_time": "2021-07-07T17:27:04.501Z"
   },
   {
    "duration": 25,
    "start_time": "2021-07-07T17:28:24.859Z"
   },
   {
    "duration": 21,
    "start_time": "2021-07-07T17:28:55.250Z"
   },
   {
    "duration": 21,
    "start_time": "2021-07-07T17:28:58.885Z"
   },
   {
    "duration": 7,
    "start_time": "2021-07-07T17:45:40.972Z"
   },
   {
    "duration": 13,
    "start_time": "2021-07-07T17:45:42.529Z"
   },
   {
    "duration": 27,
    "start_time": "2021-07-07T17:45:51.026Z"
   },
   {
    "duration": 518,
    "start_time": "2021-07-07T17:46:15.532Z"
   },
   {
    "duration": 235,
    "start_time": "2021-07-07T17:46:16.053Z"
   },
   {
    "duration": 80,
    "start_time": "2021-07-07T17:46:16.292Z"
   },
   {
    "duration": 5,
    "start_time": "2021-07-07T17:46:16.373Z"
   },
   {
    "duration": 26,
    "start_time": "2021-07-07T17:46:16.380Z"
   },
   {
    "duration": 7,
    "start_time": "2021-07-07T17:46:16.408Z"
   },
   {
    "duration": 16,
    "start_time": "2021-07-07T17:46:16.418Z"
   },
   {
    "duration": 5,
    "start_time": "2021-07-07T17:46:16.436Z"
   },
   {
    "duration": 13,
    "start_time": "2021-07-07T17:46:16.442Z"
   },
   {
    "duration": 35,
    "start_time": "2021-07-07T17:46:16.456Z"
   },
   {
    "duration": 8,
    "start_time": "2021-07-07T17:46:16.493Z"
   },
   {
    "duration": 28,
    "start_time": "2021-07-07T17:46:16.502Z"
   },
   {
    "duration": 17,
    "start_time": "2021-07-07T17:46:16.532Z"
   },
   {
    "duration": 44,
    "start_time": "2021-07-07T17:46:16.551Z"
   },
   {
    "duration": 6,
    "start_time": "2021-07-07T17:46:16.597Z"
   },
   {
    "duration": 4,
    "start_time": "2021-07-07T17:46:16.605Z"
   },
   {
    "duration": 9,
    "start_time": "2021-07-07T17:46:16.610Z"
   },
   {
    "duration": 9,
    "start_time": "2021-07-07T17:46:16.621Z"
   },
   {
    "duration": 10,
    "start_time": "2021-07-07T17:46:16.632Z"
   },
   {
    "duration": 43,
    "start_time": "2021-07-07T17:46:16.644Z"
   },
   {
    "duration": 26,
    "start_time": "2021-07-07T17:46:16.689Z"
   },
   {
    "duration": 19,
    "start_time": "2021-07-07T17:46:16.718Z"
   },
   {
    "duration": 8,
    "start_time": "2021-07-07T17:46:16.738Z"
   },
   {
    "duration": 43,
    "start_time": "2021-07-07T17:46:16.747Z"
   },
   {
    "duration": 19,
    "start_time": "2021-07-07T17:46:16.791Z"
   },
   {
    "duration": 9,
    "start_time": "2021-07-07T17:46:16.812Z"
   },
   {
    "duration": 60,
    "start_time": "2021-07-07T17:46:16.822Z"
   },
   {
    "duration": -8,
    "start_time": "2021-07-07T17:46:16.892Z"
   },
   {
    "duration": 12,
    "start_time": "2021-07-07T17:48:47.707Z"
   },
   {
    "duration": 553,
    "start_time": "2021-07-07T18:10:09.350Z"
   },
   {
    "duration": 230,
    "start_time": "2021-07-07T18:10:09.905Z"
   },
   {
    "duration": 97,
    "start_time": "2021-07-07T18:10:10.137Z"
   },
   {
    "duration": 5,
    "start_time": "2021-07-07T18:10:10.236Z"
   },
   {
    "duration": 29,
    "start_time": "2021-07-07T18:10:10.242Z"
   },
   {
    "duration": 7,
    "start_time": "2021-07-07T18:10:10.272Z"
   },
   {
    "duration": 15,
    "start_time": "2021-07-07T18:10:10.281Z"
   },
   {
    "duration": 4,
    "start_time": "2021-07-07T18:10:10.299Z"
   },
   {
    "duration": 14,
    "start_time": "2021-07-07T18:10:10.305Z"
   },
   {
    "duration": 8,
    "start_time": "2021-07-07T18:10:10.321Z"
   },
   {
    "duration": 8,
    "start_time": "2021-07-07T18:10:10.331Z"
   },
   {
    "duration": 56,
    "start_time": "2021-07-07T18:10:10.341Z"
   },
   {
    "duration": 19,
    "start_time": "2021-07-07T18:10:10.399Z"
   },
   {
    "duration": 23,
    "start_time": "2021-07-07T18:10:10.419Z"
   },
   {
    "duration": 6,
    "start_time": "2021-07-07T18:10:10.444Z"
   },
   {
    "duration": 9,
    "start_time": "2021-07-07T18:10:10.451Z"
   },
   {
    "duration": 30,
    "start_time": "2021-07-07T18:10:10.462Z"
   },
   {
    "duration": 9,
    "start_time": "2021-07-07T18:10:10.494Z"
   },
   {
    "duration": 14,
    "start_time": "2021-07-07T18:10:10.505Z"
   },
   {
    "duration": 7,
    "start_time": "2021-07-07T18:10:10.521Z"
   },
   {
    "duration": 26,
    "start_time": "2021-07-07T18:10:10.530Z"
   },
   {
    "duration": 44,
    "start_time": "2021-07-07T18:10:10.558Z"
   },
   {
    "duration": 7,
    "start_time": "2021-07-07T18:10:10.605Z"
   },
   {
    "duration": 11,
    "start_time": "2021-07-07T18:10:10.614Z"
   },
   {
    "duration": 19,
    "start_time": "2021-07-07T18:10:10.626Z"
   },
   {
    "duration": 44,
    "start_time": "2021-07-07T18:10:10.646Z"
   },
   {
    "duration": 516,
    "start_time": "2021-07-07T18:14:00.826Z"
   },
   {
    "duration": 230,
    "start_time": "2021-07-07T18:14:01.344Z"
   },
   {
    "duration": 105,
    "start_time": "2021-07-07T18:14:01.576Z"
   },
   {
    "duration": 5,
    "start_time": "2021-07-07T18:14:01.683Z"
   },
   {
    "duration": 46,
    "start_time": "2021-07-07T18:14:01.690Z"
   },
   {
    "duration": 7,
    "start_time": "2021-07-07T18:14:01.738Z"
   },
   {
    "duration": 20,
    "start_time": "2021-07-07T18:14:01.747Z"
   },
   {
    "duration": 16,
    "start_time": "2021-07-07T18:14:01.769Z"
   },
   {
    "duration": 14,
    "start_time": "2021-07-07T18:14:01.787Z"
   },
   {
    "duration": 15,
    "start_time": "2021-07-07T18:14:01.803Z"
   },
   {
    "duration": 12,
    "start_time": "2021-07-07T18:14:01.820Z"
   },
   {
    "duration": 35,
    "start_time": "2021-07-07T18:14:01.833Z"
   },
   {
    "duration": 31,
    "start_time": "2021-07-07T18:14:01.869Z"
   },
   {
    "duration": 37,
    "start_time": "2021-07-07T18:14:01.902Z"
   },
   {
    "duration": 8,
    "start_time": "2021-07-07T18:14:01.942Z"
   },
   {
    "duration": 16,
    "start_time": "2021-07-07T18:14:01.952Z"
   },
   {
    "duration": 13,
    "start_time": "2021-07-07T18:14:01.970Z"
   },
   {
    "duration": 32,
    "start_time": "2021-07-07T18:14:01.985Z"
   },
   {
    "duration": 11,
    "start_time": "2021-07-07T18:14:02.019Z"
   },
   {
    "duration": 22,
    "start_time": "2021-07-07T18:14:02.031Z"
   },
   {
    "duration": 27,
    "start_time": "2021-07-07T18:14:02.055Z"
   },
   {
    "duration": 18,
    "start_time": "2021-07-07T18:14:02.084Z"
   },
   {
    "duration": 18,
    "start_time": "2021-07-07T18:14:02.106Z"
   },
   {
    "duration": 11,
    "start_time": "2021-07-07T18:14:02.126Z"
   },
   {
    "duration": 21,
    "start_time": "2021-07-07T18:14:02.138Z"
   },
   {
    "duration": 32,
    "start_time": "2021-07-07T18:14:02.161Z"
   },
   {
    "duration": 28,
    "start_time": "2021-07-07T18:14:44.295Z"
   },
   {
    "duration": 6,
    "start_time": "2021-07-07T18:15:05.834Z"
   },
   {
    "duration": 511,
    "start_time": "2021-07-07T18:15:41.541Z"
   },
   {
    "duration": 183,
    "start_time": "2021-07-07T18:15:42.054Z"
   },
   {
    "duration": 50,
    "start_time": "2021-07-07T18:15:42.239Z"
   },
   {
    "duration": 5,
    "start_time": "2021-07-07T18:15:42.291Z"
   },
   {
    "duration": 48,
    "start_time": "2021-07-07T18:15:42.297Z"
   },
   {
    "duration": 8,
    "start_time": "2021-07-07T18:15:42.346Z"
   },
   {
    "duration": 17,
    "start_time": "2021-07-07T18:15:42.356Z"
   },
   {
    "duration": 15,
    "start_time": "2021-07-07T18:15:42.375Z"
   },
   {
    "duration": 12,
    "start_time": "2021-07-07T18:15:42.392Z"
   },
   {
    "duration": 7,
    "start_time": "2021-07-07T18:15:42.406Z"
   },
   {
    "duration": 7,
    "start_time": "2021-07-07T18:15:42.415Z"
   },
   {
    "duration": 29,
    "start_time": "2021-07-07T18:15:42.423Z"
   },
   {
    "duration": 43,
    "start_time": "2021-07-07T18:15:42.453Z"
   },
   {
    "duration": 18,
    "start_time": "2021-07-07T18:15:42.497Z"
   },
   {
    "duration": 6,
    "start_time": "2021-07-07T18:15:42.516Z"
   },
   {
    "duration": 3,
    "start_time": "2021-07-07T18:15:42.523Z"
   },
   {
    "duration": 18,
    "start_time": "2021-07-07T18:15:42.528Z"
   },
   {
    "duration": 10,
    "start_time": "2021-07-07T18:15:42.547Z"
   },
   {
    "duration": 36,
    "start_time": "2021-07-07T18:15:42.559Z"
   },
   {
    "duration": 8,
    "start_time": "2021-07-07T18:15:42.597Z"
   },
   {
    "duration": 28,
    "start_time": "2021-07-07T18:15:42.606Z"
   },
   {
    "duration": 52,
    "start_time": "2021-07-07T18:15:42.635Z"
   },
   {
    "duration": 7,
    "start_time": "2021-07-07T18:15:42.690Z"
   },
   {
    "duration": 10,
    "start_time": "2021-07-07T18:15:42.699Z"
   },
   {
    "duration": 19,
    "start_time": "2021-07-07T18:15:42.711Z"
   },
   {
    "duration": 9,
    "start_time": "2021-07-07T18:15:42.732Z"
   },
   {
    "duration": 5,
    "start_time": "2021-07-07T18:15:42.743Z"
   },
   {
    "duration": 1450,
    "start_time": "2021-07-07T18:15:51.984Z"
   },
   {
    "duration": 161,
    "start_time": "2021-07-07T18:15:53.435Z"
   },
   {
    "duration": 124,
    "start_time": "2021-07-07T18:15:53.598Z"
   },
   {
    "duration": 5,
    "start_time": "2021-07-07T18:15:53.724Z"
   },
   {
    "duration": 34,
    "start_time": "2021-07-07T18:15:53.730Z"
   },
   {
    "duration": 7,
    "start_time": "2021-07-07T18:15:53.765Z"
   },
   {
    "duration": 15,
    "start_time": "2021-07-07T18:15:53.773Z"
   },
   {
    "duration": 5,
    "start_time": "2021-07-07T18:15:53.791Z"
   },
   {
    "duration": 19,
    "start_time": "2021-07-07T18:15:53.798Z"
   },
   {
    "duration": 9,
    "start_time": "2021-07-07T18:15:53.818Z"
   },
   {
    "duration": 19,
    "start_time": "2021-07-07T18:15:53.828Z"
   },
   {
    "duration": 27,
    "start_time": "2021-07-07T18:15:53.848Z"
   },
   {
    "duration": 16,
    "start_time": "2021-07-07T18:15:53.884Z"
   },
   {
    "duration": 29,
    "start_time": "2021-07-07T18:15:53.901Z"
   },
   {
    "duration": 5,
    "start_time": "2021-07-07T18:15:53.932Z"
   },
   {
    "duration": 15,
    "start_time": "2021-07-07T18:15:53.939Z"
   },
   {
    "duration": 13,
    "start_time": "2021-07-07T18:15:53.956Z"
   },
   {
    "duration": 20,
    "start_time": "2021-07-07T18:15:53.971Z"
   },
   {
    "duration": 14,
    "start_time": "2021-07-07T18:15:53.992Z"
   },
   {
    "duration": 9,
    "start_time": "2021-07-07T18:15:54.009Z"
   },
   {
    "duration": 28,
    "start_time": "2021-07-07T18:15:54.020Z"
   },
   {
    "duration": 50,
    "start_time": "2021-07-07T18:15:54.051Z"
   },
   {
    "duration": 8,
    "start_time": "2021-07-07T18:15:54.105Z"
   },
   {
    "duration": 11,
    "start_time": "2021-07-07T18:15:54.115Z"
   },
   {
    "duration": 20,
    "start_time": "2021-07-07T18:15:54.128Z"
   },
   {
    "duration": 13,
    "start_time": "2021-07-07T18:15:54.184Z"
   },
   {
    "duration": 7,
    "start_time": "2021-07-07T18:15:54.199Z"
   },
   {
    "duration": 7,
    "start_time": "2021-07-07T18:17:08.042Z"
   },
   {
    "duration": 8,
    "start_time": "2021-07-07T18:17:21.008Z"
   },
   {
    "duration": 7,
    "start_time": "2021-07-07T18:17:29.003Z"
   },
   {
    "duration": 8,
    "start_time": "2021-07-07T18:17:32.492Z"
   },
   {
    "duration": 9,
    "start_time": "2021-07-07T18:17:41.758Z"
   },
   {
    "duration": 255,
    "start_time": "2021-07-07T18:20:20.897Z"
   },
   {
    "duration": 173,
    "start_time": "2021-07-07T18:20:26.636Z"
   },
   {
    "duration": 7,
    "start_time": "2021-07-07T18:21:47.164Z"
   },
   {
    "duration": 254,
    "start_time": "2021-07-07T18:23:08.703Z"
   },
   {
    "duration": 21,
    "start_time": "2021-07-07T18:23:22.506Z"
   },
   {
    "duration": 315,
    "start_time": "2021-07-07T18:25:54.801Z"
   },
   {
    "duration": 34,
    "start_time": "2021-07-07T18:26:51.817Z"
   },
   {
    "duration": 327,
    "start_time": "2021-07-07T18:26:56.147Z"
   },
   {
    "duration": 342,
    "start_time": "2021-07-07T18:27:15.887Z"
   },
   {
    "duration": 302,
    "start_time": "2021-07-07T18:28:18.569Z"
   },
   {
    "duration": 226,
    "start_time": "2021-07-07T18:29:20.879Z"
   },
   {
    "duration": 207,
    "start_time": "2021-07-07T18:29:58.114Z"
   },
   {
    "duration": 140,
    "start_time": "2021-07-07T18:32:04.372Z"
   },
   {
    "duration": 158,
    "start_time": "2021-07-07T18:32:32.508Z"
   },
   {
    "duration": 145,
    "start_time": "2021-07-07T18:32:41.365Z"
   },
   {
    "duration": 132,
    "start_time": "2021-07-07T18:32:45.199Z"
   },
   {
    "duration": 11,
    "start_time": "2021-07-07T18:35:24.679Z"
   },
   {
    "duration": 268,
    "start_time": "2021-07-07T18:36:16.145Z"
   },
   {
    "duration": 227,
    "start_time": "2021-07-07T18:37:04.918Z"
   },
   {
    "duration": 3,
    "start_time": "2021-07-07T18:37:33.012Z"
   },
   {
    "duration": 671,
    "start_time": "2021-07-07T18:37:38.295Z"
   },
   {
    "duration": 54,
    "start_time": "2021-07-07T18:37:53.406Z"
   },
   {
    "duration": 631,
    "start_time": "2021-07-07T18:37:56.463Z"
   },
   {
    "duration": 19,
    "start_time": "2021-07-07T18:39:40.535Z"
   },
   {
    "duration": 20,
    "start_time": "2021-07-07T18:40:12.236Z"
   },
   {
    "duration": 633,
    "start_time": "2021-07-07T18:42:00.398Z"
   },
   {
    "duration": 218,
    "start_time": "2021-07-07T18:42:01.033Z"
   },
   {
    "duration": 49,
    "start_time": "2021-07-07T18:42:01.253Z"
   },
   {
    "duration": 5,
    "start_time": "2021-07-07T18:42:01.303Z"
   },
   {
    "duration": 27,
    "start_time": "2021-07-07T18:42:01.310Z"
   },
   {
    "duration": 8,
    "start_time": "2021-07-07T18:42:01.339Z"
   },
   {
    "duration": 20,
    "start_time": "2021-07-07T18:42:01.348Z"
   },
   {
    "duration": 6,
    "start_time": "2021-07-07T18:42:01.386Z"
   },
   {
    "duration": 16,
    "start_time": "2021-07-07T18:42:01.394Z"
   },
   {
    "duration": 9,
    "start_time": "2021-07-07T18:42:01.411Z"
   },
   {
    "duration": 11,
    "start_time": "2021-07-07T18:42:01.421Z"
   },
   {
    "duration": 31,
    "start_time": "2021-07-07T18:42:01.434Z"
   },
   {
    "duration": 18,
    "start_time": "2021-07-07T18:42:01.485Z"
   },
   {
    "duration": 23,
    "start_time": "2021-07-07T18:42:01.505Z"
   },
   {
    "duration": 6,
    "start_time": "2021-07-07T18:42:01.530Z"
   },
   {
    "duration": 10,
    "start_time": "2021-07-07T18:42:01.538Z"
   },
   {
    "duration": 13,
    "start_time": "2021-07-07T18:42:01.550Z"
   },
   {
    "duration": 24,
    "start_time": "2021-07-07T18:42:01.564Z"
   },
   {
    "duration": 20,
    "start_time": "2021-07-07T18:42:01.590Z"
   },
   {
    "duration": 8,
    "start_time": "2021-07-07T18:42:01.611Z"
   },
   {
    "duration": 31,
    "start_time": "2021-07-07T18:42:01.620Z"
   },
   {
    "duration": 39,
    "start_time": "2021-07-07T18:42:01.653Z"
   },
   {
    "duration": 8,
    "start_time": "2021-07-07T18:42:01.696Z"
   },
   {
    "duration": 13,
    "start_time": "2021-07-07T18:42:01.705Z"
   },
   {
    "duration": 20,
    "start_time": "2021-07-07T18:42:01.720Z"
   },
   {
    "duration": 12,
    "start_time": "2021-07-07T18:42:01.741Z"
   },
   {
    "duration": 35,
    "start_time": "2021-07-07T18:42:01.755Z"
   },
   {
    "duration": 14,
    "start_time": "2021-07-07T18:42:01.792Z"
   },
   {
    "duration": 188,
    "start_time": "2021-07-07T18:42:01.808Z"
   },
   {
    "duration": 19,
    "start_time": "2021-07-07T18:42:01.998Z"
   },
   {
    "duration": 175,
    "start_time": "2021-07-07T18:42:02.019Z"
   },
   {
    "duration": 134,
    "start_time": "2021-07-07T18:42:02.196Z"
   },
   {
    "duration": 10,
    "start_time": "2021-07-07T18:42:02.331Z"
   },
   {
    "duration": 19,
    "start_time": "2021-07-07T18:42:02.343Z"
   },
   {
    "duration": 628,
    "start_time": "2021-07-07T18:46:30.701Z"
   },
   {
    "duration": 183,
    "start_time": "2021-07-07T18:46:31.331Z"
   },
   {
    "duration": 48,
    "start_time": "2021-07-07T18:46:31.516Z"
   },
   {
    "duration": 5,
    "start_time": "2021-07-07T18:46:31.566Z"
   },
   {
    "duration": 28,
    "start_time": "2021-07-07T18:46:31.572Z"
   },
   {
    "duration": 8,
    "start_time": "2021-07-07T18:46:31.602Z"
   },
   {
    "duration": 19,
    "start_time": "2021-07-07T18:46:31.611Z"
   },
   {
    "duration": 6,
    "start_time": "2021-07-07T18:46:31.633Z"
   },
   {
    "duration": 17,
    "start_time": "2021-07-07T18:46:31.642Z"
   },
   {
    "duration": 10,
    "start_time": "2021-07-07T18:46:31.684Z"
   },
   {
    "duration": 9,
    "start_time": "2021-07-07T18:46:31.695Z"
   },
   {
    "duration": 28,
    "start_time": "2021-07-07T18:46:31.705Z"
   },
   {
    "duration": 18,
    "start_time": "2021-07-07T18:46:31.735Z"
   },
   {
    "duration": 48,
    "start_time": "2021-07-07T18:46:31.755Z"
   },
   {
    "duration": 6,
    "start_time": "2021-07-07T18:46:31.804Z"
   },
   {
    "duration": 4,
    "start_time": "2021-07-07T18:46:31.812Z"
   },
   {
    "duration": 9,
    "start_time": "2021-07-07T18:46:31.817Z"
   },
   {
    "duration": 10,
    "start_time": "2021-07-07T18:46:31.827Z"
   },
   {
    "duration": 12,
    "start_time": "2021-07-07T18:46:31.838Z"
   },
   {
    "duration": 39,
    "start_time": "2021-07-07T18:46:31.851Z"
   },
   {
    "duration": 24,
    "start_time": "2021-07-07T18:46:31.892Z"
   },
   {
    "duration": 15,
    "start_time": "2021-07-07T18:46:31.918Z"
   },
   {
    "duration": 7,
    "start_time": "2021-07-07T18:46:31.936Z"
   },
   {
    "duration": 8,
    "start_time": "2021-07-07T18:46:31.944Z"
   },
   {
    "duration": 19,
    "start_time": "2021-07-07T18:46:31.984Z"
   },
   {
    "duration": 10,
    "start_time": "2021-07-07T18:46:32.004Z"
   },
   {
    "duration": 5,
    "start_time": "2021-07-07T18:46:32.016Z"
   },
   {
    "duration": 9,
    "start_time": "2021-07-07T18:46:32.023Z"
   },
   {
    "duration": 199,
    "start_time": "2021-07-07T18:46:32.033Z"
   },
   {
    "duration": 19,
    "start_time": "2021-07-07T18:46:32.234Z"
   },
   {
    "duration": 159,
    "start_time": "2021-07-07T18:46:32.255Z"
   },
   {
    "duration": 134,
    "start_time": "2021-07-07T18:46:32.416Z"
   },
   {
    "duration": 10,
    "start_time": "2021-07-07T18:46:32.552Z"
   },
   {
    "duration": 34,
    "start_time": "2021-07-07T18:46:32.563Z"
   },
   {
    "duration": 1039,
    "start_time": "2021-07-08T08:41:09.419Z"
   },
   {
    "duration": 333,
    "start_time": "2021-07-08T08:41:10.459Z"
   },
   {
    "duration": 173,
    "start_time": "2021-07-08T08:41:10.794Z"
   },
   {
    "duration": 5,
    "start_time": "2021-07-08T08:41:10.968Z"
   },
   {
    "duration": 25,
    "start_time": "2021-07-08T08:41:10.975Z"
   },
   {
    "duration": 9,
    "start_time": "2021-07-08T08:41:11.002Z"
   },
   {
    "duration": 18,
    "start_time": "2021-07-08T08:41:11.013Z"
   },
   {
    "duration": 6,
    "start_time": "2021-07-08T08:41:11.033Z"
   },
   {
    "duration": 44,
    "start_time": "2021-07-08T08:41:11.042Z"
   },
   {
    "duration": 10,
    "start_time": "2021-07-08T08:41:11.088Z"
   },
   {
    "duration": 9,
    "start_time": "2021-07-08T08:41:11.100Z"
   },
   {
    "duration": 27,
    "start_time": "2021-07-08T08:41:11.111Z"
   },
   {
    "duration": 46,
    "start_time": "2021-07-08T08:41:11.140Z"
   },
   {
    "duration": 17,
    "start_time": "2021-07-08T08:41:11.187Z"
   },
   {
    "duration": 6,
    "start_time": "2021-07-08T08:41:11.206Z"
   },
   {
    "duration": 5,
    "start_time": "2021-07-08T08:41:11.213Z"
   },
   {
    "duration": 10,
    "start_time": "2021-07-08T08:41:11.219Z"
   },
   {
    "duration": 9,
    "start_time": "2021-07-08T08:41:11.230Z"
   },
   {
    "duration": 45,
    "start_time": "2021-07-08T08:41:11.241Z"
   },
   {
    "duration": 7,
    "start_time": "2021-07-08T08:41:11.287Z"
   },
   {
    "duration": 24,
    "start_time": "2021-07-08T08:41:11.296Z"
   },
   {
    "duration": 16,
    "start_time": "2021-07-08T08:41:11.322Z"
   },
   {
    "duration": 7,
    "start_time": "2021-07-08T08:41:11.341Z"
   },
   {
    "duration": 41,
    "start_time": "2021-07-08T08:41:11.349Z"
   },
   {
    "duration": 17,
    "start_time": "2021-07-08T08:41:11.391Z"
   },
   {
    "duration": 9,
    "start_time": "2021-07-08T08:41:11.410Z"
   },
   {
    "duration": 5,
    "start_time": "2021-07-08T08:41:11.421Z"
   },
   {
    "duration": 6,
    "start_time": "2021-07-08T08:41:11.428Z"
   },
   {
    "duration": 198,
    "start_time": "2021-07-08T08:41:11.435Z"
   },
   {
    "duration": 18,
    "start_time": "2021-07-08T08:41:11.635Z"
   },
   {
    "duration": 155,
    "start_time": "2021-07-08T08:41:11.655Z"
   },
   {
    "duration": 138,
    "start_time": "2021-07-08T08:41:11.811Z"
   },
   {
    "duration": 10,
    "start_time": "2021-07-08T08:41:11.950Z"
   },
   {
    "duration": 29,
    "start_time": "2021-07-08T08:41:11.961Z"
   },
   {
    "duration": 171,
    "start_time": "2021-07-08T08:47:44.522Z"
   },
   {
    "duration": 124,
    "start_time": "2021-07-08T08:47:46.872Z"
   },
   {
    "duration": 191,
    "start_time": "2021-07-08T08:47:58.148Z"
   },
   {
    "duration": 191,
    "start_time": "2021-07-08T08:48:07.412Z"
   },
   {
    "duration": 261,
    "start_time": "2021-07-08T08:48:10.385Z"
   },
   {
    "duration": 255,
    "start_time": "2021-07-08T08:48:14.494Z"
   },
   {
    "duration": 219,
    "start_time": "2021-07-08T08:48:22.752Z"
   },
   {
    "duration": 173,
    "start_time": "2021-07-08T08:49:06.395Z"
   },
   {
    "duration": 180,
    "start_time": "2021-07-08T08:49:21.011Z"
   },
   {
    "duration": 6,
    "start_time": "2021-07-08T08:50:31.697Z"
   },
   {
    "duration": 10,
    "start_time": "2021-07-08T08:50:47.394Z"
   },
   {
    "duration": 11,
    "start_time": "2021-07-08T08:53:49.332Z"
   },
   {
    "duration": 171,
    "start_time": "2021-07-08T08:54:28.408Z"
   },
   {
    "duration": 636,
    "start_time": "2021-07-08T09:02:48.385Z"
   },
   {
    "duration": 227,
    "start_time": "2021-07-08T09:02:49.023Z"
   },
   {
    "duration": 104,
    "start_time": "2021-07-08T09:02:49.252Z"
   },
   {
    "duration": 5,
    "start_time": "2021-07-08T09:02:49.358Z"
   },
   {
    "duration": 27,
    "start_time": "2021-07-08T09:02:49.365Z"
   },
   {
    "duration": 8,
    "start_time": "2021-07-08T09:02:49.394Z"
   },
   {
    "duration": 18,
    "start_time": "2021-07-08T09:02:49.404Z"
   },
   {
    "duration": 6,
    "start_time": "2021-07-08T09:02:49.424Z"
   },
   {
    "duration": 11,
    "start_time": "2021-07-08T09:02:49.433Z"
   },
   {
    "duration": 13,
    "start_time": "2021-07-08T09:02:49.485Z"
   },
   {
    "duration": 9,
    "start_time": "2021-07-08T09:02:49.500Z"
   },
   {
    "duration": 38,
    "start_time": "2021-07-08T09:02:49.511Z"
   },
   {
    "duration": 42,
    "start_time": "2021-07-08T09:02:49.551Z"
   },
   {
    "duration": 21,
    "start_time": "2021-07-08T09:02:49.594Z"
   },
   {
    "duration": 6,
    "start_time": "2021-07-08T09:02:49.616Z"
   },
   {
    "duration": 3,
    "start_time": "2021-07-08T09:02:49.623Z"
   },
   {
    "duration": 9,
    "start_time": "2021-07-08T09:02:49.628Z"
   },
   {
    "duration": 52,
    "start_time": "2021-07-08T09:02:49.638Z"
   },
   {
    "duration": 11,
    "start_time": "2021-07-08T09:02:49.692Z"
   },
   {
    "duration": 8,
    "start_time": "2021-07-08T09:02:49.704Z"
   },
   {
    "duration": 27,
    "start_time": "2021-07-08T09:02:49.713Z"
   },
   {
    "duration": 59,
    "start_time": "2021-07-08T09:02:49.741Z"
   },
   {
    "duration": 8,
    "start_time": "2021-07-08T09:02:49.803Z"
   },
   {
    "duration": 14,
    "start_time": "2021-07-08T09:02:49.813Z"
   },
   {
    "duration": 20,
    "start_time": "2021-07-08T09:02:49.829Z"
   },
   {
    "duration": 44,
    "start_time": "2021-07-08T09:02:49.851Z"
   },
   {
    "duration": 14,
    "start_time": "2021-07-08T09:02:49.896Z"
   },
   {
    "duration": 221,
    "start_time": "2021-07-08T09:02:49.912Z"
   },
   {
    "duration": 6,
    "start_time": "2021-07-08T09:02:50.134Z"
   },
   {
    "duration": 206,
    "start_time": "2021-07-08T09:02:50.142Z"
   },
   {
    "duration": 19,
    "start_time": "2021-07-08T09:02:50.350Z"
   },
   {
    "duration": 21,
    "start_time": "2021-07-08T09:02:50.370Z"
   },
   {
    "duration": 20,
    "start_time": "2021-07-08T09:02:50.393Z"
   },
   {
    "duration": 5,
    "start_time": "2021-07-08T09:02:50.414Z"
   },
   {
    "duration": 5,
    "start_time": "2021-07-08T09:03:34.173Z"
   },
   {
    "duration": 6,
    "start_time": "2021-07-08T09:04:49.062Z"
   },
   {
    "duration": 9,
    "start_time": "2021-07-08T09:04:50.118Z"
   },
   {
    "duration": 14,
    "start_time": "2021-07-08T09:04:58.512Z"
   },
   {
    "duration": 9,
    "start_time": "2021-07-08T09:05:10.988Z"
   },
   {
    "duration": 11,
    "start_time": "2021-07-08T09:05:11.743Z"
   },
   {
    "duration": 7,
    "start_time": "2021-07-08T09:05:25.677Z"
   },
   {
    "duration": 13,
    "start_time": "2021-07-08T09:05:47.189Z"
   },
   {
    "duration": 13,
    "start_time": "2021-07-08T09:05:54.755Z"
   },
   {
    "duration": 4,
    "start_time": "2021-07-08T09:06:29.189Z"
   },
   {
    "duration": 244,
    "start_time": "2021-07-08T09:06:29.195Z"
   },
   {
    "duration": 91,
    "start_time": "2021-07-08T09:06:29.441Z"
   },
   {
    "duration": 4,
    "start_time": "2021-07-08T09:06:29.534Z"
   },
   {
    "duration": 28,
    "start_time": "2021-07-08T09:06:29.540Z"
   },
   {
    "duration": 6,
    "start_time": "2021-07-08T09:06:29.570Z"
   },
   {
    "duration": 18,
    "start_time": "2021-07-08T09:06:29.578Z"
   },
   {
    "duration": 5,
    "start_time": "2021-07-08T09:06:29.597Z"
   },
   {
    "duration": 13,
    "start_time": "2021-07-08T09:06:29.605Z"
   },
   {
    "duration": 8,
    "start_time": "2021-07-08T09:06:29.620Z"
   },
   {
    "duration": 7,
    "start_time": "2021-07-08T09:06:29.630Z"
   },
   {
    "duration": 63,
    "start_time": "2021-07-08T09:06:29.639Z"
   },
   {
    "duration": 17,
    "start_time": "2021-07-08T09:06:29.704Z"
   },
   {
    "duration": 20,
    "start_time": "2021-07-08T09:06:29.723Z"
   },
   {
    "duration": 6,
    "start_time": "2021-07-08T09:06:29.745Z"
   },
   {
    "duration": 3,
    "start_time": "2021-07-08T09:06:29.752Z"
   },
   {
    "duration": 7,
    "start_time": "2021-07-08T09:06:29.785Z"
   },
   {
    "duration": 11,
    "start_time": "2021-07-08T09:06:29.794Z"
   },
   {
    "duration": 15,
    "start_time": "2021-07-08T09:06:29.807Z"
   },
   {
    "duration": 8,
    "start_time": "2021-07-08T09:06:29.823Z"
   },
   {
    "duration": 70,
    "start_time": "2021-07-08T09:06:29.832Z"
   },
   {
    "duration": 17,
    "start_time": "2021-07-08T09:06:29.903Z"
   },
   {
    "duration": 9,
    "start_time": "2021-07-08T09:06:29.921Z"
   },
   {
    "duration": 9,
    "start_time": "2021-07-08T09:06:29.932Z"
   },
   {
    "duration": 57,
    "start_time": "2021-07-08T09:06:29.942Z"
   },
   {
    "duration": 11,
    "start_time": "2021-07-08T09:06:30.001Z"
   },
   {
    "duration": 19,
    "start_time": "2021-07-08T09:06:30.016Z"
   },
   {
    "duration": 217,
    "start_time": "2021-07-08T09:06:30.037Z"
   },
   {
    "duration": 6,
    "start_time": "2021-07-08T09:06:30.255Z"
   },
   {
    "duration": 205,
    "start_time": "2021-07-08T09:06:30.263Z"
   },
   {
    "duration": 27,
    "start_time": "2021-07-08T09:06:30.470Z"
   },
   {
    "duration": 11,
    "start_time": "2021-07-08T09:06:30.500Z"
   },
   {
    "duration": 31,
    "start_time": "2021-07-08T09:06:30.513Z"
   },
   {
    "duration": 18,
    "start_time": "2021-07-08T09:06:30.546Z"
   },
   {
    "duration": 11,
    "start_time": "2021-07-08T09:06:30.566Z"
   },
   {
    "duration": 19,
    "start_time": "2021-07-08T09:06:30.579Z"
   },
   {
    "duration": 20,
    "start_time": "2021-07-08T09:06:49.466Z"
   },
   {
    "duration": 9,
    "start_time": "2021-07-08T09:06:51.994Z"
   },
   {
    "duration": 20,
    "start_time": "2021-07-08T09:06:52.273Z"
   },
   {
    "duration": 246,
    "start_time": "2021-07-08T09:10:21.272Z"
   },
   {
    "duration": 84,
    "start_time": "2021-07-08T09:10:21.436Z"
   },
   {
    "duration": 7,
    "start_time": "2021-07-08T09:10:37.608Z"
   },
   {
    "duration": 189,
    "start_time": "2021-07-08T09:10:38.573Z"
   },
   {
    "duration": 185,
    "start_time": "2021-07-08T09:10:53.181Z"
   },
   {
    "duration": 11,
    "start_time": "2021-07-08T09:10:59.549Z"
   },
   {
    "duration": 42,
    "start_time": "2021-07-08T09:10:59.709Z"
   },
   {
    "duration": 12,
    "start_time": "2021-07-08T09:11:02.857Z"
   },
   {
    "duration": 28,
    "start_time": "2021-07-08T09:11:10.062Z"
   },
   {
    "duration": 249,
    "start_time": "2021-07-08T09:11:37.388Z"
   },
   {
    "duration": 232,
    "start_time": "2021-07-08T09:11:49.485Z"
   },
   {
    "duration": 453,
    "start_time": "2021-07-08T09:12:01.546Z"
   },
   {
    "duration": 440,
    "start_time": "2021-07-08T09:12:12.347Z"
   },
   {
    "duration": 213,
    "start_time": "2021-07-08T09:13:32.196Z"
   },
   {
    "duration": 172,
    "start_time": "2021-07-08T09:14:07.400Z"
   },
   {
    "duration": 185,
    "start_time": "2021-07-08T09:14:14.905Z"
   },
   {
    "duration": 209,
    "start_time": "2021-07-08T09:14:40.109Z"
   },
   {
    "duration": 201,
    "start_time": "2021-07-08T09:14:54.506Z"
   },
   {
    "duration": 622,
    "start_time": "2021-07-08T09:18:14.497Z"
   },
   {
    "duration": 220,
    "start_time": "2021-07-08T09:18:15.121Z"
   },
   {
    "duration": 79,
    "start_time": "2021-07-08T09:18:15.343Z"
   },
   {
    "duration": 4,
    "start_time": "2021-07-08T09:18:15.425Z"
   },
   {
    "duration": 24,
    "start_time": "2021-07-08T09:18:15.431Z"
   },
   {
    "duration": 8,
    "start_time": "2021-07-08T09:18:15.457Z"
   },
   {
    "duration": 16,
    "start_time": "2021-07-08T09:18:15.466Z"
   },
   {
    "duration": 5,
    "start_time": "2021-07-08T09:18:15.484Z"
   },
   {
    "duration": 10,
    "start_time": "2021-07-08T09:18:15.493Z"
   },
   {
    "duration": 8,
    "start_time": "2021-07-08T09:18:15.504Z"
   },
   {
    "duration": 7,
    "start_time": "2021-07-08T09:18:15.513Z"
   },
   {
    "duration": 26,
    "start_time": "2021-07-08T09:18:15.522Z"
   },
   {
    "duration": 49,
    "start_time": "2021-07-08T09:18:15.550Z"
   },
   {
    "duration": 21,
    "start_time": "2021-07-08T09:18:15.601Z"
   },
   {
    "duration": 8,
    "start_time": "2021-07-08T09:18:15.624Z"
   },
   {
    "duration": 3,
    "start_time": "2021-07-08T09:18:15.634Z"
   },
   {
    "duration": 8,
    "start_time": "2021-07-08T09:18:15.639Z"
   },
   {
    "duration": 45,
    "start_time": "2021-07-08T09:18:15.649Z"
   },
   {
    "duration": 13,
    "start_time": "2021-07-08T09:18:15.696Z"
   },
   {
    "duration": 10,
    "start_time": "2021-07-08T09:18:15.711Z"
   },
   {
    "duration": 64,
    "start_time": "2021-07-08T09:18:15.722Z"
   },
   {
    "duration": 19,
    "start_time": "2021-07-08T09:18:15.788Z"
   },
   {
    "duration": 9,
    "start_time": "2021-07-08T09:18:15.809Z"
   },
   {
    "duration": 9,
    "start_time": "2021-07-08T09:18:15.820Z"
   },
   {
    "duration": 18,
    "start_time": "2021-07-08T09:18:15.831Z"
   },
   {
    "duration": 43,
    "start_time": "2021-07-08T09:18:15.851Z"
   },
   {
    "duration": 12,
    "start_time": "2021-07-08T09:18:15.897Z"
   },
   {
    "duration": 219,
    "start_time": "2021-07-08T09:18:15.911Z"
   },
   {
    "duration": 8,
    "start_time": "2021-07-08T09:18:16.132Z"
   },
   {
    "duration": 199,
    "start_time": "2021-07-08T09:18:16.141Z"
   },
   {
    "duration": 18,
    "start_time": "2021-07-08T09:18:16.341Z"
   },
   {
    "duration": 24,
    "start_time": "2021-07-08T09:18:16.361Z"
   },
   {
    "duration": 24,
    "start_time": "2021-07-08T09:18:16.387Z"
   },
   {
    "duration": 211,
    "start_time": "2021-07-08T09:18:16.413Z"
   },
   {
    "duration": 18,
    "start_time": "2021-07-08T09:18:16.626Z"
   },
   {
    "duration": 596,
    "start_time": "2021-07-08T10:06:33.623Z"
   },
   {
    "duration": 181,
    "start_time": "2021-07-08T10:06:34.221Z"
   },
   {
    "duration": 176,
    "start_time": "2021-07-08T10:06:34.635Z"
   },
   {
    "duration": 239,
    "start_time": "2021-07-08T10:06:55.572Z"
   },
   {
    "duration": 6,
    "start_time": "2021-07-08T10:06:57.687Z"
   },
   {
    "duration": 4,
    "start_time": "2021-07-08T10:07:03.956Z"
   },
   {
    "duration": 4,
    "start_time": "2021-07-08T10:07:10.376Z"
   },
   {
    "duration": 4,
    "start_time": "2021-07-08T10:17:19.889Z"
   },
   {
    "duration": 3,
    "start_time": "2021-07-08T10:19:19.407Z"
   },
   {
    "duration": 197,
    "start_time": "2021-07-08T10:19:19.412Z"
   },
   {
    "duration": 127,
    "start_time": "2021-07-08T10:19:19.611Z"
   },
   {
    "duration": 4,
    "start_time": "2021-07-08T10:19:19.740Z"
   },
   {
    "duration": 27,
    "start_time": "2021-07-08T10:19:19.746Z"
   },
   {
    "duration": 7,
    "start_time": "2021-07-08T10:19:19.775Z"
   },
   {
    "duration": 30,
    "start_time": "2021-07-08T10:19:19.784Z"
   },
   {
    "duration": 7,
    "start_time": "2021-07-08T10:19:19.817Z"
   },
   {
    "duration": 26,
    "start_time": "2021-07-08T10:19:19.826Z"
   },
   {
    "duration": 18,
    "start_time": "2021-07-08T10:19:19.854Z"
   },
   {
    "duration": 14,
    "start_time": "2021-07-08T10:19:19.874Z"
   },
   {
    "duration": 48,
    "start_time": "2021-07-08T10:19:19.890Z"
   },
   {
    "duration": 17,
    "start_time": "2021-07-08T10:19:19.940Z"
   },
   {
    "duration": 38,
    "start_time": "2021-07-08T10:19:19.959Z"
   },
   {
    "duration": 8,
    "start_time": "2021-07-08T10:19:19.999Z"
   },
   {
    "duration": 15,
    "start_time": "2021-07-08T10:19:20.009Z"
   },
   {
    "duration": 22,
    "start_time": "2021-07-08T10:19:20.026Z"
   },
   {
    "duration": 10,
    "start_time": "2021-07-08T10:19:20.050Z"
   },
   {
    "duration": 10,
    "start_time": "2021-07-08T10:19:20.062Z"
   },
   {
    "duration": 20,
    "start_time": "2021-07-08T10:19:20.073Z"
   },
   {
    "duration": 29,
    "start_time": "2021-07-08T10:19:20.095Z"
   },
   {
    "duration": 17,
    "start_time": "2021-07-08T10:19:20.126Z"
   },
   {
    "duration": 40,
    "start_time": "2021-07-08T10:19:20.146Z"
   },
   {
    "duration": 15,
    "start_time": "2021-07-08T10:19:20.189Z"
   },
   {
    "duration": 19,
    "start_time": "2021-07-08T10:19:20.206Z"
   },
   {
    "duration": 10,
    "start_time": "2021-07-08T10:19:20.226Z"
   },
   {
    "duration": 11,
    "start_time": "2021-07-08T10:19:20.238Z"
   },
   {
    "duration": 297,
    "start_time": "2021-07-08T10:19:20.250Z"
   },
   {
    "duration": 6,
    "start_time": "2021-07-08T10:19:20.549Z"
   },
   {
    "duration": 191,
    "start_time": "2021-07-08T10:19:20.557Z"
   },
   {
    "duration": 19,
    "start_time": "2021-07-08T10:19:20.750Z"
   },
   {
    "duration": 20,
    "start_time": "2021-07-08T10:19:20.771Z"
   },
   {
    "duration": 15,
    "start_time": "2021-07-08T10:19:20.793Z"
   },
   {
    "duration": 222,
    "start_time": "2021-07-08T10:19:20.809Z"
   },
   {
    "duration": 20,
    "start_time": "2021-07-08T10:19:21.033Z"
   },
   {
    "duration": 27,
    "start_time": "2021-07-08T10:45:04.055Z"
   },
   {
    "duration": 8,
    "start_time": "2021-07-08T10:45:08.478Z"
   },
   {
    "duration": 8,
    "start_time": "2021-07-08T10:45:31.982Z"
   },
   {
    "duration": 10,
    "start_time": "2021-07-08T10:46:01.221Z"
   },
   {
    "duration": 17,
    "start_time": "2021-07-08T10:46:40.011Z"
   },
   {
    "duration": 193,
    "start_time": "2021-07-08T10:48:19.471Z"
   },
   {
    "duration": 225,
    "start_time": "2021-07-08T10:49:26.480Z"
   },
   {
    "duration": 204,
    "start_time": "2021-07-08T10:49:59.992Z"
   },
   {
    "duration": 435,
    "start_time": "2021-07-08T10:50:06.779Z"
   },
   {
    "duration": 199,
    "start_time": "2021-07-08T10:50:14.891Z"
   },
   {
    "duration": 204,
    "start_time": "2021-07-08T10:50:18.501Z"
   },
   {
    "duration": 244,
    "start_time": "2021-07-08T10:50:23.359Z"
   },
   {
    "duration": 192,
    "start_time": "2021-07-08T10:50:29.135Z"
   },
   {
    "duration": 218,
    "start_time": "2021-07-08T10:50:33.092Z"
   },
   {
    "duration": 207,
    "start_time": "2021-07-08T10:52:45.381Z"
   },
   {
    "duration": 5,
    "start_time": "2021-07-08T10:53:34.641Z"
   },
   {
    "duration": 196,
    "start_time": "2021-07-08T10:53:41.478Z"
   },
   {
    "duration": 43,
    "start_time": "2021-07-08T10:53:50.335Z"
   },
   {
    "duration": 32,
    "start_time": "2021-07-08T10:53:55.294Z"
   },
   {
    "duration": 55,
    "start_time": "2021-07-08T10:54:09.675Z"
   },
   {
    "duration": 16,
    "start_time": "2021-07-08T10:54:12.260Z"
   },
   {
    "duration": 15,
    "start_time": "2021-07-08T10:54:49.150Z"
   },
   {
    "duration": 20,
    "start_time": "2021-07-08T10:56:07.596Z"
   },
   {
    "duration": 16,
    "start_time": "2021-07-08T10:58:26.276Z"
   },
   {
    "duration": 22,
    "start_time": "2021-07-08T10:59:00.486Z"
   },
   {
    "duration": 18,
    "start_time": "2021-07-08T11:02:09.653Z"
   },
   {
    "duration": 10,
    "start_time": "2021-07-08T11:03:44.331Z"
   },
   {
    "duration": 10,
    "start_time": "2021-07-08T11:03:54.055Z"
   },
   {
    "duration": 12,
    "start_time": "2021-07-08T11:04:41.967Z"
   },
   {
    "duration": 24,
    "start_time": "2021-07-08T11:07:30.732Z"
   },
   {
    "duration": 6,
    "start_time": "2021-07-08T11:07:37.364Z"
   },
   {
    "duration": 16,
    "start_time": "2021-07-08T11:08:01.819Z"
   },
   {
    "duration": 17,
    "start_time": "2021-07-08T11:09:47.488Z"
   },
   {
    "duration": 246,
    "start_time": "2021-07-08T11:10:00.830Z"
   },
   {
    "duration": 18,
    "start_time": "2021-07-08T11:13:55.195Z"
   },
   {
    "duration": 204,
    "start_time": "2021-07-08T11:14:04.951Z"
   },
   {
    "duration": 19,
    "start_time": "2021-07-08T11:15:10.613Z"
   },
   {
    "duration": 680,
    "start_time": "2021-07-08T11:16:25.793Z"
   },
   {
    "duration": 451,
    "start_time": "2021-07-08T11:16:40.313Z"
   },
   {
    "duration": 469,
    "start_time": "2021-07-08T11:17:21.286Z"
   },
   {
    "duration": 20,
    "start_time": "2021-07-08T11:19:12.554Z"
   },
   {
    "duration": 35,
    "start_time": "2021-07-08T11:20:05.484Z"
   },
   {
    "duration": 53,
    "start_time": "2021-07-08T11:21:40.050Z"
   },
   {
    "duration": 13,
    "start_time": "2021-07-08T11:22:26.059Z"
   },
   {
    "duration": 19,
    "start_time": "2021-07-08T11:22:47.419Z"
   },
   {
    "duration": 25,
    "start_time": "2021-07-08T11:23:19.958Z"
   },
   {
    "duration": 29,
    "start_time": "2021-07-08T11:23:25.415Z"
   },
   {
    "duration": 10,
    "start_time": "2021-07-08T11:24:45.138Z"
   },
   {
    "duration": 19,
    "start_time": "2021-07-08T11:24:54.498Z"
   },
   {
    "duration": 12,
    "start_time": "2021-07-08T11:25:32.225Z"
   },
   {
    "duration": 19,
    "start_time": "2021-07-08T11:25:37.092Z"
   },
   {
    "duration": 17,
    "start_time": "2021-07-08T11:25:58.116Z"
   },
   {
    "duration": 15,
    "start_time": "2021-07-08T11:26:02.258Z"
   },
   {
    "duration": 8,
    "start_time": "2021-07-08T11:26:59.682Z"
   },
   {
    "duration": 184,
    "start_time": "2021-07-08T11:27:21.894Z"
   },
   {
    "duration": 8,
    "start_time": "2021-07-08T11:27:23.824Z"
   },
   {
    "duration": 202,
    "start_time": "2021-07-08T11:27:23.962Z"
   },
   {
    "duration": 360,
    "start_time": "2021-07-08T11:28:33.215Z"
   },
   {
    "duration": 231,
    "start_time": "2021-07-08T11:32:05.542Z"
   },
   {
    "duration": 607,
    "start_time": "2021-07-08T11:36:27.854Z"
   },
   {
    "duration": 241,
    "start_time": "2021-07-08T11:36:28.463Z"
   },
   {
    "duration": 67,
    "start_time": "2021-07-08T11:36:28.709Z"
   },
   {
    "duration": 5,
    "start_time": "2021-07-08T11:36:28.778Z"
   },
   {
    "duration": 32,
    "start_time": "2021-07-08T11:36:28.784Z"
   },
   {
    "duration": 11,
    "start_time": "2021-07-08T11:36:28.819Z"
   },
   {
    "duration": 20,
    "start_time": "2021-07-08T11:36:28.834Z"
   },
   {
    "duration": 36,
    "start_time": "2021-07-08T11:36:28.857Z"
   },
   {
    "duration": 16,
    "start_time": "2021-07-08T11:36:28.895Z"
   },
   {
    "duration": 14,
    "start_time": "2021-07-08T11:36:28.913Z"
   },
   {
    "duration": 9,
    "start_time": "2021-07-08T11:36:28.930Z"
   },
   {
    "duration": 55,
    "start_time": "2021-07-08T11:36:28.941Z"
   },
   {
    "duration": 27,
    "start_time": "2021-07-08T11:36:28.999Z"
   },
   {
    "duration": 30,
    "start_time": "2021-07-08T11:36:29.028Z"
   },
   {
    "duration": 31,
    "start_time": "2021-07-08T11:36:29.060Z"
   },
   {
    "duration": 3,
    "start_time": "2021-07-08T11:36:29.093Z"
   },
   {
    "duration": 12,
    "start_time": "2021-07-08T11:36:29.099Z"
   },
   {
    "duration": 11,
    "start_time": "2021-07-08T11:36:29.112Z"
   },
   {
    "duration": 12,
    "start_time": "2021-07-08T11:36:29.125Z"
   },
   {
    "duration": 9,
    "start_time": "2021-07-08T11:36:29.139Z"
   },
   {
    "duration": 31,
    "start_time": "2021-07-08T11:36:29.191Z"
   },
   {
    "duration": 17,
    "start_time": "2021-07-08T11:36:29.226Z"
   },
   {
    "duration": 7,
    "start_time": "2021-07-08T11:36:29.245Z"
   },
   {
    "duration": 10,
    "start_time": "2021-07-08T11:36:29.254Z"
   },
   {
    "duration": 30,
    "start_time": "2021-07-08T11:36:29.292Z"
   },
   {
    "duration": 11,
    "start_time": "2021-07-08T11:36:29.324Z"
   },
   {
    "duration": 11,
    "start_time": "2021-07-08T11:36:29.337Z"
   },
   {
    "duration": 230,
    "start_time": "2021-07-08T11:36:29.349Z"
   },
   {
    "duration": 13,
    "start_time": "2021-07-08T11:36:29.588Z"
   },
   {
    "duration": 205,
    "start_time": "2021-07-08T11:36:29.603Z"
   },
   {
    "duration": 20,
    "start_time": "2021-07-08T11:36:29.810Z"
   },
   {
    "duration": 9,
    "start_time": "2021-07-08T11:36:29.832Z"
   },
   {
    "duration": 16,
    "start_time": "2021-07-08T11:36:29.843Z"
   },
   {
    "duration": 283,
    "start_time": "2021-07-08T11:36:29.861Z"
   },
   {
    "duration": 50,
    "start_time": "2021-07-08T11:36:30.146Z"
   },
   {
    "duration": 14,
    "start_time": "2021-07-08T11:36:30.198Z"
   },
   {
    "duration": 11,
    "start_time": "2021-07-08T11:36:30.214Z"
   },
   {
    "duration": 245,
    "start_time": "2021-07-08T11:36:30.227Z"
   },
   {
    "duration": 439,
    "start_time": "2021-07-08T11:36:30.474Z"
   },
   {
    "duration": 210,
    "start_time": "2021-07-08T11:36:30.915Z"
   },
   {
    "duration": 15,
    "start_time": "2021-07-08T11:36:31.127Z"
   },
   {
    "duration": 17,
    "start_time": "2021-07-08T11:38:20.451Z"
   },
   {
    "duration": 642,
    "start_time": "2021-07-08T11:46:17.881Z"
   },
   {
    "duration": 210,
    "start_time": "2021-07-08T11:46:18.525Z"
   },
   {
    "duration": 104,
    "start_time": "2021-07-08T11:46:18.741Z"
   },
   {
    "duration": 8,
    "start_time": "2021-07-08T11:46:18.847Z"
   },
   {
    "duration": 25,
    "start_time": "2021-07-08T11:46:18.857Z"
   },
   {
    "duration": 14,
    "start_time": "2021-07-08T11:46:18.884Z"
   },
   {
    "duration": 22,
    "start_time": "2021-07-08T11:46:18.900Z"
   },
   {
    "duration": 5,
    "start_time": "2021-07-08T11:46:18.924Z"
   },
   {
    "duration": 13,
    "start_time": "2021-07-08T11:46:18.931Z"
   },
   {
    "duration": 45,
    "start_time": "2021-07-08T11:46:18.946Z"
   },
   {
    "duration": 12,
    "start_time": "2021-07-08T11:46:18.993Z"
   },
   {
    "duration": 38,
    "start_time": "2021-07-08T11:46:19.006Z"
   },
   {
    "duration": 50,
    "start_time": "2021-07-08T11:46:19.046Z"
   },
   {
    "duration": 29,
    "start_time": "2021-07-08T11:46:19.099Z"
   },
   {
    "duration": 7,
    "start_time": "2021-07-08T11:46:19.130Z"
   },
   {
    "duration": 3,
    "start_time": "2021-07-08T11:46:19.139Z"
   },
   {
    "duration": 11,
    "start_time": "2021-07-08T11:46:19.144Z"
   },
   {
    "duration": 40,
    "start_time": "2021-07-08T11:46:19.157Z"
   },
   {
    "duration": 15,
    "start_time": "2021-07-08T11:46:19.199Z"
   },
   {
    "duration": 10,
    "start_time": "2021-07-08T11:46:19.217Z"
   },
   {
    "duration": 68,
    "start_time": "2021-07-08T11:46:19.230Z"
   },
   {
    "duration": 17,
    "start_time": "2021-07-08T11:46:19.301Z"
   },
   {
    "duration": 7,
    "start_time": "2021-07-08T11:46:19.321Z"
   },
   {
    "duration": 11,
    "start_time": "2021-07-08T11:46:19.330Z"
   },
   {
    "duration": 59,
    "start_time": "2021-07-08T11:46:19.343Z"
   },
   {
    "duration": 17,
    "start_time": "2021-07-08T11:46:19.405Z"
   },
   {
    "duration": 16,
    "start_time": "2021-07-08T11:46:19.424Z"
   },
   {
    "duration": 252,
    "start_time": "2021-07-08T11:46:19.443Z"
   },
   {
    "duration": 9,
    "start_time": "2021-07-08T11:46:19.697Z"
   },
   {
    "duration": 224,
    "start_time": "2021-07-08T11:46:19.708Z"
   },
   {
    "duration": 21,
    "start_time": "2021-07-08T11:46:19.934Z"
   },
   {
    "duration": 9,
    "start_time": "2021-07-08T11:46:19.956Z"
   },
   {
    "duration": 32,
    "start_time": "2021-07-08T11:46:19.967Z"
   },
   {
    "duration": 288,
    "start_time": "2021-07-08T11:46:20.004Z"
   },
   {
    "duration": 23,
    "start_time": "2021-07-08T11:46:20.300Z"
   },
   {
    "duration": 11,
    "start_time": "2021-07-08T11:46:20.325Z"
   },
   {
    "duration": 11,
    "start_time": "2021-07-08T11:46:20.339Z"
   },
   {
    "duration": 259,
    "start_time": "2021-07-08T11:46:20.352Z"
   },
   {
    "duration": 438,
    "start_time": "2021-07-08T11:46:20.613Z"
   },
   {
    "duration": 207,
    "start_time": "2021-07-08T11:46:21.054Z"
   },
   {
    "duration": 27,
    "start_time": "2021-07-08T11:46:21.262Z"
   },
   {
    "duration": 19,
    "start_time": "2021-07-08T11:46:21.291Z"
   },
   {
    "duration": 820,
    "start_time": "2021-07-08T11:49:01.655Z"
   },
   {
    "duration": 372,
    "start_time": "2021-07-08T11:49:02.478Z"
   },
   {
    "duration": 98,
    "start_time": "2021-07-08T11:49:02.853Z"
   },
   {
    "duration": 6,
    "start_time": "2021-07-08T11:49:02.953Z"
   },
   {
    "duration": 39,
    "start_time": "2021-07-08T11:49:02.960Z"
   },
   {
    "duration": 9,
    "start_time": "2021-07-08T11:49:03.003Z"
   },
   {
    "duration": 23,
    "start_time": "2021-07-08T11:49:03.014Z"
   },
   {
    "duration": 6,
    "start_time": "2021-07-08T11:49:03.041Z"
   },
   {
    "duration": 20,
    "start_time": "2021-07-08T11:49:03.049Z"
   },
   {
    "duration": 18,
    "start_time": "2021-07-08T11:49:03.084Z"
   },
   {
    "duration": 14,
    "start_time": "2021-07-08T11:49:03.104Z"
   },
   {
    "duration": 39,
    "start_time": "2021-07-08T11:49:03.119Z"
   },
   {
    "duration": 38,
    "start_time": "2021-07-08T11:49:03.160Z"
   },
   {
    "duration": 26,
    "start_time": "2021-07-08T11:49:03.200Z"
   },
   {
    "duration": 7,
    "start_time": "2021-07-08T11:49:03.227Z"
   },
   {
    "duration": 4,
    "start_time": "2021-07-08T11:49:03.236Z"
   },
   {
    "duration": 15,
    "start_time": "2021-07-08T11:49:03.243Z"
   },
   {
    "duration": 21,
    "start_time": "2021-07-08T11:49:03.285Z"
   },
   {
    "duration": 17,
    "start_time": "2021-07-08T11:49:03.309Z"
   },
   {
    "duration": 10,
    "start_time": "2021-07-08T11:49:03.328Z"
   },
   {
    "duration": 65,
    "start_time": "2021-07-08T11:49:03.340Z"
   },
   {
    "duration": 18,
    "start_time": "2021-07-08T11:49:03.407Z"
   },
   {
    "duration": 8,
    "start_time": "2021-07-08T11:49:03.428Z"
   },
   {
    "duration": 15,
    "start_time": "2021-07-08T11:49:03.438Z"
   },
   {
    "duration": 40,
    "start_time": "2021-07-08T11:49:03.455Z"
   },
   {
    "duration": 12,
    "start_time": "2021-07-08T11:49:03.497Z"
   },
   {
    "duration": 29,
    "start_time": "2021-07-08T11:49:03.511Z"
   },
   {
    "duration": 285,
    "start_time": "2021-07-08T11:49:03.542Z"
   },
   {
    "duration": 8,
    "start_time": "2021-07-08T11:49:03.829Z"
   },
   {
    "duration": 227,
    "start_time": "2021-07-08T11:49:03.838Z"
   },
   {
    "duration": 40,
    "start_time": "2021-07-08T11:49:04.066Z"
   },
   {
    "duration": 10,
    "start_time": "2021-07-08T11:49:04.108Z"
   },
   {
    "duration": 26,
    "start_time": "2021-07-08T11:49:04.121Z"
   },
   {
    "duration": 290,
    "start_time": "2021-07-08T11:49:04.149Z"
   },
   {
    "duration": 26,
    "start_time": "2021-07-08T11:49:04.441Z"
   },
   {
    "duration": 31,
    "start_time": "2021-07-08T11:49:04.470Z"
   },
   {
    "duration": 14,
    "start_time": "2021-07-08T11:49:04.503Z"
   },
   {
    "duration": 259,
    "start_time": "2021-07-08T11:49:04.521Z"
   },
   {
    "duration": 480,
    "start_time": "2021-07-08T11:49:04.782Z"
   },
   {
    "duration": 225,
    "start_time": "2021-07-08T11:49:05.264Z"
   },
   {
    "duration": 22,
    "start_time": "2021-07-08T11:49:05.491Z"
   },
   {
    "duration": 24,
    "start_time": "2021-07-08T11:49:05.515Z"
   },
   {
    "duration": 634,
    "start_time": "2021-07-08T11:52:24.960Z"
   },
   {
    "duration": 199,
    "start_time": "2021-07-08T11:52:25.599Z"
   },
   {
    "duration": 106,
    "start_time": "2021-07-08T11:52:25.803Z"
   },
   {
    "duration": 7,
    "start_time": "2021-07-08T11:52:25.911Z"
   },
   {
    "duration": 29,
    "start_time": "2021-07-08T11:52:25.920Z"
   },
   {
    "duration": 7,
    "start_time": "2021-07-08T11:52:25.951Z"
   },
   {
    "duration": 26,
    "start_time": "2021-07-08T11:52:25.961Z"
   },
   {
    "duration": 11,
    "start_time": "2021-07-08T11:52:25.990Z"
   },
   {
    "duration": 29,
    "start_time": "2021-07-08T11:52:26.005Z"
   },
   {
    "duration": 9,
    "start_time": "2021-07-08T11:52:26.036Z"
   },
   {
    "duration": 8,
    "start_time": "2021-07-08T11:52:26.047Z"
   },
   {
    "duration": 63,
    "start_time": "2021-07-08T11:52:26.057Z"
   },
   {
    "duration": 17,
    "start_time": "2021-07-08T11:52:26.122Z"
   },
   {
    "duration": 43,
    "start_time": "2021-07-08T11:52:26.142Z"
   },
   {
    "duration": 17,
    "start_time": "2021-07-08T11:52:26.187Z"
   },
   {
    "duration": 5,
    "start_time": "2021-07-08T11:52:26.206Z"
   },
   {
    "duration": 12,
    "start_time": "2021-07-08T11:52:26.212Z"
   },
   {
    "duration": 11,
    "start_time": "2021-07-08T11:52:26.226Z"
   },
   {
    "duration": 12,
    "start_time": "2021-07-08T11:52:26.238Z"
   },
   {
    "duration": 38,
    "start_time": "2021-07-08T11:52:26.252Z"
   },
   {
    "duration": 40,
    "start_time": "2021-07-08T11:52:26.292Z"
   },
   {
    "duration": 17,
    "start_time": "2021-07-08T11:52:26.336Z"
   },
   {
    "duration": 39,
    "start_time": "2021-07-08T11:52:26.355Z"
   },
   {
    "duration": 11,
    "start_time": "2021-07-08T11:52:26.395Z"
   },
   {
    "duration": 23,
    "start_time": "2021-07-08T11:52:26.408Z"
   },
   {
    "duration": 12,
    "start_time": "2021-07-08T11:52:26.432Z"
   },
   {
    "duration": 41,
    "start_time": "2021-07-08T11:52:26.446Z"
   },
   {
    "duration": 215,
    "start_time": "2021-07-08T11:52:26.493Z"
   },
   {
    "duration": 8,
    "start_time": "2021-07-08T11:52:26.710Z"
   },
   {
    "duration": 228,
    "start_time": "2021-07-08T11:52:26.720Z"
   },
   {
    "duration": 18,
    "start_time": "2021-07-08T11:52:26.950Z"
   },
   {
    "duration": 35,
    "start_time": "2021-07-08T11:52:26.969Z"
   },
   {
    "duration": 23,
    "start_time": "2021-07-08T11:52:27.006Z"
   },
   {
    "duration": 258,
    "start_time": "2021-07-08T11:52:27.030Z"
   },
   {
    "duration": 24,
    "start_time": "2021-07-08T11:52:27.290Z"
   },
   {
    "duration": 12,
    "start_time": "2021-07-08T11:52:27.316Z"
   },
   {
    "duration": 10,
    "start_time": "2021-07-08T11:52:27.329Z"
   },
   {
    "duration": 298,
    "start_time": "2021-07-08T11:52:27.341Z"
   },
   {
    "duration": 436,
    "start_time": "2021-07-08T11:52:27.641Z"
   },
   {
    "duration": 216,
    "start_time": "2021-07-08T11:52:28.079Z"
   },
   {
    "duration": 20,
    "start_time": "2021-07-08T11:52:28.297Z"
   },
   {
    "duration": 17,
    "start_time": "2021-07-08T11:52:28.319Z"
   },
   {
    "duration": 678,
    "start_time": "2023-01-13T11:52:02.904Z"
   },
   {
    "duration": 145,
    "start_time": "2023-01-13T11:57:30.578Z"
   },
   {
    "duration": 128,
    "start_time": "2023-01-13T11:57:48.740Z"
   },
   {
    "duration": 152,
    "start_time": "2023-01-13T12:04:06.101Z"
   },
   {
    "duration": 238,
    "start_time": "2023-01-13T12:07:38.598Z"
   },
   {
    "duration": 146,
    "start_time": "2023-01-13T12:09:42.451Z"
   },
   {
    "duration": 144,
    "start_time": "2023-01-13T12:10:12.661Z"
   },
   {
    "duration": 146,
    "start_time": "2023-01-13T12:11:16.036Z"
   },
   {
    "duration": 162,
    "start_time": "2023-01-13T12:12:02.532Z"
   },
   {
    "duration": 133,
    "start_time": "2023-01-13T12:20:08.033Z"
   },
   {
    "duration": 148,
    "start_time": "2023-01-13T12:30:38.465Z"
   },
   {
    "duration": 8,
    "start_time": "2023-01-13T12:33:04.949Z"
   },
   {
    "duration": 265,
    "start_time": "2023-01-13T12:33:28.381Z"
   },
   {
    "duration": 251,
    "start_time": "2023-01-13T12:36:41.437Z"
   },
   {
    "duration": 199,
    "start_time": "2023-01-13T12:38:18.165Z"
   },
   {
    "duration": 258,
    "start_time": "2023-01-13T12:53:33.904Z"
   },
   {
    "duration": 203,
    "start_time": "2023-01-13T12:57:09.103Z"
   },
   {
    "duration": 200,
    "start_time": "2023-01-13T12:57:29.179Z"
   },
   {
    "duration": 204,
    "start_time": "2023-01-13T12:57:42.013Z"
   },
   {
    "duration": 193,
    "start_time": "2023-01-13T12:58:22.755Z"
   },
   {
    "duration": 254,
    "start_time": "2023-01-13T13:00:17.367Z"
   },
   {
    "duration": 196,
    "start_time": "2023-01-13T13:01:27.931Z"
   },
   {
    "duration": 440,
    "start_time": "2023-01-13T13:02:45.174Z"
   },
   {
    "duration": 6,
    "start_time": "2023-01-13T13:03:52.929Z"
   },
   {
    "duration": 7,
    "start_time": "2023-01-13T13:07:02.085Z"
   },
   {
    "duration": 18,
    "start_time": "2023-01-13T13:11:04.915Z"
   },
   {
    "duration": 33,
    "start_time": "2023-01-13T13:11:24.370Z"
   },
   {
    "duration": 21,
    "start_time": "2023-01-13T13:11:43.053Z"
   },
   {
    "duration": 6,
    "start_time": "2023-01-13T13:20:34.883Z"
   },
   {
    "duration": 135,
    "start_time": "2023-01-13T13:22:21.779Z"
   },
   {
    "duration": 7,
    "start_time": "2023-01-13T13:22:26.977Z"
   },
   {
    "duration": 13,
    "start_time": "2023-01-13T13:23:09.580Z"
   },
   {
    "duration": 6,
    "start_time": "2023-01-13T13:23:12.172Z"
   },
   {
    "duration": 141,
    "start_time": "2023-01-13T13:24:10.858Z"
   },
   {
    "duration": 7,
    "start_time": "2023-01-13T13:24:13.882Z"
   },
   {
    "duration": 13,
    "start_time": "2023-01-13T13:24:15.633Z"
   },
   {
    "duration": 6,
    "start_time": "2023-01-13T13:24:19.124Z"
   },
   {
    "duration": 19,
    "start_time": "2023-01-13T13:28:19.871Z"
   },
   {
    "duration": 1034,
    "start_time": "2023-01-17T14:12:41.542Z"
   },
   {
    "duration": 6,
    "start_time": "2023-01-17T14:12:46.133Z"
   },
   {
    "duration": 12,
    "start_time": "2023-01-17T14:12:52.195Z"
   },
   {
    "duration": 23,
    "start_time": "2023-01-17T14:12:54.617Z"
   },
   {
    "duration": 588,
    "start_time": "2023-01-17T14:18:46.194Z"
   },
   {
    "duration": 572,
    "start_time": "2023-01-17T14:19:24.307Z"
   },
   {
    "duration": 580,
    "start_time": "2023-01-17T14:19:45.980Z"
   },
   {
    "duration": 6,
    "start_time": "2023-01-17T14:22:47.509Z"
   },
   {
    "duration": 4,
    "start_time": "2023-01-17T14:27:06.173Z"
   },
   {
    "duration": 8,
    "start_time": "2023-01-17T14:47:54.968Z"
   },
   {
    "duration": 8,
    "start_time": "2023-01-17T14:48:25.394Z"
   },
   {
    "duration": 8,
    "start_time": "2023-01-17T14:48:37.194Z"
   },
   {
    "duration": 3,
    "start_time": "2023-01-17T14:48:50.703Z"
   },
   {
    "duration": 59,
    "start_time": "2023-01-17T14:48:53.711Z"
   },
   {
    "duration": 3,
    "start_time": "2023-01-17T14:49:05.816Z"
   },
   {
    "duration": 56,
    "start_time": "2023-01-17T14:49:07.327Z"
   },
   {
    "duration": 54,
    "start_time": "2023-01-17T14:49:39.163Z"
   },
   {
    "duration": 648,
    "start_time": "2023-01-17T14:49:54.553Z"
   },
   {
    "duration": 5,
    "start_time": "2023-01-17T14:50:10.989Z"
   },
   {
    "duration": 140,
    "start_time": "2023-01-17T14:50:18.193Z"
   },
   {
    "duration": 6,
    "start_time": "2023-01-17T14:50:20.544Z"
   },
   {
    "duration": 11,
    "start_time": "2023-01-17T14:50:22.394Z"
   },
   {
    "duration": 24,
    "start_time": "2023-01-17T14:50:23.943Z"
   },
   {
    "duration": 3,
    "start_time": "2023-01-17T14:50:27.356Z"
   },
   {
    "duration": 714,
    "start_time": "2023-01-17T14:50:30.994Z"
   },
   {
    "duration": 118,
    "start_time": "2023-01-17T14:51:47.590Z"
   },
   {
    "duration": 7,
    "start_time": "2023-01-17T14:51:49.963Z"
   },
   {
    "duration": 13,
    "start_time": "2023-01-17T14:51:51.403Z"
   },
   {
    "duration": 18,
    "start_time": "2023-01-17T14:51:53.253Z"
   },
   {
    "duration": 3,
    "start_time": "2023-01-17T14:51:57.871Z"
   },
   {
    "duration": 75,
    "start_time": "2023-01-17T14:52:00.137Z"
   },
   {
    "duration": 5,
    "start_time": "2023-01-17T14:52:28.523Z"
   },
   {
    "duration": 585,
    "start_time": "2023-01-17T14:52:51.285Z"
   },
   {
    "duration": 8,
    "start_time": "2023-01-17T14:54:01.733Z"
   },
   {
    "duration": 5,
    "start_time": "2023-01-17T14:54:08.294Z"
   },
   {
    "duration": 12,
    "start_time": "2023-01-17T14:54:20.794Z"
   },
   {
    "duration": 1003,
    "start_time": "2023-01-17T14:56:58.838Z"
   },
   {
    "duration": 16,
    "start_time": "2023-01-17T14:58:06.688Z"
   },
   {
    "duration": 11,
    "start_time": "2023-01-17T14:58:22.944Z"
   },
   {
    "duration": 21,
    "start_time": "2023-01-17T14:59:11.628Z"
   },
   {
    "duration": 27,
    "start_time": "2023-01-17T15:03:51.276Z"
   },
   {
    "duration": 13,
    "start_time": "2023-01-17T15:04:19.894Z"
   },
   {
    "duration": 602,
    "start_time": "2023-01-17T15:05:46.363Z"
   },
   {
    "duration": 15,
    "start_time": "2023-01-17T15:06:34.351Z"
   },
   {
    "duration": 23,
    "start_time": "2023-01-17T15:07:26.173Z"
   },
   {
    "duration": 21,
    "start_time": "2023-01-17T15:07:36.272Z"
   },
   {
    "duration": 14,
    "start_time": "2023-01-17T15:07:50.706Z"
   },
   {
    "duration": 74,
    "start_time": "2023-01-17T15:16:33.799Z"
   },
   {
    "duration": 10,
    "start_time": "2023-01-17T16:16:37.107Z"
   },
   {
    "duration": 11,
    "start_time": "2023-01-17T16:16:49.007Z"
   },
   {
    "duration": 7,
    "start_time": "2023-01-17T16:20:03.475Z"
   },
   {
    "duration": 9,
    "start_time": "2023-01-17T16:27:16.026Z"
   },
   {
    "duration": 5,
    "start_time": "2023-01-17T16:35:59.716Z"
   },
   {
    "duration": 7,
    "start_time": "2023-01-17T16:43:43.066Z"
   },
   {
    "duration": 1013,
    "start_time": "2023-01-17T21:52:31.312Z"
   },
   {
    "duration": 6,
    "start_time": "2023-01-17T21:53:57.393Z"
   },
   {
    "duration": 12,
    "start_time": "2023-01-17T21:54:00.031Z"
   },
   {
    "duration": 26,
    "start_time": "2023-01-17T21:54:04.072Z"
   },
   {
    "duration": 4,
    "start_time": "2023-01-17T21:54:20.794Z"
   },
   {
    "duration": 59,
    "start_time": "2023-01-17T21:54:34.288Z"
   },
   {
    "duration": 12,
    "start_time": "2023-01-17T21:54:51.202Z"
   },
   {
    "duration": 11,
    "start_time": "2023-01-17T21:57:22.435Z"
   },
   {
    "duration": 24,
    "start_time": "2023-01-17T22:08:39.013Z"
   },
   {
    "duration": 24,
    "start_time": "2023-01-17T22:12:27.590Z"
   },
   {
    "duration": 17,
    "start_time": "2023-01-17T22:12:45.908Z"
   },
   {
    "duration": 17,
    "start_time": "2023-01-17T22:14:18.274Z"
   },
   {
    "duration": 12,
    "start_time": "2023-01-17T22:14:40.211Z"
   },
   {
    "duration": 6,
    "start_time": "2023-01-17T22:16:00.508Z"
   },
   {
    "duration": 5,
    "start_time": "2023-01-17T22:16:41.592Z"
   },
   {
    "duration": 5,
    "start_time": "2023-01-17T22:17:25.218Z"
   },
   {
    "duration": 10,
    "start_time": "2023-01-17T22:18:10.470Z"
   },
   {
    "duration": 9,
    "start_time": "2023-01-17T22:19:01.580Z"
   },
   {
    "duration": 4,
    "start_time": "2023-01-17T22:26:18.896Z"
   },
   {
    "duration": 7,
    "start_time": "2023-01-17T22:26:58.193Z"
   },
   {
    "duration": 5,
    "start_time": "2023-01-17T22:38:51.581Z"
   },
   {
    "duration": 5,
    "start_time": "2023-01-17T22:40:41.275Z"
   },
   {
    "duration": 5,
    "start_time": "2023-01-17T22:40:50.730Z"
   },
   {
    "duration": 7,
    "start_time": "2023-01-17T22:40:55.338Z"
   },
   {
    "duration": 8,
    "start_time": "2023-01-17T22:41:01.395Z"
   },
   {
    "duration": 5,
    "start_time": "2023-01-17T22:41:37.425Z"
   },
   {
    "duration": 8,
    "start_time": "2023-01-17T22:43:45.002Z"
   },
   {
    "duration": 9,
    "start_time": "2023-01-17T22:45:31.468Z"
   },
   {
    "duration": 5,
    "start_time": "2023-01-17T22:45:33.833Z"
   },
   {
    "duration": 6,
    "start_time": "2023-01-17T22:45:48.632Z"
   },
   {
    "duration": 17,
    "start_time": "2023-01-17T22:53:38.391Z"
   },
   {
    "duration": 5,
    "start_time": "2023-01-17T22:56:14.540Z"
   },
   {
    "duration": 4,
    "start_time": "2023-01-17T22:56:16.266Z"
   },
   {
    "duration": 6,
    "start_time": "2023-01-17T22:56:17.012Z"
   },
   {
    "duration": 7,
    "start_time": "2023-01-17T22:56:17.834Z"
   },
   {
    "duration": 8,
    "start_time": "2023-01-17T22:56:18.804Z"
   },
   {
    "duration": 5,
    "start_time": "2023-01-17T22:56:20.393Z"
   },
   {
    "duration": 5,
    "start_time": "2023-01-17T22:56:22.284Z"
   },
   {
    "duration": 4,
    "start_time": "2023-01-17T22:56:23.158Z"
   },
   {
    "duration": 4,
    "start_time": "2023-01-17T22:56:24.389Z"
   },
   {
    "duration": 7,
    "start_time": "2023-01-17T22:56:27.515Z"
   },
   {
    "duration": 128,
    "start_time": "2023-01-17T23:03:41.388Z"
   },
   {
    "duration": 6,
    "start_time": "2023-01-17T23:03:44.248Z"
   },
   {
    "duration": 11,
    "start_time": "2023-01-17T23:03:46.105Z"
   },
   {
    "duration": 20,
    "start_time": "2023-01-17T23:03:49.013Z"
   },
   {
    "duration": 3,
    "start_time": "2023-01-17T23:03:51.809Z"
   },
   {
    "duration": 54,
    "start_time": "2023-01-17T23:03:53.776Z"
   },
   {
    "duration": 11,
    "start_time": "2023-01-17T23:03:55.935Z"
   },
   {
    "duration": 11,
    "start_time": "2023-01-17T23:03:58.688Z"
   },
   {
    "duration": 22,
    "start_time": "2023-01-17T23:04:01.417Z"
   },
   {
    "duration": 12,
    "start_time": "2023-01-17T23:04:05.379Z"
   },
   {
    "duration": 24,
    "start_time": "2023-01-17T23:04:08.066Z"
   },
   {
    "duration": 5,
    "start_time": "2023-01-17T23:04:13.462Z"
   },
   {
    "duration": 5,
    "start_time": "2023-01-17T23:04:14.937Z"
   },
   {
    "duration": 6,
    "start_time": "2023-01-17T23:04:17.038Z"
   },
   {
    "duration": 7,
    "start_time": "2023-01-17T23:04:19.246Z"
   },
   {
    "duration": 9,
    "start_time": "2023-01-17T23:04:21.068Z"
   },
   {
    "duration": 5,
    "start_time": "2023-01-17T23:04:24.288Z"
   },
   {
    "duration": 6,
    "start_time": "2023-01-17T23:04:28.288Z"
   },
   {
    "duration": 4,
    "start_time": "2023-01-17T23:04:30.360Z"
   },
   {
    "duration": 5,
    "start_time": "2023-01-17T23:04:32.528Z"
   },
   {
    "duration": 8,
    "start_time": "2023-01-17T23:04:34.038Z"
   },
   {
    "duration": 4,
    "start_time": "2023-01-17T23:14:20.535Z"
   },
   {
    "duration": 3,
    "start_time": "2023-01-17T23:19:15.386Z"
   },
   {
    "duration": 4,
    "start_time": "2023-01-17T23:20:18.644Z"
   },
   {
    "duration": 61,
    "start_time": "2023-01-17T23:22:47.900Z"
   },
   {
    "duration": 4,
    "start_time": "2023-01-17T23:24:53.534Z"
   },
   {
    "duration": 6,
    "start_time": "2023-01-17T23:25:19.551Z"
   },
   {
    "duration": 7,
    "start_time": "2023-01-17T23:25:23.489Z"
   },
   {
    "duration": 8,
    "start_time": "2023-01-17T23:27:18.059Z"
   },
   {
    "duration": 5,
    "start_time": "2023-01-17T23:27:23.408Z"
   },
   {
    "duration": 6,
    "start_time": "2023-01-17T23:27:29.490Z"
   },
   {
    "duration": 122,
    "start_time": "2023-01-17T23:32:21.427Z"
   },
   {
    "duration": 6,
    "start_time": "2023-01-17T23:32:24.567Z"
   },
   {
    "duration": 15,
    "start_time": "2023-01-17T23:32:26.327Z"
   },
   {
    "duration": 18,
    "start_time": "2023-01-17T23:32:28.516Z"
   },
   {
    "duration": 4,
    "start_time": "2023-01-17T23:32:31.576Z"
   },
   {
    "duration": 52,
    "start_time": "2023-01-17T23:32:33.418Z"
   },
   {
    "duration": 15,
    "start_time": "2023-01-17T23:32:35.656Z"
   },
   {
    "duration": 11,
    "start_time": "2023-01-17T23:32:37.360Z"
   },
   {
    "duration": 23,
    "start_time": "2023-01-17T23:32:40.580Z"
   },
   {
    "duration": 10,
    "start_time": "2023-01-17T23:32:43.127Z"
   },
   {
    "duration": 22,
    "start_time": "2023-01-17T23:32:54.138Z"
   },
   {
    "duration": 5,
    "start_time": "2023-01-17T23:32:56.999Z"
   },
   {
    "duration": 5,
    "start_time": "2023-01-17T23:32:59.307Z"
   },
   {
    "duration": 4,
    "start_time": "2023-01-17T23:33:02.640Z"
   },
   {
    "duration": 6,
    "start_time": "2023-01-17T23:33:05.419Z"
   },
   {
    "duration": 8,
    "start_time": "2023-01-17T23:33:07.096Z"
   },
   {
    "duration": 5,
    "start_time": "2023-01-17T23:33:10.457Z"
   },
   {
    "duration": 5,
    "start_time": "2023-01-17T23:33:12.450Z"
   },
   {
    "duration": 5,
    "start_time": "2023-01-17T23:33:16.439Z"
   },
   {
    "duration": 5,
    "start_time": "2023-01-17T23:33:19.869Z"
   },
   {
    "duration": 8,
    "start_time": "2023-01-17T23:33:22.119Z"
   },
   {
    "duration": 10,
    "start_time": "2023-01-17T23:33:29.590Z"
   },
   {
    "duration": 3,
    "start_time": "2023-01-17T23:33:34.519Z"
   },
   {
    "duration": 99,
    "start_time": "2023-01-17T23:33:38.316Z"
   },
   {
    "duration": 5,
    "start_time": "2023-01-17T23:33:40.580Z"
   },
   {
    "duration": 9,
    "start_time": "2023-01-17T23:33:55.196Z"
   },
   {
    "duration": 6,
    "start_time": "2023-01-17T23:37:41.881Z"
   },
   {
    "duration": 10,
    "start_time": "2023-01-17T23:37:55.161Z"
   },
   {
    "duration": 3,
    "start_time": "2023-01-17T23:38:25.531Z"
   },
   {
    "duration": 72,
    "start_time": "2023-01-17T23:38:28.111Z"
   },
   {
    "duration": 4,
    "start_time": "2023-01-17T23:38:33.052Z"
   },
   {
    "duration": 8,
    "start_time": "2023-01-17T23:38:35.476Z"
   },
   {
    "duration": 5,
    "start_time": "2023-01-17T23:57:54.047Z"
   },
   {
    "duration": 69,
    "start_time": "2023-01-17T23:57:57.885Z"
   },
   {
    "duration": 5,
    "start_time": "2023-01-17T23:58:00.394Z"
   },
   {
    "duration": 8,
    "start_time": "2023-01-17T23:58:07.237Z"
   },
   {
    "duration": 5,
    "start_time": "2023-01-17T23:58:44.605Z"
   },
   {
    "duration": 73,
    "start_time": "2023-01-17T23:58:47.096Z"
   },
   {
    "duration": 12,
    "start_time": "2023-01-17T23:58:49.269Z"
   },
   {
    "duration": 8,
    "start_time": "2023-01-17T23:58:51.436Z"
   },
   {
    "duration": 168,
    "start_time": "2023-01-18T00:01:24.947Z"
   },
   {
    "duration": 6,
    "start_time": "2023-01-18T00:01:27.797Z"
   },
   {
    "duration": 12,
    "start_time": "2023-01-18T00:01:30.510Z"
   },
   {
    "duration": 17,
    "start_time": "2023-01-18T00:01:32.197Z"
   },
   {
    "duration": 3,
    "start_time": "2023-01-18T00:01:38.444Z"
   },
   {
    "duration": 54,
    "start_time": "2023-01-18T00:01:39.684Z"
   },
   {
    "duration": 12,
    "start_time": "2023-01-18T00:01:42.910Z"
   },
   {
    "duration": 20,
    "start_time": "2023-01-18T00:01:44.065Z"
   },
   {
    "duration": 22,
    "start_time": "2023-01-18T00:01:45.711Z"
   },
   {
    "duration": 13,
    "start_time": "2023-01-18T00:01:46.790Z"
   },
   {
    "duration": 24,
    "start_time": "2023-01-18T00:01:47.935Z"
   },
   {
    "duration": 6,
    "start_time": "2023-01-18T00:01:49.205Z"
   },
   {
    "duration": 6,
    "start_time": "2023-01-18T00:01:54.492Z"
   },
   {
    "duration": 5,
    "start_time": "2023-01-18T00:01:55.327Z"
   },
   {
    "duration": 6,
    "start_time": "2023-01-18T00:01:55.992Z"
   },
   {
    "duration": 9,
    "start_time": "2023-01-18T00:01:56.991Z"
   },
   {
    "duration": 5,
    "start_time": "2023-01-18T00:01:58.753Z"
   },
   {
    "duration": 5,
    "start_time": "2023-01-18T00:01:59.630Z"
   },
   {
    "duration": 4,
    "start_time": "2023-01-18T00:02:01.037Z"
   },
   {
    "duration": 5,
    "start_time": "2023-01-18T00:02:01.606Z"
   },
   {
    "duration": 7,
    "start_time": "2023-01-18T00:02:02.295Z"
   },
   {
    "duration": 11,
    "start_time": "2023-01-18T00:02:05.104Z"
   },
   {
    "duration": 5,
    "start_time": "2023-01-18T00:02:10.993Z"
   },
   {
    "duration": 90,
    "start_time": "2023-01-18T00:02:22.518Z"
   },
   {
    "duration": 5,
    "start_time": "2023-01-18T00:02:25.009Z"
   },
   {
    "duration": 7,
    "start_time": "2023-01-18T00:02:27.838Z"
   },
   {
    "duration": 5,
    "start_time": "2023-01-18T00:03:31.559Z"
   },
   {
    "duration": 81,
    "start_time": "2023-01-18T00:03:33.334Z"
   },
   {
    "duration": 5,
    "start_time": "2023-01-18T00:03:36.885Z"
   },
   {
    "duration": 10,
    "start_time": "2023-01-18T00:03:39.462Z"
   },
   {
    "duration": 8,
    "start_time": "2023-01-18T00:04:00.633Z"
   },
   {
    "duration": 5,
    "start_time": "2023-01-18T00:05:45.036Z"
   },
   {
    "duration": 80,
    "start_time": "2023-01-18T00:05:47.354Z"
   },
   {
    "duration": 5,
    "start_time": "2023-01-18T00:05:49.244Z"
   },
   {
    "duration": 8,
    "start_time": "2023-01-18T00:05:52.790Z"
   },
   {
    "duration": 6,
    "start_time": "2023-01-18T00:06:11.782Z"
   },
   {
    "duration": 776,
    "start_time": "2023-01-18T06:49:11.037Z"
   },
   {
    "duration": 6,
    "start_time": "2023-01-18T06:49:14.584Z"
   },
   {
    "duration": 11,
    "start_time": "2023-01-18T06:49:18.126Z"
   },
   {
    "duration": 32,
    "start_time": "2023-01-18T06:49:20.366Z"
   },
   {
    "duration": 3,
    "start_time": "2023-01-18T06:49:22.820Z"
   },
   {
    "duration": 55,
    "start_time": "2023-01-18T06:49:24.388Z"
   },
   {
    "duration": 11,
    "start_time": "2023-01-18T06:49:26.097Z"
   },
   {
    "duration": 10,
    "start_time": "2023-01-18T06:49:27.485Z"
   },
   {
    "duration": 27,
    "start_time": "2023-01-18T06:49:30.534Z"
   },
   {
    "duration": 10,
    "start_time": "2023-01-18T06:49:31.917Z"
   },
   {
    "duration": 23,
    "start_time": "2023-01-18T06:49:33.846Z"
   },
   {
    "duration": 5,
    "start_time": "2023-01-18T06:49:35.744Z"
   },
   {
    "duration": 6,
    "start_time": "2023-01-18T06:49:38.655Z"
   },
   {
    "duration": 4,
    "start_time": "2023-01-18T06:49:39.388Z"
   },
   {
    "duration": 6,
    "start_time": "2023-01-18T06:49:39.984Z"
   },
   {
    "duration": 8,
    "start_time": "2023-01-18T06:49:40.556Z"
   },
   {
    "duration": 5,
    "start_time": "2023-01-18T06:49:43.864Z"
   },
   {
    "duration": 5,
    "start_time": "2023-01-18T06:49:44.574Z"
   },
   {
    "duration": 7,
    "start_time": "2023-01-18T06:49:45.414Z"
   },
   {
    "duration": 5,
    "start_time": "2023-01-18T06:49:46.255Z"
   },
   {
    "duration": 8,
    "start_time": "2023-01-18T06:49:47.206Z"
   },
   {
    "duration": 11,
    "start_time": "2023-01-18T06:49:52.264Z"
   },
   {
    "duration": 5,
    "start_time": "2023-01-18T06:49:54.568Z"
   },
   {
    "duration": 76,
    "start_time": "2023-01-18T06:49:56.972Z"
   },
   {
    "duration": 5,
    "start_time": "2023-01-18T06:50:12.087Z"
   },
   {
    "duration": 8,
    "start_time": "2023-01-18T06:50:17.512Z"
   },
   {
    "duration": 6,
    "start_time": "2023-01-18T06:50:51.472Z"
   },
   {
    "duration": 25,
    "start_time": "2023-01-18T06:53:34.806Z"
   },
   {
    "duration": 3,
    "start_time": "2023-01-18T07:14:38.056Z"
   },
   {
    "duration": 3,
    "start_time": "2023-01-18T07:14:53.911Z"
   },
   {
    "duration": 98,
    "start_time": "2023-01-18T07:15:50.868Z"
   },
   {
    "duration": 25,
    "start_time": "2023-01-18T07:15:59.637Z"
   },
   {
    "duration": 1064,
    "start_time": "2023-01-18T19:59:00.479Z"
   },
   {
    "duration": 6,
    "start_time": "2023-01-18T19:59:06.586Z"
   },
   {
    "duration": 13,
    "start_time": "2023-01-18T19:59:08.771Z"
   },
   {
    "duration": 23,
    "start_time": "2023-01-18T19:59:13.064Z"
   },
   {
    "duration": 3,
    "start_time": "2023-01-18T19:59:15.073Z"
   },
   {
    "duration": 53,
    "start_time": "2023-01-18T19:59:16.016Z"
   },
   {
    "duration": 10,
    "start_time": "2023-01-18T19:59:17.263Z"
   },
   {
    "duration": 10,
    "start_time": "2023-01-18T19:59:20.397Z"
   },
   {
    "duration": 27,
    "start_time": "2023-01-18T19:59:26.430Z"
   },
   {
    "duration": 10,
    "start_time": "2023-01-18T19:59:47.742Z"
   },
   {
    "duration": 26,
    "start_time": "2023-01-18T19:59:54.165Z"
   },
   {
    "duration": 5,
    "start_time": "2023-01-18T19:59:58.409Z"
   },
   {
    "duration": 4,
    "start_time": "2023-01-18T19:59:59.214Z"
   },
   {
    "duration": 5,
    "start_time": "2023-01-18T19:59:59.833Z"
   },
   {
    "duration": 6,
    "start_time": "2023-01-18T20:00:00.385Z"
   },
   {
    "duration": 8,
    "start_time": "2023-01-18T20:00:01.433Z"
   },
   {
    "duration": 6,
    "start_time": "2023-01-18T20:00:06.364Z"
   },
   {
    "duration": 6,
    "start_time": "2023-01-18T20:00:07.343Z"
   },
   {
    "duration": 4,
    "start_time": "2023-01-18T20:00:08.264Z"
   },
   {
    "duration": 5,
    "start_time": "2023-01-18T20:00:10.224Z"
   },
   {
    "duration": 11,
    "start_time": "2023-01-18T20:00:12.433Z"
   },
   {
    "duration": 11,
    "start_time": "2023-01-18T20:00:17.805Z"
   },
   {
    "duration": 4,
    "start_time": "2023-01-18T20:00:19.070Z"
   },
   {
    "duration": 74,
    "start_time": "2023-01-18T20:00:20.170Z"
   },
   {
    "duration": 6,
    "start_time": "2023-01-18T20:00:23.994Z"
   },
   {
    "duration": 8,
    "start_time": "2023-01-18T20:00:25.035Z"
   },
   {
    "duration": 6,
    "start_time": "2023-01-18T20:00:31.073Z"
   },
   {
    "duration": 827,
    "start_time": "2023-01-19T09:12:18.871Z"
   },
   {
    "duration": 7,
    "start_time": "2023-01-19T09:12:23.041Z"
   },
   {
    "duration": 13,
    "start_time": "2023-01-19T09:12:25.922Z"
   },
   {
    "duration": 27,
    "start_time": "2023-01-19T09:12:28.365Z"
   },
   {
    "duration": 3,
    "start_time": "2023-01-19T09:12:33.567Z"
   },
   {
    "duration": 57,
    "start_time": "2023-01-19T09:12:37.866Z"
   },
   {
    "duration": 16,
    "start_time": "2023-01-19T09:12:38.868Z"
   },
   {
    "duration": 14,
    "start_time": "2023-01-19T09:12:40.237Z"
   },
   {
    "duration": 26,
    "start_time": "2023-01-19T09:12:43.677Z"
   },
   {
    "duration": 12,
    "start_time": "2023-01-19T09:12:46.379Z"
   },
   {
    "duration": 25,
    "start_time": "2023-01-19T09:12:49.138Z"
   },
   {
    "duration": 6,
    "start_time": "2023-01-19T09:12:51.807Z"
   },
   {
    "duration": 5,
    "start_time": "2023-01-19T09:12:53.397Z"
   },
   {
    "duration": 5,
    "start_time": "2023-01-19T09:12:54.828Z"
   },
   {
    "duration": 7,
    "start_time": "2023-01-19T09:12:55.513Z"
   },
   {
    "duration": 10,
    "start_time": "2023-01-19T09:12:57.768Z"
   },
   {
    "duration": 6,
    "start_time": "2023-01-19T09:13:01.439Z"
   },
   {
    "duration": 5,
    "start_time": "2023-01-19T09:13:02.592Z"
   },
   {
    "duration": 5,
    "start_time": "2023-01-19T09:13:06.439Z"
   },
   {
    "duration": 5,
    "start_time": "2023-01-19T09:13:07.726Z"
   },
   {
    "duration": 9,
    "start_time": "2023-01-19T09:13:09.685Z"
   },
   {
    "duration": 13,
    "start_time": "2023-01-19T09:13:14.331Z"
   },
   {
    "duration": 5,
    "start_time": "2023-01-19T09:13:39.876Z"
   },
   {
    "duration": 80,
    "start_time": "2023-01-19T09:13:53.198Z"
   },
   {
    "duration": 5,
    "start_time": "2023-01-19T09:13:57.482Z"
   },
   {
    "duration": 8,
    "start_time": "2023-01-19T09:13:59.286Z"
   },
   {
    "duration": 7,
    "start_time": "2023-01-19T09:14:04.181Z"
   },
   {
    "duration": 3,
    "start_time": "2023-01-19T09:14:58.128Z"
   },
   {
    "duration": 26,
    "start_time": "2023-01-19T09:15:00.423Z"
   },
   {
    "duration": 3,
    "start_time": "2023-01-19T09:15:03.889Z"
   },
   {
    "duration": 96,
    "start_time": "2023-01-19T09:15:05.808Z"
   },
   {
    "duration": 26,
    "start_time": "2023-01-19T09:15:08.595Z"
   },
   {
    "duration": 81,
    "start_time": "2023-01-19T09:18:48.664Z"
   },
   {
    "duration": 23,
    "start_time": "2023-01-19T09:20:12.868Z"
   },
   {
    "duration": 24,
    "start_time": "2023-01-19T09:23:42.321Z"
   },
   {
    "duration": 32,
    "start_time": "2023-01-19T09:23:45.940Z"
   },
   {
    "duration": 25,
    "start_time": "2023-01-19T09:23:49.807Z"
   },
   {
    "duration": 24,
    "start_time": "2023-01-19T09:23:51.991Z"
   },
   {
    "duration": 25,
    "start_time": "2023-01-19T09:23:54.301Z"
   },
   {
    "duration": 131,
    "start_time": "2023-01-19T09:24:49.498Z"
   },
   {
    "duration": 7,
    "start_time": "2023-01-19T09:24:52.528Z"
   },
   {
    "duration": 12,
    "start_time": "2023-01-19T09:24:54.466Z"
   },
   {
    "duration": 23,
    "start_time": "2023-01-19T09:24:58.054Z"
   },
   {
    "duration": 3,
    "start_time": "2023-01-19T09:25:01.029Z"
   },
   {
    "duration": 55,
    "start_time": "2023-01-19T09:25:01.818Z"
   },
   {
    "duration": 11,
    "start_time": "2023-01-19T09:25:02.557Z"
   },
   {
    "duration": 11,
    "start_time": "2023-01-19T09:25:05.037Z"
   },
   {
    "duration": 23,
    "start_time": "2023-01-19T09:25:07.765Z"
   },
   {
    "duration": 11,
    "start_time": "2023-01-19T09:25:10.438Z"
   },
   {
    "duration": 24,
    "start_time": "2023-01-19T09:25:12.586Z"
   },
   {
    "duration": 5,
    "start_time": "2023-01-19T09:25:15.690Z"
   },
   {
    "duration": 5,
    "start_time": "2023-01-19T09:25:17.868Z"
   },
   {
    "duration": 5,
    "start_time": "2023-01-19T09:25:18.738Z"
   },
   {
    "duration": 7,
    "start_time": "2023-01-19T09:25:19.528Z"
   },
   {
    "duration": 9,
    "start_time": "2023-01-19T09:25:21.358Z"
   },
   {
    "duration": 5,
    "start_time": "2023-01-19T09:25:22.499Z"
   },
   {
    "duration": 5,
    "start_time": "2023-01-19T09:25:24.459Z"
   },
   {
    "duration": 5,
    "start_time": "2023-01-19T09:25:25.248Z"
   },
   {
    "duration": 5,
    "start_time": "2023-01-19T09:25:28.131Z"
   },
   {
    "duration": 8,
    "start_time": "2023-01-19T09:25:28.678Z"
   },
   {
    "duration": 13,
    "start_time": "2023-01-19T09:25:31.781Z"
   },
   {
    "duration": 6,
    "start_time": "2023-01-19T09:25:33.139Z"
   },
   {
    "duration": 77,
    "start_time": "2023-01-19T09:25:35.797Z"
   },
   {
    "duration": 5,
    "start_time": "2023-01-19T09:25:36.768Z"
   },
   {
    "duration": 7,
    "start_time": "2023-01-19T09:26:01.888Z"
   },
   {
    "duration": 24,
    "start_time": "2023-01-19T09:26:10.375Z"
   },
   {
    "duration": 25,
    "start_time": "2023-01-19T09:26:11.427Z"
   },
   {
    "duration": 22,
    "start_time": "2023-01-19T09:26:13.388Z"
   },
   {
    "duration": 22,
    "start_time": "2023-01-19T09:26:14.467Z"
   },
   {
    "duration": 23,
    "start_time": "2023-01-19T09:26:16.668Z"
   },
   {
    "duration": 3,
    "start_time": "2023-01-19T10:09:45.353Z"
   },
   {
    "duration": 75,
    "start_time": "2023-01-19T10:13:33.456Z"
   },
   {
    "duration": 814,
    "start_time": "2023-01-19T10:40:03.841Z"
   },
   {
    "duration": 7,
    "start_time": "2023-01-19T10:40:07.612Z"
   },
   {
    "duration": 14,
    "start_time": "2023-01-19T10:40:09.190Z"
   },
   {
    "duration": 28,
    "start_time": "2023-01-19T10:40:11.420Z"
   },
   {
    "duration": 3,
    "start_time": "2023-01-19T10:40:13.871Z"
   },
   {
    "duration": 67,
    "start_time": "2023-01-19T10:40:15.469Z"
   },
   {
    "duration": 16,
    "start_time": "2023-01-19T10:40:17.052Z"
   },
   {
    "duration": 11,
    "start_time": "2023-01-19T10:40:19.052Z"
   },
   {
    "duration": 30,
    "start_time": "2023-01-19T10:40:21.611Z"
   },
   {
    "duration": 11,
    "start_time": "2023-01-19T10:40:24.213Z"
   },
   {
    "duration": 25,
    "start_time": "2023-01-19T10:40:26.400Z"
   },
   {
    "duration": 7,
    "start_time": "2023-01-19T10:40:27.371Z"
   },
   {
    "duration": 5,
    "start_time": "2023-01-19T10:40:30.824Z"
   },
   {
    "duration": 5,
    "start_time": "2023-01-19T10:40:31.343Z"
   },
   {
    "duration": 7,
    "start_time": "2023-01-19T10:40:31.853Z"
   },
   {
    "duration": 13,
    "start_time": "2023-01-19T10:40:32.463Z"
   },
   {
    "duration": 5,
    "start_time": "2023-01-19T10:40:36.111Z"
   },
   {
    "duration": 7,
    "start_time": "2023-01-19T10:40:36.650Z"
   },
   {
    "duration": 5,
    "start_time": "2023-01-19T10:40:37.120Z"
   },
   {
    "duration": 5,
    "start_time": "2023-01-19T10:40:37.588Z"
   },
   {
    "duration": 8,
    "start_time": "2023-01-19T10:40:38.248Z"
   },
   {
    "duration": 16,
    "start_time": "2023-01-19T10:40:42.700Z"
   },
   {
    "duration": 6,
    "start_time": "2023-01-19T10:40:43.652Z"
   },
   {
    "duration": 92,
    "start_time": "2023-01-19T10:40:45.340Z"
   },
   {
    "duration": 7,
    "start_time": "2023-01-19T10:40:46.230Z"
   },
   {
    "duration": 6,
    "start_time": "2023-01-19T10:40:50.240Z"
   },
   {
    "duration": 23,
    "start_time": "2023-01-19T10:40:57.968Z"
   },
   {
    "duration": 27,
    "start_time": "2023-01-19T10:40:58.948Z"
   },
   {
    "duration": 27,
    "start_time": "2023-01-19T10:41:01.601Z"
   },
   {
    "duration": 26,
    "start_time": "2023-01-19T10:41:03.559Z"
   },
   {
    "duration": 25,
    "start_time": "2023-01-19T10:41:04.621Z"
   },
   {
    "duration": 8,
    "start_time": "2023-01-19T10:41:09.250Z"
   },
   {
    "duration": 5,
    "start_time": "2023-01-19T10:41:18.628Z"
   },
   {
    "duration": 4,
    "start_time": "2023-01-19T10:42:25.963Z"
   },
   {
    "duration": 5,
    "start_time": "2023-01-19T10:50:15.802Z"
   },
   {
    "duration": 4,
    "start_time": "2023-01-19T10:50:19.053Z"
   },
   {
    "duration": 398,
    "start_time": "2023-01-19T10:53:46.830Z"
   },
   {
    "duration": 87,
    "start_time": "2023-01-19T10:55:01.536Z"
   },
   {
    "duration": 5,
    "start_time": "2023-01-19T10:56:20.055Z"
   },
   {
    "duration": 312,
    "start_time": "2023-01-19T10:56:22.082Z"
   },
   {
    "duration": 83,
    "start_time": "2023-01-19T10:56:24.925Z"
   },
   {
    "duration": 869,
    "start_time": "2023-01-19T17:00:47.664Z"
   },
   {
    "duration": 6,
    "start_time": "2023-01-19T17:00:51.428Z"
   },
   {
    "duration": 13,
    "start_time": "2023-01-19T17:00:53.015Z"
   },
   {
    "duration": 32,
    "start_time": "2023-01-19T17:00:55.716Z"
   },
   {
    "duration": 3,
    "start_time": "2023-01-19T17:00:58.805Z"
   },
   {
    "duration": 59,
    "start_time": "2023-01-19T17:00:59.617Z"
   },
   {
    "duration": 11,
    "start_time": "2023-01-19T17:01:02.996Z"
   },
   {
    "duration": 37,
    "start_time": "2023-01-19T17:01:06.296Z"
   },
   {
    "duration": 32,
    "start_time": "2023-01-19T17:01:21.704Z"
   },
   {
    "duration": 138,
    "start_time": "2023-01-19T17:01:30.815Z"
   },
   {
    "duration": 135,
    "start_time": "2023-01-19T17:01:52.763Z"
   },
   {
    "duration": 8,
    "start_time": "2023-01-19T17:02:13.885Z"
   },
   {
    "duration": 12,
    "start_time": "2023-01-19T17:02:17.059Z"
   },
   {
    "duration": 19,
    "start_time": "2023-01-19T17:02:19.184Z"
   },
   {
    "duration": 3,
    "start_time": "2023-01-19T17:02:21.995Z"
   },
   {
    "duration": 55,
    "start_time": "2023-01-19T17:02:24.874Z"
   },
   {
    "duration": 14,
    "start_time": "2023-01-19T17:02:25.977Z"
   },
   {
    "duration": 11,
    "start_time": "2023-01-19T17:02:29.419Z"
   },
   {
    "duration": 26,
    "start_time": "2023-01-19T17:02:32.977Z"
   },
   {
    "duration": 11,
    "start_time": "2023-01-19T17:02:34.976Z"
   },
   {
    "duration": 33,
    "start_time": "2023-01-19T17:02:38.015Z"
   },
   {
    "duration": 6,
    "start_time": "2023-01-19T17:02:42.235Z"
   },
   {
    "duration": 5,
    "start_time": "2023-01-19T17:02:44.075Z"
   },
   {
    "duration": 4,
    "start_time": "2023-01-19T17:02:45.252Z"
   },
   {
    "duration": 7,
    "start_time": "2023-01-19T17:02:45.875Z"
   },
   {
    "duration": 9,
    "start_time": "2023-01-19T17:02:48.523Z"
   },
   {
    "duration": 5,
    "start_time": "2023-01-19T17:02:50.155Z"
   },
   {
    "duration": 6,
    "start_time": "2023-01-19T17:02:51.016Z"
   },
   {
    "duration": 5,
    "start_time": "2023-01-19T17:02:54.934Z"
   },
   {
    "duration": 5,
    "start_time": "2023-01-19T17:02:56.148Z"
   },
   {
    "duration": 9,
    "start_time": "2023-01-19T17:02:57.083Z"
   },
   {
    "duration": 11,
    "start_time": "2023-01-19T17:03:00.965Z"
   },
   {
    "duration": 6,
    "start_time": "2023-01-19T17:03:04.077Z"
   },
   {
    "duration": 90,
    "start_time": "2023-01-19T17:03:08.742Z"
   },
   {
    "duration": 6,
    "start_time": "2023-01-19T17:03:12.683Z"
   },
   {
    "duration": 8,
    "start_time": "2023-01-19T17:03:14.293Z"
   },
   {
    "duration": 7,
    "start_time": "2023-01-19T17:03:19.365Z"
   },
   {
    "duration": 143,
    "start_time": "2023-01-19T17:04:05.606Z"
   },
   {
    "duration": 3,
    "start_time": "2023-01-19T17:04:50.854Z"
   },
   {
    "duration": 4,
    "start_time": "2023-01-19T17:04:53.077Z"
   },
   {
    "duration": 4,
    "start_time": "2023-01-19T17:05:28.933Z"
   },
   {
    "duration": 7,
    "start_time": "2023-01-19T17:05:30.748Z"
   },
   {
    "duration": 4,
    "start_time": "2023-01-19T17:05:36.003Z"
   },
   {
    "duration": 372,
    "start_time": "2023-01-19T17:05:42.212Z"
   },
   {
    "duration": 88,
    "start_time": "2023-01-19T17:10:15.566Z"
   },
   {
    "duration": 123,
    "start_time": "2023-01-19T17:12:44.554Z"
   },
   {
    "duration": 4,
    "start_time": "2023-01-19T17:39:42.883Z"
   },
   {
    "duration": 107,
    "start_time": "2023-01-19T17:39:57.014Z"
   },
   {
    "duration": 11,
    "start_time": "2023-01-19T17:40:05.964Z"
   },
   {
    "duration": 97,
    "start_time": "2023-01-19T17:41:11.680Z"
   },
   {
    "duration": 101,
    "start_time": "2023-01-19T17:43:19.284Z"
   },
   {
    "duration": 5,
    "start_time": "2023-01-19T17:52:22.462Z"
   },
   {
    "duration": 3,
    "start_time": "2023-01-19T17:52:32.312Z"
   },
   {
    "duration": 10,
    "start_time": "2023-01-19T17:52:33.553Z"
   },
   {
    "duration": 19,
    "start_time": "2023-01-19T17:52:59.524Z"
   },
   {
    "duration": 4,
    "start_time": "2023-01-19T17:53:20.509Z"
   },
   {
    "duration": 10,
    "start_time": "2023-01-19T17:53:22.994Z"
   },
   {
    "duration": 21,
    "start_time": "2023-01-19T17:53:25.516Z"
   },
   {
    "duration": 3,
    "start_time": "2023-01-19T18:09:37.102Z"
   },
   {
    "duration": 104,
    "start_time": "2023-01-19T18:10:38.434Z"
   },
   {
    "duration": 77,
    "start_time": "2023-01-19T18:11:48.143Z"
   },
   {
    "duration": 123,
    "start_time": "2023-01-19T18:21:45.434Z"
   },
   {
    "duration": 6,
    "start_time": "2023-01-19T18:21:48.602Z"
   },
   {
    "duration": 13,
    "start_time": "2023-01-19T18:21:49.684Z"
   },
   {
    "duration": 22,
    "start_time": "2023-01-19T18:21:51.402Z"
   },
   {
    "duration": 2,
    "start_time": "2023-01-19T18:21:53.335Z"
   },
   {
    "duration": 55,
    "start_time": "2023-01-19T18:21:55.452Z"
   },
   {
    "duration": 11,
    "start_time": "2023-01-19T18:21:56.364Z"
   },
   {
    "duration": 12,
    "start_time": "2023-01-19T18:21:57.742Z"
   },
   {
    "duration": 2,
    "start_time": "2023-01-19T18:22:00.541Z"
   },
   {
    "duration": 29,
    "start_time": "2023-01-19T18:22:02.455Z"
   },
   {
    "duration": 11,
    "start_time": "2023-01-19T18:22:03.673Z"
   },
   {
    "duration": 24,
    "start_time": "2023-01-19T18:22:06.781Z"
   },
   {
    "duration": 6,
    "start_time": "2023-01-19T18:22:08.503Z"
   },
   {
    "duration": 5,
    "start_time": "2023-01-19T18:22:11.721Z"
   },
   {
    "duration": 6,
    "start_time": "2023-01-19T18:22:12.414Z"
   },
   {
    "duration": 6,
    "start_time": "2023-01-19T18:22:13.085Z"
   },
   {
    "duration": 9,
    "start_time": "2023-01-19T18:22:14.832Z"
   },
   {
    "duration": 5,
    "start_time": "2023-01-19T18:22:16.564Z"
   },
   {
    "duration": 5,
    "start_time": "2023-01-19T18:22:17.085Z"
   },
   {
    "duration": 4,
    "start_time": "2023-01-19T18:22:17.784Z"
   },
   {
    "duration": 6,
    "start_time": "2023-01-19T18:22:20.074Z"
   },
   {
    "duration": 7,
    "start_time": "2023-01-19T18:22:20.720Z"
   },
   {
    "duration": 13,
    "start_time": "2023-01-19T18:22:26.202Z"
   },
   {
    "duration": 5,
    "start_time": "2023-01-19T18:22:27.732Z"
   },
   {
    "duration": 74,
    "start_time": "2023-01-19T18:22:33.581Z"
   },
   {
    "duration": 5,
    "start_time": "2023-01-19T18:22:34.840Z"
   },
   {
    "duration": 9,
    "start_time": "2023-01-19T18:22:36.234Z"
   },
   {
    "duration": 6,
    "start_time": "2023-01-19T18:22:39.244Z"
   },
   {
    "duration": 106,
    "start_time": "2023-01-19T18:22:45.371Z"
   },
   {
    "duration": 4,
    "start_time": "2023-01-19T18:23:22.002Z"
   },
   {
    "duration": 5,
    "start_time": "2023-01-19T18:23:23.142Z"
   },
   {
    "duration": 4,
    "start_time": "2023-01-19T18:23:25.602Z"
   },
   {
    "duration": 4,
    "start_time": "2023-01-19T18:23:26.424Z"
   },
   {
    "duration": 326,
    "start_time": "2023-01-19T18:23:29.267Z"
   },
   {
    "duration": 78,
    "start_time": "2023-01-19T18:23:39.441Z"
   },
   {
    "duration": 4,
    "start_time": "2023-01-19T18:23:51.771Z"
   },
   {
    "duration": 97,
    "start_time": "2023-01-19T18:23:54.604Z"
   },
   {
    "duration": 68,
    "start_time": "2023-01-19T18:24:02.314Z"
   },
   {
    "duration": 3,
    "start_time": "2023-01-19T18:32:43.774Z"
   },
   {
    "duration": 130,
    "start_time": "2023-01-19T18:33:40.704Z"
   },
   {
    "duration": 6,
    "start_time": "2023-01-19T18:33:44.863Z"
   },
   {
    "duration": 12,
    "start_time": "2023-01-19T18:33:46.144Z"
   },
   {
    "duration": 17,
    "start_time": "2023-01-19T18:33:48.815Z"
   },
   {
    "duration": 3,
    "start_time": "2023-01-19T18:33:52.235Z"
   },
   {
    "duration": 56,
    "start_time": "2023-01-19T18:33:52.975Z"
   },
   {
    "duration": 11,
    "start_time": "2023-01-19T18:33:53.774Z"
   },
   {
    "duration": 12,
    "start_time": "2023-01-19T18:33:56.694Z"
   },
   {
    "duration": 2,
    "start_time": "2023-01-19T18:34:03.405Z"
   },
   {
    "duration": 23,
    "start_time": "2023-01-19T18:34:21.344Z"
   },
   {
    "duration": 4,
    "start_time": "2023-01-19T18:34:26.175Z"
   },
   {
    "duration": 8,
    "start_time": "2023-01-19T18:34:27.242Z"
   },
   {
    "duration": 67,
    "start_time": "2023-01-19T18:34:51.293Z"
   },
   {
    "duration": 12,
    "start_time": "2023-01-19T18:34:53.947Z"
   },
   {
    "duration": 3,
    "start_time": "2023-01-19T18:35:06.102Z"
   },
   {
    "duration": 75,
    "start_time": "2023-01-19T18:35:07.382Z"
   },
   {
    "duration": 17,
    "start_time": "2023-01-19T18:35:12.592Z"
   },
   {
    "duration": 7,
    "start_time": "2023-01-19T18:36:35.495Z"
   },
   {
    "duration": 3,
    "start_time": "2023-01-19T18:42:54.754Z"
   },
   {
    "duration": 71,
    "start_time": "2023-01-19T18:42:56.461Z"
   },
   {
    "duration": 6,
    "start_time": "2023-01-19T18:43:04.464Z"
   },
   {
    "duration": 14,
    "start_time": "2023-01-19T18:43:33.388Z"
   },
   {
    "duration": 24,
    "start_time": "2023-01-19T18:43:59.814Z"
   },
   {
    "duration": 6,
    "start_time": "2023-01-19T18:44:02.535Z"
   },
   {
    "duration": 5,
    "start_time": "2023-01-19T18:44:03.483Z"
   },
   {
    "duration": 5,
    "start_time": "2023-01-19T18:44:05.224Z"
   },
   {
    "duration": 6,
    "start_time": "2023-01-19T18:44:05.964Z"
   },
   {
    "duration": 9,
    "start_time": "2023-01-19T18:44:07.603Z"
   },
   {
    "duration": 5,
    "start_time": "2023-01-19T18:44:09.793Z"
   },
   {
    "duration": 5,
    "start_time": "2023-01-19T18:44:10.619Z"
   },
   {
    "duration": 5,
    "start_time": "2023-01-19T18:44:11.532Z"
   },
   {
    "duration": 5,
    "start_time": "2023-01-19T18:44:14.493Z"
   },
   {
    "duration": 9,
    "start_time": "2023-01-19T18:44:15.182Z"
   },
   {
    "duration": 14,
    "start_time": "2023-01-19T18:44:18.192Z"
   },
   {
    "duration": 7,
    "start_time": "2023-01-19T18:44:21.173Z"
   },
   {
    "duration": 97,
    "start_time": "2023-01-19T18:44:23.153Z"
   },
   {
    "duration": 6,
    "start_time": "2023-01-19T18:44:24.290Z"
   },
   {
    "duration": 8,
    "start_time": "2023-01-19T18:44:26.051Z"
   },
   {
    "duration": 7,
    "start_time": "2023-01-19T18:44:27.660Z"
   },
   {
    "duration": 101,
    "start_time": "2023-01-19T18:44:35.273Z"
   },
   {
    "duration": 4,
    "start_time": "2023-01-19T18:45:04.163Z"
   },
   {
    "duration": 4,
    "start_time": "2023-01-19T18:45:05.543Z"
   },
   {
    "duration": 5,
    "start_time": "2023-01-19T18:45:07.053Z"
   },
   {
    "duration": 4,
    "start_time": "2023-01-19T18:45:07.842Z"
   },
   {
    "duration": 381,
    "start_time": "2023-01-19T18:45:09.660Z"
   },
   {
    "duration": 94,
    "start_time": "2023-01-19T18:45:11.617Z"
   },
   {
    "duration": 4,
    "start_time": "2023-01-19T18:45:25.891Z"
   },
   {
    "duration": 104,
    "start_time": "2023-01-19T18:45:29.637Z"
   },
   {
    "duration": 66,
    "start_time": "2023-01-19T18:45:31.990Z"
   },
   {
    "duration": 4,
    "start_time": "2023-01-19T18:45:39.363Z"
   },
   {
    "duration": 3,
    "start_time": "2023-01-19T18:45:45.904Z"
   },
   {
    "duration": 16,
    "start_time": "2023-01-19T18:45:48.141Z"
   },
   {
    "duration": 19,
    "start_time": "2023-01-19T18:45:50.186Z"
   },
   {
    "duration": 3,
    "start_time": "2023-01-19T18:48:23.431Z"
   },
   {
    "duration": 104,
    "start_time": "2023-01-19T18:49:12.729Z"
   },
   {
    "duration": 7,
    "start_time": "2023-01-19T18:55:14.020Z"
   },
   {
    "duration": 516,
    "start_time": "2023-01-19T18:56:24.412Z"
   },
   {
    "duration": 121,
    "start_time": "2023-01-19T18:56:43.920Z"
   },
   {
    "duration": 124,
    "start_time": "2023-01-19T18:56:48.400Z"
   },
   {
    "duration": 118,
    "start_time": "2023-01-19T18:58:49.220Z"
   },
   {
    "duration": 126,
    "start_time": "2023-01-19T18:59:06.472Z"
   },
   {
    "duration": 217,
    "start_time": "2023-01-19T19:08:06.839Z"
   },
   {
    "duration": 128,
    "start_time": "2023-01-19T19:16:06.709Z"
   },
   {
    "duration": 126,
    "start_time": "2023-01-19T19:16:20.719Z"
   },
   {
    "duration": 23,
    "start_time": "2023-01-19T19:31:29.758Z"
   },
   {
    "duration": 163,
    "start_time": "2023-01-19T19:32:28.392Z"
   },
   {
    "duration": 153,
    "start_time": "2023-01-19T19:43:39.796Z"
   },
   {
    "duration": 6,
    "start_time": "2023-01-19T19:43:43.730Z"
   },
   {
    "duration": 14,
    "start_time": "2023-01-19T19:43:44.852Z"
   },
   {
    "duration": 19,
    "start_time": "2023-01-19T19:43:47.804Z"
   },
   {
    "duration": 3,
    "start_time": "2023-01-19T19:43:50.666Z"
   },
   {
    "duration": 60,
    "start_time": "2023-01-19T19:43:51.576Z"
   },
   {
    "duration": 15,
    "start_time": "2023-01-19T19:43:52.404Z"
   },
   {
    "duration": 12,
    "start_time": "2023-01-19T19:43:54.933Z"
   },
   {
    "duration": 2,
    "start_time": "2023-01-19T19:43:57.697Z"
   },
   {
    "duration": 24,
    "start_time": "2023-01-19T19:43:58.683Z"
   },
   {
    "duration": 3,
    "start_time": "2023-01-19T19:44:01.521Z"
   },
   {
    "duration": 93,
    "start_time": "2023-01-19T19:44:02.464Z"
   },
   {
    "duration": 4,
    "start_time": "2023-01-19T19:44:03.453Z"
   },
   {
    "duration": 71,
    "start_time": "2023-01-19T19:44:05.024Z"
   },
   {
    "duration": 12,
    "start_time": "2023-01-19T19:44:08.263Z"
   },
   {
    "duration": 24,
    "start_time": "2023-01-19T19:44:11.113Z"
   },
   {
    "duration": 6,
    "start_time": "2023-01-19T19:44:14.505Z"
   },
   {
    "duration": 5,
    "start_time": "2023-01-19T19:44:15.468Z"
   },
   {
    "duration": 5,
    "start_time": "2023-01-19T19:44:17.202Z"
   },
   {
    "duration": 7,
    "start_time": "2023-01-19T19:44:18.282Z"
   },
   {
    "duration": 9,
    "start_time": "2023-01-19T19:44:21.102Z"
   },
   {
    "duration": 6,
    "start_time": "2023-01-19T19:44:22.802Z"
   },
   {
    "duration": 5,
    "start_time": "2023-01-19T19:44:23.792Z"
   },
   {
    "duration": 5,
    "start_time": "2023-01-19T19:44:25.432Z"
   },
   {
    "duration": 5,
    "start_time": "2023-01-19T19:44:26.062Z"
   },
   {
    "duration": 9,
    "start_time": "2023-01-19T19:44:26.732Z"
   },
   {
    "duration": 11,
    "start_time": "2023-01-19T19:44:30.830Z"
   },
   {
    "duration": 6,
    "start_time": "2023-01-19T19:44:33.402Z"
   },
   {
    "duration": 80,
    "start_time": "2023-01-19T19:44:35.812Z"
   },
   {
    "duration": 6,
    "start_time": "2023-01-19T19:44:36.861Z"
   },
   {
    "duration": 9,
    "start_time": "2023-01-19T19:44:37.750Z"
   },
   {
    "duration": 8,
    "start_time": "2023-01-19T19:44:40.582Z"
   },
   {
    "duration": 112,
    "start_time": "2023-01-19T19:44:44.733Z"
   },
   {
    "duration": 5,
    "start_time": "2023-01-19T19:44:48.551Z"
   },
   {
    "duration": 3,
    "start_time": "2023-01-19T19:44:49.881Z"
   },
   {
    "duration": 4,
    "start_time": "2023-01-19T19:44:50.529Z"
   },
   {
    "duration": 4,
    "start_time": "2023-01-19T19:44:51.191Z"
   },
   {
    "duration": 301,
    "start_time": "2023-01-19T19:44:52.968Z"
   },
   {
    "duration": 81,
    "start_time": "2023-01-19T19:44:54.881Z"
   },
   {
    "duration": 3,
    "start_time": "2023-01-19T19:44:57.671Z"
   },
   {
    "duration": 103,
    "start_time": "2023-01-19T19:44:58.881Z"
   },
   {
    "duration": 61,
    "start_time": "2023-01-19T19:45:00.378Z"
   },
   {
    "duration": 4,
    "start_time": "2023-01-19T19:45:03.689Z"
   },
   {
    "duration": 3,
    "start_time": "2023-01-19T19:45:05.038Z"
   },
   {
    "duration": 11,
    "start_time": "2023-01-19T19:45:06.712Z"
   },
   {
    "duration": 20,
    "start_time": "2023-01-19T19:45:11.351Z"
   },
   {
    "duration": 3,
    "start_time": "2023-01-19T19:45:16.802Z"
   },
   {
    "duration": 100,
    "start_time": "2023-01-19T19:45:18.792Z"
   },
   {
    "duration": 123,
    "start_time": "2023-01-19T19:45:23.830Z"
   },
   {
    "duration": 128,
    "start_time": "2023-01-19T19:45:30.680Z"
   },
   {
    "duration": 143,
    "start_time": "2023-01-19T19:47:22.232Z"
   },
   {
    "duration": 7,
    "start_time": "2023-01-19T19:47:25.530Z"
   },
   {
    "duration": 12,
    "start_time": "2023-01-19T19:47:27.113Z"
   },
   {
    "duration": 19,
    "start_time": "2023-01-19T19:47:33.010Z"
   },
   {
    "duration": 899,
    "start_time": "2023-01-19T22:43:32.404Z"
   },
   {
    "duration": 6,
    "start_time": "2023-01-19T22:43:52.116Z"
   },
   {
    "duration": 13,
    "start_time": "2023-01-19T22:43:57.586Z"
   },
   {
    "duration": 29,
    "start_time": "2023-01-19T22:44:00.045Z"
   },
   {
    "duration": 4,
    "start_time": "2023-01-19T22:44:03.058Z"
   },
   {
    "duration": 53,
    "start_time": "2023-01-19T22:44:04.465Z"
   },
   {
    "duration": 12,
    "start_time": "2023-01-19T22:44:05.416Z"
   },
   {
    "duration": 28,
    "start_time": "2023-01-19T22:44:08.965Z"
   },
   {
    "duration": 3,
    "start_time": "2023-01-19T22:44:22.206Z"
   },
   {
    "duration": 33,
    "start_time": "2023-01-19T22:44:27.586Z"
   },
   {
    "duration": 7,
    "start_time": "2023-01-19T22:44:30.259Z"
   },
   {
    "duration": 76,
    "start_time": "2023-01-19T22:44:32.513Z"
   },
   {
    "duration": 19,
    "start_time": "2023-01-19T22:44:36.732Z"
   },
   {
    "duration": 22,
    "start_time": "2023-01-19T22:44:39.595Z"
   },
   {
    "duration": 5,
    "start_time": "2023-01-19T22:44:42.094Z"
   },
   {
    "duration": 5,
    "start_time": "2023-01-19T22:44:43.516Z"
   },
   {
    "duration": 5,
    "start_time": "2023-01-19T22:44:45.585Z"
   },
   {
    "duration": 10,
    "start_time": "2023-01-19T22:44:49.058Z"
   },
   {
    "duration": 9,
    "start_time": "2023-01-19T22:44:49.614Z"
   },
   {
    "duration": 5,
    "start_time": "2023-01-19T22:44:52.216Z"
   },
   {
    "duration": 6,
    "start_time": "2023-01-19T22:44:53.086Z"
   },
   {
    "duration": 5,
    "start_time": "2023-01-19T22:44:53.962Z"
   },
   {
    "duration": 5,
    "start_time": "2023-01-19T22:44:56.006Z"
   },
   {
    "duration": 8,
    "start_time": "2023-01-19T22:44:56.584Z"
   },
   {
    "duration": 14,
    "start_time": "2023-01-19T22:45:01.960Z"
   },
   {
    "duration": 5,
    "start_time": "2023-01-19T22:45:03.494Z"
   },
   {
    "duration": 120,
    "start_time": "2023-01-19T22:45:04.684Z"
   },
   {
    "duration": 5,
    "start_time": "2023-01-19T22:45:05.765Z"
   },
   {
    "duration": 7,
    "start_time": "2023-01-19T22:45:06.886Z"
   },
   {
    "duration": 9,
    "start_time": "2023-01-19T22:45:10.546Z"
   },
   {
    "duration": 83,
    "start_time": "2023-01-19T22:48:15.464Z"
   },
   {
    "duration": 99,
    "start_time": "2023-01-19T22:48:31.735Z"
   },
   {
    "duration": 112,
    "start_time": "2023-01-19T22:48:58.765Z"
   },
   {
    "duration": 110,
    "start_time": "2023-01-19T22:49:14.603Z"
   },
   {
    "duration": 4,
    "start_time": "2023-01-19T22:50:42.226Z"
   },
   {
    "duration": 4,
    "start_time": "2023-01-19T22:50:43.915Z"
   },
   {
    "duration": 4,
    "start_time": "2023-01-19T22:50:45.498Z"
   },
   {
    "duration": 5,
    "start_time": "2023-01-19T22:50:46.119Z"
   },
   {
    "duration": 347,
    "start_time": "2023-01-19T22:50:47.118Z"
   },
   {
    "duration": 103,
    "start_time": "2023-01-19T22:50:56.248Z"
   },
   {
    "duration": 5,
    "start_time": "2023-01-19T22:52:23.216Z"
   },
   {
    "duration": 336,
    "start_time": "2023-01-19T22:52:27.199Z"
   },
   {
    "duration": 107,
    "start_time": "2023-01-19T22:52:29.728Z"
   },
   {
    "duration": 76,
    "start_time": "2023-01-19T22:57:19.276Z"
   },
   {
    "duration": 106,
    "start_time": "2023-01-19T22:57:47.681Z"
   },
   {
    "duration": 8,
    "start_time": "2023-01-19T22:58:51.572Z"
   },
   {
    "duration": 113,
    "start_time": "2023-01-19T22:58:53.190Z"
   },
   {
    "duration": 84,
    "start_time": "2023-01-19T22:59:00.849Z"
   },
   {
    "duration": 5,
    "start_time": "2023-01-19T22:59:14.804Z"
   },
   {
    "duration": 6,
    "start_time": "2023-01-19T22:59:18.446Z"
   },
   {
    "duration": 9,
    "start_time": "2023-01-19T22:59:23.526Z"
   },
   {
    "duration": 23,
    "start_time": "2023-01-19T23:00:13.779Z"
   },
   {
    "duration": 3,
    "start_time": "2023-01-19T23:00:18.788Z"
   },
   {
    "duration": 109,
    "start_time": "2023-01-19T23:00:20.794Z"
   },
   {
    "duration": 670,
    "start_time": "2023-01-19T23:00:54.969Z"
   },
   {
    "duration": 156,
    "start_time": "2023-01-19T23:01:11.263Z"
   },
   {
    "duration": 172,
    "start_time": "2023-01-19T23:01:18.989Z"
   },
   {
    "duration": 174,
    "start_time": "2023-01-19T23:01:22.922Z"
   },
   {
    "duration": 135,
    "start_time": "2023-01-19T23:02:05.863Z"
   },
   {
    "duration": 239,
    "start_time": "2023-01-19T23:04:14.040Z"
   },
   {
    "duration": 313,
    "start_time": "2023-01-19T23:04:30.600Z"
   },
   {
    "duration": 200,
    "start_time": "2023-01-19T23:04:36.910Z"
   },
   {
    "duration": 218,
    "start_time": "2023-01-19T23:08:35.382Z"
   },
   {
    "duration": 176,
    "start_time": "2023-01-19T23:08:49.415Z"
   },
   {
    "duration": 183,
    "start_time": "2023-01-19T23:14:29.970Z"
   },
   {
    "duration": 238,
    "start_time": "2023-01-19T23:14:52.271Z"
   },
   {
    "duration": 220,
    "start_time": "2023-01-19T23:15:04.876Z"
   },
   {
    "duration": 219,
    "start_time": "2023-01-19T23:16:52.581Z"
   },
   {
    "duration": 46,
    "start_time": "2023-01-19T23:26:35.701Z"
   },
   {
    "duration": 73,
    "start_time": "2023-01-19T23:26:42.543Z"
   },
   {
    "duration": 212,
    "start_time": "2023-01-19T23:27:39.993Z"
   },
   {
    "duration": 222,
    "start_time": "2023-01-19T23:28:48.677Z"
   },
   {
    "duration": 430,
    "start_time": "2023-01-19T23:34:09.477Z"
   },
   {
    "duration": 391,
    "start_time": "2023-01-19T23:35:12.703Z"
   },
   {
    "duration": 397,
    "start_time": "2023-01-19T23:35:41.067Z"
   },
   {
    "duration": 334,
    "start_time": "2023-01-19T23:40:54.083Z"
   },
   {
    "duration": 6,
    "start_time": "2023-01-19T23:43:40.376Z"
   },
   {
    "duration": 11,
    "start_time": "2023-01-19T23:53:05.404Z"
   },
   {
    "duration": 19,
    "start_time": "2023-01-20T00:07:25.613Z"
   },
   {
    "duration": 8,
    "start_time": "2023-01-20T00:07:35.970Z"
   },
   {
    "duration": 813,
    "start_time": "2023-01-20T00:08:01.205Z"
   },
   {
    "duration": 13,
    "start_time": "2023-01-20T00:10:18.376Z"
   },
   {
    "duration": 13,
    "start_time": "2023-01-20T00:10:36.293Z"
   },
   {
    "duration": 14,
    "start_time": "2023-01-20T00:10:40.965Z"
   },
   {
    "duration": 13,
    "start_time": "2023-01-20T00:11:41.695Z"
   },
   {
    "duration": 29,
    "start_time": "2023-01-20T00:12:45.145Z"
   },
   {
    "duration": 19,
    "start_time": "2023-01-20T00:13:55.569Z"
   },
   {
    "duration": 10,
    "start_time": "2023-01-20T00:15:09.115Z"
   },
   {
    "duration": 9,
    "start_time": "2023-01-20T00:15:26.175Z"
   },
   {
    "duration": 28,
    "start_time": "2023-01-20T00:16:45.833Z"
   },
   {
    "duration": 17,
    "start_time": "2023-01-20T00:17:00.205Z"
   },
   {
    "duration": 19,
    "start_time": "2023-01-20T00:17:42.323Z"
   },
   {
    "duration": 741,
    "start_time": "2023-01-20T00:18:26.521Z"
   },
   {
    "duration": 34,
    "start_time": "2023-01-20T00:18:54.856Z"
   },
   {
    "duration": 729,
    "start_time": "2023-01-20T00:19:29.163Z"
   },
   {
    "duration": 10,
    "start_time": "2023-01-20T00:20:49.483Z"
   },
   {
    "duration": 19,
    "start_time": "2023-01-20T00:20:55.175Z"
   },
   {
    "duration": 25,
    "start_time": "2023-01-20T00:21:19.893Z"
   },
   {
    "duration": 10,
    "start_time": "2023-01-20T00:21:31.461Z"
   },
   {
    "duration": 24,
    "start_time": "2023-01-20T00:21:34.414Z"
   },
   {
    "duration": 23,
    "start_time": "2023-01-20T00:22:02.623Z"
   },
   {
    "duration": 27,
    "start_time": "2023-01-20T00:22:21.700Z"
   },
   {
    "duration": 21,
    "start_time": "2023-01-20T00:23:41.442Z"
   },
   {
    "duration": 27,
    "start_time": "2023-01-20T00:23:46.844Z"
   },
   {
    "duration": 295,
    "start_time": "2023-01-20T00:25:19.673Z"
   },
   {
    "duration": 10,
    "start_time": "2023-01-20T00:25:59.218Z"
   },
   {
    "duration": 272,
    "start_time": "2023-01-20T00:26:10.871Z"
   },
   {
    "duration": 307,
    "start_time": "2023-01-20T00:27:00.461Z"
   },
   {
    "duration": 327,
    "start_time": "2023-01-20T00:27:14.462Z"
   },
   {
    "duration": 474,
    "start_time": "2023-01-20T00:27:53.423Z"
   },
   {
    "duration": 408,
    "start_time": "2023-01-20T00:28:52.069Z"
   },
   {
    "duration": 406,
    "start_time": "2023-01-20T00:30:19.452Z"
   },
   {
    "duration": 406,
    "start_time": "2023-01-20T00:40:19.792Z"
   },
   {
    "duration": 59,
    "start_time": "2023-01-20T00:40:44.649Z"
   },
   {
    "duration": 492,
    "start_time": "2023-01-20T00:42:17.298Z"
   },
   {
    "duration": 515,
    "start_time": "2023-01-20T00:42:36.941Z"
   },
   {
    "duration": 12,
    "start_time": "2023-01-20T00:46:25.483Z"
   },
   {
    "duration": 10,
    "start_time": "2023-01-20T00:47:52.727Z"
   },
   {
    "duration": 23,
    "start_time": "2023-01-20T00:47:56.947Z"
   },
   {
    "duration": 446,
    "start_time": "2023-01-20T00:48:00.780Z"
   },
   {
    "duration": 56,
    "start_time": "2023-01-20T00:49:14.066Z"
   },
   {
    "duration": 13,
    "start_time": "2023-01-20T00:57:08.202Z"
   },
   {
    "duration": 15,
    "start_time": "2023-01-20T00:57:35.688Z"
   },
   {
    "duration": 12,
    "start_time": "2023-01-20T00:59:04.429Z"
   },
   {
    "duration": 14,
    "start_time": "2023-01-20T00:59:10.521Z"
   },
   {
    "duration": 17,
    "start_time": "2023-01-20T01:05:16.886Z"
   },
   {
    "duration": 24,
    "start_time": "2023-01-20T01:05:35.717Z"
   },
   {
    "duration": 226,
    "start_time": "2023-01-20T01:11:55.670Z"
   },
   {
    "duration": 240,
    "start_time": "2023-01-20T01:13:53.143Z"
   },
   {
    "duration": 12,
    "start_time": "2023-01-20T01:23:01.209Z"
   },
   {
    "duration": 16,
    "start_time": "2023-01-20T01:23:15.976Z"
   },
   {
    "duration": 23,
    "start_time": "2023-01-20T01:23:18.609Z"
   },
   {
    "duration": 437,
    "start_time": "2023-01-20T01:23:21.346Z"
   },
   {
    "duration": 250,
    "start_time": "2023-01-20T01:23:30.298Z"
   },
   {
    "duration": 172,
    "start_time": "2023-01-20T01:23:56.019Z"
   },
   {
    "duration": 219,
    "start_time": "2023-01-20T01:24:16.207Z"
   },
   {
    "duration": 812,
    "start_time": "2023-01-20T01:27:37.719Z"
   },
   {
    "duration": 1091,
    "start_time": "2023-01-20T01:28:02.488Z"
   },
   {
    "duration": 666,
    "start_time": "2023-01-20T08:30:15.913Z"
   },
   {
    "duration": 6,
    "start_time": "2023-01-20T08:30:29.556Z"
   },
   {
    "duration": 13,
    "start_time": "2023-01-20T08:30:31.217Z"
   },
   {
    "duration": 23,
    "start_time": "2023-01-20T08:30:34.639Z"
   },
   {
    "duration": 3,
    "start_time": "2023-01-20T08:30:37.749Z"
   },
   {
    "duration": 57,
    "start_time": "2023-01-20T08:30:38.799Z"
   },
   {
    "duration": 11,
    "start_time": "2023-01-20T08:30:40.820Z"
   },
   {
    "duration": 11,
    "start_time": "2023-01-20T08:30:42.966Z"
   },
   {
    "duration": 3,
    "start_time": "2023-01-20T08:30:46.442Z"
   },
   {
    "duration": 28,
    "start_time": "2023-01-20T08:30:47.133Z"
   },
   {
    "duration": 4,
    "start_time": "2023-01-20T08:30:48.984Z"
   },
   {
    "duration": 68,
    "start_time": "2023-01-20T08:30:49.673Z"
   },
   {
    "duration": 17,
    "start_time": "2023-01-20T08:31:03.266Z"
   },
   {
    "duration": 36,
    "start_time": "2023-01-20T08:31:08.047Z"
   },
   {
    "duration": 6,
    "start_time": "2023-01-20T08:31:09.446Z"
   },
   {
    "duration": 5,
    "start_time": "2023-01-20T08:31:10.268Z"
   },
   {
    "duration": 5,
    "start_time": "2023-01-20T08:31:12.145Z"
   },
   {
    "duration": 9,
    "start_time": "2023-01-20T08:31:12.896Z"
   },
   {
    "duration": 12,
    "start_time": "2023-01-20T08:31:13.686Z"
   },
   {
    "duration": 6,
    "start_time": "2023-01-20T08:31:18.815Z"
   },
   {
    "duration": 7,
    "start_time": "2023-01-20T08:31:19.446Z"
   },
   {
    "duration": 4,
    "start_time": "2023-01-20T08:31:19.995Z"
   },
   {
    "duration": 4,
    "start_time": "2023-01-20T08:31:21.339Z"
   },
   {
    "duration": 10,
    "start_time": "2023-01-20T08:31:21.918Z"
   },
   {
    "duration": 15,
    "start_time": "2023-01-20T08:31:25.136Z"
   },
   {
    "duration": 5,
    "start_time": "2023-01-20T08:31:27.187Z"
   },
   {
    "duration": 112,
    "start_time": "2023-01-20T08:31:29.549Z"
   },
   {
    "duration": 5,
    "start_time": "2023-01-20T08:31:30.625Z"
   },
   {
    "duration": 8,
    "start_time": "2023-01-20T08:31:31.858Z"
   },
   {
    "duration": 7,
    "start_time": "2023-01-20T08:31:56.019Z"
   },
   {
    "duration": 105,
    "start_time": "2023-01-20T08:32:00.839Z"
   },
   {
    "duration": 5,
    "start_time": "2023-01-20T08:32:03.830Z"
   },
   {
    "duration": 3,
    "start_time": "2023-01-20T08:32:05.389Z"
   },
   {
    "duration": 4,
    "start_time": "2023-01-20T08:32:07.150Z"
   },
   {
    "duration": 4,
    "start_time": "2023-01-20T08:32:09.001Z"
   },
   {
    "duration": 301,
    "start_time": "2023-01-20T08:32:10.278Z"
   },
   {
    "duration": 77,
    "start_time": "2023-01-20T08:32:12.725Z"
   },
   {
    "duration": 3,
    "start_time": "2023-01-20T08:32:15.420Z"
   },
   {
    "duration": 88,
    "start_time": "2023-01-20T08:32:16.150Z"
   },
   {
    "duration": 62,
    "start_time": "2023-01-20T08:32:17.420Z"
   },
   {
    "duration": 4,
    "start_time": "2023-01-20T08:32:20.298Z"
   },
   {
    "duration": 3,
    "start_time": "2023-01-20T08:32:21.340Z"
   },
   {
    "duration": 9,
    "start_time": "2023-01-20T08:32:22.128Z"
   },
   {
    "duration": 17,
    "start_time": "2023-01-20T08:32:23.422Z"
   },
   {
    "duration": 3,
    "start_time": "2023-01-20T08:32:25.960Z"
   },
   {
    "duration": 120,
    "start_time": "2023-01-20T08:32:26.670Z"
   },
   {
    "duration": 588,
    "start_time": "2023-01-20T08:32:29.284Z"
   },
   {
    "duration": 118,
    "start_time": "2023-01-20T08:32:32.789Z"
   },
   {
    "duration": 169,
    "start_time": "2023-01-20T08:32:36.031Z"
   },
   {
    "duration": 313,
    "start_time": "2023-01-20T08:32:44.359Z"
   },
   {
    "duration": 258,
    "start_time": "2023-01-20T08:33:10.368Z"
   },
   {
    "duration": 13,
    "start_time": "2023-01-20T08:33:15.101Z"
   },
   {
    "duration": 19,
    "start_time": "2023-01-20T08:33:17.713Z"
   },
   {
    "duration": 22,
    "start_time": "2023-01-20T08:33:20.931Z"
   },
   {
    "duration": 578,
    "start_time": "2023-01-20T08:33:24.231Z"
   },
   {
    "duration": 1011,
    "start_time": "2023-01-20T14:44:15.705Z"
   },
   {
    "duration": 7,
    "start_time": "2023-01-20T14:44:19.676Z"
   },
   {
    "duration": 14,
    "start_time": "2023-01-20T14:44:21.224Z"
   },
   {
    "duration": 26,
    "start_time": "2023-01-20T14:44:22.842Z"
   },
   {
    "duration": 3,
    "start_time": "2023-01-20T14:44:27.325Z"
   },
   {
    "duration": 55,
    "start_time": "2023-01-20T14:44:28.040Z"
   },
   {
    "duration": 13,
    "start_time": "2023-01-20T14:44:30.050Z"
   },
   {
    "duration": 12,
    "start_time": "2023-01-20T14:44:31.350Z"
   },
   {
    "duration": 2,
    "start_time": "2023-01-20T14:44:34.177Z"
   },
   {
    "duration": 25,
    "start_time": "2023-01-20T14:44:35.602Z"
   },
   {
    "duration": 3,
    "start_time": "2023-01-20T14:44:37.831Z"
   },
   {
    "duration": 76,
    "start_time": "2023-01-20T14:44:38.658Z"
   },
   {
    "duration": 11,
    "start_time": "2023-01-20T14:44:39.740Z"
   },
   {
    "duration": 22,
    "start_time": "2023-01-20T14:44:41.267Z"
   },
   {
    "duration": 6,
    "start_time": "2023-01-20T14:44:42.677Z"
   },
   {
    "duration": 6,
    "start_time": "2023-01-20T14:44:46.321Z"
   },
   {
    "duration": 4,
    "start_time": "2023-01-20T14:44:46.841Z"
   },
   {
    "duration": 7,
    "start_time": "2023-01-20T14:44:47.300Z"
   },
   {
    "duration": 13,
    "start_time": "2023-01-20T14:44:47.939Z"
   },
   {
    "duration": 5,
    "start_time": "2023-01-20T14:44:50.357Z"
   },
   {
    "duration": 5,
    "start_time": "2023-01-20T14:44:50.848Z"
   },
   {
    "duration": 4,
    "start_time": "2023-01-20T14:44:51.357Z"
   },
   {
    "duration": 5,
    "start_time": "2023-01-20T14:44:52.046Z"
   },
   {
    "duration": 7,
    "start_time": "2023-01-20T14:44:52.737Z"
   },
   {
    "duration": 13,
    "start_time": "2023-01-20T14:44:55.307Z"
   },
   {
    "duration": 5,
    "start_time": "2023-01-20T14:44:56.839Z"
   },
   {
    "duration": 114,
    "start_time": "2023-01-20T14:44:59.098Z"
   },
   {
    "duration": 5,
    "start_time": "2023-01-20T14:45:00.949Z"
   },
   {
    "duration": 8,
    "start_time": "2023-01-20T14:45:02.147Z"
   },
   {
    "duration": 7,
    "start_time": "2023-01-20T14:45:07.921Z"
   },
   {
    "duration": 105,
    "start_time": "2023-01-20T14:45:16.768Z"
   },
   {
    "duration": 5,
    "start_time": "2023-01-20T14:46:06.450Z"
   },
   {
    "duration": 3,
    "start_time": "2023-01-20T14:46:07.819Z"
   },
   {
    "duration": 5,
    "start_time": "2023-01-20T14:46:13.126Z"
   },
   {
    "duration": 4,
    "start_time": "2023-01-20T14:46:13.791Z"
   },
   {
    "duration": 351,
    "start_time": "2023-01-20T14:46:16.095Z"
   },
   {
    "duration": 79,
    "start_time": "2023-01-20T14:46:18.638Z"
   },
   {
    "duration": 4,
    "start_time": "2023-01-20T14:46:21.040Z"
   },
   {
    "duration": 97,
    "start_time": "2023-01-20T14:46:25.069Z"
   },
   {
    "duration": 67,
    "start_time": "2023-01-20T14:46:26.814Z"
   },
   {
    "duration": 4,
    "start_time": "2023-01-20T14:46:29.501Z"
   },
   {
    "duration": 4,
    "start_time": "2023-01-20T14:46:31.901Z"
   },
   {
    "duration": 10,
    "start_time": "2023-01-20T14:46:32.521Z"
   },
   {
    "duration": 18,
    "start_time": "2023-01-20T14:46:33.519Z"
   },
   {
    "duration": 3,
    "start_time": "2023-01-20T14:46:35.620Z"
   },
   {
    "duration": 106,
    "start_time": "2023-01-20T14:46:36.468Z"
   },
   {
    "duration": 525,
    "start_time": "2023-01-20T14:46:39.869Z"
   },
   {
    "duration": 124,
    "start_time": "2023-01-20T14:46:45.327Z"
   },
   {
    "duration": 164,
    "start_time": "2023-01-20T14:46:49.251Z"
   },
   {
    "duration": 343,
    "start_time": "2023-01-20T14:46:53.350Z"
   },
   {
    "duration": 13,
    "start_time": "2023-01-20T14:47:04.010Z"
   },
   {
    "duration": 16,
    "start_time": "2023-01-20T14:47:07.037Z"
   },
   {
    "duration": 26,
    "start_time": "2023-01-20T14:47:14.037Z"
   },
   {
    "duration": 468,
    "start_time": "2023-01-20T14:47:17.871Z"
   },
   {
    "duration": 219,
    "start_time": "2023-01-20T14:47:22.521Z"
   },
   {
    "duration": 171,
    "start_time": "2023-01-20T14:47:25.365Z"
   },
   {
    "duration": 223,
    "start_time": "2023-01-20T15:04:56.739Z"
   },
   {
    "duration": 756,
    "start_time": "2023-01-21T11:50:12.539Z"
   },
   {
    "duration": 6,
    "start_time": "2023-01-21T11:50:13.297Z"
   },
   {
    "duration": 39,
    "start_time": "2023-01-21T11:50:13.305Z"
   },
   {
    "duration": 28,
    "start_time": "2023-01-21T11:50:13.346Z"
   },
   {
    "duration": 10,
    "start_time": "2023-01-21T11:50:13.376Z"
   },
   {
    "duration": 66,
    "start_time": "2023-01-21T11:50:13.388Z"
   },
   {
    "duration": 12,
    "start_time": "2023-01-21T11:50:13.456Z"
   },
   {
    "duration": 20,
    "start_time": "2023-01-21T11:50:13.470Z"
   },
   {
    "duration": 6,
    "start_time": "2023-01-21T11:50:13.491Z"
   },
   {
    "duration": 40,
    "start_time": "2023-01-21T11:50:13.500Z"
   },
   {
    "duration": 3,
    "start_time": "2023-01-21T11:50:13.542Z"
   },
   {
    "duration": 82,
    "start_time": "2023-01-21T11:50:13.547Z"
   },
   {
    "duration": 14,
    "start_time": "2023-01-21T11:50:13.631Z"
   },
   {
    "duration": 27,
    "start_time": "2023-01-21T11:50:13.646Z"
   },
   {
    "duration": 5,
    "start_time": "2023-01-21T11:50:13.675Z"
   },
   {
    "duration": 12,
    "start_time": "2023-01-21T11:50:13.681Z"
   },
   {
    "duration": 9,
    "start_time": "2023-01-21T11:50:13.694Z"
   },
   {
    "duration": 13,
    "start_time": "2023-01-21T11:50:13.705Z"
   },
   {
    "duration": 9,
    "start_time": "2023-01-21T11:50:13.738Z"
   },
   {
    "duration": 10,
    "start_time": "2023-01-21T11:50:13.748Z"
   },
   {
    "duration": 7,
    "start_time": "2023-01-21T11:50:13.760Z"
   },
   {
    "duration": 14,
    "start_time": "2023-01-21T11:50:13.769Z"
   },
   {
    "duration": 10,
    "start_time": "2023-01-21T11:50:13.784Z"
   },
   {
    "duration": 22,
    "start_time": "2023-01-21T11:50:13.795Z"
   },
   {
    "duration": 20,
    "start_time": "2023-01-21T11:50:13.818Z"
   },
   {
    "duration": 5,
    "start_time": "2023-01-21T11:50:13.840Z"
   },
   {
    "duration": 125,
    "start_time": "2023-01-21T11:50:13.847Z"
   },
   {
    "duration": 5,
    "start_time": "2023-01-21T11:50:13.976Z"
   },
   {
    "duration": 16,
    "start_time": "2023-01-21T11:50:13.982Z"
   },
   {
    "duration": 11,
    "start_time": "2023-01-21T11:50:14.000Z"
   },
   {
    "duration": 113,
    "start_time": "2023-01-21T11:50:14.013Z"
   },
   {
    "duration": 4,
    "start_time": "2023-01-21T11:50:14.138Z"
   },
   {
    "duration": 11,
    "start_time": "2023-01-21T11:50:14.144Z"
   },
   {
    "duration": 12,
    "start_time": "2023-01-21T11:50:14.157Z"
   },
   {
    "duration": 15,
    "start_time": "2023-01-21T11:50:14.171Z"
   },
   {
    "duration": 377,
    "start_time": "2023-01-21T11:50:14.188Z"
   },
   {
    "duration": 99,
    "start_time": "2023-01-21T11:50:14.566Z"
   },
   {
    "duration": 4,
    "start_time": "2023-01-21T11:50:14.666Z"
   },
   {
    "duration": 121,
    "start_time": "2023-01-21T11:50:14.672Z"
   },
   {
    "duration": 75,
    "start_time": "2023-01-21T11:50:14.795Z"
   },
   {
    "duration": 4,
    "start_time": "2023-01-21T11:50:14.872Z"
   },
   {
    "duration": 25,
    "start_time": "2023-01-21T11:50:14.878Z"
   },
   {
    "duration": 48,
    "start_time": "2023-01-21T11:50:14.905Z"
   },
   {
    "duration": 35,
    "start_time": "2023-01-21T11:50:14.955Z"
   },
   {
    "duration": 37,
    "start_time": "2023-01-21T11:50:14.992Z"
   },
   {
    "duration": 133,
    "start_time": "2023-01-21T11:50:15.031Z"
   },
   {
    "duration": 382,
    "start_time": "2023-01-21T11:50:15.165Z"
   },
   {
    "duration": 135,
    "start_time": "2023-01-21T11:50:15.549Z"
   },
   {
    "duration": 182,
    "start_time": "2023-01-21T11:50:15.685Z"
   },
   {
    "duration": 313,
    "start_time": "2023-01-21T11:50:15.868Z"
   },
   {
    "duration": 14,
    "start_time": "2023-01-21T11:50:16.183Z"
   },
   {
    "duration": 17,
    "start_time": "2023-01-21T11:50:16.199Z"
   },
   {
    "duration": 44,
    "start_time": "2023-01-21T11:50:16.218Z"
   },
   {
    "duration": 482,
    "start_time": "2023-01-21T11:50:16.264Z"
   },
   {
    "duration": 235,
    "start_time": "2023-01-21T11:50:16.748Z"
   },
   {
    "duration": 245,
    "start_time": "2023-01-21T11:50:16.985Z"
   },
   {
    "duration": 79,
    "start_time": "2023-01-21T12:35:16.596Z"
   },
   {
    "duration": 12,
    "start_time": "2023-01-21T12:35:27.487Z"
   },
   {
    "duration": 168,
    "start_time": "2023-01-21T12:35:37.712Z"
   },
   {
    "duration": 195,
    "start_time": "2023-01-21T12:35:50.607Z"
   },
   {
    "duration": 254,
    "start_time": "2023-01-21T12:36:00.654Z"
   },
   {
    "duration": 978,
    "start_time": "2023-01-21T12:56:45.703Z"
   },
   {
    "duration": 46,
    "start_time": "2023-01-21T12:59:14.373Z"
   },
   {
    "duration": 6,
    "start_time": "2023-01-21T13:01:49.567Z"
   },
   {
    "duration": 6,
    "start_time": "2023-01-21T13:02:59.113Z"
   },
   {
    "duration": 148,
    "start_time": "2023-01-21T13:07:33.811Z"
   },
   {
    "duration": 40,
    "start_time": "2023-01-21T13:07:37.012Z"
   },
   {
    "duration": 7,
    "start_time": "2023-01-21T13:07:48.623Z"
   },
   {
    "duration": 6,
    "start_time": "2023-01-21T13:07:52.013Z"
   },
   {
    "duration": 26,
    "start_time": "2023-01-21T13:07:54.043Z"
   },
   {
    "duration": 139,
    "start_time": "2023-01-21T13:08:15.363Z"
   },
   {
    "duration": 37,
    "start_time": "2023-01-21T13:08:18.671Z"
   },
   {
    "duration": 9,
    "start_time": "2023-01-21T13:08:23.494Z"
   },
   {
    "duration": 7,
    "start_time": "2023-01-21T13:08:28.483Z"
   },
   {
    "duration": 14,
    "start_time": "2023-01-21T13:08:31.124Z"
   },
   {
    "duration": 24,
    "start_time": "2023-01-21T13:10:21.842Z"
   },
   {
    "duration": 3,
    "start_time": "2023-01-21T13:10:30.604Z"
   },
   {
    "duration": 47,
    "start_time": "2023-01-21T13:10:32.955Z"
   },
   {
    "duration": 11,
    "start_time": "2023-01-21T13:10:34.163Z"
   },
   {
    "duration": 6,
    "start_time": "2023-01-21T13:15:55.302Z"
   },
   {
    "duration": 1226,
    "start_time": "2023-01-21T13:16:14.426Z"
   },
   {
    "duration": 5,
    "start_time": "2023-01-21T13:16:27.233Z"
   },
   {
    "duration": 489,
    "start_time": "2023-01-21T13:25:16.534Z"
   },
   {
    "duration": 48,
    "start_time": "2023-01-21T13:25:22.463Z"
   },
   {
    "duration": 9,
    "start_time": "2023-01-21T13:25:26.982Z"
   },
   {
    "duration": 9,
    "start_time": "2023-01-21T13:25:28.834Z"
   },
   {
    "duration": 19,
    "start_time": "2023-01-21T13:25:31.484Z"
   },
   {
    "duration": 24,
    "start_time": "2023-01-21T13:25:40.434Z"
   },
   {
    "duration": 4,
    "start_time": "2023-01-21T13:25:46.224Z"
   },
   {
    "duration": 52,
    "start_time": "2023-01-21T13:25:50.472Z"
   },
   {
    "duration": 11,
    "start_time": "2023-01-21T13:25:52.315Z"
   },
   {
    "duration": 9,
    "start_time": "2023-01-21T13:25:55.081Z"
   },
   {
    "duration": 12,
    "start_time": "2023-01-21T13:26:03.147Z"
   },
   {
    "duration": 4,
    "start_time": "2023-01-21T13:51:16.902Z"
   },
   {
    "duration": 64,
    "start_time": "2023-01-21T13:51:18.292Z"
   },
   {
    "duration": 10,
    "start_time": "2023-01-21T13:51:20.762Z"
   },
   {
    "duration": 22,
    "start_time": "2023-01-21T13:51:35.622Z"
   },
   {
    "duration": 3,
    "start_time": "2023-01-21T13:51:40.533Z"
   },
   {
    "duration": 61,
    "start_time": "2023-01-21T13:51:43.093Z"
   },
   {
    "duration": 10,
    "start_time": "2023-01-21T13:51:45.643Z"
   },
   {
    "duration": 22,
    "start_time": "2023-01-21T13:52:00.191Z"
   },
   {
    "duration": 6,
    "start_time": "2023-01-21T13:52:03.603Z"
   },
   {
    "duration": 5,
    "start_time": "2023-01-21T13:52:04.483Z"
   },
   {
    "duration": 5,
    "start_time": "2023-01-21T13:52:05.323Z"
   },
   {
    "duration": 8,
    "start_time": "2023-01-21T13:52:07.733Z"
   },
   {
    "duration": 8,
    "start_time": "2023-01-21T13:52:08.523Z"
   },
   {
    "duration": 5,
    "start_time": "2023-01-21T13:52:12.380Z"
   },
   {
    "duration": 5,
    "start_time": "2023-01-21T13:52:13.345Z"
   },
   {
    "duration": 6,
    "start_time": "2023-01-21T13:52:14.304Z"
   },
   {
    "duration": 5,
    "start_time": "2023-01-21T13:52:15.353Z"
   },
   {
    "duration": 7,
    "start_time": "2023-01-21T13:52:16.813Z"
   },
   {
    "duration": 11,
    "start_time": "2023-01-21T13:52:28.343Z"
   },
   {
    "duration": 4,
    "start_time": "2023-01-21T13:52:29.694Z"
   },
   {
    "duration": 72,
    "start_time": "2023-01-21T13:52:36.243Z"
   },
   {
    "duration": 5,
    "start_time": "2023-01-21T13:52:39.843Z"
   },
   {
    "duration": 7,
    "start_time": "2023-01-21T13:52:41.463Z"
   },
   {
    "duration": 8,
    "start_time": "2023-01-21T13:52:44.791Z"
   },
   {
    "duration": 94,
    "start_time": "2023-01-21T13:52:58.351Z"
   },
   {
    "duration": 3,
    "start_time": "2023-01-21T13:54:06.392Z"
   },
   {
    "duration": 4,
    "start_time": "2023-01-21T13:54:08.166Z"
   },
   {
    "duration": 82,
    "start_time": "2023-01-21T13:54:10.814Z"
   },
   {
    "duration": 4,
    "start_time": "2023-01-21T13:54:24.753Z"
   },
   {
    "duration": 4,
    "start_time": "2023-01-21T13:54:28.384Z"
   },
   {
    "duration": 348,
    "start_time": "2023-01-21T13:54:33.348Z"
   },
   {
    "duration": 79,
    "start_time": "2023-01-21T13:54:38.954Z"
   },
   {
    "duration": 11,
    "start_time": "2023-01-21T13:56:02.250Z"
   },
   {
    "duration": 7,
    "start_time": "2023-01-21T13:56:15.220Z"
   },
   {
    "duration": 117,
    "start_time": "2023-01-21T13:57:51.030Z"
   },
   {
    "duration": 93,
    "start_time": "2023-01-21T13:58:13.293Z"
   },
   {
    "duration": 72,
    "start_time": "2023-01-21T13:59:01.311Z"
   },
   {
    "duration": 7,
    "start_time": "2023-01-21T13:59:06.104Z"
   },
   {
    "duration": 3,
    "start_time": "2023-01-21T14:00:29.863Z"
   },
   {
    "duration": 102,
    "start_time": "2023-01-21T14:00:31.591Z"
   },
   {
    "duration": 54,
    "start_time": "2023-01-21T14:00:33.194Z"
   },
   {
    "duration": 5,
    "start_time": "2023-01-21T14:00:40.020Z"
   },
   {
    "duration": 4,
    "start_time": "2023-01-21T14:00:43.291Z"
   },
   {
    "duration": 10,
    "start_time": "2023-01-21T14:00:44.931Z"
   },
   {
    "duration": 16,
    "start_time": "2023-01-21T14:00:47.432Z"
   },
   {
    "duration": 3,
    "start_time": "2023-01-21T14:01:20.890Z"
   },
   {
    "duration": 98,
    "start_time": "2023-01-21T14:01:22.447Z"
   },
   {
    "duration": 99,
    "start_time": "2023-01-21T14:02:07.534Z"
   },
   {
    "duration": 3,
    "start_time": "2023-01-21T14:03:18.421Z"
   },
   {
    "duration": 94,
    "start_time": "2023-01-21T14:03:19.481Z"
   },
   {
    "duration": 101,
    "start_time": "2023-01-21T14:04:08.254Z"
   },
   {
    "duration": 94,
    "start_time": "2023-01-21T14:04:28.350Z"
   },
   {
    "duration": 110,
    "start_time": "2023-01-21T14:07:33.934Z"
   },
   {
    "duration": 3,
    "start_time": "2023-01-21T14:07:40.604Z"
   },
   {
    "duration": 104,
    "start_time": "2023-01-21T14:07:42.451Z"
   },
   {
    "duration": 831,
    "start_time": "2023-01-21T14:59:02.427Z"
   },
   {
    "duration": 57,
    "start_time": "2023-01-21T14:59:03.261Z"
   },
   {
    "duration": 7,
    "start_time": "2023-01-21T14:59:03.319Z"
   },
   {
    "duration": 15,
    "start_time": "2023-01-21T14:59:03.328Z"
   },
   {
    "duration": 19,
    "start_time": "2023-01-21T14:59:03.344Z"
   },
   {
    "duration": 19,
    "start_time": "2023-01-21T14:59:03.365Z"
   },
   {
    "duration": 5,
    "start_time": "2023-01-21T14:59:03.385Z"
   },
   {
    "duration": 94,
    "start_time": "2023-01-21T14:59:03.392Z"
   },
   {
    "duration": 17,
    "start_time": "2023-01-21T14:59:03.488Z"
   },
   {
    "duration": 7,
    "start_time": "2023-01-21T14:59:03.508Z"
   },
   {
    "duration": 28,
    "start_time": "2023-01-21T14:59:03.517Z"
   },
   {
    "duration": 28,
    "start_time": "2023-01-21T14:59:03.547Z"
   },
   {
    "duration": 3,
    "start_time": "2023-01-21T14:59:03.577Z"
   },
   {
    "duration": 85,
    "start_time": "2023-01-21T14:59:03.582Z"
   },
   {
    "duration": 11,
    "start_time": "2023-01-21T14:59:03.669Z"
   },
   {
    "duration": 28,
    "start_time": "2023-01-21T14:59:03.682Z"
   },
   {
    "duration": 5,
    "start_time": "2023-01-21T14:59:03.712Z"
   },
   {
    "duration": 7,
    "start_time": "2023-01-21T14:59:03.738Z"
   },
   {
    "duration": 6,
    "start_time": "2023-01-21T14:59:03.747Z"
   },
   {
    "duration": 9,
    "start_time": "2023-01-21T14:59:03.754Z"
   },
   {
    "duration": 10,
    "start_time": "2023-01-21T14:59:03.765Z"
   },
   {
    "duration": 4,
    "start_time": "2023-01-21T14:59:03.777Z"
   },
   {
    "duration": 8,
    "start_time": "2023-01-21T14:59:03.783Z"
   },
   {
    "duration": 45,
    "start_time": "2023-01-21T14:59:03.793Z"
   },
   {
    "duration": 6,
    "start_time": "2023-01-21T14:59:03.840Z"
   },
   {
    "duration": 15,
    "start_time": "2023-01-21T14:59:03.848Z"
   },
   {
    "duration": 19,
    "start_time": "2023-01-21T14:59:03.865Z"
   },
   {
    "duration": 11,
    "start_time": "2023-01-21T14:59:03.888Z"
   },
   {
    "duration": 110,
    "start_time": "2023-01-21T14:59:03.901Z"
   },
   {
    "duration": 6,
    "start_time": "2023-01-21T14:59:04.013Z"
   },
   {
    "duration": 24,
    "start_time": "2023-01-21T14:59:04.022Z"
   },
   {
    "duration": 7,
    "start_time": "2023-01-21T14:59:04.048Z"
   },
   {
    "duration": 147,
    "start_time": "2023-01-21T14:59:04.057Z"
   },
   {
    "duration": 4,
    "start_time": "2023-01-21T14:59:04.206Z"
   },
   {
    "duration": 8,
    "start_time": "2023-01-21T14:59:04.211Z"
   },
   {
    "duration": 5,
    "start_time": "2023-01-21T14:59:04.238Z"
   },
   {
    "duration": 37,
    "start_time": "2023-01-21T14:59:04.245Z"
   },
   {
    "duration": 419,
    "start_time": "2023-01-21T14:59:04.284Z"
   },
   {
    "duration": 104,
    "start_time": "2023-01-21T14:59:04.705Z"
   },
   {
    "duration": 8,
    "start_time": "2023-01-21T14:59:04.811Z"
   },
   {
    "duration": 4,
    "start_time": "2023-01-21T14:59:04.839Z"
   },
   {
    "duration": 124,
    "start_time": "2023-01-21T14:59:04.845Z"
   },
   {
    "duration": 80,
    "start_time": "2023-01-21T14:59:04.971Z"
   },
   {
    "duration": 7,
    "start_time": "2023-01-21T14:59:05.053Z"
   },
   {
    "duration": 12,
    "start_time": "2023-01-21T14:59:05.062Z"
   },
   {
    "duration": 27,
    "start_time": "2023-01-21T14:59:05.076Z"
   },
   {
    "duration": 28,
    "start_time": "2023-01-21T14:59:05.105Z"
   },
   {
    "duration": 5,
    "start_time": "2023-01-21T14:59:05.138Z"
   },
   {
    "duration": 148,
    "start_time": "2023-01-21T14:59:05.145Z"
   },
   {
    "duration": 168,
    "start_time": "2023-01-21T14:59:05.295Z"
   },
   {
    "duration": 156,
    "start_time": "2023-01-21T14:59:05.464Z"
   },
   {
    "duration": 201,
    "start_time": "2023-01-21T14:59:05.622Z"
   },
   {
    "duration": 348,
    "start_time": "2023-01-21T14:59:05.824Z"
   },
   {
    "duration": 17,
    "start_time": "2023-01-21T14:59:06.174Z"
   },
   {
    "duration": 17,
    "start_time": "2023-01-21T14:59:06.193Z"
   },
   {
    "duration": 49,
    "start_time": "2023-01-21T14:59:06.212Z"
   },
   {
    "duration": 525,
    "start_time": "2023-01-21T14:59:06.262Z"
   },
   {
    "duration": 262,
    "start_time": "2023-01-21T14:59:06.789Z"
   },
   {
    "duration": 274,
    "start_time": "2023-01-21T14:59:07.054Z"
   },
   {
    "duration": 191,
    "start_time": "2023-01-21T15:12:40.739Z"
   },
   {
    "duration": 132,
    "start_time": "2023-01-21T15:12:43.839Z"
   },
   {
    "duration": 125,
    "start_time": "2023-01-21T15:12:47.856Z"
   },
   {
    "duration": 1213,
    "start_time": "2023-01-21T15:29:46.787Z"
   },
   {
    "duration": 51,
    "start_time": "2023-01-21T15:29:51.958Z"
   },
   {
    "duration": 9,
    "start_time": "2023-01-21T15:29:56.020Z"
   },
   {
    "duration": 7,
    "start_time": "2023-01-21T15:29:58.465Z"
   },
   {
    "duration": 17,
    "start_time": "2023-01-21T15:30:01.345Z"
   },
   {
    "duration": 17,
    "start_time": "2023-01-21T15:30:06.188Z"
   },
   {
    "duration": 3,
    "start_time": "2023-01-21T15:30:10.491Z"
   },
   {
    "duration": 69,
    "start_time": "2023-01-21T15:30:11.340Z"
   },
   {
    "duration": 12,
    "start_time": "2023-01-21T15:30:13.464Z"
   },
   {
    "duration": 8,
    "start_time": "2023-01-21T15:30:16.769Z"
   },
   {
    "duration": 13,
    "start_time": "2023-01-21T15:30:27.476Z"
   },
   {
    "duration": 28,
    "start_time": "2023-01-21T15:30:32.864Z"
   },
   {
    "duration": 3,
    "start_time": "2023-01-21T15:31:12.267Z"
   },
   {
    "duration": 62,
    "start_time": "2023-01-21T15:31:14.269Z"
   },
   {
    "duration": 12,
    "start_time": "2023-01-21T15:31:15.230Z"
   },
   {
    "duration": 24,
    "start_time": "2023-01-21T15:31:18.305Z"
   },
   {
    "duration": 6,
    "start_time": "2023-01-21T15:31:26.372Z"
   },
   {
    "duration": 7,
    "start_time": "2023-01-21T15:31:29.251Z"
   },
   {
    "duration": 5,
    "start_time": "2023-01-21T15:31:29.969Z"
   },
   {
    "duration": 7,
    "start_time": "2023-01-21T15:31:30.572Z"
   },
   {
    "duration": 9,
    "start_time": "2023-01-21T15:31:32.700Z"
   },
   {
    "duration": 6,
    "start_time": "2023-01-21T15:31:35.456Z"
   },
   {
    "duration": 6,
    "start_time": "2023-01-21T15:31:36.128Z"
   },
   {
    "duration": 6,
    "start_time": "2023-01-21T15:31:36.829Z"
   },
   {
    "duration": 5,
    "start_time": "2023-01-21T15:31:40.980Z"
   },
   {
    "duration": 7,
    "start_time": "2023-01-21T15:31:41.820Z"
   },
   {
    "duration": 12,
    "start_time": "2023-01-21T15:31:48.892Z"
   },
   {
    "duration": 7,
    "start_time": "2023-01-21T15:31:53.820Z"
   },
   {
    "duration": 81,
    "start_time": "2023-01-21T15:31:54.680Z"
   },
   {
    "duration": 6,
    "start_time": "2023-01-21T15:31:58.332Z"
   },
   {
    "duration": 12,
    "start_time": "2023-01-21T15:31:59.651Z"
   },
   {
    "duration": 6,
    "start_time": "2023-01-21T15:32:04.037Z"
   },
   {
    "duration": 109,
    "start_time": "2023-01-21T15:32:52.673Z"
   },
   {
    "duration": 134,
    "start_time": "2023-01-21T15:33:33.409Z"
   },
   {
    "duration": 3,
    "start_time": "2023-01-21T15:33:52.732Z"
   },
   {
    "duration": 5,
    "start_time": "2023-01-21T15:33:53.955Z"
   },
   {
    "duration": 7,
    "start_time": "2023-01-21T15:33:56.451Z"
   },
   {
    "duration": 4,
    "start_time": "2023-01-21T15:33:57.045Z"
   },
   {
    "duration": 360,
    "start_time": "2023-01-21T15:34:02.270Z"
   },
   {
    "duration": 108,
    "start_time": "2023-01-21T15:34:32.255Z"
   },
   {
    "duration": 116,
    "start_time": "2023-01-21T15:34:50.511Z"
   },
   {
    "duration": 9,
    "start_time": "2023-01-21T15:36:00.629Z"
   },
   {
    "duration": 4,
    "start_time": "2023-01-21T15:36:02.538Z"
   },
   {
    "duration": 113,
    "start_time": "2023-01-21T15:36:04.869Z"
   },
   {
    "duration": 8,
    "start_time": "2023-01-21T15:37:07.426Z"
   },
   {
    "duration": 81,
    "start_time": "2023-01-21T15:37:37.806Z"
   },
   {
    "duration": 4,
    "start_time": "2023-01-21T15:38:11.077Z"
   },
   {
    "duration": 3,
    "start_time": "2023-01-21T15:38:15.225Z"
   },
   {
    "duration": 11,
    "start_time": "2023-01-21T15:38:16.321Z"
   },
   {
    "duration": 24,
    "start_time": "2023-01-21T15:38:17.441Z"
   },
   {
    "duration": 4,
    "start_time": "2023-01-21T15:38:20.517Z"
   },
   {
    "duration": 198,
    "start_time": "2023-01-21T15:40:55.826Z"
   },
   {
    "duration": 118,
    "start_time": "2023-01-21T15:41:12.404Z"
   },
   {
    "duration": 122,
    "start_time": "2023-01-21T15:42:09.768Z"
   },
   {
    "duration": 141,
    "start_time": "2023-01-21T15:46:01.625Z"
   },
   {
    "duration": 155,
    "start_time": "2023-01-21T15:47:16.765Z"
   },
   {
    "duration": 184,
    "start_time": "2023-01-21T15:48:32.234Z"
   },
   {
    "duration": 157,
    "start_time": "2023-01-21T15:48:57.575Z"
   },
   {
    "duration": 169,
    "start_time": "2023-01-21T15:55:08.869Z"
   },
   {
    "duration": 314,
    "start_time": "2023-01-21T15:56:34.599Z"
   },
   {
    "duration": 12,
    "start_time": "2023-01-21T15:58:25.563Z"
   },
   {
    "duration": 12,
    "start_time": "2023-01-21T15:58:28.929Z"
   },
   {
    "duration": 108,
    "start_time": "2023-01-21T15:58:33.419Z"
   },
   {
    "duration": 486,
    "start_time": "2023-01-21T15:58:37.439Z"
   },
   {
    "duration": 839,
    "start_time": "2023-01-21T17:13:49.151Z"
   },
   {
    "duration": 51,
    "start_time": "2023-01-21T17:13:49.992Z"
   },
   {
    "duration": 8,
    "start_time": "2023-01-21T17:13:50.044Z"
   },
   {
    "duration": 8,
    "start_time": "2023-01-21T17:13:50.055Z"
   },
   {
    "duration": 32,
    "start_time": "2023-01-21T17:13:50.064Z"
   },
   {
    "duration": 34,
    "start_time": "2023-01-21T17:13:50.098Z"
   },
   {
    "duration": 6,
    "start_time": "2023-01-21T17:13:50.133Z"
   },
   {
    "duration": 66,
    "start_time": "2023-01-21T17:13:50.141Z"
   },
   {
    "duration": 11,
    "start_time": "2023-01-21T17:13:50.209Z"
   },
   {
    "duration": 20,
    "start_time": "2023-01-21T17:13:50.223Z"
   },
   {
    "duration": 22,
    "start_time": "2023-01-21T17:13:50.244Z"
   },
   {
    "duration": 36,
    "start_time": "2023-01-21T17:13:50.269Z"
   },
   {
    "duration": 4,
    "start_time": "2023-01-21T17:13:50.307Z"
   },
   {
    "duration": 91,
    "start_time": "2023-01-21T17:13:50.313Z"
   },
   {
    "duration": 12,
    "start_time": "2023-01-21T17:13:50.406Z"
   },
   {
    "duration": 35,
    "start_time": "2023-01-21T17:13:50.439Z"
   },
   {
    "duration": 6,
    "start_time": "2023-01-21T17:13:50.476Z"
   },
   {
    "duration": 12,
    "start_time": "2023-01-21T17:13:50.484Z"
   },
   {
    "duration": 35,
    "start_time": "2023-01-21T17:13:50.498Z"
   },
   {
    "duration": 17,
    "start_time": "2023-01-21T17:13:50.535Z"
   },
   {
    "duration": 14,
    "start_time": "2023-01-21T17:13:50.554Z"
   },
   {
    "duration": 6,
    "start_time": "2023-01-21T17:13:50.569Z"
   },
   {
    "duration": 15,
    "start_time": "2023-01-21T17:13:50.577Z"
   },
   {
    "duration": 15,
    "start_time": "2023-01-21T17:13:50.594Z"
   },
   {
    "duration": 19,
    "start_time": "2023-01-21T17:13:50.611Z"
   },
   {
    "duration": 13,
    "start_time": "2023-01-21T17:13:50.632Z"
   },
   {
    "duration": 33,
    "start_time": "2023-01-21T17:13:50.647Z"
   },
   {
    "duration": 9,
    "start_time": "2023-01-21T17:13:50.685Z"
   },
   {
    "duration": 105,
    "start_time": "2023-01-21T17:13:50.696Z"
   },
   {
    "duration": 7,
    "start_time": "2023-01-21T17:13:50.804Z"
   },
   {
    "duration": 28,
    "start_time": "2023-01-21T17:13:50.813Z"
   },
   {
    "duration": 11,
    "start_time": "2023-01-21T17:13:50.844Z"
   },
   {
    "duration": 162,
    "start_time": "2023-01-21T17:13:50.857Z"
   },
   {
    "duration": 17,
    "start_time": "2023-01-21T17:13:51.021Z"
   },
   {
    "duration": 15,
    "start_time": "2023-01-21T17:13:51.040Z"
   },
   {
    "duration": 10,
    "start_time": "2023-01-21T17:13:51.057Z"
   },
   {
    "duration": 17,
    "start_time": "2023-01-21T17:13:51.069Z"
   },
   {
    "duration": 411,
    "start_time": "2023-01-21T17:13:51.089Z"
   },
   {
    "duration": 106,
    "start_time": "2023-01-21T17:13:51.502Z"
   },
   {
    "duration": 8,
    "start_time": "2023-01-21T17:13:51.609Z"
   },
   {
    "duration": 23,
    "start_time": "2023-01-21T17:13:51.619Z"
   },
   {
    "duration": 129,
    "start_time": "2023-01-21T17:13:51.644Z"
   },
   {
    "duration": 9,
    "start_time": "2023-01-21T17:13:51.775Z"
   },
   {
    "duration": 90,
    "start_time": "2023-01-21T17:13:51.786Z"
   },
   {
    "duration": 4,
    "start_time": "2023-01-21T17:13:51.878Z"
   },
   {
    "duration": 17,
    "start_time": "2023-01-21T17:13:51.883Z"
   },
   {
    "duration": 26,
    "start_time": "2023-01-21T17:13:51.902Z"
   },
   {
    "duration": 23,
    "start_time": "2023-01-21T17:13:51.930Z"
   },
   {
    "duration": 11,
    "start_time": "2023-01-21T17:13:51.955Z"
   },
   {
    "duration": 144,
    "start_time": "2023-01-21T17:13:51.968Z"
   },
   {
    "duration": 151,
    "start_time": "2023-01-21T17:13:52.114Z"
   },
   {
    "duration": 215,
    "start_time": "2023-01-21T17:13:52.267Z"
   },
   {
    "duration": 259,
    "start_time": "2023-01-21T17:13:52.485Z"
   },
   {
    "duration": 320,
    "start_time": "2023-01-21T17:13:52.746Z"
   },
   {
    "duration": 13,
    "start_time": "2023-01-21T17:13:53.068Z"
   },
   {
    "duration": 21,
    "start_time": "2023-01-21T17:13:53.082Z"
   },
   {
    "duration": 40,
    "start_time": "2023-01-21T17:13:53.105Z"
   },
   {
    "duration": 532,
    "start_time": "2023-01-21T17:13:53.147Z"
   },
   {
    "duration": 235,
    "start_time": "2023-01-21T17:13:53.681Z"
   },
   {
    "duration": 248,
    "start_time": "2023-01-21T17:13:53.918Z"
   }
  ],
  "colab": {
   "name": "DA+. Сборный проект 1. Шаблон (1).ipynb",
   "provenance": []
  },
  "kernelspec": {
   "display_name": "Python 3 (ipykernel)",
   "language": "python",
   "name": "python3"
  },
  "language_info": {
   "codemirror_mode": {
    "name": "ipython",
    "version": 3
   },
   "file_extension": ".py",
   "mimetype": "text/x-python",
   "name": "python",
   "nbconvert_exporter": "python",
   "pygments_lexer": "ipython3",
   "version": "3.10.7"
  },
  "toc": {
   "base_numbering": 1,
   "nav_menu": {},
   "number_sections": true,
   "sideBar": true,
   "skip_h1_title": true,
   "title_cell": "Table of Contents",
   "title_sidebar": "Contents",
   "toc_cell": false,
   "toc_position": {
    "height": "calc(100% - 180px)",
    "left": "10px",
    "top": "150px",
    "width": "375.391px"
   },
   "toc_section_display": true,
   "toc_window_display": true
  }
 },
 "nbformat": 4,
 "nbformat_minor": 4
}
