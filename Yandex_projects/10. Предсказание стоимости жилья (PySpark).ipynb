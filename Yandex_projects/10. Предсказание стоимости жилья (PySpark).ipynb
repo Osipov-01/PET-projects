{
 "cells": [
  {
   "cell_type": "markdown",
   "id": "GEqQaHzsZ_bA",
   "metadata": {
    "id": "GEqQaHzsZ_bA"
   },
   "source": [
    "# Предсказание стоимости жилья"
   ]
  },
  {
   "cell_type": "markdown",
   "id": "16e6f0b8",
   "metadata": {},
   "source": [
    "<div class=\"alert alert-info\">\n",
    "    \n",
    "<b>Комментарий:</b> Доброго времени суток! Возникла сложность, выполнял проект локально. В самом конце возникла ошибка, в результате чего не могу вывести метрики качества линейной регрессии. Не могу понять, где ошибка\n",
    "</div>"
   ]
  },
  {
   "cell_type": "markdown",
   "id": "40e94eec",
   "metadata": {},
   "source": [
    "<div style=\"border:solid purple 2px; padding: 20px\"> \n",
    "\n",
    "Привет, Иван! 👋\n",
    "\n",
    "Меня зовут Рустам Муртазин, и я буду делать ревью твоей работы. Давай будем общаться на **«ты»**. Если это неприемлемо, обязательно напиши мне в комментариях — мы перейдем на **«вы»**.\n",
    "\n",
    "Я не хочу указывать тебе на совершенные тобою ошибки, а хочу поделиться своим опытом и помочь тебе стать настоящим профессионалом и сделать проект еще лучше.\n",
    "\n",
    "Обрати внимание в первую очередь на те, что помечены <span style=\"color:red\">красным цветом</span>. После их доработки проект будет принят. <span style=\"color:green\">Зеленым цветом</span> отмечены удачные и элегантные решения, на которые можно опираться в будущих проектах. <span style=\"color:orange\">Оранжевым цветом</span> выделено то, что в следующий раз можно сделать по-другому. Ты можешь учесть эти комментарии при выполнении будущих заданий или доработать проект сейчас (однако это не обязательно). Также в проекте могут быть небольшие «лайфхаки» по Python, не относящиеся к проекту, их я выделил фиолетовым цветом)\n",
    "\n",
    "Давай работать над проектом в диалоге: если ты **что-то меняешь** в проекте по моим рекомендациям — **пиши об этом**. Выбери для своих комментариев какой-то заметный цвет, так мне будет легче отследить изменения. Пожалуйста, **не перемещай, не изменяй и не удаляй мои комментарии**. Всё это поможет выполнить повторную проверку твоего проекта оперативнее».\n",
    "\n",
    "---\n",
    "\n",
    "Иван, шикарная работа! Код чистый, структурированный, понятный. По всей работе прослеживается логика принятий решений. Ты демонстрируешь хорошие навыки работы со Spark - и это круто. Верну проект по большей части для того, чтобы была возможность задать вопросы + нужно загрузку данных подправить и написать вывод в конце\n",
    "    \n",
    "P.S у меня код нормально прогнался, в конце ошибки не вышло. Возможно рестарт тетрадки помог...\n"
   ]
  },
  {
   "cell_type": "markdown",
   "id": "6d748e81",
   "metadata": {},
   "source": [
    "<div class=\"alert alert-success\">\n",
    "<h2> Комментарий ревьюера v2 ✔️ <a class=\"tocSkip\"> </h2>\n",
    "\n",
    "Спасибо за быструю доработку комментариев! Я просмотрел твои доработки, там все корректно, так что работу я принимаю. Надеюсь ты учтешь мои комментарии в последующих работах. Благодарю за старания и интерес и желаю успехов в дальнейших проектах 😊\n",
    "\n",
    "</div>"
   ]
  },
  {
   "cell_type": "markdown",
   "id": "13a60485",
   "metadata": {},
   "source": [
    "# Описание проекта\n",
    "\n",
    "В проекте вам нужно обучить модель линейной регрессии на данных о жилье в Калифорнии в 1990 году. \n",
    "В колонках датасета содержатся следующие данные:\n",
    "- `longitude` — широта;\n",
    "- `latitude` — долгота;\n",
    "- `housing_median_age` — медианный возраст жителей жилого массива;\n",
    "- `total_rooms` — общее количество комнат в домах жилого массива;\n",
    "- `total_bedrooms` — общее количество спален в домах жилого массива;\n",
    "- `population` — количество человек, которые проживают в жилом массиве;\n",
    "- `households` — количество домовладений в жилом массиве;\n",
    "- `median_income` — медианный доход жителей жилого массива;\n",
    "- `median_house_value` — медианная стоимость дома в жилом массиве;\n",
    "- `ocean_proximity` — близость к океану.\n",
    "\n",
    "На основе данных нужно предсказать медианную стоимость дома в жилом массиве — `median_house_value`. Обучите модель и сделайте предсказания на тестовой выборке. Для оценки качества модели используйте метрики RMSE, MAE и R2."
   ]
  },
  {
   "cell_type": "markdown",
   "id": "53871372",
   "metadata": {
    "id": "53871372"
   },
   "source": [
    "## Подготовка данных"
   ]
  },
  {
   "cell_type": "markdown",
   "id": "e2c3b3a6",
   "metadata": {},
   "source": [
    "### Предобработка данных"
   ]
  },
  {
   "cell_type": "markdown",
   "id": "0670d104",
   "metadata": {
    "id": "df92e3ec"
   },
   "source": [
    "Импорт необходимых библиотек для работы с данными"
   ]
  },
  {
   "cell_type": "code",
   "execution_count": 1,
   "id": "fe037a34",
   "metadata": {},
   "outputs": [],
   "source": [
    "# pip install pyspark"
   ]
  },
  {
   "cell_type": "code",
   "execution_count": 2,
   "id": "102d7cc3",
   "metadata": {},
   "outputs": [
    {
     "name": "stdout",
     "output_type": "stream",
     "text": [
      "Requirement already satisfied: pyspark in /opt/conda/lib/python3.9/site-packages (3.4.1)\n",
      "Requirement already satisfied: py4j==0.10.9.7 in /opt/conda/lib/python3.9/site-packages (from pyspark) (0.10.9.7)\n"
     ]
    }
   ],
   "source": [
    "!pip install --upgrade pyspark"
   ]
  },
  {
   "cell_type": "code",
   "execution_count": 3,
   "id": "865abc1d",
   "metadata": {},
   "outputs": [],
   "source": [
    "# import pandas as pd \n",
    "import numpy as np\n",
    "import pyspark\n",
    "from pyspark.sql import SparkSession\n",
    "from pyspark.sql.types import *\n",
    "import pyspark.sql.functions as F\n",
    "from pyspark.sql.functions import isnan, when, count, col\n",
    "# import pyspark.pandas as ps\n",
    "# import pyspark.SparkContext as sc\n",
    "import matplotlib.pyplot as plt\n",
    "import math\n",
    "from pyspark.ml.feature import VectorAssembler\n",
    "from pyspark.ml.feature import StandardScaler\n",
    "from pyspark.ml.feature import StringIndexer\n",
    "from pyspark.ml.feature import OneHotEncoder\n",
    "from pyspark.ml.regression import LinearRegression\n",
    "from pyspark.mllib.evaluation import RegressionMetrics\n",
    "from pyspark.ml.evaluation import RegressionEvaluator\n",
    "from pyspark.ml.tuning import CrossValidator, ParamGridBuilder, CrossValidatorModel\n",
    "\n",
    "\n",
    "import warnings\n",
    "warnings.filterwarnings(\"ignore\")"
   ]
  },
  {
   "cell_type": "markdown",
   "id": "4ff03519",
   "metadata": {},
   "source": [
    "<div style=\"border:solid purple 5px; padding: 20px\"> \n",
    "<h2 align=\"center\"> Рубрика «Питонячий лайфхакер» <a class=\"tocSkip\"> </h2>\n",
    "\n",
    "<h3> Широкоформатный Jupyter <a class=\"tocSkip\"> </h3>\n",
    "\n",
    "Расширяем границы, или как сделать работу более комфортной (не всем нравится 😄)\n",
    "\n",
    "    from IPython.core.display import display, HTML\n",
    "    display(HTML(\"<style>.container { width:90% !important; }</style>\"))"
   ]
  },
  {
   "cell_type": "markdown",
   "id": "724695bb",
   "metadata": {},
   "source": [
    "<div class=\"alert alert-info\">\n",
    "    \n",
    "<b>Комментарий v.2:</b> Спасибо за совет!\n",
    "</div>"
   ]
  },
  {
   "cell_type": "markdown",
   "id": "64c0a0e4",
   "metadata": {},
   "source": [
    "Инициализация Spark-сессии"
   ]
  },
  {
   "cell_type": "code",
   "execution_count": 4,
   "id": "1a14aed1",
   "metadata": {},
   "outputs": [
    {
     "name": "stderr",
     "output_type": "stream",
     "text": [
      "Setting default log level to \"WARN\".\n",
      "To adjust logging level use sc.setLogLevel(newLevel). For SparkR, use setLogLevel(newLevel).\n",
      "23/08/23 11:07:13 WARN NativeCodeLoader: Unable to load native-hadoop library for your platform... using builtin-java classes where applicable\n"
     ]
    }
   ],
   "source": [
    "spark = SparkSession.builder \\\n",
    "                    .master(\"local\") \\\n",
    "                    .appName(\"EDA California Housing\") \\\n",
    "                    .getOrCreate()"
   ]
  },
  {
   "cell_type": "markdown",
   "id": "bd3e8221",
   "metadata": {},
   "source": [
    "Ознакомление с данными"
   ]
  },
  {
   "cell_type": "code",
   "execution_count": 5,
   "id": "63c1a66f",
   "metadata": {},
   "outputs": [
    {
     "name": "stderr",
     "output_type": "stream",
     "text": [
      "                                                                                \r"
     ]
    },
    {
     "name": "stdout",
     "output_type": "stream",
     "text": [
      "root\n",
      " |-- longitude: string (nullable = true)\n",
      " |-- latitude: string (nullable = true)\n",
      " |-- housing_median_age: string (nullable = true)\n",
      " |-- total_rooms: string (nullable = true)\n",
      " |-- total_bedrooms: string (nullable = true)\n",
      " |-- population: string (nullable = true)\n",
      " |-- households: string (nullable = true)\n",
      " |-- median_income: string (nullable = true)\n",
      " |-- median_house_value: string (nullable = true)\n",
      " |-- ocean_proximity: string (nullable = true)\n",
      "\n"
     ]
    },
    {
     "name": "stderr",
     "output_type": "stream",
     "text": [
      "                                                                                \r"
     ]
    },
    {
     "name": "stdout",
     "output_type": "stream",
     "text": [
      "+---------+--------+------------------+-----------+--------------+----------+----------+-------------+------------------+---------------+\n",
      "|longitude|latitude|housing_median_age|total_rooms|total_bedrooms|population|households|median_income|median_house_value|ocean_proximity|\n",
      "+---------+--------+------------------+-----------+--------------+----------+----------+-------------+------------------+---------------+\n",
      "|  -122.23|   37.88|              41.0|      880.0|         129.0|     322.0|     126.0|       8.3252|          452600.0|       NEAR BAY|\n",
      "|  -122.22|   37.86|              21.0|     7099.0|        1106.0|    2401.0|    1138.0|       8.3014|          358500.0|       NEAR BAY|\n",
      "|  -122.24|   37.85|              52.0|     1467.0|         190.0|     496.0|     177.0|       7.2574|          352100.0|       NEAR BAY|\n",
      "|  -122.25|   37.85|              52.0|     1274.0|         235.0|     558.0|     219.0|       5.6431|          341300.0|       NEAR BAY|\n",
      "|  -122.25|   37.85|              52.0|     1627.0|         280.0|     565.0|     259.0|       3.8462|          342200.0|       NEAR BAY|\n",
      "+---------+--------+------------------+-----------+--------------+----------+----------+-------------+------------------+---------------+\n",
      "only showing top 5 rows\n",
      "\n"
     ]
    }
   ],
   "source": [
    "# df_housing = spark.read.csv('datasets/housing.csv', header=True)\n",
    "df_housing = spark.read.csv('/datasets/housing.csv', header=True) # код ревьюера\n",
    "# ps.read_csv('datasets/housing.csv')\n",
    "df_housing.printSchema()\n",
    "df_housing.show(5)"
   ]
  },
  {
   "cell_type": "markdown",
   "id": "3146b07b",
   "metadata": {},
   "source": [
    "<div class=\"alert alert-danger\">\n",
    "<h2> Комментарий ревьюера ❌ <a class=\"tocSkip\"> </h2>\n",
    "\n",
    "Вот здесь вышла ошибка 👆  Неправильно указаны пути до файлов. По правилам я должен вернуть такой проект на доработку. Я внес исправления, но будь внимательней в следующий раз. Советую перед финальной отправкой проекта делать `Kernel - Restart and Run All`, это позволит проверить тетрадь на работоспособность и избежать лишних ошибок.\n",
    "\n",
    "В таком случае предлагаю реализовать загрузку данных с помощью конструкции `try-except` для путей файлов. Например: Try - пути на локальном компьютере, except - пути на сервере. Тогда твой проект будет всегда работать и локально, и в тренажере."
   ]
  },
  {
   "cell_type": "markdown",
   "id": "8bffbeb0",
   "metadata": {},
   "source": [
    "<div class=\"alert alert-info\">\n",
    "    \n",
    "<b>Комментарий v.2:</b> Спасибо за комментарий! Приведи, пожалуйста, пример поподробней применения try-except, чтобы знать на будущее.\n",
    "</div>"
   ]
  },
  {
   "cell_type": "markdown",
   "id": "eca7f8a2",
   "metadata": {},
   "source": [
    "<div class=\"alert alert-success\">\n",
    "<h2> Комментарий ревьюера v2 ✔️ <a class=\"tocSkip\"> </h2>\n",
    "\n",
    "Самый простой вариант, это\n",
    "    \n",
    "```python\n",
    "try:\n",
    "    df_housing = spark.read.csv('datasets/housing.csv', header=True)\n",
    "except:\n",
    "    df_housing = spark.read.csv('/datasets/housing.csv', header=True) \n",
    "```"
   ]
  },
  {
   "cell_type": "markdown",
   "id": "53152b4b",
   "metadata": {},
   "source": [
    "Видим, что все столбцы отражены не в корректном виде кроме `ocean_proximity`. Заметно, что данные в столбцах в виде чисел с точками, соответственно, их нужно преобразовать в тип 'double'"
   ]
  },
  {
   "cell_type": "code",
   "execution_count": 6,
   "id": "59eb535f",
   "metadata": {},
   "outputs": [
    {
     "name": "stdout",
     "output_type": "stream",
     "text": [
      "root\n",
      " |-- longitude: double (nullable = true)\n",
      " |-- latitude: double (nullable = true)\n",
      " |-- housing_median_age: double (nullable = true)\n",
      " |-- total_rooms: double (nullable = true)\n",
      " |-- total_bedrooms: double (nullable = true)\n",
      " |-- population: double (nullable = true)\n",
      " |-- households: double (nullable = true)\n",
      " |-- median_income: double (nullable = true)\n",
      " |-- median_house_value: double (nullable = true)\n",
      " |-- ocean_proximity: string (nullable = true)\n",
      "\n"
     ]
    }
   ],
   "source": [
    "for column in df_housing.columns:\n",
    "    if column != 'ocean_proximity':\n",
    "        df_housing = df_housing.withColumn(\n",
    "            column, F.col(column).cast(DoubleType()))\n",
    "df_housing.printSchema()"
   ]
  },
  {
   "cell_type": "markdown",
   "id": "5a879d70",
   "metadata": {},
   "source": [
    "<div class=\"alert alert-success\">\n",
    "<h2> Комментарий ревьюера ✔️ <a class=\"tocSkip\"> </h2>\n",
    "\n",
    "Да, отлично! Про типы данных в Spark-е дополнительно можно почитать вот [тут](https://spark.apache.org/docs/latest/sql-ref-datatypes.html)"
   ]
  },
  {
   "cell_type": "markdown",
   "id": "24ba4f15",
   "metadata": {},
   "source": [
    "Видим, что столбцы преобразованы в нужный формат данных"
   ]
  },
  {
   "cell_type": "markdown",
   "id": "63b20639",
   "metadata": {},
   "source": [
    "Проверим наличие пустых значений в столбцах"
   ]
  },
  {
   "cell_type": "code",
   "execution_count": 7,
   "id": "9d06945f",
   "metadata": {},
   "outputs": [
    {
     "name": "stderr",
     "output_type": "stream",
     "text": [
      "[Stage 2:>                                                          (0 + 1) / 1]\r"
     ]
    },
    {
     "name": "stdout",
     "output_type": "stream",
     "text": [
      "-RECORD 0-----------------\n",
      " longitude          | 0   \n",
      " latitude           | 0   \n",
      " housing_median_age | 0   \n",
      " total_rooms        | 0   \n",
      " total_bedrooms     | 207 \n",
      " population         | 0   \n",
      " households         | 0   \n",
      " median_income      | 0   \n",
      " median_house_value | 0   \n",
      " ocean_proximity    | 0   \n",
      "\n"
     ]
    },
    {
     "name": "stderr",
     "output_type": "stream",
     "text": [
      "                                                                                \r"
     ]
    }
   ],
   "source": [
    "df_housing.select(\n",
    "    [count(\n",
    "        when(isnan(column) | col(column).isNull(), column)\n",
    "    ).alias(column) for column in df_housing.columns]).show(vertical=True)"
   ]
  },
  {
   "cell_type": "markdown",
   "id": "bedbe00b",
   "metadata": {},
   "source": [
    "Обнаружено много пропущенных значений в столбце `total_bedrooms`. "
   ]
  },
  {
   "cell_type": "markdown",
   "id": "928af1f0",
   "metadata": {},
   "source": [
    "Выведем медианные значения этого столбца для данных, сгруппированных по столбцу `ocean_proximity`"
   ]
  },
  {
   "cell_type": "code",
   "execution_count": 8,
   "id": "3425da01",
   "metadata": {},
   "outputs": [
    {
     "name": "stderr",
     "output_type": "stream",
     "text": [
      "[Stage 5:>                                                          (0 + 1) / 1]\r"
     ]
    },
    {
     "name": "stdout",
     "output_type": "stream",
     "text": [
      "+---------------+----------------------+\n",
      "|ocean_proximity|median(total_bedrooms)|\n",
      "+---------------+----------------------+\n",
      "|         ISLAND|                 512.0|\n",
      "|     NEAR OCEAN|                 464.0|\n",
      "|       NEAR BAY|                 423.0|\n",
      "|      <1H OCEAN|                 438.0|\n",
      "|         INLAND|                 423.0|\n",
      "+---------------+----------------------+\n",
      "\n"
     ]
    },
    {
     "name": "stderr",
     "output_type": "stream",
     "text": [
      "                                                                                \r"
     ]
    }
   ],
   "source": [
    "ocean_proximity_group = df_housing.groupBy('ocean_proximity').agg(F.median('total_bedrooms')).show()\n",
    "ocean_proximity_group"
   ]
  },
  {
   "cell_type": "markdown",
   "id": "4bb01f9d",
   "metadata": {},
   "source": [
    "Как можем заметить, что дубликатов у столбца `ocean_proximity` не обнаружено"
   ]
  },
  {
   "cell_type": "markdown",
   "id": "0d20d325",
   "metadata": {},
   "source": [
    "Перейдем к заполнению пропусков. Указанные выше 2 столбца будут заполняться медианными значениями, сгруппированными по столбцу `ocean_proximity`."
   ]
  },
  {
   "cell_type": "markdown",
   "id": "4e2c808f",
   "metadata": {},
   "source": [
    "<div class=\"alert alert-success\">\n",
    "<h2> Комментарий ревьюера ✔️ <a class=\"tocSkip\"> </h2>\n",
    "\n",
    "Процесс заполнения пропусков можно было также реализовать в виде отдельного трансформатора, для этого можно воспользоваться [Imputer](https://spark.apache.org/docs/latest/api/python/reference/api/pyspark.ml.feature.Imputer.html)"
   ]
  },
  {
   "cell_type": "code",
   "execution_count": 9,
   "id": "55bec063",
   "metadata": {
    "scrolled": true
   },
   "outputs": [
    {
     "name": "stderr",
     "output_type": "stream",
     "text": [
      "[Stage 23:>                                                         (0 + 1) / 1]\r"
     ]
    },
    {
     "name": "stdout",
     "output_type": "stream",
     "text": [
      "-RECORD 0-----------------\n",
      " longitude          | 0   \n",
      " latitude           | 0   \n",
      " housing_median_age | 0   \n",
      " total_rooms        | 0   \n",
      " total_bedrooms     | 0   \n",
      " population         | 0   \n",
      " households         | 0   \n",
      " median_income      | 0   \n",
      " median_house_value | 0   \n",
      " ocean_proximity    | 0   \n",
      "\n",
      "CPU times: user 63.7 ms, sys: 10.1 ms, total: 73.8 ms\n",
      "Wall time: 7.12 s\n"
     ]
    },
    {
     "name": "stderr",
     "output_type": "stream",
     "text": [
      "                                                                                \r"
     ]
    }
   ],
   "source": [
    "%%time\n",
    "\n",
    "\n",
    "def fill_val(df, filter_val, column):\n",
    "    df_median_bycolumn = df.filter(df.ocean_proximity == filter_val).agg(F.median(column)).collect()\n",
    "    fill_value = df_median_bycolumn[0].__getitem__(f'median({column})')\n",
    "    return fill_value\n",
    "\n",
    "\n",
    "df_housing_2 = df_housing.withColumn('total_bedrooms', when(df_housing.total_bedrooms.isNull(), \n",
    "                                                           when(df_housing.ocean_proximity == 'ISLAND', \n",
    "                                                                fill_val(df_housing, 'ISLAND', 'total_bedrooms'))\n",
    "                                                           .when(df_housing.ocean_proximity == 'NEAR OCEAN', \n",
    "                                                                fill_val(df_housing, 'NEAR OCEAN', 'total_bedrooms'))\n",
    "                                                           .when(df_housing.ocean_proximity == 'NEAR BAY', \n",
    "                                                                fill_val(df_housing, 'NEAR BAY', 'total_bedrooms'))\n",
    "                                                           .when(df_housing.ocean_proximity == '<1H OCEAN', \n",
    "                                                                fill_val(df_housing, '<1H OCEAN', 'total_bedrooms'))\n",
    "                                                           .when(df_housing.ocean_proximity == 'INLAND', \n",
    "                                                                fill_val(df_housing, 'INLAND', 'total_bedrooms')))\n",
    "                                                        .otherwise(df_housing.total_bedrooms))\n",
    "                                     \n",
    "df_housing_2.select(\n",
    "    [count(\n",
    "        when(isnan(column) | col(column).isNull(), column)\n",
    "    ).alias(column) for column in df_housing.columns]).show(vertical=True)\n"
   ]
  },
  {
   "cell_type": "markdown",
   "id": "073907ec",
   "metadata": {},
   "source": [
    "<div class=\"alert alert-success\">\n",
    "<h2> Комментарий ревьюера ✔️ <a class=\"tocSkip\"> </h2>\n",
    "\n",
    "👍"
   ]
  },
  {
   "cell_type": "markdown",
   "id": "392bf844",
   "metadata": {},
   "source": [
    "Видим, что пропуски заполнены"
   ]
  },
  {
   "cell_type": "markdown",
   "id": "cfb071ec",
   "metadata": {},
   "source": [
    "**Исследуем данные на выбросы**"
   ]
  },
  {
   "cell_type": "markdown",
   "id": "980e4816",
   "metadata": {},
   "source": [
    "Выведем кол-во строк в таблице до удаления выбросов"
   ]
  },
  {
   "cell_type": "code",
   "execution_count": 10,
   "id": "f9cb40b0",
   "metadata": {},
   "outputs": [
    {
     "data": {
      "text/plain": [
       "20640"
      ]
     },
     "execution_count": 10,
     "metadata": {},
     "output_type": "execute_result"
    }
   ],
   "source": [
    "df_housing_2.count()"
   ]
  },
  {
   "cell_type": "markdown",
   "id": "4174aa26",
   "metadata": {},
   "source": [
    "Посмотрим, что из себя представляют данные с точки зрения статистики, и проверим наличие выбросов в данных."
   ]
  },
  {
   "cell_type": "code",
   "execution_count": 11,
   "id": "1d3185ff",
   "metadata": {},
   "outputs": [
    {
     "name": "stderr",
     "output_type": "stream",
     "text": [
      "23/08/23 11:07:53 WARN package: Truncated the string representation of a plan since it was too large. This behavior can be adjusted by setting 'spark.sql.debug.maxToStringFields'.\n",
      "                                                                                \r"
     ]
    },
    {
     "data": {
      "text/html": [
       "<div>\n",
       "<style scoped>\n",
       "    .dataframe tbody tr th:only-of-type {\n",
       "        vertical-align: middle;\n",
       "    }\n",
       "\n",
       "    .dataframe tbody tr th {\n",
       "        vertical-align: top;\n",
       "    }\n",
       "\n",
       "    .dataframe thead th {\n",
       "        text-align: right;\n",
       "    }\n",
       "</style>\n",
       "<table border=\"1\" class=\"dataframe\">\n",
       "  <thead>\n",
       "    <tr style=\"text-align: right;\">\n",
       "      <th></th>\n",
       "      <th>longitude</th>\n",
       "      <th>latitude</th>\n",
       "      <th>housing_median_age</th>\n",
       "      <th>total_rooms</th>\n",
       "      <th>total_bedrooms</th>\n",
       "      <th>population</th>\n",
       "      <th>households</th>\n",
       "      <th>median_income</th>\n",
       "      <th>median_house_value</th>\n",
       "    </tr>\n",
       "  </thead>\n",
       "  <tbody>\n",
       "    <tr>\n",
       "      <th>count</th>\n",
       "      <td>20640.000000</td>\n",
       "      <td>20640.000000</td>\n",
       "      <td>20640.000000</td>\n",
       "      <td>20640.000000</td>\n",
       "      <td>20640.000000</td>\n",
       "      <td>20640.000000</td>\n",
       "      <td>20640.000000</td>\n",
       "      <td>20640.000000</td>\n",
       "      <td>20640.000000</td>\n",
       "    </tr>\n",
       "    <tr>\n",
       "      <th>mean</th>\n",
       "      <td>-119.569704</td>\n",
       "      <td>35.631861</td>\n",
       "      <td>28.639486</td>\n",
       "      <td>2635.763081</td>\n",
       "      <td>536.852229</td>\n",
       "      <td>1425.476744</td>\n",
       "      <td>499.539680</td>\n",
       "      <td>3.870671</td>\n",
       "      <td>206855.816909</td>\n",
       "    </tr>\n",
       "    <tr>\n",
       "      <th>std</th>\n",
       "      <td>2.003532</td>\n",
       "      <td>2.135952</td>\n",
       "      <td>12.585558</td>\n",
       "      <td>2181.615252</td>\n",
       "      <td>419.390765</td>\n",
       "      <td>1132.462122</td>\n",
       "      <td>382.329753</td>\n",
       "      <td>1.899822</td>\n",
       "      <td>115395.615874</td>\n",
       "    </tr>\n",
       "    <tr>\n",
       "      <th>min</th>\n",
       "      <td>-124.350000</td>\n",
       "      <td>32.540000</td>\n",
       "      <td>1.000000</td>\n",
       "      <td>2.000000</td>\n",
       "      <td>1.000000</td>\n",
       "      <td>3.000000</td>\n",
       "      <td>1.000000</td>\n",
       "      <td>0.499900</td>\n",
       "      <td>14999.000000</td>\n",
       "    </tr>\n",
       "    <tr>\n",
       "      <th>25%</th>\n",
       "      <td>-121.800000</td>\n",
       "      <td>33.930000</td>\n",
       "      <td>18.000000</td>\n",
       "      <td>1447.000000</td>\n",
       "      <td>297.000000</td>\n",
       "      <td>787.000000</td>\n",
       "      <td>280.000000</td>\n",
       "      <td>2.562500</td>\n",
       "      <td>119600.000000</td>\n",
       "    </tr>\n",
       "    <tr>\n",
       "      <th>50%</th>\n",
       "      <td>-118.490000</td>\n",
       "      <td>34.260000</td>\n",
       "      <td>29.000000</td>\n",
       "      <td>2127.000000</td>\n",
       "      <td>435.000000</td>\n",
       "      <td>1166.000000</td>\n",
       "      <td>409.000000</td>\n",
       "      <td>3.534700</td>\n",
       "      <td>179700.000000</td>\n",
       "    </tr>\n",
       "    <tr>\n",
       "      <th>75%</th>\n",
       "      <td>-118.010000</td>\n",
       "      <td>37.710000</td>\n",
       "      <td>37.000000</td>\n",
       "      <td>3146.000000</td>\n",
       "      <td>643.000000</td>\n",
       "      <td>1724.000000</td>\n",
       "      <td>605.000000</td>\n",
       "      <td>4.742600</td>\n",
       "      <td>264700.000000</td>\n",
       "    </tr>\n",
       "    <tr>\n",
       "      <th>max</th>\n",
       "      <td>-114.310000</td>\n",
       "      <td>41.950000</td>\n",
       "      <td>52.000000</td>\n",
       "      <td>39320.000000</td>\n",
       "      <td>6445.000000</td>\n",
       "      <td>35682.000000</td>\n",
       "      <td>6082.000000</td>\n",
       "      <td>15.000100</td>\n",
       "      <td>500001.000000</td>\n",
       "    </tr>\n",
       "  </tbody>\n",
       "</table>\n",
       "</div>"
      ],
      "text/plain": [
       "          longitude      latitude  housing_median_age   total_rooms  total_bedrooms    population    households  median_income  median_house_value\n",
       "count  20640.000000  20640.000000        20640.000000  20640.000000    20640.000000  20640.000000  20640.000000   20640.000000        20640.000000\n",
       "mean    -119.569704     35.631861           28.639486   2635.763081      536.852229   1425.476744    499.539680       3.870671       206855.816909\n",
       "std        2.003532      2.135952           12.585558   2181.615252      419.390765   1132.462122    382.329753       1.899822       115395.615874\n",
       "min     -124.350000     32.540000            1.000000      2.000000        1.000000      3.000000      1.000000       0.499900        14999.000000\n",
       "25%     -121.800000     33.930000           18.000000   1447.000000      297.000000    787.000000    280.000000       2.562500       119600.000000\n",
       "50%     -118.490000     34.260000           29.000000   2127.000000      435.000000   1166.000000    409.000000       3.534700       179700.000000\n",
       "75%     -118.010000     37.710000           37.000000   3146.000000      643.000000   1724.000000    605.000000       4.742600       264700.000000\n",
       "max     -114.310000     41.950000           52.000000  39320.000000     6445.000000  35682.000000   6082.000000      15.000100       500001.000000"
      ]
     },
     "execution_count": 11,
     "metadata": {},
     "output_type": "execute_result"
    }
   ],
   "source": [
    "df_housing_2.pandas_api().describe()"
   ]
  },
  {
   "cell_type": "code",
   "execution_count": 12,
   "id": "580ebbd0",
   "metadata": {},
   "outputs": [
    {
     "name": "stdout",
     "output_type": "stream",
     "text": [
      "['longitude', 'latitude', 'housing_median_age', 'total_rooms', 'total_bedrooms', 'population', 'households', 'median_income', 'median_house_value']\n",
      "9\n"
     ]
    }
   ],
   "source": [
    "# type(df_housing_2['ocean_proximity'])\n",
    "# df_housing_2.dtypes\n",
    "boxplot_columns = []\n",
    "for col in df_housing_2.columns:\n",
    "    if dict(df_housing_2.dtypes)[col] != 'string':\n",
    "        boxplot_columns.append(col)\n",
    "print(boxplot_columns)\n",
    "print(len(boxplot_columns))\n",
    "#         print(col)\n",
    "#         df_housing_2.pandas_api()[col].plot.box().show()\n",
    "        \n",
    "# print(dict(df_housing.dtypes)['ocean_proximity'])"
   ]
  },
  {
   "cell_type": "code",
   "execution_count": 13,
   "id": "25f76b31",
   "metadata": {},
   "outputs": [],
   "source": [
    "def out_boxplot(df, columns):\n",
    "    num_columns = len(columns)\n",
    "    num_rows = math.ceil(num_columns / 3)\n",
    "    fig, axs = plt.subplots(nrows = num_rows, ncols = 3, figsize = (20,15))\n",
    "    fig.tight_layout(h_pad=num_rows)\n",
    "    print(fig)\n",
    "    print(axs)\n",
    "    i_col = 0\n",
    "    for row in range(num_rows):\n",
    "         for column in range(3):\n",
    "#             print(columns[column])\n",
    "            i_col = row\n",
    "            axs[row][column].boxplot(x=columns[column + i_col*3], data=df)\n",
    "#             axs[row][column].hist(x=columns[column], data=dfs[row])\n",
    "            axs[row][column].set_xlabel(columns[column + + i_col*3])\n",
    "#             if row == 0:\n",
    "#                 axs[row][0].set_ylabel('data_train')\n",
    "#             elif row == 1:\n",
    "#                 axs[row][0].set_ylabel('data_test')"
   ]
  },
  {
   "cell_type": "code",
   "execution_count": 14,
   "id": "6d67fbf4",
   "metadata": {},
   "outputs": [
    {
     "name": "stdout",
     "output_type": "stream",
     "text": [
      "Figure(1440x1080)\n",
      "[[<AxesSubplot:> <AxesSubplot:> <AxesSubplot:>]\n",
      " [<AxesSubplot:> <AxesSubplot:> <AxesSubplot:>]\n",
      " [<AxesSubplot:> <AxesSubplot:> <AxesSubplot:>]]\n"
     ]
    },
    {
     "name": "stderr",
     "output_type": "stream",
     "text": [
      "                                                                                \r"
     ]
    },
    {
     "data": {
      "image/png": "[encoded data removed]",
      "text/plain": [
       "<Figure size 1440x1080 with 9 Axes>"
      ]
     },
     "metadata": {
      "needs_background": "light"
     },
     "output_type": "display_data"
    }
   ],
   "source": [
    "out_boxplot(df_housing_2.pandas_api(), boxplot_columns)"
   ]
  },
  {
   "cell_type": "markdown",
   "id": "e6481e1f",
   "metadata": {},
   "source": [
    "<div class=\"alert alert-success\">\n",
    "<h2> Комментарий ревьюера ✔️ <a class=\"tocSkip\"> </h2>\n",
    "\n",
    "Кстати, если тебе поднадоел стандартный `matplotlib`, попробуй пострить графики с помощью [plotly](https://plotly.github.io/plotly.py-docs/generated/plotly.express.histogram.html) - здесь пример с гистограммами"
   ]
  },
  {
   "cell_type": "markdown",
   "id": "dee0c5dd",
   "metadata": {},
   "source": [
    "Заметно, что есть выбросы в данных в 5 графиках - `total_rooms`, `total_bedrooms`, `population`, `households`, `median_income`"
   ]
  },
  {
   "cell_type": "markdown",
   "id": "cbfef212",
   "metadata": {},
   "source": [
    "Удалим строки с выбросами с помощью функции, которую фильтрует данные на основании \"правила 3 сигм\"."
   ]
  },
  {
   "cell_type": "code",
   "execution_count": 15,
   "id": "55ca4e45",
   "metadata": {},
   "outputs": [],
   "source": [
    "def del_outliers(df, columns):\n",
    "    df_processed = df.pandas_api()\n",
    "#     print(type(df_processed))\n",
    "    for column in columns:\n",
    "        q25 = df_processed[column].quantile(.25)\n",
    "        q75 = df_processed[column].quantile(.75)        \n",
    "        q_min = q25 - 1.5*(q75-q25)\n",
    "        q_max = q75 + 1.5*(q75-q25)\n",
    "        df_processed = df_processed[df_processed[column] >= q_min]\n",
    "        df_processed = df_processed[df_processed[column] <= q_max]\n",
    "    df_processed = df_processed.reset_index(drop=True).to_spark()\n",
    "    return df_processed"
   ]
  },
  {
   "cell_type": "code",
   "execution_count": 16,
   "id": "5186c4f1",
   "metadata": {},
   "outputs": [
    {
     "name": "stderr",
     "output_type": "stream",
     "text": [
      "                                                                                \r"
     ]
    }
   ],
   "source": [
    "columns_with_outliers = ['total_rooms', 'total_bedrooms', 'population',\n",
    "                         'households', 'median_income']\n",
    "df_housing_3 = del_outliers(df_housing_2, columns_with_outliers)"
   ]
  },
  {
   "cell_type": "markdown",
   "id": "1a098187",
   "metadata": {},
   "source": [
    "Удаление строк, где спален больше, чем общее количество комнат"
   ]
  },
  {
   "cell_type": "code",
   "execution_count": 17,
   "id": "b466e530",
   "metadata": {},
   "outputs": [],
   "source": [
    "df_housing_3 = df_housing_3.filter(\n",
    "    F.col('total_rooms') >= F.col('total_bedrooms'))"
   ]
  },
  {
   "cell_type": "markdown",
   "id": "d72d0560",
   "metadata": {},
   "source": [
    "Проверим, что получилось после удаления данных с выбросами"
   ]
  },
  {
   "cell_type": "code",
   "execution_count": 18,
   "id": "bfc71171",
   "metadata": {},
   "outputs": [
    {
     "name": "stdout",
     "output_type": "stream",
     "text": [
      "Figure(1440x1080)\n",
      "[[<AxesSubplot:> <AxesSubplot:> <AxesSubplot:>]\n",
      " [<AxesSubplot:> <AxesSubplot:> <AxesSubplot:>]\n",
      " [<AxesSubplot:> <AxesSubplot:> <AxesSubplot:>]]\n"
     ]
    },
    {
     "name": "stderr",
     "output_type": "stream",
     "text": [
      "                                                                                \r"
     ]
    },
    {
     "data": {
      "image/png": "[encoded data removed]",
      "text/plain": [
       "<Figure size 1440x1080 with 9 Axes>"
      ]
     },
     "metadata": {
      "needs_background": "light"
     },
     "output_type": "display_data"
    }
   ],
   "source": [
    "out_boxplot(df_housing_3.pandas_api(), boxplot_columns)"
   ]
  },
  {
   "cell_type": "code",
   "execution_count": 19,
   "id": "a05175ca",
   "metadata": {},
   "outputs": [
    {
     "name": "stdout",
     "output_type": "stream",
     "text": [
      "Кол-во оставшихся строк df_train - 17529, удалено - 3111\n"
     ]
    },
    {
     "name": "stderr",
     "output_type": "stream",
     "text": [
      "                                                                                \r"
     ]
    }
   ],
   "source": [
    "print(f'Кол-во оставшихся строк df_train - {df_housing_3.count()}, удалено - {df_housing_2.count() - df_housing_3.count()}')"
   ]
  },
  {
   "cell_type": "markdown",
   "id": "3682c613",
   "metadata": {},
   "source": [
    "Как можно заметить, что 15% данных отброшено в результате удалений данных с выбросами"
   ]
  },
  {
   "cell_type": "markdown",
   "id": "6159523e",
   "metadata": {},
   "source": [
    "<div class=\"alert alert-warning\">\n",
    "<h2> Комментарий ревьюера ⚠️ <a class=\"tocSkip\"> </h2>\n",
    "\n",
    "Многовато на самом деле, на практике суммарно по датафреймы мы стараемся не удалять более 10% данных"
   ]
  },
  {
   "cell_type": "markdown",
   "id": "13ddaba8",
   "metadata": {},
   "source": [
    "Создадим несколько новых столбцов с признаками:\n",
    "\n",
    "- Отношение количества комнат `total_rooms` к количеству домовладений `households` — `rooms_per_household`\n",
    "- Отношение количества жителей `population` к количеству домовладений `households` — `population_in_household`\n",
    "- Отношение количества спален `total_bedrooms` к общему количеству комнат `total_rooms`— `bedroom_index`\n"
   ]
  },
  {
   "cell_type": "code",
   "execution_count": 20,
   "id": "2cc9a7fb",
   "metadata": {},
   "outputs": [
    {
     "name": "stdout",
     "output_type": "stream",
     "text": [
      "+---------+--------+------------------+-----------+--------------+----------+----------+-------------+------------------+---------------+------------------+-----------------------+-------------------+\n",
      "|longitude|latitude|housing_median_age|total_rooms|total_bedrooms|population|households|median_income|median_house_value|ocean_proximity|room_per_household|population_in_household|      bedroom_index|\n",
      "+---------+--------+------------------+-----------+--------------+----------+----------+-------------+------------------+---------------+------------------+-----------------------+-------------------+\n",
      "|  -122.24|   37.85|              52.0|     1467.0|         190.0|     496.0|     177.0|       7.2574|          352100.0|       NEAR BAY| 8.288135593220339|     2.8022598870056497|0.12951601908657123|\n",
      "+---------+--------+------------------+-----------+--------------+----------+----------+-------------+------------------+---------------+------------------+-----------------------+-------------------+\n",
      "only showing top 1 row\n",
      "\n",
      "root\n",
      " |-- longitude: double (nullable = true)\n",
      " |-- latitude: double (nullable = true)\n",
      " |-- housing_median_age: double (nullable = true)\n",
      " |-- total_rooms: double (nullable = true)\n",
      " |-- total_bedrooms: double (nullable = true)\n",
      " |-- population: double (nullable = true)\n",
      " |-- households: double (nullable = true)\n",
      " |-- median_income: double (nullable = true)\n",
      " |-- median_house_value: double (nullable = true)\n",
      " |-- ocean_proximity: string (nullable = true)\n",
      " |-- room_per_household: double (nullable = true)\n",
      " |-- population_in_household: double (nullable = true)\n",
      " |-- bedroom_index: double (nullable = true)\n",
      "\n"
     ]
    }
   ],
   "source": [
    "df_housing_4 = df_housing_3.withColumn('room_per_household',\n",
    "                                   F.col('total_rooms')/F.col('households'))\n",
    "df_housing_4 = df_housing_4.withColumn('population_in_household',\n",
    "                                  F.col('population')/F.col('households'))\n",
    "df_housing_4 = df_housing_4.withColumn('bedroom_index',\n",
    "                                  F.col('total_bedrooms')/F.col('total_rooms'))\n",
    "df_housing_4.show(1)\n",
    "df_housing_4.printSchema()"
   ]
  },
  {
   "cell_type": "markdown",
   "id": "01738b0c",
   "metadata": {},
   "source": [
    "Посмотрим, как данные коррелируют между собой."
   ]
  },
  {
   "cell_type": "code",
   "execution_count": 21,
   "id": "85fa31b3",
   "metadata": {},
   "outputs": [
    {
     "name": "stderr",
     "output_type": "stream",
     "text": [
      "                                                                                \r"
     ]
    },
    {
     "data": {
      "text/html": [
       "<div>\n",
       "<style scoped>\n",
       "    .dataframe tbody tr th:only-of-type {\n",
       "        vertical-align: middle;\n",
       "    }\n",
       "\n",
       "    .dataframe tbody tr th {\n",
       "        vertical-align: top;\n",
       "    }\n",
       "\n",
       "    .dataframe thead th {\n",
       "        text-align: right;\n",
       "    }\n",
       "</style>\n",
       "<table border=\"1\" class=\"dataframe\">\n",
       "  <thead>\n",
       "    <tr style=\"text-align: right;\">\n",
       "      <th></th>\n",
       "      <th>longitude</th>\n",
       "      <th>latitude</th>\n",
       "      <th>housing_median_age</th>\n",
       "      <th>total_rooms</th>\n",
       "      <th>total_bedrooms</th>\n",
       "      <th>population</th>\n",
       "      <th>households</th>\n",
       "      <th>median_income</th>\n",
       "      <th>median_house_value</th>\n",
       "      <th>room_per_household</th>\n",
       "      <th>population_in_household</th>\n",
       "      <th>bedroom_index</th>\n",
       "    </tr>\n",
       "  </thead>\n",
       "  <tbody>\n",
       "    <tr>\n",
       "      <th>longitude</th>\n",
       "      <td>1.000000</td>\n",
       "      <td>-0.923012</td>\n",
       "      <td>-0.089919</td>\n",
       "      <td>-0.015968</td>\n",
       "      <td>0.022884</td>\n",
       "      <td>0.107200</td>\n",
       "      <td>0.020941</td>\n",
       "      <td>-0.002414</td>\n",
       "      <td>-0.033304</td>\n",
       "      <td>-0.040652</td>\n",
       "      <td>0.134382</td>\n",
       "      <td>0.089380</td>\n",
       "    </tr>\n",
       "    <tr>\n",
       "      <th>latitude</th>\n",
       "      <td>-0.923012</td>\n",
       "      <td>1.000000</td>\n",
       "      <td>-0.013168</td>\n",
       "      <td>0.013795</td>\n",
       "      <td>-0.035772</td>\n",
       "      <td>-0.133927</td>\n",
       "      <td>-0.058857</td>\n",
       "      <td>-0.097565</td>\n",
       "      <td>-0.161495</td>\n",
       "      <td>0.121816</td>\n",
       "      <td>-0.127213</td>\n",
       "      <td>-0.111687</td>\n",
       "    </tr>\n",
       "    <tr>\n",
       "      <th>housing_median_age</th>\n",
       "      <td>-0.089919</td>\n",
       "      <td>-0.013168</td>\n",
       "      <td>1.000000</td>\n",
       "      <td>-0.267003</td>\n",
       "      <td>-0.200207</td>\n",
       "      <td>-0.177829</td>\n",
       "      <td>-0.170532</td>\n",
       "      <td>-0.138243</td>\n",
       "      <td>0.130647</td>\n",
       "      <td>-0.149588</td>\n",
       "      <td>-0.012670</td>\n",
       "      <td>0.133790</td>\n",
       "    </tr>\n",
       "    <tr>\n",
       "      <th>total_rooms</th>\n",
       "      <td>-0.015968</td>\n",
       "      <td>0.013795</td>\n",
       "      <td>-0.267003</td>\n",
       "      <td>1.000000</td>\n",
       "      <td>0.875731</td>\n",
       "      <td>0.754981</td>\n",
       "      <td>0.872956</td>\n",
       "      <td>0.300934</td>\n",
       "      <td>0.188316</td>\n",
       "      <td>0.159819</td>\n",
       "      <td>-0.166902</td>\n",
       "      <td>-0.319496</td>\n",
       "    </tr>\n",
       "    <tr>\n",
       "      <th>total_bedrooms</th>\n",
       "      <td>0.022884</td>\n",
       "      <td>-0.035772</td>\n",
       "      <td>-0.200207</td>\n",
       "      <td>0.875731</td>\n",
       "      <td>1.000000</td>\n",
       "      <td>0.804170</td>\n",
       "      <td>0.961712</td>\n",
       "      <td>-0.015758</td>\n",
       "      <td>0.081634</td>\n",
       "      <td>-0.018689</td>\n",
       "      <td>-0.193244</td>\n",
       "      <td>0.079893</td>\n",
       "    </tr>\n",
       "    <tr>\n",
       "      <th>population</th>\n",
       "      <td>0.107200</td>\n",
       "      <td>-0.133927</td>\n",
       "      <td>-0.177829</td>\n",
       "      <td>0.754981</td>\n",
       "      <td>0.804170</td>\n",
       "      <td>1.000000</td>\n",
       "      <td>0.854362</td>\n",
       "      <td>-0.000189</td>\n",
       "      <td>-0.052039</td>\n",
       "      <td>-0.130809</td>\n",
       "      <td>0.201944</td>\n",
       "      <td>0.001863</td>\n",
       "    </tr>\n",
       "    <tr>\n",
       "      <th>households</th>\n",
       "      <td>0.020941</td>\n",
       "      <td>-0.058857</td>\n",
       "      <td>-0.170532</td>\n",
       "      <td>0.872956</td>\n",
       "      <td>0.961712</td>\n",
       "      <td>0.854362</td>\n",
       "      <td>1.000000</td>\n",
       "      <td>0.028770</td>\n",
       "      <td>0.104869</td>\n",
       "      <td>-0.132532</td>\n",
       "      <td>-0.173940</td>\n",
       "      <td>0.017995</td>\n",
       "    </tr>\n",
       "    <tr>\n",
       "      <th>median_income</th>\n",
       "      <td>-0.002414</td>\n",
       "      <td>-0.097565</td>\n",
       "      <td>-0.138243</td>\n",
       "      <td>0.300934</td>\n",
       "      <td>-0.015758</td>\n",
       "      <td>-0.000189</td>\n",
       "      <td>0.028770</td>\n",
       "      <td>1.000000</td>\n",
       "      <td>0.635154</td>\n",
       "      <td>0.275463</td>\n",
       "      <td>-0.069322</td>\n",
       "      <td>-0.588423</td>\n",
       "    </tr>\n",
       "    <tr>\n",
       "      <th>median_house_value</th>\n",
       "      <td>-0.033304</td>\n",
       "      <td>-0.161495</td>\n",
       "      <td>0.130647</td>\n",
       "      <td>0.188316</td>\n",
       "      <td>0.081634</td>\n",
       "      <td>-0.052039</td>\n",
       "      <td>0.104869</td>\n",
       "      <td>0.635154</td>\n",
       "      <td>1.000000</td>\n",
       "      <td>0.100605</td>\n",
       "      <td>-0.216824</td>\n",
       "      <td>-0.194980</td>\n",
       "    </tr>\n",
       "    <tr>\n",
       "      <th>room_per_household</th>\n",
       "      <td>-0.040652</td>\n",
       "      <td>0.121816</td>\n",
       "      <td>-0.149588</td>\n",
       "      <td>0.159819</td>\n",
       "      <td>-0.018689</td>\n",
       "      <td>-0.130809</td>\n",
       "      <td>-0.132532</td>\n",
       "      <td>0.275463</td>\n",
       "      <td>0.100605</td>\n",
       "      <td>1.000000</td>\n",
       "      <td>-0.043491</td>\n",
       "      <td>-0.361210</td>\n",
       "    </tr>\n",
       "    <tr>\n",
       "      <th>population_in_household</th>\n",
       "      <td>0.134382</td>\n",
       "      <td>-0.127213</td>\n",
       "      <td>-0.012670</td>\n",
       "      <td>-0.166902</td>\n",
       "      <td>-0.193244</td>\n",
       "      <td>0.201944</td>\n",
       "      <td>-0.173940</td>\n",
       "      <td>-0.069322</td>\n",
       "      <td>-0.216824</td>\n",
       "      <td>-0.043491</td>\n",
       "      <td>1.000000</td>\n",
       "      <td>0.025285</td>\n",
       "    </tr>\n",
       "    <tr>\n",
       "      <th>bedroom_index</th>\n",
       "      <td>0.089380</td>\n",
       "      <td>-0.111687</td>\n",
       "      <td>0.133790</td>\n",
       "      <td>-0.319496</td>\n",
       "      <td>0.079893</td>\n",
       "      <td>0.001863</td>\n",
       "      <td>0.017995</td>\n",
       "      <td>-0.588423</td>\n",
       "      <td>-0.194980</td>\n",
       "      <td>-0.361210</td>\n",
       "      <td>0.025285</td>\n",
       "      <td>1.000000</td>\n",
       "    </tr>\n",
       "  </tbody>\n",
       "</table>\n",
       "</div>"
      ],
      "text/plain": [
       "                         longitude  latitude  housing_median_age  total_rooms  total_bedrooms  population  households  median_income  median_house_value  room_per_household  population_in_household  bedroom_index\n",
       "longitude                 1.000000 -0.923012           -0.089919    -0.015968        0.022884    0.107200    0.020941      -0.002414           -0.033304           -0.040652                 0.134382       0.089380\n",
       "latitude                 -0.923012  1.000000           -0.013168     0.013795       -0.035772   -0.133927   -0.058857      -0.097565           -0.161495            0.121816                -0.127213      -0.111687\n",
       "housing_median_age       -0.089919 -0.013168            1.000000    -0.267003       -0.200207   -0.177829   -0.170532      -0.138243            0.130647           -0.149588                -0.012670       0.133790\n",
       "total_rooms              -0.015968  0.013795           -0.267003     1.000000        0.875731    0.754981    0.872956       0.300934            0.188316            0.159819                -0.166902      -0.319496\n",
       "total_bedrooms            0.022884 -0.035772           -0.200207     0.875731        1.000000    0.804170    0.961712      -0.015758            0.081634           -0.018689                -0.193244       0.079893\n",
       "population                0.107200 -0.133927           -0.177829     0.754981        0.804170    1.000000    0.854362      -0.000189           -0.052039           -0.130809                 0.201944       0.001863\n",
       "households                0.020941 -0.058857           -0.170532     0.872956        0.961712    0.854362    1.000000       0.028770            0.104869           -0.132532                -0.173940       0.017995\n",
       "median_income            -0.002414 -0.097565           -0.138243     0.300934       -0.015758   -0.000189    0.028770       1.000000            0.635154            0.275463                -0.069322      -0.588423\n",
       "median_house_value       -0.033304 -0.161495            0.130647     0.188316        0.081634   -0.052039    0.104869       0.635154            1.000000            0.100605                -0.216824      -0.194980\n",
       "room_per_household       -0.040652  0.121816           -0.149588     0.159819       -0.018689   -0.130809   -0.132532       0.275463            0.100605            1.000000                -0.043491      -0.361210\n",
       "population_in_household   0.134382 -0.127213           -0.012670    -0.166902       -0.193244    0.201944   -0.173940      -0.069322           -0.216824           -0.043491                 1.000000       0.025285\n",
       "bedroom_index             0.089380 -0.111687            0.133790    -0.319496        0.079893    0.001863    0.017995      -0.588423           -0.194980           -0.361210                 0.025285       1.000000"
      ]
     },
     "execution_count": 21,
     "metadata": {},
     "output_type": "execute_result"
    }
   ],
   "source": [
    "df_housing_4.pandas_api().corr()"
   ]
  },
  {
   "cell_type": "markdown",
   "id": "51e522e0",
   "metadata": {},
   "source": [
    "<div class=\"alert alert-success\">\n",
    "<h2> Комментарий ревьюера ✔️ <a class=\"tocSkip\"> </h2>\n",
    "\n",
    "Оставлю ссылку на [материал](https://github.com/hukenovs/coursera_ml_da_specialization/blob/master/C4_Stats_for_data_analysis/Lectures/3-2.Korrelyacii.pdf) про корреляции, может тебе будет интересно)"
   ]
  },
  {
   "cell_type": "markdown",
   "id": "5f28b186",
   "metadata": {},
   "source": [
    "В данной таблице столбцы `total_bedrooms`, `households` показали очень сильную зависимость друг от друга - 0.961712. Но поскольку во всех домах и квартирах есть комнаты, не говоря уже о спальнях, то следует удалить столбец `total_bedrooms`, т.к. из-за него может некорректно пройти машинное обучение."
   ]
  },
  {
   "cell_type": "markdown",
   "id": "872ffcf9",
   "metadata": {},
   "source": [
    "Вдобавок необходимо удалить столбцы долготы и широты (`longitude`, `latitude`), т.к. эти данные избыточные из-за наличия данных о близости к океану - `ocean_proximity`"
   ]
  },
  {
   "cell_type": "code",
   "execution_count": 22,
   "id": "6889f301",
   "metadata": {},
   "outputs": [
    {
     "name": "stdout",
     "output_type": "stream",
     "text": [
      "+------------------+-----------+----------+----------+-------------+------------------+---------------+------------------+-----------------------+-------------------+\n",
      "|housing_median_age|total_rooms|population|households|median_income|median_house_value|ocean_proximity|room_per_household|population_in_household|      bedroom_index|\n",
      "+------------------+-----------+----------+----------+-------------+------------------+---------------+------------------+-----------------------+-------------------+\n",
      "|              52.0|     1467.0|     496.0|     177.0|       7.2574|          352100.0|       NEAR BAY| 8.288135593220339|     2.8022598870056497|0.12951601908657123|\n",
      "+------------------+-----------+----------+----------+-------------+------------------+---------------+------------------+-----------------------+-------------------+\n",
      "only showing top 1 row\n",
      "\n"
     ]
    }
   ],
   "source": [
    "df_housing_5 = df_housing_4.drop('total_bedrooms')\n",
    "df_housing_5 = df_housing_5.drop('longitude')\n",
    "df_housing_5 = df_housing_5.drop('latitude')\n",
    "df_housing_5.show(1)"
   ]
  },
  {
   "cell_type": "markdown",
   "id": "268b3c42",
   "metadata": {},
   "source": [
    "Удостоверились, что данные столбцы действительно удалены"
   ]
  },
  {
   "cell_type": "markdown",
   "id": "9f0a82f3",
   "metadata": {
    "id": "9f0a82f3"
   },
   "source": [
    "## Обучение моделей"
   ]
  },
  {
   "cell_type": "markdown",
   "id": "2d058fbd",
   "metadata": {},
   "source": [
    "### Подготовка данных для ML"
   ]
  },
  {
   "cell_type": "markdown",
   "id": "b0cf5f21",
   "metadata": {
    "id": "bddb08c4"
   },
   "source": [
    "Разделим данные на обучающие и тестовые в соотношении 3:1 (75%:25%) "
   ]
  },
  {
   "cell_type": "code",
   "execution_count": 23,
   "id": "a56e58ea",
   "metadata": {},
   "outputs": [
    {
     "name": "stderr",
     "output_type": "stream",
     "text": [
      "                                                                                \r"
     ]
    },
    {
     "data": {
      "text/plain": [
       "(0.7469336528039249, 0.25306634719607507)"
      ]
     },
     "execution_count": 23,
     "metadata": {},
     "output_type": "execute_result"
    }
   ],
   "source": [
    "train, test = df_housing_5.randomSplit([.75, .25], seed=12345)\n",
    "train.count()/df_housing_5.count(), test.count()/df_housing_5.count()"
   ]
  },
  {
   "cell_type": "markdown",
   "id": "2fb1999e",
   "metadata": {},
   "source": [
    "<div class=\"alert alert-danger\">\n",
    "<h2> Комментарий ревьюера ❌ <a class=\"tocSkip\"> </h2>\n",
    "\n",
    "Сид все же стоит зафиксировать, ведь иначе, при перезапуске тетрадки мы получим другое разбиение"
   ]
  },
  {
   "cell_type": "markdown",
   "id": "53dde50e",
   "metadata": {},
   "source": [
    "<div class=\"alert alert-info\">\n",
    "    \n",
    "<b>Комментарий:</b> Да, заметил, что каждый раз при отсутствии параметра seed получаем разное разбиение, например, увеличился показатель R^2 c 0.6 до 0.61. Установил seed=12345, как и ранее в sklearn random_split=12345\n",
    "</div>"
   ]
  },
  {
   "cell_type": "markdown",
   "id": "4af145d4",
   "metadata": {},
   "source": []
  },
  {
   "cell_type": "markdown",
   "id": "588af1f7",
   "metadata": {},
   "source": [
    "В машинном обучении через PySpark признаки передаются специальным списком - вектором. Для этого нам потребуется библиотека 'VectorAssembler', которая данные в строке преобразовывает в один вектор."
   ]
  },
  {
   "cell_type": "code",
   "execution_count": 24,
   "id": "bf7ec409",
   "metadata": {},
   "outputs": [
    {
     "data": {
      "text/plain": [
       "['housing_median_age',\n",
       " 'total_rooms',\n",
       " 'population',\n",
       " 'households',\n",
       " 'median_income',\n",
       " 'room_per_household',\n",
       " 'population_in_household',\n",
       " 'bedroom_index']"
      ]
     },
     "execution_count": 24,
     "metadata": {},
     "output_type": "execute_result"
    }
   ],
   "source": [
    "num_columns = train.columns\n",
    "num_columns.remove('median_house_value') #признак-ответ\n",
    "num_columns.remove('ocean_proximity')\n",
    "num_features = num_columns\n",
    "num_features"
   ]
  },
  {
   "cell_type": "code",
   "execution_count": 25,
   "id": "f009a5e1",
   "metadata": {},
   "outputs": [
    {
     "name": "stderr",
     "output_type": "stream",
     "text": [
      "                                                                                \r"
     ]
    },
    {
     "name": "stdout",
     "output_type": "stream",
     "text": [
      "+------------------+-----------+----------+----------+-------------+------------------+---------------+------------------+-----------------------+-------------------+--------------------+\n",
      "|housing_median_age|total_rooms|population|households|median_income|median_house_value|ocean_proximity|room_per_household|population_in_household|      bedroom_index|  num_feature_vector|\n",
      "+------------------+-----------+----------+----------+-------------+------------------+---------------+------------------+-----------------------+-------------------+--------------------+\n",
      "|               1.0|        6.0|       8.0|       2.0|        1.625|           55000.0|         INLAND|               3.0|                    4.0| 0.3333333333333333|[1.0,6.0,8.0,2.0,...|\n",
      "|               1.0|       83.0|      32.0|      15.0|        4.875|          141700.0|         INLAND| 5.533333333333333|     2.1333333333333333|0.18072289156626506|[1.0,83.0,32.0,15...|\n",
      "|               1.0|     2062.0|     872.0|     268.0|       5.2636|          191300.0|         INLAND|7.6940298507462686|      3.253731343283582|0.16634335596508246|[1.0,2062.0,872.0...|\n",
      "+------------------+-----------+----------+----------+-------------+------------------+---------------+------------------+-----------------------+-------------------+--------------------+\n",
      "only showing top 3 rows\n",
      "\n"
     ]
    },
    {
     "name": "stderr",
     "output_type": "stream",
     "text": [
      "                                                                                \r"
     ]
    },
    {
     "data": {
      "text/plain": [
       "[Row(num_feature_vector=DenseVector([1.0, 6.0, 8.0, 2.0, 1.625, 3.0, 4.0, 0.3333])),\n",
       " Row(num_feature_vector=DenseVector([1.0, 83.0, 32.0, 15.0, 4.875, 5.5333, 2.1333, 0.1807])),\n",
       " Row(num_feature_vector=DenseVector([1.0, 2062.0, 872.0, 268.0, 5.2636, 7.694, 3.2537, 0.1663]))]"
      ]
     },
     "execution_count": 25,
     "metadata": {},
     "output_type": "execute_result"
    }
   ],
   "source": [
    "num_vector_assembler = VectorAssembler(inputCols=num_features,\n",
    "                                             outputCol='num_feature_vector')\n",
    "\n",
    "train_2 = num_vector_assembler.transform(train)\n",
    "test_2 = num_vector_assembler.transform(test)\n",
    "\n",
    "train_2.show(3)\n",
    "train_2.select('num_feature_vector').take(3)"
   ]
  },
  {
   "cell_type": "markdown",
   "id": "a8cf0586",
   "metadata": {},
   "source": [
    "Проведем масштабирование признаков"
   ]
  },
  {
   "cell_type": "code",
   "execution_count": 26,
   "id": "ca360bf7",
   "metadata": {
    "scrolled": true
   },
   "outputs": [
    {
     "name": "stderr",
     "output_type": "stream",
     "text": [
      "                                                                                \r"
     ]
    },
    {
     "name": "stdout",
     "output_type": "stream",
     "text": [
      "+------------------+-----------+----------+----------+-------------+------------------+---------------+------------------+-----------------------+-------------------+--------------------+-------------------------+\n",
      "|housing_median_age|total_rooms|population|households|median_income|median_house_value|ocean_proximity|room_per_household|population_in_household|      bedroom_index|  num_feature_vector|scaled_num_feature_vector|\n",
      "+------------------+-----------+----------+----------+-------------+------------------+---------------+------------------+-----------------------+-------------------+--------------------+-------------------------+\n",
      "|               1.0|        6.0|       8.0|       2.0|        1.625|           55000.0|         INLAND|               3.0|                    4.0| 0.3333333333333333|[1.0,6.0,8.0,2.0,...|     [-2.3485614754644...|\n",
      "|               1.0|       83.0|      32.0|      15.0|        4.875|          141700.0|         INLAND| 5.533333333333333|     2.1333333333333333|0.18072289156626506|[1.0,83.0,32.0,15...|     [-2.3485614754644...|\n",
      "|               1.0|     2062.0|     872.0|     268.0|       5.2636|          191300.0|         INLAND|7.6940298507462686|      3.253731343283582|0.16634335596508246|[1.0,2062.0,872.0...|     [-2.3485614754644...|\n",
      "+------------------+-----------+----------+----------+-------------+------------------+---------------+------------------+-----------------------+-------------------+--------------------+-------------------------+\n",
      "only showing top 3 rows\n",
      "\n"
     ]
    },
    {
     "name": "stderr",
     "output_type": "stream",
     "text": [
      "                                                                                \r"
     ]
    },
    {
     "data": {
      "text/plain": [
       "[Row(num_feature_vector=DenseVector([1.0, 6.0, 8.0, 2.0, 1.625, 3.0, 4.0, 0.3333])),\n",
       " Row(num_feature_vector=DenseVector([1.0, 83.0, 32.0, 15.0, 4.875, 5.5333, 2.1333, 0.1807])),\n",
       " Row(num_feature_vector=DenseVector([1.0, 2062.0, 872.0, 268.0, 5.2636, 7.694, 3.2537, 0.1663]))]"
      ]
     },
     "execution_count": 26,
     "metadata": {},
     "output_type": "execute_result"
    }
   ],
   "source": [
    "scaler = StandardScaler(inputCol='num_feature_vector',\n",
    "                        outputCol='scaled_num_feature_vector',\n",
    "                        withStd=True, withMean=True)\n",
    "\n",
    "scaler = scaler.fit(train_2)\n",
    "\n",
    "train_3 = scaler.transform(train_2)\n",
    "test_3 = scaler.transform(test_2)\n",
    "\n",
    "train_3.show(3)\n",
    "train_3.select('num_feature_vector').take(3)"
   ]
  },
  {
   "cell_type": "markdown",
   "id": "a52b577c",
   "metadata": {},
   "source": [
    "<div class=\"alert alert-success\">\n",
    "<h2> Комментарий ревьюера ✔️ <a class=\"tocSkip\"> </h2>\n",
    "\n",
    "Здорово, что здесь ты ставишь `withMean=True` - так мы реализуем классическую стандатризацию"
   ]
  },
  {
   "cell_type": "code",
   "execution_count": null,
   "id": "1d5983e9",
   "metadata": {},
   "outputs": [],
   "source": []
  },
  {
   "cell_type": "markdown",
   "id": "7a2d35bc",
   "metadata": {},
   "source": [
    "Переведем столбец `ocean_proximity` в численный тип, где каждое число соответствует уникальному значению, т.к. ML не может работать с данными типа строки и выведем, что получилось"
   ]
  },
  {
   "cell_type": "code",
   "execution_count": 27,
   "id": "84ee63b5",
   "metadata": {
    "scrolled": true
   },
   "outputs": [
    {
     "name": "stderr",
     "output_type": "stream",
     "text": [
      "                                                                                \r"
     ]
    },
    {
     "name": "stdout",
     "output_type": "stream",
     "text": [
      "+------------------+-----------+----------+----------+-------------+------------------+---------------+------------------+-----------------------+-------------------+--------------------+-------------------------+--------------------+\n",
      "|housing_median_age|total_rooms|population|households|median_income|median_house_value|ocean_proximity|room_per_household|population_in_household|      bedroom_index|  num_feature_vector|scaled_num_feature_vector|ocean_category_index|\n",
      "+------------------+-----------+----------+----------+-------------+------------------+---------------+------------------+-----------------------+-------------------+--------------------+-------------------------+--------------------+\n",
      "|               1.0|        6.0|       8.0|       2.0|        1.625|           55000.0|         INLAND|               3.0|                    4.0| 0.3333333333333333|[1.0,6.0,8.0,2.0,...|     [-2.3485614754644...|                 1.0|\n",
      "|               1.0|       83.0|      32.0|      15.0|        4.875|          141700.0|         INLAND| 5.533333333333333|     2.1333333333333333|0.18072289156626506|[1.0,83.0,32.0,15...|     [-2.3485614754644...|                 1.0|\n",
      "|               1.0|     2062.0|     872.0|     268.0|       5.2636|          191300.0|         INLAND|7.6940298507462686|      3.253731343283582|0.16634335596508246|[1.0,2062.0,872.0...|     [-2.3485614754644...|                 1.0|\n",
      "+------------------+-----------+----------+----------+-------------+------------------+---------------+------------------+-----------------------+-------------------+--------------------+-------------------------+--------------------+\n",
      "only showing top 3 rows\n",
      "\n"
     ]
    },
    {
     "name": "stderr",
     "output_type": "stream",
     "text": [
      "                                                                                \r"
     ]
    },
    {
     "data": {
      "text/plain": [
       "[Row(ocean_category_index=0.0),\n",
       " Row(ocean_category_index=1.0),\n",
       " Row(ocean_category_index=4.0),\n",
       " Row(ocean_category_index=3.0),\n",
       " Row(ocean_category_index=2.0)]"
      ]
     },
     "execution_count": 27,
     "metadata": {},
     "output_type": "execute_result"
    }
   ],
   "source": [
    "indexer = StringIndexer(inputCol='ocean_proximity',\n",
    "                        outputCol='ocean_category_index')\n",
    "indexer = indexer.fit(train_3)\n",
    "train_4 = indexer.transform(train_3)\n",
    "test_4 = indexer.transform(test_3)\n",
    "\n",
    "train_4.show(3)\n",
    "train_4.select('ocean_category_index').distinct().collect()"
   ]
  },
  {
   "cell_type": "markdown",
   "id": "b1d5a7d2",
   "metadata": {},
   "source": [
    "Проверим тип данных в новом столбце "
   ]
  },
  {
   "cell_type": "code",
   "execution_count": 28,
   "id": "be83353f",
   "metadata": {},
   "outputs": [
    {
     "data": {
      "text/plain": [
       "[('housing_median_age', 'double'),\n",
       " ('total_rooms', 'double'),\n",
       " ('population', 'double'),\n",
       " ('households', 'double'),\n",
       " ('median_income', 'double'),\n",
       " ('median_house_value', 'double'),\n",
       " ('ocean_proximity', 'string'),\n",
       " ('room_per_household', 'double'),\n",
       " ('population_in_household', 'double'),\n",
       " ('bedroom_index', 'double'),\n",
       " ('num_feature_vector', 'vector'),\n",
       " ('scaled_num_feature_vector', 'vector'),\n",
       " ('ocean_category_index', 'double')]"
      ]
     },
     "execution_count": 28,
     "metadata": {},
     "output_type": "execute_result"
    }
   ],
   "source": [
    "train_4.dtypes"
   ]
  },
  {
   "cell_type": "markdown",
   "id": "91792b7c",
   "metadata": {},
   "source": [
    "Закодируем `ocean_category_index` с помощью One-Hot Encoder"
   ]
  },
  {
   "cell_type": "code",
   "execution_count": 29,
   "id": "2723953d",
   "metadata": {},
   "outputs": [
    {
     "name": "stderr",
     "output_type": "stream",
     "text": [
      "[Stage 107:>                                                        (0 + 1) / 1]\r"
     ]
    },
    {
     "name": "stdout",
     "output_type": "stream",
     "text": [
      "+------------------+-----------+----------+----------+-------------+------------------+---------------+------------------+-----------------------+-------------------+--------------------+-------------------------+--------------------+------------------+\n",
      "|housing_median_age|total_rooms|population|households|median_income|median_house_value|ocean_proximity|room_per_household|population_in_household|      bedroom_index|  num_feature_vector|scaled_num_feature_vector|ocean_category_index|ocean_category_ohe|\n",
      "+------------------+-----------+----------+----------+-------------+------------------+---------------+------------------+-----------------------+-------------------+--------------------+-------------------------+--------------------+------------------+\n",
      "|               1.0|        6.0|       8.0|       2.0|        1.625|           55000.0|         INLAND|               3.0|                    4.0| 0.3333333333333333|[1.0,6.0,8.0,2.0,...|     [-2.3485614754644...|                 1.0|     (4,[1],[1.0])|\n",
      "|               1.0|       83.0|      32.0|      15.0|        4.875|          141700.0|         INLAND| 5.533333333333333|     2.1333333333333333|0.18072289156626506|[1.0,83.0,32.0,15...|     [-2.3485614754644...|                 1.0|     (4,[1],[1.0])|\n",
      "|               1.0|     2062.0|     872.0|     268.0|       5.2636|          191300.0|         INLAND|7.6940298507462686|      3.253731343283582|0.16634335596508246|[1.0,2062.0,872.0...|     [-2.3485614754644...|                 1.0|     (4,[1],[1.0])|\n",
      "+------------------+-----------+----------+----------+-------------+------------------+---------------+------------------+-----------------------+-------------------+--------------------+-------------------------+--------------------+------------------+\n",
      "only showing top 3 rows\n",
      "\n"
     ]
    },
    {
     "name": "stderr",
     "output_type": "stream",
     "text": [
      "                                                                                \r"
     ]
    }
   ],
   "source": [
    "ohe = OneHotEncoder(inputCol='ocean_category_index',\n",
    "                                outputCol='ocean_category_ohe')\n",
    "\n",
    "ohe = ohe.fit(train_4)\n",
    "\n",
    "train_5 = ohe.transform(train_4)\n",
    "test_5 = ohe.transform(test_4)\n",
    "\n",
    "train_5.show(3)"
   ]
  },
  {
   "cell_type": "markdown",
   "id": "a137a513",
   "metadata": {},
   "source": [
    "Теперь формируем финальный вектор из строчных и числовых данных, которые уже закодированы и масштабированы."
   ]
  },
  {
   "cell_type": "code",
   "execution_count": 30,
   "id": "69ec7d8e",
   "metadata": {},
   "outputs": [
    {
     "name": "stderr",
     "output_type": "stream",
     "text": [
      "                                                                                \r"
     ]
    },
    {
     "name": "stdout",
     "output_type": "stream",
     "text": [
      "+------------------+-----------+----------+----------+-------------+------------------+---------------+------------------+-----------------------+-------------------+--------------------+-------------------------+--------------------+------------------+--------------------+\n",
      "|housing_median_age|total_rooms|population|households|median_income|median_house_value|ocean_proximity|room_per_household|population_in_household|      bedroom_index|  num_feature_vector|scaled_num_feature_vector|ocean_category_index|ocean_category_ohe|final_feature_vector|\n",
      "+------------------+-----------+----------+----------+-------------+------------------+---------------+------------------+-----------------------+-------------------+--------------------+-------------------------+--------------------+------------------+--------------------+\n",
      "|               1.0|        6.0|       8.0|       2.0|        1.625|           55000.0|         INLAND|               3.0|                    4.0| 0.3333333333333333|[1.0,6.0,8.0,2.0,...|     [-2.3485614754644...|                 1.0|     (4,[1],[1.0])|[-2.3485614754644...|\n",
      "|               1.0|       83.0|      32.0|      15.0|        4.875|          141700.0|         INLAND| 5.533333333333333|     2.1333333333333333|0.18072289156626506|[1.0,83.0,32.0,15...|     [-2.3485614754644...|                 1.0|     (4,[1],[1.0])|[-2.3485614754644...|\n",
      "|               1.0|     2062.0|     872.0|     268.0|       5.2636|          191300.0|         INLAND|7.6940298507462686|      3.253731343283582|0.16634335596508246|[1.0,2062.0,872.0...|     [-2.3485614754644...|                 1.0|     (4,[1],[1.0])|[-2.3485614754644...|\n",
      "+------------------+-----------+----------+----------+-------------+------------------+---------------+------------------+-----------------------+-------------------+--------------------+-------------------------+--------------------+------------------+--------------------+\n",
      "only showing top 3 rows\n",
      "\n"
     ]
    },
    {
     "name": "stderr",
     "output_type": "stream",
     "text": [
      "                                                                                \r"
     ]
    },
    {
     "data": {
      "text/plain": [
       "[Row(final_feature_vector=DenseVector([-2.3486, -2.0199, -2.0648, -2.1336, -1.3479, -0.9942, 0.9629, 1.9913, 0.0, 1.0, 0.0, 0.0])),\n",
       " Row(final_feature_vector=DenseVector([-2.3486, -1.9448, -2.0211, -2.0638, 0.8215, 0.0772, -0.7396, -0.5753, 0.0, 1.0, 0.0, 0.0])),\n",
       " Row(final_feature_vector=DenseVector([-2.3486, -0.0147, -0.4911, -0.7055, 1.0809, 0.9909, 0.2823, -0.8172, 0.0, 1.0, 0.0, 0.0]))]"
      ]
     },
     "execution_count": 30,
     "metadata": {},
     "output_type": "execute_result"
    }
   ],
   "source": [
    "final_assembler = VectorAssembler(inputCols=['scaled_num_feature_vector',\n",
    "                                       'ocean_category_ohe'],\n",
    "                            outputCol='final_feature_vector')\n",
    "\n",
    "train_6 = final_assembler.transform(train_5)\n",
    "test_6 = final_assembler.transform(test_5)\n",
    "\n",
    "train_6.show(3)\n",
    "train_6.select('final_feature_vector').take(3)"
   ]
  },
  {
   "cell_type": "markdown",
   "id": "673fcd3b",
   "metadata": {},
   "source": [
    "<div class=\"alert alert-success\">\n",
    "<h2> Комментарий ревьюера ✔️ <a class=\"tocSkip\"> </h2>\n",
    "\n",
    "Преобразования я бы рекомендовал в данном случае собрать в общий пайплайн обработки данных, информацию о которой можно найти в [официальной документации](https://spark.apache.org/docs/latest/ml-pipeline.html)"
   ]
  },
  {
   "cell_type": "markdown",
   "id": "fb6b6acd",
   "metadata": {},
   "source": [
    "### Обучение модели"
   ]
  },
  {
   "cell_type": "markdown",
   "id": "c7df752c",
   "metadata": {},
   "source": [
    "Обучать модель с помощью будем с помощью Linear Regression, где параметры будут подбираться с помощи кросс-валидации."
   ]
  },
  {
   "cell_type": "code",
   "execution_count": 31,
   "id": "c4f0eb27",
   "metadata": {},
   "outputs": [
    {
     "data": {
      "text/plain": [
       "LinearRegression_4c9f91e62612"
      ]
     },
     "execution_count": 31,
     "metadata": {},
     "output_type": "execute_result"
    }
   ],
   "source": [
    "lr = LinearRegression(featuresCol='final_feature_vector',\n",
    "                      labelCol='median_house_value')\n",
    "lr"
   ]
  },
  {
   "cell_type": "code",
   "execution_count": 32,
   "id": "b03c9dc6",
   "metadata": {},
   "outputs": [
    {
     "name": "stderr",
     "output_type": "stream",
     "text": [
      "23/08/23 11:09:14 WARN InstanceBuilder: Failed to load implementation from:dev.ludovic.netlib.blas.JNIBLAS\n",
      "23/08/23 11:09:14 WARN InstanceBuilder: Failed to load implementation from:dev.ludovic.netlib.lapack.JNILAPACK\n",
      "[Stage 1371:>                                                       (0 + 1) / 1]\r"
     ]
    },
    {
     "name": "stdout",
     "output_type": "stream",
     "text": [
      "CPU times: user 15 s, sys: 4.81 s, total: 19.8 s\n",
      "Wall time: 5min 9s\n"
     ]
    },
    {
     "name": "stderr",
     "output_type": "stream",
     "text": [
      "                                                                                \r"
     ]
    }
   ],
   "source": [
    "%%time\n",
    "\n",
    "grid_search = ParamGridBuilder()\\\n",
    "    .addGrid(lr.regParam, [0.1, 0.01]) \\\n",
    "    .addGrid(lr.fitIntercept, [False, True])\\\n",
    "    .addGrid(lr.elasticNetParam, [0.0, 0.5, 1.0])\\\n",
    "    .addGrid(lr.maxIter, [10, 20, 50, 100, 200, 500, 1000])\\\n",
    "    .build()\n",
    "\n",
    "evaluator = RegressionEvaluator(labelCol='median_house_value')\n",
    "cv = CrossValidator(estimator=lr, estimatorParamMaps=grid_search, evaluator=evaluator, numFolds=5)\n",
    "\n",
    "cvModel = cv.fit(train_6)"
   ]
  },
  {
   "cell_type": "markdown",
   "id": "849a355c",
   "metadata": {},
   "source": [
    "<div class=\"alert alert-success\">\n",
    "<h2> Комментарий ревьюера ✔️ <a class=\"tocSkip\"> </h2>\n",
    "\n",
    "Шик 👏"
   ]
  },
  {
   "cell_type": "markdown",
   "id": "1f8ea4f0",
   "metadata": {},
   "source": [
    "Вывод гиперпараметров лучшей модели"
   ]
  },
  {
   "cell_type": "code",
   "execution_count": 33,
   "id": "a1b94bc9",
   "metadata": {
    "scrolled": true
   },
   "outputs": [
    {
     "data": {
      "text/plain": [
       "{Param(parent='LinearRegression_4c9f91e62612', name='aggregationDepth', doc='suggested depth for treeAggregate (>= 2).'): 2,\n",
       " Param(parent='LinearRegression_4c9f91e62612', name='elasticNetParam', doc='the ElasticNet mixing parameter, in range [0, 1]. For alpha = 0, the penalty is an L2 penalty. For alpha = 1, it is an L1 penalty.'): 0.0,\n",
       " Param(parent='LinearRegression_4c9f91e62612', name='epsilon', doc='The shape parameter to control the amount of robustness. Must be > 1.0. Only valid when loss is huber'): 1.35,\n",
       " Param(parent='LinearRegression_4c9f91e62612', name='featuresCol', doc='features column name.'): 'final_feature_vector',\n",
       " Param(parent='LinearRegression_4c9f91e62612', name='fitIntercept', doc='whether to fit an intercept term.'): True,\n",
       " Param(parent='LinearRegression_4c9f91e62612', name='labelCol', doc='label column name.'): 'median_house_value',\n",
       " Param(parent='LinearRegression_4c9f91e62612', name='loss', doc='The loss function to be optimized. Supported options: squaredError, huber.'): 'squaredError',\n",
       " Param(parent='LinearRegression_4c9f91e62612', name='maxBlockSizeInMB', doc='maximum memory in MB for stacking input data into blocks. Data is stacked within partitions. If more than remaining data size in a partition then it is adjusted to the data size. Default 0.0 represents choosing optimal value, depends on specific algorithm. Must be >= 0.'): 0.0,\n",
       " Param(parent='LinearRegression_4c9f91e62612', name='maxIter', doc='max number of iterations (>= 0).'): 10,\n",
       " Param(parent='LinearRegression_4c9f91e62612', name='predictionCol', doc='prediction column name.'): 'prediction',\n",
       " Param(parent='LinearRegression_4c9f91e62612', name='regParam', doc='regularization parameter (>= 0).'): 0.1,\n",
       " Param(parent='LinearRegression_4c9f91e62612', name='solver', doc='The solver algorithm for optimization. Supported options: auto, normal, l-bfgs.'): 'auto',\n",
       " Param(parent='LinearRegression_4c9f91e62612', name='standardization', doc='whether to standardize the training features before fitting the model.'): True,\n",
       " Param(parent='LinearRegression_4c9f91e62612', name='tol', doc='the convergence tolerance for iterative algorithms (>= 0).'): 1e-06}"
      ]
     },
     "execution_count": 33,
     "metadata": {},
     "output_type": "execute_result"
    }
   ],
   "source": [
    "cvModel.bestModel.extractParamMap()"
   ]
  },
  {
   "cell_type": "markdown",
   "id": "3a16d4fa",
   "metadata": {},
   "source": [
    "Добавление результатов предсказаний в обучающие и тестовые данных с их выводом на экран"
   ]
  },
  {
   "cell_type": "code",
   "execution_count": 34,
   "id": "55a3f1ec",
   "metadata": {},
   "outputs": [
    {
     "name": "stderr",
     "output_type": "stream",
     "text": [
      "                                                                                \r"
     ]
    },
    {
     "data": {
      "text/html": [
       "<div>\n",
       "<style scoped>\n",
       "    .dataframe tbody tr th:only-of-type {\n",
       "        vertical-align: middle;\n",
       "    }\n",
       "\n",
       "    .dataframe tbody tr th {\n",
       "        vertical-align: top;\n",
       "    }\n",
       "\n",
       "    .dataframe thead th {\n",
       "        text-align: right;\n",
       "    }\n",
       "</style>\n",
       "<table border=\"1\" class=\"dataframe\">\n",
       "  <thead>\n",
       "    <tr style=\"text-align: right;\">\n",
       "      <th></th>\n",
       "      <th>housing_median_age</th>\n",
       "      <th>total_rooms</th>\n",
       "      <th>population</th>\n",
       "      <th>households</th>\n",
       "      <th>median_income</th>\n",
       "      <th>median_house_value</th>\n",
       "      <th>ocean_proximity</th>\n",
       "      <th>room_per_household</th>\n",
       "      <th>population_in_household</th>\n",
       "      <th>bedroom_index</th>\n",
       "      <th>num_feature_vector</th>\n",
       "      <th>scaled_num_feature_vector</th>\n",
       "      <th>ocean_category_index</th>\n",
       "      <th>ocean_category_ohe</th>\n",
       "      <th>final_feature_vector</th>\n",
       "      <th>predicted_median_house_value</th>\n",
       "    </tr>\n",
       "  </thead>\n",
       "  <tbody>\n",
       "    <tr>\n",
       "      <th>0</th>\n",
       "      <td>1.0</td>\n",
       "      <td>6.0</td>\n",
       "      <td>8.0</td>\n",
       "      <td>2.0</td>\n",
       "      <td>1.6250</td>\n",
       "      <td>55000.0</td>\n",
       "      <td>INLAND</td>\n",
       "      <td>3.000000</td>\n",
       "      <td>4.000000</td>\n",
       "      <td>0.333333</td>\n",
       "      <td>[1.0, 6.0, 8.0, 2.0, 1.625, 3.0, 4.0, 0.333333...</td>\n",
       "      <td>[-2.3485614754644453, -2.0199100425164644, -2....</td>\n",
       "      <td>1.0</td>\n",
       "      <td>(0.0, 1.0, 0.0, 0.0)</td>\n",
       "      <td>[-2.3485614754644453, -2.0199100425164644, -2....</td>\n",
       "      <td>38463.128195</td>\n",
       "    </tr>\n",
       "    <tr>\n",
       "      <th>1</th>\n",
       "      <td>1.0</td>\n",
       "      <td>83.0</td>\n",
       "      <td>32.0</td>\n",
       "      <td>15.0</td>\n",
       "      <td>4.8750</td>\n",
       "      <td>141700.0</td>\n",
       "      <td>INLAND</td>\n",
       "      <td>5.533333</td>\n",
       "      <td>2.133333</td>\n",
       "      <td>0.180723</td>\n",
       "      <td>[1.0, 83.0, 32.0, 15.0, 4.875, 5.5333333333333...</td>\n",
       "      <td>[-2.3485614754644453, -1.9448117383592753, -2....</td>\n",
       "      <td>1.0</td>\n",
       "      <td>(0.0, 1.0, 0.0, 0.0)</td>\n",
       "      <td>[-2.3485614754644453, -1.9448117383592753, -2....</td>\n",
       "      <td>157623.954019</td>\n",
       "    </tr>\n",
       "    <tr>\n",
       "      <th>2</th>\n",
       "      <td>1.0</td>\n",
       "      <td>2062.0</td>\n",
       "      <td>872.0</td>\n",
       "      <td>268.0</td>\n",
       "      <td>5.2636</td>\n",
       "      <td>191300.0</td>\n",
       "      <td>INLAND</td>\n",
       "      <td>7.694030</td>\n",
       "      <td>3.253731</td>\n",
       "      <td>0.166343</td>\n",
       "      <td>[1.0, 2062.0, 872.0, 268.0, 5.2636, 7.69402985...</td>\n",
       "      <td>[-2.3485614754644453, -0.014687791254373894, -...</td>\n",
       "      <td>1.0</td>\n",
       "      <td>(0.0, 1.0, 0.0, 0.0)</td>\n",
       "      <td>[-2.3485614754644453, -0.014687791254373894, -...</td>\n",
       "      <td>172091.932678</td>\n",
       "    </tr>\n",
       "    <tr>\n",
       "      <th>3</th>\n",
       "      <td>1.0</td>\n",
       "      <td>2254.0</td>\n",
       "      <td>402.0</td>\n",
       "      <td>112.0</td>\n",
       "      <td>4.2500</td>\n",
       "      <td>189200.0</td>\n",
       "      <td>INLAND</td>\n",
       "      <td>20.125000</td>\n",
       "      <td>3.589286</td>\n",
       "      <td>0.145519</td>\n",
       "      <td>[1.0, 2254.0, 402.0, 112.0, 4.25, 20.125, 3.58...</td>\n",
       "      <td>[-2.3485614754644453, 0.17257031781290305, -1....</td>\n",
       "      <td>1.0</td>\n",
       "      <td>(0.0, 1.0, 0.0, 0.0)</td>\n",
       "      <td>[-2.3485614754644453, 0.17257031781290305, -1....</td>\n",
       "      <td>147280.410304</td>\n",
       "    </tr>\n",
       "    <tr>\n",
       "      <th>4</th>\n",
       "      <td>2.0</td>\n",
       "      <td>96.0</td>\n",
       "      <td>30.0</td>\n",
       "      <td>16.0</td>\n",
       "      <td>5.3374</td>\n",
       "      <td>47500.0</td>\n",
       "      <td>INLAND</td>\n",
       "      <td>6.000000</td>\n",
       "      <td>1.875000</td>\n",
       "      <td>0.187500</td>\n",
       "      <td>[2.0, 96.0, 30.0, 16.0, 5.3374, 6.0, 1.875, 0....</td>\n",
       "      <td>[-2.267156598543786, -1.9321328038911785, -2.0...</td>\n",
       "      <td>1.0</td>\n",
       "      <td>(0.0, 1.0, 0.0, 0.0)</td>\n",
       "      <td>[-2.267156598543786, -1.9321328038911785, -2.0...</td>\n",
       "      <td>183670.684606</td>\n",
       "    </tr>\n",
       "  </tbody>\n",
       "</table>\n",
       "</div>"
      ],
      "text/plain": [
       "   housing_median_age  total_rooms  population  households  median_income  median_house_value ocean_proximity  room_per_household  population_in_household  bedroom_index                                                                               num_feature_vector                                                                                                                                                scaled_num_feature_vector  ocean_category_index    ocean_category_ohe                                                                                                                                                                         final_feature_vector  predicted_median_house_value\n",
       "0                 1.0          6.0         8.0         2.0         1.6250             55000.0          INLAND            3.000000                 4.000000       0.333333                                        [1.0, 6.0, 8.0, 2.0, 1.625, 3.0, 4.0, 0.3333333333333333]    [-2.3485614754644453, -2.0199100425164644, -2.064777607571272, -2.1335950185847277, -1.3478525596949047, -0.9942154063140204, 0.9629273638945394, 1.9913323475437912]                   1.0  (0.0, 1.0, 0.0, 0.0)    [-2.3485614754644453, -2.0199100425164644, -2.064777607571272, -2.1335950185847277, -1.3478525596949047, -0.9942154063140204, 0.9629273638945394, 1.9913323475437912, 0.0, 1.0, 0.0, 0.0]                  38463.128195\n",
       "1                 1.0         83.0        32.0        15.0         4.8750            141700.0          INLAND            5.533333                 2.133333       0.180723       [1.0, 83.0, 32.0, 15.0, 4.875, 5.533333333333333, 2.1333333333333333, 0.18072289156626506]    [-2.3485614754644453, -1.9448117383592753, -2.021065070631307, -2.0638008215438193, 0.821501001035154, 0.07716278108230246, -0.7395754731646897, -0.5753468782572356]                   1.0  (0.0, 1.0, 0.0, 0.0)    [-2.3485614754644453, -1.9448117383592753, -2.021065070631307, -2.0638008215438193, 0.821501001035154, 0.07716278108230246, -0.7395754731646897, -0.5753468782572356, 0.0, 1.0, 0.0, 0.0]                 157623.954019\n",
       "2                 1.0       2062.0       872.0       268.0         5.2636            191300.0          INLAND            7.694030                 3.253731       0.166343  [1.0, 2062.0, 872.0, 268.0, 5.2636, 7.6940298507462686, 3.253731343283582, 0.16634335596508246]  [-2.3485614754644453, -0.014687791254373894, -0.4911262777325505, -0.7054983714399852, 1.080888937558139, 0.9909482225320727, 0.28228923607235296, -0.8171891459085829]                   1.0  (0.0, 1.0, 0.0, 0.0)  [-2.3485614754644453, -0.014687791254373894, -0.4911262777325505, -0.7054983714399852, 1.080888937558139, 0.9909482225320727, 0.28228923607235296, -0.8171891459085829, 0.0, 1.0, 0.0, 0.0]                 172091.932678\n",
       "3                 1.0       2254.0       402.0       112.0         4.2500            189200.0          INLAND           20.125000                 3.589286       0.145519               [1.0, 2254.0, 402.0, 112.0, 4.25, 20.125, 3.5892857142857144, 0.14551907719609583]    [-2.3485614754644453, 0.17257031781290305, -1.3471634594735216, -1.5430287359308867, 0.40431762397168114, 6.248160169670991, 0.5883333085466862, -1.1674223481047195]                   1.0  (0.0, 1.0, 0.0, 0.0)    [-2.3485614754644453, 0.17257031781290305, -1.3471634594735216, -1.5430287359308867, 0.40431762397168114, 6.248160169670991, 0.5883333085466862, -1.1674223481047195, 0.0, 1.0, 0.0, 0.0]                 147280.410304\n",
       "4                 2.0         96.0        30.0        16.0         5.3374             47500.0          INLAND            6.000000                 1.875000       0.187500                                              [2.0, 96.0, 30.0, 16.0, 5.3374, 6.0, 1.875, 0.1875]    [-2.267156598543786, -1.9321328038911785, -2.024707782042971, -2.0584320371560567, 1.1301499507217934, 0.27452192086583566, -0.9751897050791367, -0.4613660573746242]                   1.0  (0.0, 1.0, 0.0, 0.0)    [-2.267156598543786, -1.9321328038911785, -2.024707782042971, -2.0584320371560567, 1.1301499507217934, 0.27452192086583566, -0.9751897050791367, -0.4613660573746242, 0.0, 1.0, 0.0, 0.0]                 183670.684606"
      ]
     },
     "execution_count": 34,
     "metadata": {},
     "output_type": "execute_result"
    }
   ],
   "source": [
    "pred_train = cvModel.transform(train_6).withColumnRenamed('prediction',\n",
    "                                                      'predicted_median_house_value')\n",
    "\n",
    "pred_train.pandas_api().head()"
   ]
  },
  {
   "cell_type": "code",
   "execution_count": 35,
   "id": "db454162",
   "metadata": {
    "scrolled": false
   },
   "outputs": [
    {
     "name": "stderr",
     "output_type": "stream",
     "text": [
      "                                                                                \r"
     ]
    },
    {
     "data": {
      "text/html": [
       "<div>\n",
       "<style scoped>\n",
       "    .dataframe tbody tr th:only-of-type {\n",
       "        vertical-align: middle;\n",
       "    }\n",
       "\n",
       "    .dataframe tbody tr th {\n",
       "        vertical-align: top;\n",
       "    }\n",
       "\n",
       "    .dataframe thead th {\n",
       "        text-align: right;\n",
       "    }\n",
       "</style>\n",
       "<table border=\"1\" class=\"dataframe\">\n",
       "  <thead>\n",
       "    <tr style=\"text-align: right;\">\n",
       "      <th></th>\n",
       "      <th>housing_median_age</th>\n",
       "      <th>total_rooms</th>\n",
       "      <th>population</th>\n",
       "      <th>households</th>\n",
       "      <th>median_income</th>\n",
       "      <th>median_house_value</th>\n",
       "      <th>ocean_proximity</th>\n",
       "      <th>room_per_household</th>\n",
       "      <th>population_in_household</th>\n",
       "      <th>bedroom_index</th>\n",
       "      <th>num_feature_vector</th>\n",
       "      <th>scaled_num_feature_vector</th>\n",
       "      <th>ocean_category_index</th>\n",
       "      <th>ocean_category_ohe</th>\n",
       "      <th>final_feature_vector</th>\n",
       "      <th>predicted_median_house_value</th>\n",
       "    </tr>\n",
       "  </thead>\n",
       "  <tbody>\n",
       "    <tr>\n",
       "      <th>0</th>\n",
       "      <td>2.0</td>\n",
       "      <td>227.0</td>\n",
       "      <td>114.0</td>\n",
       "      <td>49.0</td>\n",
       "      <td>3.1591</td>\n",
       "      <td>434700.0</td>\n",
       "      <td>&lt;1H OCEAN</td>\n",
       "      <td>4.632653</td>\n",
       "      <td>2.326531</td>\n",
       "      <td>0.154185</td>\n",
       "      <td>[2.0, 227.0, 114.0, 49.0, 3.1591, 4.6326530612...</td>\n",
       "      <td>[-2.267156598543786, -1.8043681565588177, -1.8...</td>\n",
       "      <td>0.0</td>\n",
       "      <td>(1.0, 0.0, 0.0, 0.0)</td>\n",
       "      <td>[-2.267156598543786, -1.8043681565588177, -1.8...</td>\n",
       "      <td>132825.650942</td>\n",
       "    </tr>\n",
       "    <tr>\n",
       "      <th>1</th>\n",
       "      <td>2.0</td>\n",
       "      <td>2530.0</td>\n",
       "      <td>1066.0</td>\n",
       "      <td>510.0</td>\n",
       "      <td>4.6336</td>\n",
       "      <td>187500.0</td>\n",
       "      <td>&lt;1H OCEAN</td>\n",
       "      <td>4.960784</td>\n",
       "      <td>2.090196</td>\n",
       "      <td>0.222134</td>\n",
       "      <td>[2.0, 2530.0, 1066.0, 510.0, 4.6336, 4.9607843...</td>\n",
       "      <td>[-2.267156598543786, 0.44175384959711367, -0.1...</td>\n",
       "      <td>0.0</td>\n",
       "      <td>(1.0, 0.0, 0.0, 0.0)</td>\n",
       "      <td>[-2.267156598543786, 0.44175384959711367, -0.1...</td>\n",
       "      <td>261735.027807</td>\n",
       "    </tr>\n",
       "    <tr>\n",
       "      <th>2</th>\n",
       "      <td>2.0</td>\n",
       "      <td>2569.0</td>\n",
       "      <td>1232.0</td>\n",
       "      <td>388.0</td>\n",
       "      <td>4.3651</td>\n",
       "      <td>145600.0</td>\n",
       "      <td>&lt;1H OCEAN</td>\n",
       "      <td>6.621134</td>\n",
       "      <td>3.175258</td>\n",
       "      <td>0.167770</td>\n",
       "      <td>[2.0, 2569.0, 1232.0, 388.0, 4.3651, 6.6211340...</td>\n",
       "      <td>[-2.267156598543786, 0.4797906530014043, 0.164...</td>\n",
       "      <td>0.0</td>\n",
       "      <td>(1.0, 0.0, 0.0, 0.0)</td>\n",
       "      <td>[-2.267156598543786, 0.4797906530014043, 0.164...</td>\n",
       "      <td>191604.208366</td>\n",
       "    </tr>\n",
       "    <tr>\n",
       "      <th>3</th>\n",
       "      <td>2.0</td>\n",
       "      <td>2701.0</td>\n",
       "      <td>1368.0</td>\n",
       "      <td>430.0</td>\n",
       "      <td>4.0710</td>\n",
       "      <td>137400.0</td>\n",
       "      <td>INLAND</td>\n",
       "      <td>6.281395</td>\n",
       "      <td>3.181395</td>\n",
       "      <td>0.196224</td>\n",
       "      <td>[2.0, 2701.0, 1368.0, 430.0, 4.071, 6.28139534...</td>\n",
       "      <td>[-2.267156598543786, 0.6085306029851572, 0.412...</td>\n",
       "      <td>1.0</td>\n",
       "      <td>(0.0, 1.0, 0.0, 0.0)</td>\n",
       "      <td>[-2.267156598543786, 0.6085306029851572, 0.412...</td>\n",
       "      <td>123817.228834</td>\n",
       "    </tr>\n",
       "    <tr>\n",
       "      <th>4</th>\n",
       "      <td>2.0</td>\n",
       "      <td>4953.0</td>\n",
       "      <td>1791.0</td>\n",
       "      <td>562.0</td>\n",
       "      <td>5.0346</td>\n",
       "      <td>205100.0</td>\n",
       "      <td>INLAND</td>\n",
       "      <td>8.813167</td>\n",
       "      <td>3.186833</td>\n",
       "      <td>0.148395</td>\n",
       "      <td>[2.0, 4953.0, 1791.0, 562.0, 5.0346, 8.8131672...</td>\n",
       "      <td>[-2.267156598543786, 2.804912173920093, 1.1826...</td>\n",
       "      <td>1.0</td>\n",
       "      <td>(0.0, 1.0, 0.0, 0.0)</td>\n",
       "      <td>[-2.267156598543786, 2.804912173920093, 1.1826...</td>\n",
       "      <td>156177.159075</td>\n",
       "    </tr>\n",
       "  </tbody>\n",
       "</table>\n",
       "</div>"
      ],
      "text/plain": [
       "   housing_median_age  total_rooms  population  households  median_income  median_house_value ocean_proximity  room_per_household  population_in_household  bedroom_index                                                                                num_feature_vector                                                                                                                                                 scaled_num_feature_vector  ocean_category_index    ocean_category_ohe                                                                                                                                                                          final_feature_vector  predicted_median_house_value\n",
       "0                 2.0        227.0       114.0        49.0         3.1591            434700.0       <1H OCEAN            4.632653                 2.326531       0.154185       [2.0, 227.0, 114.0, 49.0, 3.1591, 4.63265306122449, 2.326530612244898, 0.15418502202643172]  [-2.267156598543786, -1.8043681565588177, -1.8717139027530953, -1.8812621523599047, -0.3238509296899868, -0.30374611261069734, -0.5633689113116209, -1.0216741259620281]                   0.0  (1.0, 0.0, 0.0, 0.0)  [-2.267156598543786, -1.8043681565588177, -1.8717139027530953, -1.8812621523599047, -0.3238509296899868, -0.30374611261069734, -0.5633689113116209, -1.0216741259620281, 1.0, 0.0, 0.0, 0.0]                 132825.650942\n",
       "1                 2.0       2530.0      1066.0       510.0         4.6336            187500.0       <1H OCEAN            4.960784                 2.090196       0.222134   [2.0, 2530.0, 1066.0, 510.0, 4.6336, 4.96078431372549, 2.0901960784313727, 0.22213438735177865]      [-2.267156598543786, 0.44175384959711367, -0.137783270801171, 0.5937474503984645, 0.6603680934781585, -0.1649753231899314, -0.7789190261219407, 0.12113250225760927]                   0.0  (1.0, 0.0, 0.0, 0.0)      [-2.267156598543786, 0.44175384959711367, -0.137783270801171, 0.5937474503984645, 0.6603680934781585, -0.1649753231899314, -0.7789190261219407, 0.12113250225760927, 1.0, 0.0, 0.0, 0.0]                 261735.027807\n",
       "2                 2.0       2569.0      1232.0       388.0         4.3651            145600.0       <1H OCEAN            6.621134                 3.175258       0.167770  [2.0, 2569.0, 1232.0, 388.0, 4.3651, 6.621134020618556, 3.1752577319587627, 0.16776956014013233]     [-2.267156598543786, 0.4797906530014043, 0.16456177636691663, -0.06124424490852249, 0.4811461146916903, 0.5372072265791905, 0.21071697933228775, -0.7932025262155579]                   0.0  (1.0, 0.0, 0.0, 0.0)     [-2.267156598543786, 0.4797906530014043, 0.16456177636691663, -0.06124424490852249, 0.4811461146916903, 0.5372072265791905, 0.21071697933228775, -0.7932025262155579, 1.0, 0.0, 0.0, 0.0]                 191604.208366\n",
       "3                 2.0       2701.0      1368.0       430.0         4.0710            137400.0          INLAND            6.281395                 3.181395       0.196224     [2.0, 2701.0, 1368.0, 430.0, 4.071, 6.28139534883721, 3.181395348837209, 0.19622362088115514]      [-2.267156598543786, 0.6085306029851572, 0.41226615236004865, 0.16424469937748945, 0.2848363047807024, 0.3935275151206905, 0.21631482405461144, -0.3146478103781292]                   1.0  (0.0, 1.0, 0.0, 0.0)      [-2.267156598543786, 0.6085306029851572, 0.41226615236004865, 0.16424469937748945, 0.2848363047807024, 0.3935275151206905, 0.21631482405461144, -0.3146478103781292, 0.0, 1.0, 0.0, 0.0]                 123817.228834\n",
       "4                 2.0       4953.0      1791.0       562.0         5.0346            205100.0          INLAND            8.813167                 3.186833       0.148395  [2.0, 4953.0, 1791.0, 562.0, 5.0346, 8.813167259786477, 3.1868327402135233, 0.14839491217443973]         [-2.267156598543786, 2.804912173920093, 1.1826996159269225, 0.8729242385620984, 0.9280329482020825, 1.4642453575629604, 0.22127402454267014, -1.1190551078931126]                   1.0  (0.0, 1.0, 0.0, 0.0)         [-2.267156598543786, 2.804912173920093, 1.1826996159269225, 0.8729242385620984, 0.9280329482020825, 1.4642453575629604, 0.22127402454267014, -1.1190551078931126, 0.0, 1.0, 0.0, 0.0]                 156177.159075"
      ]
     },
     "execution_count": 35,
     "metadata": {},
     "output_type": "execute_result"
    }
   ],
   "source": [
    "pred_test = cvModel.transform(test_6).withColumnRenamed('prediction',\n",
    "                                                      'predicted_median_house_value')\n",
    "\n",
    "pred_test.pandas_api().head()"
   ]
  },
  {
   "cell_type": "markdown",
   "id": "75e73fa3",
   "metadata": {},
   "source": [
    "Качество модели линейной регрессии"
   ]
  },
  {
   "cell_type": "code",
   "execution_count": 36,
   "id": "74b508d0",
   "metadata": {},
   "outputs": [
    {
     "name": "stderr",
     "output_type": "stream",
     "text": [
      "[Stage 1376:>                                                       (0 + 1) / 1]\r"
     ]
    },
    {
     "name": "stdout",
     "output_type": "stream",
     "text": [
      "\n",
      "Mean Squared Error:      4475868146.580891\n",
      "Root Mean Squared Error: 66901.92931882376\n",
      "Mean Absolute Error:     48621.88575514976\n",
      "R**2:                    0.6108679141539375\n",
      "\n"
     ]
    },
    {
     "name": "stderr",
     "output_type": "stream",
     "text": [
      "                                                                                \r"
     ]
    }
   ],
   "source": [
    "predictions_and_actuals = pred_test[['predicted_median_house_value',\n",
    "                                        'median_house_value']]\n",
    "predictions_and_actuals_rdd = predictions_and_actuals.rdd\n",
    "predictions_and_actuals_rdd.take(5)\n",
    "# print(type(predictions_and_actuals_rdd))\n",
    "# predictions_and_actuals_rdd = predictions_and_actuals_rdd.map(tuple)\n",
    "# print(type(predictions_and_actuals_rdd))\n",
    "# predictions_and_actuals_rdd.take(2)\n",
    "\n",
    "metrics = RegressionMetrics(predictions_and_actuals_rdd)\n",
    "\n",
    "# s = f'''\n",
    "# Root Mean Squared Error: {metrics.rootMeanSquaredError}\n",
    "# Mean Absolute Error:     {metrics.meanAbsoluteError}\n",
    "# R**2:                    {metrics.r2}\n",
    "# '''\n",
    "\n",
    "s = '''\n",
    "Mean Squared Error:      {0}\n",
    "Root Mean Squared Error: {1}\n",
    "Mean Absolute Error:     {2}\n",
    "R**2:                    {3}\n",
    "'''.format(metrics.meanSquaredError,\n",
    "           metrics.rootMeanSquaredError,\n",
    "           metrics.meanAbsoluteError,\n",
    "           metrics.r2\n",
    "           )\n",
    "\n",
    "\n",
    "print(s)"
   ]
  },
  {
   "cell_type": "markdown",
   "id": "9585210e",
   "metadata": {},
   "source": [
    "Результаты метрик показали, что модель ML в целом удовлетворительная, об этом говорит показатель r^2 = 0.6108679141539375 > 0.5"
   ]
  },
  {
   "cell_type": "markdown",
   "id": "757fd103",
   "metadata": {
    "id": "757fd103"
   },
   "source": [
    "## Анализ результатов"
   ]
  },
  {
   "cell_type": "markdown",
   "id": "e04bb88f",
   "metadata": {},
   "source": [
    "В данной работе обучена модель линейной регрессии на данных о жилье в Калифорнии в 1990 году.\n",
    "\n",
    "На этапе исследования\n",
    "- считаны данные\n",
    "- преобразованы все столбцы, кроме `ocean_proximity`, в тип double\n",
    "- заполнены пустые значения в столбце `total_bedrooms` по медианным значениям, полученных в результате группировки данных по выше упомянутому столбцу\n",
    "- в результате группировки также удалось провести проверку на дубликаты в столбце `ocean_proximity`, по итогу дубликаты не обнаружены\n",
    "- были обнаружены выбросы в данных, в результате чего удалены строки с ними по \"правилу 3 сигм\"\n",
    "- удалены строки, где спален больше, чем общее количество комнат\n",
    "- добавлены 3 новых столбца `room_per_household`, `population_in_household`, `bedroom_index` как отношения, соответственно: \\\n",
    "    1) количества комнат `total_rooms` к количеству домовладений `households`  \n",
    "    2) количества жителей `population` к количеству домовладений `households` \\\n",
    "    3) количества спален `total_bedrooms` к общему количеству комнат `total_rooms`   \n",
    "- исследованы данные на корреляцию, обнаружена очень сильная взаимозависимость у столбцов `total_bedrooms` и `households` - 0.961712, удалён столбец `total_bedrooms`\n",
    "- удалены столбцы долготы и широты (`longitude`, `latitude`) из-за наличия данных о близости к океану - `ocean_proximity`\n",
    "\n",
    "Следующий этап заключался в подготовке данных для обучения модели линейной регрессии\n",
    "- Данные разбиты на обучающие и тестовые в соотношении 3:1\n",
    "- Числовые признаки преобразованы в вектора, поскольку pyspark mlib работает только с ними - `num_feature_vector`\n",
    "- Эти же признаки масштабированы для корректного машинного обучения - `scaled_num_feature_vector`\n",
    "- столбец `ocean_proximity` преобразован в численный тип, где каждое число соответствует уникальному значению - `ocean_category_index`\n",
    "- этот же столбец закодирован с помощью One-Hot Encoder - `ocean_category_ohe`\n",
    "- сформирован конечный вектор путём объединения двух векторов `scaled_num_feature_vector`, `ocean_category_ohe` - `final_feature_vector`, который позволил обучить модель Linear Regression\n",
    "\n",
    "Заключительный этап заключался, собственно, в обучении модели и исследования её качества. \n",
    "- Обучение происходило с помощью кросс-валидации для подбора гиперпараметров лучшей модели\n",
    "- Добавился столбец с предсказаниями\n",
    "- Исследование модели путем соотношения ответов и предсказаний с помощью RMSE, MAE и R^2 показало удовлетворительный результат (R^2 ≈ 0.61 > 0.5)"
   ]
  },
  {
   "cell_type": "markdown",
   "id": "047e8cc7",
   "metadata": {},
   "source": [
    "<div class=\"alert alert-danger\">\n",
    "<h2> Комментарий ревьюера ❌ <a class=\"tocSkip\"> </h2>\n",
    "\n",
    "Общий вывод все же написать стоит"
   ]
  },
  {
   "cell_type": "markdown",
   "id": "6bd0934c",
   "metadata": {},
   "source": [
    "<div class=\"alert alert-info\">\n",
    "    \n",
    "<b>Комментарий v.2:</b> Я это и планировал сделать:) Но после устранения ошибки, связанной с невыводом результаов метрики.\n",
    "</div>"
   ]
  },
  {
   "cell_type": "markdown",
   "id": "b3c657b1",
   "metadata": {},
   "source": [
    "<div style=\"border:solid purple 5px; padding: 20px\"> \n",
    "<h2 align=\"center\"> Рубрика «Питонячий лайфхакер» <a class=\"tocSkip\"> </h2>\n",
    "\n",
    "<h3> Регулярный выражения <a class=\"tocSkip\"> </h3>\n",
    "\n",
    "Пару полезных ссылок про regex:\n",
    "\n",
    "- Статья на [pythonru.com](https://pythonru.com/primery/primery-primeneniya-regulyarnyh-vyrazheniy-v-python) довольно неплохо расписаны примеры\n",
    "- Шикарная статья на [habr.com](https://habr.com/ru/post/349860/), с подробным объяснением\n",
    "- Сайт [regex101.com](https://regex101.com/). В нем можно создавать и проверять регулярные выражения, очень удобно\n",
    "\n",
    "![](https://i.ibb.co/93Rj47w/156231978012113891.jpg)"
   ]
  }
 ],
 "metadata": {
  "ExecuteTimeLog": [
   {
    "duration": 519,
    "start_time": "2023-08-15T17:31:35.730Z"
   },
   {
    "duration": 15961,
    "start_time": "2023-08-15T17:32:06.771Z"
   },
   {
    "duration": 455,
    "start_time": "2023-08-16T09:06:06.763Z"
   },
   {
    "duration": 15847,
    "start_time": "2023-08-16T09:06:10.144Z"
   },
   {
    "duration": 10055,
    "start_time": "2023-08-16T09:06:47.722Z"
   },
   {
    "duration": 3,
    "start_time": "2023-08-16T09:07:39.916Z"
   },
   {
    "duration": 1252,
    "start_time": "2023-08-16T09:33:13.569Z"
   },
   {
    "duration": 868,
    "start_time": "2023-08-16T09:33:24.004Z"
   },
   {
    "duration": 1574,
    "start_time": "2023-08-16T09:38:02.290Z"
   },
   {
    "duration": 693,
    "start_time": "2023-08-16T09:38:49.063Z"
   },
   {
    "duration": 9,
    "start_time": "2023-08-16T11:53:03.678Z"
   },
   {
    "duration": 6165,
    "start_time": "2023-08-16T11:53:19.229Z"
   },
   {
    "duration": 8,
    "start_time": "2023-08-16T11:55:15.598Z"
   },
   {
    "duration": 19,
    "start_time": "2023-08-16T11:55:21.854Z"
   },
   {
    "duration": 4,
    "start_time": "2023-08-16T11:55:49.606Z"
   },
   {
    "duration": 4018,
    "start_time": "2023-08-16T12:03:31.878Z"
   },
   {
    "duration": 456,
    "start_time": "2023-08-16T12:04:52.339Z"
   },
   {
    "duration": 3121,
    "start_time": "2023-08-16T12:09:23.686Z"
   },
   {
    "duration": 44,
    "start_time": "2023-08-16T13:52:15.177Z"
   },
   {
    "duration": 19,
    "start_time": "2023-08-16T13:52:44.763Z"
   },
   {
    "duration": 4399,
    "start_time": "2023-08-16T13:53:00.171Z"
   },
   {
    "duration": 541,
    "start_time": "2023-08-16T13:56:25.609Z"
   },
   {
    "duration": 532,
    "start_time": "2023-08-16T13:56:47.229Z"
   },
   {
    "duration": 406,
    "start_time": "2023-08-16T13:57:02.263Z"
   },
   {
    "duration": 454,
    "start_time": "2023-08-16T19:45:08.347Z"
   },
   {
    "duration": 15510,
    "start_time": "2023-08-16T19:45:08.803Z"
   },
   {
    "duration": 9865,
    "start_time": "2023-08-16T19:45:24.315Z"
   },
   {
    "duration": 6727,
    "start_time": "2023-08-16T19:45:34.183Z"
   },
   {
    "duration": 1070,
    "start_time": "2023-08-16T19:45:40.912Z"
   },
   {
    "duration": 2536,
    "start_time": "2023-08-16T19:45:41.983Z"
   },
   {
    "duration": 494,
    "start_time": "2023-08-16T19:49:37.570Z"
   },
   {
    "duration": 358,
    "start_time": "2023-08-16T19:49:56.080Z"
   },
   {
    "duration": 365,
    "start_time": "2023-08-16T20:01:04.224Z"
   },
   {
    "duration": 390,
    "start_time": "2023-08-16T20:02:11.825Z"
   },
   {
    "duration": 412,
    "start_time": "2023-08-16T20:02:24.680Z"
   },
   {
    "duration": 1199,
    "start_time": "2023-08-16T20:02:55.913Z"
   },
   {
    "duration": 1391,
    "start_time": "2023-08-16T20:03:02.744Z"
   },
   {
    "duration": 513,
    "start_time": "2023-08-16T20:03:10.986Z"
   },
   {
    "duration": 265,
    "start_time": "2023-08-16T20:03:26.436Z"
   },
   {
    "duration": 334,
    "start_time": "2023-08-16T20:03:39.058Z"
   },
   {
    "duration": 257,
    "start_time": "2023-08-16T20:04:11.368Z"
   },
   {
    "duration": 354,
    "start_time": "2023-08-16T20:04:36.173Z"
   },
   {
    "duration": 258,
    "start_time": "2023-08-16T20:04:49.362Z"
   },
   {
    "duration": 106,
    "start_time": "2023-08-16T20:05:38.624Z"
   },
   {
    "duration": 100,
    "start_time": "2023-08-16T20:05:43.626Z"
   },
   {
    "duration": 124,
    "start_time": "2023-08-16T20:07:18.294Z"
   },
   {
    "duration": 116,
    "start_time": "2023-08-16T20:08:15.688Z"
   },
   {
    "duration": 297,
    "start_time": "2023-08-16T20:09:02.091Z"
   },
   {
    "duration": 113,
    "start_time": "2023-08-16T20:14:27.864Z"
   },
   {
    "duration": 310,
    "start_time": "2023-08-16T20:15:04.394Z"
   },
   {
    "duration": 2451,
    "start_time": "2023-08-16T20:15:26.650Z"
   },
   {
    "duration": 345,
    "start_time": "2023-08-16T20:16:12.671Z"
   },
   {
    "duration": 2014,
    "start_time": "2023-08-16T20:17:23.358Z"
   },
   {
    "duration": 305,
    "start_time": "2023-08-16T20:18:20.912Z"
   },
   {
    "duration": 5,
    "start_time": "2023-08-16T20:53:50.361Z"
   },
   {
    "duration": 451,
    "start_time": "2023-08-17T19:10:29.592Z"
   },
   {
    "duration": 16250,
    "start_time": "2023-08-17T19:10:30.045Z"
   },
   {
    "duration": 11016,
    "start_time": "2023-08-17T19:10:46.297Z"
   },
   {
    "duration": 7144,
    "start_time": "2023-08-17T19:10:57.316Z"
   },
   {
    "duration": 1049,
    "start_time": "2023-08-17T19:11:04.462Z"
   },
   {
    "duration": 785,
    "start_time": "2023-08-17T19:11:05.514Z"
   },
   {
    "duration": 4,
    "start_time": "2023-08-17T19:11:06.301Z"
   },
   {
    "duration": 75,
    "start_time": "2023-08-17T19:17:11.963Z"
   },
   {
    "duration": 3424,
    "start_time": "2023-08-17T19:17:48.699Z"
   },
   {
    "duration": 13,
    "start_time": "2023-08-17T19:18:13.082Z"
   },
   {
    "duration": 3536,
    "start_time": "2023-08-17T19:19:08.813Z"
   },
   {
    "duration": 10,
    "start_time": "2023-08-17T19:19:18.202Z"
   },
   {
    "duration": 2311,
    "start_time": "2023-08-17T19:19:24.330Z"
   },
   {
    "duration": 13,
    "start_time": "2023-08-17T19:19:33.019Z"
   },
   {
    "duration": 8,
    "start_time": "2023-08-17T19:21:23.761Z"
   },
   {
    "duration": 10,
    "start_time": "2023-08-17T19:22:03.392Z"
   },
   {
    "duration": 73,
    "start_time": "2023-08-17T19:22:37.674Z"
   },
   {
    "duration": 2448,
    "start_time": "2023-08-17T19:22:45.801Z"
   },
   {
    "duration": 2405,
    "start_time": "2023-08-17T19:22:55.488Z"
   },
   {
    "duration": 1977,
    "start_time": "2023-08-17T19:23:18.041Z"
   },
   {
    "duration": 2452,
    "start_time": "2023-08-17T19:23:31.312Z"
   },
   {
    "duration": 74,
    "start_time": "2023-08-17T19:23:57.513Z"
   },
   {
    "duration": 11,
    "start_time": "2023-08-17T19:24:05.476Z"
   },
   {
    "duration": 10,
    "start_time": "2023-08-17T19:24:33.039Z"
   },
   {
    "duration": 4,
    "start_time": "2023-08-17T19:25:00.216Z"
   },
   {
    "duration": 318,
    "start_time": "2023-08-17T19:25:13.528Z"
   },
   {
    "duration": 16272,
    "start_time": "2023-08-17T19:25:13.848Z"
   },
   {
    "duration": 12086,
    "start_time": "2023-08-17T19:25:30.123Z"
   },
   {
    "duration": 7738,
    "start_time": "2023-08-17T19:25:42.211Z"
   },
   {
    "duration": 1127,
    "start_time": "2023-08-17T19:25:49.997Z"
   },
   {
    "duration": 112,
    "start_time": "2023-08-17T19:25:51.126Z"
   },
   {
    "duration": 0,
    "start_time": "2023-08-17T19:25:51.240Z"
   },
   {
    "duration": 0,
    "start_time": "2023-08-17T19:25:51.242Z"
   },
   {
    "duration": 0,
    "start_time": "2023-08-17T19:25:51.243Z"
   },
   {
    "duration": 0,
    "start_time": "2023-08-17T19:25:51.245Z"
   },
   {
    "duration": 0,
    "start_time": "2023-08-17T19:25:51.247Z"
   },
   {
    "duration": 0,
    "start_time": "2023-08-17T19:25:51.248Z"
   },
   {
    "duration": 0,
    "start_time": "2023-08-17T19:25:51.249Z"
   },
   {
    "duration": 819,
    "start_time": "2023-08-17T19:26:09.216Z"
   },
   {
    "duration": 5,
    "start_time": "2023-08-17T19:26:15.191Z"
   },
   {
    "duration": 2272,
    "start_time": "2023-08-17T19:26:17.192Z"
   },
   {
    "duration": 11,
    "start_time": "2023-08-17T19:26:20.831Z"
   },
   {
    "duration": 2159,
    "start_time": "2023-08-17T19:26:22.807Z"
   },
   {
    "duration": 10,
    "start_time": "2023-08-17T19:26:27.258Z"
   },
   {
    "duration": 2226,
    "start_time": "2023-08-17T19:26:31.256Z"
   },
   {
    "duration": 11,
    "start_time": "2023-08-17T19:26:33.523Z"
   },
   {
    "duration": 42134,
    "start_time": "2023-08-17T19:27:19.899Z"
   },
   {
    "duration": 67,
    "start_time": "2023-08-17T19:28:18.178Z"
   },
   {
    "duration": 13,
    "start_time": "2023-08-17T19:28:36.761Z"
   },
   {
    "duration": 13,
    "start_time": "2023-08-17T19:29:51.249Z"
   },
   {
    "duration": 4,
    "start_time": "2023-08-17T19:34:25.603Z"
   },
   {
    "duration": 4,
    "start_time": "2023-08-17T20:59:51.773Z"
   },
   {
    "duration": 14,
    "start_time": "2023-08-17T21:13:03.276Z"
   },
   {
    "duration": 10,
    "start_time": "2023-08-17T21:13:51.697Z"
   },
   {
    "duration": 3,
    "start_time": "2023-08-17T21:14:06.403Z"
   },
   {
    "duration": 8,
    "start_time": "2023-08-17T21:14:28.978Z"
   },
   {
    "duration": 82,
    "start_time": "2023-08-17T21:14:58.081Z"
   },
   {
    "duration": 937,
    "start_time": "2023-08-17T21:15:12.339Z"
   },
   {
    "duration": 2484,
    "start_time": "2023-08-17T21:16:09.794Z"
   },
   {
    "duration": 10,
    "start_time": "2023-08-17T21:16:51.184Z"
   },
   {
    "duration": 8,
    "start_time": "2023-08-17T21:16:59.459Z"
   },
   {
    "duration": 3,
    "start_time": "2023-08-17T21:17:18.659Z"
   },
   {
    "duration": 4,
    "start_time": "2023-08-17T21:17:45.250Z"
   },
   {
    "duration": 3,
    "start_time": "2023-08-17T21:18:01.578Z"
   },
   {
    "duration": 3,
    "start_time": "2023-08-23T08:57:03.238Z"
   },
   {
    "duration": 2,
    "start_time": "2023-08-23T08:57:03.827Z"
   },
   {
    "duration": 284,
    "start_time": "2023-08-23T08:57:04.456Z"
   },
   {
    "duration": 4428,
    "start_time": "2023-08-23T08:57:11.041Z"
   },
   {
    "duration": 45662,
    "start_time": "2023-08-23T08:57:17.936Z"
   },
   {
    "duration": 299,
    "start_time": "2023-08-23T08:58:08.350Z"
   },
   {
    "duration": 11,
    "start_time": "2023-08-23T08:58:51.357Z"
   },
   {
    "duration": 4,
    "start_time": "2023-08-23T08:59:23.904Z"
   },
   {
    "duration": 2619,
    "start_time": "2023-08-23T08:59:23.911Z"
   },
   {
    "duration": 1029,
    "start_time": "2023-08-23T08:59:26.532Z"
   },
   {
    "duration": 14872,
    "start_time": "2023-08-23T08:59:27.564Z"
   },
   {
    "duration": 2944,
    "start_time": "2023-08-23T08:59:42.439Z"
   },
   {
    "duration": 0,
    "start_time": "2023-08-23T08:59:45.411Z"
   },
   {
    "duration": 0,
    "start_time": "2023-08-23T08:59:45.412Z"
   },
   {
    "duration": 0,
    "start_time": "2023-08-23T08:59:45.414Z"
   },
   {
    "duration": 0,
    "start_time": "2023-08-23T08:59:45.415Z"
   },
   {
    "duration": 0,
    "start_time": "2023-08-23T08:59:45.417Z"
   },
   {
    "duration": 0,
    "start_time": "2023-08-23T08:59:45.419Z"
   },
   {
    "duration": 0,
    "start_time": "2023-08-23T08:59:45.421Z"
   },
   {
    "duration": 0,
    "start_time": "2023-08-23T08:59:45.423Z"
   },
   {
    "duration": 0,
    "start_time": "2023-08-23T08:59:45.424Z"
   },
   {
    "duration": 0,
    "start_time": "2023-08-23T08:59:45.426Z"
   },
   {
    "duration": 0,
    "start_time": "2023-08-23T08:59:45.427Z"
   },
   {
    "duration": 0,
    "start_time": "2023-08-23T08:59:45.428Z"
   },
   {
    "duration": 0,
    "start_time": "2023-08-23T08:59:45.429Z"
   },
   {
    "duration": 0,
    "start_time": "2023-08-23T08:59:45.430Z"
   },
   {
    "duration": 0,
    "start_time": "2023-08-23T08:59:45.431Z"
   },
   {
    "duration": 0,
    "start_time": "2023-08-23T08:59:45.433Z"
   },
   {
    "duration": 0,
    "start_time": "2023-08-23T08:59:45.434Z"
   },
   {
    "duration": 0,
    "start_time": "2023-08-23T08:59:45.435Z"
   },
   {
    "duration": 0,
    "start_time": "2023-08-23T08:59:45.437Z"
   },
   {
    "duration": 1,
    "start_time": "2023-08-23T08:59:45.438Z"
   },
   {
    "duration": 0,
    "start_time": "2023-08-23T08:59:45.440Z"
   },
   {
    "duration": 0,
    "start_time": "2023-08-23T08:59:45.441Z"
   },
   {
    "duration": 0,
    "start_time": "2023-08-23T08:59:45.442Z"
   },
   {
    "duration": 0,
    "start_time": "2023-08-23T08:59:45.444Z"
   },
   {
    "duration": 0,
    "start_time": "2023-08-23T08:59:45.445Z"
   },
   {
    "duration": 0,
    "start_time": "2023-08-23T08:59:45.446Z"
   },
   {
    "duration": 1,
    "start_time": "2023-08-23T08:59:45.447Z"
   },
   {
    "duration": 0,
    "start_time": "2023-08-23T08:59:45.510Z"
   },
   {
    "duration": 0,
    "start_time": "2023-08-23T08:59:45.511Z"
   },
   {
    "duration": 0,
    "start_time": "2023-08-23T08:59:45.512Z"
   },
   {
    "duration": 0,
    "start_time": "2023-08-23T08:59:45.513Z"
   },
   {
    "duration": 0,
    "start_time": "2023-08-23T08:59:45.515Z"
   },
   {
    "duration": 9070,
    "start_time": "2023-08-23T09:00:33.060Z"
   },
   {
    "duration": 633,
    "start_time": "2023-08-23T09:01:34.477Z"
   },
   {
    "duration": 3211,
    "start_time": "2023-08-23T09:01:35.112Z"
   },
   {
    "duration": 1897,
    "start_time": "2023-08-23T09:01:38.326Z"
   },
   {
    "duration": 4603,
    "start_time": "2023-08-23T09:01:40.225Z"
   },
   {
    "duration": 408,
    "start_time": "2023-08-23T09:01:44.831Z"
   },
   {
    "duration": 6006,
    "start_time": "2023-08-23T09:01:45.242Z"
   },
   {
    "duration": 6,
    "start_time": "2023-08-23T09:01:51.249Z"
   },
   {
    "duration": 10,
    "start_time": "2023-08-23T09:01:51.256Z"
   },
   {
    "duration": 2733,
    "start_time": "2023-08-23T09:01:51.267Z"
   },
   {
    "duration": 8,
    "start_time": "2023-08-23T09:01:54.002Z"
   },
   {
    "duration": 11437,
    "start_time": "2023-08-23T09:01:54.012Z"
   },
   {
    "duration": 71,
    "start_time": "2023-08-23T09:02:05.451Z"
   },
   {
    "duration": 3136,
    "start_time": "2023-08-23T09:02:05.524Z"
   },
   {
    "duration": 2361,
    "start_time": "2023-08-23T09:02:08.662Z"
   },
   {
    "duration": 704,
    "start_time": "2023-08-23T09:02:11.025Z"
   },
   {
    "duration": 7792,
    "start_time": "2023-08-23T09:02:11.731Z"
   },
   {
    "duration": 628,
    "start_time": "2023-08-23T09:02:19.525Z"
   },
   {
    "duration": 4395,
    "start_time": "2023-08-23T09:02:20.155Z"
   },
   {
    "duration": 7,
    "start_time": "2023-08-23T09:02:24.610Z"
   },
   {
    "duration": 2933,
    "start_time": "2023-08-23T09:02:24.618Z"
   },
   {
    "duration": 4112,
    "start_time": "2023-08-23T09:02:27.553Z"
   },
   {
    "duration": 4652,
    "start_time": "2023-08-23T09:02:31.667Z"
   },
   {
    "duration": 7,
    "start_time": "2023-08-23T09:02:36.322Z"
   },
   {
    "duration": 1416,
    "start_time": "2023-08-23T09:02:36.330Z"
   },
   {
    "duration": 2214,
    "start_time": "2023-08-23T09:02:37.748Z"
   },
   {
    "duration": 97,
    "start_time": "2023-08-23T09:02:39.963Z"
   },
   {
    "duration": 167,
    "start_time": "2023-08-23T09:02:40.062Z"
   },
   {
    "duration": 9,
    "start_time": "2023-08-23T09:02:40.231Z"
   },
   {
    "duration": 0,
    "start_time": "2023-08-23T09:02:40.242Z"
   },
   {
    "duration": 0,
    "start_time": "2023-08-23T09:02:40.243Z"
   },
   {
    "duration": 0,
    "start_time": "2023-08-23T09:02:40.244Z"
   },
   {
    "duration": 0,
    "start_time": "2023-08-23T09:02:40.245Z"
   },
   {
    "duration": 224513,
    "start_time": "2023-08-23T09:09:05.802Z"
   },
   {
    "duration": 13,
    "start_time": "2023-08-23T09:12:50.317Z"
   },
   {
    "duration": 1352,
    "start_time": "2023-08-23T09:12:50.332Z"
   },
   {
    "duration": 1333,
    "start_time": "2023-08-23T09:12:51.686Z"
   },
   {
    "duration": 5819,
    "start_time": "2023-08-23T09:12:53.021Z"
   },
   {
    "duration": 5,
    "start_time": "2023-08-23T09:28:09.119Z"
   },
   {
    "duration": 4,
    "start_time": "2023-08-23T11:06:57.891Z"
   },
   {
    "duration": 3688,
    "start_time": "2023-08-23T11:06:57.897Z"
   },
   {
    "duration": 1059,
    "start_time": "2023-08-23T11:07:01.589Z"
   },
   {
    "duration": 17538,
    "start_time": "2023-08-23T11:07:02.650Z"
   },
   {
    "duration": 15187,
    "start_time": "2023-08-23T11:07:20.193Z"
   },
   {
    "duration": 668,
    "start_time": "2023-08-23T11:07:35.382Z"
   },
   {
    "duration": 4385,
    "start_time": "2023-08-23T11:07:36.054Z"
   },
   {
    "duration": 2391,
    "start_time": "2023-08-23T11:07:40.441Z"
   },
   {
    "duration": 7149,
    "start_time": "2023-08-23T11:07:42.833Z"
   },
   {
    "duration": 660,
    "start_time": "2023-08-23T11:07:49.984Z"
   },
   {
    "duration": 7604,
    "start_time": "2023-08-23T11:07:50.650Z"
   },
   {
    "duration": 5,
    "start_time": "2023-08-23T11:07:58.255Z"
   },
   {
    "duration": 10,
    "start_time": "2023-08-23T11:07:58.264Z"
   },
   {
    "duration": 4915,
    "start_time": "2023-08-23T11:07:58.275Z"
   },
   {
    "duration": 5,
    "start_time": "2023-08-23T11:08:03.192Z"
   },
   {
    "duration": 14198,
    "start_time": "2023-08-23T11:08:03.200Z"
   },
   {
    "duration": 26,
    "start_time": "2023-08-23T11:08:17.425Z"
   },
   {
    "duration": 3730,
    "start_time": "2023-08-23T11:08:17.453Z"
   },
   {
    "duration": 3095,
    "start_time": "2023-08-23T11:08:21.184Z"
   },
   {
    "duration": 953,
    "start_time": "2023-08-23T11:08:24.281Z"
   },
   {
    "duration": 9461,
    "start_time": "2023-08-23T11:08:25.236Z"
   },
   {
    "duration": 935,
    "start_time": "2023-08-23T11:08:34.727Z"
   },
   {
    "duration": 7979,
    "start_time": "2023-08-23T11:08:35.664Z"
   },
   {
    "duration": 16,
    "start_time": "2023-08-23T11:08:43.645Z"
   },
   {
    "duration": 5596,
    "start_time": "2023-08-23T11:08:43.666Z"
   },
   {
    "duration": 6092,
    "start_time": "2023-08-23T11:08:49.279Z"
   },
   {
    "duration": 7781,
    "start_time": "2023-08-23T11:08:55.375Z"
   },
   {
    "duration": 14,
    "start_time": "2023-08-23T11:09:03.160Z"
   },
   {
    "duration": 1879,
    "start_time": "2023-08-23T11:09:03.180Z"
   },
   {
    "duration": 3720,
    "start_time": "2023-08-23T11:09:05.061Z"
   },
   {
    "duration": 93,
    "start_time": "2023-08-23T11:09:08.782Z"
   },
   {
    "duration": 309908,
    "start_time": "2023-08-23T11:09:08.876Z"
   },
   {
    "duration": 34,
    "start_time": "2023-08-23T11:14:18.789Z"
   },
   {
    "duration": 1975,
    "start_time": "2023-08-23T11:14:18.827Z"
   },
   {
    "duration": 2137,
    "start_time": "2023-08-23T11:14:20.806Z"
   },
   {
    "duration": 5619,
    "start_time": "2023-08-23T11:14:22.950Z"
   }
  ],
  "colab": {
   "name": "PySparkSprint.ipynb",
   "provenance": []
  },
  "kernelspec": {
   "display_name": "Python 3 (ipykernel)",
   "language": "python",
   "name": "python3"
  },
  "language_info": {
   "codemirror_mode": {
    "name": "ipython",
    "version": 3
   },
   "file_extension": ".py",
   "mimetype": "text/x-python",
   "name": "python",
   "nbconvert_exporter": "python",
   "pygments_lexer": "ipython3",
   "version": "3.9.5"
  },
  "toc": {
   "base_numbering": 1,
   "nav_menu": {},
   "number_sections": true,
   "sideBar": true,
   "skip_h1_title": true,
   "title_cell": "Table of Contents",
   "title_sidebar": "Contents",
   "toc_cell": false,
   "toc_position": {},
   "toc_section_display": true,
   "toc_window_display": false
  }
 },
 "nbformat": 4,
 "nbformat_minor": 5
}
