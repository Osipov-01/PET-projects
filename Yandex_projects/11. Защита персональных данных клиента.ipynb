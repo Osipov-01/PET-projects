{
 "cells": [
  {
   "cell_type": "markdown",
   "metadata": {},
   "source": [
    "<div class=\"alert alert-info\">\n",
    "\n",
    "<b>Привет!👋</b>\n",
    "\n",
    "Меня зовут Тарас Лаврив, я буду проверять твой проект. У нас, в Яндекс практикуме, принято обращение на \"ты\"😏, но если тебе комфортнее обращаться на Вы, напиши об этом, пожалуйста. Я с удовольствием ерейду на \"Вы\". \n",
    "\n",
    "Я помогу тебе с учёбой для будущего успешного поиска работы. Вместе мы оптимизируем твой код и оптимально решим задачи!\n",
    "Пожалуйста, не удаляй мои комментарии, они будут особенно полезны для нашей работы в случае повторной проверки проекта. \n",
    "\n",
    "Будет здорово, если ты будешь отвечать на мои комментарии своими, выделяя их цветами или так, как тебе понравится, но так, чтобы их можно было отличить от моих комментариев. Это нужно, чтобы не создавалась путаница😉\n",
    "\n",
    "Ты увидишь мои комментарии, обозначенные <font color='green'>зеленым</font>, <font color='gold'>желтым</font> и <font color='red'>красным</font> цветами, например:\n",
    "\n",
    "<br/>\n",
    "\n",
    "<div class=\"alert alert-success\">\n",
    "<h2> Комментарий ревьюера <a class=\"tocSkip\"> </h2>\n",
    "\n",
    "<b>Все отлично!👍:</b> В случае, если решение на отдельном шаге является полностью правильным.\n",
    "</div>\n",
    "\n",
    "<br/>\n",
    "\n",
    "<div class=\"alert alert-warning\">\n",
    "    <h2> Комментарий ревьюера <a class=\"tocSkip\"> </h2>\n",
    "    \n",
    "<b>Некоторые замечания и рекомендации💡:</b> В случае, когда решение на отдельном шаге станет еще лучше, если внести небольшие коррективы.\n",
    "</div>\n",
    "\n",
    "\n",
    "<br/>\n",
    "<div class=\"alert alert-block alert-danger\">\n",
    "<h2> Комментарий ревьюера <a class=\"tocSkip\"></h2>\n",
    "\n",
    "    \n",
    "<b>На доработку🤔:</b>\n",
    " В случае, когда решение на отдельном шаге требует существенной переработки и внесения правок. Напоминаю, что проект не может быть принят с первого раза, если ревью содержит комментарии, рекомендующие доработать шаги.\n",
    "</div>\n",
    "    \n",
    "Если в решении будут какие-то неточности, в первый раз я только укажу на их наличие и дам тебе возможность самостоятельно найти и исправить их. В реальной работе твои более опытные товарищи будут поступать также, и я хочу подготовить тебя именно к работе. Но если ты пока не справишься с такой задачей - при следующей проверке я дам более точную подсказку!🤓\n",
    "\n",
    "Мы все очень ценим время и усилия друг-друга, поэтому я постараюсь давать максимально эффективные комментарии и заботливо подойти к твоей работе.\n",
    "</div>"
   ]
  },
  {
   "cell_type": "markdown",
   "metadata": {},
   "source": [
    "# Cодержание\n",
    "- [Загрузка данных](#Загрузка-данных)\n",
    "- [Умножение матриц](#Умножение-матриц)\n",
    "- [Алгоритм преобразования](#Алгоритм-преобразования)\n",
    "- [Проверка алгоритма](#Проверка-алгоритма)\n",
    "- [Чек-лист проверки](#Чек-лист-проверки)\n"
   ]
  },
  {
   "cell_type": "markdown",
   "metadata": {
    "toc": true
   },
   "source": [
    "<h1>Содержание<span class=\"tocSkip\"></span></h1>\n",
    "<div class=\"toc\"><ul class=\"toc-item\"><li><span><a href=\"#Загрузка-данных\" data-toc-modified-id=\"Загрузка-данных-1\"><span class=\"toc-item-num\">1&nbsp;&nbsp;</span>Загрузка данных</a></span></li><li><span><a href=\"#Умножение-матриц\" data-toc-modified-id=\"Умножение-матриц-2\"><span class=\"toc-item-num\">2&nbsp;&nbsp;</span>Умножение матриц</a></span></li><li><span><a href=\"#Алгоритм-преобразования\" data-toc-modified-id=\"Алгоритм-преобразования-3\"><span class=\"toc-item-num\">3&nbsp;&nbsp;</span>Алгоритм преобразования</a></span></li><li><span><a href=\"#Проверка-алгоритма\" data-toc-modified-id=\"Проверка-алгоритма-4\"><span class=\"toc-item-num\">4&nbsp;&nbsp;</span>Проверка алгоритма</a></span></li><li><span><a href=\"#Чек-лист-проверки\" data-toc-modified-id=\"Чек-лист-проверки-5\"><span class=\"toc-item-num\">5&nbsp;&nbsp;</span>Чек-лист проверки</a></span></li></ul></div>"
   ]
  },
  {
   "cell_type": "markdown",
   "metadata": {},
   "source": [
    "<div class=\"alert alert-info\">\n",
    "    <h1>Комментарий</h1>\n",
    "    Доброго времени суток, Тарас! Объясни, пожалуйста, как делать Table of Contents (ToC)? Самое верхнее содержание я сделал руками, но при наличии бОльших пунктов, это становится накладно...\n",
    "    \n",
    "    \n",
    "    P.s. Долго не отправлял вторую версию проекта, т.к. был в дороге, где не было доступа к ноутбуку.\n",
    "</div>"
   ]
  },
  {
   "cell_type": "markdown",
   "metadata": {},
   "source": [
    "<div class=\"alert alert-info\">\n",
    "<h2>V2 Комментарий ревьюера <a class=\"tocSkip\"> </h2>\n",
    "\n",
    "Доброго, Иван!    \n",
    "\n",
    "Cвои комментарии в этой итерации я буду отмечать таким образом."
   ]
  },
  {
   "cell_type": "markdown",
   "metadata": {},
   "source": [
    "<div class=\"alert alert-info\">\n",
    "<h2>V2 Комментарий ревьюера <a class=\"tocSkip\"> </h2>\n",
    "\n",
    "Здесь ToC генерируется автоматически.\n",
    "    \n",
    "Если хочешь настроить его в своих проектах можешь почитать [эти](https://linuxhint.com/add-table-contents-jupyter-notebook/) [статьи](https://saturncloud.io/blog/how-to-add-a-table-of-contents-to-a-jupyterjupyterlab-notebook/)"
   ]
  },
  {
   "cell_type": "markdown",
   "metadata": {},
   "source": [
    "# Защита персональных данных клиентов"
   ]
  },
  {
   "cell_type": "markdown",
   "metadata": {},
   "source": [
    "Вам нужно защитить данные клиентов страховой компании «Хоть потоп». Разработайте такой метод преобразования данных, чтобы по ним было сложно восстановить персональную информацию. Обоснуйте корректность его работы.\n",
    "\n",
    "Нужно защитить данные, чтобы при преобразовании качество моделей машинного обучения не ухудшилось. Подбирать наилучшую модель не требуется."
   ]
  },
  {
   "cell_type": "markdown",
   "metadata": {},
   "source": [
    "## Загрузка данных"
   ]
  },
  {
   "cell_type": "markdown",
   "metadata": {},
   "source": [
    "Импорт необходимых библиотек"
   ]
  },
  {
   "cell_type": "markdown",
   "metadata": {},
   "source": [
    "<div class=\"alert alert-success\">\n",
    "<h2> Комментарий ревьюера <a class=\"tocSkip\"> </h2>\n",
    "\n",
    "<b>Все отлично!👍:</b> \n",
    "\n",
    "Все импорты, собраны в одном месте отлично!"
   ]
  },
  {
   "cell_type": "code",
   "execution_count": 1,
   "metadata": {},
   "outputs": [],
   "source": [
    "import pandas as pd\n",
    "import numpy as np\n",
    "import matplotlib.pyplot as plt\n",
    "from sklearn.model_selection import train_test_split\n",
    "from sklearn.metrics import r2_score\n",
    "\n",
    "STATE = np.random.RandomState(12345)"
   ]
  },
  {
   "cell_type": "markdown",
   "metadata": {},
   "source": [
    "Прочитаем и изучим данные"
   ]
  },
  {
   "cell_type": "code",
   "execution_count": 2,
   "metadata": {},
   "outputs": [
    {
     "name": "stdout",
     "output_type": "stream",
     "text": [
      "<class 'pandas.core.frame.DataFrame'>\n",
      "RangeIndex: 5000 entries, 0 to 4999\n",
      "Data columns (total 5 columns):\n",
      " #   Column             Non-Null Count  Dtype  \n",
      "---  ------             --------------  -----  \n",
      " 0   Пол                5000 non-null   int64  \n",
      " 1   Возраст            5000 non-null   float64\n",
      " 2   Зарплата           5000 non-null   float64\n",
      " 3   Члены семьи        5000 non-null   int64  \n",
      " 4   Страховые выплаты  5000 non-null   int64  \n",
      "dtypes: float64(2), int64(3)\n",
      "memory usage: 195.4 KB\n"
     ]
    },
    {
     "data": {
      "text/plain": [
       "None"
      ]
     },
     "metadata": {},
     "output_type": "display_data"
    }
   ],
   "source": [
    "try:\n",
    "    insurance_data = pd.read_csv('/datasets/insurance.csv')\n",
    "except:\n",
    "    insurance_data = pd.read_csv('https://code.s3.yandex.net/datasets/insurance.csv')\n",
    "\n",
    "display(insurance_data.info())"
   ]
  },
  {
   "cell_type": "markdown",
   "metadata": {},
   "source": [
    "<div class=\"alert alert-warning\">\n",
    "    <h2> Комментарий ревьюера <a class=\"tocSkip\"> </h2>\n",
    "    \n",
    "<b>Некоторые замечания и рекомендации💡:</b> \n",
    "        \n",
    "Для загрузки данных можно использовать try-except. Это поможет избежать ошибок в случае, если данные пропали, или повреждены. \n",
    "        \n",
    "Для полной безопасности данных можно добавить вариант загрузки из облака.\n",
    "    \n",
    "'https://code.s3.yandex.net/datasets/insurance.csv'"
   ]
  },
  {
   "cell_type": "markdown",
   "metadata": {},
   "source": [
    "<div class=\"alert alert-success\">\n",
    "<h2>V2 Комментарий ревьюера <a class=\"tocSkip\"> </h2>\n",
    "\n",
    "<b>Все отлично!👍:</b> \n",
    "\n",
    "Молодец, теперь данные точно загрузятся!"
   ]
  },
  {
   "cell_type": "code",
   "execution_count": 3,
   "metadata": {},
   "outputs": [
    {
     "data": {
      "text/html": [
       "<div>\n",
       "<style scoped>\n",
       "    .dataframe tbody tr th:only-of-type {\n",
       "        vertical-align: middle;\n",
       "    }\n",
       "\n",
       "    .dataframe tbody tr th {\n",
       "        vertical-align: top;\n",
       "    }\n",
       "\n",
       "    .dataframe thead th {\n",
       "        text-align: right;\n",
       "    }\n",
       "</style>\n",
       "<table border=\"1\" class=\"dataframe\">\n",
       "  <thead>\n",
       "    <tr style=\"text-align: right;\">\n",
       "      <th></th>\n",
       "      <th>Пол</th>\n",
       "      <th>Возраст</th>\n",
       "      <th>Зарплата</th>\n",
       "      <th>Члены семьи</th>\n",
       "      <th>Страховые выплаты</th>\n",
       "    </tr>\n",
       "  </thead>\n",
       "  <tbody>\n",
       "    <tr>\n",
       "      <th>0</th>\n",
       "      <td>1</td>\n",
       "      <td>41.0</td>\n",
       "      <td>49600.0</td>\n",
       "      <td>1</td>\n",
       "      <td>0</td>\n",
       "    </tr>\n",
       "    <tr>\n",
       "      <th>1</th>\n",
       "      <td>0</td>\n",
       "      <td>46.0</td>\n",
       "      <td>38000.0</td>\n",
       "      <td>1</td>\n",
       "      <td>1</td>\n",
       "    </tr>\n",
       "    <tr>\n",
       "      <th>2</th>\n",
       "      <td>0</td>\n",
       "      <td>29.0</td>\n",
       "      <td>21000.0</td>\n",
       "      <td>0</td>\n",
       "      <td>0</td>\n",
       "    </tr>\n",
       "    <tr>\n",
       "      <th>3</th>\n",
       "      <td>0</td>\n",
       "      <td>21.0</td>\n",
       "      <td>41700.0</td>\n",
       "      <td>2</td>\n",
       "      <td>0</td>\n",
       "    </tr>\n",
       "    <tr>\n",
       "      <th>4</th>\n",
       "      <td>1</td>\n",
       "      <td>28.0</td>\n",
       "      <td>26100.0</td>\n",
       "      <td>0</td>\n",
       "      <td>0</td>\n",
       "    </tr>\n",
       "  </tbody>\n",
       "</table>\n",
       "</div>"
      ],
      "text/plain": [
       "   Пол  Возраст  Зарплата  Члены семьи  Страховые выплаты\n",
       "0    1     41.0   49600.0            1                  0\n",
       "1    0     46.0   38000.0            1                  1\n",
       "2    0     29.0   21000.0            0                  0\n",
       "3    0     21.0   41700.0            2                  0\n",
       "4    1     28.0   26100.0            0                  0"
      ]
     },
     "execution_count": 3,
     "metadata": {},
     "output_type": "execute_result"
    }
   ],
   "source": [
    "insurance_data.head()"
   ]
  },
  {
   "cell_type": "markdown",
   "metadata": {},
   "source": [
    "&nbsp; Можно заметить, что пропущенных значений в данных нет, дубликаты в данных также отсутствуют по причине того, что все значения в столбцах выражаются в числах."
   ]
  },
  {
   "cell_type": "markdown",
   "metadata": {},
   "source": [
    "Проведём анализ данных"
   ]
  },
  {
   "cell_type": "code",
   "execution_count": 4,
   "metadata": {},
   "outputs": [
    {
     "data": {
      "text/html": [
       "<div>\n",
       "<style scoped>\n",
       "    .dataframe tbody tr th:only-of-type {\n",
       "        vertical-align: middle;\n",
       "    }\n",
       "\n",
       "    .dataframe tbody tr th {\n",
       "        vertical-align: top;\n",
       "    }\n",
       "\n",
       "    .dataframe thead th {\n",
       "        text-align: right;\n",
       "    }\n",
       "</style>\n",
       "<table border=\"1\" class=\"dataframe\">\n",
       "  <thead>\n",
       "    <tr style=\"text-align: right;\">\n",
       "      <th></th>\n",
       "      <th>Пол</th>\n",
       "      <th>Возраст</th>\n",
       "      <th>Зарплата</th>\n",
       "      <th>Члены семьи</th>\n",
       "      <th>Страховые выплаты</th>\n",
       "    </tr>\n",
       "  </thead>\n",
       "  <tbody>\n",
       "    <tr>\n",
       "      <th>count</th>\n",
       "      <td>5000.000000</td>\n",
       "      <td>5000.000000</td>\n",
       "      <td>5000.000000</td>\n",
       "      <td>5000.000000</td>\n",
       "      <td>5000.000000</td>\n",
       "    </tr>\n",
       "    <tr>\n",
       "      <th>mean</th>\n",
       "      <td>0.499000</td>\n",
       "      <td>30.952800</td>\n",
       "      <td>39916.360000</td>\n",
       "      <td>1.194200</td>\n",
       "      <td>0.148000</td>\n",
       "    </tr>\n",
       "    <tr>\n",
       "      <th>std</th>\n",
       "      <td>0.500049</td>\n",
       "      <td>8.440807</td>\n",
       "      <td>9900.083569</td>\n",
       "      <td>1.091387</td>\n",
       "      <td>0.463183</td>\n",
       "    </tr>\n",
       "    <tr>\n",
       "      <th>min</th>\n",
       "      <td>0.000000</td>\n",
       "      <td>18.000000</td>\n",
       "      <td>5300.000000</td>\n",
       "      <td>0.000000</td>\n",
       "      <td>0.000000</td>\n",
       "    </tr>\n",
       "    <tr>\n",
       "      <th>25%</th>\n",
       "      <td>0.000000</td>\n",
       "      <td>24.000000</td>\n",
       "      <td>33300.000000</td>\n",
       "      <td>0.000000</td>\n",
       "      <td>0.000000</td>\n",
       "    </tr>\n",
       "    <tr>\n",
       "      <th>50%</th>\n",
       "      <td>0.000000</td>\n",
       "      <td>30.000000</td>\n",
       "      <td>40200.000000</td>\n",
       "      <td>1.000000</td>\n",
       "      <td>0.000000</td>\n",
       "    </tr>\n",
       "    <tr>\n",
       "      <th>75%</th>\n",
       "      <td>1.000000</td>\n",
       "      <td>37.000000</td>\n",
       "      <td>46600.000000</td>\n",
       "      <td>2.000000</td>\n",
       "      <td>0.000000</td>\n",
       "    </tr>\n",
       "    <tr>\n",
       "      <th>max</th>\n",
       "      <td>1.000000</td>\n",
       "      <td>65.000000</td>\n",
       "      <td>79000.000000</td>\n",
       "      <td>6.000000</td>\n",
       "      <td>5.000000</td>\n",
       "    </tr>\n",
       "  </tbody>\n",
       "</table>\n",
       "</div>"
      ],
      "text/plain": [
       "               Пол      Возраст      Зарплата  Члены семьи  Страховые выплаты\n",
       "count  5000.000000  5000.000000   5000.000000  5000.000000        5000.000000\n",
       "mean      0.499000    30.952800  39916.360000     1.194200           0.148000\n",
       "std       0.500049     8.440807   9900.083569     1.091387           0.463183\n",
       "min       0.000000    18.000000   5300.000000     0.000000           0.000000\n",
       "25%       0.000000    24.000000  33300.000000     0.000000           0.000000\n",
       "50%       0.000000    30.000000  40200.000000     1.000000           0.000000\n",
       "75%       1.000000    37.000000  46600.000000     2.000000           0.000000\n",
       "max       1.000000    65.000000  79000.000000     6.000000           5.000000"
      ]
     },
     "execution_count": 4,
     "metadata": {},
     "output_type": "execute_result"
    }
   ],
   "source": [
    "insurance_data.describe()"
   ]
  },
  {
   "cell_type": "markdown",
   "metadata": {},
   "source": [
    "Видно, что в столбцах `Возраст` и `Зарплата` есть выбивающие значения, посмотрим, как они выбиваются"
   ]
  },
  {
   "cell_type": "code",
   "execution_count": 5,
   "metadata": {
    "scrolled": true
   },
   "outputs": [
    {
     "data": {
      "image/png": "[encoded data removed]",
      "text/plain": [
       "<Figure size 432x288 with 1 Axes>"
      ]
     },
     "metadata": {
      "needs_background": "light"
     },
     "output_type": "display_data"
    },
    {
     "data": {
      "image/png": "[encoded data removed]",
      "text/plain": [
       "<Figure size 432x288 with 1 Axes>"
      ]
     },
     "metadata": {
      "needs_background": "light"
     },
     "output_type": "display_data"
    }
   ],
   "source": [
    "analyz_columns = ['Возраст', 'Зарплата']\n",
    "for column in analyz_columns:\n",
    "    insurance_data.boxplot(column=column)\n",
    "    plt.show()"
   ]
  },
  {
   "cell_type": "markdown",
   "metadata": {},
   "source": [
    "Избавимся от аномальных значений по \"правилу 3 сигм\". Для этого напишем функцию, которую потом вызовем, тем самым удалим строки с выбивающимися значениями. "
   ]
  },
  {
   "cell_type": "code",
   "execution_count": 6,
   "metadata": {},
   "outputs": [],
   "source": [
    "def df_process(df, columns):\n",
    "    df_processed = df\n",
    "    for column in columns:\n",
    "        q25 = df_processed[column].quantile(.25)\n",
    "        q75 = df_processed[column].quantile(.75)        \n",
    "        q_min = q25 - 1.5*(q75-q25)\n",
    "        q_max = q75 + 1.5*(q75-q25)\n",
    "        df_processed = df_processed[df_processed[column] >= q_min]\n",
    "        df_processed = df_processed[df_processed[column] <= q_max]\n",
    "    return df_processed"
   ]
  },
  {
   "cell_type": "markdown",
   "metadata": {},
   "source": [
    "<div class=\"alert alert-success\">\n",
    "<h2> Комментарий ревьюера <a class=\"tocSkip\"> </h2>\n",
    "\n",
    "<b>Все отлично!👍:</b> \n",
    "\n",
    "Функция отлично реализована!"
   ]
  },
  {
   "cell_type": "code",
   "execution_count": 7,
   "metadata": {},
   "outputs": [
    {
     "name": "stdout",
     "output_type": "stream",
     "text": [
      "Кол-во оставшихся строк: 4951, удалено - 49\n",
      "Кол-во удаленных строк в процентах: 0.98%\n"
     ]
    }
   ],
   "source": [
    "need_columns = ['Возраст', 'Зарплата']\n",
    "insurance_data_2 = df_process(insurance_data, need_columns).reset_index(drop=True)\n",
    "\n",
    "print(f'Кол-во оставшихся строк: {insurance_data_2.shape[0]}, \\\n",
    "удалено - {insurance_data.shape[0] - insurance_data_2.shape[0]}')\n",
    "print(f'Кол-во удаленных строк в процентах: \\\n",
    "{(insurance_data.shape[0] - insurance_data_2.shape[0])/insurance_data.shape[0]:.2%}')\n"
   ]
  },
  {
   "cell_type": "markdown",
   "metadata": {},
   "source": [
    "Проверим эти столбцы"
   ]
  },
  {
   "cell_type": "code",
   "execution_count": 8,
   "metadata": {},
   "outputs": [
    {
     "data": {
      "image/png": "[encoded data removed]",
      "text/plain": [
       "<Figure size 432x288 with 1 Axes>"
      ]
     },
     "metadata": {
      "needs_background": "light"
     },
     "output_type": "display_data"
    },
    {
     "data": {
      "image/png": "[encoded data removed]",
      "text/plain": [
       "<Figure size 432x288 with 1 Axes>"
      ]
     },
     "metadata": {
      "needs_background": "light"
     },
     "output_type": "display_data"
    }
   ],
   "source": [
    "analyz_columns = ['Возраст', 'Зарплата']\n",
    "for column in analyz_columns:\n",
    "    insurance_data_2.boxplot(column=column)\n",
    "    plt.show()"
   ]
  },
  {
   "cell_type": "markdown",
   "metadata": {},
   "source": [
    "Видим, что строки с выбросами удалились в размере 1% от исходных данных."
   ]
  },
  {
   "cell_type": "code",
   "execution_count": 9,
   "metadata": {},
   "outputs": [
    {
     "data": {
      "text/html": [
       "<div>\n",
       "<style scoped>\n",
       "    .dataframe tbody tr th:only-of-type {\n",
       "        vertical-align: middle;\n",
       "    }\n",
       "\n",
       "    .dataframe tbody tr th {\n",
       "        vertical-align: top;\n",
       "    }\n",
       "\n",
       "    .dataframe thead th {\n",
       "        text-align: right;\n",
       "    }\n",
       "</style>\n",
       "<table border=\"1\" class=\"dataframe\">\n",
       "  <thead>\n",
       "    <tr style=\"text-align: right;\">\n",
       "      <th></th>\n",
       "      <th>Пол</th>\n",
       "      <th>Возраст</th>\n",
       "      <th>Зарплата</th>\n",
       "      <th>Члены семьи</th>\n",
       "      <th>Страховые выплаты</th>\n",
       "    </tr>\n",
       "  </thead>\n",
       "  <tbody>\n",
       "    <tr>\n",
       "      <th>count</th>\n",
       "      <td>4951.000000</td>\n",
       "      <td>4951.000000</td>\n",
       "      <td>4951.00000</td>\n",
       "      <td>4951.000000</td>\n",
       "      <td>4951.000000</td>\n",
       "    </tr>\n",
       "    <tr>\n",
       "      <th>mean</th>\n",
       "      <td>0.498283</td>\n",
       "      <td>30.874773</td>\n",
       "      <td>39948.91941</td>\n",
       "      <td>1.194708</td>\n",
       "      <td>0.139366</td>\n",
       "    </tr>\n",
       "    <tr>\n",
       "      <th>std</th>\n",
       "      <td>0.500048</td>\n",
       "      <td>8.337531</td>\n",
       "      <td>9586.08600</td>\n",
       "      <td>1.091778</td>\n",
       "      <td>0.427782</td>\n",
       "    </tr>\n",
       "    <tr>\n",
       "      <th>min</th>\n",
       "      <td>0.000000</td>\n",
       "      <td>18.000000</td>\n",
       "      <td>13400.00000</td>\n",
       "      <td>0.000000</td>\n",
       "      <td>0.000000</td>\n",
       "    </tr>\n",
       "    <tr>\n",
       "      <th>25%</th>\n",
       "      <td>0.000000</td>\n",
       "      <td>24.000000</td>\n",
       "      <td>33400.00000</td>\n",
       "      <td>0.000000</td>\n",
       "      <td>0.000000</td>\n",
       "    </tr>\n",
       "    <tr>\n",
       "      <th>50%</th>\n",
       "      <td>0.000000</td>\n",
       "      <td>30.000000</td>\n",
       "      <td>40200.00000</td>\n",
       "      <td>1.000000</td>\n",
       "      <td>0.000000</td>\n",
       "    </tr>\n",
       "    <tr>\n",
       "      <th>75%</th>\n",
       "      <td>1.000000</td>\n",
       "      <td>37.000000</td>\n",
       "      <td>46600.00000</td>\n",
       "      <td>2.000000</td>\n",
       "      <td>0.000000</td>\n",
       "    </tr>\n",
       "    <tr>\n",
       "      <th>max</th>\n",
       "      <td>1.000000</td>\n",
       "      <td>56.000000</td>\n",
       "      <td>66300.00000</td>\n",
       "      <td>6.000000</td>\n",
       "      <td>3.000000</td>\n",
       "    </tr>\n",
       "  </tbody>\n",
       "</table>\n",
       "</div>"
      ],
      "text/plain": [
       "               Пол      Возраст     Зарплата  Члены семьи  Страховые выплаты\n",
       "count  4951.000000  4951.000000   4951.00000  4951.000000        4951.000000\n",
       "mean      0.498283    30.874773  39948.91941     1.194708           0.139366\n",
       "std       0.500048     8.337531   9586.08600     1.091778           0.427782\n",
       "min       0.000000    18.000000  13400.00000     0.000000           0.000000\n",
       "25%       0.000000    24.000000  33400.00000     0.000000           0.000000\n",
       "50%       0.000000    30.000000  40200.00000     1.000000           0.000000\n",
       "75%       1.000000    37.000000  46600.00000     2.000000           0.000000\n",
       "max       1.000000    56.000000  66300.00000     6.000000           3.000000"
      ]
     },
     "execution_count": 9,
     "metadata": {},
     "output_type": "execute_result"
    }
   ],
   "source": [
    "insurance_data_2.describe()"
   ]
  },
  {
   "cell_type": "markdown",
   "metadata": {},
   "source": [
    "Проведём краткий анализ по полученным данным."
   ]
  },
  {
   "cell_type": "markdown",
   "metadata": {},
   "source": [
    "<div class=\"alert alert-success\">\n",
    "<h2> Комментарий ревьюера <a class=\"tocSkip\"> </h2>\n",
    "\n",
    "<b>Все отлично!👍:</b> \n",
    "\n",
    "Пекрасно иследован массив, молодец!\n",
    "    \n",
    "Графики, хорошие, очень репрезентативные!"
   ]
  },
  {
   "cell_type": "code",
   "execution_count": 10,
   "metadata": {
    "scrolled": true
   },
   "outputs": [
    {
     "data": {
      "text/plain": [
       "Пол\n",
       "0    50.171682\n",
       "1    49.828318\n",
       "Name: Возраст, dtype: float64"
      ]
     },
     "metadata": {},
     "output_type": "display_data"
    },
    {
     "data": {
      "text/plain": [
       "Члены семьи\n",
       "0    30.236316\n",
       "1    36.315896\n",
       "2    21.369420\n",
       "3     8.826500\n",
       "4     2.464149\n",
       "5     0.646334\n",
       "6     0.141386\n",
       "Name: Возраст, dtype: float64"
      ]
     },
     "metadata": {},
     "output_type": "display_data"
    },
    {
     "data": {
      "text/plain": [
       "Страховые выплаты\n",
       "0    88.931529\n",
       "1     8.483135\n",
       "2     2.302565\n",
       "3     0.282771\n",
       "Name: Возраст, dtype: float64"
      ]
     },
     "metadata": {},
     "output_type": "display_data"
    }
   ],
   "source": [
    "num_col = ['Пол', 'Члены семьи', 'Страховые выплаты']\n",
    "for column in num_col:\n",
    "    display(\n",
    "        insurance_data_2.groupby(column).count()['Возраст']/insurance_data_2.shape[0]*100)"
   ]
  },
  {
   "cell_type": "markdown",
   "metadata": {},
   "source": [
    "В данной таблице приведены данные лиц с возрастом с 18 до 56 лет, зарплатой от 13 400 до 66 300 руб., женщин и мужчин примерно одинаково. Также известно, что 30% живут одни, 66% - с женой: без ребенка (36%), с одним (21%) или двумя ребенком (9%). В основном клиенты обходятся без страховых выплат - 89%"
   ]
  },
  {
   "cell_type": "markdown",
   "metadata": {},
   "source": [
    "<div class=\"alert alert-success\">\n",
    "<h2> Комментарий ревьюера <a class=\"tocSkip\"> </h2>\n",
    "\n",
    "<b>Все отлично!👍:</b> \n",
    "\n",
    "Хорошо, что не забываешь делать промежуточные выводы! "
   ]
  },
  {
   "cell_type": "markdown",
   "metadata": {},
   "source": [
    "## Умножение матриц"
   ]
  },
  {
   "cell_type": "markdown",
   "metadata": {},
   "source": [
    "<div class=\"alert alert-info\">\n",
    "\n",
    "В этом задании вы можете записывать формулы в *Jupyter Notebook.*\n",
    "\n",
    "Чтобы записать формулу внутри текста, окружите её символами доллара \\\\$; если снаружи —  двойными символами \\\\$\\\\$. Эти формулы записываются на языке вёрстки *LaTeX.* \n",
    "\n",
    "Для примера мы записали формулы линейной регрессии. Можете их скопировать и отредактировать, чтобы решить задачу.\n",
    "\n",
    "Работать в *LaTeX* необязательно."
   ]
  },
  {
   "cell_type": "markdown",
   "metadata": {},
   "source": [
    "Обозначения:\n",
    "\n",
    "- $X$ — матрица признаков (нулевой столбец состоит из единиц)\n",
    "\n",
    "- $y$ — вектор целевого признака\n",
    "\n",
    "- $P$ — матрица, на которую умножаются признаки\n",
    "\n",
    "- $w$ — вектор весов линейной регрессии (нулевой элемент равен сдвигу)"
   ]
  },
  {
   "cell_type": "markdown",
   "metadata": {},
   "source": [
    "Предсказания:\n",
    "\n",
    "$$\n",
    "a = Xw+w_0\n",
    "$$\n",
    "$$(0.1)$$\n",
    "Задача обучения:\n",
    "\n",
    "$$\n",
    "w = \\arg\\min_w MSE(Xw, y)\n",
    "$$\n",
    "\n",
    "Формула обучения:\n",
    "\n",
    "$$\n",
    "w = (X^T X)^{-1} X^T y\n",
    "$$\n",
    "$$(0.2)$$"
   ]
  },
  {
   "cell_type": "markdown",
   "metadata": {},
   "source": [
    "Перед нами стоит **вопрос**, на который предстоит ответить. Известно, что признаки умножают на обратимую матрицу. Изменится ли качество линейной регрессии?"
   ]
  },
  {
   "cell_type": "markdown",
   "metadata": {},
   "source": [
    "Начинаем рассуждение, взяв за основу $w_0$ - без сдвига"
   ]
  },
  {
   "cell_type": "markdown",
   "metadata": {},
   "source": [
    "Введем обозначение $X'$. Это результат умножения исходной матрицы $X$ и матрицы $P$, которая по условию дана как обратимая матрица. \\\n",
    "\\\n",
    "    $$X'=XP$$,$$(1)$$"
   ]
  },
  {
   "cell_type": "markdown",
   "metadata": {},
   "source": [
    "Затем обучение происходит по тем же этапам, описанным выше, подставив $X'$ вместо $X$"
   ]
  },
  {
   "cell_type": "markdown",
   "metadata": {},
   "source": [
    "Можем найти $w'$, подставив $X'$ вместо $X$ в формулу (0.2)"
   ]
  },
  {
   "cell_type": "markdown",
   "metadata": {},
   "source": [
    "$$\n",
    "w' = ((X')^T (X'))^{-1} (X')^T y, \n",
    "$$\n",
    "\n",
    "$$\n",
    "w' = ((XP)^T (XP))^{-1} (XP)^T y, \n",
    "$$"
   ]
  },
  {
   "cell_type": "markdown",
   "metadata": {},
   "source": [
    "Раскроем $(XP)^T$ по свойству <mark> $(AB)^T=B^TA^T$ </mark>\n",
    "\n",
    "$$\n",
    "w' = (P^T X^T XP)^{-1} P^T X^T y, \n",
    "$$\n"
   ]
  },
  {
   "cell_type": "markdown",
   "metadata": {},
   "source": [
    "Раскроем $(P^T X^T XP)^{-1}$ по свойству <mark>$(AB)^{-1}=B^{-1}A^{-1}$</mark>\n",
    "\n",
    "$$\n",
    "w' = P^{-1} (X^TX)^{-1} (P^T)^{-1} P^T X^T y, \n",
    "$$"
   ]
  },
  {
   "cell_type": "markdown",
   "metadata": {},
   "source": [
    "Можно заметить $(P^T)^{-1}P^T=E$ из свойства <mark>$AA^{-1}=A^{-1}A=E$</mark>\n",
    "\n",
    "И получим \"*обрезанное*\" выражение по свойству <mark>$AE=EA=A$</mark>\n",
    "\n",
    "$$\n",
    "w' = P^{-1} (X^TX)^{-1} X^T y, \n",
    "$$\n"
   ]
  },
  {
   "cell_type": "markdown",
   "metadata": {},
   "source": [
    "Мы знаем, что\n",
    "$$\n",
    "w = (X^T X)^{-1} X^T y\n",
    "$$\n",
    "Находим\n",
    "$$\n",
    "w' = P^{-1}w\n",
    "$$\n",
    "$$(2)$$"
   ]
  },
  {
   "cell_type": "markdown",
   "metadata": {},
   "source": [
    "Теперь можем найти значение предсказания $a'$ по формуле $a'=X'w'$, зная $X'$ и $w'$ по формулам (1) и (2)\n",
    "\n",
    "$$\n",
    "a'=X'w'=XPP^{-1}w=Xw=a\n",
    "$$"
   ]
  },
  {
   "cell_type": "markdown",
   "metadata": {},
   "source": [
    "Таким образом доказано, что результаты предсказаний не изменятся после умножения признак на обратимую матрицу, т.к. $a'=a=Xw$"
   ]
  },
  {
   "cell_type": "markdown",
   "metadata": {},
   "source": [
    "<div class=\"alert alert-block alert-danger\">\n",
    "<h2> Комментарий ревьюера <a class=\"tocSkip\"></h2>\n",
    "\n",
    "    \n",
    "<b>На доработку🤔:</b>\n",
    "    \n",
    "Единичный случай работоспособности алгоритма не является доказательством.\n",
    "\n",
    "        \n",
    "Нарушена структура проекта, в этом пункте должен быть ответ на вопрос \n",
    "    \"Изменится ли качество линейной регрессии при умножении признаков на обратимую матрицу?\"\n",
    "\n",
    "И обоснование ответа на этот вопрос.\n",
    "    \n",
    "Реализацию алгоритма лучше провести в 4-м пункте.\n",
    "    \n",
    "лучшим вариантом является строгое математическое доказательство. Попробуй его сделать используя эти свойства матриц:\n",
    "$$\n",
    "(AB)^T=B^T A^T\n",
    "$$\n",
    "$$\n",
    "(AB)^{-1} = B^{-1} A^{-1}\n",
    "$$\n",
    "$$\n",
    "A A^{-1} = A^{-1} A = E\n",
    "$$\n",
    "$$\n",
    "AE = EA = A\n",
    "$$\n",
    "        \n",
    "И такие подстановки:\n",
    "        \n",
    "$$\n",
    "a = Xw = XEw = XPP^{-1}w = (XP)P^{-1}w = (XP)w'\n",
    "$$\n",
    "$$\n",
    "X' = XP\n",
    "$$\n",
    "\n",
    "Где P обратимая квадратная матрица."
   ]
  },
  {
   "cell_type": "markdown",
   "metadata": {},
   "source": [
    "<div class=\"alert alert-success\">\n",
    "<h2>V2 Комментарий ревьюера <a class=\"tocSkip\"> </h2>\n",
    "\n",
    "<b>Все отлично!👍:</b> \n",
    "\n",
    "Теперь доказательство правильное, молодец!"
   ]
  },
  {
   "cell_type": "markdown",
   "metadata": {},
   "source": [
    "## Алгоритм преобразования"
   ]
  },
  {
   "cell_type": "markdown",
   "metadata": {},
   "source": [
    "<div class=\"alert alert-block alert-danger\">\n",
    "<h2> Комментарий ревьюера <a class=\"tocSkip\"></h2>\n",
    "\n",
    "    \n",
    "<b>На доработку🤔:</b>\n",
    "        \n",
    "В пункте \"Алгоритм\" необходимо подготовить и в текстовом виде расписать подробный алгоритм последующих действий, по пунктам. Для дальнейшей его реализации в виде кода. \n",
    "Я вижу, понимание алгоритма, и его верную реализацию в следующем задании. Здесь его нужно просто пошагово описать.\n",
    "    \n"
   ]
  },
  {
   "cell_type": "markdown",
   "metadata": {},
   "source": [
    "В предыдущем пункте была разобрана ситуация, когда признаки умножают на обратимую матрицу, а качество линейной регрессии не изменяется."
   ]
  },
  {
   "cell_type": "markdown",
   "metadata": {},
   "source": [
    "Напомним, $X'=XP$, где $X$ - исходная матрица признаков размеров $(m * n)$, $P$ - произвольная матрица размеров $(n * n)$, $X'$ - полученная зашифрованная матрица признаков размеров $(m * n)$"
   ]
  },
  {
   "cell_type": "markdown",
   "metadata": {},
   "source": [
    "Матрица $P$ будет подбираться с помощью генератора случайных чисел на основе нормального распределения."
   ]
  },
  {
   "cell_type": "markdown",
   "metadata": {},
   "source": [
    "Кстати, можно восстановить закодированные данные путём умножения матрицы $X'$ на $P^{-1}$:\n",
    "\n",
    "$$\n",
    "X'P^{-1}=X P P^{-1}=X\n",
    "$$"
   ]
  },
  {
   "cell_type": "markdown",
   "metadata": {},
   "source": [
    "Значения целевого признака `Страховые выплаты` остаются неизменными - $y$."
   ]
  },
  {
   "cell_type": "markdown",
   "metadata": {},
   "source": [
    "Тогда получаем следующую задачу обучения линейной регрессии:\n",
    "$$\n",
    "w' = \\arg\\min_{w'} MSE(X'w', y)\n",
    "$$"
   ]
  },
  {
   "cell_type": "markdown",
   "metadata": {},
   "source": [
    "Минимальное значение MSE получается, когда веса равны этой величине:\n",
    "\n",
    "$$\n",
    "w' = ((X')^T X')^{-1} (X')^T y = ((XP)^T XP)^{-1} (XP)^T y\n",
    "$$"
   ]
  },
  {
   "cell_type": "markdown",
   "metadata": {},
   "source": [
    "Таким образом, находим предсказания $a'$"
   ]
  },
  {
   "cell_type": "markdown",
   "metadata": {},
   "source": [
    "$$\n",
    "a'=X'w'=XP((XP)^T XP)^{-1} (XP)^T y\n",
    "$$"
   ]
  },
  {
   "cell_type": "markdown",
   "metadata": {},
   "source": [
    "Кратко выглядит следующим образом:\n",
    "1. Создать матрицу $P$ случайным образом размером $(n*n)$ для работы с матрицей признаков $X$ с размерами $(m*n)$\n",
    "2. Матрица $P$ обязательно должна быть обратимой\n",
    "3. Преобразовываем данные путем умножения матриц $X$ и $P$\n",
    "4. Сравниваем качество предсказаний до и после защиты данных на основе метрики R2"
   ]
  },
  {
   "cell_type": "markdown",
   "metadata": {},
   "source": [
    "<div class=\"alert alert-block alert-danger\">\n",
    "<h2> Комментарий ревьюера <a class=\"tocSkip\"></h2>\n",
    "\n",
    "    \n",
    "<b>На доработку🤔:</b>\n",
    "        \n",
    "В обосновании нужно своими словами описать основную идею того, почему твой алгоритм будет работать."
   ]
  },
  {
   "cell_type": "markdown",
   "metadata": {},
   "source": [
    "<div class=\"alert alert-success\">\n",
    "<h2>V2 Комментарий ревьюера <a class=\"tocSkip\"> </h2>\n",
    "\n",
    "<b>Все отлично!👍:</b> \n",
    "    \n",
    "Прекрасно, теперь алгоритм правильный, и обоснование тоже!"
   ]
  },
  {
   "cell_type": "markdown",
   "metadata": {},
   "source": [
    "## Проверка алгоритма"
   ]
  },
  {
   "cell_type": "markdown",
   "metadata": {},
   "source": [
    "Проверим оба варианта *(до и после защиты данных)* на практике с помощи метрики качества предсказаний *R2*."
   ]
  },
  {
   "cell_type": "markdown",
   "metadata": {},
   "source": [
    "Мы знаем **признаки** *(пол, возраст и зарплата застрахованного, количество членов его семьи)* и **целевой признак** *(количество страховых выплат клиенту за последние 5 лет)*. Разделим данные в соответствии с этим."
   ]
  },
  {
   "cell_type": "code",
   "execution_count": 11,
   "metadata": {},
   "outputs": [],
   "source": [
    "target = insurance_data_2['Страховые выплаты']\n",
    "features = insurance_data_2.drop(columns='Страховые выплаты', axis=1)"
   ]
  },
  {
   "cell_type": "markdown",
   "metadata": {},
   "source": [
    "Данные разделены на признаки и ответы, теперь осталось поделить их на обучающие и тестовые в соотношении 3:1"
   ]
  },
  {
   "cell_type": "markdown",
   "metadata": {},
   "source": [
    "<div class=\"alert alert-success\">\n",
    "<h2> V2 Комментарий ревьюера <a class=\"tocSkip\"> </h2>\n",
    "\n",
    "<b>Все отлично!👍:</b> \n",
    "\n",
    "Молодец, что делаешь деление на train/test!"
   ]
  },
  {
   "cell_type": "code",
   "execution_count": 12,
   "metadata": {},
   "outputs": [],
   "source": [
    "features_train, features_test, target_train, target_test = train_test_split(\n",
    "features, target, test_size=.25, random_state=STATE)"
   ]
  },
  {
   "cell_type": "code",
   "execution_count": 13,
   "metadata": {},
   "outputs": [
    {
     "name": "stdout",
     "output_type": "stream",
     "text": [
      "3713 1238\n"
     ]
    }
   ],
   "source": [
    "print(features_train.shape[0], features_test.shape[0])"
   ]
  },
  {
   "cell_type": "markdown",
   "metadata": {},
   "source": [
    "Создадим класс *LinearRegression*, в котором реализуем 2 метода: обучения и предсказания данных - *fit* и *predict*."
   ]
  },
  {
   "cell_type": "code",
   "execution_count": 14,
   "metadata": {},
   "outputs": [],
   "source": [
    "class LinearRegression:\n",
    "    def fit(self, train_features, train_target):\n",
    "        X = np.concatenate((np.ones((train_features.shape[0], 1)), train_features), axis=1)\n",
    "        y = train_target\n",
    "        w = np.linalg.inv(X.T.dot(X)).dot(X.T).dot(y)  \n",
    "        self.w = w[1:]\n",
    "        self.w0 = w[0]\n",
    "\n",
    "    def predict(self, test_features):\n",
    "        return test_features.dot(self.w) + self.w0"
   ]
  },
  {
   "cell_type": "markdown",
   "metadata": {},
   "source": [
    "<div class=\"alert alert-success\">\n",
    "<h2> V2 Комментарий ревьюера <a class=\"tocSkip\"> </h2>\n",
    "\n",
    "<b>Все отлично!👍:</b> \n",
    "\n",
    "Очень круто, что пишешь свой класс для регессии!"
   ]
  },
  {
   "cell_type": "markdown",
   "metadata": {},
   "source": [
    "Реализуем I вариант ML - без защиты данных."
   ]
  },
  {
   "cell_type": "code",
   "execution_count": 15,
   "metadata": {},
   "outputs": [
    {
     "name": "stdout",
     "output_type": "stream",
     "text": [
      "R2: 0.4326941643390161\n"
     ]
    }
   ],
   "source": [
    "model = LinearRegression()\n",
    "model.fit(features_train, target_train)\n",
    "predictions = model.predict(features_test)\n",
    "r2 = r2_score(target_test, predictions)\n",
    "print(f'R2: {r2}')"
   ]
  },
  {
   "cell_type": "markdown",
   "metadata": {},
   "source": [
    "II вариант ML - с защитой данных"
   ]
  },
  {
   "cell_type": "markdown",
   "metadata": {},
   "source": [
    "Подберём обратимую $P$-матрицу"
   ]
  },
  {
   "cell_type": "code",
   "execution_count": 16,
   "metadata": {},
   "outputs": [
    {
     "name": "stdout",
     "output_type": "stream",
     "text": [
      "[[ -43.2726496    -4.46725347  -28.54175067 -120.46157134]\n",
      " [-156.03629213  139.68219881 -192.38323067    2.39951444]\n",
      " [  84.35766424  -81.69176364 -166.89126144  -93.17916354]\n",
      " [-111.46207396    5.18731324  175.76704098 -135.69459665]]\n"
     ]
    }
   ],
   "source": [
    "num_columns = features_train.shape[1]\n",
    "p = np.random.normal(0, 100, size=(num_columns, num_columns))\n",
    "print(p)\n",
    "try:\n",
    "    p_inv = np.linalg.inv(p)\n",
    "except:\n",
    "    print('Матрица необратимая')"
   ]
  },
  {
   "cell_type": "markdown",
   "metadata": {},
   "source": [
    "<div class=\"alert alert-success\">\n",
    "<h2> V2 Комментарий ревьюера <a class=\"tocSkip\"> </h2>\n",
    "\n",
    "<b>Все отлично!👍:</b> \n",
    "\n",
    "Хорошо, что не забываешь проверить матрицу на обратимость!"
   ]
  },
  {
   "cell_type": "markdown",
   "metadata": {},
   "source": [
    "Найдем $X'$, умножив $X$ на $P$ для признаков обучающих и тестовых данных"
   ]
  },
  {
   "cell_type": "code",
   "execution_count": 17,
   "metadata": {},
   "outputs": [],
   "source": [
    "features_train_private = features_train @ p\n",
    "features_test_private = features_test @ p"
   ]
  },
  {
   "cell_type": "markdown",
   "metadata": {},
   "source": [
    "И теперь обучим ML и увидим результаты машинного обучения после защиты данных путем умножения матриц признаков на случайно подобранную обратимую матрицу."
   ]
  },
  {
   "cell_type": "code",
   "execution_count": 18,
   "metadata": {},
   "outputs": [
    {
     "name": "stdout",
     "output_type": "stream",
     "text": [
      "R2: 0.4326943506793719\n"
     ]
    }
   ],
   "source": [
    "model = LinearRegression()\n",
    "model.fit(features_train_private, target_train)\n",
    "predictions_private = model.predict(features_test_private)\n",
    "r2_private = r2_score(target_test, predictions_private)\n",
    "print(f'R2: {r2_private}')"
   ]
  },
  {
   "cell_type": "markdown",
   "metadata": {},
   "source": [
    "Сравним результаты до защиты данных и после защиты"
   ]
  },
  {
   "cell_type": "code",
   "execution_count": 19,
   "metadata": {},
   "outputs": [
    {
     "data": {
      "text/html": [
       "<div>\n",
       "<style scoped>\n",
       "    .dataframe tbody tr th:only-of-type {\n",
       "        vertical-align: middle;\n",
       "    }\n",
       "\n",
       "    .dataframe tbody tr th {\n",
       "        vertical-align: top;\n",
       "    }\n",
       "\n",
       "    .dataframe thead th {\n",
       "        text-align: right;\n",
       "    }\n",
       "</style>\n",
       "<table border=\"1\" class=\"dataframe\">\n",
       "  <thead>\n",
       "    <tr style=\"text-align: right;\">\n",
       "      <th></th>\n",
       "      <th>public</th>\n",
       "      <th>private</th>\n",
       "      <th>public-private=</th>\n",
       "    </tr>\n",
       "  </thead>\n",
       "  <tbody>\n",
       "    <tr>\n",
       "      <th>R2_score</th>\n",
       "      <td>0.432694</td>\n",
       "      <td>0.432694</td>\n",
       "      <td>-1.863404e-07</td>\n",
       "    </tr>\n",
       "  </tbody>\n",
       "</table>\n",
       "</div>"
      ],
      "text/plain": [
       "            public   private  public-private=\n",
       "R2_score  0.432694  0.432694    -1.863404e-07"
      ]
     },
     "execution_count": 19,
     "metadata": {},
     "output_type": "execute_result"
    }
   ],
   "source": [
    "r2_df = pd.DataFrame({'public': r2, \n",
    "                      'private': r2_private,\n",
    "                     'public-private=': r2-r2_private},\n",
    "                    index = ['R2_score'])\n",
    "r2_df"
   ]
  },
  {
   "cell_type": "markdown",
   "metadata": {},
   "source": [
    "Видно, что у метрики R2 до защиты и после ничтожная разница: показания отличаются, начиная с 9-й цифры после запятой. \\\n",
    "\\\n",
    "&nbsp; Таким образом, можно утверждать, что защита данных не ухудшает предсказания модели с помощью умножения матриц признаков на случайно подобранную обратимую матрицу."
   ]
  },
  {
   "cell_type": "markdown",
   "metadata": {},
   "source": [
    "<div class=\"alert alert-success\">\n",
    "<h2>V2 Комментарий ревьюера <a class=\"tocSkip\"> </h2>\n",
    "\n",
    "<b>Все отлично!👍:</b> \n",
    "\n",
    "Вывод хороший."
   ]
  },
  {
   "cell_type": "markdown",
   "metadata": {},
   "source": [
    "<div class=\"alert alert-info\">\n",
    "<h2>V2 Общий вывод <a class=\"tocSkip\"> </h2>\n",
    "\n",
    "Теперь всё отлично, хорошая работа!\n",
    "    \n",
    "\n",
    "Если есть желание поглубже погрузиться в эту тему, вот список литературы с которой можно ознакомиться:\n",
    "    \n",
    "    \n",
    "* Обзоры по применению криптографии в машинном обучении: https://arxiv.org/pdf/1902.04109.pdf, https://www.researchgate.net/publication/342746786_Some_Applications_of_Machine_Learning_in_Cryptography\n",
    "    \n",
    "* Подробнее про аналогичный алгоритм: https://www.cs.cmu.edu/~rjhall/JOS_revised_May_31a.pdf\n"
   ]
  },
  {
   "cell_type": "markdown",
   "metadata": {},
   "source": [
    "## Чек-лист проверки"
   ]
  },
  {
   "cell_type": "markdown",
   "metadata": {},
   "source": [
    "Поставьте 'x' в выполненных пунктах. Далее нажмите Shift+Enter."
   ]
  },
  {
   "cell_type": "markdown",
   "metadata": {},
   "source": [
    "- [x]  Jupyter Notebook открыт\n",
    "- [x]  Весь код выполняется без ошибок\n",
    "- [x]  Ячейки с кодом расположены в порядке исполнения\n",
    "- [x]  Выполнен шаг 1: данные загружены\n",
    "- [X]  Выполнен шаг 2: получен ответ на вопрос об умножении матриц\n",
    "    - [x]  Указан правильный вариант ответа\n",
    "    - [X]  Вариант обоснован\n",
    "- [X]  Выполнен шаг 3: предложен алгоритм преобразования\n",
    "    - [X]  Алгоритм описан\n",
    "    - [X]  Алгоритм обоснован\n",
    "- [X]  Выполнен шаг 4: алгоритм проверен\n",
    "    - [X]  Алгоритм реализован\n",
    "    - [X]  Проведено сравнение качества моделей до и после преобразования"
   ]
  }
 ],
 "metadata": {
  "ExecuteTimeLog": [
   {
    "duration": 131,
    "start_time": "2023-09-01T10:35:04.273Z"
   },
   {
    "duration": 386,
    "start_time": "2023-09-01T10:35:09.563Z"
   },
   {
    "duration": 89,
    "start_time": "2023-09-01T10:39:27.194Z"
   },
   {
    "duration": 12,
    "start_time": "2023-09-01T13:27:05.070Z"
   },
   {
    "duration": 892,
    "start_time": "2023-09-01T13:30:28.120Z"
   },
   {
    "duration": 187,
    "start_time": "2023-09-01T13:31:42.111Z"
   },
   {
    "duration": 78,
    "start_time": "2023-09-01T13:32:22.360Z"
   },
   {
    "duration": 279,
    "start_time": "2023-09-01T13:32:45.190Z"
   },
   {
    "duration": 3,
    "start_time": "2023-09-01T13:34:30.872Z"
   },
   {
    "duration": 230,
    "start_time": "2023-09-01T13:56:33.661Z"
   },
   {
    "duration": 1158,
    "start_time": "2023-09-02T11:14:48.266Z"
   },
   {
    "duration": 109,
    "start_time": "2023-09-02T11:14:50.914Z"
   },
   {
    "duration": 15,
    "start_time": "2023-09-02T11:14:55.495Z"
   },
   {
    "duration": 31,
    "start_time": "2023-09-02T11:20:17.633Z"
   },
   {
    "duration": 673,
    "start_time": "2023-09-02T11:21:03.233Z"
   },
   {
    "duration": 217,
    "start_time": "2023-09-02T11:24:46.192Z"
   },
   {
    "duration": 4,
    "start_time": "2023-09-02T11:27:00.015Z"
   },
   {
    "duration": 15,
    "start_time": "2023-09-02T11:32:00.769Z"
   },
   {
    "duration": 12,
    "start_time": "2023-09-02T11:33:25.879Z"
   },
   {
    "duration": 195,
    "start_time": "2023-09-02T11:33:40.029Z"
   },
   {
    "duration": 11,
    "start_time": "2023-09-02T11:33:46.810Z"
   },
   {
    "duration": 12,
    "start_time": "2023-09-02T11:39:34.241Z"
   },
   {
    "duration": 11,
    "start_time": "2023-09-02T11:39:39.522Z"
   },
   {
    "duration": 16,
    "start_time": "2023-09-02T11:39:43.202Z"
   },
   {
    "duration": 233,
    "start_time": "2023-09-02T13:22:02.040Z"
   },
   {
    "duration": 220,
    "start_time": "2023-09-02T13:22:22.609Z"
   },
   {
    "duration": 91,
    "start_time": "2023-09-02T13:24:40.649Z"
   },
   {
    "duration": 11,
    "start_time": "2023-09-02T13:24:48.319Z"
   },
   {
    "duration": 11,
    "start_time": "2023-09-02T13:24:52.067Z"
   },
   {
    "duration": 223,
    "start_time": "2023-09-02T13:24:56.610Z"
   },
   {
    "duration": 9,
    "start_time": "2023-09-02T13:26:09.499Z"
   },
   {
    "duration": 8,
    "start_time": "2023-09-02T13:27:33.829Z"
   },
   {
    "duration": 10,
    "start_time": "2023-09-02T13:28:08.389Z"
   },
   {
    "duration": 13,
    "start_time": "2023-09-02T13:28:16.279Z"
   },
   {
    "duration": 507,
    "start_time": "2023-09-02T13:30:34.474Z"
   },
   {
    "duration": 21,
    "start_time": "2023-09-02T13:31:56.260Z"
   },
   {
    "duration": 19,
    "start_time": "2023-09-02T13:32:22.268Z"
   },
   {
    "duration": 36,
    "start_time": "2023-09-02T13:37:08.652Z"
   },
   {
    "duration": 4,
    "start_time": "2023-09-02T20:09:17.069Z"
   },
   {
    "duration": 4,
    "start_time": "2023-09-02T20:10:00.543Z"
   },
   {
    "duration": 772,
    "start_time": "2023-09-02T20:11:06.343Z"
   },
   {
    "duration": 7,
    "start_time": "2023-09-02T20:16:25.323Z"
   },
   {
    "duration": 12,
    "start_time": "2023-09-02T20:20:31.142Z"
   },
   {
    "duration": 5,
    "start_time": "2023-09-02T20:21:08.382Z"
   },
   {
    "duration": 3,
    "start_time": "2023-09-02T20:22:05.987Z"
   },
   {
    "duration": 5,
    "start_time": "2023-09-02T20:25:49.692Z"
   },
   {
    "duration": 4,
    "start_time": "2023-09-02T20:27:22.691Z"
   },
   {
    "duration": 10,
    "start_time": "2023-09-02T20:30:41.532Z"
   },
   {
    "duration": 119,
    "start_time": "2023-09-02T20:32:08.241Z"
   },
   {
    "duration": 4,
    "start_time": "2023-09-02T20:40:16.910Z"
   },
   {
    "duration": 9,
    "start_time": "2023-09-02T20:43:43.859Z"
   },
   {
    "duration": 5,
    "start_time": "2023-09-02T20:43:49.909Z"
   },
   {
    "duration": 3,
    "start_time": "2023-09-02T20:43:52.759Z"
   },
   {
    "duration": 5,
    "start_time": "2023-09-02T20:44:50.639Z"
   },
   {
    "duration": 7,
    "start_time": "2023-09-02T20:49:27.489Z"
   },
   {
    "duration": 5,
    "start_time": "2023-09-02T20:49:39.670Z"
   },
   {
    "duration": 3,
    "start_time": "2023-09-02T20:49:42.199Z"
   },
   {
    "duration": 10,
    "start_time": "2023-09-02T20:49:50.458Z"
   },
   {
    "duration": 13,
    "start_time": "2023-09-02T20:49:51.439Z"
   },
   {
    "duration": 7,
    "start_time": "2023-09-02T20:49:52.179Z"
   },
   {
    "duration": 6,
    "start_time": "2023-09-02T20:49:52.739Z"
   },
   {
    "duration": 7,
    "start_time": "2023-09-02T20:49:53.274Z"
   },
   {
    "duration": 8,
    "start_time": "2023-09-02T20:49:53.798Z"
   },
   {
    "duration": 8,
    "start_time": "2023-09-02T20:49:54.698Z"
   },
   {
    "duration": 7,
    "start_time": "2023-09-02T20:49:55.129Z"
   },
   {
    "duration": 4,
    "start_time": "2023-09-02T20:51:20.363Z"
   },
   {
    "duration": 4,
    "start_time": "2023-09-02T20:51:23.129Z"
   },
   {
    "duration": 6,
    "start_time": "2023-09-02T20:51:25.628Z"
   },
   {
    "duration": 4,
    "start_time": "2023-09-02T20:57:12.418Z"
   },
   {
    "duration": 4,
    "start_time": "2023-09-02T20:57:17.462Z"
   },
   {
    "duration": 4,
    "start_time": "2023-09-02T20:57:19.708Z"
   },
   {
    "duration": 7,
    "start_time": "2023-09-02T20:57:21.529Z"
   },
   {
    "duration": 9,
    "start_time": "2023-09-02T20:57:23.008Z"
   },
   {
    "duration": 5,
    "start_time": "2023-09-02T20:57:24.178Z"
   },
   {
    "duration": 9,
    "start_time": "2023-09-02T20:57:26.549Z"
   },
   {
    "duration": 7,
    "start_time": "2023-09-02T20:59:21.257Z"
   },
   {
    "duration": 4,
    "start_time": "2023-09-02T20:59:23.387Z"
   },
   {
    "duration": 4,
    "start_time": "2023-09-02T20:59:27.558Z"
   },
   {
    "duration": 8,
    "start_time": "2023-09-02T20:59:30.207Z"
   },
   {
    "duration": 9,
    "start_time": "2023-09-02T21:01:59.659Z"
   },
   {
    "duration": 5,
    "start_time": "2023-09-02T21:02:03.480Z"
   },
   {
    "duration": 5,
    "start_time": "2023-09-02T21:02:04.828Z"
   },
   {
    "duration": 6,
    "start_time": "2023-09-02T21:02:05.578Z"
   },
   {
    "duration": 6,
    "start_time": "2023-09-02T21:02:06.141Z"
   },
   {
    "duration": 5,
    "start_time": "2023-09-02T21:02:07.198Z"
   },
   {
    "duration": 5,
    "start_time": "2023-09-02T21:02:07.678Z"
   },
   {
    "duration": 7,
    "start_time": "2023-09-02T21:02:08.138Z"
   },
   {
    "duration": 5,
    "start_time": "2023-09-02T21:02:08.605Z"
   },
   {
    "duration": 12,
    "start_time": "2023-09-02T21:02:09.049Z"
   },
   {
    "duration": 6,
    "start_time": "2023-09-02T21:02:09.427Z"
   },
   {
    "duration": 5,
    "start_time": "2023-09-02T21:02:09.727Z"
   },
   {
    "duration": 5,
    "start_time": "2023-09-02T21:02:10.038Z"
   },
   {
    "duration": 6,
    "start_time": "2023-09-02T21:02:10.227Z"
   },
   {
    "duration": 5,
    "start_time": "2023-09-02T21:02:10.398Z"
   },
   {
    "duration": 8,
    "start_time": "2023-09-02T21:02:10.557Z"
   },
   {
    "duration": 9,
    "start_time": "2023-09-02T21:02:10.753Z"
   },
   {
    "duration": 5,
    "start_time": "2023-09-02T21:02:11.277Z"
   },
   {
    "duration": 6,
    "start_time": "2023-09-02T21:02:11.727Z"
   },
   {
    "duration": 6,
    "start_time": "2023-09-02T21:02:12.173Z"
   },
   {
    "duration": 5,
    "start_time": "2023-09-02T21:02:12.628Z"
   },
   {
    "duration": 5,
    "start_time": "2023-09-02T21:02:13.182Z"
   },
   {
    "duration": 5,
    "start_time": "2023-09-02T21:02:13.914Z"
   },
   {
    "duration": 6,
    "start_time": "2023-09-02T21:02:32.078Z"
   },
   {
    "duration": 5,
    "start_time": "2023-09-02T21:03:13.377Z"
   },
   {
    "duration": 3,
    "start_time": "2023-09-02T21:03:16.008Z"
   },
   {
    "duration": 5,
    "start_time": "2023-09-02T21:03:18.779Z"
   },
   {
    "duration": 6,
    "start_time": "2023-09-02T21:04:43.282Z"
   },
   {
    "duration": 6,
    "start_time": "2023-09-02T21:05:08.584Z"
   },
   {
    "duration": 7,
    "start_time": "2023-09-02T21:06:51.626Z"
   },
   {
    "duration": 8,
    "start_time": "2023-09-02T21:07:17.836Z"
   },
   {
    "duration": 8,
    "start_time": "2023-09-02T21:07:21.975Z"
   },
   {
    "duration": 5,
    "start_time": "2023-09-02T21:07:24.046Z"
   },
   {
    "duration": 8,
    "start_time": "2023-09-02T21:07:25.907Z"
   },
   {
    "duration": 7,
    "start_time": "2023-09-02T21:07:41.146Z"
   },
   {
    "duration": 8,
    "start_time": "2023-09-02T21:07:48.396Z"
   },
   {
    "duration": 5,
    "start_time": "2023-09-02T21:07:52.826Z"
   },
   {
    "duration": 4,
    "start_time": "2023-09-02T21:07:57.296Z"
   },
   {
    "duration": 196,
    "start_time": "2023-09-02T21:08:01.896Z"
   },
   {
    "duration": 15,
    "start_time": "2023-09-02T21:08:12.226Z"
   },
   {
    "duration": 1480,
    "start_time": "2023-09-02T21:08:33.832Z"
   },
   {
    "duration": 51,
    "start_time": "2023-09-02T21:08:35.315Z"
   },
   {
    "duration": 14,
    "start_time": "2023-09-02T21:08:35.368Z"
   },
   {
    "duration": 26,
    "start_time": "2023-09-02T21:08:35.383Z"
   },
   {
    "duration": 253,
    "start_time": "2023-09-02T21:08:35.411Z"
   },
   {
    "duration": 4,
    "start_time": "2023-09-02T21:08:35.666Z"
   },
   {
    "duration": 15,
    "start_time": "2023-09-02T21:08:35.671Z"
   },
   {
    "duration": 240,
    "start_time": "2023-09-02T21:08:35.688Z"
   },
   {
    "duration": 39,
    "start_time": "2023-09-02T21:08:35.929Z"
   },
   {
    "duration": 17,
    "start_time": "2023-09-02T21:08:35.969Z"
   },
   {
    "duration": 3,
    "start_time": "2023-09-02T21:08:35.988Z"
   },
   {
    "duration": 6,
    "start_time": "2023-09-02T21:08:35.993Z"
   },
   {
    "duration": 4,
    "start_time": "2023-09-02T21:08:36.001Z"
   },
   {
    "duration": 44,
    "start_time": "2023-09-02T21:08:36.008Z"
   },
   {
    "duration": 277,
    "start_time": "2023-09-02T21:08:36.057Z"
   },
   {
    "duration": 0,
    "start_time": "2023-09-02T21:08:36.335Z"
   },
   {
    "duration": 0,
    "start_time": "2023-09-02T21:08:36.337Z"
   },
   {
    "duration": 0,
    "start_time": "2023-09-02T21:08:36.338Z"
   },
   {
    "duration": 1480,
    "start_time": "2023-09-02T21:09:15.896Z"
   },
   {
    "duration": 41,
    "start_time": "2023-09-02T21:09:17.379Z"
   },
   {
    "duration": 13,
    "start_time": "2023-09-02T21:09:17.422Z"
   },
   {
    "duration": 40,
    "start_time": "2023-09-02T21:09:17.436Z"
   },
   {
    "duration": 232,
    "start_time": "2023-09-02T21:09:17.479Z"
   },
   {
    "duration": 6,
    "start_time": "2023-09-02T21:09:17.726Z"
   },
   {
    "duration": 29,
    "start_time": "2023-09-02T21:09:17.733Z"
   },
   {
    "duration": 235,
    "start_time": "2023-09-02T21:09:17.764Z"
   },
   {
    "duration": 24,
    "start_time": "2023-09-02T21:09:18.001Z"
   },
   {
    "duration": 43,
    "start_time": "2023-09-02T21:09:18.027Z"
   },
   {
    "duration": 4,
    "start_time": "2023-09-02T21:09:18.072Z"
   },
   {
    "duration": 12,
    "start_time": "2023-09-02T21:09:18.077Z"
   },
   {
    "duration": 8,
    "start_time": "2023-09-02T21:09:18.090Z"
   },
   {
    "duration": 7,
    "start_time": "2023-09-02T21:09:18.101Z"
   },
   {
    "duration": 290,
    "start_time": "2023-09-02T21:09:18.110Z"
   },
   {
    "duration": 0,
    "start_time": "2023-09-02T21:09:18.402Z"
   },
   {
    "duration": 0,
    "start_time": "2023-09-02T21:09:18.403Z"
   },
   {
    "duration": 0,
    "start_time": "2023-09-02T21:09:18.404Z"
   },
   {
    "duration": 28,
    "start_time": "2023-09-02T21:10:30.234Z"
   },
   {
    "duration": 19,
    "start_time": "2023-09-02T21:11:16.334Z"
   },
   {
    "duration": 20,
    "start_time": "2023-09-02T21:11:17.155Z"
   },
   {
    "duration": 90,
    "start_time": "2023-09-02T21:11:18.065Z"
   },
   {
    "duration": 80,
    "start_time": "2023-09-02T21:11:18.674Z"
   },
   {
    "duration": 9,
    "start_time": "2023-09-02T21:11:35.124Z"
   },
   {
    "duration": 5,
    "start_time": "2023-09-02T21:11:44.525Z"
   },
   {
    "duration": 4,
    "start_time": "2023-09-02T21:11:46.885Z"
   },
   {
    "duration": 106,
    "start_time": "2023-09-02T21:11:48.645Z"
   },
   {
    "duration": 1411,
    "start_time": "2023-09-02T21:12:25.075Z"
   },
   {
    "duration": 40,
    "start_time": "2023-09-02T21:12:26.488Z"
   },
   {
    "duration": 12,
    "start_time": "2023-09-02T21:12:26.530Z"
   },
   {
    "duration": 32,
    "start_time": "2023-09-02T21:12:26.543Z"
   },
   {
    "duration": 233,
    "start_time": "2023-09-02T21:12:26.578Z"
   },
   {
    "duration": 4,
    "start_time": "2023-09-02T21:12:26.813Z"
   },
   {
    "duration": 18,
    "start_time": "2023-09-02T21:12:26.819Z"
   },
   {
    "duration": 225,
    "start_time": "2023-09-02T21:12:26.847Z"
   },
   {
    "duration": 26,
    "start_time": "2023-09-02T21:12:27.074Z"
   },
   {
    "duration": 17,
    "start_time": "2023-09-02T21:12:27.102Z"
   },
   {
    "duration": 26,
    "start_time": "2023-09-02T21:12:27.121Z"
   },
   {
    "duration": 15,
    "start_time": "2023-09-02T21:12:27.149Z"
   },
   {
    "duration": 7,
    "start_time": "2023-09-02T21:12:27.166Z"
   },
   {
    "duration": 4,
    "start_time": "2023-09-02T21:12:27.176Z"
   },
   {
    "duration": 14,
    "start_time": "2023-09-02T21:12:27.182Z"
   },
   {
    "duration": 9,
    "start_time": "2023-09-02T21:12:27.252Z"
   },
   {
    "duration": 18,
    "start_time": "2023-09-02T21:12:27.348Z"
   },
   {
    "duration": 84,
    "start_time": "2023-09-02T21:12:27.368Z"
   },
   {
    "duration": 124,
    "start_time": "2023-09-02T21:18:57.983Z"
   },
   {
    "duration": 9,
    "start_time": "2023-09-02T21:19:17.893Z"
   },
   {
    "duration": 1806,
    "start_time": "2023-09-03T11:25:38.468Z"
   },
   {
    "duration": 104,
    "start_time": "2023-09-03T11:25:40.276Z"
   },
   {
    "duration": 12,
    "start_time": "2023-09-03T11:25:40.382Z"
   },
   {
    "duration": 25,
    "start_time": "2023-09-03T11:25:40.396Z"
   },
   {
    "duration": 252,
    "start_time": "2023-09-03T11:25:40.423Z"
   },
   {
    "duration": 4,
    "start_time": "2023-09-03T11:25:40.676Z"
   },
   {
    "duration": 20,
    "start_time": "2023-09-03T11:25:40.682Z"
   },
   {
    "duration": 239,
    "start_time": "2023-09-03T11:25:40.704Z"
   },
   {
    "duration": 42,
    "start_time": "2023-09-03T11:25:40.945Z"
   },
   {
    "duration": 16,
    "start_time": "2023-09-03T11:25:40.990Z"
   },
   {
    "duration": 4,
    "start_time": "2023-09-03T11:25:41.008Z"
   },
   {
    "duration": 9,
    "start_time": "2023-09-03T11:25:41.013Z"
   },
   {
    "duration": 33,
    "start_time": "2023-09-03T11:25:41.024Z"
   },
   {
    "duration": 18,
    "start_time": "2023-09-03T11:25:41.060Z"
   },
   {
    "duration": 11,
    "start_time": "2023-09-03T11:25:41.080Z"
   },
   {
    "duration": 82,
    "start_time": "2023-09-03T11:25:41.093Z"
   },
   {
    "duration": 10,
    "start_time": "2023-09-03T11:25:41.257Z"
   },
   {
    "duration": 93,
    "start_time": "2023-09-03T11:25:41.271Z"
   },
   {
    "duration": 95,
    "start_time": "2023-09-03T11:25:41.367Z"
   },
   {
    "duration": 1645,
    "start_time": "2023-09-03T21:23:24.416Z"
   },
   {
    "duration": 95,
    "start_time": "2023-09-03T21:23:26.063Z"
   },
   {
    "duration": 11,
    "start_time": "2023-09-03T21:23:26.160Z"
   },
   {
    "duration": 85,
    "start_time": "2023-09-03T21:23:26.173Z"
   },
   {
    "duration": 214,
    "start_time": "2023-09-03T21:23:26.260Z"
   },
   {
    "duration": 4,
    "start_time": "2023-09-03T21:23:26.476Z"
   },
   {
    "duration": 35,
    "start_time": "2023-09-03T21:23:26.481Z"
   },
   {
    "duration": 236,
    "start_time": "2023-09-03T21:23:26.521Z"
   },
   {
    "duration": 56,
    "start_time": "2023-09-03T21:23:26.760Z"
   },
   {
    "duration": 24,
    "start_time": "2023-09-03T21:23:26.819Z"
   },
   {
    "duration": 5,
    "start_time": "2023-09-03T21:23:26.846Z"
   },
   {
    "duration": 15,
    "start_time": "2023-09-03T21:23:26.853Z"
   },
   {
    "duration": 39,
    "start_time": "2023-09-03T21:23:26.870Z"
   },
   {
    "duration": 15,
    "start_time": "2023-09-03T21:23:26.915Z"
   },
   {
    "duration": 101,
    "start_time": "2023-09-03T21:23:26.932Z"
   },
   {
    "duration": 20,
    "start_time": "2023-09-03T21:23:27.100Z"
   },
   {
    "duration": 11,
    "start_time": "2023-09-03T21:23:27.125Z"
   },
   {
    "duration": 105,
    "start_time": "2023-09-03T21:23:27.141Z"
   },
   {
    "duration": 68,
    "start_time": "2023-09-03T21:23:27.250Z"
   },
   {
    "duration": 93,
    "start_time": "2023-09-03T21:24:41.230Z"
   },
   {
    "duration": 1457,
    "start_time": "2023-09-05T12:18:52.663Z"
   },
   {
    "duration": 85,
    "start_time": "2023-09-05T12:18:54.122Z"
   },
   {
    "duration": 10,
    "start_time": "2023-09-05T12:18:54.209Z"
   },
   {
    "duration": 52,
    "start_time": "2023-09-05T12:18:54.220Z"
   },
   {
    "duration": 201,
    "start_time": "2023-09-05T12:18:54.275Z"
   },
   {
    "duration": 4,
    "start_time": "2023-09-05T12:18:54.477Z"
   },
   {
    "duration": 29,
    "start_time": "2023-09-05T12:18:54.482Z"
   },
   {
    "duration": 234,
    "start_time": "2023-09-05T12:18:54.514Z"
   },
   {
    "duration": 20,
    "start_time": "2023-09-05T12:18:54.749Z"
   },
   {
    "duration": 28,
    "start_time": "2023-09-05T12:18:54.770Z"
   },
   {
    "duration": 5,
    "start_time": "2023-09-05T12:18:54.800Z"
   },
   {
    "duration": 34,
    "start_time": "2023-09-05T12:18:54.806Z"
   },
   {
    "duration": 44,
    "start_time": "2023-09-05T12:18:54.842Z"
   },
   {
    "duration": 22,
    "start_time": "2023-09-05T12:18:54.889Z"
   },
   {
    "duration": 24,
    "start_time": "2023-09-05T12:18:54.912Z"
   },
   {
    "duration": 96,
    "start_time": "2023-09-05T12:18:54.938Z"
   },
   {
    "duration": 106,
    "start_time": "2023-09-05T12:18:55.037Z"
   },
   {
    "duration": 21,
    "start_time": "2023-09-05T12:18:55.145Z"
   },
   {
    "duration": 170,
    "start_time": "2023-09-05T12:18:55.169Z"
   },
   {
    "duration": 1375,
    "start_time": "2023-09-05T13:09:14.286Z"
   },
   {
    "duration": 38,
    "start_time": "2023-09-05T13:09:15.663Z"
   },
   {
    "duration": 11,
    "start_time": "2023-09-05T13:09:15.702Z"
   },
   {
    "duration": 44,
    "start_time": "2023-09-05T13:09:15.715Z"
   },
   {
    "duration": 194,
    "start_time": "2023-09-05T13:09:15.761Z"
   },
   {
    "duration": 4,
    "start_time": "2023-09-05T13:09:15.957Z"
   },
   {
    "duration": 29,
    "start_time": "2023-09-05T13:09:15.963Z"
   },
   {
    "duration": 228,
    "start_time": "2023-09-05T13:09:15.994Z"
   },
   {
    "duration": 27,
    "start_time": "2023-09-05T13:09:16.223Z"
   },
   {
    "duration": 20,
    "start_time": "2023-09-05T13:09:16.252Z"
   },
   {
    "duration": 17,
    "start_time": "2023-09-05T13:09:16.273Z"
   },
   {
    "duration": 22,
    "start_time": "2023-09-05T13:09:16.292Z"
   },
   {
    "duration": 18,
    "start_time": "2023-09-05T13:09:16.316Z"
   },
   {
    "duration": 30,
    "start_time": "2023-09-05T13:09:16.336Z"
   },
   {
    "duration": 51,
    "start_time": "2023-09-05T13:09:16.368Z"
   },
   {
    "duration": 21,
    "start_time": "2023-09-05T13:09:16.421Z"
   },
   {
    "duration": 94,
    "start_time": "2023-09-05T13:09:16.443Z"
   },
   {
    "duration": 95,
    "start_time": "2023-09-05T13:09:16.539Z"
   },
   {
    "duration": 17,
    "start_time": "2023-09-05T13:09:16.636Z"
   },
   {
    "duration": 1321,
    "start_time": "2023-09-05T14:34:49.895Z"
   },
   {
    "duration": 37,
    "start_time": "2023-09-05T14:34:51.218Z"
   },
   {
    "duration": 9,
    "start_time": "2023-09-05T14:34:51.257Z"
   },
   {
    "duration": 42,
    "start_time": "2023-09-05T14:34:51.268Z"
   },
   {
    "duration": 216,
    "start_time": "2023-09-05T14:34:51.311Z"
   },
   {
    "duration": 4,
    "start_time": "2023-09-05T14:34:51.533Z"
   },
   {
    "duration": 33,
    "start_time": "2023-09-05T14:34:51.538Z"
   },
   {
    "duration": 213,
    "start_time": "2023-09-05T14:34:51.573Z"
   },
   {
    "duration": 22,
    "start_time": "2023-09-05T14:34:51.787Z"
   },
   {
    "duration": 27,
    "start_time": "2023-09-05T14:34:51.811Z"
   },
   {
    "duration": 5,
    "start_time": "2023-09-05T14:34:51.839Z"
   },
   {
    "duration": 18,
    "start_time": "2023-09-05T14:34:51.845Z"
   },
   {
    "duration": 9,
    "start_time": "2023-09-05T14:34:51.864Z"
   },
   {
    "duration": 23,
    "start_time": "2023-09-05T14:34:51.875Z"
   },
   {
    "duration": 40,
    "start_time": "2023-09-05T14:34:51.900Z"
   },
   {
    "duration": 94,
    "start_time": "2023-09-05T14:34:51.943Z"
   },
   {
    "duration": 119,
    "start_time": "2023-09-05T14:34:52.039Z"
   },
   {
    "duration": 109,
    "start_time": "2023-09-05T14:34:52.160Z"
   },
   {
    "duration": 69,
    "start_time": "2023-09-05T14:34:52.271Z"
   }
  ],
  "kernelspec": {
   "display_name": "Python 3 (ipykernel)",
   "language": "python",
   "name": "python3"
  },
  "language_info": {
   "codemirror_mode": {
    "name": "ipython",
    "version": 3
   },
   "file_extension": ".py",
   "mimetype": "text/x-python",
   "name": "python",
   "nbconvert_exporter": "python",
   "pygments_lexer": "ipython3",
   "version": "3.9.5"
  },
  "toc": {
   "base_numbering": 1,
   "nav_menu": {},
   "number_sections": true,
   "sideBar": true,
   "skip_h1_title": true,
   "title_cell": "Содержание",
   "title_sidebar": "Содержание",
   "toc_cell": true,
   "toc_position": {
    "height": "calc(100% - 180px)",
    "left": "10px",
    "top": "150px",
    "width": "190.172px"
   },
   "toc_section_display": true,
   "toc_window_display": true
  }
 },
 "nbformat": 4,
 "nbformat_minor": 2
}
