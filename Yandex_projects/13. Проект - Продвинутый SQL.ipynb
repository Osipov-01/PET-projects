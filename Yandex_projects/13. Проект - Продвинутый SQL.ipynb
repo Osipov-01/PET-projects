{
 "cells": [
  {
   "cell_type": "markdown",
   "metadata": {},
   "source": [
    "<div style=\"border:solid blue 2px; padding: 20px\">\n",
    "  \n",
    "**Привет, Иван!**\n",
    "\n",
    "Меня зовут Юлия Никишина, я ревьюер, буду проверять твой проект. \n",
    "\n",
    "Если не против, предлагаю общаться на \"ты\". Если это неприемлемо, обязательно напиши мне в комментариях, и мы перейдем на \"Вы\".\n",
    "\n",
    "Далее в файле ты увидишь мои комментарии в цветных ячейках с пометкой \"Комментарий ревьюера\". Цвет ячеек зависит от того, какие действия от тебя требуются, ниже указано подробнее. \n",
    "\n",
    "**Важно:** Пожалуйста, не удаляй и не изменяй мои комментарии. При повторной проверке я буду ориентироваться на них. \n",
    "\n",
    "<div class=\"alert alert-success\"; style=\"border-left: 7px solid green\">\n",
    "<b>✅ Комментарий ревьюера (хорошо)</b> \n",
    "    \n",
    "Такими комментариями я буду отмечать хорошо проделаную работу.\n",
    "</div>\n",
    "\n",
    "<div class=\"alert alert-warning\"; style=\"border-left: 7px solid gold\">\n",
    "<b>⚠️ Комментарий ревьюера (обрати внимание)</b> \n",
    "    \n",
    "Части проекта, помеченные такими комментариями, можно не исправлять, но стоит обратить на них внимание. В таких комментариях я постараюсь предложить альтернативный вариант решения или дам рекомендации на будущее. \n",
    "</div>\n",
    "\n",
    "<div class=\"alert alert-danger\"; style=\"border-left: 7px solid red\">\n",
    "<b>⛔️ Комментарий ревьюера (нужно исправить)</b> \n",
    "    \n",
    "Если ты видишь такой комментарий, значит я указываю тебе на недочёт, его нужно исправить. Без такого исправления я не смогу принять твою работу.\n",
    "</div>\n",
    "\n",
    "Ты можешь под моими комментариями оставлять свои, описывать в них сделанные исправления или задавать вопросы, выделяя их другим цветом. \n",
    "\n",
    "<div class=\"alert alert-info\"; style=\"border-left: 7px solid blue\">\n",
    "<b>Комментарий студента</b>"
   ]
  },
  {
   "cell_type": "markdown",
   "metadata": {},
   "source": [
    "<div style=\"border:solid blue 2px; padding: 20px\">\n",
    "  \n",
    "<div style=\"border:solid blue 2px; padding: 20px\">\n",
    "  \n",
    "**Заключительный комментарий, ревью 1**\n",
    "    \n",
    "Иван, привет. \n",
    "    \n",
    "Спасибо за проект. Ты отлично справился со всеми заданиями. Критичных замечаний нет. Твой проект принят, поздравляю. \n",
    "\n",
    "---\n",
    "\n",
    "Как ты возможно уже знаешь, SQL - важный скилл для аналитика данных, его знание требуется требуется в большом количестве вакансий, поэтому стоит его регулярно практиковать, чтобы не забывался. Могу порекомендовать тебе следующие ресурсы для этого:\n",
    "    \n",
    "1. [Бесплатный курс на Stepik \"Введение в базы данных\"](https://stepik.org/course/551/syllabus)\n",
    "2. [Бесплатный тренажер по SQL там же](https://stepik.org/course/63054)\n",
    "2. [Еще недорогой краткий курс с той же платформы об оконных функциях](https://stepik.org/course/95367/syllabus)\n",
    "3. Каналы в телеграмме, в которых можно задать вопросы по SQL\n",
    "    - [sqlcom](https://t.me/sqlcom)\n",
    "    - [sql_ninja](https://t.me/sql_ninja)\n",
    "4. Еще несколько тренажеров, платных, но с бесплатной частью\n",
    "   - [Тренажер SQLhabit](https://www.sqlhabit.com/)\n",
    "   - [Тренажер SQLzoo](https://sqlzoo.net/wiki/SQL_Tutorial)\n",
    "   - [Тренажер LearnDB](https://learndb.ru/courses)\n",
    "   - [Тренажер W3Schools](https://www.w3schools.com/sql/)\n",
    "    \n",
    "Желаю тебе успехов в дальнейшем обучении."
   ]
  },
  {
   "cell_type": "markdown",
   "metadata": {
    "toc": true
   },
   "source": [
    "<h1>Table of Contents<span class=\"tocSkip\"></span></h1>\n",
    "<div class=\"toc\"><ul class=\"toc-item\"><li><ul class=\"toc-item\"><li><ul class=\"toc-item\"><li><span><a href=\"#Конфигурация-для-подключения-к-базе-данных-data-analyst-advanced-sql\" data-toc-modified-id=\"Конфигурация-для-подключения-к-базе-данных-data-analyst-advanced-sql-0.0.1\"><span class=\"toc-item-num\">0.0.1&nbsp;&nbsp;</span>Конфигурация для подключения к базе данных <code>data-analyst-advanced-sql</code></a></span></li></ul></li></ul></li><li><span><a href=\"#Задания-из-первой-части-проекта\" data-toc-modified-id=\"Задания-из-первой-части-проекта-1\"><span class=\"toc-item-num\">1&nbsp;&nbsp;</span>Задания из первой части проекта</a></span><ul class=\"toc-item\"><li><span><a href=\"#Задание-1\" data-toc-modified-id=\"Задание-1-1.1\"><span class=\"toc-item-num\">1.1&nbsp;&nbsp;</span>Задание 1</a></span></li><li><span><a href=\"#Задание-2\" data-toc-modified-id=\"Задание-2-1.2\"><span class=\"toc-item-num\">1.2&nbsp;&nbsp;</span>Задание 2</a></span></li><li><span><a href=\"#Задание-3\" data-toc-modified-id=\"Задание-3-1.3\"><span class=\"toc-item-num\">1.3&nbsp;&nbsp;</span>Задание 3</a></span></li><li><span><a href=\"#Задание-4\" data-toc-modified-id=\"Задание-4-1.4\"><span class=\"toc-item-num\">1.4&nbsp;&nbsp;</span>Задание 4</a></span></li><li><span><a href=\"#Задание-5\" data-toc-modified-id=\"Задание-5-1.5\"><span class=\"toc-item-num\">1.5&nbsp;&nbsp;</span>Задание 5</a></span></li><li><span><a href=\"#Задание-6\" data-toc-modified-id=\"Задание-6-1.6\"><span class=\"toc-item-num\">1.6&nbsp;&nbsp;</span>Задание 6</a></span></li><li><span><a href=\"#Задание-7\" data-toc-modified-id=\"Задание-7-1.7\"><span class=\"toc-item-num\">1.7&nbsp;&nbsp;</span>Задание 7</a></span></li><li><span><a href=\"#Задание-8\" data-toc-modified-id=\"Задание-8-1.8\"><span class=\"toc-item-num\">1.8&nbsp;&nbsp;</span>Задание 8</a></span></li><li><span><a href=\"#Задание-9\" data-toc-modified-id=\"Задание-9-1.9\"><span class=\"toc-item-num\">1.9&nbsp;&nbsp;</span>Задание 9</a></span></li><li><span><a href=\"#Задание-10\" data-toc-modified-id=\"Задание-10-1.10\"><span class=\"toc-item-num\">1.10&nbsp;&nbsp;</span>Задание 10</a></span></li><li><span><a href=\"#Задание-11\" data-toc-modified-id=\"Задание-11-1.11\"><span class=\"toc-item-num\">1.11&nbsp;&nbsp;</span>Задание 11</a></span></li><li><span><a href=\"#Задание-12\" data-toc-modified-id=\"Задание-12-1.12\"><span class=\"toc-item-num\">1.12&nbsp;&nbsp;</span>Задание 12</a></span></li><li><span><a href=\"#Задание-13\" data-toc-modified-id=\"Задание-13-1.13\"><span class=\"toc-item-num\">1.13&nbsp;&nbsp;</span>Задание 13</a></span></li></ul></li><li><span><a href=\"#Задания-(вторая-часть)\" data-toc-modified-id=\"Задания-(вторая-часть)-2\"><span class=\"toc-item-num\">2&nbsp;&nbsp;</span>Задания (вторая часть)</a></span><ul class=\"toc-item\"><li><span><a href=\"#Задание-1\" data-toc-modified-id=\"Задание-1-2.1\"><span class=\"toc-item-num\">2.1&nbsp;&nbsp;</span>Задание 1</a></span></li><li><span><a href=\"#Задание-2\" data-toc-modified-id=\"Задание-2-2.2\"><span class=\"toc-item-num\">2.2&nbsp;&nbsp;</span>Задание 2</a></span></li><li><span><a href=\"#Задание-3\" data-toc-modified-id=\"Задание-3-2.3\"><span class=\"toc-item-num\">2.3&nbsp;&nbsp;</span>Задание 3</a></span></li><li><span><a href=\"#Задание-4\" data-toc-modified-id=\"Задание-4-2.4\"><span class=\"toc-item-num\">2.4&nbsp;&nbsp;</span>Задание 4</a></span></li><li><span><a href=\"#Задание-5\" data-toc-modified-id=\"Задание-5-2.5\"><span class=\"toc-item-num\">2.5&nbsp;&nbsp;</span>Задание 5</a></span></li><li><span><a href=\"#Задание-6\" data-toc-modified-id=\"Задание-6-2.6\"><span class=\"toc-item-num\">2.6&nbsp;&nbsp;</span>Задание 6</a></span></li><li><span><a href=\"#Задание-7\" data-toc-modified-id=\"Задание-7-2.7\"><span class=\"toc-item-num\">2.7&nbsp;&nbsp;</span>Задание 7</a></span></li><li><span><a href=\"#Задание-8\" data-toc-modified-id=\"Задание-8-2.8\"><span class=\"toc-item-num\">2.8&nbsp;&nbsp;</span>Задание 8</a></span></li><li><span><a href=\"#Задание-9\" data-toc-modified-id=\"Задание-9-2.9\"><span class=\"toc-item-num\">2.9&nbsp;&nbsp;</span>Задание 9</a></span></li><li><span><a href=\"#Задание-10\" data-toc-modified-id=\"Задание-10-2.10\"><span class=\"toc-item-num\">2.10&nbsp;&nbsp;</span>Задание 10</a></span></li></ul></li></ul></div>"
   ]
  },
  {
   "cell_type": "markdown",
   "metadata": {},
   "source": [
    "<div class=\"alert alert-block alert-info\">\n",
    "<b>Комментарий: </b> Доброго времени суток! В проект добавил также задания из первой части для проверки запросов. Обнаружил, что запросы для заданий 10 и 11 в блокноте не работают, хотя в тренажере работал, в DBeaver - тоже. Помоги, пожалуйста, расскажи, почему не работает?\n",
    "    \n",
    "<div class=\"alert alert-warning\"; style=\"border-left: 7px solid gold\">\n",
    "<b>⚠️ Комментарий ревьюера, ревью 1</b> \n",
    "\n",
    "Иван, поправила запросы так, чтобы работали. Для правильного прочтения запроса в sqlalchemy вместо `%` нужно ставить `%%`. \n",
    "    \n",
    "Чаще всего ты самостоятельно сможешь найти причину возникающей ошибки и получить ответ, как ее устранить, если введешь в поисковике код / текст ошибки.\n",
    "    \n",
    "К сожалению, не знаю, как запрос отправляется в тренажере, поэтому не смогу объяснить, почему там работает с одинарным `%`.\n",
    "</div>"
   ]
  },
  {
   "cell_type": "markdown",
   "metadata": {
    "id": "sRW85nPMDWKb"
   },
   "source": [
    "В этой части проекта вам нужно написать несколько SQL-запросов в Jupyter Notebook. Эти задания проверят вручную, и вы получите комментарии к составленным запросам. \n",
    "\n",
    "Необходимые данные находятся в таблицах схемы `stackoverflow`. Не забудьте подключиться к базе с помощью SQLAlchemy. Вспомните инструкцию из урока 11 «Когортный анализ. Представление результатов» в теме 2 «Установка и настройка базы данных и клиента базы данных».. Пример кода для подключения к базе и выгрузки результатов вы найдёте и в этой тетрадке. \n",
    "\n",
    "Некоторые задания включают дополнительные вопросы — не пропустите их. На часть вопросов можно ответить текстом, а для некоторых понадобится визуализация. Помните, что результат запроса можно выгрузить в датафрейм. \n",
    "\n",
    "Чтобы ожидаемый результат было легче представить, мы добавили к каждому заданию небольшой фрагмент итоговой таблицы. В запросах вы можете использовать любые подходящие названия полей."
   ]
  },
  {
   "cell_type": "markdown",
   "metadata": {},
   "source": [
    "<div class=\"alert alert-warning\"; style=\"border-left: 7px solid gold\">\n",
    "<b>⚠️ Комментарий ревьюера, ревью 1</b> \n",
    "\n",
    "Хорошо, что начинаешь со введения. Но также стоит в начале указывать название проекта. Можно назвать его самостоятельно так, чтобы была отражена суть содержания.\n",
    "    \n",
    "Также перед введением нужно указывать название проекта.\n",
    "</div>\n"
   ]
  },
  {
   "cell_type": "code",
   "execution_count": 1,
   "metadata": {
    "id": "nlZBlglMDWKe"
   },
   "outputs": [],
   "source": [
    "import pandas as pd\n",
    "import matplotlib.pyplot as plt\n",
    "from sqlalchemy import create_engine \n",
    "import seaborn as sns\n",
    "import numpy as np"
   ]
  },
  {
   "cell_type": "markdown",
   "metadata": {
    "id": "XnOE3n28DWKg"
   },
   "source": [
    "### Конфигурация для подключения к базе данных `data-analyst-advanced-sql`\n",
    "Эта база данных содержит схему `stackoverflow`, с которой вы будете работать в проекте"
   ]
  },
  {
   "cell_type": "code",
   "execution_count": 2,
   "metadata": {
    "id": "6p-yGp7qDWKg"
   },
   "outputs": [],
   "source": [
    "db_config = {\n",
    "    'user': 'praktikum_student', # имя пользователя\n",
    "    'pwd': 'Sdf4$2;d-d30pp', # пароль\n",
    "    'host': 'rc1b-wcoijxj3yxfsf3fs.mdb.yandexcloud.net',\n",
    "    'port': 6432, # порт подключения\n",
    "    'db': 'data-analyst-advanced-sql' # название базы данных\n",
    "}  \n",
    "\n",
    "connection_string = 'postgresql://{}:{}@{}:{}/{}'.format(\n",
    "    db_config['user'],\n",
    "    db_config['pwd'],\n",
    "    db_config['host'],\n",
    "    db_config['port'],\n",
    "    db_config['db'],\n",
    ")"
   ]
  },
  {
   "cell_type": "markdown",
   "metadata": {
    "id": "2Rg8ZpS0DWKh"
   },
   "source": [
    "Создание подключения"
   ]
  },
  {
   "cell_type": "code",
   "execution_count": 3,
   "metadata": {
    "id": "DamCUTR6DWKi"
   },
   "outputs": [],
   "source": [
    "engine = create_engine(connection_string) "
   ]
  },
  {
   "cell_type": "markdown",
   "metadata": {
    "id": "bel8XeSlDWKj"
   },
   "source": [
    "Пример запроса к базе данных\n",
    "\n",
    "`sample_df` является pandas-датафреймом."
   ]
  },
  {
   "cell_type": "code",
   "execution_count": 4,
   "metadata": {
    "id": "6Z_fw0yLDWKk"
   },
   "outputs": [],
   "source": [
    "query = '''\n",
    "SELECT *\n",
    "FROM stackoverflow.users\n",
    "LIMIT 10;\n",
    "'''\n",
    "\n",
    "sample_df = pd.read_sql_query(query, con=engine) "
   ]
  },
  {
   "cell_type": "code",
   "execution_count": 5,
   "metadata": {
    "id": "ZpuZ290oDWKk",
    "outputId": "22785a0a-e2bc-4559-ec3c-4879c4b377eb",
    "scrolled": true
   },
   "outputs": [
    {
     "data": {
      "text/html": [
       "<div>\n",
       "<style scoped>\n",
       "    .dataframe tbody tr th:only-of-type {\n",
       "        vertical-align: middle;\n",
       "    }\n",
       "\n",
       "    .dataframe tbody tr th {\n",
       "        vertical-align: top;\n",
       "    }\n",
       "\n",
       "    .dataframe thead th {\n",
       "        text-align: right;\n",
       "    }\n",
       "</style>\n",
       "<table border=\"1\" class=\"dataframe\">\n",
       "  <thead>\n",
       "    <tr style=\"text-align: right;\">\n",
       "      <th></th>\n",
       "      <th>id</th>\n",
       "      <th>creation_date</th>\n",
       "      <th>display_name</th>\n",
       "      <th>last_access_date</th>\n",
       "      <th>location</th>\n",
       "      <th>reputation</th>\n",
       "      <th>views</th>\n",
       "    </tr>\n",
       "  </thead>\n",
       "  <tbody>\n",
       "    <tr>\n",
       "      <th>0</th>\n",
       "      <td>1</td>\n",
       "      <td>2008-07-31 14:22:31</td>\n",
       "      <td>Jeff Atwood</td>\n",
       "      <td>2018-08-29 02:34:23</td>\n",
       "      <td>El Cerrito, CA</td>\n",
       "      <td>44300</td>\n",
       "      <td>408587</td>\n",
       "    </tr>\n",
       "    <tr>\n",
       "      <th>1</th>\n",
       "      <td>2</td>\n",
       "      <td>2008-07-31 14:22:31</td>\n",
       "      <td>Geoff Dalgas</td>\n",
       "      <td>2018-08-23 17:31:56</td>\n",
       "      <td>Corvallis, OR</td>\n",
       "      <td>3491</td>\n",
       "      <td>23966</td>\n",
       "    </tr>\n",
       "    <tr>\n",
       "      <th>2</th>\n",
       "      <td>3</td>\n",
       "      <td>2008-07-31 14:22:31</td>\n",
       "      <td>Jarrod Dixon</td>\n",
       "      <td>2018-08-30 20:56:24</td>\n",
       "      <td>Raleigh, NC, United States</td>\n",
       "      <td>13418</td>\n",
       "      <td>24396</td>\n",
       "    </tr>\n",
       "    <tr>\n",
       "      <th>3</th>\n",
       "      <td>4</td>\n",
       "      <td>2008-07-31 14:22:31</td>\n",
       "      <td>Joel Spolsky</td>\n",
       "      <td>2018-08-14 22:18:15</td>\n",
       "      <td>New York, NY</td>\n",
       "      <td>28768</td>\n",
       "      <td>73755</td>\n",
       "    </tr>\n",
       "    <tr>\n",
       "      <th>4</th>\n",
       "      <td>5</td>\n",
       "      <td>2008-07-31 14:22:31</td>\n",
       "      <td>Jon Galloway</td>\n",
       "      <td>2018-08-29 16:48:36</td>\n",
       "      <td>San Diego, CA</td>\n",
       "      <td>39172</td>\n",
       "      <td>11700</td>\n",
       "    </tr>\n",
       "    <tr>\n",
       "      <th>5</th>\n",
       "      <td>8</td>\n",
       "      <td>2008-07-31 21:33:24</td>\n",
       "      <td>Eggs McLaren</td>\n",
       "      <td>2018-04-09 02:04:56</td>\n",
       "      <td>None</td>\n",
       "      <td>942</td>\n",
       "      <td>6372</td>\n",
       "    </tr>\n",
       "    <tr>\n",
       "      <th>6</th>\n",
       "      <td>9</td>\n",
       "      <td>2008-07-31 21:35:27</td>\n",
       "      <td>Kevin Dente</td>\n",
       "      <td>2018-08-30 18:18:03</td>\n",
       "      <td>Oakland, CA</td>\n",
       "      <td>14337</td>\n",
       "      <td>4949</td>\n",
       "    </tr>\n",
       "    <tr>\n",
       "      <th>7</th>\n",
       "      <td>11</td>\n",
       "      <td>2008-08-01 00:59:11</td>\n",
       "      <td>Anonymous User</td>\n",
       "      <td>2008-08-01 00:59:11</td>\n",
       "      <td>None</td>\n",
       "      <td>1890</td>\n",
       "      <td>2123</td>\n",
       "    </tr>\n",
       "    <tr>\n",
       "      <th>8</th>\n",
       "      <td>13</td>\n",
       "      <td>2008-08-01 04:18:05</td>\n",
       "      <td>Chris Jester-Young</td>\n",
       "      <td>2018-08-30 02:47:23</td>\n",
       "      <td>Raleigh, NC, United States</td>\n",
       "      <td>177138</td>\n",
       "      <td>35414</td>\n",
       "    </tr>\n",
       "    <tr>\n",
       "      <th>9</th>\n",
       "      <td>17</td>\n",
       "      <td>2008-08-01 12:02:22</td>\n",
       "      <td>Nick Berardi</td>\n",
       "      <td>2018-01-22 01:35:38</td>\n",
       "      <td>Issaquah, WA</td>\n",
       "      <td>44443</td>\n",
       "      <td>4786</td>\n",
       "    </tr>\n",
       "  </tbody>\n",
       "</table>\n",
       "</div>"
      ],
      "text/plain": [
       "   id       creation_date        display_name    last_access_date  \\\n",
       "0   1 2008-07-31 14:22:31         Jeff Atwood 2018-08-29 02:34:23   \n",
       "1   2 2008-07-31 14:22:31        Geoff Dalgas 2018-08-23 17:31:56   \n",
       "2   3 2008-07-31 14:22:31        Jarrod Dixon 2018-08-30 20:56:24   \n",
       "3   4 2008-07-31 14:22:31        Joel Spolsky 2018-08-14 22:18:15   \n",
       "4   5 2008-07-31 14:22:31        Jon Galloway 2018-08-29 16:48:36   \n",
       "5   8 2008-07-31 21:33:24        Eggs McLaren 2018-04-09 02:04:56   \n",
       "6   9 2008-07-31 21:35:27         Kevin Dente 2018-08-30 18:18:03   \n",
       "7  11 2008-08-01 00:59:11      Anonymous User 2008-08-01 00:59:11   \n",
       "8  13 2008-08-01 04:18:05  Chris Jester-Young 2018-08-30 02:47:23   \n",
       "9  17 2008-08-01 12:02:22        Nick Berardi 2018-01-22 01:35:38   \n",
       "\n",
       "                     location  reputation   views  \n",
       "0              El Cerrito, CA       44300  408587  \n",
       "1               Corvallis, OR        3491   23966  \n",
       "2  Raleigh, NC, United States       13418   24396  \n",
       "3                New York, NY       28768   73755  \n",
       "4               San Diego, CA       39172   11700  \n",
       "5                        None         942    6372  \n",
       "6                 Oakland, CA       14337    4949  \n",
       "7                        None        1890    2123  \n",
       "8  Raleigh, NC, United States      177138   35414  \n",
       "9                Issaquah, WA       44443    4786  "
      ]
     },
     "execution_count": 5,
     "metadata": {},
     "output_type": "execute_result"
    }
   ],
   "source": [
    "sample_df"
   ]
  },
  {
   "cell_type": "markdown",
   "metadata": {},
   "source": [
    "<div class=\"alert alert-success\"; style=\"border-left: 7px solid green\">\n",
    "<b>✅ Комментарий ревьюера, ревью 1</b> \n",
    "\n",
    "Подключение к базе создано. Первые строки таблицы выведены для ознакомления."
   ]
  },
  {
   "cell_type": "markdown",
   "metadata": {},
   "source": [
    "# Задания из первой части проекта"
   ]
  },
  {
   "cell_type": "markdown",
   "metadata": {},
   "source": [
    "## Задание 1"
   ]
  },
  {
   "cell_type": "markdown",
   "metadata": {},
   "source": [
    "Найдите количество вопросов, которые набрали больше 300 очков или как минимум 100 раз были добавлены в «Закладки»."
   ]
  },
  {
   "cell_type": "markdown",
   "metadata": {},
   "source": [
    "|  | count |\n",
    "| - | - |\n",
    "| 0 | 1355 |"
   ]
  },
  {
   "cell_type": "code",
   "execution_count": 6,
   "metadata": {},
   "outputs": [],
   "source": [
    "query = '''\n",
    "SELECT COUNT(id)\n",
    "FROM stackoverflow.posts\n",
    "WHERE (favorites_count >= 100 OR\n",
    "    score > 300) AND\n",
    "    post_type_id = 1;\n",
    "'''\n",
    "\n",
    "df_1_1 = pd.read_sql_query(query, con=engine) "
   ]
  },
  {
   "cell_type": "code",
   "execution_count": 7,
   "metadata": {},
   "outputs": [
    {
     "data": {
      "text/html": [
       "<div>\n",
       "<style scoped>\n",
       "    .dataframe tbody tr th:only-of-type {\n",
       "        vertical-align: middle;\n",
       "    }\n",
       "\n",
       "    .dataframe tbody tr th {\n",
       "        vertical-align: top;\n",
       "    }\n",
       "\n",
       "    .dataframe thead th {\n",
       "        text-align: right;\n",
       "    }\n",
       "</style>\n",
       "<table border=\"1\" class=\"dataframe\">\n",
       "  <thead>\n",
       "    <tr style=\"text-align: right;\">\n",
       "      <th></th>\n",
       "      <th>count</th>\n",
       "    </tr>\n",
       "  </thead>\n",
       "  <tbody>\n",
       "    <tr>\n",
       "      <th>0</th>\n",
       "      <td>1355</td>\n",
       "    </tr>\n",
       "  </tbody>\n",
       "</table>\n",
       "</div>"
      ],
      "text/plain": [
       "   count\n",
       "0   1355"
      ]
     },
     "execution_count": 7,
     "metadata": {},
     "output_type": "execute_result"
    }
   ],
   "source": [
    "df_1_1"
   ]
  },
  {
   "cell_type": "markdown",
   "metadata": {},
   "source": [
    "## Задание 2"
   ]
  },
  {
   "cell_type": "markdown",
   "metadata": {},
   "source": [
    "Сколько в среднем в день задавали вопросов с 1 по 18 ноября 2008 включительно? Результат округлите до целого числа."
   ]
  },
  {
   "cell_type": "markdown",
   "metadata": {},
   "source": [
    "|  | avg_c_questions |\n",
    "| - | - |\n",
    "| 0 | 383.0 |"
   ]
  },
  {
   "cell_type": "code",
   "execution_count": 8,
   "metadata": {},
   "outputs": [],
   "source": [
    "query = '''\n",
    "WITH questions AS\n",
    "    (\n",
    "        SELECT DISTINCT DATE_TRUNC('day', creation_date)::date AS date_question,\n",
    "            COUNT(id) OVER(PARTITION BY DATE_TRUNC('day', creation_date)) AS c_questions\n",
    "        FROM StackOverflow.posts\n",
    "        WHERE (DATE_TRUNC('day', creation_date)::date >= '01-11-2008' AND\n",
    "                DATE_TRUNC('day', creation_date)::date <= '18-11-2008')\n",
    "             AND post_type_id = 1\n",
    "        ORDER BY date_question\n",
    "    )\n",
    "   \n",
    "SELECT ROUND(AVG(c_questions), 0) AS avg_c_questions\n",
    "FROM questions;\n",
    "'''\n",
    "\n",
    "df_1_2 = pd.read_sql_query(query, con=engine) "
   ]
  },
  {
   "cell_type": "code",
   "execution_count": 9,
   "metadata": {},
   "outputs": [
    {
     "data": {
      "text/html": [
       "<div>\n",
       "<style scoped>\n",
       "    .dataframe tbody tr th:only-of-type {\n",
       "        vertical-align: middle;\n",
       "    }\n",
       "\n",
       "    .dataframe tbody tr th {\n",
       "        vertical-align: top;\n",
       "    }\n",
       "\n",
       "    .dataframe thead th {\n",
       "        text-align: right;\n",
       "    }\n",
       "</style>\n",
       "<table border=\"1\" class=\"dataframe\">\n",
       "  <thead>\n",
       "    <tr style=\"text-align: right;\">\n",
       "      <th></th>\n",
       "      <th>avg_c_questions</th>\n",
       "    </tr>\n",
       "  </thead>\n",
       "  <tbody>\n",
       "    <tr>\n",
       "      <th>0</th>\n",
       "      <td>383.0</td>\n",
       "    </tr>\n",
       "  </tbody>\n",
       "</table>\n",
       "</div>"
      ],
      "text/plain": [
       "   avg_c_questions\n",
       "0            383.0"
      ]
     },
     "execution_count": 9,
     "metadata": {},
     "output_type": "execute_result"
    }
   ],
   "source": [
    "df_1_2"
   ]
  },
  {
   "cell_type": "markdown",
   "metadata": {},
   "source": [
    "## Задание 3"
   ]
  },
  {
   "cell_type": "markdown",
   "metadata": {},
   "source": [
    "Сколько пользователей получили значки сразу в день регистрации? Выведите количество уникальных пользователей."
   ]
  },
  {
   "cell_type": "markdown",
   "metadata": {},
   "source": [
    "| | count |\n",
    "| - | - |\n",
    "| 0 | 7047 |"
   ]
  },
  {
   "cell_type": "code",
   "execution_count": 10,
   "metadata": {},
   "outputs": [],
   "source": [
    "query = '''\n",
    "SELECT\n",
    "    COUNT(DISTINCT(b.user_id))\n",
    "FROM StackOverflow.badges AS b\n",
    "LEFT JOIN StackOverflow.users AS u ON b.user_id = u.id\n",
    "WHERE DATE_TRUNC('day', u.creation_date) = DATE_TRUNC('day', b.creation_date);\n",
    "'''\n",
    "\n",
    "df_1_3 = pd.read_sql_query(query, con=engine) "
   ]
  },
  {
   "cell_type": "code",
   "execution_count": 11,
   "metadata": {},
   "outputs": [
    {
     "data": {
      "text/html": [
       "<div>\n",
       "<style scoped>\n",
       "    .dataframe tbody tr th:only-of-type {\n",
       "        vertical-align: middle;\n",
       "    }\n",
       "\n",
       "    .dataframe tbody tr th {\n",
       "        vertical-align: top;\n",
       "    }\n",
       "\n",
       "    .dataframe thead th {\n",
       "        text-align: right;\n",
       "    }\n",
       "</style>\n",
       "<table border=\"1\" class=\"dataframe\">\n",
       "  <thead>\n",
       "    <tr style=\"text-align: right;\">\n",
       "      <th></th>\n",
       "      <th>count</th>\n",
       "    </tr>\n",
       "  </thead>\n",
       "  <tbody>\n",
       "    <tr>\n",
       "      <th>0</th>\n",
       "      <td>7047</td>\n",
       "    </tr>\n",
       "  </tbody>\n",
       "</table>\n",
       "</div>"
      ],
      "text/plain": [
       "   count\n",
       "0   7047"
      ]
     },
     "execution_count": 11,
     "metadata": {},
     "output_type": "execute_result"
    }
   ],
   "source": [
    "df_1_3"
   ]
  },
  {
   "cell_type": "markdown",
   "metadata": {},
   "source": [
    "## Задание 4"
   ]
  },
  {
   "cell_type": "markdown",
   "metadata": {},
   "source": [
    "Сколько уникальных постов пользователя с именем Joel Coehoorn получили хотя бы один голос?"
   ]
  },
  {
   "cell_type": "markdown",
   "metadata": {},
   "source": [
    "| | c_voted_posts |\n",
    "| - | - |\n",
    "| 0 | 12 |"
   ]
  },
  {
   "cell_type": "code",
   "execution_count": 12,
   "metadata": {},
   "outputs": [],
   "source": [
    "query = '''\n",
    "SELECT COUNT(id) AS c_voted_posts\n",
    "FROM StackOverflow.posts\n",
    "WHERE user_id IN \n",
    "    (\n",
    "    SELECT id\n",
    "    FROM StackOverflow.users\n",
    "    WHERE display_name = 'Joel Coehoorn'\n",
    "    ) AND\n",
    "    id IN\n",
    "    (\n",
    "    SELECT post_id\n",
    "    FROM StackOverflow.votes\n",
    "    )\n",
    "'''\n",
    "\n",
    "df_1_4 = pd.read_sql_query(query, con=engine) "
   ]
  },
  {
   "cell_type": "code",
   "execution_count": 13,
   "metadata": {},
   "outputs": [
    {
     "data": {
      "text/html": [
       "<div>\n",
       "<style scoped>\n",
       "    .dataframe tbody tr th:only-of-type {\n",
       "        vertical-align: middle;\n",
       "    }\n",
       "\n",
       "    .dataframe tbody tr th {\n",
       "        vertical-align: top;\n",
       "    }\n",
       "\n",
       "    .dataframe thead th {\n",
       "        text-align: right;\n",
       "    }\n",
       "</style>\n",
       "<table border=\"1\" class=\"dataframe\">\n",
       "  <thead>\n",
       "    <tr style=\"text-align: right;\">\n",
       "      <th></th>\n",
       "      <th>c_voted_posts</th>\n",
       "    </tr>\n",
       "  </thead>\n",
       "  <tbody>\n",
       "    <tr>\n",
       "      <th>0</th>\n",
       "      <td>12</td>\n",
       "    </tr>\n",
       "  </tbody>\n",
       "</table>\n",
       "</div>"
      ],
      "text/plain": [
       "   c_voted_posts\n",
       "0             12"
      ]
     },
     "execution_count": 13,
     "metadata": {},
     "output_type": "execute_result"
    }
   ],
   "source": [
    "df_1_4"
   ]
  },
  {
   "cell_type": "markdown",
   "metadata": {},
   "source": [
    "## Задание 5"
   ]
  },
  {
   "cell_type": "markdown",
   "metadata": {},
   "source": [
    "Выгрузите все поля таблицы `vote_types`. Добавьте к таблице поле `rank`, в которое войдут номера записей в обратном порядке. Таблица должна быть отсортирована по полю `id`."
   ]
  },
  {
   "cell_type": "markdown",
   "metadata": {},
   "source": [
    "| | id | name | desc_id |\n",
    "| - | - | - | - |\n",
    "| 0 | 1 | AcceptedByOriginator | 15 |\n",
    "| 1 | 2 | UpMod | 14 |\n",
    "| ... | ... | ... | ... |"
   ]
  },
  {
   "cell_type": "code",
   "execution_count": 14,
   "metadata": {},
   "outputs": [],
   "source": [
    "query = '''\n",
    "SELECT *,\n",
    "    ROW_NUMBER() OVER(ORDER BY id DESC) as desc_id\n",
    "FROM StackOverflow.vote_types\n",
    "ORDER BY id;\n",
    "'''\n",
    "\n",
    "df_1_5 = pd.read_sql_query(query, con=engine) "
   ]
  },
  {
   "cell_type": "code",
   "execution_count": 15,
   "metadata": {},
   "outputs": [
    {
     "data": {
      "text/html": [
       "<div>\n",
       "<style scoped>\n",
       "    .dataframe tbody tr th:only-of-type {\n",
       "        vertical-align: middle;\n",
       "    }\n",
       "\n",
       "    .dataframe tbody tr th {\n",
       "        vertical-align: top;\n",
       "    }\n",
       "\n",
       "    .dataframe thead th {\n",
       "        text-align: right;\n",
       "    }\n",
       "</style>\n",
       "<table border=\"1\" class=\"dataframe\">\n",
       "  <thead>\n",
       "    <tr style=\"text-align: right;\">\n",
       "      <th></th>\n",
       "      <th>id</th>\n",
       "      <th>name</th>\n",
       "      <th>desc_id</th>\n",
       "    </tr>\n",
       "  </thead>\n",
       "  <tbody>\n",
       "    <tr>\n",
       "      <th>0</th>\n",
       "      <td>1</td>\n",
       "      <td>AcceptedByOriginator</td>\n",
       "      <td>15</td>\n",
       "    </tr>\n",
       "    <tr>\n",
       "      <th>1</th>\n",
       "      <td>2</td>\n",
       "      <td>UpMod</td>\n",
       "      <td>14</td>\n",
       "    </tr>\n",
       "    <tr>\n",
       "      <th>2</th>\n",
       "      <td>3</td>\n",
       "      <td>DownMod</td>\n",
       "      <td>13</td>\n",
       "    </tr>\n",
       "    <tr>\n",
       "      <th>3</th>\n",
       "      <td>4</td>\n",
       "      <td>Offensive</td>\n",
       "      <td>12</td>\n",
       "    </tr>\n",
       "    <tr>\n",
       "      <th>4</th>\n",
       "      <td>5</td>\n",
       "      <td>Favorite</td>\n",
       "      <td>11</td>\n",
       "    </tr>\n",
       "    <tr>\n",
       "      <th>5</th>\n",
       "      <td>6</td>\n",
       "      <td>Close</td>\n",
       "      <td>10</td>\n",
       "    </tr>\n",
       "    <tr>\n",
       "      <th>6</th>\n",
       "      <td>7</td>\n",
       "      <td>Reopen</td>\n",
       "      <td>9</td>\n",
       "    </tr>\n",
       "    <tr>\n",
       "      <th>7</th>\n",
       "      <td>8</td>\n",
       "      <td>BountyStart</td>\n",
       "      <td>8</td>\n",
       "    </tr>\n",
       "    <tr>\n",
       "      <th>8</th>\n",
       "      <td>9</td>\n",
       "      <td>BountyClose</td>\n",
       "      <td>7</td>\n",
       "    </tr>\n",
       "    <tr>\n",
       "      <th>9</th>\n",
       "      <td>10</td>\n",
       "      <td>Deletion</td>\n",
       "      <td>6</td>\n",
       "    </tr>\n",
       "    <tr>\n",
       "      <th>10</th>\n",
       "      <td>11</td>\n",
       "      <td>Undeletion</td>\n",
       "      <td>5</td>\n",
       "    </tr>\n",
       "    <tr>\n",
       "      <th>11</th>\n",
       "      <td>12</td>\n",
       "      <td>Spam</td>\n",
       "      <td>4</td>\n",
       "    </tr>\n",
       "    <tr>\n",
       "      <th>12</th>\n",
       "      <td>13</td>\n",
       "      <td>InformModerator</td>\n",
       "      <td>3</td>\n",
       "    </tr>\n",
       "    <tr>\n",
       "      <th>13</th>\n",
       "      <td>14</td>\n",
       "      <td>ModeratorReview</td>\n",
       "      <td>2</td>\n",
       "    </tr>\n",
       "    <tr>\n",
       "      <th>14</th>\n",
       "      <td>15</td>\n",
       "      <td>ApproveEditSuggestion</td>\n",
       "      <td>1</td>\n",
       "    </tr>\n",
       "  </tbody>\n",
       "</table>\n",
       "</div>"
      ],
      "text/plain": [
       "    id                   name  desc_id\n",
       "0    1   AcceptedByOriginator       15\n",
       "1    2                  UpMod       14\n",
       "2    3                DownMod       13\n",
       "3    4              Offensive       12\n",
       "4    5               Favorite       11\n",
       "5    6                  Close       10\n",
       "6    7                 Reopen        9\n",
       "7    8            BountyStart        8\n",
       "8    9            BountyClose        7\n",
       "9   10               Deletion        6\n",
       "10  11             Undeletion        5\n",
       "11  12                   Spam        4\n",
       "12  13        InformModerator        3\n",
       "13  14        ModeratorReview        2\n",
       "14  15  ApproveEditSuggestion        1"
      ]
     },
     "execution_count": 15,
     "metadata": {},
     "output_type": "execute_result"
    }
   ],
   "source": [
    "df_1_5"
   ]
  },
  {
   "cell_type": "markdown",
   "metadata": {},
   "source": [
    "## Задание 6"
   ]
  },
  {
   "cell_type": "markdown",
   "metadata": {},
   "source": [
    "Отберите 10 пользователей, которые поставили больше всего голосов типа `Close`. Отобразите таблицу из двух полей: идентификатором пользователя и количеством голосов. Отсортируйте данные сначала по убыванию количества голосов, потом по убыванию значения идентификатора пользователя."
   ]
  },
  {
   "cell_type": "markdown",
   "metadata": {},
   "source": [
    "| | user_id | c_votes_close |\n",
    "| - | - | - |\n",
    "| 0 | 20646 | 36 |\n",
    "| 1 | 14728 | 36 |\n",
    "| ... | ... | ...|"
   ]
  },
  {
   "cell_type": "code",
   "execution_count": 16,
   "metadata": {},
   "outputs": [],
   "source": [
    "query = '''\n",
    "SELECT DISTINCT user_id,\n",
    "    COUNT(id) OVER(PARTITION BY user_id) c_votes_close\n",
    "FROM StackOverflow.votes\n",
    "WHERE vote_type_id IN\n",
    "    (\n",
    "    SELECT id\n",
    "    FROM StackOverflow.vote_types\n",
    "    WHERE name='Close'\n",
    "    )\n",
    "ORDER BY c_votes_close DESC,\n",
    "    user_id DESC\n",
    "LIMIT 10;\n",
    "'''\n",
    "\n",
    "df_1_6 = pd.read_sql_query(query, con=engine) "
   ]
  },
  {
   "cell_type": "code",
   "execution_count": 17,
   "metadata": {},
   "outputs": [
    {
     "data": {
      "text/html": [
       "<div>\n",
       "<style scoped>\n",
       "    .dataframe tbody tr th:only-of-type {\n",
       "        vertical-align: middle;\n",
       "    }\n",
       "\n",
       "    .dataframe tbody tr th {\n",
       "        vertical-align: top;\n",
       "    }\n",
       "\n",
       "    .dataframe thead th {\n",
       "        text-align: right;\n",
       "    }\n",
       "</style>\n",
       "<table border=\"1\" class=\"dataframe\">\n",
       "  <thead>\n",
       "    <tr style=\"text-align: right;\">\n",
       "      <th></th>\n",
       "      <th>user_id</th>\n",
       "      <th>c_votes_close</th>\n",
       "    </tr>\n",
       "  </thead>\n",
       "  <tbody>\n",
       "    <tr>\n",
       "      <th>0</th>\n",
       "      <td>20646</td>\n",
       "      <td>36</td>\n",
       "    </tr>\n",
       "    <tr>\n",
       "      <th>1</th>\n",
       "      <td>14728</td>\n",
       "      <td>36</td>\n",
       "    </tr>\n",
       "    <tr>\n",
       "      <th>2</th>\n",
       "      <td>27163</td>\n",
       "      <td>29</td>\n",
       "    </tr>\n",
       "    <tr>\n",
       "      <th>3</th>\n",
       "      <td>41158</td>\n",
       "      <td>24</td>\n",
       "    </tr>\n",
       "    <tr>\n",
       "      <th>4</th>\n",
       "      <td>24820</td>\n",
       "      <td>23</td>\n",
       "    </tr>\n",
       "    <tr>\n",
       "      <th>5</th>\n",
       "      <td>9345</td>\n",
       "      <td>23</td>\n",
       "    </tr>\n",
       "    <tr>\n",
       "      <th>6</th>\n",
       "      <td>3241</td>\n",
       "      <td>23</td>\n",
       "    </tr>\n",
       "    <tr>\n",
       "      <th>7</th>\n",
       "      <td>44330</td>\n",
       "      <td>20</td>\n",
       "    </tr>\n",
       "    <tr>\n",
       "      <th>8</th>\n",
       "      <td>38426</td>\n",
       "      <td>19</td>\n",
       "    </tr>\n",
       "    <tr>\n",
       "      <th>9</th>\n",
       "      <td>19074</td>\n",
       "      <td>19</td>\n",
       "    </tr>\n",
       "  </tbody>\n",
       "</table>\n",
       "</div>"
      ],
      "text/plain": [
       "   user_id  c_votes_close\n",
       "0    20646             36\n",
       "1    14728             36\n",
       "2    27163             29\n",
       "3    41158             24\n",
       "4    24820             23\n",
       "5     9345             23\n",
       "6     3241             23\n",
       "7    44330             20\n",
       "8    38426             19\n",
       "9    19074             19"
      ]
     },
     "execution_count": 17,
     "metadata": {},
     "output_type": "execute_result"
    }
   ],
   "source": [
    "df_1_6"
   ]
  },
  {
   "cell_type": "markdown",
   "metadata": {},
   "source": [
    "## Задание 7"
   ]
  },
  {
   "cell_type": "markdown",
   "metadata": {},
   "source": [
    "Отберите 10 пользователей по количеству значков, полученных в период с 15 ноября по 15 декабря 2008 года включительно. \\\n",
    "Отобразите несколько полей:\n",
    "- идентификатор пользователя;\n",
    "- число значков;\n",
    "- место в рейтинге — чем больше значков, тем выше рейтинг.\n",
    "\n",
    "Пользователям, которые набрали одинаковое количество значков, присвойте одно и то же место в рейтинге. \n",
    "\n",
    "Отсортируйте записи по количеству значков по убыванию, а затем по возрастанию значения идентификатора пользователя."
   ]
  },
  {
   "cell_type": "markdown",
   "metadata": {},
   "source": [
    "| | user_id | c_badges | rn_c_badges |\n",
    "| - | - | - | - |\n",
    "| 0 | 22656 | 149 | 1 |\n",
    "| 1 | 34509 | 45 | 2 |\n",
    "| ... | ... | ... | ... |"
   ]
  },
  {
   "cell_type": "code",
   "execution_count": 18,
   "metadata": {},
   "outputs": [],
   "source": [
    "query = '''\n",
    "WITH badges AS\n",
    "    (\n",
    "     SELECT DISTINCT \n",
    "        user_id,\n",
    "        COUNT(id) OVER (PARTITION BY user_id) AS c_badges\n",
    "     FROM StackOverflow.badges\n",
    "     WHERE DATE_TRUNC('day', creation_date) >= '15-11-2008' AND\n",
    "        DATE_TRUNC('day', creation_date) <= '15-12-2008'\n",
    "    )\n",
    "\n",
    "\n",
    "SELECT *,\n",
    "    DENSE_RANK() OVER(ORDER BY c_badges DESC) AS rn_c_badges\n",
    "FROM badges\n",
    "ORDER BY c_badges DESC,\n",
    "    user_id\n",
    "LIMIT 10;\n",
    "'''\n",
    "\n",
    "df_1_7 = pd.read_sql_query(query, con=engine) "
   ]
  },
  {
   "cell_type": "code",
   "execution_count": 19,
   "metadata": {},
   "outputs": [
    {
     "data": {
      "text/html": [
       "<div>\n",
       "<style scoped>\n",
       "    .dataframe tbody tr th:only-of-type {\n",
       "        vertical-align: middle;\n",
       "    }\n",
       "\n",
       "    .dataframe tbody tr th {\n",
       "        vertical-align: top;\n",
       "    }\n",
       "\n",
       "    .dataframe thead th {\n",
       "        text-align: right;\n",
       "    }\n",
       "</style>\n",
       "<table border=\"1\" class=\"dataframe\">\n",
       "  <thead>\n",
       "    <tr style=\"text-align: right;\">\n",
       "      <th></th>\n",
       "      <th>user_id</th>\n",
       "      <th>c_badges</th>\n",
       "      <th>rn_c_badges</th>\n",
       "    </tr>\n",
       "  </thead>\n",
       "  <tbody>\n",
       "    <tr>\n",
       "      <th>0</th>\n",
       "      <td>22656</td>\n",
       "      <td>149</td>\n",
       "      <td>1</td>\n",
       "    </tr>\n",
       "    <tr>\n",
       "      <th>1</th>\n",
       "      <td>34509</td>\n",
       "      <td>45</td>\n",
       "      <td>2</td>\n",
       "    </tr>\n",
       "    <tr>\n",
       "      <th>2</th>\n",
       "      <td>1288</td>\n",
       "      <td>40</td>\n",
       "      <td>3</td>\n",
       "    </tr>\n",
       "    <tr>\n",
       "      <th>3</th>\n",
       "      <td>5190</td>\n",
       "      <td>31</td>\n",
       "      <td>4</td>\n",
       "    </tr>\n",
       "    <tr>\n",
       "      <th>4</th>\n",
       "      <td>13913</td>\n",
       "      <td>30</td>\n",
       "      <td>5</td>\n",
       "    </tr>\n",
       "    <tr>\n",
       "      <th>5</th>\n",
       "      <td>893</td>\n",
       "      <td>28</td>\n",
       "      <td>6</td>\n",
       "    </tr>\n",
       "    <tr>\n",
       "      <th>6</th>\n",
       "      <td>10661</td>\n",
       "      <td>28</td>\n",
       "      <td>6</td>\n",
       "    </tr>\n",
       "    <tr>\n",
       "      <th>7</th>\n",
       "      <td>33213</td>\n",
       "      <td>25</td>\n",
       "      <td>7</td>\n",
       "    </tr>\n",
       "    <tr>\n",
       "      <th>8</th>\n",
       "      <td>12950</td>\n",
       "      <td>23</td>\n",
       "      <td>8</td>\n",
       "    </tr>\n",
       "    <tr>\n",
       "      <th>9</th>\n",
       "      <td>25222</td>\n",
       "      <td>20</td>\n",
       "      <td>9</td>\n",
       "    </tr>\n",
       "  </tbody>\n",
       "</table>\n",
       "</div>"
      ],
      "text/plain": [
       "   user_id  c_badges  rn_c_badges\n",
       "0    22656       149            1\n",
       "1    34509        45            2\n",
       "2     1288        40            3\n",
       "3     5190        31            4\n",
       "4    13913        30            5\n",
       "5      893        28            6\n",
       "6    10661        28            6\n",
       "7    33213        25            7\n",
       "8    12950        23            8\n",
       "9    25222        20            9"
      ]
     },
     "execution_count": 19,
     "metadata": {},
     "output_type": "execute_result"
    }
   ],
   "source": [
    "df_1_7"
   ]
  },
  {
   "cell_type": "markdown",
   "metadata": {},
   "source": [
    "## Задание 8"
   ]
  },
  {
   "cell_type": "markdown",
   "metadata": {},
   "source": [
    "Сколько в среднем очков получает пост каждого пользователя?\n",
    "\n",
    "Сформируйте таблицу из следующих полей:\n",
    "- заголовок поста;\n",
    "- идентификатор пользователя;\n",
    "- число очков поста;\n",
    "- среднее число очков пользователя за пост, округлённое до целого числа.\n",
    "\n",
    "Не учитывайте посты без заголовка, а также те, что набрали ноль очков."
   ]
  },
  {
   "cell_type": "markdown",
   "metadata": {},
   "source": [
    "| | title | user_id | score | avg_score_user |\n",
    "| - | - | - | - | - |\n",
    "| 0 | Diagnosing Deadlocks in SQL Server 2005 | 1 | 82 | 573.0 |\n",
    "| 1 | How do I calculate someone's age in C#? | 1 | 1743 | 573.0 |\n",
    "| ... | ... | ... | ... | ... |"
   ]
  },
  {
   "cell_type": "code",
   "execution_count": 20,
   "metadata": {},
   "outputs": [],
   "source": [
    "query = '''\n",
    "SELECT title,\n",
    "    user_id,\n",
    "    score,\n",
    "    ROUND(AVG(score) OVER(PARTITION BY user_id),0) AS avg_score_user\n",
    "FROM StackOverflow.posts\n",
    "WHERE title IS NOT NULL AND\n",
    "    score <> 0;\n",
    "'''\n",
    "\n",
    "df_1_8 = pd.read_sql_query(query, con=engine) "
   ]
  },
  {
   "cell_type": "code",
   "execution_count": 21,
   "metadata": {},
   "outputs": [
    {
     "data": {
      "text/html": [
       "<div>\n",
       "<style scoped>\n",
       "    .dataframe tbody tr th:only-of-type {\n",
       "        vertical-align: middle;\n",
       "    }\n",
       "\n",
       "    .dataframe tbody tr th {\n",
       "        vertical-align: top;\n",
       "    }\n",
       "\n",
       "    .dataframe thead th {\n",
       "        text-align: right;\n",
       "    }\n",
       "</style>\n",
       "<table border=\"1\" class=\"dataframe\">\n",
       "  <thead>\n",
       "    <tr style=\"text-align: right;\">\n",
       "      <th></th>\n",
       "      <th>title</th>\n",
       "      <th>user_id</th>\n",
       "      <th>score</th>\n",
       "      <th>avg_score_user</th>\n",
       "    </tr>\n",
       "  </thead>\n",
       "  <tbody>\n",
       "    <tr>\n",
       "      <th>0</th>\n",
       "      <td>Diagnosing Deadlocks in SQL Server 2005</td>\n",
       "      <td>1</td>\n",
       "      <td>82</td>\n",
       "      <td>573.0</td>\n",
       "    </tr>\n",
       "    <tr>\n",
       "      <th>1</th>\n",
       "      <td>How do I calculate someone's age in C#?</td>\n",
       "      <td>1</td>\n",
       "      <td>1743</td>\n",
       "      <td>573.0</td>\n",
       "    </tr>\n",
       "    <tr>\n",
       "      <th>2</th>\n",
       "      <td>Why doesn't IE7 copy &lt;pre&gt;&lt;code&gt; blocks to the...</td>\n",
       "      <td>1</td>\n",
       "      <td>37</td>\n",
       "      <td>573.0</td>\n",
       "    </tr>\n",
       "    <tr>\n",
       "      <th>3</th>\n",
       "      <td>Calculate relative time in C#</td>\n",
       "      <td>1</td>\n",
       "      <td>1348</td>\n",
       "      <td>573.0</td>\n",
       "    </tr>\n",
       "    <tr>\n",
       "      <th>4</th>\n",
       "      <td>Wrapping StopWatch timing with a delegate or l...</td>\n",
       "      <td>1</td>\n",
       "      <td>92</td>\n",
       "      <td>573.0</td>\n",
       "    </tr>\n",
       "    <tr>\n",
       "      <th>...</th>\n",
       "      <td>...</td>\n",
       "      <td>...</td>\n",
       "      <td>...</td>\n",
       "      <td>...</td>\n",
       "    </tr>\n",
       "    <tr>\n",
       "      <th>47349</th>\n",
       "      <td>Multi-lingual projects in Visual Studio</td>\n",
       "      <td>3742716</td>\n",
       "      <td>1</td>\n",
       "      <td>1.0</td>\n",
       "    </tr>\n",
       "    <tr>\n",
       "      <th>47350</th>\n",
       "      <td>Change datatype when importing Excel file into...</td>\n",
       "      <td>3930756</td>\n",
       "      <td>5</td>\n",
       "      <td>5.0</td>\n",
       "    </tr>\n",
       "    <tr>\n",
       "      <th>47351</th>\n",
       "      <td>How to host a Silverlight app in a Sharepoint ...</td>\n",
       "      <td>4020932</td>\n",
       "      <td>8</td>\n",
       "      <td>8.0</td>\n",
       "    </tr>\n",
       "    <tr>\n",
       "      <th>47352</th>\n",
       "      <td>Getting counts for a paged SQL search stored p...</td>\n",
       "      <td>5696608</td>\n",
       "      <td>2</td>\n",
       "      <td>2.0</td>\n",
       "    </tr>\n",
       "    <tr>\n",
       "      <th>47353</th>\n",
       "      <td>Reuse of SQL stored procedures across applicat...</td>\n",
       "      <td>5696608</td>\n",
       "      <td>2</td>\n",
       "      <td>2.0</td>\n",
       "    </tr>\n",
       "  </tbody>\n",
       "</table>\n",
       "<p>47354 rows × 4 columns</p>\n",
       "</div>"
      ],
      "text/plain": [
       "                                                   title  user_id  score  \\\n",
       "0                Diagnosing Deadlocks in SQL Server 2005        1     82   \n",
       "1                How do I calculate someone's age in C#?        1   1743   \n",
       "2      Why doesn't IE7 copy <pre><code> blocks to the...        1     37   \n",
       "3                          Calculate relative time in C#        1   1348   \n",
       "4      Wrapping StopWatch timing with a delegate or l...        1     92   \n",
       "...                                                  ...      ...    ...   \n",
       "47349            Multi-lingual projects in Visual Studio  3742716      1   \n",
       "47350  Change datatype when importing Excel file into...  3930756      5   \n",
       "47351  How to host a Silverlight app in a Sharepoint ...  4020932      8   \n",
       "47352  Getting counts for a paged SQL search stored p...  5696608      2   \n",
       "47353  Reuse of SQL stored procedures across applicat...  5696608      2   \n",
       "\n",
       "       avg_score_user  \n",
       "0               573.0  \n",
       "1               573.0  \n",
       "2               573.0  \n",
       "3               573.0  \n",
       "4               573.0  \n",
       "...               ...  \n",
       "47349             1.0  \n",
       "47350             5.0  \n",
       "47351             8.0  \n",
       "47352             2.0  \n",
       "47353             2.0  \n",
       "\n",
       "[47354 rows x 4 columns]"
      ]
     },
     "execution_count": 21,
     "metadata": {},
     "output_type": "execute_result"
    }
   ],
   "source": [
    "df_1_8"
   ]
  },
  {
   "cell_type": "markdown",
   "metadata": {},
   "source": [
    "## Задание 9"
   ]
  },
  {
   "cell_type": "markdown",
   "metadata": {},
   "source": [
    "Отобразите заголовки постов, которые были написаны пользователями, получившими более 1000 значков. Посты без заголовков не должны попасть в список."
   ]
  },
  {
   "cell_type": "markdown",
   "metadata": {},
   "source": [
    "| | title |\n",
    "| - | - |\n",
    "| 0 | What's the strangest corner case you've seen i... |\n",
    "| 1 | What's the hardest or most misunderstood aspec... |\n",
    "| ... | ... |"
   ]
  },
  {
   "cell_type": "code",
   "execution_count": 22,
   "metadata": {},
   "outputs": [],
   "source": [
    "query = '''\n",
    "SELECT title\n",
    "FROM StackOverflow.posts\n",
    "WHERE user_id IN \n",
    "    (\n",
    "    SELECT DISTINCT\n",
    "        user_id\n",
    "    FROM StackOverflow.badges\n",
    "    GROUP BY user_id\n",
    "    HAVING COUNT(id)>1000\n",
    "    ) AND\n",
    "    title IS NOT NULL;\n",
    "'''\n",
    "\n",
    "df_1_9 = pd.read_sql_query(query, con=engine) "
   ]
  },
  {
   "cell_type": "code",
   "execution_count": 23,
   "metadata": {},
   "outputs": [
    {
     "data": {
      "text/html": [
       "<div>\n",
       "<style scoped>\n",
       "    .dataframe tbody tr th:only-of-type {\n",
       "        vertical-align: middle;\n",
       "    }\n",
       "\n",
       "    .dataframe tbody tr th {\n",
       "        vertical-align: top;\n",
       "    }\n",
       "\n",
       "    .dataframe thead th {\n",
       "        text-align: right;\n",
       "    }\n",
       "</style>\n",
       "<table border=\"1\" class=\"dataframe\">\n",
       "  <thead>\n",
       "    <tr style=\"text-align: right;\">\n",
       "      <th></th>\n",
       "      <th>title</th>\n",
       "    </tr>\n",
       "  </thead>\n",
       "  <tbody>\n",
       "    <tr>\n",
       "      <th>0</th>\n",
       "      <td>What's the strangest corner case you've seen i...</td>\n",
       "    </tr>\n",
       "    <tr>\n",
       "      <th>1</th>\n",
       "      <td>What's the hardest or most misunderstood aspec...</td>\n",
       "    </tr>\n",
       "    <tr>\n",
       "      <th>2</th>\n",
       "      <td>What are the correct version numbers for C#?</td>\n",
       "    </tr>\n",
       "    <tr>\n",
       "      <th>3</th>\n",
       "      <td>Project management to go with GitHub</td>\n",
       "    </tr>\n",
       "  </tbody>\n",
       "</table>\n",
       "</div>"
      ],
      "text/plain": [
       "                                               title\n",
       "0  What's the strangest corner case you've seen i...\n",
       "1  What's the hardest or most misunderstood aspec...\n",
       "2       What are the correct version numbers for C#?\n",
       "3               Project management to go with GitHub"
      ]
     },
     "execution_count": 23,
     "metadata": {},
     "output_type": "execute_result"
    }
   ],
   "source": [
    "df_1_9"
   ]
  },
  {
   "cell_type": "markdown",
   "metadata": {},
   "source": [
    "## Задание 10"
   ]
  },
  {
   "cell_type": "markdown",
   "metadata": {},
   "source": [
    "Напишите запрос, который выгрузит данные о пользователях из США (англ. United States). Разделите пользователей на три группы в зависимости от количества просмотров их профилей:\n",
    "- пользователям с числом просмотров больше либо равным 350 присвойте группу `1`;\n",
    "- пользователям с числом просмотров меньше 350, но больше либо равно 100 — группу `2`;\n",
    "- пользователям с числом просмотров меньше 100 — группу `3`.\n",
    "\n",
    "Отобразите в итоговой таблице идентификатор пользователя, количество просмотров профиля и группу. Пользователи с нулевым количеством постов не должны войти в итоговую таблицу."
   ]
  },
  {
   "cell_type": "markdown",
   "metadata": {},
   "source": [
    "| | user_id | views | group_user |\n",
    "| - | - | - | - |\n",
    "| 0 | 3 | 24396 | 1 |\n",
    "| 1 | 13 | 35414 | 1 |\n",
    "| ... | ... | ... | ... |"
   ]
  },
  {
   "cell_type": "code",
   "execution_count": 24,
   "metadata": {},
   "outputs": [],
   "source": [
    "query = '''\n",
    "SELECT id AS user_id,\n",
    "    views,\n",
    "    CASE\n",
    "        WHEN views >= 350 THEN 1\n",
    "        WHEN views >= 100 AND views < 350 THEN 2\n",
    "        ELSE 3\n",
    "    END AS group_user\n",
    "FROM StackOverflow.users\n",
    "WHERE location LIKE '%%United States%%' AND\n",
    "    views <> 0;\n",
    "'''\n",
    "\n",
    "df_1_10 = pd.read_sql_query(query, con=engine) "
   ]
  },
  {
   "cell_type": "code",
   "execution_count": 25,
   "metadata": {},
   "outputs": [
    {
     "data": {
      "text/html": [
       "<div>\n",
       "<style scoped>\n",
       "    .dataframe tbody tr th:only-of-type {\n",
       "        vertical-align: middle;\n",
       "    }\n",
       "\n",
       "    .dataframe tbody tr th {\n",
       "        vertical-align: top;\n",
       "    }\n",
       "\n",
       "    .dataframe thead th {\n",
       "        text-align: right;\n",
       "    }\n",
       "</style>\n",
       "<table border=\"1\" class=\"dataframe\">\n",
       "  <thead>\n",
       "    <tr style=\"text-align: right;\">\n",
       "      <th></th>\n",
       "      <th>user_id</th>\n",
       "      <th>views</th>\n",
       "      <th>group_user</th>\n",
       "    </tr>\n",
       "  </thead>\n",
       "  <tbody>\n",
       "    <tr>\n",
       "      <th>0</th>\n",
       "      <td>3</td>\n",
       "      <td>24396</td>\n",
       "      <td>1</td>\n",
       "    </tr>\n",
       "    <tr>\n",
       "      <th>1</th>\n",
       "      <td>13</td>\n",
       "      <td>35414</td>\n",
       "      <td>1</td>\n",
       "    </tr>\n",
       "    <tr>\n",
       "      <th>2</th>\n",
       "      <td>23</td>\n",
       "      <td>757</td>\n",
       "      <td>1</td>\n",
       "    </tr>\n",
       "    <tr>\n",
       "      <th>3</th>\n",
       "      <td>25</td>\n",
       "      <td>3837</td>\n",
       "      <td>1</td>\n",
       "    </tr>\n",
       "    <tr>\n",
       "      <th>4</th>\n",
       "      <td>36</td>\n",
       "      <td>505</td>\n",
       "      <td>1</td>\n",
       "    </tr>\n",
       "    <tr>\n",
       "      <th>...</th>\n",
       "      <td>...</td>\n",
       "      <td>...</td>\n",
       "      <td>...</td>\n",
       "    </tr>\n",
       "    <tr>\n",
       "      <th>2359</th>\n",
       "      <td>354142</td>\n",
       "      <td>6</td>\n",
       "      <td>3</td>\n",
       "    </tr>\n",
       "    <tr>\n",
       "      <th>2360</th>\n",
       "      <td>335806</td>\n",
       "      <td>4</td>\n",
       "      <td>3</td>\n",
       "    </tr>\n",
       "    <tr>\n",
       "      <th>2361</th>\n",
       "      <td>129753</td>\n",
       "      <td>105</td>\n",
       "      <td>2</td>\n",
       "    </tr>\n",
       "    <tr>\n",
       "      <th>2362</th>\n",
       "      <td>182061</td>\n",
       "      <td>52</td>\n",
       "      <td>3</td>\n",
       "    </tr>\n",
       "    <tr>\n",
       "      <th>2363</th>\n",
       "      <td>301168</td>\n",
       "      <td>80</td>\n",
       "      <td>3</td>\n",
       "    </tr>\n",
       "  </tbody>\n",
       "</table>\n",
       "<p>2364 rows × 3 columns</p>\n",
       "</div>"
      ],
      "text/plain": [
       "      user_id  views  group_user\n",
       "0           3  24396           1\n",
       "1          13  35414           1\n",
       "2          23    757           1\n",
       "3          25   3837           1\n",
       "4          36    505           1\n",
       "...       ...    ...         ...\n",
       "2359   354142      6           3\n",
       "2360   335806      4           3\n",
       "2361   129753    105           2\n",
       "2362   182061     52           3\n",
       "2363   301168     80           3\n",
       "\n",
       "[2364 rows x 3 columns]"
      ]
     },
     "execution_count": 25,
     "metadata": {},
     "output_type": "execute_result"
    }
   ],
   "source": [
    "df_1_10"
   ]
  },
  {
   "cell_type": "markdown",
   "metadata": {},
   "source": [
    "## Задание 11"
   ]
  },
  {
   "cell_type": "markdown",
   "metadata": {},
   "source": [
    "Дополните предыдущий запрос. Отобразите лидеров каждой группы — пользователей, которые набрали максимальное число просмотров в своей группе. Выведите поля с идентификатором пользователя, группой и количеством просмотров. Отсортируйте таблицу по убыванию просмотров, а затем по возрастанию значения идентификатора."
   ]
  },
  {
   "cell_type": "markdown",
   "metadata": {},
   "source": [
    "| | user_id | views | group_user |\n",
    "| - | - | - | - |\n",
    "| 0 | 16587 | 62813 | 1 |\n",
    "| 1 | 9094 | 349 | 2 |\n",
    "| ... | ... | ... | ... |"
   ]
  },
  {
   "cell_type": "code",
   "execution_count": 26,
   "metadata": {},
   "outputs": [],
   "source": [
    "query = '''\n",
    "WITH lead_users_group AS\n",
    "(\n",
    "    WITH user_div_groups AS\n",
    "        (\n",
    "        SELECT id AS user_id,\n",
    "            views,\n",
    "            CASE\n",
    "                WHEN views >= 350 THEN 1\n",
    "                WHEN views >= 100 AND views < 350 THEN 2\n",
    "                ELSE 3\n",
    "            END AS group_user\n",
    "        FROM StackOverflow.users\n",
    "        WHERE location LIKE '%%United States%%' AND\n",
    "            views <> 0\n",
    "        )\n",
    "    SELECT user_id,\n",
    "        group_user,\n",
    "        views,\n",
    "        RANK() OVER(PARTITION BY group_user ORDER BY views DESC) AS rn\n",
    "    FROM user_div_groups\n",
    ")\n",
    "SELECT user_id,\n",
    "    views,\n",
    "    group_user\n",
    "FROM lead_users_group\n",
    "WHERE rn = 1\n",
    "ORDER BY views DESC,\n",
    "    user_id;\n",
    "'''\n",
    "\n",
    "df_1_11 = pd.read_sql_query(query, con=engine) "
   ]
  },
  {
   "cell_type": "code",
   "execution_count": 27,
   "metadata": {},
   "outputs": [
    {
     "data": {
      "text/html": [
       "<div>\n",
       "<style scoped>\n",
       "    .dataframe tbody tr th:only-of-type {\n",
       "        vertical-align: middle;\n",
       "    }\n",
       "\n",
       "    .dataframe tbody tr th {\n",
       "        vertical-align: top;\n",
       "    }\n",
       "\n",
       "    .dataframe thead th {\n",
       "        text-align: right;\n",
       "    }\n",
       "</style>\n",
       "<table border=\"1\" class=\"dataframe\">\n",
       "  <thead>\n",
       "    <tr style=\"text-align: right;\">\n",
       "      <th></th>\n",
       "      <th>user_id</th>\n",
       "      <th>views</th>\n",
       "      <th>group_user</th>\n",
       "    </tr>\n",
       "  </thead>\n",
       "  <tbody>\n",
       "    <tr>\n",
       "      <th>0</th>\n",
       "      <td>16587</td>\n",
       "      <td>62813</td>\n",
       "      <td>1</td>\n",
       "    </tr>\n",
       "    <tr>\n",
       "      <th>1</th>\n",
       "      <td>9094</td>\n",
       "      <td>349</td>\n",
       "      <td>2</td>\n",
       "    </tr>\n",
       "    <tr>\n",
       "      <th>2</th>\n",
       "      <td>9585</td>\n",
       "      <td>349</td>\n",
       "      <td>2</td>\n",
       "    </tr>\n",
       "    <tr>\n",
       "      <th>3</th>\n",
       "      <td>15079</td>\n",
       "      <td>349</td>\n",
       "      <td>2</td>\n",
       "    </tr>\n",
       "    <tr>\n",
       "      <th>4</th>\n",
       "      <td>33437</td>\n",
       "      <td>349</td>\n",
       "      <td>2</td>\n",
       "    </tr>\n",
       "    <tr>\n",
       "      <th>5</th>\n",
       "      <td>3469</td>\n",
       "      <td>99</td>\n",
       "      <td>3</td>\n",
       "    </tr>\n",
       "    <tr>\n",
       "      <th>6</th>\n",
       "      <td>4829</td>\n",
       "      <td>99</td>\n",
       "      <td>3</td>\n",
       "    </tr>\n",
       "    <tr>\n",
       "      <th>7</th>\n",
       "      <td>19006</td>\n",
       "      <td>99</td>\n",
       "      <td>3</td>\n",
       "    </tr>\n",
       "    <tr>\n",
       "      <th>8</th>\n",
       "      <td>22732</td>\n",
       "      <td>99</td>\n",
       "      <td>3</td>\n",
       "    </tr>\n",
       "    <tr>\n",
       "      <th>9</th>\n",
       "      <td>403434</td>\n",
       "      <td>99</td>\n",
       "      <td>3</td>\n",
       "    </tr>\n",
       "  </tbody>\n",
       "</table>\n",
       "</div>"
      ],
      "text/plain": [
       "   user_id  views  group_user\n",
       "0    16587  62813           1\n",
       "1     9094    349           2\n",
       "2     9585    349           2\n",
       "3    15079    349           2\n",
       "4    33437    349           2\n",
       "5     3469     99           3\n",
       "6     4829     99           3\n",
       "7    19006     99           3\n",
       "8    22732     99           3\n",
       "9   403434     99           3"
      ]
     },
     "execution_count": 27,
     "metadata": {},
     "output_type": "execute_result"
    }
   ],
   "source": [
    "df_1_11"
   ]
  },
  {
   "cell_type": "markdown",
   "metadata": {},
   "source": [
    "## Задание 12"
   ]
  },
  {
   "cell_type": "markdown",
   "metadata": {},
   "source": [
    "Посчитайте ежедневный прирост новых пользователей в ноябре 2008 года. Сформируйте таблицу с полями:\n",
    "- номер дня;\n",
    "- число пользователей, зарегистрированных в этот день;\n",
    "- сумму пользователей с накоплением."
   ]
  },
  {
   "cell_type": "markdown",
   "metadata": {},
   "source": [
    "| | day | cnt_users | sum_users_acum |\n",
    "| - | - | - | - |\n",
    "| 0 | 1.0 | 34 | 34.0 |\n",
    "| 1 | 2.0 | 48 | 82.0 |\n",
    "| ... | ... | ... | ... |"
   ]
  },
  {
   "cell_type": "code",
   "execution_count": 28,
   "metadata": {},
   "outputs": [],
   "source": [
    "query = '''\n",
    "WITH users_11_2008 AS\n",
    "(\n",
    "    SELECT DISTINCT\n",
    "        EXTRACT(DAY FROM CAST(creation_date AS timestamp)) AS day,\n",
    "        COUNT(id) OVER(PARTITION BY EXTRACT(DAY FROM CAST(creation_date AS timestamp))) AS cnt_users\n",
    "    FROM StackOverflow.users\n",
    "    WHERE DATE_TRUNC('day', creation_date) >= '01-11-2008' AND\n",
    "        DATE_TRUNC('day', creation_date) <= '30-11-2008'\n",
    ")\n",
    "SELECT *,\n",
    "    SUM(cnt_users) OVER(ORDER by day) AS sum_users_acum\n",
    "FROM users_11_2008;\n",
    "'''\n",
    "\n",
    "df_1_12 = pd.read_sql_query(query, con=engine) "
   ]
  },
  {
   "cell_type": "code",
   "execution_count": 29,
   "metadata": {},
   "outputs": [
    {
     "data": {
      "text/html": [
       "<div>\n",
       "<style scoped>\n",
       "    .dataframe tbody tr th:only-of-type {\n",
       "        vertical-align: middle;\n",
       "    }\n",
       "\n",
       "    .dataframe tbody tr th {\n",
       "        vertical-align: top;\n",
       "    }\n",
       "\n",
       "    .dataframe thead th {\n",
       "        text-align: right;\n",
       "    }\n",
       "</style>\n",
       "<table border=\"1\" class=\"dataframe\">\n",
       "  <thead>\n",
       "    <tr style=\"text-align: right;\">\n",
       "      <th></th>\n",
       "      <th>day</th>\n",
       "      <th>cnt_users</th>\n",
       "      <th>sum_users_acum</th>\n",
       "    </tr>\n",
       "  </thead>\n",
       "  <tbody>\n",
       "    <tr>\n",
       "      <th>0</th>\n",
       "      <td>1.0</td>\n",
       "      <td>34</td>\n",
       "      <td>34.0</td>\n",
       "    </tr>\n",
       "    <tr>\n",
       "      <th>1</th>\n",
       "      <td>2.0</td>\n",
       "      <td>48</td>\n",
       "      <td>82.0</td>\n",
       "    </tr>\n",
       "    <tr>\n",
       "      <th>2</th>\n",
       "      <td>3.0</td>\n",
       "      <td>75</td>\n",
       "      <td>157.0</td>\n",
       "    </tr>\n",
       "    <tr>\n",
       "      <th>3</th>\n",
       "      <td>4.0</td>\n",
       "      <td>192</td>\n",
       "      <td>349.0</td>\n",
       "    </tr>\n",
       "    <tr>\n",
       "      <th>4</th>\n",
       "      <td>5.0</td>\n",
       "      <td>122</td>\n",
       "      <td>471.0</td>\n",
       "    </tr>\n",
       "    <tr>\n",
       "      <th>5</th>\n",
       "      <td>6.0</td>\n",
       "      <td>132</td>\n",
       "      <td>603.0</td>\n",
       "    </tr>\n",
       "    <tr>\n",
       "      <th>6</th>\n",
       "      <td>7.0</td>\n",
       "      <td>104</td>\n",
       "      <td>707.0</td>\n",
       "    </tr>\n",
       "    <tr>\n",
       "      <th>7</th>\n",
       "      <td>8.0</td>\n",
       "      <td>42</td>\n",
       "      <td>749.0</td>\n",
       "    </tr>\n",
       "    <tr>\n",
       "      <th>8</th>\n",
       "      <td>9.0</td>\n",
       "      <td>45</td>\n",
       "      <td>794.0</td>\n",
       "    </tr>\n",
       "    <tr>\n",
       "      <th>9</th>\n",
       "      <td>10.0</td>\n",
       "      <td>93</td>\n",
       "      <td>887.0</td>\n",
       "    </tr>\n",
       "    <tr>\n",
       "      <th>10</th>\n",
       "      <td>11.0</td>\n",
       "      <td>113</td>\n",
       "      <td>1000.0</td>\n",
       "    </tr>\n",
       "    <tr>\n",
       "      <th>11</th>\n",
       "      <td>12.0</td>\n",
       "      <td>113</td>\n",
       "      <td>1113.0</td>\n",
       "    </tr>\n",
       "    <tr>\n",
       "      <th>12</th>\n",
       "      <td>13.0</td>\n",
       "      <td>96</td>\n",
       "      <td>1209.0</td>\n",
       "    </tr>\n",
       "    <tr>\n",
       "      <th>13</th>\n",
       "      <td>14.0</td>\n",
       "      <td>89</td>\n",
       "      <td>1298.0</td>\n",
       "    </tr>\n",
       "    <tr>\n",
       "      <th>14</th>\n",
       "      <td>15.0</td>\n",
       "      <td>42</td>\n",
       "      <td>1340.0</td>\n",
       "    </tr>\n",
       "    <tr>\n",
       "      <th>15</th>\n",
       "      <td>16.0</td>\n",
       "      <td>32</td>\n",
       "      <td>1372.0</td>\n",
       "    </tr>\n",
       "    <tr>\n",
       "      <th>16</th>\n",
       "      <td>17.0</td>\n",
       "      <td>84</td>\n",
       "      <td>1456.0</td>\n",
       "    </tr>\n",
       "    <tr>\n",
       "      <th>17</th>\n",
       "      <td>18.0</td>\n",
       "      <td>89</td>\n",
       "      <td>1545.0</td>\n",
       "    </tr>\n",
       "    <tr>\n",
       "      <th>18</th>\n",
       "      <td>19.0</td>\n",
       "      <td>107</td>\n",
       "      <td>1652.0</td>\n",
       "    </tr>\n",
       "    <tr>\n",
       "      <th>19</th>\n",
       "      <td>20.0</td>\n",
       "      <td>95</td>\n",
       "      <td>1747.0</td>\n",
       "    </tr>\n",
       "    <tr>\n",
       "      <th>20</th>\n",
       "      <td>21.0</td>\n",
       "      <td>81</td>\n",
       "      <td>1828.0</td>\n",
       "    </tr>\n",
       "    <tr>\n",
       "      <th>21</th>\n",
       "      <td>22.0</td>\n",
       "      <td>40</td>\n",
       "      <td>1868.0</td>\n",
       "    </tr>\n",
       "    <tr>\n",
       "      <th>22</th>\n",
       "      <td>23.0</td>\n",
       "      <td>50</td>\n",
       "      <td>1918.0</td>\n",
       "    </tr>\n",
       "    <tr>\n",
       "      <th>23</th>\n",
       "      <td>24.0</td>\n",
       "      <td>84</td>\n",
       "      <td>2002.0</td>\n",
       "    </tr>\n",
       "    <tr>\n",
       "      <th>24</th>\n",
       "      <td>25.0</td>\n",
       "      <td>104</td>\n",
       "      <td>2106.0</td>\n",
       "    </tr>\n",
       "    <tr>\n",
       "      <th>25</th>\n",
       "      <td>26.0</td>\n",
       "      <td>98</td>\n",
       "      <td>2204.0</td>\n",
       "    </tr>\n",
       "    <tr>\n",
       "      <th>26</th>\n",
       "      <td>27.0</td>\n",
       "      <td>71</td>\n",
       "      <td>2275.0</td>\n",
       "    </tr>\n",
       "    <tr>\n",
       "      <th>27</th>\n",
       "      <td>28.0</td>\n",
       "      <td>56</td>\n",
       "      <td>2331.0</td>\n",
       "    </tr>\n",
       "    <tr>\n",
       "      <th>28</th>\n",
       "      <td>29.0</td>\n",
       "      <td>44</td>\n",
       "      <td>2375.0</td>\n",
       "    </tr>\n",
       "    <tr>\n",
       "      <th>29</th>\n",
       "      <td>30.0</td>\n",
       "      <td>33</td>\n",
       "      <td>2408.0</td>\n",
       "    </tr>\n",
       "  </tbody>\n",
       "</table>\n",
       "</div>"
      ],
      "text/plain": [
       "     day  cnt_users  sum_users_acum\n",
       "0    1.0         34            34.0\n",
       "1    2.0         48            82.0\n",
       "2    3.0         75           157.0\n",
       "3    4.0        192           349.0\n",
       "4    5.0        122           471.0\n",
       "5    6.0        132           603.0\n",
       "6    7.0        104           707.0\n",
       "7    8.0         42           749.0\n",
       "8    9.0         45           794.0\n",
       "9   10.0         93           887.0\n",
       "10  11.0        113          1000.0\n",
       "11  12.0        113          1113.0\n",
       "12  13.0         96          1209.0\n",
       "13  14.0         89          1298.0\n",
       "14  15.0         42          1340.0\n",
       "15  16.0         32          1372.0\n",
       "16  17.0         84          1456.0\n",
       "17  18.0         89          1545.0\n",
       "18  19.0        107          1652.0\n",
       "19  20.0         95          1747.0\n",
       "20  21.0         81          1828.0\n",
       "21  22.0         40          1868.0\n",
       "22  23.0         50          1918.0\n",
       "23  24.0         84          2002.0\n",
       "24  25.0        104          2106.0\n",
       "25  26.0         98          2204.0\n",
       "26  27.0         71          2275.0\n",
       "27  28.0         56          2331.0\n",
       "28  29.0         44          2375.0\n",
       "29  30.0         33          2408.0"
      ]
     },
     "execution_count": 29,
     "metadata": {},
     "output_type": "execute_result"
    }
   ],
   "source": [
    "df_1_12"
   ]
  },
  {
   "cell_type": "markdown",
   "metadata": {},
   "source": [
    "## Задание 13"
   ]
  },
  {
   "cell_type": "markdown",
   "metadata": {},
   "source": [
    "Для каждого пользователя, который написал хотя бы один пост, найдите интервал между регистрацией и временем создания первого поста. Отобразите:\n",
    "- идентификатор пользователя;\n",
    "- разницу во времени между регистрацией и первым постом."
   ]
  },
  {
   "cell_type": "markdown",
   "metadata": {},
   "source": [
    "| | user_id | diff_time |\n",
    "| - | - | - |\n",
    "| 0 | 1 | 0 days 09:18:29 |\n",
    "| 1 | 2 | 0 days 14:37:03 |\n",
    "| ... | ... | ... | "
   ]
  },
  {
   "cell_type": "code",
   "execution_count": 30,
   "metadata": {},
   "outputs": [],
   "source": [
    "query = '''\n",
    "WITH first_posts AS\n",
    "(\n",
    "    SELECT user_id,\n",
    "        creation_date,\n",
    "        RANK() OVER(PARTITION BY user_id ORDER BY creation_date) AS rn_date\n",
    "    FROM StackOverflow.posts\n",
    ")\n",
    "SELECT fp.user_id,\n",
    "    fp.creation_date - u.creation_date AS diff_time\n",
    "FROM first_posts AS fp\n",
    "LEFT JOIN StackOverflow.users AS u ON fp.user_id=u.id\n",
    "WHERE rn_date = 1\n",
    "ORDER BY fp.user_id;\n",
    "'''\n",
    "\n",
    "df_1_13 = pd.read_sql_query(query, con=engine) "
   ]
  },
  {
   "cell_type": "code",
   "execution_count": 31,
   "metadata": {},
   "outputs": [
    {
     "data": {
      "text/html": [
       "<div>\n",
       "<style scoped>\n",
       "    .dataframe tbody tr th:only-of-type {\n",
       "        vertical-align: middle;\n",
       "    }\n",
       "\n",
       "    .dataframe tbody tr th {\n",
       "        vertical-align: top;\n",
       "    }\n",
       "\n",
       "    .dataframe thead th {\n",
       "        text-align: right;\n",
       "    }\n",
       "</style>\n",
       "<table border=\"1\" class=\"dataframe\">\n",
       "  <thead>\n",
       "    <tr style=\"text-align: right;\">\n",
       "      <th></th>\n",
       "      <th>user_id</th>\n",
       "      <th>diff_time</th>\n",
       "    </tr>\n",
       "  </thead>\n",
       "  <tbody>\n",
       "    <tr>\n",
       "      <th>0</th>\n",
       "      <td>1</td>\n",
       "      <td>0 days 09:18:29</td>\n",
       "    </tr>\n",
       "    <tr>\n",
       "      <th>1</th>\n",
       "      <td>2</td>\n",
       "      <td>0 days 14:37:03</td>\n",
       "    </tr>\n",
       "    <tr>\n",
       "      <th>2</th>\n",
       "      <td>3</td>\n",
       "      <td>3 days 16:17:09</td>\n",
       "    </tr>\n",
       "    <tr>\n",
       "      <th>3</th>\n",
       "      <td>4</td>\n",
       "      <td>15 days 05:44:22</td>\n",
       "    </tr>\n",
       "    <tr>\n",
       "      <th>4</th>\n",
       "      <td>5</td>\n",
       "      <td>1 days 14:57:51</td>\n",
       "    </tr>\n",
       "    <tr>\n",
       "      <th>...</th>\n",
       "      <td>...</td>\n",
       "      <td>...</td>\n",
       "    </tr>\n",
       "    <tr>\n",
       "      <th>18844</th>\n",
       "      <td>3644960</td>\n",
       "      <td>0 days 00:00:00</td>\n",
       "    </tr>\n",
       "    <tr>\n",
       "      <th>18845</th>\n",
       "      <td>3742716</td>\n",
       "      <td>66 days 21:15:48</td>\n",
       "    </tr>\n",
       "    <tr>\n",
       "      <th>18846</th>\n",
       "      <td>3930756</td>\n",
       "      <td>8 days 02:11:55</td>\n",
       "    </tr>\n",
       "    <tr>\n",
       "      <th>18847</th>\n",
       "      <td>4020932</td>\n",
       "      <td>47 days 18:30:34</td>\n",
       "    </tr>\n",
       "    <tr>\n",
       "      <th>18848</th>\n",
       "      <td>5696608</td>\n",
       "      <td>0 days 00:24:59</td>\n",
       "    </tr>\n",
       "  </tbody>\n",
       "</table>\n",
       "<p>18849 rows × 2 columns</p>\n",
       "</div>"
      ],
      "text/plain": [
       "       user_id        diff_time\n",
       "0            1  0 days 09:18:29\n",
       "1            2  0 days 14:37:03\n",
       "2            3  3 days 16:17:09\n",
       "3            4 15 days 05:44:22\n",
       "4            5  1 days 14:57:51\n",
       "...        ...              ...\n",
       "18844  3644960  0 days 00:00:00\n",
       "18845  3742716 66 days 21:15:48\n",
       "18846  3930756  8 days 02:11:55\n",
       "18847  4020932 47 days 18:30:34\n",
       "18848  5696608  0 days 00:24:59\n",
       "\n",
       "[18849 rows x 2 columns]"
      ]
     },
     "execution_count": 31,
     "metadata": {},
     "output_type": "execute_result"
    }
   ],
   "source": [
    "df_1_13"
   ]
  },
  {
   "cell_type": "markdown",
   "metadata": {},
   "source": [
    "# Задания (вторая часть)"
   ]
  },
  {
   "cell_type": "markdown",
   "metadata": {
    "id": "gnBMXkDBDWKm"
   },
   "source": [
    "## Задание 1"
   ]
  },
  {
   "cell_type": "markdown",
   "metadata": {
    "id": "vHsfOrrNDWKn"
   },
   "source": [
    "Выведите общую сумму просмотров постов за каждый месяц 2008 года. Если данных за какой-либо месяц в базе нет, такой месяц можно пропустить. Результат отсортируйте по убыванию общего количества просмотров."
   ]
  },
  {
   "cell_type": "markdown",
   "metadata": {
    "id": "N5rTgGNmDWKn"
   },
   "source": [
    "| month_date  | total_views |\n",
    "| ------------- | ------------- |\n",
    "| 2008-09-01  | 452928568  |\n",
    "| 2008-10-01  | 365400138  |\n",
    "| ...         | ... |"
   ]
  },
  {
   "cell_type": "code",
   "execution_count": 32,
   "metadata": {
    "id": "eWvykcXTDWKo"
   },
   "outputs": [],
   "source": [
    "# напишите запрос\n",
    "query = '''\n",
    "WITH views_posts_by_month AS\n",
    "(\n",
    "    SELECT DISTINCT \n",
    "        DATE_TRUNC('month', creation_date)::date AS month_date,\n",
    "        SUM(views_count) OVER(PARTITION BY DATE_TRUNC('month', creation_date))\n",
    "            AS total_views\n",
    "    FROM stackoverflow.posts\n",
    ")\n",
    "SELECT *\n",
    "FROM views_posts_by_month\n",
    "WHERE total_views <> 0 AND\n",
    "    (month_date >= '01-01-2008' AND \n",
    "    month_date <= '31-12-2008')\n",
    "ORDER BY total_views DESC;\n",
    "'''\n",
    "\n",
    "# выполните запрос\n",
    "df_2_1 = pd.read_sql_query(query, con=engine) "
   ]
  },
  {
   "cell_type": "code",
   "execution_count": 33,
   "metadata": {},
   "outputs": [
    {
     "data": {
      "text/html": [
       "<div>\n",
       "<style scoped>\n",
       "    .dataframe tbody tr th:only-of-type {\n",
       "        vertical-align: middle;\n",
       "    }\n",
       "\n",
       "    .dataframe tbody tr th {\n",
       "        vertical-align: top;\n",
       "    }\n",
       "\n",
       "    .dataframe thead th {\n",
       "        text-align: right;\n",
       "    }\n",
       "</style>\n",
       "<table border=\"1\" class=\"dataframe\">\n",
       "  <thead>\n",
       "    <tr style=\"text-align: right;\">\n",
       "      <th></th>\n",
       "      <th>month_date</th>\n",
       "      <th>total_views</th>\n",
       "    </tr>\n",
       "  </thead>\n",
       "  <tbody>\n",
       "    <tr>\n",
       "      <th>0</th>\n",
       "      <td>2008-09-01</td>\n",
       "      <td>452928568</td>\n",
       "    </tr>\n",
       "    <tr>\n",
       "      <th>1</th>\n",
       "      <td>2008-10-01</td>\n",
       "      <td>365400138</td>\n",
       "    </tr>\n",
       "    <tr>\n",
       "      <th>2</th>\n",
       "      <td>2008-11-01</td>\n",
       "      <td>221759651</td>\n",
       "    </tr>\n",
       "    <tr>\n",
       "      <th>3</th>\n",
       "      <td>2008-12-01</td>\n",
       "      <td>197792841</td>\n",
       "    </tr>\n",
       "    <tr>\n",
       "      <th>4</th>\n",
       "      <td>2008-08-01</td>\n",
       "      <td>131367083</td>\n",
       "    </tr>\n",
       "    <tr>\n",
       "      <th>5</th>\n",
       "      <td>2008-07-01</td>\n",
       "      <td>669895</td>\n",
       "    </tr>\n",
       "  </tbody>\n",
       "</table>\n",
       "</div>"
      ],
      "text/plain": [
       "   month_date  total_views\n",
       "0  2008-09-01    452928568\n",
       "1  2008-10-01    365400138\n",
       "2  2008-11-01    221759651\n",
       "3  2008-12-01    197792841\n",
       "4  2008-08-01    131367083\n",
       "5  2008-07-01       669895"
      ]
     },
     "execution_count": 33,
     "metadata": {},
     "output_type": "execute_result"
    }
   ],
   "source": [
    "df_2_1"
   ]
  },
  {
   "cell_type": "markdown",
   "metadata": {
    "id": "XMr_UeU6DWKo"
   },
   "source": [
    "<details>\n",
    "\n",
    "<summary>Подсказка</summary>\n",
    "Используйте функцию для усечения даты, а затем сгруппируйте и отсортируйте данные.\n",
    "</details>"
   ]
  },
  {
   "cell_type": "markdown",
   "metadata": {
    "id": "I_ZvhOxkDWKp"
   },
   "source": [
    "Проанализируйте итоговую таблицу. Отличаются ли данные за разные месяцы? С чем могут быть связаны отличия?"
   ]
  },
  {
   "cell_type": "markdown",
   "metadata": {
    "id": "luxSj17oDWKq"
   },
   "source": [
    "*На основе представленных данных можно сделать вывод, что в июле 2008 только появился сервис StackOverflow, в связи с этим было очень мало просмотров: $669 895$. Затем сервис становился более популярным с каждым днем так, что посты, опубликованные в декабре, набрали $452 928 568$ просмотров.* "
   ]
  },
  {
   "cell_type": "markdown",
   "metadata": {},
   "source": [
    "<div class=\"alert alert-success\"; style=\"border-left: 7px solid green\">\n",
    "<b>✅ Комментарий ревьюера, ревью 1</b> \n",
    "\n",
    "Ты верно составил запрос и сделал правильные выводы на основании полученной информации."
   ]
  },
  {
   "cell_type": "markdown",
   "metadata": {
    "id": "FziIXkn5DWKr"
   },
   "source": [
    "## Задание 2"
   ]
  },
  {
   "cell_type": "markdown",
   "metadata": {
    "id": "fTGESZvYDWKr"
   },
   "source": [
    "Выведите имена самых активных пользователей, которые в первый месяц после регистрации (включая день регистрации) дали больше 100 ответов. Вопросы, которые задавали пользователи, не учитывайте. Для каждого имени пользователя выведите количество уникальных значений `user_id`. Отсортируйте результат по полю с именами в лексикографическом порядке."
   ]
  },
  {
   "cell_type": "markdown",
   "metadata": {
    "id": "W5-tv6Y3DWKs"
   },
   "source": [
    "| display_name | count |\n",
    "| ------------ | ----- |\n",
    "| 1800 INFORMATION | 1 |\n",
    "| Adam Bellaire | 1 |\n",
    "| Adam Davis | 1 |\n",
    "| ... | ... |"
   ]
  },
  {
   "cell_type": "code",
   "execution_count": 34,
   "metadata": {
    "id": "fIO-y-YjDWKt"
   },
   "outputs": [],
   "source": [
    "# напишите запрос\n",
    "query = '''\n",
    "WITH selected_users AS\n",
    "(\n",
    "    SELECT DISTINCT  \n",
    "        u.display_name \n",
    "    FROM stackoverflow.posts AS p\n",
    "    LEFT JOIN stackoverflow.users u ON p.user_id = u.id\n",
    "    WHERE p.post_type_id IN \n",
    "        (SELECT pt.id\n",
    "        FROM stackoverflow.post_types AS pt\n",
    "        WHERE pt.id = 2) AND\n",
    "        (p.creation_date - u.creation_date <= '1 month')\n",
    "    GROUP BY u.display_name\n",
    "    HAVING COUNT(p.id) > 100\n",
    "    ORDER BY u.display_name\n",
    ")\n",
    "SELECT DISTINCT su.display_name,\n",
    "    COUNT(u.id) OVER(PARTITION BY u.display_name)\n",
    "FROM selected_users AS su\n",
    "LEFT JOIN stackoverflow.users AS u ON su.display_name=u.display_name\n",
    "ORDER BY su.display_name;\n",
    "'''\n",
    "\n",
    "# выполните запрос\n",
    "df_2_2 = pd.read_sql_query(query, con=engine) "
   ]
  },
  {
   "cell_type": "markdown",
   "metadata": {
    "id": "YIqqc-7HDWKt"
   },
   "source": [
    "<details>\n",
    "\n",
    "<summary>Подсказка</summary>\n",
    "Вам нужно присоединить несколько таблиц — изучите внимательнее описание базы. Чтобы добавить промежуток времени к дате, используйте ключевое слово INTERVAL, например, так: <дата> + INTERVAL '1 year 2 months 3 days'\n",
    ".</details>"
   ]
  },
  {
   "cell_type": "code",
   "execution_count": 35,
   "metadata": {},
   "outputs": [
    {
     "data": {
      "text/html": [
       "<div>\n",
       "<style scoped>\n",
       "    .dataframe tbody tr th:only-of-type {\n",
       "        vertical-align: middle;\n",
       "    }\n",
       "\n",
       "    .dataframe tbody tr th {\n",
       "        vertical-align: top;\n",
       "    }\n",
       "\n",
       "    .dataframe thead th {\n",
       "        text-align: right;\n",
       "    }\n",
       "</style>\n",
       "<table border=\"1\" class=\"dataframe\">\n",
       "  <thead>\n",
       "    <tr style=\"text-align: right;\">\n",
       "      <th></th>\n",
       "      <th>display_name</th>\n",
       "      <th>count</th>\n",
       "    </tr>\n",
       "  </thead>\n",
       "  <tbody>\n",
       "    <tr>\n",
       "      <th>0</th>\n",
       "      <td>1800 INFORMATION</td>\n",
       "      <td>1</td>\n",
       "    </tr>\n",
       "    <tr>\n",
       "      <th>1</th>\n",
       "      <td>Adam Bellaire</td>\n",
       "      <td>1</td>\n",
       "    </tr>\n",
       "    <tr>\n",
       "      <th>2</th>\n",
       "      <td>Adam Davis</td>\n",
       "      <td>1</td>\n",
       "    </tr>\n",
       "    <tr>\n",
       "      <th>3</th>\n",
       "      <td>Adam Liss</td>\n",
       "      <td>1</td>\n",
       "    </tr>\n",
       "    <tr>\n",
       "      <th>4</th>\n",
       "      <td>Alan</td>\n",
       "      <td>11</td>\n",
       "    </tr>\n",
       "    <tr>\n",
       "      <th>...</th>\n",
       "      <td>...</td>\n",
       "      <td>...</td>\n",
       "    </tr>\n",
       "    <tr>\n",
       "      <th>71</th>\n",
       "      <td>leppie</td>\n",
       "      <td>1</td>\n",
       "    </tr>\n",
       "    <tr>\n",
       "      <th>72</th>\n",
       "      <td>lomaxx</td>\n",
       "      <td>1</td>\n",
       "    </tr>\n",
       "    <tr>\n",
       "      <th>73</th>\n",
       "      <td>mattlant</td>\n",
       "      <td>1</td>\n",
       "    </tr>\n",
       "    <tr>\n",
       "      <th>74</th>\n",
       "      <td>paxdiablo</td>\n",
       "      <td>1</td>\n",
       "    </tr>\n",
       "    <tr>\n",
       "      <th>75</th>\n",
       "      <td>tzot</td>\n",
       "      <td>1</td>\n",
       "    </tr>\n",
       "  </tbody>\n",
       "</table>\n",
       "<p>76 rows × 2 columns</p>\n",
       "</div>"
      ],
      "text/plain": [
       "        display_name  count\n",
       "0   1800 INFORMATION      1\n",
       "1      Adam Bellaire      1\n",
       "2         Adam Davis      1\n",
       "3          Adam Liss      1\n",
       "4               Alan     11\n",
       "..               ...    ...\n",
       "71            leppie      1\n",
       "72            lomaxx      1\n",
       "73          mattlant      1\n",
       "74         paxdiablo      1\n",
       "75              tzot      1\n",
       "\n",
       "[76 rows x 2 columns]"
      ]
     },
     "execution_count": 35,
     "metadata": {},
     "output_type": "execute_result"
    }
   ],
   "source": [
    "df_2_2"
   ]
  },
  {
   "cell_type": "markdown",
   "metadata": {
    "id": "I3Wr82TplKpI"
   },
   "source": [
    "Какие аномалии наблюдаются в данных? О чём они говорят?"
   ]
  },
  {
   "cell_type": "markdown",
   "metadata": {
    "id": "CEIGGQ6ODWKy"
   },
   "source": [
    "*Много пользователей с одинаковыми именами, возможно, их можно было создавать тогда. В данной ситуации пользователи могут перепутать и дать ответ другому пользователю с точно таким же именем. Поэтому предлагается запретить создавать пользователей с одним и тем же ником, что сейчас уже почти везде реализовывается.*"
   ]
  },
  {
   "cell_type": "markdown",
   "metadata": {},
   "source": [
    "<div class=\"alert alert-success\"; style=\"border-left: 7px solid green\">\n",
    "<b>✅ Комментарий ревьюера, ревью 1</b> \n",
    "\n",
    "Да, ты прав - имя пользователя, судя по всему, не является уникальным."
   ]
  },
  {
   "cell_type": "markdown",
   "metadata": {
    "id": "JhM2xXj5DWKu"
   },
   "source": [
    "## Задание 3"
   ]
  },
  {
   "cell_type": "markdown",
   "metadata": {
    "id": "IS6xPqyyDWKu"
   },
   "source": [
    "Выведите количество постов за 2008 год по месяцам. Отберите посты от пользователей, которые зарегистрировались в сентябре 2008 года и сделали хотя бы один пост в декабре того же года. Отсортируйте таблицу по значению месяца по убыванию."
   ]
  },
  {
   "cell_type": "markdown",
   "metadata": {
    "id": "WmjhjV2xDWKv"
   },
   "source": [
    "| month | count |\n",
    "| ------|------ |\n",
    "| 2008-12-01 | 17641 |\n",
    "| 2008-11-01 | 18294 |\n",
    "| ... | ... |"
   ]
  },
  {
   "cell_type": "code",
   "execution_count": 36,
   "metadata": {
    "id": "kVu0FB8WDWKv"
   },
   "outputs": [],
   "source": [
    "# напишите запрос\n",
    "query = '''\n",
    "WITH users_create_september AS\n",
    "(\n",
    "    SELECT u.id\n",
    "    FROM stackoverflow.users AS u\n",
    "    WHERE u.creation_date::date BETWEEN '01-09-2008' AND '30-09-2008'\n",
    "),\n",
    "    users_post_december AS\n",
    "(\n",
    "    SELECT DISTINCT\n",
    "        p.user_id\n",
    "    FROM stackoverflow.posts AS p\n",
    "    WHERE p.creation_date::date BETWEEN '01-12-2008' AND '31-12-2008'\n",
    ")\n",
    "\n",
    "SELECT DISTINCT \n",
    "    DATE_TRUNC('month', p.creation_date)::date AS month,\n",
    "    COUNT(p.id) OVER(PARTITION BY DATE_TRUNC('month', creation_date))\n",
    "FROM stackoverflow.posts AS p\n",
    "WHERE p.creation_date::date >= '01-01-2008' AND \n",
    "    p.creation_date::date <= '31-12-2008' AND\n",
    "    p.user_id IN\n",
    "        (SELECT *\n",
    "        FROM users_create_september) AND\n",
    "    p.user_id IN \n",
    "        (SELECT *\n",
    "        FROM users_post_december)\n",
    "ORDER BY month DESC;\n",
    "'''\n",
    "\n",
    "# выполните запрос\n",
    "df_2_3 = pd.read_sql_query(query, con=engine) "
   ]
  },
  {
   "cell_type": "code",
   "execution_count": 37,
   "metadata": {},
   "outputs": [
    {
     "data": {
      "text/html": [
       "<div>\n",
       "<style scoped>\n",
       "    .dataframe tbody tr th:only-of-type {\n",
       "        vertical-align: middle;\n",
       "    }\n",
       "\n",
       "    .dataframe tbody tr th {\n",
       "        vertical-align: top;\n",
       "    }\n",
       "\n",
       "    .dataframe thead th {\n",
       "        text-align: right;\n",
       "    }\n",
       "</style>\n",
       "<table border=\"1\" class=\"dataframe\">\n",
       "  <thead>\n",
       "    <tr style=\"text-align: right;\">\n",
       "      <th></th>\n",
       "      <th>month</th>\n",
       "      <th>count</th>\n",
       "    </tr>\n",
       "  </thead>\n",
       "  <tbody>\n",
       "    <tr>\n",
       "      <th>0</th>\n",
       "      <td>2008-12-01</td>\n",
       "      <td>17641</td>\n",
       "    </tr>\n",
       "    <tr>\n",
       "      <th>1</th>\n",
       "      <td>2008-11-01</td>\n",
       "      <td>18294</td>\n",
       "    </tr>\n",
       "    <tr>\n",
       "      <th>2</th>\n",
       "      <td>2008-10-01</td>\n",
       "      <td>27171</td>\n",
       "    </tr>\n",
       "    <tr>\n",
       "      <th>3</th>\n",
       "      <td>2008-09-01</td>\n",
       "      <td>24870</td>\n",
       "    </tr>\n",
       "    <tr>\n",
       "      <th>4</th>\n",
       "      <td>2008-08-01</td>\n",
       "      <td>32</td>\n",
       "    </tr>\n",
       "  </tbody>\n",
       "</table>\n",
       "</div>"
      ],
      "text/plain": [
       "        month  count\n",
       "0  2008-12-01  17641\n",
       "1  2008-11-01  18294\n",
       "2  2008-10-01  27171\n",
       "3  2008-09-01  24870\n",
       "4  2008-08-01     32"
      ]
     },
     "execution_count": 37,
     "metadata": {},
     "output_type": "execute_result"
    }
   ],
   "source": [
    "df_2_3"
   ]
  },
  {
   "cell_type": "markdown",
   "metadata": {
    "id": "nWf0JsTMDWKx"
   },
   "source": [
    "<details>\n",
    "\n",
    "<summary>Подсказка</summary>\n",
    "Сначала найдите идентификаторы пользователей, которые зарегистрировались в сентябре 2008 года и оставили хотя бы один пост в декабре. Затем используйте результат для среза и посчитайте посты по месяцам.</details>"
   ]
  },
  {
   "cell_type": "markdown",
   "metadata": {
    "id": "Vnxn9DVHDWKx"
   },
   "source": [
    "Изучите данные: есть ли в них аномалии? Предположите, почему могли появиться аномальные значения."
   ]
  },
  {
   "cell_type": "markdown",
   "metadata": {
    "id": "MMVIz4yMlKpN"
   },
   "source": [
    "*Да, есть аномалии в данных: 32 поста опубликованы в августе от пользователей, которые зарегистрировались в сентябре.* \n",
    "\n",
    "*Возможно, пользователь создал свой аккаунт и сразу же его опубликовал 1 сентября. Но поскольку пользователи могут находиться в другом часовом поясе по сравнению с сервером, который обрабатывает информацию, то в связи с этим могли возникнуть аномалии в данных.*"
   ]
  },
  {
   "cell_type": "markdown",
   "metadata": {},
   "source": [
    "<div class=\"alert alert-success\"; style=\"border-left: 7px solid green\">\n",
    "<b>✅ Комментарий ревьюера, ревью 1</b> \n",
    "\n",
    "И здесь все верно. И твое предположение о причинах аномалии вполне рациональное."
   ]
  },
  {
   "cell_type": "markdown",
   "metadata": {
    "id": "5Pcizm0DDWKz"
   },
   "source": [
    "## Задание 4"
   ]
  },
  {
   "cell_type": "markdown",
   "metadata": {
    "id": "KUZPF6vHDWKz"
   },
   "source": [
    "Используя данные о постах, выведите несколько полей:\n",
    "\n",
    "- идентификатор пользователя, который написал пост;\n",
    "- дата создания поста;\n",
    "- количество просмотров у текущего поста;\n",
    "- сумму просмотров постов автора с накоплением.\n",
    "\n",
    "Данные в таблице должны быть отсортированы по возрастанию идентификаторов пользователей, а данные об одном и том же пользователе — по возрастанию даты создания поста."
   ]
  },
  {
   "cell_type": "markdown",
   "metadata": {
    "id": "ZpsTUVDYDWK0"
   },
   "source": [
    "| user_id | creation_date | views_count | cumulative_count |\n",
    "| ------ | -------------- | ----------- | ---------------- |\n",
    "| 1 | 2008-07-31 23:41:00  | 480476   | 480476  |\n",
    "| 1 | 2008-07-31 23:55:38  | 136033 | 616509  | \n",
    "| 1 | 2008-07-31 23:56:41  | 0 |  616509  |\n",
    "| ... | ... | ... | ... |\n",
    "| 2 | 2008-08-01 04:59:34 | 79087  | 79087 |\n",
    "| 2 | 2008-08-01 05:09:56 | 65443 | 144530 |\n",
    "| ... | ...  | ...  | ...  |"
   ]
  },
  {
   "cell_type": "code",
   "execution_count": 38,
   "metadata": {
    "id": "hDoJhMzfDWK0"
   },
   "outputs": [],
   "source": [
    "# напишите запрос\n",
    "query = '''\n",
    "WITH posts AS\n",
    "(\n",
    "    SELECT user_id,\n",
    "        creation_date,\n",
    "        views_count \n",
    "    FROM stackoverflow.posts AS p\n",
    ")\n",
    "SELECT *,\n",
    "    SUM(views_count) OVER(PARTITION BY user_id ORDER BY creation_date)\n",
    "        AS cumulative_count\n",
    "FROM posts;\n",
    "'''\n",
    "\n",
    "# выполните запрос\n",
    "df_2_4 = pd.read_sql_query(query, con=engine)"
   ]
  },
  {
   "cell_type": "code",
   "execution_count": 39,
   "metadata": {},
   "outputs": [
    {
     "data": {
      "text/html": [
       "<div>\n",
       "<style scoped>\n",
       "    .dataframe tbody tr th:only-of-type {\n",
       "        vertical-align: middle;\n",
       "    }\n",
       "\n",
       "    .dataframe tbody tr th {\n",
       "        vertical-align: top;\n",
       "    }\n",
       "\n",
       "    .dataframe thead th {\n",
       "        text-align: right;\n",
       "    }\n",
       "</style>\n",
       "<table border=\"1\" class=\"dataframe\">\n",
       "  <thead>\n",
       "    <tr style=\"text-align: right;\">\n",
       "      <th></th>\n",
       "      <th>user_id</th>\n",
       "      <th>creation_date</th>\n",
       "      <th>views_count</th>\n",
       "      <th>cumulative_count</th>\n",
       "    </tr>\n",
       "  </thead>\n",
       "  <tbody>\n",
       "    <tr>\n",
       "      <th>0</th>\n",
       "      <td>1</td>\n",
       "      <td>2008-07-31 23:41:00</td>\n",
       "      <td>480476</td>\n",
       "      <td>480476</td>\n",
       "    </tr>\n",
       "    <tr>\n",
       "      <th>1</th>\n",
       "      <td>1</td>\n",
       "      <td>2008-07-31 23:55:38</td>\n",
       "      <td>136033</td>\n",
       "      <td>616509</td>\n",
       "    </tr>\n",
       "    <tr>\n",
       "      <th>2</th>\n",
       "      <td>1</td>\n",
       "      <td>2008-07-31 23:56:41</td>\n",
       "      <td>0</td>\n",
       "      <td>616509</td>\n",
       "    </tr>\n",
       "    <tr>\n",
       "      <th>3</th>\n",
       "      <td>1</td>\n",
       "      <td>2008-08-04 02:45:08</td>\n",
       "      <td>0</td>\n",
       "      <td>616509</td>\n",
       "    </tr>\n",
       "    <tr>\n",
       "      <th>4</th>\n",
       "      <td>1</td>\n",
       "      <td>2008-08-04 04:31:03</td>\n",
       "      <td>0</td>\n",
       "      <td>616509</td>\n",
       "    </tr>\n",
       "    <tr>\n",
       "      <th>...</th>\n",
       "      <td>...</td>\n",
       "      <td>...</td>\n",
       "      <td>...</td>\n",
       "      <td>...</td>\n",
       "    </tr>\n",
       "    <tr>\n",
       "      <th>243791</th>\n",
       "      <td>5696608</td>\n",
       "      <td>2008-12-23 16:00:37</td>\n",
       "      <td>0</td>\n",
       "      <td>2804</td>\n",
       "    </tr>\n",
       "    <tr>\n",
       "      <th>243792</th>\n",
       "      <td>5696608</td>\n",
       "      <td>2008-12-23 17:35:09</td>\n",
       "      <td>0</td>\n",
       "      <td>2804</td>\n",
       "    </tr>\n",
       "    <tr>\n",
       "      <th>243793</th>\n",
       "      <td>5696608</td>\n",
       "      <td>2008-12-24 01:02:48</td>\n",
       "      <td>0</td>\n",
       "      <td>2804</td>\n",
       "    </tr>\n",
       "    <tr>\n",
       "      <th>243794</th>\n",
       "      <td>5696608</td>\n",
       "      <td>2008-12-30 14:34:45</td>\n",
       "      <td>0</td>\n",
       "      <td>2804</td>\n",
       "    </tr>\n",
       "    <tr>\n",
       "      <th>243795</th>\n",
       "      <td>5696608</td>\n",
       "      <td>2008-12-30 16:32:12</td>\n",
       "      <td>0</td>\n",
       "      <td>2804</td>\n",
       "    </tr>\n",
       "  </tbody>\n",
       "</table>\n",
       "<p>243796 rows × 4 columns</p>\n",
       "</div>"
      ],
      "text/plain": [
       "        user_id       creation_date  views_count  cumulative_count\n",
       "0             1 2008-07-31 23:41:00       480476            480476\n",
       "1             1 2008-07-31 23:55:38       136033            616509\n",
       "2             1 2008-07-31 23:56:41            0            616509\n",
       "3             1 2008-08-04 02:45:08            0            616509\n",
       "4             1 2008-08-04 04:31:03            0            616509\n",
       "...         ...                 ...          ...               ...\n",
       "243791  5696608 2008-12-23 16:00:37            0              2804\n",
       "243792  5696608 2008-12-23 17:35:09            0              2804\n",
       "243793  5696608 2008-12-24 01:02:48            0              2804\n",
       "243794  5696608 2008-12-30 14:34:45            0              2804\n",
       "243795  5696608 2008-12-30 16:32:12            0              2804\n",
       "\n",
       "[243796 rows x 4 columns]"
      ]
     },
     "execution_count": 39,
     "metadata": {},
     "output_type": "execute_result"
    }
   ],
   "source": [
    "df_2_4"
   ]
  },
  {
   "cell_type": "markdown",
   "metadata": {
    "id": "toidOivXDWK1"
   },
   "source": [
    "<details>\n",
    "\n",
    "<summary>Подсказка</summary>\n",
    "Для подсчёта суммы с накоплением используйте оконную функцию.\n",
    "</details>"
   ]
  },
  {
   "cell_type": "markdown",
   "metadata": {},
   "source": [
    "<div class=\"alert alert-success\"; style=\"border-left: 7px solid green\">\n",
    "<b>✅ Комментарий ревьюера, ревью 1</b> \n",
    "\n",
    "Отличное использование оконной функции."
   ]
  },
  {
   "cell_type": "markdown",
   "metadata": {
    "id": "N0kHRHvIDWK2"
   },
   "source": [
    "## Задание 5"
   ]
  },
  {
   "cell_type": "markdown",
   "metadata": {
    "id": "gBgvmPtODWK2"
   },
   "source": [
    "Найдите среднее количество постов пользователей в день за август 2008 года. Отберите данные о пользователях, которые опубликовали больше 120 постов за август. Дни без публикаций не учитывайте. \n",
    "\n",
    "Отсортируйте результат по возрастанию среднего количества постов. Значения можно не округлять."
   ]
  },
  {
   "cell_type": "markdown",
   "metadata": {
    "id": "nfzR08BODWK3"
   },
   "source": [
    "| user_id | avg_daily |\n",
    "| ------- | --------- |\n",
    "| 116     | 4.777778  |\n",
    "| 234     | 5.208333  |\n",
    "| ...     | ... |"
   ]
  },
  {
   "cell_type": "code",
   "execution_count": 40,
   "metadata": {
    "id": "YFyPNz5GDWK3"
   },
   "outputs": [],
   "source": [
    "# напишите запрос\n",
    "query = '''\n",
    "WITH user_post_days AS\n",
    "(\n",
    "    SELECT\n",
    "        user_id,\n",
    "        creation_date::date AS date_post,\n",
    "        COUNT(id) AS post_per_day\n",
    "    FROM stackoverflow.posts AS p\n",
    "    WHERE user_id IN \n",
    "            (\n",
    "            SELECT user_id\n",
    "            FROM stackoverflow.posts AS p\n",
    "            WHERE creation_date >= '01-08-2008' AND \n",
    "                creation_date  <= '31-08-2008'\n",
    "            GROUP BY user_id \n",
    "            HAVING COUNT(id) > 120\n",
    "            ) AND\n",
    "        creation_date::date BETWEEN '01-08-2008' AND '31-08-2008'\n",
    "    GROUP BY user_id, creation_date::date\n",
    "    ORDER BY user_id\n",
    ")\n",
    "SELECT user_id,\n",
    "    AVG(post_per_day) AS avg_daily\n",
    "FROM user_post_days\n",
    "GROUP BY user_id\n",
    "ORDER BY avg_daily;\n",
    "'''\n",
    "\n",
    "# выполните запрос\n",
    "df_2_5 = pd.read_sql_query(query, con=engine)"
   ]
  },
  {
   "cell_type": "code",
   "execution_count": 41,
   "metadata": {},
   "outputs": [
    {
     "data": {
      "text/html": [
       "<div>\n",
       "<style scoped>\n",
       "    .dataframe tbody tr th:only-of-type {\n",
       "        vertical-align: middle;\n",
       "    }\n",
       "\n",
       "    .dataframe tbody tr th {\n",
       "        vertical-align: top;\n",
       "    }\n",
       "\n",
       "    .dataframe thead th {\n",
       "        text-align: right;\n",
       "    }\n",
       "</style>\n",
       "<table border=\"1\" class=\"dataframe\">\n",
       "  <thead>\n",
       "    <tr style=\"text-align: right;\">\n",
       "      <th></th>\n",
       "      <th>user_id</th>\n",
       "      <th>avg_daily</th>\n",
       "    </tr>\n",
       "  </thead>\n",
       "  <tbody>\n",
       "    <tr>\n",
       "      <th>0</th>\n",
       "      <td>116</td>\n",
       "      <td>4.777778</td>\n",
       "    </tr>\n",
       "    <tr>\n",
       "      <th>1</th>\n",
       "      <td>234</td>\n",
       "      <td>5.208333</td>\n",
       "    </tr>\n",
       "    <tr>\n",
       "      <th>2</th>\n",
       "      <td>91</td>\n",
       "      <td>5.681818</td>\n",
       "    </tr>\n",
       "    <tr>\n",
       "      <th>3</th>\n",
       "      <td>905</td>\n",
       "      <td>7.000000</td>\n",
       "    </tr>\n",
       "    <tr>\n",
       "      <th>4</th>\n",
       "      <td>383</td>\n",
       "      <td>7.277778</td>\n",
       "    </tr>\n",
       "  </tbody>\n",
       "</table>\n",
       "</div>"
      ],
      "text/plain": [
       "   user_id  avg_daily\n",
       "0      116   4.777778\n",
       "1      234   5.208333\n",
       "2       91   5.681818\n",
       "3      905   7.000000\n",
       "4      383   7.277778"
      ]
     },
     "execution_count": 41,
     "metadata": {},
     "output_type": "execute_result"
    }
   ],
   "source": [
    "df_2_5"
   ]
  },
  {
   "cell_type": "markdown",
   "metadata": {
    "id": "5Gs8kiJvDWK4"
   },
   "source": [
    "<details>\n",
    "\n",
    "<summary>Подсказка</summary>\n",
    "Сначала найдите идентификаторы пользователей, которые написали более 120 постов за август. Используя этот запрос в качестве подзапроса для среза, найдите и сохраните во временную таблицу идентификаторы нужных пользователей, дни августа и количество постов в день. В основном запросе сгруппируйте данные по пользователям и найдите для каждого из них среднее количество постов.\n",
    "</details>"
   ]
  },
  {
   "cell_type": "markdown",
   "metadata": {},
   "source": [
    "<div class=\"alert alert-success\"; style=\"border-left: 7px solid green\">\n",
    "<b>✅ Комментарий ревьюера, ревью 1</b> \n",
    "\n",
    "Ты отлично справляешься даже со сложными запросами."
   ]
  },
  {
   "cell_type": "markdown",
   "metadata": {
    "id": "EQ0dcFH4DWK5"
   },
   "source": [
    "## Задание 6"
   ]
  },
  {
   "cell_type": "markdown",
   "metadata": {
    "id": "c7flfg_hDWK5"
   },
   "source": [
    "Сколько в среднем дней в период с 1 по 7 декабря 2008 года пользователи взаимодействовали с платформой? Для каждого пользователя отберите дни, в которые он или она опубликовали хотя бы один пост. Нужно получить одно целое число — не забудьте округлить результат. "
   ]
  },
  {
   "cell_type": "markdown",
   "metadata": {
    "id": "RC1Ibzm9DWK6"
   },
   "source": [
    "| result |\n",
    "| -----  |\n",
    "| <целое число> |"
   ]
  },
  {
   "cell_type": "code",
   "execution_count": 42,
   "metadata": {
    "id": "kZ7LXTr6DWK6"
   },
   "outputs": [],
   "source": [
    "# напишите запрос\n",
    "query = '''\n",
    "SELECT ROUND(AVG(cnt_days), 0) AS result\n",
    "FROM (WITH days_users_posts AS\n",
    "        (\n",
    "            SELECT DISTINCT\n",
    "                user_id,\n",
    "                creation_date::date AS day_post\n",
    "            FROM stackoverflow.posts\n",
    "            WHERE creation_date::date BETWEEN '01-12-2008' AND '07-12-2008'\n",
    "        )\n",
    "        SELECT DISTINCT\n",
    "            user_id,\n",
    "            COUNT(day_post) OVER(PARTITION BY user_id) AS cnt_days\n",
    "        FROM days_users_posts\n",
    "    ) AS agg_table; \n",
    "\n",
    "'''\n",
    "\n",
    "# выполните запрос\n",
    "df_2_6 = pd.read_sql_query(query, con=engine)"
   ]
  },
  {
   "cell_type": "code",
   "execution_count": 43,
   "metadata": {},
   "outputs": [
    {
     "data": {
      "text/html": [
       "<div>\n",
       "<style scoped>\n",
       "    .dataframe tbody tr th:only-of-type {\n",
       "        vertical-align: middle;\n",
       "    }\n",
       "\n",
       "    .dataframe tbody tr th {\n",
       "        vertical-align: top;\n",
       "    }\n",
       "\n",
       "    .dataframe thead th {\n",
       "        text-align: right;\n",
       "    }\n",
       "</style>\n",
       "<table border=\"1\" class=\"dataframe\">\n",
       "  <thead>\n",
       "    <tr style=\"text-align: right;\">\n",
       "      <th></th>\n",
       "      <th>result</th>\n",
       "    </tr>\n",
       "  </thead>\n",
       "  <tbody>\n",
       "    <tr>\n",
       "      <th>0</th>\n",
       "      <td>2.0</td>\n",
       "    </tr>\n",
       "  </tbody>\n",
       "</table>\n",
       "</div>"
      ],
      "text/plain": [
       "   result\n",
       "0     2.0"
      ]
     },
     "execution_count": 43,
     "metadata": {},
     "output_type": "execute_result"
    }
   ],
   "source": [
    "df_2_6"
   ]
  },
  {
   "cell_type": "markdown",
   "metadata": {},
   "source": [
    "Вылезло число с точкой, преобразуем столбец в целое число"
   ]
  },
  {
   "cell_type": "code",
   "execution_count": 44,
   "metadata": {},
   "outputs": [
    {
     "data": {
      "text/html": [
       "<div>\n",
       "<style scoped>\n",
       "    .dataframe tbody tr th:only-of-type {\n",
       "        vertical-align: middle;\n",
       "    }\n",
       "\n",
       "    .dataframe tbody tr th {\n",
       "        vertical-align: top;\n",
       "    }\n",
       "\n",
       "    .dataframe thead th {\n",
       "        text-align: right;\n",
       "    }\n",
       "</style>\n",
       "<table border=\"1\" class=\"dataframe\">\n",
       "  <thead>\n",
       "    <tr style=\"text-align: right;\">\n",
       "      <th></th>\n",
       "      <th>result</th>\n",
       "    </tr>\n",
       "  </thead>\n",
       "  <tbody>\n",
       "    <tr>\n",
       "      <th>0</th>\n",
       "      <td>2</td>\n",
       "    </tr>\n",
       "  </tbody>\n",
       "</table>\n",
       "</div>"
      ],
      "text/plain": [
       "   result\n",
       "0       2"
      ]
     },
     "execution_count": 44,
     "metadata": {},
     "output_type": "execute_result"
    }
   ],
   "source": [
    "df_2_6['result'] = df_2_6['result'].astype('int')\n",
    "df_2_6"
   ]
  },
  {
   "cell_type": "markdown",
   "metadata": {
    "id": "2K5G3xuBDWK7"
   },
   "source": [
    "<details>\n",
    "\n",
    "<summary>Подсказка</summary>\n",
    "Посчитайте, сколько активных дней было у каждого пользователя. Добавьте данные во временную таблицу и используйте в основном запросе.\n",
    "</details>"
   ]
  },
  {
   "cell_type": "markdown",
   "metadata": {},
   "source": [
    "<div class=\"alert alert-warning\"; style=\"border-left: 7px solid gold\">\n",
    "<b>⚠️ Комментарий ревьюера, ревью 1</b> \n",
    "\n",
    "С запросом все верно, но округление стоило сделать непосредственно в нем, с помощью SQL-функции ROUND."
   ]
  },
  {
   "cell_type": "markdown",
   "metadata": {
    "id": "UJFtNNggDWK7"
   },
   "source": [
    "Проанализируйте итоговую таблицу — какие выводы можно сделать?"
   ]
  },
  {
   "cell_type": "markdown",
   "metadata": {
    "id": "LfUuYz-1DWK8"
   },
   "source": [
    "Пользователи в среднем за неделю выходили на платформу в течение 2 дней для того, чтобы дать ответ на вопрос или же самим задать вопрос. Но это вовсе не означает, что пользователи не могли быть на платформе, например, чтобы просмотреть посты."
   ]
  },
  {
   "cell_type": "markdown",
   "metadata": {},
   "source": []
  },
  {
   "cell_type": "markdown",
   "metadata": {
    "id": "wfOmqmfLDWK8"
   },
   "source": [
    "## Задание 7"
   ]
  },
  {
   "cell_type": "markdown",
   "metadata": {
    "id": "X4ARQimADWK9"
   },
   "source": [
    "Выведите историю активности каждого пользователя в таком виде: идентификатор пользователя, дата публикации поста. Отсортируйте вывод по возрастанию идентификаторов пользователей, а для каждого пользователя — по возрастанию даты публикации.\n",
    "\n",
    "Добавьте в таблицу новое поле: для каждого поста в нём будет указано название месяца предпоследней публикации пользователя относительно текущей. Если такой публикации нет, укажите `NULL`.  Python автоматически поменяет `NULL` на `None`, но дополнительно преобразовывать значения `None` вам не нужно.\n",
    "\n",
    "Посмотрите внимательно на образец таблицы: для первых двух постов предпоследней публикации нет, но, начиная с третьего поста, в новое поле входит нужный месяц. Для следующего пользователя в первые две записи поля `second_last_month` тоже войдёт `NULL`."
   ]
  },
  {
   "cell_type": "markdown",
   "metadata": {
    "id": "IGPjRP01DWK9"
   },
   "source": [
    "| user_id | creation_date | second_last_month |\n",
    "| ------- | ------------- | ----------------- |\n",
    "| 1       | 2008-07-31 23:41:00 | None |\n",
    "| 1       | 2008-07-31 23:55:38 | None |\n",
    "| 1       | 2008-07-31 23:56:41 | July |\n",
    "| 1       | 2008-08-04 02:45:08 | July |\n",
    "| 1       | 2008-08-04 04:31:03 | July |\n",
    "| 1       | 2008-08-04 08:04:42 | August |\n",
    "| ... | ... | ... |"
   ]
  },
  {
   "cell_type": "code",
   "execution_count": 45,
   "metadata": {
    "id": "HzI1vhaMDWK-"
   },
   "outputs": [],
   "source": [
    "# напишите запрос\n",
    "query = '''\n",
    "SELECT user_id,\n",
    "    creation_date,\n",
    "    LAG(TO_CHAR(creation_date, 'Month'), 2) \n",
    "        OVER(PARTITION BY user_id ORDER BY creation_date) \n",
    "        AS second_last_month\n",
    "FROM stackoverflow.posts; \n",
    "'''\n",
    "\n",
    "# выполните запрос\n",
    "df_2_7 = pd.read_sql_query(query, con=engine)"
   ]
  },
  {
   "cell_type": "code",
   "execution_count": 46,
   "metadata": {},
   "outputs": [
    {
     "data": {
      "text/html": [
       "<div>\n",
       "<style scoped>\n",
       "    .dataframe tbody tr th:only-of-type {\n",
       "        vertical-align: middle;\n",
       "    }\n",
       "\n",
       "    .dataframe tbody tr th {\n",
       "        vertical-align: top;\n",
       "    }\n",
       "\n",
       "    .dataframe thead th {\n",
       "        text-align: right;\n",
       "    }\n",
       "</style>\n",
       "<table border=\"1\" class=\"dataframe\">\n",
       "  <thead>\n",
       "    <tr style=\"text-align: right;\">\n",
       "      <th></th>\n",
       "      <th>user_id</th>\n",
       "      <th>creation_date</th>\n",
       "      <th>second_last_month</th>\n",
       "    </tr>\n",
       "  </thead>\n",
       "  <tbody>\n",
       "    <tr>\n",
       "      <th>0</th>\n",
       "      <td>1</td>\n",
       "      <td>2008-07-31 23:41:00</td>\n",
       "      <td>None</td>\n",
       "    </tr>\n",
       "    <tr>\n",
       "      <th>1</th>\n",
       "      <td>1</td>\n",
       "      <td>2008-07-31 23:55:38</td>\n",
       "      <td>None</td>\n",
       "    </tr>\n",
       "    <tr>\n",
       "      <th>2</th>\n",
       "      <td>1</td>\n",
       "      <td>2008-07-31 23:56:41</td>\n",
       "      <td>July</td>\n",
       "    </tr>\n",
       "    <tr>\n",
       "      <th>3</th>\n",
       "      <td>1</td>\n",
       "      <td>2008-08-04 02:45:08</td>\n",
       "      <td>July</td>\n",
       "    </tr>\n",
       "    <tr>\n",
       "      <th>4</th>\n",
       "      <td>1</td>\n",
       "      <td>2008-08-04 04:31:03</td>\n",
       "      <td>July</td>\n",
       "    </tr>\n",
       "    <tr>\n",
       "      <th>...</th>\n",
       "      <td>...</td>\n",
       "      <td>...</td>\n",
       "      <td>...</td>\n",
       "    </tr>\n",
       "    <tr>\n",
       "      <th>243791</th>\n",
       "      <td>5696608</td>\n",
       "      <td>2008-12-23 16:00:37</td>\n",
       "      <td>December</td>\n",
       "    </tr>\n",
       "    <tr>\n",
       "      <th>243792</th>\n",
       "      <td>5696608</td>\n",
       "      <td>2008-12-23 17:35:09</td>\n",
       "      <td>December</td>\n",
       "    </tr>\n",
       "    <tr>\n",
       "      <th>243793</th>\n",
       "      <td>5696608</td>\n",
       "      <td>2008-12-24 01:02:48</td>\n",
       "      <td>December</td>\n",
       "    </tr>\n",
       "    <tr>\n",
       "      <th>243794</th>\n",
       "      <td>5696608</td>\n",
       "      <td>2008-12-30 14:34:45</td>\n",
       "      <td>December</td>\n",
       "    </tr>\n",
       "    <tr>\n",
       "      <th>243795</th>\n",
       "      <td>5696608</td>\n",
       "      <td>2008-12-30 16:32:12</td>\n",
       "      <td>December</td>\n",
       "    </tr>\n",
       "  </tbody>\n",
       "</table>\n",
       "<p>243796 rows × 3 columns</p>\n",
       "</div>"
      ],
      "text/plain": [
       "        user_id       creation_date second_last_month\n",
       "0             1 2008-07-31 23:41:00              None\n",
       "1             1 2008-07-31 23:55:38              None\n",
       "2             1 2008-07-31 23:56:41         July     \n",
       "3             1 2008-08-04 02:45:08         July     \n",
       "4             1 2008-08-04 04:31:03         July     \n",
       "...         ...                 ...               ...\n",
       "243791  5696608 2008-12-23 16:00:37         December \n",
       "243792  5696608 2008-12-23 17:35:09         December \n",
       "243793  5696608 2008-12-24 01:02:48         December \n",
       "243794  5696608 2008-12-30 14:34:45         December \n",
       "243795  5696608 2008-12-30 16:32:12         December \n",
       "\n",
       "[243796 rows x 3 columns]"
      ]
     },
     "execution_count": 46,
     "metadata": {},
     "output_type": "execute_result"
    }
   ],
   "source": [
    "df_2_7"
   ]
  },
  {
   "cell_type": "markdown",
   "metadata": {
    "id": "7dqoKkncDWK_"
   },
   "source": [
    "<details>\n",
    "\n",
    "<summary>Подсказка</summary>\n",
    "Преобразовать результат оконной функции в нужное значение вам поможет аналог условного оператора в SQL: CASE <поле> WHEN <старое значение> THEN <новое значение> END.\n",
    "</details>"
   ]
  },
  {
   "cell_type": "markdown",
   "metadata": {},
   "source": [
    "<div class=\"alert alert-success\"; style=\"border-left: 7px solid green\">\n",
    "<b>✅ Комментарий ревьюера, ревью 1</b> \n",
    "\n",
    "Оптимальный набор оконной функции и функции to_char для ответа на поставленный вопрос."
   ]
  },
  {
   "cell_type": "markdown",
   "metadata": {
    "id": "tf9qq2yzDWK_"
   },
   "source": [
    "## Задание 8"
   ]
  },
  {
   "cell_type": "markdown",
   "metadata": {
    "id": "gfwLVXBYDWLA"
   },
   "source": [
    "Рассчитайте аналог Retention Rate по месяцам для пользователей StackOverflow. Объедините пользователей в когорты по месяцу их первого поста. Возвращение определяйте по наличию поста в текущем месяце. "
   ]
  },
  {
   "cell_type": "markdown",
   "metadata": {
    "id": "kN2ic39WlKpl"
   },
   "source": [
    "| cohort_dt | session_date | users_cnt | cohort_users_cnt | retention_rate |\n",
    "| --- | --- | --- | --- | --- |\n",
    "| 2008-07-01 00:00:00 | 2008-07-01 00:00:00 | 3 | 3 | 100 |\n",
    "| 2008-07-01 00:00:00 | 2008-08-01 00:00:00 | 2 | 3 | 66,67 |\n",
    "| 2008-07-01 00:00:00 | 2008-09-01 00:00:00 | 1 | 3 | 33,33 |\n",
    "| 2008-07-01 00:00:00 | 2008-10-01 00:00:00 | 2 | 3 | 66,67 |\n",
    "| 2008-07-01 00:00:00 | 2008-11-01 00:00:00 | 1 | 3 | 33,33 |\n",
    "| 2008-07-01 00:00:00 | 2008-12-01 00:00:00 | 2 | 3 | 66,67 |\n",
    "| 2008-08-01 00:00:00 | 2008-08-01 00:00:00 | 2151 | 2151 | 100 |\n",
    "| ... | ... | ... | ... | ... |"
   ]
  },
  {
   "cell_type": "code",
   "execution_count": 47,
   "metadata": {
    "id": "LUgFmwmTDWLB"
   },
   "outputs": [],
   "source": [
    "# напишите запрос\n",
    "query = '''\n",
    "WITH creates AS\n",
    "(\n",
    "    WITH first_posts AS\n",
    "    (\n",
    "        SELECT user_id,\n",
    "            creation_date,\n",
    "            RANK() OVER(PARTITION BY user_id ORDER BY creation_date) AS rn_date\n",
    "        FROM StackOverflow.posts\n",
    "    )\n",
    "    SELECT id AS user_id,\n",
    "        DATE_TRUNC('month', fp.creation_date) AS cohort_dt,\n",
    "        COUNT(*) \n",
    "            OVER(PARTITION BY DATE_TRUNC('month', fp.creation_date))\n",
    "            AS cohort_users_cnt\n",
    "        FROM stackoverflow.users AS u\n",
    "    JOIN first_posts AS fp ON u.id=fp.user_id\n",
    "    WHERE fp.rn_date=1\n",
    "),\n",
    "    sessions AS\n",
    "(\n",
    "    SELECT user_id,\n",
    "        DATE_TRUNC('month', creation_date) AS session_date\n",
    "    FROM stackoverflow.posts\n",
    "    GROUP BY 1, 2\n",
    ")\n",
    "SELECT c.cohort_dt,\n",
    "    s.session_date,\n",
    "    COUNT(c.user_id) AS users_cnt,\n",
    "    c.cohort_users_cnt,\n",
    "    ROUND(COUNT(c.user_id) * 100.0 / c.cohort_users_cnt, 2)\n",
    "        AS retention_rate\n",
    "FROM creates AS c\n",
    "JOIN sessions AS s ON c.user_id=s.user_id\n",
    "GROUP BY 1, 2, 4\n",
    "ORDER BY c.cohort_dt, s.session_date;\n",
    "\n",
    "'''\n",
    "\n",
    "# выполните запрос\n",
    "df_2_8 = pd.read_sql_query(query, con=engine)"
   ]
  },
  {
   "cell_type": "code",
   "execution_count": 48,
   "metadata": {},
   "outputs": [
    {
     "data": {
      "text/html": [
       "<div>\n",
       "<style scoped>\n",
       "    .dataframe tbody tr th:only-of-type {\n",
       "        vertical-align: middle;\n",
       "    }\n",
       "\n",
       "    .dataframe tbody tr th {\n",
       "        vertical-align: top;\n",
       "    }\n",
       "\n",
       "    .dataframe thead th {\n",
       "        text-align: right;\n",
       "    }\n",
       "</style>\n",
       "<table border=\"1\" class=\"dataframe\">\n",
       "  <thead>\n",
       "    <tr style=\"text-align: right;\">\n",
       "      <th></th>\n",
       "      <th>cohort_dt</th>\n",
       "      <th>session_date</th>\n",
       "      <th>users_cnt</th>\n",
       "      <th>cohort_users_cnt</th>\n",
       "      <th>retention_rate</th>\n",
       "    </tr>\n",
       "  </thead>\n",
       "  <tbody>\n",
       "    <tr>\n",
       "      <th>0</th>\n",
       "      <td>2008-07-01</td>\n",
       "      <td>2008-07-01</td>\n",
       "      <td>3</td>\n",
       "      <td>3</td>\n",
       "      <td>100.00</td>\n",
       "    </tr>\n",
       "    <tr>\n",
       "      <th>1</th>\n",
       "      <td>2008-07-01</td>\n",
       "      <td>2008-08-01</td>\n",
       "      <td>2</td>\n",
       "      <td>3</td>\n",
       "      <td>66.67</td>\n",
       "    </tr>\n",
       "    <tr>\n",
       "      <th>2</th>\n",
       "      <td>2008-07-01</td>\n",
       "      <td>2008-09-01</td>\n",
       "      <td>1</td>\n",
       "      <td>3</td>\n",
       "      <td>33.33</td>\n",
       "    </tr>\n",
       "    <tr>\n",
       "      <th>3</th>\n",
       "      <td>2008-07-01</td>\n",
       "      <td>2008-10-01</td>\n",
       "      <td>2</td>\n",
       "      <td>3</td>\n",
       "      <td>66.67</td>\n",
       "    </tr>\n",
       "    <tr>\n",
       "      <th>4</th>\n",
       "      <td>2008-07-01</td>\n",
       "      <td>2008-11-01</td>\n",
       "      <td>1</td>\n",
       "      <td>3</td>\n",
       "      <td>33.33</td>\n",
       "    </tr>\n",
       "    <tr>\n",
       "      <th>5</th>\n",
       "      <td>2008-07-01</td>\n",
       "      <td>2008-12-01</td>\n",
       "      <td>2</td>\n",
       "      <td>3</td>\n",
       "      <td>66.67</td>\n",
       "    </tr>\n",
       "    <tr>\n",
       "      <th>6</th>\n",
       "      <td>2008-08-01</td>\n",
       "      <td>2008-08-01</td>\n",
       "      <td>2151</td>\n",
       "      <td>2151</td>\n",
       "      <td>100.00</td>\n",
       "    </tr>\n",
       "    <tr>\n",
       "      <th>7</th>\n",
       "      <td>2008-08-01</td>\n",
       "      <td>2008-09-01</td>\n",
       "      <td>1571</td>\n",
       "      <td>2151</td>\n",
       "      <td>73.04</td>\n",
       "    </tr>\n",
       "    <tr>\n",
       "      <th>8</th>\n",
       "      <td>2008-08-01</td>\n",
       "      <td>2008-10-01</td>\n",
       "      <td>1275</td>\n",
       "      <td>2151</td>\n",
       "      <td>59.27</td>\n",
       "    </tr>\n",
       "    <tr>\n",
       "      <th>9</th>\n",
       "      <td>2008-08-01</td>\n",
       "      <td>2008-11-01</td>\n",
       "      <td>1050</td>\n",
       "      <td>2151</td>\n",
       "      <td>48.81</td>\n",
       "    </tr>\n",
       "    <tr>\n",
       "      <th>10</th>\n",
       "      <td>2008-08-01</td>\n",
       "      <td>2008-12-01</td>\n",
       "      <td>894</td>\n",
       "      <td>2151</td>\n",
       "      <td>41.56</td>\n",
       "    </tr>\n",
       "    <tr>\n",
       "      <th>11</th>\n",
       "      <td>2008-09-01</td>\n",
       "      <td>2008-09-01</td>\n",
       "      <td>7678</td>\n",
       "      <td>7678</td>\n",
       "      <td>100.00</td>\n",
       "    </tr>\n",
       "    <tr>\n",
       "      <th>12</th>\n",
       "      <td>2008-09-01</td>\n",
       "      <td>2008-10-01</td>\n",
       "      <td>4132</td>\n",
       "      <td>7678</td>\n",
       "      <td>53.82</td>\n",
       "    </tr>\n",
       "    <tr>\n",
       "      <th>13</th>\n",
       "      <td>2008-09-01</td>\n",
       "      <td>2008-11-01</td>\n",
       "      <td>2966</td>\n",
       "      <td>7678</td>\n",
       "      <td>38.63</td>\n",
       "    </tr>\n",
       "    <tr>\n",
       "      <th>14</th>\n",
       "      <td>2008-09-01</td>\n",
       "      <td>2008-12-01</td>\n",
       "      <td>2500</td>\n",
       "      <td>7678</td>\n",
       "      <td>32.56</td>\n",
       "    </tr>\n",
       "    <tr>\n",
       "      <th>15</th>\n",
       "      <td>2008-10-01</td>\n",
       "      <td>2008-10-01</td>\n",
       "      <td>3629</td>\n",
       "      <td>3629</td>\n",
       "      <td>100.00</td>\n",
       "    </tr>\n",
       "    <tr>\n",
       "      <th>16</th>\n",
       "      <td>2008-10-01</td>\n",
       "      <td>2008-11-01</td>\n",
       "      <td>1640</td>\n",
       "      <td>3629</td>\n",
       "      <td>45.19</td>\n",
       "    </tr>\n",
       "    <tr>\n",
       "      <th>17</th>\n",
       "      <td>2008-10-01</td>\n",
       "      <td>2008-12-01</td>\n",
       "      <td>1221</td>\n",
       "      <td>3629</td>\n",
       "      <td>33.65</td>\n",
       "    </tr>\n",
       "    <tr>\n",
       "      <th>18</th>\n",
       "      <td>2008-11-01</td>\n",
       "      <td>2008-11-01</td>\n",
       "      <td>2852</td>\n",
       "      <td>2852</td>\n",
       "      <td>100.00</td>\n",
       "    </tr>\n",
       "    <tr>\n",
       "      <th>19</th>\n",
       "      <td>2008-11-01</td>\n",
       "      <td>2008-12-01</td>\n",
       "      <td>1151</td>\n",
       "      <td>2852</td>\n",
       "      <td>40.36</td>\n",
       "    </tr>\n",
       "    <tr>\n",
       "      <th>20</th>\n",
       "      <td>2008-12-01</td>\n",
       "      <td>2008-12-01</td>\n",
       "      <td>2536</td>\n",
       "      <td>2536</td>\n",
       "      <td>100.00</td>\n",
       "    </tr>\n",
       "  </tbody>\n",
       "</table>\n",
       "</div>"
      ],
      "text/plain": [
       "    cohort_dt session_date  users_cnt  cohort_users_cnt  retention_rate\n",
       "0  2008-07-01   2008-07-01          3                 3          100.00\n",
       "1  2008-07-01   2008-08-01          2                 3           66.67\n",
       "2  2008-07-01   2008-09-01          1                 3           33.33\n",
       "3  2008-07-01   2008-10-01          2                 3           66.67\n",
       "4  2008-07-01   2008-11-01          1                 3           33.33\n",
       "5  2008-07-01   2008-12-01          2                 3           66.67\n",
       "6  2008-08-01   2008-08-01       2151              2151          100.00\n",
       "7  2008-08-01   2008-09-01       1571              2151           73.04\n",
       "8  2008-08-01   2008-10-01       1275              2151           59.27\n",
       "9  2008-08-01   2008-11-01       1050              2151           48.81\n",
       "10 2008-08-01   2008-12-01        894              2151           41.56\n",
       "11 2008-09-01   2008-09-01       7678              7678          100.00\n",
       "12 2008-09-01   2008-10-01       4132              7678           53.82\n",
       "13 2008-09-01   2008-11-01       2966              7678           38.63\n",
       "14 2008-09-01   2008-12-01       2500              7678           32.56\n",
       "15 2008-10-01   2008-10-01       3629              3629          100.00\n",
       "16 2008-10-01   2008-11-01       1640              3629           45.19\n",
       "17 2008-10-01   2008-12-01       1221              3629           33.65\n",
       "18 2008-11-01   2008-11-01       2852              2852          100.00\n",
       "19 2008-11-01   2008-12-01       1151              2852           40.36\n",
       "20 2008-12-01   2008-12-01       2536              2536          100.00"
      ]
     },
     "execution_count": 48,
     "metadata": {},
     "output_type": "execute_result"
    }
   ],
   "source": [
    "df_2_8"
   ]
  },
  {
   "cell_type": "markdown",
   "metadata": {
    "id": "Yavb5o9JDWLB"
   },
   "source": [
    "<details>\n",
    "\n",
    "<summary>Подсказка</summary>\n",
    "Вспомните, как выглядел запрос для расчёта Retention Rate в теории. Создайте две временные таблицы: `profile` и `sessions` (в ней будет информация о публикациях), а затем используйте их в основном запросе.\n",
    "\n",
    "Во временной таблице `profile` вам понадобятся три поля:\n",
    "\n",
    "- идентификатор пользователя;\n",
    "- дата первого поста пользователя, усечённая до месяца (признак начала когорты);\n",
    "- количество пользователей этой когорты.\n",
    "</details>"
   ]
  },
  {
   "cell_type": "markdown",
   "metadata": {
    "id": "_msBtnb2DWLC"
   },
   "source": [
    "Постройте тепловую карту Retention Rate. Какие аномалии или другие необычные явления удалось выявить? Сформулируйте гипотезы о возможных причинах."
   ]
  },
  {
   "cell_type": "code",
   "execution_count": 49,
   "metadata": {
    "id": "qAEJc8H1DWLC"
   },
   "outputs": [
    {
     "data": {
      "image/png": "[encoded data removed]",
      "text/plain": [
       "<Figure size 1152x1152 with 2 Axes>"
      ]
     },
     "metadata": {
      "needs_background": "light"
     },
     "output_type": "display_data"
    }
   ],
   "source": [
    "# постройте тепловую карту Retention Rate\n",
    "# создаём сводную таблицу с результатами\n",
    "retention = df_2_8.pivot('cohort_dt', 'session_date', 'retention_rate')\n",
    "retention.index = [str(x)[0:10] for x in retention.index]\n",
    "retention.columns = [str(x)[0:10] for x in retention.columns]\n",
    "\n",
    "# строим хитмэп\n",
    "plt.figure(figsize=(16, 16)) # задаём размер графика\n",
    "sns.heatmap(retention, # датафрейм с данными\n",
    "            annot=True, # добавляем подписи\n",
    "            fmt='') # задаём исходный формат\n",
    "plt.title('Тепловая карта') # название графика\n",
    "plt.ylabel('cohort_dt')\n",
    "plt.xlabel('session_date')\n",
    "plt.show() "
   ]
  },
  {
   "cell_type": "markdown",
   "metadata": {
    "id": "EgOfIsI4DWLC"
   },
   "source": [
    "Аномалии удалось выявить для июльских пользователей, т.к. по представленным данным выясняется, что сервис был создан 31 июля. Поэтому в эту кагорту вошло 3 пользователя, которые написали первый пост в этот же день. По таблице видно, что хотя бы один пользователь был активен на протяжении 5 (*6, если считать 31 июля за округление к 1 июля*) месяцев.\n",
    "\n",
    "Самыми активными были августовские пользователи, которые на следующий месяц сохранили активность (*Retention Rate*) на уровне $73.04$ (*это был рекордный показатель, вероятно связанный с популяризацией сервиса*), при этом в декабре осталось лишь $41.56$%  активных пользователей, что также является самым высоким показателем среди всех когорт по декабрю. \n",
    "\n",
    "Процент активных ноябрьских пользователей на следующий месяц составил $40.36$, что является самым низким показателем.\n",
    "\n",
    "В когорте пользователей, написавших первый пост в сентябре, самое маленькое значение Retention Rate за декабрь: $33.65$.\n"
   ]
  },
  {
   "cell_type": "markdown",
   "metadata": {},
   "source": [
    "<div class=\"alert alert-warning\"; style=\"border-left: 7px solid gold\">\n",
    "<b>⚠️ Комментарий ревьюера, ревью 1</b> \n",
    "\n",
    "Обрати внимание, что использование номера столбца вместно названия столбца при группировке данных (или при сортировке) может приводить к проблемам - порядок столбцов может поменяться и ты получишь некорректный результат, но при этом можешь не заметить его некорректность. Поэтому лучше прямо указывать название столбца, по которому происходит сортировка / группировка данных."
   ]
  },
  {
   "cell_type": "markdown",
   "metadata": {},
   "source": [
    "<div class=\"alert alert-success\"; style=\"border-left: 7px solid green\">\n",
    "<b>✅ Комментарий ревьюера, ревью 1</b> \n",
    "\n",
    "В целом все получилось отлично - запрос составлен верно, тепловая карта построена правильно, график содержит все необходимые элементы (название, заголовки осей). "
   ]
  },
  {
   "cell_type": "markdown",
   "metadata": {
    "id": "1k7oPWt5DWLK"
   },
   "source": [
    "## Задание 9\n"
   ]
  },
  {
   "cell_type": "markdown",
   "metadata": {
    "id": "ALsYVSyRDWLM"
   },
   "source": [
    "На сколько процентов менялось количество постов ежемесячно с 1 сентября по 31 декабря 2008 года? Отобразите таблицу со следующими полями:\n",
    "\n",
    "- номер месяца;\n",
    "- количество постов за месяц;\n",
    "- процент, который показывает, насколько изменилось количество постов в текущем месяце по сравнению с предыдущим.\n",
    "\n",
    "Если постов стало меньше, значение процента должно быть отрицательным, если больше — положительным. Округлите значение процента до двух знаков после запятой.\n",
    "\n",
    "Напомним, что при делении одного целого числа на другое в PostgreSQL в результате получится целое число, округлённое до ближайшего целого вниз. Чтобы этого избежать, переведите делимое в тип `numeric`."
   ]
  },
  {
   "cell_type": "markdown",
   "metadata": {
    "id": "u4E2zF8DDWLM"
   },
   "source": [
    "| creation_month | posts_count | percentage |\n",
    "| -------------- | ----------- | ---------- |\n",
    "| 9 | 70371 | Nan |\n",
    "| 10 | 63102 | -10.33 |\n",
    "| ... | ... | ... |"
   ]
  },
  {
   "cell_type": "code",
   "execution_count": 50,
   "metadata": {
    "id": "Mb5pShStDWLN"
   },
   "outputs": [],
   "source": [
    "# напишите запрос\n",
    "query = '''\n",
    "WITH final_posts_month AS\n",
    "(\n",
    "    WITH posts_month AS\n",
    "    (\n",
    "    SELECT DISTINCT\n",
    "        EXTRACT(MONTH FROM p.creation_date) AS creation_month,\n",
    "        COUNT(id) \n",
    "            OVER(PARTITION BY EXTRACT(MONTH FROM p.creation_date))\n",
    "            AS posts_count\n",
    "    FROM stackoverflow.posts p \n",
    "    WHERE p.creation_date::date BETWEEN '01-09-2008' AND '31-12-2008'\n",
    "    )\n",
    "    SELECT *,\n",
    "        posts_count - \n",
    "            (LEAD(posts_count) \n",
    "                OVER(ORDER BY posts_count))\n",
    "            AS diff_posts,\n",
    "        LEAD(posts_count)\n",
    "            OVER(ORDER BY posts_count) AS lead_posts_count\n",
    "    FROM posts_month\n",
    "    ORDER BY creation_month\n",
    ")\n",
    "SELECT creation_month,\n",
    "        posts_count,\n",
    "    ROUND(1.0*diff_posts/lead_posts_count*100, 2)\n",
    "        AS percentage\n",
    "FROM final_posts_month\n",
    "ORDER BY creation_month;\n",
    "'''\n",
    "\n",
    "# выполните запрос\n",
    "df_2_9 = pd.read_sql_query(query, con=engine)"
   ]
  },
  {
   "cell_type": "markdown",
   "metadata": {},
   "source": [
    "<div class=\"alert alert-warning\"; style=\"border-left: 7px solid gold\">\n",
    "<b>⚠️ Комментарий ревьюера, ревью 1</b> \n",
    "\n",
    "Здесь тоже номер месяца стоило округлить непосредственно в запросе."
   ]
  },
  {
   "cell_type": "code",
   "execution_count": 51,
   "metadata": {},
   "outputs": [
    {
     "data": {
      "text/html": [
       "<div>\n",
       "<style scoped>\n",
       "    .dataframe tbody tr th:only-of-type {\n",
       "        vertical-align: middle;\n",
       "    }\n",
       "\n",
       "    .dataframe tbody tr th {\n",
       "        vertical-align: top;\n",
       "    }\n",
       "\n",
       "    .dataframe thead th {\n",
       "        text-align: right;\n",
       "    }\n",
       "</style>\n",
       "<table border=\"1\" class=\"dataframe\">\n",
       "  <thead>\n",
       "    <tr style=\"text-align: right;\">\n",
       "      <th></th>\n",
       "      <th>creation_month</th>\n",
       "      <th>posts_count</th>\n",
       "      <th>percentage</th>\n",
       "    </tr>\n",
       "  </thead>\n",
       "  <tbody>\n",
       "    <tr>\n",
       "      <th>0</th>\n",
       "      <td>9.0</td>\n",
       "      <td>70371</td>\n",
       "      <td>NaN</td>\n",
       "    </tr>\n",
       "    <tr>\n",
       "      <th>1</th>\n",
       "      <td>10.0</td>\n",
       "      <td>63102</td>\n",
       "      <td>-10.33</td>\n",
       "    </tr>\n",
       "    <tr>\n",
       "      <th>2</th>\n",
       "      <td>11.0</td>\n",
       "      <td>46975</td>\n",
       "      <td>-25.56</td>\n",
       "    </tr>\n",
       "    <tr>\n",
       "      <th>3</th>\n",
       "      <td>12.0</td>\n",
       "      <td>44592</td>\n",
       "      <td>-5.07</td>\n",
       "    </tr>\n",
       "  </tbody>\n",
       "</table>\n",
       "</div>"
      ],
      "text/plain": [
       "   creation_month  posts_count  percentage\n",
       "0             9.0        70371         NaN\n",
       "1            10.0        63102      -10.33\n",
       "2            11.0        46975      -25.56\n",
       "3            12.0        44592       -5.07"
      ]
     },
     "execution_count": 51,
     "metadata": {},
     "output_type": "execute_result"
    }
   ],
   "source": [
    "df_2_9"
   ]
  },
  {
   "cell_type": "markdown",
   "metadata": {},
   "source": [
    "   Преобразуем столбец `creation_month` в целочисленный тип данных."
   ]
  },
  {
   "cell_type": "code",
   "execution_count": 52,
   "metadata": {},
   "outputs": [
    {
     "data": {
      "text/html": [
       "<div>\n",
       "<style scoped>\n",
       "    .dataframe tbody tr th:only-of-type {\n",
       "        vertical-align: middle;\n",
       "    }\n",
       "\n",
       "    .dataframe tbody tr th {\n",
       "        vertical-align: top;\n",
       "    }\n",
       "\n",
       "    .dataframe thead th {\n",
       "        text-align: right;\n",
       "    }\n",
       "</style>\n",
       "<table border=\"1\" class=\"dataframe\">\n",
       "  <thead>\n",
       "    <tr style=\"text-align: right;\">\n",
       "      <th></th>\n",
       "      <th>creation_month</th>\n",
       "      <th>posts_count</th>\n",
       "      <th>percentage</th>\n",
       "    </tr>\n",
       "  </thead>\n",
       "  <tbody>\n",
       "    <tr>\n",
       "      <th>0</th>\n",
       "      <td>9</td>\n",
       "      <td>70371</td>\n",
       "      <td>NaN</td>\n",
       "    </tr>\n",
       "    <tr>\n",
       "      <th>1</th>\n",
       "      <td>10</td>\n",
       "      <td>63102</td>\n",
       "      <td>-10.33</td>\n",
       "    </tr>\n",
       "    <tr>\n",
       "      <th>2</th>\n",
       "      <td>11</td>\n",
       "      <td>46975</td>\n",
       "      <td>-25.56</td>\n",
       "    </tr>\n",
       "    <tr>\n",
       "      <th>3</th>\n",
       "      <td>12</td>\n",
       "      <td>44592</td>\n",
       "      <td>-5.07</td>\n",
       "    </tr>\n",
       "  </tbody>\n",
       "</table>\n",
       "</div>"
      ],
      "text/plain": [
       "   creation_month  posts_count  percentage\n",
       "0               9        70371         NaN\n",
       "1              10        63102      -10.33\n",
       "2              11        46975      -25.56\n",
       "3              12        44592       -5.07"
      ]
     },
     "execution_count": 52,
     "metadata": {},
     "output_type": "execute_result"
    }
   ],
   "source": [
    "df_2_9['creation_month'] = \\\n",
    "    df_2_9['creation_month'].astype('int')\n",
    "df_2_9"
   ]
  },
  {
   "cell_type": "markdown",
   "metadata": {
    "id": "G0VSDL4HDWLO"
   },
   "source": [
    "<details>\n",
    "\n",
    "<summary>Подсказка</summary>\n",
    "Эту задачу стоит декомпозировать. Сформируйте запрос, который отобразит номер месяца и количество постов. Затем можно использовать оконную функцию, которая вернёт значение за предыдущий месяц, и посчитать процент.\n",
    "</details>"
   ]
  },
  {
   "cell_type": "markdown",
   "metadata": {
    "id": "9NQE2y_MDWLP"
   },
   "source": [
    "Постройте круговую диаграмму с количеством постов по месяцам."
   ]
  },
  {
   "cell_type": "code",
   "execution_count": 53,
   "metadata": {
    "id": "377ABjiVDWLP"
   },
   "outputs": [
    {
     "data": {
      "image/png": "[encoded data removed]",
      "text/plain": [
       "<Figure size 864x432 with 1 Axes>"
      ]
     },
     "metadata": {},
     "output_type": "display_data"
    }
   ],
   "source": [
    "# постройте круговую диаграмму с количеством постов по месяцам\n",
    "fig, ax = plt.subplots(figsize=(12, 6), subplot_kw=dict(aspect=\"equal\"))\n",
    "\n",
    "\n",
    "data = df_2_9['creation_month'].to_list()\n",
    "ingredients = df_2_9['creation_month'].to_list()\n",
    "\n",
    "def func(pct, allvals):\n",
    "    absolute = int(np.round(pct/100.*np.sum(allvals)))\n",
    "    return f\"{pct:.1f}%\\n({absolute:d} posts)\"\n",
    "\n",
    "\n",
    "wedges, texts, autotexts = ax.pie(df_2_9['posts_count'], autopct=lambda pct: func(pct, df_2_9['posts_count']),\n",
    "                                  textprops=dict(color=\"w\"))\n",
    "\n",
    "ax.legend(wedges, ingredients,\n",
    "          title=\"month\",\n",
    "          loc=\"center left\",\n",
    "          bbox_to_anchor=(1, 0, 0.5, 1))\n",
    "\n",
    "plt.setp(autotexts, size=8, weight=\"bold\")\n",
    "\n",
    "ax.set_title(\"Круговая диаграмма: кол-во постов в месяц\")\n",
    "\n",
    "plt.show()"
   ]
  },
  {
   "cell_type": "markdown",
   "metadata": {},
   "source": [
    "<div class=\"alert alert-success\"; style=\"border-left: 7px solid green\">\n",
    "<b>✅ Комментарий ревьюера, ревью 1</b> \n",
    "\n",
    "Отличный график."
   ]
  },
  {
   "cell_type": "markdown",
   "metadata": {
    "id": "uw7qMtafDWLP"
   },
   "source": [
    "## Задание 10"
   ]
  },
  {
   "cell_type": "markdown",
   "metadata": {
    "id": "oRBpWKx3DWLQ"
   },
   "source": [
    "Выгрузите данные активности пользователя, который опубликовал больше всего постов за всё время. Выведите данные за октябрь 2008 года в таком виде:\n",
    "\n",
    "- номер недели;\n",
    "- дата и время последнего поста, опубликованного на этой неделе."
   ]
  },
  {
   "cell_type": "markdown",
   "metadata": {
    "id": "XjAWSn_3DWLQ"
   },
   "source": [
    "| week_creation | creation_date |\n",
    "| ------------- | ------------- |\n",
    "| 40 | 2008-10-05 09:00:58 |\n",
    "| 41 | 2008-10-12 21:22:23 |\n",
    "| ... | ... |"
   ]
  },
  {
   "cell_type": "code",
   "execution_count": 54,
   "metadata": {
    "id": "r5F5fSkwDWLQ"
   },
   "outputs": [],
   "source": [
    "# напишите запрос\n",
    "query = '''\n",
    "WITH lead_user AS\n",
    "(\n",
    "    SELECT user_id,\n",
    "        COUNT(id) AS count_posts\n",
    "    FROM stackoverflow.posts p\n",
    "    \n",
    "    GROUP BY user_id\n",
    "    ORDER BY count_posts DESC\n",
    "    LIMIT 1\n",
    ")\n",
    "SELECT DISTINCT \n",
    "        EXTRACT(week FROM creation_date)\n",
    "            AS week_creation,\n",
    "        MAX(creation_date) OVER(PARTITION BY EXTRACT(week FROM creation_date))\n",
    "            AS creation_date\n",
    "FROM stackoverflow.posts AS p\n",
    "WHERE creation_date::date BETWEEN '01-10-2008' AND '31-10-2008';\n",
    "'''\n",
    "\n",
    "# выполните запрос\n",
    "df_2_10 = pd.read_sql_query(query, con=engine)"
   ]
  },
  {
   "cell_type": "code",
   "execution_count": 55,
   "metadata": {},
   "outputs": [
    {
     "data": {
      "text/html": [
       "<div>\n",
       "<style scoped>\n",
       "    .dataframe tbody tr th:only-of-type {\n",
       "        vertical-align: middle;\n",
       "    }\n",
       "\n",
       "    .dataframe tbody tr th {\n",
       "        vertical-align: top;\n",
       "    }\n",
       "\n",
       "    .dataframe thead th {\n",
       "        text-align: right;\n",
       "    }\n",
       "</style>\n",
       "<table border=\"1\" class=\"dataframe\">\n",
       "  <thead>\n",
       "    <tr style=\"text-align: right;\">\n",
       "      <th></th>\n",
       "      <th>week_creation</th>\n",
       "      <th>creation_date</th>\n",
       "    </tr>\n",
       "  </thead>\n",
       "  <tbody>\n",
       "    <tr>\n",
       "      <th>0</th>\n",
       "      <td>40.0</td>\n",
       "      <td>2008-10-05 23:57:53</td>\n",
       "    </tr>\n",
       "    <tr>\n",
       "      <th>1</th>\n",
       "      <td>41.0</td>\n",
       "      <td>2008-10-12 23:59:31</td>\n",
       "    </tr>\n",
       "    <tr>\n",
       "      <th>2</th>\n",
       "      <td>42.0</td>\n",
       "      <td>2008-10-19 23:59:00</td>\n",
       "    </tr>\n",
       "    <tr>\n",
       "      <th>3</th>\n",
       "      <td>43.0</td>\n",
       "      <td>2008-10-26 23:51:56</td>\n",
       "    </tr>\n",
       "    <tr>\n",
       "      <th>4</th>\n",
       "      <td>44.0</td>\n",
       "      <td>2008-10-31 23:59:12</td>\n",
       "    </tr>\n",
       "  </tbody>\n",
       "</table>\n",
       "</div>"
      ],
      "text/plain": [
       "   week_creation       creation_date\n",
       "0           40.0 2008-10-05 23:57:53\n",
       "1           41.0 2008-10-12 23:59:31\n",
       "2           42.0 2008-10-19 23:59:00\n",
       "3           43.0 2008-10-26 23:51:56\n",
       "4           44.0 2008-10-31 23:59:12"
      ]
     },
     "execution_count": 55,
     "metadata": {},
     "output_type": "execute_result"
    }
   ],
   "source": [
    "df_2_10"
   ]
  },
  {
   "cell_type": "markdown",
   "metadata": {},
   "source": [
    "   Преобразуем столбец `week_creation` в целочисленный тип данных."
   ]
  },
  {
   "cell_type": "code",
   "execution_count": 56,
   "metadata": {},
   "outputs": [
    {
     "data": {
      "text/html": [
       "<div>\n",
       "<style scoped>\n",
       "    .dataframe tbody tr th:only-of-type {\n",
       "        vertical-align: middle;\n",
       "    }\n",
       "\n",
       "    .dataframe tbody tr th {\n",
       "        vertical-align: top;\n",
       "    }\n",
       "\n",
       "    .dataframe thead th {\n",
       "        text-align: right;\n",
       "    }\n",
       "</style>\n",
       "<table border=\"1\" class=\"dataframe\">\n",
       "  <thead>\n",
       "    <tr style=\"text-align: right;\">\n",
       "      <th></th>\n",
       "      <th>week_creation</th>\n",
       "      <th>creation_date</th>\n",
       "    </tr>\n",
       "  </thead>\n",
       "  <tbody>\n",
       "    <tr>\n",
       "      <th>0</th>\n",
       "      <td>40</td>\n",
       "      <td>2008-10-05 23:57:53</td>\n",
       "    </tr>\n",
       "    <tr>\n",
       "      <th>1</th>\n",
       "      <td>41</td>\n",
       "      <td>2008-10-12 23:59:31</td>\n",
       "    </tr>\n",
       "    <tr>\n",
       "      <th>2</th>\n",
       "      <td>42</td>\n",
       "      <td>2008-10-19 23:59:00</td>\n",
       "    </tr>\n",
       "    <tr>\n",
       "      <th>3</th>\n",
       "      <td>43</td>\n",
       "      <td>2008-10-26 23:51:56</td>\n",
       "    </tr>\n",
       "    <tr>\n",
       "      <th>4</th>\n",
       "      <td>44</td>\n",
       "      <td>2008-10-31 23:59:12</td>\n",
       "    </tr>\n",
       "  </tbody>\n",
       "</table>\n",
       "</div>"
      ],
      "text/plain": [
       "   week_creation       creation_date\n",
       "0             40 2008-10-05 23:57:53\n",
       "1             41 2008-10-12 23:59:31\n",
       "2             42 2008-10-19 23:59:00\n",
       "3             43 2008-10-26 23:51:56\n",
       "4             44 2008-10-31 23:59:12"
      ]
     },
     "execution_count": 56,
     "metadata": {},
     "output_type": "execute_result"
    }
   ],
   "source": [
    "df_2_10['week_creation'] = \\\n",
    "    df_2_10['week_creation'].astype('int')\n",
    "df_2_10"
   ]
  },
  {
   "cell_type": "markdown",
   "metadata": {},
   "source": [
    "<div class=\"alert alert-warning\"; style=\"border-left: 7px solid gold\">\n",
    "<b>⚠️ Комментарий ревьюера, ревью 1</b> \n",
    "\n",
    "Отлично, что обращаешь внимание на такие детали и приводишь номера недель в целочисленный вид. Только чуть проще это было бы сделать с SQL с помощью функции ROUND."
   ]
  },
  {
   "cell_type": "markdown",
   "metadata": {
    "id": "KAcmxvLgDWLR"
   },
   "source": [
    "<details>\n",
    "\n",
    "<summary>Подсказка</summary>\n",
    "Декомпозируйте задачу:\n",
    "1) Найдите пользователя, который опубликовал больше всего постов. 2) Найдите дату и время создания каждого поста этого пользователя и номер недели. \n",
    "3) Отобразите данные только о последних постах пользователя. Для этого можно использовать оконную функцию.\n",
    "</details>"
   ]
  },
  {
   "cell_type": "markdown",
   "metadata": {},
   "source": [
    "<div class=\"alert alert-warning\"; style=\"border-left: 7px solid gold\">\n",
    "<b>⚠️ Комментарий ревьюера, ревью 1</b> \n",
    "\n",
    "В конце каждого проекта стоит оставлять общий вывод, кратко резюмируя выполненные задачи и полученные результаты."
   ]
  }
 ],
 "metadata": {
  "ExecuteTimeLog": [
   {
    "duration": 952,
    "start_time": "2023-10-25T00:35:28.905Z"
   },
   {
    "duration": 4,
    "start_time": "2023-10-25T00:35:31.349Z"
   },
   {
    "duration": 9669,
    "start_time": "2023-10-25T00:35:37.006Z"
   },
   {
    "duration": 214,
    "start_time": "2023-10-25T00:35:46.677Z"
   },
   {
    "duration": 22,
    "start_time": "2023-10-25T00:35:46.893Z"
   },
   {
    "duration": 952,
    "start_time": "2023-10-28T12:51:44.991Z"
   },
   {
    "duration": 4,
    "start_time": "2023-10-28T12:51:47.062Z"
   },
   {
    "duration": 10720,
    "start_time": "2023-10-28T12:51:50.954Z"
   },
   {
    "duration": 306,
    "start_time": "2023-10-28T12:52:01.677Z"
   },
   {
    "duration": 16,
    "start_time": "2023-10-28T12:52:01.984Z"
   },
   {
    "duration": 56,
    "start_time": "2023-10-28T12:53:05.487Z"
   },
   {
    "duration": 7,
    "start_time": "2023-10-28T12:53:08.510Z"
   },
   {
    "duration": 61,
    "start_time": "2023-10-28T13:04:29.090Z"
   },
   {
    "duration": 7,
    "start_time": "2023-10-28T13:04:33.522Z"
   },
   {
    "duration": 94,
    "start_time": "2023-10-28T13:07:54.290Z"
   },
   {
    "duration": 7,
    "start_time": "2023-10-28T13:07:56.200Z"
   },
   {
    "duration": 74,
    "start_time": "2023-10-28T13:09:57.231Z"
   },
   {
    "duration": 6,
    "start_time": "2023-10-28T13:09:58.477Z"
   },
   {
    "duration": 36,
    "start_time": "2023-10-28T13:11:56.350Z"
   },
   {
    "duration": 7,
    "start_time": "2023-10-28T13:11:57.520Z"
   },
   {
    "duration": 47,
    "start_time": "2023-10-28T13:16:12.011Z"
   },
   {
    "duration": 7,
    "start_time": "2023-10-28T13:16:13.241Z"
   },
   {
    "duration": 90,
    "start_time": "2023-10-28T13:19:09.992Z"
   },
   {
    "duration": 7,
    "start_time": "2023-10-28T13:19:11.198Z"
   },
   {
    "duration": 418,
    "start_time": "2023-10-28T13:21:53.231Z"
   },
   {
    "duration": 15,
    "start_time": "2023-10-28T13:21:54.970Z"
   },
   {
    "duration": 128,
    "start_time": "2023-10-28T13:25:46.937Z"
   },
   {
    "duration": 7,
    "start_time": "2023-10-28T13:25:48.657Z"
   },
   {
    "duration": 254,
    "start_time": "2023-10-28T13:28:44.617Z"
   },
   {
    "duration": 333,
    "start_time": "2023-10-28T13:29:58.627Z"
   },
   {
    "duration": 130,
    "start_time": "2023-10-28T13:35:39.207Z"
   },
   {
    "duration": 45,
    "start_time": "2023-10-28T13:38:51.243Z"
   },
   {
    "duration": 16,
    "start_time": "2023-10-28T13:38:52.677Z"
   },
   {
    "duration": 423,
    "start_time": "2023-10-28T13:41:28.753Z"
   },
   {
    "duration": 14,
    "start_time": "2023-10-28T13:41:30.588Z"
   },
   {
    "duration": 243,
    "start_time": "2023-10-28T16:18:32.786Z"
   },
   {
    "duration": 13,
    "start_time": "2023-10-28T16:18:34.722Z"
   },
   {
    "duration": 128,
    "start_time": "2023-10-28T16:21:02.939Z"
   },
   {
    "duration": 238,
    "start_time": "2023-10-28T16:21:58.372Z"
   },
   {
    "duration": 9,
    "start_time": "2023-10-28T16:22:16.029Z"
   },
   {
    "duration": 146,
    "start_time": "2023-10-28T17:00:46.934Z"
   },
   {
    "duration": 18,
    "start_time": "2023-10-28T17:00:49.738Z"
   },
   {
    "duration": 22742,
    "start_time": "2023-10-28T18:20:32.794Z"
   },
   {
    "duration": 9,
    "start_time": "2023-10-28T18:21:50.637Z"
   },
   {
    "duration": 1535,
    "start_time": "2023-10-28T18:40:51.918Z"
   },
   {
    "duration": 23,
    "start_time": "2023-10-28T18:41:00.630Z"
   },
   {
    "duration": 131,
    "start_time": "2023-10-28T22:08:21.147Z"
   },
   {
    "duration": 7,
    "start_time": "2023-10-28T22:08:22.675Z"
   },
   {
    "duration": 131,
    "start_time": "2023-10-28T22:08:33.778Z"
   },
   {
    "duration": 148,
    "start_time": "2023-10-28T22:44:48.628Z"
   },
   {
    "duration": 85,
    "start_time": "2023-10-28T22:45:59.730Z"
   },
   {
    "duration": 8,
    "start_time": "2023-10-28T22:46:02.438Z"
   },
   {
    "duration": 59,
    "start_time": "2023-10-28T22:55:48.896Z"
   },
   {
    "duration": 6,
    "start_time": "2023-10-28T22:55:52.788Z"
   },
   {
    "duration": 8,
    "start_time": "2023-10-28T22:58:24.218Z"
   },
   {
    "duration": 7,
    "start_time": "2023-10-28T23:00:22.548Z"
   },
   {
    "duration": 1032,
    "start_time": "2023-10-28T23:25:22.798Z"
   },
   {
    "duration": 10,
    "start_time": "2023-10-28T23:25:24.978Z"
   },
   {
    "duration": 394,
    "start_time": "2023-10-29T00:54:36.826Z"
   },
   {
    "duration": 11,
    "start_time": "2023-10-29T00:54:38.505Z"
   },
   {
    "duration": 12,
    "start_time": "2023-10-29T00:55:27.938Z"
   },
   {
    "duration": 16,
    "start_time": "2023-10-29T00:55:59.338Z"
   },
   {
    "duration": 559,
    "start_time": "2023-10-29T00:56:53.124Z"
   },
   {
    "duration": 456,
    "start_time": "2023-10-29T00:57:04.015Z"
   },
   {
    "duration": 422,
    "start_time": "2023-10-29T01:04:05.636Z"
   },
   {
    "duration": 290,
    "start_time": "2023-10-29T01:59:31.022Z"
   },
   {
    "duration": 8,
    "start_time": "2023-10-29T01:59:34.201Z"
   },
   {
    "duration": 9,
    "start_time": "2023-10-29T02:00:46.323Z"
   },
   {
    "duration": 42,
    "start_time": "2023-10-29T02:08:30.337Z"
   },
   {
    "duration": 124,
    "start_time": "2023-10-29T02:09:02.092Z"
   },
   {
    "duration": 3,
    "start_time": "2023-10-29T02:09:24.741Z"
   },
   {
    "duration": 177,
    "start_time": "2023-10-29T02:09:32.891Z"
   },
   {
    "duration": 2749,
    "start_time": "2023-10-29T02:11:55.996Z"
   },
   {
    "duration": 3759,
    "start_time": "2023-10-29T02:13:25.161Z"
   },
   {
    "duration": 98,
    "start_time": "2023-10-29T02:13:41.488Z"
   },
   {
    "duration": 102,
    "start_time": "2023-10-29T02:13:52.460Z"
   },
   {
    "duration": 121,
    "start_time": "2023-10-29T02:14:10.821Z"
   },
   {
    "duration": 107,
    "start_time": "2023-10-29T02:15:13.576Z"
   },
   {
    "duration": 113,
    "start_time": "2023-10-29T02:15:30.635Z"
   },
   {
    "duration": 119,
    "start_time": "2023-10-29T02:15:46.261Z"
   },
   {
    "duration": 122,
    "start_time": "2023-10-29T02:16:47.698Z"
   },
   {
    "duration": 118,
    "start_time": "2023-10-29T02:31:02.939Z"
   },
   {
    "duration": 8,
    "start_time": "2023-10-29T02:31:04.766Z"
   },
   {
    "duration": 7,
    "start_time": "2023-10-29T02:31:49.709Z"
   },
   {
    "duration": 4,
    "start_time": "2023-10-29T02:36:37.466Z"
   },
   {
    "duration": 4,
    "start_time": "2023-10-29T02:36:37.474Z"
   },
   {
    "duration": 6,
    "start_time": "2023-10-29T02:36:37.479Z"
   },
   {
    "duration": 209,
    "start_time": "2023-10-29T02:36:37.486Z"
   },
   {
    "duration": 10,
    "start_time": "2023-10-29T02:36:37.696Z"
   },
   {
    "duration": 68,
    "start_time": "2023-10-29T02:36:37.708Z"
   },
   {
    "duration": 5,
    "start_time": "2023-10-29T02:36:37.777Z"
   },
   {
    "duration": 67,
    "start_time": "2023-10-29T02:36:37.784Z"
   },
   {
    "duration": 6,
    "start_time": "2023-10-29T02:36:37.853Z"
   },
   {
    "duration": 124,
    "start_time": "2023-10-29T02:36:37.861Z"
   },
   {
    "duration": 6,
    "start_time": "2023-10-29T02:36:37.986Z"
   },
   {
    "duration": 76,
    "start_time": "2023-10-29T02:36:37.993Z"
   },
   {
    "duration": 5,
    "start_time": "2023-10-29T02:36:38.071Z"
   },
   {
    "duration": 37,
    "start_time": "2023-10-29T02:36:38.079Z"
   },
   {
    "duration": 8,
    "start_time": "2023-10-29T02:36:38.118Z"
   },
   {
    "duration": 48,
    "start_time": "2023-10-29T02:36:38.127Z"
   },
   {
    "duration": 6,
    "start_time": "2023-10-29T02:36:38.177Z"
   },
   {
    "duration": 97,
    "start_time": "2023-10-29T02:36:38.184Z"
   },
   {
    "duration": 6,
    "start_time": "2023-10-29T02:36:38.283Z"
   },
   {
    "duration": 405,
    "start_time": "2023-10-29T02:36:38.290Z"
   },
   {
    "duration": 13,
    "start_time": "2023-10-29T02:36:38.697Z"
   },
   {
    "duration": 128,
    "start_time": "2023-10-29T02:36:38.712Z"
   },
   {
    "duration": 5,
    "start_time": "2023-10-29T02:36:38.842Z"
   },
   {
    "duration": 107,
    "start_time": "2023-10-29T02:36:38.848Z"
   },
   {
    "duration": 0,
    "start_time": "2023-10-29T02:36:38.957Z"
   },
   {
    "duration": 0,
    "start_time": "2023-10-29T02:36:38.959Z"
   },
   {
    "duration": 0,
    "start_time": "2023-10-29T02:36:38.960Z"
   },
   {
    "duration": 0,
    "start_time": "2023-10-29T02:36:38.961Z"
   },
   {
    "duration": 0,
    "start_time": "2023-10-29T02:36:38.962Z"
   },
   {
    "duration": 0,
    "start_time": "2023-10-29T02:36:38.963Z"
   },
   {
    "duration": 0,
    "start_time": "2023-10-29T02:36:38.964Z"
   },
   {
    "duration": 0,
    "start_time": "2023-10-29T02:36:38.965Z"
   },
   {
    "duration": 0,
    "start_time": "2023-10-29T02:36:38.966Z"
   },
   {
    "duration": 0,
    "start_time": "2023-10-29T02:36:38.968Z"
   },
   {
    "duration": 0,
    "start_time": "2023-10-29T02:36:38.969Z"
   },
   {
    "duration": 0,
    "start_time": "2023-10-29T02:36:38.970Z"
   },
   {
    "duration": 0,
    "start_time": "2023-10-29T02:36:38.972Z"
   },
   {
    "duration": 0,
    "start_time": "2023-10-29T02:36:38.973Z"
   },
   {
    "duration": 0,
    "start_time": "2023-10-29T02:36:38.974Z"
   },
   {
    "duration": 0,
    "start_time": "2023-10-29T02:36:38.975Z"
   },
   {
    "duration": 0,
    "start_time": "2023-10-29T02:36:38.975Z"
   },
   {
    "duration": 0,
    "start_time": "2023-10-29T02:36:38.977Z"
   },
   {
    "duration": 0,
    "start_time": "2023-10-29T02:36:38.977Z"
   },
   {
    "duration": 0,
    "start_time": "2023-10-29T02:36:38.979Z"
   },
   {
    "duration": 0,
    "start_time": "2023-10-29T02:36:38.980Z"
   },
   {
    "duration": 0,
    "start_time": "2023-10-29T02:36:38.981Z"
   },
   {
    "duration": 0,
    "start_time": "2023-10-29T02:36:38.982Z"
   },
   {
    "duration": 0,
    "start_time": "2023-10-29T02:36:38.984Z"
   },
   {
    "duration": 0,
    "start_time": "2023-10-29T02:36:38.985Z"
   },
   {
    "duration": 0,
    "start_time": "2023-10-29T02:36:38.986Z"
   },
   {
    "duration": 0,
    "start_time": "2023-10-29T02:36:38.987Z"
   },
   {
    "duration": 0,
    "start_time": "2023-10-29T02:36:38.988Z"
   },
   {
    "duration": 0,
    "start_time": "2023-10-29T02:36:38.989Z"
   },
   {
    "duration": 0,
    "start_time": "2023-10-29T02:36:38.991Z"
   },
   {
    "duration": 0,
    "start_time": "2023-10-29T02:36:38.992Z"
   },
   {
    "duration": 0,
    "start_time": "2023-10-29T02:36:39.007Z"
   },
   {
    "duration": 117,
    "start_time": "2023-10-29T02:37:13.409Z"
   },
   {
    "duration": 0,
    "start_time": "2023-10-29T02:37:13.528Z"
   },
   {
    "duration": 0,
    "start_time": "2023-10-29T02:37:13.529Z"
   },
   {
    "duration": 0,
    "start_time": "2023-10-29T02:37:13.530Z"
   },
   {
    "duration": 0,
    "start_time": "2023-10-29T02:37:13.531Z"
   },
   {
    "duration": 0,
    "start_time": "2023-10-29T02:37:13.532Z"
   },
   {
    "duration": 0,
    "start_time": "2023-10-29T02:37:13.533Z"
   },
   {
    "duration": 0,
    "start_time": "2023-10-29T02:37:13.534Z"
   },
   {
    "duration": 0,
    "start_time": "2023-10-29T02:37:13.535Z"
   },
   {
    "duration": 0,
    "start_time": "2023-10-29T02:37:13.536Z"
   },
   {
    "duration": 0,
    "start_time": "2023-10-29T02:37:13.536Z"
   },
   {
    "duration": 1,
    "start_time": "2023-10-29T02:37:13.537Z"
   },
   {
    "duration": 0,
    "start_time": "2023-10-29T02:37:13.538Z"
   },
   {
    "duration": 0,
    "start_time": "2023-10-29T02:37:13.539Z"
   },
   {
    "duration": 0,
    "start_time": "2023-10-29T02:37:13.540Z"
   },
   {
    "duration": 0,
    "start_time": "2023-10-29T02:37:13.541Z"
   },
   {
    "duration": 0,
    "start_time": "2023-10-29T02:37:13.542Z"
   },
   {
    "duration": 0,
    "start_time": "2023-10-29T02:37:13.543Z"
   },
   {
    "duration": 0,
    "start_time": "2023-10-29T02:37:13.544Z"
   },
   {
    "duration": 0,
    "start_time": "2023-10-29T02:37:13.544Z"
   },
   {
    "duration": 0,
    "start_time": "2023-10-29T02:37:13.545Z"
   },
   {
    "duration": 0,
    "start_time": "2023-10-29T02:37:13.546Z"
   },
   {
    "duration": 0,
    "start_time": "2023-10-29T02:37:13.547Z"
   },
   {
    "duration": 0,
    "start_time": "2023-10-29T02:37:13.548Z"
   },
   {
    "duration": 0,
    "start_time": "2023-10-29T02:37:13.549Z"
   },
   {
    "duration": 0,
    "start_time": "2023-10-29T02:37:13.550Z"
   },
   {
    "duration": 0,
    "start_time": "2023-10-29T02:37:13.551Z"
   },
   {
    "duration": 199,
    "start_time": "2023-10-29T02:37:13.553Z"
   },
   {
    "duration": 114,
    "start_time": "2023-10-29T02:37:13.754Z"
   },
   {
    "duration": 7,
    "start_time": "2023-10-29T02:37:13.871Z"
   },
   {
    "duration": 11,
    "start_time": "2023-10-29T02:37:13.879Z"
   },
   {
    "duration": 42,
    "start_time": "2023-10-29T02:37:50.674Z"
   },
   {
    "duration": 11,
    "start_time": "2023-10-29T02:37:50.718Z"
   },
   {
    "duration": 472,
    "start_time": "2023-10-29T02:37:50.730Z"
   },
   {
    "duration": 9,
    "start_time": "2023-10-29T02:37:51.204Z"
   },
   {
    "duration": 245,
    "start_time": "2023-10-29T02:37:51.214Z"
   },
   {
    "duration": 5,
    "start_time": "2023-10-29T02:37:51.461Z"
   },
   {
    "duration": 151,
    "start_time": "2023-10-29T02:37:51.468Z"
   },
   {
    "duration": 9,
    "start_time": "2023-10-29T02:37:51.620Z"
   },
   {
    "duration": 22701,
    "start_time": "2023-10-29T02:37:51.631Z"
   },
   {
    "duration": 5,
    "start_time": "2023-10-29T02:38:14.335Z"
   },
   {
    "duration": 1288,
    "start_time": "2023-10-29T02:38:14.342Z"
   },
   {
    "duration": 10,
    "start_time": "2023-10-29T02:38:15.632Z"
   },
   {
    "duration": 103,
    "start_time": "2023-10-29T02:38:15.644Z"
   },
   {
    "duration": 6,
    "start_time": "2023-10-29T02:38:15.749Z"
   },
   {
    "duration": 72,
    "start_time": "2023-10-29T02:38:15.757Z"
   },
   {
    "duration": 6,
    "start_time": "2023-10-29T02:38:15.830Z"
   },
   {
    "duration": 38,
    "start_time": "2023-10-29T02:38:15.838Z"
   },
   {
    "duration": 1239,
    "start_time": "2023-10-29T02:38:15.878Z"
   },
   {
    "duration": 11,
    "start_time": "2023-10-29T02:38:17.119Z"
   },
   {
    "duration": 402,
    "start_time": "2023-10-29T02:38:17.132Z"
   },
   {
    "duration": 11,
    "start_time": "2023-10-29T02:38:17.536Z"
   },
   {
    "duration": 403,
    "start_time": "2023-10-29T02:38:17.549Z"
   },
   {
    "duration": 289,
    "start_time": "2023-10-29T02:38:17.954Z"
   },
   {
    "duration": 8,
    "start_time": "2023-10-29T02:38:18.245Z"
   },
   {
    "duration": 32,
    "start_time": "2023-10-29T02:38:18.254Z"
   },
   {
    "duration": 118,
    "start_time": "2023-10-29T02:38:18.288Z"
   },
   {
    "duration": 114,
    "start_time": "2023-10-29T02:38:18.408Z"
   },
   {
    "duration": 7,
    "start_time": "2023-10-29T02:38:18.525Z"
   },
   {
    "duration": 38,
    "start_time": "2023-10-29T02:38:18.534Z"
   },
   {
    "duration": 3,
    "start_time": "2023-10-29T02:48:17.332Z"
   },
   {
    "duration": 21,
    "start_time": "2023-10-29T02:48:17.339Z"
   },
   {
    "duration": 4,
    "start_time": "2023-10-29T02:48:17.362Z"
   },
   {
    "duration": 205,
    "start_time": "2023-10-29T02:48:17.367Z"
   },
   {
    "duration": 9,
    "start_time": "2023-10-29T02:48:17.574Z"
   },
   {
    "duration": 87,
    "start_time": "2023-10-29T02:48:17.585Z"
   },
   {
    "duration": 5,
    "start_time": "2023-10-29T02:48:17.674Z"
   },
   {
    "duration": 61,
    "start_time": "2023-10-29T02:48:17.680Z"
   },
   {
    "duration": 6,
    "start_time": "2023-10-29T02:48:17.743Z"
   },
   {
    "duration": 93,
    "start_time": "2023-10-29T02:48:17.750Z"
   },
   {
    "duration": 5,
    "start_time": "2023-10-29T02:48:17.845Z"
   },
   {
    "duration": 72,
    "start_time": "2023-10-29T02:48:17.851Z"
   },
   {
    "duration": 6,
    "start_time": "2023-10-29T02:48:17.924Z"
   },
   {
    "duration": 52,
    "start_time": "2023-10-29T02:48:17.931Z"
   },
   {
    "duration": 8,
    "start_time": "2023-10-29T02:48:17.986Z"
   },
   {
    "duration": 51,
    "start_time": "2023-10-29T02:48:17.996Z"
   },
   {
    "duration": 6,
    "start_time": "2023-10-29T02:48:18.049Z"
   },
   {
    "duration": 95,
    "start_time": "2023-10-29T02:48:18.056Z"
   },
   {
    "duration": 7,
    "start_time": "2023-10-29T02:48:18.152Z"
   },
   {
    "duration": 397,
    "start_time": "2023-10-29T02:48:18.160Z"
   },
   {
    "duration": 11,
    "start_time": "2023-10-29T02:48:18.559Z"
   },
   {
    "duration": 128,
    "start_time": "2023-10-29T02:48:18.572Z"
   },
   {
    "duration": 5,
    "start_time": "2023-10-29T02:48:18.701Z"
   },
   {
    "duration": 104,
    "start_time": "2023-10-29T02:48:18.708Z"
   },
   {
    "duration": 0,
    "start_time": "2023-10-29T02:48:18.814Z"
   },
   {
    "duration": 0,
    "start_time": "2023-10-29T02:48:18.815Z"
   },
   {
    "duration": 0,
    "start_time": "2023-10-29T02:48:18.816Z"
   },
   {
    "duration": 0,
    "start_time": "2023-10-29T02:48:18.817Z"
   },
   {
    "duration": 0,
    "start_time": "2023-10-29T02:48:18.817Z"
   },
   {
    "duration": 0,
    "start_time": "2023-10-29T02:48:18.818Z"
   },
   {
    "duration": 0,
    "start_time": "2023-10-29T02:48:18.819Z"
   },
   {
    "duration": 0,
    "start_time": "2023-10-29T02:48:18.820Z"
   },
   {
    "duration": 0,
    "start_time": "2023-10-29T02:48:18.821Z"
   },
   {
    "duration": 0,
    "start_time": "2023-10-29T02:48:18.822Z"
   },
   {
    "duration": 0,
    "start_time": "2023-10-29T02:48:18.824Z"
   },
   {
    "duration": 0,
    "start_time": "2023-10-29T02:48:18.824Z"
   },
   {
    "duration": 0,
    "start_time": "2023-10-29T02:48:18.825Z"
   },
   {
    "duration": 0,
    "start_time": "2023-10-29T02:48:18.827Z"
   },
   {
    "duration": 0,
    "start_time": "2023-10-29T02:48:18.827Z"
   },
   {
    "duration": 0,
    "start_time": "2023-10-29T02:48:18.828Z"
   },
   {
    "duration": 0,
    "start_time": "2023-10-29T02:48:18.829Z"
   },
   {
    "duration": 0,
    "start_time": "2023-10-29T02:48:18.831Z"
   },
   {
    "duration": 0,
    "start_time": "2023-10-29T02:48:18.831Z"
   },
   {
    "duration": 0,
    "start_time": "2023-10-29T02:48:18.832Z"
   },
   {
    "duration": 0,
    "start_time": "2023-10-29T02:48:18.833Z"
   },
   {
    "duration": 0,
    "start_time": "2023-10-29T02:48:18.834Z"
   },
   {
    "duration": 0,
    "start_time": "2023-10-29T02:48:18.835Z"
   },
   {
    "duration": 0,
    "start_time": "2023-10-29T02:48:18.836Z"
   },
   {
    "duration": 0,
    "start_time": "2023-10-29T02:48:18.837Z"
   },
   {
    "duration": 0,
    "start_time": "2023-10-29T02:48:18.838Z"
   },
   {
    "duration": 0,
    "start_time": "2023-10-29T02:48:18.839Z"
   },
   {
    "duration": 0,
    "start_time": "2023-10-29T02:48:18.840Z"
   },
   {
    "duration": 0,
    "start_time": "2023-10-29T02:48:18.841Z"
   },
   {
    "duration": 0,
    "start_time": "2023-10-29T02:48:18.842Z"
   },
   {
    "duration": 0,
    "start_time": "2023-10-29T02:48:18.843Z"
   },
   {
    "duration": 0,
    "start_time": "2023-10-29T02:48:18.844Z"
   },
   {
    "duration": 1318,
    "start_time": "2023-10-29T02:48:34.112Z"
   },
   {
    "duration": 3,
    "start_time": "2023-10-29T02:48:35.433Z"
   },
   {
    "duration": 9467,
    "start_time": "2023-10-29T02:48:35.437Z"
   },
   {
    "duration": 210,
    "start_time": "2023-10-29T02:48:44.906Z"
   },
   {
    "duration": 13,
    "start_time": "2023-10-29T02:48:45.119Z"
   },
   {
    "duration": 69,
    "start_time": "2023-10-29T02:48:45.134Z"
   },
   {
    "duration": 5,
    "start_time": "2023-10-29T02:48:45.205Z"
   },
   {
    "duration": 79,
    "start_time": "2023-10-29T02:48:45.212Z"
   },
   {
    "duration": 6,
    "start_time": "2023-10-29T02:48:45.293Z"
   },
   {
    "duration": 96,
    "start_time": "2023-10-29T02:48:45.301Z"
   },
   {
    "duration": 5,
    "start_time": "2023-10-29T02:48:45.399Z"
   },
   {
    "duration": 75,
    "start_time": "2023-10-29T02:48:45.406Z"
   },
   {
    "duration": 5,
    "start_time": "2023-10-29T02:48:45.483Z"
   },
   {
    "duration": 45,
    "start_time": "2023-10-29T02:48:45.491Z"
   },
   {
    "duration": 7,
    "start_time": "2023-10-29T02:48:45.537Z"
   },
   {
    "duration": 49,
    "start_time": "2023-10-29T02:48:45.546Z"
   },
   {
    "duration": 6,
    "start_time": "2023-10-29T02:48:45.597Z"
   },
   {
    "duration": 104,
    "start_time": "2023-10-29T02:48:45.605Z"
   },
   {
    "duration": 6,
    "start_time": "2023-10-29T02:48:45.711Z"
   },
   {
    "duration": 441,
    "start_time": "2023-10-29T02:48:45.719Z"
   },
   {
    "duration": 12,
    "start_time": "2023-10-29T02:48:46.162Z"
   },
   {
    "duration": 127,
    "start_time": "2023-10-29T02:48:46.175Z"
   },
   {
    "duration": 6,
    "start_time": "2023-10-29T02:48:46.304Z"
   },
   {
    "duration": 192,
    "start_time": "2023-10-29T02:48:46.311Z"
   },
   {
    "duration": 0,
    "start_time": "2023-10-29T02:48:46.506Z"
   },
   {
    "duration": 0,
    "start_time": "2023-10-29T02:48:46.507Z"
   },
   {
    "duration": 0,
    "start_time": "2023-10-29T02:48:46.508Z"
   },
   {
    "duration": 0,
    "start_time": "2023-10-29T02:48:46.509Z"
   },
   {
    "duration": 0,
    "start_time": "2023-10-29T02:48:46.510Z"
   },
   {
    "duration": 0,
    "start_time": "2023-10-29T02:48:46.511Z"
   },
   {
    "duration": 0,
    "start_time": "2023-10-29T02:48:46.513Z"
   },
   {
    "duration": 0,
    "start_time": "2023-10-29T02:48:46.514Z"
   },
   {
    "duration": 0,
    "start_time": "2023-10-29T02:48:46.516Z"
   },
   {
    "duration": 0,
    "start_time": "2023-10-29T02:48:46.517Z"
   },
   {
    "duration": 0,
    "start_time": "2023-10-29T02:48:46.518Z"
   },
   {
    "duration": 0,
    "start_time": "2023-10-29T02:48:46.519Z"
   },
   {
    "duration": 0,
    "start_time": "2023-10-29T02:48:46.520Z"
   },
   {
    "duration": 0,
    "start_time": "2023-10-29T02:48:46.522Z"
   },
   {
    "duration": 0,
    "start_time": "2023-10-29T02:48:46.523Z"
   },
   {
    "duration": 0,
    "start_time": "2023-10-29T02:48:46.524Z"
   },
   {
    "duration": 0,
    "start_time": "2023-10-29T02:48:46.526Z"
   },
   {
    "duration": 0,
    "start_time": "2023-10-29T02:48:46.527Z"
   },
   {
    "duration": 0,
    "start_time": "2023-10-29T02:48:46.527Z"
   },
   {
    "duration": 0,
    "start_time": "2023-10-29T02:48:46.529Z"
   },
   {
    "duration": 0,
    "start_time": "2023-10-29T02:48:46.530Z"
   },
   {
    "duration": 0,
    "start_time": "2023-10-29T02:48:46.530Z"
   },
   {
    "duration": 0,
    "start_time": "2023-10-29T02:48:46.531Z"
   },
   {
    "duration": 0,
    "start_time": "2023-10-29T02:48:46.532Z"
   },
   {
    "duration": 0,
    "start_time": "2023-10-29T02:48:46.534Z"
   },
   {
    "duration": 0,
    "start_time": "2023-10-29T02:48:46.535Z"
   },
   {
    "duration": 0,
    "start_time": "2023-10-29T02:48:46.536Z"
   },
   {
    "duration": 0,
    "start_time": "2023-10-29T02:48:46.537Z"
   },
   {
    "duration": 0,
    "start_time": "2023-10-29T02:48:46.538Z"
   },
   {
    "duration": 0,
    "start_time": "2023-10-29T02:48:46.539Z"
   },
   {
    "duration": 0,
    "start_time": "2023-10-29T02:48:46.540Z"
   },
   {
    "duration": 0,
    "start_time": "2023-10-29T02:48:46.541Z"
   },
   {
    "duration": 115,
    "start_time": "2023-10-29T02:49:19.930Z"
   },
   {
    "duration": 0,
    "start_time": "2023-10-29T02:49:20.047Z"
   },
   {
    "duration": 0,
    "start_time": "2023-10-29T02:49:20.049Z"
   },
   {
    "duration": 0,
    "start_time": "2023-10-29T02:49:20.050Z"
   },
   {
    "duration": 0,
    "start_time": "2023-10-29T02:49:20.051Z"
   },
   {
    "duration": 0,
    "start_time": "2023-10-29T02:49:20.053Z"
   },
   {
    "duration": 0,
    "start_time": "2023-10-29T02:49:20.054Z"
   },
   {
    "duration": 0,
    "start_time": "2023-10-29T02:49:20.055Z"
   },
   {
    "duration": 0,
    "start_time": "2023-10-29T02:49:20.057Z"
   },
   {
    "duration": 0,
    "start_time": "2023-10-29T02:49:20.058Z"
   },
   {
    "duration": 0,
    "start_time": "2023-10-29T02:49:20.059Z"
   },
   {
    "duration": 0,
    "start_time": "2023-10-29T02:49:20.060Z"
   },
   {
    "duration": 0,
    "start_time": "2023-10-29T02:49:20.061Z"
   },
   {
    "duration": 0,
    "start_time": "2023-10-29T02:49:20.062Z"
   },
   {
    "duration": 0,
    "start_time": "2023-10-29T02:49:20.063Z"
   },
   {
    "duration": 0,
    "start_time": "2023-10-29T02:49:20.065Z"
   },
   {
    "duration": 0,
    "start_time": "2023-10-29T02:49:20.066Z"
   },
   {
    "duration": 0,
    "start_time": "2023-10-29T02:49:20.066Z"
   },
   {
    "duration": 0,
    "start_time": "2023-10-29T02:49:20.068Z"
   },
   {
    "duration": 0,
    "start_time": "2023-10-29T02:49:20.069Z"
   },
   {
    "duration": 0,
    "start_time": "2023-10-29T02:49:20.070Z"
   },
   {
    "duration": 0,
    "start_time": "2023-10-29T02:49:20.071Z"
   },
   {
    "duration": 0,
    "start_time": "2023-10-29T02:49:20.072Z"
   },
   {
    "duration": 0,
    "start_time": "2023-10-29T02:49:20.073Z"
   },
   {
    "duration": 0,
    "start_time": "2023-10-29T02:49:20.074Z"
   },
   {
    "duration": 0,
    "start_time": "2023-10-29T02:49:20.076Z"
   },
   {
    "duration": 0,
    "start_time": "2023-10-29T02:49:20.107Z"
   },
   {
    "duration": 0,
    "start_time": "2023-10-29T02:49:20.108Z"
   },
   {
    "duration": 119,
    "start_time": "2023-10-29T02:49:20.111Z"
   },
   {
    "duration": 8,
    "start_time": "2023-10-29T02:49:20.231Z"
   },
   {
    "duration": 14,
    "start_time": "2023-10-29T02:49:20.240Z"
   },
   {
    "duration": 43,
    "start_time": "2023-10-29T02:49:58.032Z"
   },
   {
    "duration": 9,
    "start_time": "2023-10-29T02:49:58.077Z"
   },
   {
    "duration": 386,
    "start_time": "2023-10-29T02:49:58.088Z"
   },
   {
    "duration": 9,
    "start_time": "2023-10-29T02:49:58.475Z"
   },
   {
    "duration": 233,
    "start_time": "2023-10-29T02:49:58.486Z"
   },
   {
    "duration": 6,
    "start_time": "2023-10-29T02:49:58.720Z"
   },
   {
    "duration": 145,
    "start_time": "2023-10-29T02:49:58.727Z"
   },
   {
    "duration": 8,
    "start_time": "2023-10-29T02:49:58.874Z"
   },
   {
    "duration": 22239,
    "start_time": "2023-10-29T02:49:58.883Z"
   },
   {
    "duration": 6,
    "start_time": "2023-10-29T02:50:21.124Z"
   },
   {
    "duration": 1257,
    "start_time": "2023-10-29T02:50:21.132Z"
   },
   {
    "duration": 11,
    "start_time": "2023-10-29T02:50:22.391Z"
   },
   {
    "duration": 112,
    "start_time": "2023-10-29T02:50:22.407Z"
   },
   {
    "duration": 6,
    "start_time": "2023-10-29T02:50:22.522Z"
   },
   {
    "duration": 84,
    "start_time": "2023-10-29T02:50:22.530Z"
   },
   {
    "duration": 6,
    "start_time": "2023-10-29T02:50:22.616Z"
   },
   {
    "duration": 20,
    "start_time": "2023-10-29T02:50:22.624Z"
   },
   {
    "duration": 1135,
    "start_time": "2023-10-29T02:50:22.645Z"
   },
   {
    "duration": 11,
    "start_time": "2023-10-29T02:50:23.782Z"
   },
   {
    "duration": 416,
    "start_time": "2023-10-29T02:50:23.794Z"
   },
   {
    "duration": 10,
    "start_time": "2023-10-29T02:50:24.211Z"
   },
   {
    "duration": 412,
    "start_time": "2023-10-29T02:50:24.222Z"
   },
   {
    "duration": 290,
    "start_time": "2023-10-29T02:50:24.636Z"
   },
   {
    "duration": 7,
    "start_time": "2023-10-29T02:50:24.928Z"
   },
   {
    "duration": 13,
    "start_time": "2023-10-29T02:50:24.937Z"
   },
   {
    "duration": 122,
    "start_time": "2023-10-29T02:50:24.951Z"
   },
   {
    "duration": 113,
    "start_time": "2023-10-29T02:50:25.075Z"
   },
   {
    "duration": 8,
    "start_time": "2023-10-29T02:50:25.190Z"
   },
   {
    "duration": 10,
    "start_time": "2023-10-29T02:50:25.199Z"
   },
   {
    "duration": 1092,
    "start_time": "2023-10-29T14:22:08.320Z"
   },
   {
    "duration": 3,
    "start_time": "2023-10-29T14:22:09.414Z"
   },
   {
    "duration": 8665,
    "start_time": "2023-10-29T14:22:09.418Z"
   },
   {
    "duration": 216,
    "start_time": "2023-10-29T14:22:18.084Z"
   },
   {
    "duration": 15,
    "start_time": "2023-10-29T14:22:18.301Z"
   },
   {
    "duration": 69,
    "start_time": "2023-10-29T14:22:18.317Z"
   },
   {
    "duration": 6,
    "start_time": "2023-10-29T14:22:18.387Z"
   },
   {
    "duration": 72,
    "start_time": "2023-10-29T14:22:18.394Z"
   },
   {
    "duration": 5,
    "start_time": "2023-10-29T14:22:18.468Z"
   },
   {
    "duration": 103,
    "start_time": "2023-10-29T14:22:18.475Z"
   },
   {
    "duration": 5,
    "start_time": "2023-10-29T14:22:18.579Z"
   },
   {
    "duration": 83,
    "start_time": "2023-10-29T14:22:18.586Z"
   },
   {
    "duration": 5,
    "start_time": "2023-10-29T14:22:18.670Z"
   },
   {
    "duration": 39,
    "start_time": "2023-10-29T14:22:18.677Z"
   },
   {
    "duration": 6,
    "start_time": "2023-10-29T14:22:18.718Z"
   },
   {
    "duration": 56,
    "start_time": "2023-10-29T14:22:18.726Z"
   },
   {
    "duration": 5,
    "start_time": "2023-10-29T14:22:18.783Z"
   },
   {
    "duration": 99,
    "start_time": "2023-10-29T14:22:18.789Z"
   },
   {
    "duration": 5,
    "start_time": "2023-10-29T14:22:18.890Z"
   },
   {
    "duration": 393,
    "start_time": "2023-10-29T14:22:18.896Z"
   },
   {
    "duration": 10,
    "start_time": "2023-10-29T14:22:19.290Z"
   },
   {
    "duration": 123,
    "start_time": "2023-10-29T14:22:19.302Z"
   },
   {
    "duration": 5,
    "start_time": "2023-10-29T14:22:19.426Z"
   },
   {
    "duration": 243,
    "start_time": "2023-10-29T14:22:19.432Z"
   },
   {
    "duration": 0,
    "start_time": "2023-10-29T14:22:19.677Z"
   },
   {
    "duration": 0,
    "start_time": "2023-10-29T14:22:19.678Z"
   },
   {
    "duration": 0,
    "start_time": "2023-10-29T14:22:19.679Z"
   },
   {
    "duration": 0,
    "start_time": "2023-10-29T14:22:19.679Z"
   },
   {
    "duration": 0,
    "start_time": "2023-10-29T14:22:19.680Z"
   },
   {
    "duration": 0,
    "start_time": "2023-10-29T14:22:19.681Z"
   },
   {
    "duration": 0,
    "start_time": "2023-10-29T14:22:19.682Z"
   },
   {
    "duration": 0,
    "start_time": "2023-10-29T14:22:19.683Z"
   },
   {
    "duration": 0,
    "start_time": "2023-10-29T14:22:19.684Z"
   },
   {
    "duration": 0,
    "start_time": "2023-10-29T14:22:19.685Z"
   },
   {
    "duration": 0,
    "start_time": "2023-10-29T14:22:19.685Z"
   },
   {
    "duration": 0,
    "start_time": "2023-10-29T14:22:19.686Z"
   },
   {
    "duration": 0,
    "start_time": "2023-10-29T14:22:19.687Z"
   },
   {
    "duration": 0,
    "start_time": "2023-10-29T14:22:19.688Z"
   },
   {
    "duration": 0,
    "start_time": "2023-10-29T14:22:19.689Z"
   },
   {
    "duration": 0,
    "start_time": "2023-10-29T14:22:19.689Z"
   },
   {
    "duration": 0,
    "start_time": "2023-10-29T14:22:19.690Z"
   },
   {
    "duration": 0,
    "start_time": "2023-10-29T14:22:19.691Z"
   },
   {
    "duration": 0,
    "start_time": "2023-10-29T14:22:19.691Z"
   },
   {
    "duration": 0,
    "start_time": "2023-10-29T14:22:19.693Z"
   },
   {
    "duration": 0,
    "start_time": "2023-10-29T14:22:19.693Z"
   },
   {
    "duration": 0,
    "start_time": "2023-10-29T14:22:19.694Z"
   },
   {
    "duration": 0,
    "start_time": "2023-10-29T14:22:19.695Z"
   },
   {
    "duration": 0,
    "start_time": "2023-10-29T14:22:19.696Z"
   },
   {
    "duration": 0,
    "start_time": "2023-10-29T14:22:19.696Z"
   },
   {
    "duration": 0,
    "start_time": "2023-10-29T14:22:19.697Z"
   },
   {
    "duration": 0,
    "start_time": "2023-10-29T14:22:19.698Z"
   },
   {
    "duration": 0,
    "start_time": "2023-10-29T14:22:19.699Z"
   },
   {
    "duration": 0,
    "start_time": "2023-10-29T14:22:19.700Z"
   },
   {
    "duration": 0,
    "start_time": "2023-10-29T14:22:19.701Z"
   },
   {
    "duration": 0,
    "start_time": "2023-10-29T14:22:19.702Z"
   },
   {
    "duration": 0,
    "start_time": "2023-10-29T14:22:19.702Z"
   },
   {
    "duration": 9,
    "start_time": "2023-10-29T14:22:51.561Z"
   },
   {
    "duration": 104,
    "start_time": "2023-10-29T14:22:53.461Z"
   },
   {
    "duration": 7,
    "start_time": "2023-10-29T14:22:53.764Z"
   },
   {
    "duration": 43,
    "start_time": "2023-10-29T14:22:54.935Z"
   },
   {
    "duration": 10,
    "start_time": "2023-10-29T14:22:55.223Z"
   },
   {
    "duration": 407,
    "start_time": "2023-10-29T14:22:56.653Z"
   },
   {
    "duration": 7,
    "start_time": "2023-10-29T14:22:57.065Z"
   },
   {
    "duration": 236,
    "start_time": "2023-10-29T14:22:58.434Z"
   },
   {
    "duration": 5,
    "start_time": "2023-10-29T14:22:58.682Z"
   },
   {
    "duration": 143,
    "start_time": "2023-10-29T14:23:00.367Z"
   },
   {
    "duration": 8,
    "start_time": "2023-10-29T14:23:00.816Z"
   },
   {
    "duration": 21775,
    "start_time": "2023-10-29T14:23:02.300Z"
   },
   {
    "duration": 7,
    "start_time": "2023-10-29T14:23:24.077Z"
   },
   {
    "duration": 1131,
    "start_time": "2023-10-29T14:23:24.085Z"
   },
   {
    "duration": 12,
    "start_time": "2023-10-29T14:23:25.218Z"
   },
   {
    "duration": 96,
    "start_time": "2023-10-29T14:23:25.252Z"
   },
   {
    "duration": 19,
    "start_time": "2023-10-29T14:23:25.349Z"
   },
   {
    "duration": 61,
    "start_time": "2023-10-29T14:23:25.369Z"
   },
   {
    "duration": 6,
    "start_time": "2023-10-29T14:23:25.431Z"
   },
   {
    "duration": 19,
    "start_time": "2023-10-29T14:23:25.440Z"
   },
   {
    "duration": 1140,
    "start_time": "2023-10-29T14:23:25.461Z"
   },
   {
    "duration": 9,
    "start_time": "2023-10-29T14:23:26.603Z"
   },
   {
    "duration": 392,
    "start_time": "2023-10-29T14:23:26.613Z"
   },
   {
    "duration": 9,
    "start_time": "2023-10-29T14:23:27.007Z"
   },
   {
    "duration": 452,
    "start_time": "2023-10-29T14:23:27.017Z"
   },
   {
    "duration": 292,
    "start_time": "2023-10-29T14:23:27.471Z"
   },
   {
    "duration": 14,
    "start_time": "2023-10-29T14:23:27.765Z"
   },
   {
    "duration": 7,
    "start_time": "2023-10-29T14:23:27.780Z"
   },
   {
    "duration": 127,
    "start_time": "2023-10-29T14:23:27.788Z"
   },
   {
    "duration": 113,
    "start_time": "2023-10-29T14:23:27.916Z"
   },
   {
    "duration": 6,
    "start_time": "2023-10-29T14:23:28.030Z"
   },
   {
    "duration": 26,
    "start_time": "2023-10-29T14:23:28.038Z"
   },
   {
    "duration": 43,
    "start_time": "2023-10-29T14:41:00.161Z"
   },
   {
    "duration": 6,
    "start_time": "2023-10-29T14:41:20.366Z"
   },
   {
    "duration": 52,
    "start_time": "2023-10-29T14:41:32.853Z"
   },
   {
    "duration": 47,
    "start_time": "2023-10-29T14:41:35.521Z"
   },
   {
    "duration": 50,
    "start_time": "2023-10-29T14:41:36.207Z"
   },
   {
    "duration": 60,
    "start_time": "2023-10-29T14:42:01.976Z"
   },
   {
    "duration": 8,
    "start_time": "2023-10-29T14:42:03.818Z"
   },
   {
    "duration": 1138,
    "start_time": "2023-10-29T14:51:19.649Z"
   },
   {
    "duration": 3,
    "start_time": "2023-10-29T14:51:20.789Z"
   },
   {
    "duration": 8990,
    "start_time": "2023-10-29T14:51:20.793Z"
   },
   {
    "duration": 218,
    "start_time": "2023-10-29T14:51:29.785Z"
   },
   {
    "duration": 14,
    "start_time": "2023-10-29T14:51:30.005Z"
   },
   {
    "duration": 91,
    "start_time": "2023-10-29T14:51:30.020Z"
   },
   {
    "duration": 6,
    "start_time": "2023-10-29T14:51:30.112Z"
   },
   {
    "duration": 75,
    "start_time": "2023-10-29T14:51:30.119Z"
   },
   {
    "duration": 6,
    "start_time": "2023-10-29T14:51:30.195Z"
   },
   {
    "duration": 147,
    "start_time": "2023-10-29T14:51:30.203Z"
   },
   {
    "duration": 6,
    "start_time": "2023-10-29T14:51:30.354Z"
   },
   {
    "duration": 104,
    "start_time": "2023-10-29T14:51:30.361Z"
   },
   {
    "duration": 5,
    "start_time": "2023-10-29T14:51:30.466Z"
   },
   {
    "duration": 55,
    "start_time": "2023-10-29T14:51:30.472Z"
   },
   {
    "duration": 6,
    "start_time": "2023-10-29T14:51:30.529Z"
   },
   {
    "duration": 85,
    "start_time": "2023-10-29T14:51:30.536Z"
   },
   {
    "duration": 6,
    "start_time": "2023-10-29T14:51:30.622Z"
   },
   {
    "duration": 125,
    "start_time": "2023-10-29T14:51:30.630Z"
   },
   {
    "duration": 7,
    "start_time": "2023-10-29T14:51:30.756Z"
   },
   {
    "duration": 449,
    "start_time": "2023-10-29T14:51:30.764Z"
   },
   {
    "duration": 11,
    "start_time": "2023-10-29T14:51:31.214Z"
   },
   {
    "duration": 153,
    "start_time": "2023-10-29T14:51:31.226Z"
   },
   {
    "duration": 5,
    "start_time": "2023-10-29T14:51:31.380Z"
   },
   {
    "duration": 68,
    "start_time": "2023-10-29T14:51:31.386Z"
   },
   {
    "duration": 8,
    "start_time": "2023-10-29T14:51:31.455Z"
   },
   {
    "duration": 58,
    "start_time": "2023-10-29T14:51:31.464Z"
   },
   {
    "duration": 13,
    "start_time": "2023-10-29T14:51:31.523Z"
   },
   {
    "duration": 63,
    "start_time": "2023-10-29T14:51:31.540Z"
   },
   {
    "duration": 10,
    "start_time": "2023-10-29T14:51:31.605Z"
   },
   {
    "duration": 380,
    "start_time": "2023-10-29T14:51:31.617Z"
   },
   {
    "duration": 8,
    "start_time": "2023-10-29T14:51:31.998Z"
   },
   {
    "duration": 249,
    "start_time": "2023-10-29T14:51:32.008Z"
   },
   {
    "duration": 5,
    "start_time": "2023-10-29T14:51:32.259Z"
   },
   {
    "duration": 140,
    "start_time": "2023-10-29T14:51:32.266Z"
   },
   {
    "duration": 9,
    "start_time": "2023-10-29T14:51:32.408Z"
   },
   {
    "duration": 21870,
    "start_time": "2023-10-29T14:51:32.419Z"
   },
   {
    "duration": 6,
    "start_time": "2023-10-29T14:51:54.290Z"
   },
   {
    "duration": 1171,
    "start_time": "2023-10-29T14:51:54.297Z"
   },
   {
    "duration": 11,
    "start_time": "2023-10-29T14:51:55.469Z"
   },
   {
    "duration": 88,
    "start_time": "2023-10-29T14:51:55.481Z"
   },
   {
    "duration": 6,
    "start_time": "2023-10-29T14:51:55.570Z"
   },
   {
    "duration": 60,
    "start_time": "2023-10-29T14:51:55.577Z"
   },
   {
    "duration": 18,
    "start_time": "2023-10-29T14:51:55.639Z"
   },
   {
    "duration": 12,
    "start_time": "2023-10-29T14:51:55.658Z"
   },
   {
    "duration": 1062,
    "start_time": "2023-10-29T14:51:55.671Z"
   },
   {
    "duration": 19,
    "start_time": "2023-10-29T14:51:56.734Z"
   },
   {
    "duration": 398,
    "start_time": "2023-10-29T14:51:56.754Z"
   },
   {
    "duration": 10,
    "start_time": "2023-10-29T14:51:57.154Z"
   },
   {
    "duration": 406,
    "start_time": "2023-10-29T14:51:57.165Z"
   },
   {
    "duration": 286,
    "start_time": "2023-10-29T14:51:57.572Z"
   },
   {
    "duration": 7,
    "start_time": "2023-10-29T14:51:57.860Z"
   },
   {
    "duration": 21,
    "start_time": "2023-10-29T14:51:57.869Z"
   },
   {
    "duration": 122,
    "start_time": "2023-10-29T14:51:57.892Z"
   },
   {
    "duration": 117,
    "start_time": "2023-10-29T14:51:58.016Z"
   },
   {
    "duration": 18,
    "start_time": "2023-10-29T14:51:58.134Z"
   },
   {
    "duration": 9,
    "start_time": "2023-10-29T14:51:58.156Z"
   }
  ],
  "colab": {
   "provenance": []
  },
  "kernelspec": {
   "display_name": "Python 3 (ipykernel)",
   "language": "python",
   "name": "python3"
  },
  "language_info": {
   "codemirror_mode": {
    "name": "ipython",
    "version": 3
   },
   "file_extension": ".py",
   "mimetype": "text/x-python",
   "name": "python",
   "nbconvert_exporter": "python",
   "pygments_lexer": "ipython3",
   "version": "3.9.5"
  },
  "toc": {
   "base_numbering": 1,
   "nav_menu": {},
   "number_sections": true,
   "sideBar": true,
   "skip_h1_title": false,
   "title_cell": "Table of Contents",
   "title_sidebar": "Contents",
   "toc_cell": true,
   "toc_position": {
    "height": "calc(100% - 180px)",
    "left": "10px",
    "top": "150px",
    "width": "177.391px"
   },
   "toc_section_display": true,
   "toc_window_display": true
  }
 },
 "nbformat": 4,
 "nbformat_minor": 1
}
